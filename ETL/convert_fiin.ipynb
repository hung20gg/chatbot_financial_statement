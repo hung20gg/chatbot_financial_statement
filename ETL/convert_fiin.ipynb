{
 "cells": [
  {
   "cell_type": "code",
   "execution_count": 1,
   "metadata": {},
   "outputs": [],
   "source": [
    "import pandas as pd\n",
    "import numpy as np"
   ]
  },
  {
   "cell_type": "code",
   "execution_count": 2,
   "metadata": {},
   "outputs": [],
   "source": [
    "mapping_file = pd.ExcelFile('vietnames_to_fiin.xlsx')"
   ]
  },
  {
   "cell_type": "code",
   "execution_count": 3,
   "metadata": {},
   "outputs": [],
   "source": [
    "df_map_bank = mapping_file.parse('fiin_bank')\n",
    "df_map_sec = mapping_file.parse('fiin_sec')\n",
    "df_map_corp = mapping_file.parse('fiin_corp')"
   ]
  },
  {
   "cell_type": "code",
   "execution_count": 4,
   "metadata": {},
   "outputs": [],
   "source": [
    "df_map_tm_bank = mapping_file.parse('fiin_TM_bank')\n",
    "df_map_tm_sec = mapping_file.parse('fiin_TM_sec')\n",
    "df_map_tm_corp = mapping_file.parse('fiin_TM_corp')"
   ]
  },
  {
   "cell_type": "code",
   "execution_count": 26,
   "metadata": {},
   "outputs": [],
   "source": [
    "df_map_sec.dropna(subset=['category_code'], inplace=True)\n",
    "df_map_bank.dropna(subset=['category_code'], inplace=True)\n",
    "df_map_corp.dropna(subset=['category_code'], inplace=True)"
   ]
  },
  {
   "cell_type": "code",
   "execution_count": 6,
   "metadata": {},
   "outputs": [],
   "source": [
    "df_map_sec.to_csv('../csv/map_category_sec_v3.csv', index=False)\n",
    "df_map_bank.to_csv('../csv/map_category_bank_v3.csv', index=False)\n",
    "df_map_corp.to_csv('../csv/map_category_corp_v3.csv', index=False)"
   ]
  },
  {
   "cell_type": "code",
   "execution_count": 27,
   "metadata": {},
   "outputs": [],
   "source": [
    "df_bs = mapping_file.parse('Standard BS')\n",
    "df_is = mapping_file.parse('Standard IS')\n",
    "df_cf = mapping_file.parse('Standard CF')\n",
    "\n",
    "df_bs['Universal_caption'] = df_bs['Universal_caption'].apply(lambda x: f'(Balance sheet) {x}')\n",
    "df_is['Universal_caption'] = df_is['Universal_caption'].apply(lambda x: f'(Income statement) {x}')\n",
    "df_cf['Universal_caption'] = df_cf['Universal_caption'].apply(lambda x: f'(Cash flow) {x}')\n",
    "df = pd.concat([df_bs, df_is, df_cf], ignore_index=True)\n",
    "\n",
    "# df.to_csv('../csv/map_category_code_universal_v3.csv', index=False)"
   ]
  },
  {
   "cell_type": "code",
   "execution_count": 28,
   "metadata": {},
   "outputs": [],
   "source": [
    "def get_source(text):\n",
    "    if isinstance(text, str):\n",
    "        return text.split('_')[0]\n",
    "    return text\n",
    "\n",
    "df_map_bank['source'] = df_map_bank['category_code'].apply(get_source)\n",
    "df_map_sec['source'] = df_map_sec['category_code'].apply(get_source)    \n",
    "df_map_corp['source'] = df_map_corp['category_code'].apply(get_source)  "
   ]
  },
  {
   "cell_type": "code",
   "execution_count": 29,
   "metadata": {},
   "outputs": [],
   "source": [
    "df_map_bank_bs = df_map_bank[df_map_bank['source'] == 'BS']\n",
    "df_map_bank_is = df_map_bank[df_map_bank['source'] == 'IS']\n",
    "df_map_bank_cf = df_map_bank[df_map_bank['source'] == 'CF']\n",
    "\n",
    "df_map_corp_bs = df_map_corp[df_map_corp['source'] == 'BS']\n",
    "df_map_corp_is = df_map_corp[df_map_corp['source'] == 'IS']\n",
    "df_map_corp_cf = df_map_corp[df_map_corp['source'] == 'CF']\n",
    "\n",
    "df_map_sec_bs = df_map_sec[df_map_sec['source'] == 'BS']\n",
    "df_map_sec_is = df_map_sec[df_map_sec['source'] == 'IS']\n",
    "df_map_sec_cf = df_map_sec[df_map_sec['source'] == 'CF']\n"
   ]
  },
  {
   "cell_type": "code",
   "execution_count": 30,
   "metadata": {},
   "outputs": [],
   "source": [
    "bank_args = {\n",
    "    'Kết quả kinh doanh': {\n",
    "        'nrows': 30,\n",
    "        'mapping': df_map_bank_is\n",
    "    },\n",
    "    'Bảng cân đối kế toán': {\n",
    "        'nrows': 92,\n",
    "        'mapping': df_map_bank_bs\n",
    "    },\n",
    "    'Lưu chuyển tiền tệ': {\n",
    "        'nrows': 62,\n",
    "        'mapping': df_map_bank_cf\n",
    "    }\n",
    "    \n",
    "}\n",
    "\n",
    "corp_args = {\n",
    "    'Kết quả kinh doanh': {\n",
    "        'nrows': 29,\n",
    "        'mapping': df_map_corp_is\n",
    "    },\n",
    "    'Bảng cân đối kế toán': {\n",
    "        'nrows': 126,\n",
    "        'mapping': df_map_corp_bs\n",
    "    },\n",
    "    'Lưu chuyển tiền tệ': {\n",
    "        'nrows': 45,\n",
    "        'mapping': df_map_corp_cf\n",
    "    }\n",
    "    \n",
    "}\n",
    "\n",
    "sec_args = {\n",
    "    'Kết quả kinh doanh': {\n",
    "        'nrows': 93,\n",
    "        'mapping': df_map_sec_is\n",
    "    },\n",
    "    'Bảng cân đối kế toán': {\n",
    "        'nrows': 216,\n",
    "        'mapping': df_map_sec_bs\n",
    "    },\n",
    "    'Lưu chuyển tiền tệ': {\n",
    "        'nrows': 159,\n",
    "        'mapping': df_map_sec_cf\n",
    "    }\n",
    "    \n",
    "}"
   ]
  },
  {
   "cell_type": "code",
   "execution_count": 31,
   "metadata": {},
   "outputs": [],
   "source": [
    "\n",
    "def get_data(excel_file, type_):\n",
    "    \n",
    "    dfs = []\n",
    "    if type_ == 'bank':\n",
    "        args = bank_args\n",
    "    elif type_ == 'corp':\n",
    "        args = corp_args\n",
    "    else:\n",
    "        args = sec_args\n",
    "       \n",
    "    sheet_names = list(args.keys())\n",
    "    for sheet_name in sheet_names:\n",
    "\n",
    "        df_bs = excel_file.parse(\n",
    "            sheet_name = sheet_name,\n",
    "            skiprows=10,\n",
    "            nrows=args[sheet_name]['nrows'],\n",
    "        )\n",
    "\n",
    "        df_bs = df_bs.iloc[3:]\n",
    "        fiin_cate = df_bs['Chỉ tiêuTriệu VND'].values.tolist()\n",
    "        map_cate = args[sheet_name]['mapping'][['category_code', 'vi_caption']].values.tolist()\n",
    "\n",
    "        # Map the corresponding category code\n",
    "\n",
    "        map_index = 0\n",
    "        cate_index = 0\n",
    "        cate_code = []\n",
    "        for i in range(len(fiin_cate)):\n",
    "            cate_index = i\n",
    "            if fiin_cate[i] == map_cate[map_index][1]:\n",
    "                \n",
    "                cate_code.append(map_cate[map_index][0])\n",
    "                map_index += 1\n",
    "            else:\n",
    "                cate_code.append(np.nan)\n",
    "            if map_index == len(map_cate):\n",
    "                break\n",
    "            \n",
    "        cate_code.extend([np.nan]*(len(fiin_cate) - len(cate_code)))\n",
    "\n",
    "\n",
    "        df_bs['category_code'] = cate_code\n",
    "    #     dfs.append(df_bs)\n",
    "    # return dfs\n",
    "    \n",
    "        # Convert to table\n",
    "\n",
    "        table = []\n",
    "        df_bs.dropna(subset=['category_code'], inplace=True)\n",
    "\n",
    "        for index, row in df_bs.iterrows():\n",
    "            \n",
    "            for col in df_bs.columns:\n",
    "                if 'VND' in col or col == 'category_code':\n",
    "                    continue\n",
    "                \n",
    "                time = col \n",
    "                data = row[col]\n",
    "                cate = row['category_code']\n",
    "                \n",
    "                table.append([cate, time, data])\n",
    "                \n",
    "        df = pd.DataFrame(table, columns=['category_code', 'time', 'data'])\n",
    "        dfs.append(df)\n",
    "        \n",
    "    df = pd.concat(dfs)\n",
    "    return df"
   ]
  },
  {
   "cell_type": "code",
   "execution_count": 32,
   "metadata": {},
   "outputs": [],
   "source": [
    "non_bank_stock_code = [\"HSG\", \"ELC\", \"VSC\", \"ACV\", \"REE\", \"SZC\", \"CSV\", \"PAN\", \"BSR\", \"SGP\", \"GMD\", \"ITD\",\"FOX\", \"KDC\", \"SBT\", \"VGC\", \"HBC\", \"CTD\", \"DIG\", \"SCR\", \"KBC\",\"MWG\", \"NHA\", \"VNM\", \"HPG\", \"VHM\", \"PNJ\", \"YEG\", \"FPT\",\"MSN\", \"GAS\", \"VRE\", \"VJC\", \"VIC\", \"PLX\", \"SAB\", \"POW\", \"GVR\", \"BCM\", \"VPI\", \"DVM\", \"KDH\", \"HDC\", \"TCH\", \"CEO\", \"HUT\", \"NVL\", \"DBC\", \"SAF\", \"DHT\", \"VTP\", \"PVT\", \"FRT\", \"DGC\", \"DCM\", \"NKG\", \"CMG\", \"VGI\", \"PVC\", \"CAP\", \"DTD\", \"HLD\", \"L14\", \"L18\", \"LAS\", \"LHC\", \"NTP\", \"PLC\", \"PSD\", \"PVG\", \"PVS\", \"SLS\", \"TIG\", \"TMB\", \"TNG\", \"TVD\", \"VC3\", \"VCS\", \"DXG\"]\n",
    "bank_stock_code = [\"BID\", \"EIB\", \"OCB\", \"CTG\", \"VCB\", \"ACB\", \"MBB\", \"HDB\", \"TPB\", \"VPB\",  \"STB\", \"TCB\",  \"SHB\", \"VIB\", \"CTG\",  \"ABB\", \"LPB\", \"NVB\"]\n",
    "securities_stock_code = [\"MBS\", \"VND\", \"SSI\", \"VIX\", \"ORS\"]"
   ]
  },
  {
   "cell_type": "code",
   "execution_count": 39,
   "metadata": {},
   "outputs": [],
   "source": [
    "file_dir = \"../../fiin/year/FiinProX_DuLieuTaiChinh_BaoCaoTaiChinh_Yearly_{code}_20241218.xlsx\""
   ]
  },
  {
   "cell_type": "code",
   "execution_count": 37,
   "metadata": {},
   "outputs": [],
   "source": [
    "from tqdm import tqdm"
   ]
  },
  {
   "cell_type": "code",
   "execution_count": 40,
   "metadata": {},
   "outputs": [
    {
     "name": "stderr",
     "output_type": "stream",
     "text": [
      "100%|██████████| 79/79 [00:02<00:00, 27.14it/s]\n",
      "100%|██████████| 18/18 [00:00<00:00, 26.48it/s]\n"
     ]
    }
   ],
   "source": [
    "\n",
    "dfs_corp = []\n",
    "for code in tqdm(non_bank_stock_code):\n",
    "    \n",
    "    excel_file = pd.ExcelFile(file_dir.format(code=code), engine=\"openpyxl\")\n",
    "    df_corp_y = get_data(excel_file, 'corp')\n",
    "    df_corp_y['stock_code'] = code\n",
    "    dfs_corp.append(df_corp_y)\n",
    "    \n",
    "dfs_bank = []\n",
    "for code in tqdm(bank_stock_code):\n",
    "    excel_file = pd.ExcelFile(file_dir.format(code=code), engine=\"openpyxl\")\n",
    "    df_bank_y = get_data(excel_file, 'bank')\n",
    "    df_bank_y['stock_code'] = code\n",
    "    dfs_bank.append(df_bank_y)\n",
    "    \n",
    "dfs_sec = []\n",
    "for code in securities_stock_code:\n",
    "    excel_file = pd.ExcelFile(file_dir.format(code=code), engine=\"openpyxl\")\n",
    "    df_sec_y = get_data(excel_file, 'sec')\n",
    "    df_sec_y['stock_code'] = code\n",
    "    dfs_sec.append(df_sec_y)\n",
    "    "
   ]
  },
  {
   "cell_type": "code",
   "execution_count": 42,
   "metadata": {},
   "outputs": [
    {
     "name": "stderr",
     "output_type": "stream",
     "text": [
      "100%|██████████| 79/79 [00:05<00:00, 13.17it/s]\n",
      "100%|██████████| 18/18 [00:01<00:00, 14.34it/s]\n"
     ]
    }
   ],
   "source": [
    "file_dir_quarter = \"../../fiin/quarter/FiinProX_DuLieuTaiChinh_BaoCaoTaiChinh_Quarterly_{code}_20241218.xlsx\"\n",
    "\n",
    "for code in tqdm(non_bank_stock_code):\n",
    "    excel_file = pd.ExcelFile(file_dir_quarter.format(code=code), engine=\"openpyxl\")\n",
    "    df_corp_q = get_data(excel_file, 'corp')\n",
    "    df_corp_q['stock_code'] = code\n",
    "    dfs_corp.append(df_corp_q)\n",
    "    \n",
    "for code in tqdm(bank_stock_code):\n",
    "    excel_file = pd.ExcelFile(file_dir_quarter.format(code=code), engine=\"openpyxl\")\n",
    "    df_bank_q = get_data(excel_file, 'bank')\n",
    "    df_bank_q['stock_code'] = code\n",
    "    dfs_bank.append(df_bank_q)\n",
    "    \n",
    "for code in securities_stock_code:\n",
    "    excel_file = pd.ExcelFile(file_dir_quarter.format(code=code), engine=\"openpyxl\")\n",
    "    df_sec_q = get_data(excel_file, 'sec')\n",
    "    df_sec_q['stock_code'] = code\n",
    "    dfs_sec.append(df_sec_q)\n"
   ]
  },
  {
   "cell_type": "code",
   "execution_count": 43,
   "metadata": {},
   "outputs": [],
   "source": [
    "df_bank = pd.concat(dfs_bank)\n",
    "df_corp = pd.concat(dfs_corp)\n",
    "df_sec = pd.concat( dfs_sec)"
   ]
  },
  {
   "cell_type": "code",
   "execution_count": 44,
   "metadata": {},
   "outputs": [
    {
     "data": {
      "text/html": [
       "<div>\n",
       "<style scoped>\n",
       "    .dataframe tbody tr th:only-of-type {\n",
       "        vertical-align: middle;\n",
       "    }\n",
       "\n",
       "    .dataframe tbody tr th {\n",
       "        vertical-align: top;\n",
       "    }\n",
       "\n",
       "    .dataframe thead th {\n",
       "        text-align: right;\n",
       "    }\n",
       "</style>\n",
       "<table border=\"1\" class=\"dataframe\">\n",
       "  <thead>\n",
       "    <tr style=\"text-align: right;\">\n",
       "      <th></th>\n",
       "      <th>category_code</th>\n",
       "      <th>time</th>\n",
       "      <th>data</th>\n",
       "      <th>stock_code</th>\n",
       "    </tr>\n",
       "  </thead>\n",
       "  <tbody>\n",
       "    <tr>\n",
       "      <th>0</th>\n",
       "      <td>IS_003</td>\n",
       "      <td>2003</td>\n",
       "      <td>555890.0</td>\n",
       "      <td>BID</td>\n",
       "    </tr>\n",
       "    <tr>\n",
       "      <th>1</th>\n",
       "      <td>IS_003</td>\n",
       "      <td>2004</td>\n",
       "      <td>1913940.0</td>\n",
       "      <td>BID</td>\n",
       "    </tr>\n",
       "    <tr>\n",
       "      <th>2</th>\n",
       "      <td>IS_003</td>\n",
       "      <td>2005</td>\n",
       "      <td>2929368.0</td>\n",
       "      <td>BID</td>\n",
       "    </tr>\n",
       "    <tr>\n",
       "      <th>3</th>\n",
       "      <td>IS_003</td>\n",
       "      <td>2006</td>\n",
       "      <td>3350841.0</td>\n",
       "      <td>BID</td>\n",
       "    </tr>\n",
       "    <tr>\n",
       "      <th>4</th>\n",
       "      <td>IS_003</td>\n",
       "      <td>2007</td>\n",
       "      <td>4856449.0</td>\n",
       "      <td>BID</td>\n",
       "    </tr>\n",
       "    <tr>\n",
       "      <th>...</th>\n",
       "      <td>...</td>\n",
       "      <td>...</td>\n",
       "      <td>...</td>\n",
       "      <td>...</td>\n",
       "    </tr>\n",
       "    <tr>\n",
       "      <th>2470</th>\n",
       "      <td>CF_045</td>\n",
       "      <td>Q3/2023</td>\n",
       "      <td>10709418.0</td>\n",
       "      <td>NVB</td>\n",
       "    </tr>\n",
       "    <tr>\n",
       "      <th>2471</th>\n",
       "      <td>CF_045</td>\n",
       "      <td>Q4/2023</td>\n",
       "      <td>10996473.0</td>\n",
       "      <td>NVB</td>\n",
       "    </tr>\n",
       "    <tr>\n",
       "      <th>2472</th>\n",
       "      <td>CF_045</td>\n",
       "      <td>Q1/2024</td>\n",
       "      <td>11437155.0</td>\n",
       "      <td>NVB</td>\n",
       "    </tr>\n",
       "    <tr>\n",
       "      <th>2473</th>\n",
       "      <td>CF_045</td>\n",
       "      <td>Q2/2024</td>\n",
       "      <td>10333757.0</td>\n",
       "      <td>NVB</td>\n",
       "    </tr>\n",
       "    <tr>\n",
       "      <th>2474</th>\n",
       "      <td>CF_045</td>\n",
       "      <td>Q3/2024</td>\n",
       "      <td>14370606.0</td>\n",
       "      <td>NVB</td>\n",
       "    </tr>\n",
       "  </tbody>\n",
       "</table>\n",
       "<p>198329 rows × 4 columns</p>\n",
       "</div>"
      ],
      "text/plain": [
       "     category_code     time        data stock_code\n",
       "0           IS_003     2003    555890.0        BID\n",
       "1           IS_003     2004   1913940.0        BID\n",
       "2           IS_003     2005   2929368.0        BID\n",
       "3           IS_003     2006   3350841.0        BID\n",
       "4           IS_003     2007   4856449.0        BID\n",
       "...            ...      ...         ...        ...\n",
       "2470        CF_045  Q3/2023  10709418.0        NVB\n",
       "2471        CF_045  Q4/2023  10996473.0        NVB\n",
       "2472        CF_045  Q1/2024  11437155.0        NVB\n",
       "2473        CF_045  Q2/2024  10333757.0        NVB\n",
       "2474        CF_045  Q3/2024  14370606.0        NVB\n",
       "\n",
       "[198329 rows x 4 columns]"
      ]
     },
     "execution_count": 44,
     "metadata": {},
     "output_type": "execute_result"
    }
   ],
   "source": [
    "df_bank"
   ]
  },
  {
   "cell_type": "code",
   "execution_count": 45,
   "metadata": {},
   "outputs": [],
   "source": [
    "def get_quarter_time(text):\n",
    "    if '/' not in text:\n",
    "        return 0, int(text)\n",
    "    \n",
    "    quarter, year = text.split('/')\n",
    "    return int(quarter[1]), int(year)\n",
    "\n",
    "df_bank['quarter'], df_bank['year'] = zip(*df_bank['time'].apply(get_quarter_time))"
   ]
  },
  {
   "cell_type": "code",
   "execution_count": 46,
   "metadata": {},
   "outputs": [],
   "source": [
    "df_corp['quarter'], df_corp['year'] = zip(*df_corp['time'].apply(get_quarter_time))\n",
    "df_sec['quarter'], df_sec['year'] = zip(*df_sec['time'].apply(get_quarter_time))"
   ]
  },
  {
   "cell_type": "code",
   "execution_count": 56,
   "metadata": {},
   "outputs": [],
   "source": [
    "df_bank.drop(columns=['time'], inplace=True)\n",
    "df_corp.drop(columns=['time'], inplace=True)\n",
    "df_sec.drop(columns=['time'], inplace=True)"
   ]
  },
  {
   "cell_type": "code",
   "execution_count": 57,
   "metadata": {},
   "outputs": [],
   "source": [
    "quarter_to_month = {\n",
    "    0: 12,  # Quarter 0 is December of the same year\n",
    "    1: 3,\n",
    "    2: 6,\n",
    "    3: 9,\n",
    "    4: 12\n",
    "}\n",
    "\n",
    "df_sec['date_added'] = pd.to_datetime(df_sec.apply(lambda row: f\"{row['year']}-{quarter_to_month[row['quarter']]}-30\", axis=1))\n",
    "df_bank['date_added'] = pd.to_datetime(df_bank.apply(lambda row: f\"{row['year']}-{quarter_to_month[row['quarter']]}-30\", axis=1))\n",
    "df_corp['date_added'] = pd.to_datetime(df_corp.apply(lambda row: f\"{row['year']}-{quarter_to_month[row['quarter']]}-30\", axis=1))"
   ]
  },
  {
   "cell_type": "code",
   "execution_count": 62,
   "metadata": {},
   "outputs": [],
   "source": [
    "pivot_df  = df_bank[df_bank['category_code'].isin(['BS_310', 'BS_320', 'BS_321', 'BS_322', 'BS_330', 'BS_340', 'BS_350', 'BS_360'])].pivot_table(\n",
    "    index=[\"stock_code\", \"year\", \"quarter\", \"date_added\"], \n",
    "    columns=\"category_code\", \n",
    "    values=\"data\"\n",
    ").reset_index()\n",
    "\n",
    "pivot_df['BS_361'] = pivot_df['BS_310'] + pivot_df['BS_320'] + pivot_df['BS_321'] + pivot_df['BS_322'] + pivot_df['BS_330'] + pivot_df['BS_340'] + pivot_df['BS_350'] + pivot_df['BS_360']\n",
    "\n",
    "new_rows = pivot_df.melt(\n",
    "    id_vars=[\"stock_code\", \"year\", \"quarter\", \"date_added\"], \n",
    "    value_vars=[\"BS_361\"], \n",
    "    var_name=\"category_code\", \n",
    "    value_name=\"data\"\n",
    ")\n",
    "\n",
    "df_bank = pd.concat([df_bank, new_rows], ignore_index=True)\n",
    "# df_bank.to_parquet('../csv/bank_financial_report_v2_2.parquet', index=False)"
   ]
  },
  {
   "cell_type": "code",
   "execution_count": 64,
   "metadata": {},
   "outputs": [],
   "source": [
    "pivot_df = df_sec[df_sec['category_code'].isin(['IS_040.1', 'IS_050', 'IS_060', 'IS_061', 'IS_062'])].pivot_table(\n",
    "    index=[\"stock_code\", \"year\", \"quarter\", \"date_added\"], \n",
    "    columns=\"category_code\", \n",
    "    values=\"data\"\n",
    ").reset_index()\n",
    "\n",
    "pivot_df['IS_070'] = pivot_df['IS_040.1'] + pivot_df['IS_050'] - pivot_df['IS_060'] - pivot_df['IS_061'] - pivot_df['IS_062']\n",
    "\n",
    "new_rows = pivot_df.melt(\n",
    "    id_vars=[\"stock_code\", \"year\", \"quarter\", \"date_added\"], \n",
    "    value_vars=[\"IS_040.1\"], \n",
    "    var_name=\"category_code\", \n",
    "    value_name=\"data\"\n",
    ")\n",
    "df_sec = pd.concat([df_sec, new_rows], ignore_index=True)"
   ]
  },
  {
   "cell_type": "code",
   "execution_count": 66,
   "metadata": {},
   "outputs": [],
   "source": [
    "df_sec = df_sec[df_sec['year']>=2016]\n",
    "df_bank = df_bank[df_bank['year']>=2016]\n",
    "df_corp = df_corp[df_corp['year']>=2016]\n"
   ]
  },
  {
   "cell_type": "code",
   "execution_count": 67,
   "metadata": {},
   "outputs": [],
   "source": [
    "df_sec.fillna(0, inplace=True)\n",
    "df_bank.fillna(0, inplace=True)\n",
    "df_corp.fillna(0, inplace=True)"
   ]
  },
  {
   "cell_type": "code",
   "execution_count": 68,
   "metadata": {},
   "outputs": [],
   "source": [
    "df_sec.to_parquet('../csv/securities_financial_report_v3.parquet', index=False)\n",
    "df_bank.to_parquet('../csv/bank_financial_report_v3.parquet', index=False)\n",
    "df_corp.to_parquet('../csv/non_bank_financial_report_v3.parquet', index=False)"
   ]
  },
  {
   "cell_type": "code",
   "execution_count": 80,
   "metadata": {},
   "outputs": [],
   "source": [
    "df_ratio = pd.read_parquet('../csv/financial_ratio_v3.parquet')"
   ]
  },
  {
   "cell_type": "code",
   "execution_count": 70,
   "metadata": {},
   "outputs": [],
   "source": [
    "df_bank.rename(columns={'category_code': 'bank_code'}, inplace=True)\n",
    "df_sec.rename(columns={'category_code': 'sec_code'}, inplace=True)\n",
    "df_corp.rename(columns={'category_code': 'corp_code'}, inplace=True)"
   ]
  },
  {
   "cell_type": "code",
   "execution_count": 71,
   "metadata": {},
   "outputs": [],
   "source": [
    "df_sec = pd.merge(df_sec, df[['sec_code', 'universal_code']], how='left', on='sec_code')\n",
    "df_corp = pd.merge(df_corp, df[['corp_code', 'universal_code']], how='left', on='corp_code')\n",
    "df_bank = pd.merge(df_bank, df[['bank_code', 'universal_code']], how='left', on='bank_code')\n",
    "# df_bank.drop(columns=['bank_code'], inplace=True)\n",
    "# df_sec.drop(columns=['sec_code'], inplace=True)\n",
    "# df_corp.drop(columns=['corp_code'], inplace=True)\n",
    "df_bank.rename(columns={'bank_code': 'category_code'}, inplace=True)\n",
    "df_sec.rename(columns={'sec_code': 'category_code'}, inplace=True)\n",
    "df_corp.rename(columns={'corp_code': 'category_code'}, inplace=True)"
   ]
  },
  {
   "cell_type": "code",
   "execution_count": 72,
   "metadata": {},
   "outputs": [],
   "source": [
    "df_fs = pd.concat([df_bank, df_sec, df_corp], ignore_index=True)"
   ]
  },
  {
   "cell_type": "code",
   "execution_count": 74,
   "metadata": {},
   "outputs": [
    {
     "data": {
      "text/plain": [
       "category_code       0\n",
       "data                0\n",
       "stock_code          0\n",
       "quarter             0\n",
       "year                0\n",
       "date_added          0\n",
       "universal_code    215\n",
       "dtype: int64"
      ]
     },
     "execution_count": 74,
     "metadata": {},
     "output_type": "execute_result"
    }
   ],
   "source": [
    "df_fs.isna().sum()"
   ]
  },
  {
   "cell_type": "code",
   "execution_count": 75,
   "metadata": {},
   "outputs": [
    {
     "data": {
      "text/html": [
       "<div>\n",
       "<style scoped>\n",
       "    .dataframe tbody tr th:only-of-type {\n",
       "        vertical-align: middle;\n",
       "    }\n",
       "\n",
       "    .dataframe tbody tr th {\n",
       "        vertical-align: top;\n",
       "    }\n",
       "\n",
       "    .dataframe thead th {\n",
       "        text-align: right;\n",
       "    }\n",
       "</style>\n",
       "<table border=\"1\" class=\"dataframe\">\n",
       "  <thead>\n",
       "    <tr style=\"text-align: right;\">\n",
       "      <th></th>\n",
       "      <th>category_code</th>\n",
       "      <th>data</th>\n",
       "      <th>stock_code</th>\n",
       "      <th>quarter</th>\n",
       "      <th>year</th>\n",
       "      <th>date_added</th>\n",
       "      <th>universal_code</th>\n",
       "    </tr>\n",
       "  </thead>\n",
       "  <tbody>\n",
       "    <tr>\n",
       "      <th>115594</th>\n",
       "      <td>CF_002</td>\n",
       "      <td>72135.105403</td>\n",
       "      <td>MBS</td>\n",
       "      <td>0</td>\n",
       "      <td>2016</td>\n",
       "      <td>2016-12-30</td>\n",
       "      <td>NaN</td>\n",
       "    </tr>\n",
       "    <tr>\n",
       "      <th>115595</th>\n",
       "      <td>CF_002</td>\n",
       "      <td>291083.138880</td>\n",
       "      <td>MBS</td>\n",
       "      <td>0</td>\n",
       "      <td>2017</td>\n",
       "      <td>2017-12-30</td>\n",
       "      <td>NaN</td>\n",
       "    </tr>\n",
       "    <tr>\n",
       "      <th>115596</th>\n",
       "      <td>CF_002</td>\n",
       "      <td>267197.150144</td>\n",
       "      <td>MBS</td>\n",
       "      <td>0</td>\n",
       "      <td>2018</td>\n",
       "      <td>2018-12-30</td>\n",
       "      <td>NaN</td>\n",
       "    </tr>\n",
       "    <tr>\n",
       "      <th>115597</th>\n",
       "      <td>CF_002</td>\n",
       "      <td>102138.983852</td>\n",
       "      <td>MBS</td>\n",
       "      <td>0</td>\n",
       "      <td>2019</td>\n",
       "      <td>2019-12-30</td>\n",
       "      <td>NaN</td>\n",
       "    </tr>\n",
       "    <tr>\n",
       "      <th>115598</th>\n",
       "      <td>CF_002</td>\n",
       "      <td>126894.184265</td>\n",
       "      <td>MBS</td>\n",
       "      <td>0</td>\n",
       "      <td>2020</td>\n",
       "      <td>2020-12-30</td>\n",
       "      <td>NaN</td>\n",
       "    </tr>\n",
       "    <tr>\n",
       "      <th>...</th>\n",
       "      <td>...</td>\n",
       "      <td>...</td>\n",
       "      <td>...</td>\n",
       "      <td>...</td>\n",
       "      <td>...</td>\n",
       "      <td>...</td>\n",
       "      <td>...</td>\n",
       "    </tr>\n",
       "    <tr>\n",
       "      <th>161137</th>\n",
       "      <td>CF_002</td>\n",
       "      <td>112484.132802</td>\n",
       "      <td>ORS</td>\n",
       "      <td>3</td>\n",
       "      <td>2023</td>\n",
       "      <td>2023-09-30</td>\n",
       "      <td>NaN</td>\n",
       "    </tr>\n",
       "    <tr>\n",
       "      <th>161138</th>\n",
       "      <td>CF_002</td>\n",
       "      <td>126391.229291</td>\n",
       "      <td>ORS</td>\n",
       "      <td>4</td>\n",
       "      <td>2023</td>\n",
       "      <td>2023-12-30</td>\n",
       "      <td>NaN</td>\n",
       "    </tr>\n",
       "    <tr>\n",
       "      <th>161139</th>\n",
       "      <td>CF_002</td>\n",
       "      <td>84385.968936</td>\n",
       "      <td>ORS</td>\n",
       "      <td>1</td>\n",
       "      <td>2024</td>\n",
       "      <td>2024-03-30</td>\n",
       "      <td>NaN</td>\n",
       "    </tr>\n",
       "    <tr>\n",
       "      <th>161140</th>\n",
       "      <td>CF_002</td>\n",
       "      <td>128185.117730</td>\n",
       "      <td>ORS</td>\n",
       "      <td>2</td>\n",
       "      <td>2024</td>\n",
       "      <td>2024-06-30</td>\n",
       "      <td>NaN</td>\n",
       "    </tr>\n",
       "    <tr>\n",
       "      <th>161141</th>\n",
       "      <td>CF_002</td>\n",
       "      <td>144886.398491</td>\n",
       "      <td>ORS</td>\n",
       "      <td>3</td>\n",
       "      <td>2024</td>\n",
       "      <td>2024-09-30</td>\n",
       "      <td>NaN</td>\n",
       "    </tr>\n",
       "  </tbody>\n",
       "</table>\n",
       "<p>215 rows × 7 columns</p>\n",
       "</div>"
      ],
      "text/plain": [
       "       category_code           data stock_code  quarter  year date_added  \\\n",
       "115594        CF_002   72135.105403        MBS        0  2016 2016-12-30   \n",
       "115595        CF_002  291083.138880        MBS        0  2017 2017-12-30   \n",
       "115596        CF_002  267197.150144        MBS        0  2018 2018-12-30   \n",
       "115597        CF_002  102138.983852        MBS        0  2019 2019-12-30   \n",
       "115598        CF_002  126894.184265        MBS        0  2020 2020-12-30   \n",
       "...              ...            ...        ...      ...   ...        ...   \n",
       "161137        CF_002  112484.132802        ORS        3  2023 2023-09-30   \n",
       "161138        CF_002  126391.229291        ORS        4  2023 2023-12-30   \n",
       "161139        CF_002   84385.968936        ORS        1  2024 2024-03-30   \n",
       "161140        CF_002  128185.117730        ORS        2  2024 2024-06-30   \n",
       "161141        CF_002  144886.398491        ORS        3  2024 2024-09-30   \n",
       "\n",
       "       universal_code  \n",
       "115594            NaN  \n",
       "115595            NaN  \n",
       "115596            NaN  \n",
       "115597            NaN  \n",
       "115598            NaN  \n",
       "...               ...  \n",
       "161137            NaN  \n",
       "161138            NaN  \n",
       "161139            NaN  \n",
       "161140            NaN  \n",
       "161141            NaN  \n",
       "\n",
       "[215 rows x 7 columns]"
      ]
     },
     "execution_count": 75,
     "metadata": {},
     "output_type": "execute_result"
    }
   ],
   "source": [
    "df_fs[df_fs['universal_code'].isnull()]"
   ]
  },
  {
   "cell_type": "code",
   "execution_count": 76,
   "metadata": {},
   "outputs": [],
   "source": [
    "df_fs.dropna(subset=['universal_code'], inplace=True)"
   ]
  },
  {
   "cell_type": "code",
   "execution_count": 79,
   "metadata": {},
   "outputs": [],
   "source": [
    "df_fs.to_parquet('../csv/financial_statement_v3.parquet', index=False)"
   ]
  },
  {
   "cell_type": "code",
   "execution_count": 3,
   "metadata": {},
   "outputs": [],
   "source": [
    "# import pandas as pd\n",
    "# df = pd.read_csv('../csv/map_category_code_universal_v3.csv')\n",
    "# df.drop(columns=['Unnamed: 8'], inplace=True)\n",
    "# df.to_csv('../csv/map_category_code_universal_v3.csv', index=False)"
   ]
  },
  {
   "cell_type": "code",
   "execution_count": null,
   "metadata": {},
   "outputs": [],
   "source": []
  },
  {
   "cell_type": "code",
   "execution_count": 6,
   "metadata": {},
   "outputs": [],
   "source": [
    "def get_tm(excel_file, _type):\n",
    "    "
   ]
  },
  {
   "cell_type": "code",
   "execution_count": null,
   "metadata": {},
   "outputs": [],
   "source": []
  }
 ],
 "metadata": {
  "kernelspec": {
   "display_name": "env",
   "language": "python",
   "name": "python3"
  },
  "language_info": {
   "codemirror_mode": {
    "name": "ipython",
    "version": 3
   },
   "file_extension": ".py",
   "mimetype": "text/x-python",
   "name": "python",
   "nbconvert_exporter": "python",
   "pygments_lexer": "ipython3",
   "version": "3.11.6"
  }
 },
 "nbformat": 4,
 "nbformat_minor": 2
}
