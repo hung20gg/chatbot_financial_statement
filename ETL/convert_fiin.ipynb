{
 "cells": [
  {
   "cell_type": "code",
   "execution_count": 1,
   "metadata": {},
   "outputs": [],
   "source": [
    "import pandas as pd\n",
    "import numpy as np\n",
    "mapping_file = pd.ExcelFile('vietnames_to_fiin.xlsx')"
   ]
  },
  {
   "cell_type": "code",
   "execution_count": null,
   "metadata": {},
   "outputs": [],
   "source": []
  },
  {
   "cell_type": "code",
   "execution_count": 2,
   "metadata": {},
   "outputs": [],
   "source": [
    "df_map_bank = mapping_file.parse('fiin_bank')\n",
    "df_map_sec = mapping_file.parse('fiin_sec')\n",
    "df_map_corp = mapping_file.parse('fiin_corp')"
   ]
  },
  {
   "cell_type": "code",
   "execution_count": 3,
   "metadata": {},
   "outputs": [],
   "source": [
    "df_map_tm_bank = mapping_file.parse('fiin_TM_bank')\n",
    "df_map_tm_sec = mapping_file.parse('fiin_TM_sec')\n",
    "df_map_tm_corp = mapping_file.parse('fiin_TM_corp')"
   ]
  },
  {
   "cell_type": "code",
   "execution_count": 4,
   "metadata": {},
   "outputs": [],
   "source": [
    "df_map_sec.dropna(subset=['category_code'], inplace=True)\n",
    "df_map_bank.dropna(subset=['category_code'], inplace=True)\n",
    "df_map_corp.dropna(subset=['category_code'], inplace=True)"
   ]
  },
  {
   "cell_type": "code",
   "execution_count": 5,
   "metadata": {},
   "outputs": [
    {
     "data": {
      "application/vnd.microsoft.datawrangler.viewer.v0+json": {
       "columns": [
        {
         "name": "index",
         "rawType": "int64",
         "type": "integer"
        },
        {
         "name": "old_caption",
         "rawType": "object",
         "type": "unknown"
        },
        {
         "name": "category_code",
         "rawType": "object",
         "type": "string"
        },
        {
         "name": "vi_caption",
         "rawType": "object",
         "type": "string"
        },
        {
         "name": "en_caption",
         "rawType": "object",
         "type": "string"
        }
       ],
       "conversionMethod": "pd.DataFrame",
       "ref": "de547f78-0ffc-469c-af11-4b21ac1e8cfc",
       "rows": [
        [
         "0",
         "TỔNG TÀI SẢN CÓ",
         "BS_300",
         "TỔNG TÀI SẢN",
         "TOTAL ASSETS"
        ],
        [
         "1",
         "I.Tiền mặt, vàng bạc, đá quý",
         "BS_110",
         "     Tiền mặt, vàng bạc, đá quý",
         "Cash, gold, silver, and precious stones"
        ],
        [
         "2",
         "II.Tiền gửi tại Ngân hàng Nhà nước",
         "BS_120",
         "     Tiền gửi tại Ngân hàng nhà nước Việt Nam",
         "Deposits at the State Bank of Vietnam"
        ],
        [
         "3",
         "III. Tiền gửi và cho vay các tổ chức tín dụng khác",
         "BS_130",
         "     Tiền gửi tại các TCTD khác và cho vay các TCTD khác",
         "Deposits at and loans to other credit institutions"
        ],
        [
         "4",
         "1.Tiền gửi tại các tổ chức tín dụng khác",
         "BS_131",
         "          Tiền gửi tại các TCTD khác",
         "Deposits at other credit institutions"
        ],
        [
         "5",
         "2.Cho vay các tổ chức tín dụng khác",
         "BS_132",
         "          Cho vay các TCTD khác",
         "Loans to other credit institutions"
        ],
        [
         "6",
         "3.Dự phòng rủi ro cho vay các tổ chức tín dụng khác",
         "BS_139",
         "          Dự phòng rủi ro",
         "Allowance for credit losses"
        ],
        [
         "7",
         "IV.Chứng khoán kinh doanh",
         "BS_140",
         "     Chứng khoán kinh doanh",
         "Trading securities"
        ],
        [
         "8",
         "1.Chứng khoán kinh doanh",
         "BS_141",
         "          Chứng khoán kinh doanh",
         "Trading securities"
        ],
        [
         "9",
         "2.Dự phòng giảm giá chứng khoán kinh doanh",
         "BS_149",
         "          Dự phòng giảm giá chứng khoán kinh doanh",
         "Provision for impairment of trading securities"
        ],
        [
         "10",
         "V.Các công cụ tài chính phái sinh và các tài sản tài chính khác",
         "BS_150",
         "     Các công cụ tài chính phái sinh và các tài sản tài chính khác",
         "Derivative financial instruments and other financial assets"
        ],
        [
         "11",
         "VI.Cho vay khách hàng",
         "BS_160",
         "     Cho vay khách hàng",
         "Loans to customers"
        ],
        [
         "12",
         "1.Cho vay khách hàng",
         "BS_161",
         "          Cho vay khách hàng",
         "Loans to customers"
        ],
        [
         "13",
         "2.Dự phòng rủi ro cho vay khách hàng",
         "BS_169",
         "          Dự phòng rủi ro cho vay khách hàng",
         "Allowance for loan losses"
        ],
        [
         "14",
         "VII. Hoạt động mua nợ",
         "BS_180",
         "     Hoạt động mua nợ",
         "Debt purchase activities"
        ],
        [
         "15",
         "1. Mua nợ",
         "BS_181",
         "          Mua nợ",
         "Debt purchases"
        ],
        [
         "16",
         "2. Dự phòng rủi ro hoạt động mua nợ",
         "BS_189",
         "          Dự phòng rủi ro hoạt động mua nợ",
         "Allowance for impairment of debt purchase activities"
        ],
        [
         "17",
         "VIII.Chứng khoán đầu tư",
         "BS_170",
         "     Chứng khoán đầu tư",
         "Investment securities"
        ],
        [
         "18",
         "1.Chứng khoán đầu tư sẵn sàng để bán",
         "BS_171",
         "          Chứng khoán đầu tư sẵn sàng để bán",
         "Available-for-sale securities"
        ],
        [
         "19",
         "2.Chứng khoán đầu tư giữ đến ngày đáo hạn",
         "BS_172",
         "          Chứng khoán đầu tư giữ đến ngày đáo hạn",
         "Held-to-maturity securities"
        ],
        [
         "20",
         "3.Dự phòng giảm giá chứng khoán đầu tư",
         "BS_179",
         "          Dự phòng giảm giá chứng khoán đầu tư",
         "Provision for impairment of investment securities"
        ],
        [
         "21",
         "IX.Góp vốn đầu tư dài hạn",
         "BS_210",
         "     Góp vốn, đầu tư dài hạn",
         "Long-term investments"
        ],
        [
         "22",
         "1.Đầu tư vào công ty con",
         "BS_211",
         "          Đầu tư vào công ty con",
         "Investments in subsidiaries"
        ],
        [
         "23",
         null,
         "BS_211.1",
         "          Đầu tư vào công ty liên doanh",
         "Investments in joint ventures"
        ],
        [
         "24",
         "2.Vốn góp liên doanh",
         "BS_212",
         "               Vốn Góp liên doanh",
         "Capital contribution to joint ventures"
        ],
        [
         "25",
         "3.Đầu tư vào công ty liên kết",
         "BS_213",
         "               Đầu tư vào công ty liên kết",
         "Investments in associates"
        ],
        [
         "26",
         "4.Đầu tư dài hạn khác",
         "BS_214",
         "          Đầu tư dài hạn khác",
         "Other long-term investments"
        ],
        [
         "27",
         "5.Dự phòng giảm giá đầu tư dài hạn",
         "BS_219",
         "          Dự phòng giảm giá đầu tư dài hạn",
         "Provision for impairment of long-term investments"
        ],
        [
         "28",
         "X.Tài sản cố định",
         "BS_220",
         "     Tài sản cố định",
         "Fixed assets"
        ],
        [
         "29",
         "1.Tài sản cố định hữu hình",
         "BS_221",
         "          Tài sản cố định hữu hình",
         "Tangible fixed assets"
        ],
        [
         "30",
         "a.Nguyên giá tài sản cố định hữu hình",
         "BS_222",
         "               Nguyên giá TSCĐ",
         "Cost of tangible fixed assets"
        ],
        [
         "31",
         "b.Hao mòn tài sản cố định hữu hình",
         "BS_223",
         "               Hao mòn TSCĐ",
         "Accumulated depreciation of tangible fixed assets"
        ],
        [
         "32",
         "2.Tài sản cố định thuê tài chính",
         "BS_224",
         "          Tài sản cố định thuê tài chính",
         "Finance lease assets"
        ],
        [
         "33",
         "a.Nguyên giá tài sản cố định thuê tài chính",
         "BS_225",
         "               Nguyên giá TSCĐ",
         "Cost of finance lease assets"
        ],
        [
         "34",
         "b.Hao mòn tài sản cố định thuê tài chính",
         "BS_226",
         "               Hao mòn TSCĐ",
         "Accumulated depreciation of finance lease assets"
        ],
        [
         "35",
         "3.Tài sản cố định vô hình",
         "BS_227",
         "          Tài sản cố định vô hình",
         "Intangible fixed assets"
        ],
        [
         "36",
         "a.Nguyên giá tài sản cố định vô hình",
         "BS_228",
         "               Nguyên giá TSCĐ",
         "Cost of intangible fixed assets"
        ],
        [
         "37",
         "b.Hao mòn tài sản cố định vô hình",
         "BS_229",
         "               Hao mòn TSCĐ",
         "Accumulated amortization of intangible fixed assets"
        ],
        [
         "38",
         "XI. Bất động sản đầu tư",
         "BS_240",
         "     Bất động sản đầu tư",
         "Investment property"
        ],
        [
         "39",
         "a.Nguyên giá bất động sản đầu tư",
         "BS_241",
         "          Nguyên giá bất động sản đầu tư",
         "Cost of investment property"
        ],
        [
         "40",
         "b.Hao mòn bất động sản đầu tư",
         "BS_242",
         "          Hao mòn bất động sản đầu tư",
         "Accumulated depreciation of investment property"
        ],
        [
         "41",
         "XII.Tài sản có khác",
         "BS_250",
         "     Tài sản Có khác",
         "Other assets"
        ],
        [
         "42",
         "1.Các khoản phải thu",
         "BS_251",
         "          Các khoản phải thu",
         "Receivables"
        ],
        [
         "43",
         "2.Các khoản lãi và chi phí phải thu",
         "BS_252",
         "          Các khoản lãi và phí phải thu",
         "Accrued interest and fees receivable"
        ],
        [
         "44",
         "3.Tài sản thuế TNDN hoãn lại",
         "BS_253",
         "          Tài sản thuế TNDN hoãn lại",
         "Deferred tax assets"
        ],
        [
         "45",
         "4.Tài sản có khác",
         "BS_254",
         "          Tài sản Có khác",
         "Other assets"
        ],
        [
         "46",
         "- Trong đó lợi thế thương mại",
         "BS_255",
         "          Trong đó: Lợi thế thương mại",
         "Of which: Goodwill"
        ],
        [
         "47",
         "5. Các khoản dự phòng rủi ro cho các tài sản Có nội bảng khác",
         "BS_259",
         "          Các khoản dự phòng rủi ro cho các tài sản Có nội bảng khác",
         "Allowance for other on-balance sheet asset risks"
        ],
        [
         "48",
         "TỔNG NỢ PHẢI TRẢ VÀ VỐN CHỦ SỞ HỮU",
         "BS_800",
         "NỢ PHẢI TRẢ VÀ VỐN CHỦ SỞ HỮU",
         "LIABILITIES AND EQUITY"
        ],
        [
         "49",
         "TỔNG NỢ PHẢI TRẢ",
         "BS_400",
         "     Tổng nợ phải trả",
         "Total liabilities"
        ]
       ],
       "shape": {
        "columns": 4,
        "rows": 149
       }
      },
      "text/html": [
       "<div>\n",
       "<style scoped>\n",
       "    .dataframe tbody tr th:only-of-type {\n",
       "        vertical-align: middle;\n",
       "    }\n",
       "\n",
       "    .dataframe tbody tr th {\n",
       "        vertical-align: top;\n",
       "    }\n",
       "\n",
       "    .dataframe thead th {\n",
       "        text-align: right;\n",
       "    }\n",
       "</style>\n",
       "<table border=\"1\" class=\"dataframe\">\n",
       "  <thead>\n",
       "    <tr style=\"text-align: right;\">\n",
       "      <th></th>\n",
       "      <th>old_caption</th>\n",
       "      <th>category_code</th>\n",
       "      <th>vi_caption</th>\n",
       "      <th>en_caption</th>\n",
       "    </tr>\n",
       "  </thead>\n",
       "  <tbody>\n",
       "    <tr>\n",
       "      <th>0</th>\n",
       "      <td>TỔNG TÀI SẢN CÓ</td>\n",
       "      <td>BS_300</td>\n",
       "      <td>TỔNG TÀI SẢN</td>\n",
       "      <td>TOTAL ASSETS</td>\n",
       "    </tr>\n",
       "    <tr>\n",
       "      <th>1</th>\n",
       "      <td>I.Tiền mặt, vàng bạc, đá quý</td>\n",
       "      <td>BS_110</td>\n",
       "      <td>Tiền mặt, vàng bạc, đá quý</td>\n",
       "      <td>Cash, gold, silver, and precious stones</td>\n",
       "    </tr>\n",
       "    <tr>\n",
       "      <th>2</th>\n",
       "      <td>II.Tiền gửi tại Ngân hàng Nhà nước</td>\n",
       "      <td>BS_120</td>\n",
       "      <td>Tiền gửi tại Ngân hàng nhà nước Việt Nam</td>\n",
       "      <td>Deposits at the State Bank of Vietnam</td>\n",
       "    </tr>\n",
       "    <tr>\n",
       "      <th>3</th>\n",
       "      <td>III. Tiền gửi và cho vay các tổ chức tín dụng ...</td>\n",
       "      <td>BS_130</td>\n",
       "      <td>Tiền gửi tại các TCTD khác và cho vay các...</td>\n",
       "      <td>Deposits at and loans to other credit institut...</td>\n",
       "    </tr>\n",
       "    <tr>\n",
       "      <th>4</th>\n",
       "      <td>1.Tiền gửi tại các tổ chức tín dụng khác</td>\n",
       "      <td>BS_131</td>\n",
       "      <td>Tiền gửi tại các TCTD khác</td>\n",
       "      <td>Deposits at other credit institutions</td>\n",
       "    </tr>\n",
       "    <tr>\n",
       "      <th>...</th>\n",
       "      <td>...</td>\n",
       "      <td>...</td>\n",
       "      <td>...</td>\n",
       "      <td>...</td>\n",
       "    </tr>\n",
       "    <tr>\n",
       "      <th>146</th>\n",
       "      <td>V. Tiền và các khoản tương đương tiền tại thời...</td>\n",
       "      <td>CF_043</td>\n",
       "      <td>Tiền và các khoản tương đương tiền tài thời đi...</td>\n",
       "      <td>Cash and cash equivalents at the beginning of ...</td>\n",
       "    </tr>\n",
       "    <tr>\n",
       "      <th>147</th>\n",
       "      <td>VI. Điều chỉnh ảnh hưởng của thay đổi tỷ giá</td>\n",
       "      <td>CF_044</td>\n",
       "      <td>Điều chỉnh ảnh hưởng của thay đổi tỷ giá</td>\n",
       "      <td>Adjustment for the effects of exchange rate ch...</td>\n",
       "    </tr>\n",
       "    <tr>\n",
       "      <th>148</th>\n",
       "      <td>VII. Tiền và các khoản tương đương tiền tại th...</td>\n",
       "      <td>CF_045</td>\n",
       "      <td>Tiền và các khoản tương đương tiền tại thời đi...</td>\n",
       "      <td>Cash and cash equivalents at the end of the pe...</td>\n",
       "    </tr>\n",
       "    <tr>\n",
       "      <th>149</th>\n",
       "      <td>Nợ ngắn hạn</td>\n",
       "      <td>BS_361</td>\n",
       "      <td>Nợ ngắn hạn</td>\n",
       "      <td>Current liabilities</td>\n",
       "    </tr>\n",
       "    <tr>\n",
       "      <th>150</th>\n",
       "      <td>Dư nợ tín dụng</td>\n",
       "      <td>BS_200</td>\n",
       "      <td>Dư nợ tín dụng</td>\n",
       "      <td>Outstanding Credit Balance</td>\n",
       "    </tr>\n",
       "  </tbody>\n",
       "</table>\n",
       "<p>149 rows × 4 columns</p>\n",
       "</div>"
      ],
      "text/plain": [
       "                                           old_caption category_code  \\\n",
       "0                                      TỔNG TÀI SẢN CÓ        BS_300   \n",
       "1                         I.Tiền mặt, vàng bạc, đá quý        BS_110   \n",
       "2                   II.Tiền gửi tại Ngân hàng Nhà nước        BS_120   \n",
       "3    III. Tiền gửi và cho vay các tổ chức tín dụng ...        BS_130   \n",
       "4             1.Tiền gửi tại các tổ chức tín dụng khác        BS_131   \n",
       "..                                                 ...           ...   \n",
       "146  V. Tiền và các khoản tương đương tiền tại thời...        CF_043   \n",
       "147       VI. Điều chỉnh ảnh hưởng của thay đổi tỷ giá        CF_044   \n",
       "148  VII. Tiền và các khoản tương đương tiền tại th...        CF_045   \n",
       "149                                        Nợ ngắn hạn        BS_361   \n",
       "150                                     Dư nợ tín dụng        BS_200   \n",
       "\n",
       "                                            vi_caption  \\\n",
       "0                                         TỔNG TÀI SẢN   \n",
       "1                           Tiền mặt, vàng bạc, đá quý   \n",
       "2             Tiền gửi tại Ngân hàng nhà nước Việt Nam   \n",
       "3         Tiền gửi tại các TCTD khác và cho vay các...   \n",
       "4                           Tiền gửi tại các TCTD khác   \n",
       "..                                                 ...   \n",
       "146  Tiền và các khoản tương đương tiền tài thời đi...   \n",
       "147           Điều chỉnh ảnh hưởng của thay đổi tỷ giá   \n",
       "148  Tiền và các khoản tương đương tiền tại thời đi...   \n",
       "149                                        Nợ ngắn hạn   \n",
       "150                                     Dư nợ tín dụng   \n",
       "\n",
       "                                            en_caption  \n",
       "0                                         TOTAL ASSETS  \n",
       "1              Cash, gold, silver, and precious stones  \n",
       "2                Deposits at the State Bank of Vietnam  \n",
       "3    Deposits at and loans to other credit institut...  \n",
       "4                Deposits at other credit institutions  \n",
       "..                                                 ...  \n",
       "146  Cash and cash equivalents at the beginning of ...  \n",
       "147  Adjustment for the effects of exchange rate ch...  \n",
       "148  Cash and cash equivalents at the end of the pe...  \n",
       "149                                Current liabilities  \n",
       "150                         Outstanding Credit Balance  \n",
       "\n",
       "[149 rows x 4 columns]"
      ]
     },
     "execution_count": 5,
     "metadata": {},
     "output_type": "execute_result"
    }
   ],
   "source": [
    "df_map_bank"
   ]
  },
  {
   "cell_type": "code",
   "execution_count": 5,
   "metadata": {},
   "outputs": [
    {
     "data": {
      "text/html": [
       "<div>\n",
       "<style scoped>\n",
       "    .dataframe tbody tr th:only-of-type {\n",
       "        vertical-align: middle;\n",
       "    }\n",
       "\n",
       "    .dataframe tbody tr th {\n",
       "        vertical-align: top;\n",
       "    }\n",
       "\n",
       "    .dataframe thead th {\n",
       "        text-align: right;\n",
       "    }\n",
       "</style>\n",
       "<table border=\"1\" class=\"dataframe\">\n",
       "  <thead>\n",
       "    <tr style=\"text-align: right;\">\n",
       "      <th></th>\n",
       "      <th>old_caption</th>\n",
       "      <th>category_code</th>\n",
       "      <th>vi_caption</th>\n",
       "      <th>en_caption</th>\n",
       "    </tr>\n",
       "  </thead>\n",
       "  <tbody>\n",
       "    <tr>\n",
       "      <th>0</th>\n",
       "      <td>TỔNG TÀI SẢN CÓ</td>\n",
       "      <td>BS_300</td>\n",
       "      <td>TỔNG TÀI SẢN</td>\n",
       "      <td>TOTAL ASSETS</td>\n",
       "    </tr>\n",
       "    <tr>\n",
       "      <th>1</th>\n",
       "      <td>I.Tiền mặt, vàng bạc, đá quý</td>\n",
       "      <td>BS_110</td>\n",
       "      <td>Tiền mặt, vàng bạc, đá quý</td>\n",
       "      <td>Cash, gold, silver, and precious stones</td>\n",
       "    </tr>\n",
       "    <tr>\n",
       "      <th>2</th>\n",
       "      <td>II.Tiền gửi tại Ngân hàng Nhà nước</td>\n",
       "      <td>BS_120</td>\n",
       "      <td>Tiền gửi tại Ngân hàng nhà nước Việt Nam</td>\n",
       "      <td>Deposits at the State Bank of Vietnam</td>\n",
       "    </tr>\n",
       "    <tr>\n",
       "      <th>3</th>\n",
       "      <td>III. Tiền gửi và cho vay các tổ chức tín dụng ...</td>\n",
       "      <td>BS_130</td>\n",
       "      <td>Tiền gửi tại các TCTD khác và cho vay các...</td>\n",
       "      <td>Deposits at and loans to other credit institut...</td>\n",
       "    </tr>\n",
       "    <tr>\n",
       "      <th>4</th>\n",
       "      <td>1.Tiền gửi tại các tổ chức tín dụng khác</td>\n",
       "      <td>BS_131</td>\n",
       "      <td>Tiền gửi tại các TCTD khác</td>\n",
       "      <td>Deposits at other credit institutions</td>\n",
       "    </tr>\n",
       "    <tr>\n",
       "      <th>...</th>\n",
       "      <td>...</td>\n",
       "      <td>...</td>\n",
       "      <td>...</td>\n",
       "      <td>...</td>\n",
       "    </tr>\n",
       "    <tr>\n",
       "      <th>144</th>\n",
       "      <td>III.Lưu chuyển tiền thuần từ hoạt động tài chính</td>\n",
       "      <td>CF_041</td>\n",
       "      <td>Lưu chuyển tiền thuần từ hoạt động tài chính</td>\n",
       "      <td>Net cash flow from financing activities</td>\n",
       "    </tr>\n",
       "    <tr>\n",
       "      <th>145</th>\n",
       "      <td>IV.Lưu chuyển tiền thuần trong kỳ</td>\n",
       "      <td>CF_042</td>\n",
       "      <td>Lưu chuyển tiền thuần trong kỳ</td>\n",
       "      <td>Net cash flow during the period</td>\n",
       "    </tr>\n",
       "    <tr>\n",
       "      <th>146</th>\n",
       "      <td>V. Tiền và các khoản tương đương tiền tại thời...</td>\n",
       "      <td>CF_043</td>\n",
       "      <td>Tiền và các khoản tương đương tiền tài thời đi...</td>\n",
       "      <td>Cash and cash equivalents at the beginning of ...</td>\n",
       "    </tr>\n",
       "    <tr>\n",
       "      <th>147</th>\n",
       "      <td>VI. Điều chỉnh ảnh hưởng của thay đổi tỷ giá</td>\n",
       "      <td>CF_044</td>\n",
       "      <td>Điều chỉnh ảnh hưởng của thay đổi tỷ giá</td>\n",
       "      <td>Adjustment for the effects of exchange rate ch...</td>\n",
       "    </tr>\n",
       "    <tr>\n",
       "      <th>148</th>\n",
       "      <td>VII. Tiền và các khoản tương đương tiền tại th...</td>\n",
       "      <td>CF_045</td>\n",
       "      <td>Tiền và các khoản tương đương tiền tại thời đi...</td>\n",
       "      <td>Cash and cash equivalents at the end of the pe...</td>\n",
       "    </tr>\n",
       "    <tr>\n",
       "      <th>149</th>\n",
       "      <td>Nợ ngắn hạn</td>\n",
       "      <td>BS_361</td>\n",
       "      <td>Nợ ngắn hạn</td>\n",
       "      <td>Current liabilities</td>\n",
       "    </tr>\n",
       "  </tbody>\n",
       "</table>\n",
       "<p>148 rows × 4 columns</p>\n",
       "</div>"
      ],
      "text/plain": [
       "                                           old_caption category_code  \\\n",
       "0                                      TỔNG TÀI SẢN CÓ        BS_300   \n",
       "1                         I.Tiền mặt, vàng bạc, đá quý        BS_110   \n",
       "2                   II.Tiền gửi tại Ngân hàng Nhà nước        BS_120   \n",
       "3    III. Tiền gửi và cho vay các tổ chức tín dụng ...        BS_130   \n",
       "4             1.Tiền gửi tại các tổ chức tín dụng khác        BS_131   \n",
       "..                                                 ...           ...   \n",
       "145                  IV.Lưu chuyển tiền thuần trong kỳ        CF_042   \n",
       "146  V. Tiền và các khoản tương đương tiền tại thời...        CF_043   \n",
       "147       VI. Điều chỉnh ảnh hưởng của thay đổi tỷ giá        CF_044   \n",
       "148  VII. Tiền và các khoản tương đương tiền tại th...        CF_045   \n",
       "149                                        Nợ ngắn hạn        BS_361   \n",
       "\n",
       "                                            vi_caption  \\\n",
       "0                                         TỔNG TÀI SẢN   \n",
       "1                           Tiền mặt, vàng bạc, đá quý   \n",
       "2             Tiền gửi tại Ngân hàng nhà nước Việt Nam   \n",
       "3         Tiền gửi tại các TCTD khác và cho vay các...   \n",
       "4                           Tiền gửi tại các TCTD khác   \n",
       "..                                                 ...   \n",
       "145                     Lưu chuyển tiền thuần trong kỳ   \n",
       "146  Tiền và các khoản tương đương tiền tài thời đi...   \n",
       "147           Điều chỉnh ảnh hưởng của thay đổi tỷ giá   \n",
       "148  Tiền và các khoản tương đương tiền tại thời đi...   \n",
       "149                                        Nợ ngắn hạn   \n",
       "\n",
       "                                            en_caption  \n",
       "0                                         TOTAL ASSETS  \n",
       "1              Cash, gold, silver, and precious stones  \n",
       "2                Deposits at the State Bank of Vietnam  \n",
       "3    Deposits at and loans to other credit institut...  \n",
       "4                Deposits at other credit institutions  \n",
       "..                                                 ...  \n",
       "145                    Net cash flow during the period  \n",
       "146  Cash and cash equivalents at the beginning of ...  \n",
       "147  Adjustment for the effects of exchange rate ch...  \n",
       "148  Cash and cash equivalents at the end of the pe...  \n",
       "149                                Current liabilities  \n",
       "\n",
       "[148 rows x 4 columns]"
      ]
     },
     "execution_count": 5,
     "metadata": {},
     "output_type": "execute_result"
    }
   ],
   "source": [
    "df_map_bank"
   ]
  },
  {
   "cell_type": "code",
   "execution_count": 6,
   "metadata": {},
   "outputs": [],
   "source": [
    "# df_map_sec.to_csv('../csv/v3/map_category_code_sec.csv', index=False)\n",
    "# df_map_bank.to_csv('../csv/v3/map_category_code_bank.csv', index=False)\n",
    "# df_map_corp.to_csv('../csv/v3/map_category_code_corp.csv', index=False)"
   ]
  },
  {
   "cell_type": "code",
   "execution_count": 7,
   "metadata": {},
   "outputs": [],
   "source": [
    "df_bs = mapping_file.parse('Standard BS')\n",
    "df_is = mapping_file.parse('Standard IS')\n",
    "df_cf = mapping_file.parse('Standard CF')\n",
    "\n",
    "df_bs['Universal_caption'] = df_bs['Universal_caption'].apply(lambda x: f'(Balance sheet) {x}')\n",
    "df_is['Universal_caption'] = df_is['Universal_caption'].apply(lambda x: f'(Income statement) {x}')\n",
    "df_cf['Universal_caption'] = df_cf['Universal_caption'].apply(lambda x: f'(Cash flow) {x}')\n",
    "df = pd.concat([df_bs, df_is, df_cf], ignore_index=True)\n",
    "\n",
    "df.rename(columns={'Universal_caption': 'en_caption', 'universal_code':'category_code'}, inplace=True)\n",
    "\n",
    "# df.to_csv('../csv/v3/map_category_code_universal.csv', index=False)\n",
    "\n",
    "df.rename(columns={'category_code': 'universal_code'}, inplace=True)"
   ]
  },
  {
   "cell_type": "code",
   "execution_count": 8,
   "metadata": {},
   "outputs": [
    {
     "data": {
      "application/vnd.microsoft.datawrangler.viewer.v0+json": {
       "columns": [
        {
         "name": "index",
         "rawType": "int64",
         "type": "integer"
        },
        {
         "name": "Corp",
         "rawType": "object",
         "type": "unknown"
        },
        {
         "name": "corp_code",
         "rawType": "object",
         "type": "unknown"
        },
        {
         "name": "Securities",
         "rawType": "object",
         "type": "unknown"
        },
        {
         "name": "sec_code",
         "rawType": "object",
         "type": "unknown"
        },
        {
         "name": "Bank",
         "rawType": "object",
         "type": "unknown"
        },
        {
         "name": "bank_code",
         "rawType": "object",
         "type": "unknown"
        },
        {
         "name": "en_caption",
         "rawType": "object",
         "type": "string"
        },
        {
         "name": "universal_code",
         "rawType": "object",
         "type": "string"
        },
        {
         "name": "parent_code",
         "rawType": "object",
         "type": "string"
        }
       ],
       "conversionMethod": "pd.DataFrame",
       "ref": "812c35cf-d13b-4576-a433-c02dedcb2400",
       "rows": [
        [
         "0",
         "A. CURRENT ASSETS",
         "BS_100",
         "A. CURRENT ASSETS",
         "BS_100",
         null,
         null,
         "(Balance sheet) A. CURRENT ASSETS",
         "BS_100",
         "BS_100"
        ],
        [
         "1",
         null,
         null,
         "I. Financial Assets",
         "BS_110",
         null,
         null,
         "(Balance sheet) (Securities) Financial Assets",
         "BS_101",
         "BS_101"
        ],
        [
         "2",
         "I. Cash and cash equivalents",
         "BS_110",
         "1. Cash and cash equivalents",
         "BS_111",
         null,
         null,
         "(Balance sheet) Cash and cash equivalents",
         "BS_110",
         "BS_110"
        ],
        [
         "3",
         "Cash",
         "BS_111",
         "1.1. Cash",
         "BS_111.1",
         "Cash, precious metals, gemstones",
         "BS_110",
         "(Balance sheet) Cash",
         "BS_111",
         "BS_110"
        ],
        [
         "4",
         null,
         null,
         null,
         null,
         "Deposits at the Central Bank",
         "BS_120",
         "(Balance sheet) (Bank) Deposits at the Central Bank",
         "BS_112",
         "BS_110"
        ],
        [
         "5",
         "Cash equivalents",
         "BS_112",
         "1.2. Cash equivalents",
         "BS_111.2",
         null,
         null,
         "(Balance sheet) Cash equivalents",
         "BS_113",
         "BS_110"
        ],
        [
         "6",
         null,
         null,
         null,
         null,
         "Deposits and loans to other credit institutions",
         "BS_130",
         "(Balance sheet) (Bank) Deposits and loans to other credit institutions",
         "BS_114",
         "BS_110"
        ],
        [
         "7",
         null,
         null,
         null,
         null,
         "Deposits at other credit institutions",
         "BS_131",
         "(Balance sheet) (Bank) Deposits at other credit institutions",
         "BS_115",
         "BS_110"
        ],
        [
         "8",
         null,
         null,
         null,
         null,
         "Loans to other credit institutions",
         "BS_132",
         "(Balance sheet) (Bank) Loans to other credit institutions",
         "BS_116",
         "BS_110"
        ],
        [
         "9",
         null,
         null,
         null,
         null,
         "Provision for risks on loans to other credit institutions",
         "BS_139",
         "(Balance sheet) (Bank) Provision for risks on loans to other credit institutions",
         "BS_117",
         "BS_110"
        ],
        [
         "10",
         null,
         null,
         "5. Available-for-sale financial assets (AFS)",
         "BS_115",
         null,
         null,
         "(Balance sheet) (Securities) Available-for-sale financial assets (AFS)",
         "BS_119",
         "BS_110"
        ],
        [
         "11",
         "II. Short-term financial investments",
         "BS_120",
         null,
         null,
         null,
         null,
         "(Balance sheet) Short-term financial investments",
         "BS_120",
         "BS_120"
        ],
        [
         "12",
         "Trading securities",
         "BS_121",
         "2. Financial assets at fair value through profit or loss (FVTPL)",
         "BS_112",
         "Trading securities",
         "BS_140",
         "(Balance sheet) Trading securities",
         "BS_121",
         "BS_121"
        ],
        [
         "13",
         null,
         null,
         null,
         null,
         "Trading securities",
         "BS_141",
         "(Balance sheet) (Bank) Total Trading securities",
         "BS_122",
         "BS_121"
        ],
        [
         "14",
         "Provision for decline in value of trading securities",
         "BS_122",
         "6. Provision for impairment of financial assets and collateral",
         "BS_116",
         "Provision for devaluation of trading securities",
         "BS_149",
         "(Balance sheet) Provision for devaluation of trading securities",
         "BS_123",
         "BS_121"
        ],
        [
         "15",
         null,
         null,
         null,
         null,
         "Derivative financial instruments and other financial assets",
         "BS_150",
         "(Balance sheet) (Bank) Derivative financial instruments and other financial assets",
         "BS_124",
         "BS_121"
        ],
        [
         "16",
         null,
         null,
         null,
         null,
         "Loans to customers",
         "BS_160",
         "(Balance sheet) (Bank) Loans to customers",
         "BS_125",
         "BS_125"
        ],
        [
         "17",
         null,
         null,
         null,
         null,
         "Loans to customers",
         "BS_161",
         "(Balance sheet) (Bank) Total Loans to customers",
         "BS_126",
         "BS_125"
        ],
        [
         "18",
         null,
         null,
         null,
         null,
         "Provision for risks on loans to customers",
         "BS_169",
         "(Balance sheet) (Bank) Provision for risks on loans to customers",
         "BS_127",
         "BS_125"
        ],
        [
         "19",
         null,
         null,
         null,
         null,
         "Investment securities",
         "BS_170",
         "(Balance sheet) (Bank) Investment securities",
         "BS_128",
         "BS_120"
        ],
        [
         "20",
         null,
         null,
         null,
         null,
         "Available-for-sale investment securities",
         "BS_171",
         "(Balance sheet) (Bank) Available-for-sale investment securities",
         "BS_129",
         "BS_120"
        ],
        [
         "21",
         "Held-to-maturity investments",
         "BS_123",
         "3. Held-to-maturity investments (HTM)",
         "BS_113",
         "Held-to-maturity investment securities",
         "BS_172",
         "(Balance sheet) Held-to-maturity investment (HTM) short-terms",
         "BS_130",
         "BS_120"
        ],
        [
         "22",
         null,
         null,
         null,
         null,
         "Provision for devaluation of investment securities",
         "BS_179",
         "(Balance sheet) (Bank) Provision for devaluation of investment securities",
         "BS_131",
         "BS_120"
        ],
        [
         "23",
         null,
         null,
         null,
         null,
         "Debt purchasing activities",
         "BS_180",
         "(Balance sheet) (Bank) Debt purchasing activities",
         "BS_132",
         "BS_120"
        ],
        [
         "24",
         null,
         null,
         null,
         null,
         "Debt purchases",
         "BS_181",
         "(Balance sheet) (Bank) Debt purchases",
         "BS_133",
         "BS_120"
        ],
        [
         "25",
         null,
         null,
         null,
         null,
         "Provision for risks on debt purchasing activities",
         "BS_189",
         "(Balance sheet) (Bank) Provision for risks on debt purchasing activities",
         "BS_134",
         "BS_120"
        ],
        [
         "26",
         null,
         null,
         null,
         null,
         null,
         "BS_200",
         "(Balance sheet) (Bank) Outstanding Credit Balance",
         "BS_135",
         "BS_135"
        ],
        [
         "27",
         "III. Short-term receivables",
         "BS_130",
         "7. Receivables",
         "BS_117",
         null,
         null,
         "(Balance sheet) Short-term receivables",
         "BS_140",
         "BS_140"
        ],
        [
         "28",
         "Trade receivables",
         "BS_131",
         "7.1. Receivables from sale of financial assets",
         "BS_117.1",
         null,
         null,
         "(Balance sheet) Trade receivables",
         "BS_141",
         "BS_141"
        ],
        [
         "29",
         null,
         null,
         "7.2. Dividends and interest receivables from financial assets",
         "BS_117.2",
         null,
         null,
         "(Balance sheet) (Securities) Dividends and interest receivables from financial assets",
         "BS_142",
         "BS_142"
        ],
        [
         "30",
         null,
         null,
         "7.2.1. Accrued dividends and interest due",
         "BS_117.3",
         null,
         null,
         "(Balance sheet) (Securities) Accrued dividends and interest due",
         "BS_142.1",
         "BS_142"
        ],
        [
         "31",
         null,
         null,
         "7.2.2. Accrued dividends and interest not yet due",
         "BS_117.4",
         null,
         null,
         "(Balance sheet) (Securities) Accrued dividends and interest not yet due",
         "BS_142.2",
         "BS_142"
        ],
        [
         "32",
         "Prepayments to suppliers (short-term)",
         "BS_132",
         "Advances to suppliers",
         "BS_118",
         null,
         null,
         "(Balance sheet) Prepayments to suppliers (short-term)",
         "BS_145",
         "BS_145"
        ],
        [
         "33",
         null,
         null,
         "8. Receivables from securities services provided",
         "BS_119",
         null,
         null,
         "(Balance sheet) (Securities) Receivables from securities services provided",
         "BS_146",
         "BS_146"
        ],
        [
         "34",
         "Intra-group receivables (short-term)",
         "BS_133",
         "9. Internal receivables",
         "BS_120",
         null,
         null,
         "(Balance sheet) Internal receivables",
         "BS_147",
         "BS_147"
        ],
        [
         "35",
         "Receivables under construction contract progress",
         "BS_134",
         null,
         null,
         null,
         null,
         "(Balance sheet) Receivables under construction contract progress",
         "BS_148",
         "BS_148"
        ],
        [
         "36",
         null,
         null,
         "10. Receivables from securities transaction errors",
         "BS_121",
         null,
         null,
         "(Balance sheet) (Securities) Receivables from securities transaction errors",
         "BS_149",
         "BS_149"
        ],
        [
         "37",
         "Short-term loan receivables",
         "BS_135",
         "4. Loans",
         "BS_114",
         null,
         null,
         "(Balance sheet) Short-term loan receivables",
         "BS_150",
         "BS_150"
        ],
        [
         "38",
         "Other short-term receivables",
         "BS_136",
         "11. Other receivables",
         "BS_122",
         null,
         null,
         "(Balance sheet) Other short-term receivables",
         "BS_151",
         "BS_151"
        ],
        [
         "39",
         "Provision for doubtful short-term receivables",
         "BS_137",
         "12. Provision for impairment of receivables (*)",
         "BS_129",
         null,
         null,
         "(Balance sheet) Provision for doubtful short-term receivables",
         "BS_152",
         "BS_152"
        ],
        [
         "40",
         "Missing assets pending resolution",
         "BS_139",
         null,
         null,
         null,
         null,
         "(Balance sheet) Missing assets pending resolution",
         "BS_153",
         "BS_153"
        ],
        [
         "41",
         "IV. Inventories",
         "BS_140",
         null,
         null,
         null,
         null,
         "(Balance sheet) Inventories",
         "BS_160",
         "BS_160"
        ],
        [
         "42",
         "Inventories",
         "BS_141",
         null,
         null,
         null,
         null,
         "(Balance sheet) Current Inventories",
         "BS_161",
         "BS_160"
        ],
        [
         "43",
         "Provision for decline in value of inventories",
         "BS_149",
         null,
         null,
         null,
         null,
         "(Balance sheet) Provision for decline in value of inventories",
         "BS_162",
         "BS_160"
        ],
        [
         "44",
         "V. Other current assets",
         "BS_150",
         "II. Other Current Assets",
         "BS_130",
         null,
         null,
         "(Balance sheet) Other current assets",
         "BS_170",
         "BS_170"
        ],
        [
         "45",
         null,
         null,
         "1. Advances",
         "BS_131",
         null,
         null,
         "(Balance sheet) (Securities) Advances",
         "BS_171",
         "BS_171"
        ],
        [
         "46",
         null,
         null,
         "2. Office supplies, tools, and instruments",
         "BS_132",
         null,
         null,
         "(Balance sheet) (Securities) Office supplies, tools, and instruments",
         "BS_172",
         "BS_172"
        ],
        [
         "47",
         null,
         null,
         "4. Short-term deposits and collateral",
         "BS_134",
         null,
         null,
         "(Balance sheet) Short-term deposits and collateral",
         "BS_173",
         "BS_173"
        ],
        [
         "48",
         "Short-term prepaid expenses",
         "BS_151",
         "3. Short-term prepaid expenses",
         "BS_133",
         null,
         null,
         "(Balance sheet) Short-term prepaid expenses",
         "BS_174",
         "BS_174"
        ],
        [
         "49",
         "Deductible VAT",
         "BS_152",
         "5. Deductible value-added tax (VAT)",
         "BS_135",
         null,
         null,
         "(Balance sheet) Deductible VAT",
         "BS_175",
         "BS_175"
        ]
       ],
       "shape": {
        "columns": 9,
        "rows": 346
       }
      },
      "text/html": [
       "<div>\n",
       "<style scoped>\n",
       "    .dataframe tbody tr th:only-of-type {\n",
       "        vertical-align: middle;\n",
       "    }\n",
       "\n",
       "    .dataframe tbody tr th {\n",
       "        vertical-align: top;\n",
       "    }\n",
       "\n",
       "    .dataframe thead th {\n",
       "        text-align: right;\n",
       "    }\n",
       "</style>\n",
       "<table border=\"1\" class=\"dataframe\">\n",
       "  <thead>\n",
       "    <tr style=\"text-align: right;\">\n",
       "      <th></th>\n",
       "      <th>Corp</th>\n",
       "      <th>corp_code</th>\n",
       "      <th>Securities</th>\n",
       "      <th>sec_code</th>\n",
       "      <th>Bank</th>\n",
       "      <th>bank_code</th>\n",
       "      <th>en_caption</th>\n",
       "      <th>universal_code</th>\n",
       "      <th>parent_code</th>\n",
       "    </tr>\n",
       "  </thead>\n",
       "  <tbody>\n",
       "    <tr>\n",
       "      <th>0</th>\n",
       "      <td>A. CURRENT ASSETS</td>\n",
       "      <td>BS_100</td>\n",
       "      <td>A. CURRENT ASSETS</td>\n",
       "      <td>BS_100</td>\n",
       "      <td>NaN</td>\n",
       "      <td>NaN</td>\n",
       "      <td>(Balance sheet) A. CURRENT ASSETS</td>\n",
       "      <td>BS_100</td>\n",
       "      <td>BS_100</td>\n",
       "    </tr>\n",
       "    <tr>\n",
       "      <th>1</th>\n",
       "      <td>NaN</td>\n",
       "      <td>NaN</td>\n",
       "      <td>I. Financial Assets</td>\n",
       "      <td>BS_110</td>\n",
       "      <td>NaN</td>\n",
       "      <td>NaN</td>\n",
       "      <td>(Balance sheet) (Securities) Financial Assets</td>\n",
       "      <td>BS_101</td>\n",
       "      <td>BS_101</td>\n",
       "    </tr>\n",
       "    <tr>\n",
       "      <th>2</th>\n",
       "      <td>I. Cash and cash equivalents</td>\n",
       "      <td>BS_110</td>\n",
       "      <td>1. Cash and cash equivalents</td>\n",
       "      <td>BS_111</td>\n",
       "      <td>NaN</td>\n",
       "      <td>NaN</td>\n",
       "      <td>(Balance sheet) Cash and cash equivalents</td>\n",
       "      <td>BS_110</td>\n",
       "      <td>BS_110</td>\n",
       "    </tr>\n",
       "    <tr>\n",
       "      <th>3</th>\n",
       "      <td>Cash</td>\n",
       "      <td>BS_111</td>\n",
       "      <td>1.1. Cash</td>\n",
       "      <td>BS_111.1</td>\n",
       "      <td>Cash, precious metals, gemstones</td>\n",
       "      <td>BS_110</td>\n",
       "      <td>(Balance sheet) Cash</td>\n",
       "      <td>BS_111</td>\n",
       "      <td>BS_110</td>\n",
       "    </tr>\n",
       "    <tr>\n",
       "      <th>4</th>\n",
       "      <td>NaN</td>\n",
       "      <td>NaN</td>\n",
       "      <td>NaN</td>\n",
       "      <td>NaN</td>\n",
       "      <td>Deposits at the Central Bank</td>\n",
       "      <td>BS_120</td>\n",
       "      <td>(Balance sheet) (Bank) Deposits at the Central...</td>\n",
       "      <td>BS_112</td>\n",
       "      <td>BS_110</td>\n",
       "    </tr>\n",
       "    <tr>\n",
       "      <th>...</th>\n",
       "      <td>...</td>\n",
       "      <td>...</td>\n",
       "      <td>...</td>\n",
       "      <td>...</td>\n",
       "      <td>...</td>\n",
       "      <td>...</td>\n",
       "      <td>...</td>\n",
       "      <td>...</td>\n",
       "      <td>...</td>\n",
       "    </tr>\n",
       "    <tr>\n",
       "      <th>341</th>\n",
       "      <td>Lưu chuyển tiền thuần từ hoạt động tài chính</td>\n",
       "      <td>CF_040</td>\n",
       "      <td>Lưu chuyển tiền tệ từ hoạt động tài chính</td>\n",
       "      <td>CF_080</td>\n",
       "      <td>III.Lưu chuyển tiền thuần từ hoạt động tài chính</td>\n",
       "      <td>CF_041</td>\n",
       "      <td>(Cash flow) Net cash flow from financing activ...</td>\n",
       "      <td>CF_090</td>\n",
       "      <td>CF_090</td>\n",
       "    </tr>\n",
       "    <tr>\n",
       "      <th>342</th>\n",
       "      <td>Lưu chuyển tiền thuần trong kỳ (50 = 20+30+40)</td>\n",
       "      <td>CF_050</td>\n",
       "      <td>LƯU CHUYỂN TIỀN THUẦN TRONG KỲ</td>\n",
       "      <td>CF_090</td>\n",
       "      <td>IV.Lưu chuyển tiền thuần trong kỳ</td>\n",
       "      <td>CF_042</td>\n",
       "      <td>(Cash flow) Net cash flow during the period</td>\n",
       "      <td>CF_100</td>\n",
       "      <td>CF_100</td>\n",
       "    </tr>\n",
       "    <tr>\n",
       "      <th>343</th>\n",
       "      <td>Tiền và tương đương tiền đầu kỳ</td>\n",
       "      <td>CF_060</td>\n",
       "      <td>TIỀN VÀ TƯƠNG ĐƯƠNG TIỀN ĐẦU KỲ</td>\n",
       "      <td>CF_101</td>\n",
       "      <td>V. Tiền và các khoản tương đương tiền tại thời...</td>\n",
       "      <td>CF_043</td>\n",
       "      <td>(Cash flow) Cash and cash equivalents at the b...</td>\n",
       "      <td>CF_110</td>\n",
       "      <td>CF_110</td>\n",
       "    </tr>\n",
       "    <tr>\n",
       "      <th>344</th>\n",
       "      <td>Ảnh hưởng của thay đổi tỷ giá hối đoái quy đổi...</td>\n",
       "      <td>CF_061</td>\n",
       "      <td>NaN</td>\n",
       "      <td>NaN</td>\n",
       "      <td>VI. Điều chỉnh ảnh hưởng của thay đổi tỷ giá</td>\n",
       "      <td>CF_044</td>\n",
       "      <td>(Cash flow) Effects of exchange rate changes o...</td>\n",
       "      <td>CF_120</td>\n",
       "      <td>CF_120</td>\n",
       "    </tr>\n",
       "    <tr>\n",
       "      <th>345</th>\n",
       "      <td>Tiền và tương đương tiền cuối kỳ (70 = 50+60+61)</td>\n",
       "      <td>CF_070</td>\n",
       "      <td>TIỀN VÀ TƯƠNG ĐƯƠNG TIỀN CUỐI KỲ</td>\n",
       "      <td>CF_103</td>\n",
       "      <td>VII. Tiền và các khoản tương đương tiền tại th...</td>\n",
       "      <td>CF_045</td>\n",
       "      <td>(Cash flow) Cash and cash equivalents at the e...</td>\n",
       "      <td>CF_130</td>\n",
       "      <td>CF_130</td>\n",
       "    </tr>\n",
       "  </tbody>\n",
       "</table>\n",
       "<p>346 rows × 9 columns</p>\n",
       "</div>"
      ],
      "text/plain": [
       "                                                  Corp corp_code  \\\n",
       "0                                    A. CURRENT ASSETS    BS_100   \n",
       "1                                                  NaN       NaN   \n",
       "2                         I. Cash and cash equivalents    BS_110   \n",
       "3                                                 Cash    BS_111   \n",
       "4                                                  NaN       NaN   \n",
       "..                                                 ...       ...   \n",
       "341       Lưu chuyển tiền thuần từ hoạt động tài chính    CF_040   \n",
       "342     Lưu chuyển tiền thuần trong kỳ (50 = 20+30+40)    CF_050   \n",
       "343                    Tiền và tương đương tiền đầu kỳ    CF_060   \n",
       "344  Ảnh hưởng của thay đổi tỷ giá hối đoái quy đổi...    CF_061   \n",
       "345   Tiền và tương đương tiền cuối kỳ (70 = 50+60+61)    CF_070   \n",
       "\n",
       "                                    Securities  sec_code  \\\n",
       "0                            A. CURRENT ASSETS    BS_100   \n",
       "1                          I. Financial Assets    BS_110   \n",
       "2                 1. Cash and cash equivalents    BS_111   \n",
       "3                                    1.1. Cash  BS_111.1   \n",
       "4                                          NaN       NaN   \n",
       "..                                         ...       ...   \n",
       "341  Lưu chuyển tiền tệ từ hoạt động tài chính    CF_080   \n",
       "342             LƯU CHUYỂN TIỀN THUẦN TRONG KỲ    CF_090   \n",
       "343            TIỀN VÀ TƯƠNG ĐƯƠNG TIỀN ĐẦU KỲ    CF_101   \n",
       "344                                        NaN       NaN   \n",
       "345           TIỀN VÀ TƯƠNG ĐƯƠNG TIỀN CUỐI KỲ    CF_103   \n",
       "\n",
       "                                                  Bank bank_code  \\\n",
       "0                                                  NaN       NaN   \n",
       "1                                                  NaN       NaN   \n",
       "2                                                  NaN       NaN   \n",
       "3                     Cash, precious metals, gemstones    BS_110   \n",
       "4                         Deposits at the Central Bank    BS_120   \n",
       "..                                                 ...       ...   \n",
       "341   III.Lưu chuyển tiền thuần từ hoạt động tài chính    CF_041   \n",
       "342                  IV.Lưu chuyển tiền thuần trong kỳ    CF_042   \n",
       "343  V. Tiền và các khoản tương đương tiền tại thời...    CF_043   \n",
       "344       VI. Điều chỉnh ảnh hưởng của thay đổi tỷ giá    CF_044   \n",
       "345  VII. Tiền và các khoản tương đương tiền tại th...    CF_045   \n",
       "\n",
       "                                            en_caption universal_code  \\\n",
       "0                    (Balance sheet) A. CURRENT ASSETS         BS_100   \n",
       "1        (Balance sheet) (Securities) Financial Assets         BS_101   \n",
       "2            (Balance sheet) Cash and cash equivalents         BS_110   \n",
       "3                                 (Balance sheet) Cash         BS_111   \n",
       "4    (Balance sheet) (Bank) Deposits at the Central...         BS_112   \n",
       "..                                                 ...            ...   \n",
       "341  (Cash flow) Net cash flow from financing activ...         CF_090   \n",
       "342        (Cash flow) Net cash flow during the period         CF_100   \n",
       "343  (Cash flow) Cash and cash equivalents at the b...         CF_110   \n",
       "344  (Cash flow) Effects of exchange rate changes o...         CF_120   \n",
       "345  (Cash flow) Cash and cash equivalents at the e...         CF_130   \n",
       "\n",
       "    parent_code  \n",
       "0        BS_100  \n",
       "1        BS_101  \n",
       "2        BS_110  \n",
       "3        BS_110  \n",
       "4        BS_110  \n",
       "..          ...  \n",
       "341      CF_090  \n",
       "342      CF_100  \n",
       "343      CF_110  \n",
       "344      CF_120  \n",
       "345      CF_130  \n",
       "\n",
       "[346 rows x 9 columns]"
      ]
     },
     "execution_count": 8,
     "metadata": {},
     "output_type": "execute_result"
    }
   ],
   "source": [
    "df"
   ]
  },
  {
   "cell_type": "code",
   "execution_count": 9,
   "metadata": {},
   "outputs": [],
   "source": [
    "def get_source(text):\n",
    "    if isinstance(text, str):\n",
    "        return text.split('_')[0]\n",
    "    return text\n",
    "\n",
    "df_map_bank['source'] = df_map_bank['category_code'].apply(get_source)\n",
    "df_map_sec['source'] = df_map_sec['category_code'].apply(get_source)    \n",
    "df_map_corp['source'] = df_map_corp['category_code'].apply(get_source)  "
   ]
  },
  {
   "cell_type": "code",
   "execution_count": 10,
   "metadata": {},
   "outputs": [],
   "source": [
    "df_map_bank_bs = df_map_bank[df_map_bank['source'] == 'BS']\n",
    "df_map_bank_is = df_map_bank[df_map_bank['source'] == 'IS']\n",
    "df_map_bank_cf = df_map_bank[df_map_bank['source'] == 'CF']\n",
    "\n",
    "df_map_corp_bs = df_map_corp[df_map_corp['source'] == 'BS']\n",
    "df_map_corp_is = df_map_corp[df_map_corp['source'] == 'IS']\n",
    "df_map_corp_cf = df_map_corp[df_map_corp['source'] == 'CF']\n",
    "\n",
    "df_map_sec_bs = df_map_sec[df_map_sec['source'] == 'BS']\n",
    "df_map_sec_is = df_map_sec[df_map_sec['source'] == 'IS']\n",
    "df_map_sec_cf = df_map_sec[df_map_sec['source'] == 'CF']\n"
   ]
  },
  {
   "cell_type": "code",
   "execution_count": 11,
   "metadata": {},
   "outputs": [],
   "source": [
    "bank_args = {\n",
    "    'Kết quả kinh doanh': {\n",
    "        'nrows': 30,\n",
    "        'mapping': df_map_bank_is\n",
    "    },\n",
    "    'Bảng cân đối kế toán': {\n",
    "        'nrows': 92,\n",
    "        'mapping': df_map_bank_bs\n",
    "    },\n",
    "    'Lưu chuyển tiền tệ': {\n",
    "        'nrows': 62,\n",
    "        'mapping': df_map_bank_cf\n",
    "    }\n",
    "    \n",
    "}\n",
    "\n",
    "corp_args = {\n",
    "    'Kết quả kinh doanh': {\n",
    "        'nrows': 29,\n",
    "        'mapping': df_map_corp_is\n",
    "    },\n",
    "    'Bảng cân đối kế toán': {\n",
    "        'nrows': 126,\n",
    "        'mapping': df_map_corp_bs\n",
    "    },\n",
    "    'Lưu chuyển tiền tệ': {\n",
    "        'nrows': 45,\n",
    "        'mapping': df_map_corp_cf\n",
    "    }\n",
    "    \n",
    "}\n",
    "\n",
    "sec_args = {\n",
    "    'Kết quả kinh doanh': {\n",
    "        'nrows': 93,\n",
    "        'mapping': df_map_sec_is\n",
    "    },\n",
    "    'Bảng cân đối kế toán': {\n",
    "        'nrows': 216,\n",
    "        'mapping': df_map_sec_bs\n",
    "    },\n",
    "    'Lưu chuyển tiền tệ': {\n",
    "        'nrows': 159,\n",
    "        'mapping': df_map_sec_cf\n",
    "    }\n",
    "    \n",
    "}"
   ]
  },
  {
   "cell_type": "code",
   "execution_count": 12,
   "metadata": {},
   "outputs": [],
   "source": [
    "\n",
    "def get_data(excel_file, type_):\n",
    "    \n",
    "    dfs = []\n",
    "    if type_ == 'bank':\n",
    "        args = bank_args\n",
    "    elif type_ == 'corp':\n",
    "        args = corp_args\n",
    "    else:\n",
    "        args = sec_args\n",
    "       \n",
    "    sheet_names = list(args.keys())\n",
    "    for sheet_name in sheet_names:\n",
    "\n",
    "        df_bs = excel_file.parse(\n",
    "            sheet_name = sheet_name,\n",
    "            skiprows=10,\n",
    "            nrows=args[sheet_name]['nrows'],\n",
    "        )\n",
    "\n",
    "        df_bs = df_bs.iloc[3:]\n",
    "        fiin_cate = df_bs['Chỉ tiêuTriệu VND'].values.tolist()\n",
    "        map_cate = args[sheet_name]['mapping'][['category_code', 'vi_caption']].values.tolist()\n",
    "\n",
    "        # Map the corresponding category code\n",
    "\n",
    "        map_index = 0\n",
    "        cate_index = 0\n",
    "        cate_code = []\n",
    "        for i in range(len(fiin_cate)):\n",
    "            cate_index = i\n",
    "            if fiin_cate[i] == map_cate[map_index][1]:\n",
    "                \n",
    "                cate_code.append(map_cate[map_index][0])\n",
    "                map_index += 1\n",
    "            else:\n",
    "                cate_code.append(np.nan)\n",
    "            if map_index == len(map_cate):\n",
    "                break\n",
    "            \n",
    "        cate_code.extend([np.nan]*(len(fiin_cate) - len(cate_code)))\n",
    "\n",
    "\n",
    "        df_bs['category_code'] = cate_code\n",
    "    #     dfs.append(df_bs)\n",
    "    # return dfs\n",
    "    \n",
    "        # Convert to table\n",
    "\n",
    "        table = []\n",
    "        df_bs.dropna(subset=['category_code'], inplace=True)\n",
    "\n",
    "        for index, row in df_bs.iterrows():\n",
    "            \n",
    "            for col in df_bs.columns:\n",
    "                if 'VND' in col or col == 'category_code':\n",
    "                    continue\n",
    "                \n",
    "                time = col \n",
    "                data = row[col]\n",
    "                cate = row['category_code']\n",
    "                \n",
    "                table.append([cate, time, data])\n",
    "                \n",
    "        df = pd.DataFrame(table, columns=['category_code', 'time', 'data'])\n",
    "        dfs.append(df)\n",
    "        \n",
    "    df = pd.concat(dfs)\n",
    "    return df"
   ]
  },
  {
   "cell_type": "code",
   "execution_count": 22,
   "metadata": {},
   "outputs": [],
   "source": [
    "non_bank_stock_code = [\"HSG\", \"ELC\", \"VSC\", \"ACV\", \"REE\", \"SZC\", \"CSV\", \"PAN\", \"BSR\", \"SGP\", \"GMD\", \"ITD\",\"FOX\", \"KDC\", \"SBT\", \"VGC\", \"HBC\", \"CTD\", \"DIG\", \"SCR\", \"KBC\",\"MWG\", \"NHA\", \"VNM\", \"HPG\", \"VHM\", \"PNJ\", \"YEG\", \"FPT\",\"MSN\", \"GAS\", \"VRE\", \"VJC\", \"VIC\", \"PLX\", \"SAB\", \"POW\", \"GVR\", \"BCM\", \"VPI\", \"DVM\", \"KDH\", \"HDC\", \"TCH\", \"CEO\", \"HUT\", \"NVL\", \"DBC\", \"SAF\", \"DHT\", \"VTP\", \"PVT\", \"FRT\", \"DGC\", \"DCM\", \"NKG\", \"CMG\", \"VGI\", \"PVC\", \"CAP\", \"DTD\", \"HLD\", \"L14\", \"L18\", \"LAS\", \"LHC\", \"NTP\", \"PLC\", \"PSD\", \"PVG\", \"PVS\", \"SLS\", \"TIG\", \"TMB\", \"TNG\", \"TVD\", \"VC3\", \"VCS\", \"DXG\"]\n",
    "bank_stock_code = [\"BID\", \"EIB\", \"OCB\", \"CTG\", \"VCB\", \"ACB\", \"MBB\", \"HDB\", \"TPB\", \"VPB\",  \"STB\", \"TCB\",  \"SHB\", \"VIB\",  \"ABB\", \"LPB\", \"NVB\"]\n",
    "securities_stock_code = [\"MBS\", \"VND\", \"SSI\", \"VIX\", \"ORS\"]\n",
    "\n",
    "\n",
    "file_dir = \"../../fiin/year/FiinProX_DuLieuTaiChinh_BaoCaoTaiChinh_Yearly_{code}_20241218.xlsx\"\n",
    "file_dir_quarter = \"../../fiin/quarter/FiinProX_DuLieuTaiChinh_BaoCaoTaiChinh_Quarterly_{code}_20241218.xlsx\"\n",
    "\n",
    "new = True\n",
    "if new:\n",
    "    bank_stock_code = [\"EVF\", \"MSB\", \"NAB\", \"SGB\", \"VAB\", \"KLB\", \"BVB\", \"PGB\", \"NVB\"]\n",
    "    securities_stock_code = [\"VCI\", \"TVS\", \"SHS\", \"DSE\", \"HCM\", \"VDS\", \"APG\", \"CTS\", \"AGR\"]\n",
    "    non_bank_stock_code = [\"VCG\", \"LCG\", \"DPG\", \"CTI\", \"TIS\", \"PSH\", \"TLH\", \"STK\", \"TDG\", \"TVN\", \"DRI\", \"CNG\", \"SIP\", \"PVP\", \"VGS\", \"VHC\", \"IJC\", \"CII\", \"SJS\", \"NLG\", \"NT2\", \"LBM\", \"PC1\", \"HAH\", \"HAG\", \"KOS\", \"RAL\", \"PHR\", \"ILB\", \"AGG\", \"ASM\", \"CLL\", \"CRE\", \"D2D\", \"UIC\", \"TMS\", \"PPC\", \"PTB\", \"VOS\", \"VIP\", \"VTO\", \"NRC\", \"GEX\", \"HTN\", \"VLC\", \"GEE\", \"TCM\", \"PDR\", \"SCR\", \"HPX\", \"LDG\", \"AAA\", \"CTR\", \"SAM\", \"BWE\", \"SGT\", \"BMP\", \"ITC\", \"TTN\", \"VTE\", \"VHC\", \"MSH\", \"TTF\", \"ANV\", \"CMX\", \"IDI\", \"FMC\", \"BAF\", \"HT1\", \"PVD\", \"FIT\", \"ACL\", \"ABT\", \"AAM\", \"PET\", \"DGW\", \"DPM\", \"HDG\", \"IMP\", \"MAS\"]\n",
    "\n",
    "    file_dir = \"../../fiin/new/year/FiinProX_DuLieuTaiChinh_BaoCaoTaiChinh_Yearly_Hop_nhat_{code}_20250217.xlsx\"\n",
    "    file_dir_quarter = \"../../fiin/new/quarter/FiinProX_DuLieuTaiChinh_BaoCaoTaiChinh_Quarterly_Hop_nhat_{code}_20250217.xlsx\"\n"
   ]
  },
  {
   "cell_type": "code",
   "execution_count": 23,
   "metadata": {},
   "outputs": [],
   "source": [
    "from tqdm import tqdm"
   ]
  },
  {
   "cell_type": "code",
   "execution_count": 24,
   "metadata": {},
   "outputs": [
    {
     "name": "stderr",
     "output_type": "stream",
     "text": [
      "100%|██████████| 80/80 [00:01<00:00, 41.11it/s]\n",
      "100%|██████████| 9/9 [00:00<00:00, 37.20it/s]\n",
      "100%|██████████| 9/9 [00:00<00:00, 24.11it/s]\n"
     ]
    }
   ],
   "source": [
    "\n",
    "dfs_corp = []\n",
    "for code in tqdm(non_bank_stock_code):\n",
    "    \n",
    "    excel_file = pd.ExcelFile(file_dir.format(code=code), engine=\"openpyxl\")\n",
    "    df_corp_y = get_data(excel_file, 'corp')\n",
    "    df_corp_y['stock_code'] = code\n",
    "    dfs_corp.append(df_corp_y)\n",
    "    \n",
    "dfs_bank = []\n",
    "for code in tqdm(bank_stock_code):\n",
    "    excel_file = pd.ExcelFile(file_dir.format(code=code), engine=\"openpyxl\")\n",
    "    df_bank_y = get_data(excel_file, 'bank')\n",
    "    df_bank_y['stock_code'] = code\n",
    "    dfs_bank.append(df_bank_y)\n",
    "    \n",
    "dfs_sec = []\n",
    "for code in tqdm(securities_stock_code):\n",
    "    excel_file = pd.ExcelFile(file_dir.format(code=code), engine=\"openpyxl\")\n",
    "    df_sec_y = get_data(excel_file, 'sec')\n",
    "    df_sec_y['stock_code'] = code\n",
    "    dfs_sec.append(df_sec_y)\n",
    "    "
   ]
  },
  {
   "cell_type": "code",
   "execution_count": 25,
   "metadata": {},
   "outputs": [
    {
     "name": "stderr",
     "output_type": "stream",
     "text": [
      "100%|██████████| 80/80 [00:04<00:00, 17.87it/s]\n",
      "100%|██████████| 9/9 [00:00<00:00, 19.05it/s]\n",
      "100%|██████████| 9/9 [00:00<00:00, 10.20it/s]\n"
     ]
    }
   ],
   "source": [
    "# file_dir_quarter = \"../../fiin/quarter/FiinProX_DuLieuTaiChinh_BaoCaoTaiChinh_Quarterly_{code}_20241218.xlsx\"\n",
    "\n",
    "for code in tqdm(non_bank_stock_code):\n",
    "    excel_file = pd.ExcelFile(file_dir_quarter.format(code=code), engine=\"openpyxl\")\n",
    "    df_corp_q = get_data(excel_file, 'corp')\n",
    "    df_corp_q['stock_code'] = code\n",
    "    dfs_corp.append(df_corp_q)\n",
    "    \n",
    "for code in tqdm(bank_stock_code):\n",
    "    excel_file = pd.ExcelFile(file_dir_quarter.format(code=code), engine=\"openpyxl\")\n",
    "    df_bank_q = get_data(excel_file, 'bank')\n",
    "    df_bank_q['stock_code'] = code\n",
    "    dfs_bank.append(df_bank_q)\n",
    "    \n",
    "for code in tqdm(securities_stock_code):\n",
    "    excel_file = pd.ExcelFile(file_dir_quarter.format(code=code), engine=\"openpyxl\")\n",
    "    df_sec_q = get_data(excel_file, 'sec')\n",
    "    df_sec_q['stock_code'] = code\n",
    "    dfs_sec.append(df_sec_q)\n"
   ]
  },
  {
   "cell_type": "code",
   "execution_count": 26,
   "metadata": {},
   "outputs": [],
   "source": [
    "df_bank = pd.concat(dfs_bank)\n",
    "df_corp = pd.concat(dfs_corp)\n",
    "df_sec = pd.concat( dfs_sec)"
   ]
  },
  {
   "cell_type": "code",
   "execution_count": 27,
   "metadata": {},
   "outputs": [
    {
     "data": {
      "application/vnd.microsoft.datawrangler.viewer.v0+json": {
       "columns": [
        {
         "name": "index",
         "rawType": "int64",
         "type": "integer"
        },
        {
         "name": "category_code",
         "rawType": "object",
         "type": "string"
        },
        {
         "name": "time",
         "rawType": "object",
         "type": "string"
        },
        {
         "name": "data",
         "rawType": "float64",
         "type": "float"
        },
        {
         "name": "stock_code",
         "rawType": "object",
         "type": "string"
        }
       ],
       "conversionMethod": "pd.DataFrame",
       "ref": "1a58bc77-09d7-42b3-a97e-0a3a22d5144e",
       "rows": [
        [
         "0",
         "IS_003",
         "2008",
         "166178.67769500002",
         "EVF"
        ],
        [
         "1",
         "IS_003",
         "2009",
         "413876.329502",
         "EVF"
        ],
        [
         "2",
         "IS_003",
         "2010",
         "569514.011667",
         "EVF"
        ],
        [
         "3",
         "IS_003",
         "2011",
         "582514.787248",
         "EVF"
        ],
        [
         "4",
         "IS_003",
         "2012",
         "383902.493813",
         "EVF"
        ],
        [
         "5",
         "IS_003",
         "2013",
         "397998.232387",
         "EVF"
        ],
        [
         "6",
         "IS_003",
         "2014",
         "412515.704524",
         "EVF"
        ],
        [
         "7",
         "IS_003",
         "2015",
         "290955.0",
         "EVF"
        ],
        [
         "8",
         "IS_003",
         "2016",
         "239549.00000000003",
         "EVF"
        ],
        [
         "9",
         "IS_003",
         "2017",
         "232646.0",
         "EVF"
        ],
        [
         "10",
         "IS_003",
         "2018",
         "340726.0",
         "EVF"
        ],
        [
         "11",
         "IS_003",
         "2019",
         "553106.0",
         "EVF"
        ],
        [
         "12",
         "IS_003",
         "2020",
         "713211.0",
         "EVF"
        ],
        [
         "13",
         "IS_003",
         "2021",
         "786127.0",
         "EVF"
        ],
        [
         "14",
         "IS_003",
         "2022",
         "919202.0",
         "EVF"
        ],
        [
         "15",
         "IS_003",
         "2023",
         "709025.0",
         "EVF"
        ],
        [
         "16",
         "IS_003",
         "2024",
         "1444335.0",
         "EVF"
        ],
        [
         "17",
         "IS_001",
         "2008",
         "209770.438641",
         "EVF"
        ],
        [
         "18",
         "IS_001",
         "2009",
         "756174.79517",
         "EVF"
        ],
        [
         "19",
         "IS_001",
         "2010",
         "1878879.692886",
         "EVF"
        ],
        [
         "20",
         "IS_001",
         "2011",
         "2896262.492163",
         "EVF"
        ],
        [
         "21",
         "IS_001",
         "2012",
         "1978829.3528220002",
         "EVF"
        ],
        [
         "22",
         "IS_001",
         "2013",
         "1548007.732575",
         "EVF"
        ],
        [
         "23",
         "IS_001",
         "2014",
         "1100730.721535",
         "EVF"
        ],
        [
         "24",
         "IS_001",
         "2015",
         "1095392.0",
         "EVF"
        ],
        [
         "25",
         "IS_001",
         "2016",
         "952435.0000000001",
         "EVF"
        ],
        [
         "26",
         "IS_001",
         "2017",
         "1014264.0",
         "EVF"
        ],
        [
         "27",
         "IS_001",
         "2018",
         "1045337.0",
         "EVF"
        ],
        [
         "28",
         "IS_001",
         "2019",
         "1361597.0",
         "EVF"
        ],
        [
         "29",
         "IS_001",
         "2020",
         "1473666.0",
         "EVF"
        ],
        [
         "30",
         "IS_001",
         "2021",
         "1771532.0000000002",
         "EVF"
        ],
        [
         "31",
         "IS_001",
         "2022",
         "2666756.0",
         "EVF"
        ],
        [
         "32",
         "IS_001",
         "2023",
         "3993619.0",
         "EVF"
        ],
        [
         "33",
         "IS_001",
         "2024",
         "4276780.0",
         "EVF"
        ],
        [
         "34",
         "IS_002",
         "2008",
         "-43591.760946",
         "EVF"
        ],
        [
         "35",
         "IS_002",
         "2009",
         "-342298.465668",
         "EVF"
        ],
        [
         "36",
         "IS_002",
         "2010",
         "-1309365.6812190001",
         "EVF"
        ],
        [
         "37",
         "IS_002",
         "2011",
         "-2313747.704915",
         "EVF"
        ],
        [
         "38",
         "IS_002",
         "2012",
         "-1594926.859009",
         "EVF"
        ],
        [
         "39",
         "IS_002",
         "2013",
         "-1150009.500188",
         "EVF"
        ],
        [
         "40",
         "IS_002",
         "2014",
         "-688215.017011",
         "EVF"
        ],
        [
         "41",
         "IS_002",
         "2015",
         "-804437.0",
         "EVF"
        ],
        [
         "42",
         "IS_002",
         "2016",
         "-712886.0",
         "EVF"
        ],
        [
         "43",
         "IS_002",
         "2017",
         "-781618.0",
         "EVF"
        ],
        [
         "44",
         "IS_002",
         "2018",
         "-704611.0",
         "EVF"
        ],
        [
         "45",
         "IS_002",
         "2019",
         "-808491.0",
         "EVF"
        ],
        [
         "46",
         "IS_002",
         "2020",
         "-760455.0",
         "EVF"
        ],
        [
         "47",
         "IS_002",
         "2021",
         "-985405.0",
         "EVF"
        ],
        [
         "48",
         "IS_002",
         "2022",
         "-1747554.0",
         "EVF"
        ],
        [
         "49",
         "IS_002",
         "2023",
         "-3284594.0",
         "EVF"
        ]
       ],
       "shape": {
        "columns": 4,
        "rows": 88160
       }
      },
      "text/html": [
       "<div>\n",
       "<style scoped>\n",
       "    .dataframe tbody tr th:only-of-type {\n",
       "        vertical-align: middle;\n",
       "    }\n",
       "\n",
       "    .dataframe tbody tr th {\n",
       "        vertical-align: top;\n",
       "    }\n",
       "\n",
       "    .dataframe thead th {\n",
       "        text-align: right;\n",
       "    }\n",
       "</style>\n",
       "<table border=\"1\" class=\"dataframe\">\n",
       "  <thead>\n",
       "    <tr style=\"text-align: right;\">\n",
       "      <th></th>\n",
       "      <th>category_code</th>\n",
       "      <th>time</th>\n",
       "      <th>data</th>\n",
       "      <th>stock_code</th>\n",
       "    </tr>\n",
       "  </thead>\n",
       "  <tbody>\n",
       "    <tr>\n",
       "      <th>0</th>\n",
       "      <td>IS_003</td>\n",
       "      <td>2008</td>\n",
       "      <td>1.661787e+05</td>\n",
       "      <td>EVF</td>\n",
       "    </tr>\n",
       "    <tr>\n",
       "      <th>1</th>\n",
       "      <td>IS_003</td>\n",
       "      <td>2009</td>\n",
       "      <td>4.138763e+05</td>\n",
       "      <td>EVF</td>\n",
       "    </tr>\n",
       "    <tr>\n",
       "      <th>2</th>\n",
       "      <td>IS_003</td>\n",
       "      <td>2010</td>\n",
       "      <td>5.695140e+05</td>\n",
       "      <td>EVF</td>\n",
       "    </tr>\n",
       "    <tr>\n",
       "      <th>3</th>\n",
       "      <td>IS_003</td>\n",
       "      <td>2011</td>\n",
       "      <td>5.825148e+05</td>\n",
       "      <td>EVF</td>\n",
       "    </tr>\n",
       "    <tr>\n",
       "      <th>4</th>\n",
       "      <td>IS_003</td>\n",
       "      <td>2012</td>\n",
       "      <td>3.839025e+05</td>\n",
       "      <td>EVF</td>\n",
       "    </tr>\n",
       "    <tr>\n",
       "      <th>...</th>\n",
       "      <td>...</td>\n",
       "      <td>...</td>\n",
       "      <td>...</td>\n",
       "      <td>...</td>\n",
       "    </tr>\n",
       "    <tr>\n",
       "      <th>2515</th>\n",
       "      <td>CF_045</td>\n",
       "      <td>Q4/2023</td>\n",
       "      <td>1.099647e+07</td>\n",
       "      <td>NVB</td>\n",
       "    </tr>\n",
       "    <tr>\n",
       "      <th>2516</th>\n",
       "      <td>CF_045</td>\n",
       "      <td>Q1/2024</td>\n",
       "      <td>1.143716e+07</td>\n",
       "      <td>NVB</td>\n",
       "    </tr>\n",
       "    <tr>\n",
       "      <th>2517</th>\n",
       "      <td>CF_045</td>\n",
       "      <td>Q2/2024</td>\n",
       "      <td>1.033376e+07</td>\n",
       "      <td>NVB</td>\n",
       "    </tr>\n",
       "    <tr>\n",
       "      <th>2518</th>\n",
       "      <td>CF_045</td>\n",
       "      <td>Q3/2024</td>\n",
       "      <td>1.437061e+07</td>\n",
       "      <td>NVB</td>\n",
       "    </tr>\n",
       "    <tr>\n",
       "      <th>2519</th>\n",
       "      <td>CF_045</td>\n",
       "      <td>Q4/2024</td>\n",
       "      <td>1.887788e+07</td>\n",
       "      <td>NVB</td>\n",
       "    </tr>\n",
       "  </tbody>\n",
       "</table>\n",
       "<p>88160 rows × 4 columns</p>\n",
       "</div>"
      ],
      "text/plain": [
       "     category_code     time          data stock_code\n",
       "0           IS_003     2008  1.661787e+05        EVF\n",
       "1           IS_003     2009  4.138763e+05        EVF\n",
       "2           IS_003     2010  5.695140e+05        EVF\n",
       "3           IS_003     2011  5.825148e+05        EVF\n",
       "4           IS_003     2012  3.839025e+05        EVF\n",
       "...            ...      ...           ...        ...\n",
       "2515        CF_045  Q4/2023  1.099647e+07        NVB\n",
       "2516        CF_045  Q1/2024  1.143716e+07        NVB\n",
       "2517        CF_045  Q2/2024  1.033376e+07        NVB\n",
       "2518        CF_045  Q3/2024  1.437061e+07        NVB\n",
       "2519        CF_045  Q4/2024  1.887788e+07        NVB\n",
       "\n",
       "[88160 rows x 4 columns]"
      ]
     },
     "execution_count": 27,
     "metadata": {},
     "output_type": "execute_result"
    }
   ],
   "source": [
    "df_bank"
   ]
  },
  {
   "cell_type": "code",
   "execution_count": 28,
   "metadata": {},
   "outputs": [],
   "source": [
    "def get_quarter_time(text):\n",
    "    if '/' not in text:\n",
    "        return 0, int(text)\n",
    "    \n",
    "    quarter, year = text.split('/')\n",
    "    return int(quarter[1]), int(year)\n",
    "\n"
   ]
  },
  {
   "cell_type": "code",
   "execution_count": 29,
   "metadata": {},
   "outputs": [],
   "source": [
    "df_bank['quarter'], df_bank['year'] = zip(*df_bank['time'].apply(get_quarter_time))\n",
    "df_corp['quarter'], df_corp['year'] = zip(*df_corp['time'].apply(get_quarter_time))\n",
    "df_sec['quarter'], df_sec['year'] = zip(*df_sec['time'].apply(get_quarter_time))"
   ]
  },
  {
   "cell_type": "code",
   "execution_count": 30,
   "metadata": {},
   "outputs": [],
   "source": [
    "df_bank.drop(columns=['time'], inplace=True)\n",
    "df_corp.drop(columns=['time'], inplace=True)\n",
    "df_sec.drop(columns=['time'], inplace=True)"
   ]
  },
  {
   "cell_type": "code",
   "execution_count": 31,
   "metadata": {},
   "outputs": [],
   "source": [
    "quarter_to_month = {\n",
    "    0: 12,  # Quarter 0 is December of the same year\n",
    "    1: 3,\n",
    "    2: 6,\n",
    "    3: 9,\n",
    "    4: 12\n",
    "}\n",
    "\n",
    "df_sec['date_added'] = pd.to_datetime(df_sec.apply(lambda row: f\"{row['year']}-{quarter_to_month[row['quarter']]}-30\", axis=1))\n",
    "df_bank['date_added'] = pd.to_datetime(df_bank.apply(lambda row: f\"{row['year']}-{quarter_to_month[row['quarter']]}-30\", axis=1))\n",
    "df_corp['date_added'] = pd.to_datetime(df_corp.apply(lambda row: f\"{row['year']}-{quarter_to_month[row['quarter']]}-30\", axis=1))"
   ]
  },
  {
   "cell_type": "code",
   "execution_count": null,
   "metadata": {},
   "outputs": [],
   "source": [
    "# import pandas as pd\n",
    "# import numpy as np\n",
    "\n",
    "# df_bank = pd.read_parquet('../csv/v3/bank_financial_report.parquet')"
   ]
  },
  {
   "cell_type": "code",
   "execution_count": 32,
   "metadata": {},
   "outputs": [
    {
     "data": {
      "text/plain": [
       "88160"
      ]
     },
     "execution_count": 32,
     "metadata": {},
     "output_type": "execute_result"
    }
   ],
   "source": [
    "len(df_bank)"
   ]
  },
  {
   "cell_type": "code",
   "execution_count": 33,
   "metadata": {},
   "outputs": [],
   "source": [
    "pivot_df  = df_bank[df_bank['category_code'].isin(['BS_160', 'BS_180', 'BS_131', 'BS_139'])].pivot_table(\n",
    "    index=[\"stock_code\", \"year\", \"quarter\", \"date_added\"], \n",
    "    columns=\"category_code\", \n",
    "    values=\"data\"\n",
    ").reset_index()\n",
    "\n",
    "pivot_df['BS_200'] = pivot_df['BS_160'] + pivot_df['BS_180'] - pivot_df['BS_131'] - pivot_df['BS_139']\n",
    "\n",
    "new_rows = pivot_df.melt(\n",
    "    id_vars=[\"stock_code\", \"year\", \"quarter\", \"date_added\"], \n",
    "    value_vars=[\"BS_200\"], \n",
    "    var_name=\"category_code\", \n",
    "    value_name=\"data\"\n",
    ")\n",
    "\n",
    "df_bank = pd.concat([df_bank, new_rows], ignore_index=True)"
   ]
  },
  {
   "cell_type": "code",
   "execution_count": 34,
   "metadata": {},
   "outputs": [],
   "source": [
    "pivot_df  = df_bank[df_bank['category_code'].isin(['BS_310', 'BS_320', 'BS_321', 'BS_322', 'BS_330', 'BS_340', 'BS_350', 'BS_360'])].pivot_table(\n",
    "    index=[\"stock_code\", \"year\", \"quarter\", \"date_added\"], \n",
    "    columns=\"category_code\", \n",
    "    values=\"data\"\n",
    ").reset_index()\n",
    "\n",
    "pivot_df['BS_361'] = pivot_df['BS_310'] + pivot_df['BS_320'] + pivot_df['BS_321'] + pivot_df['BS_322'] + pivot_df['BS_330'] + pivot_df['BS_340'] + pivot_df['BS_350'] + pivot_df['BS_360']\n",
    "\n",
    "new_rows = pivot_df.melt(\n",
    "    id_vars=[\"stock_code\", \"year\", \"quarter\", \"date_added\"], \n",
    "    value_vars=[\"BS_361\"], \n",
    "    var_name=\"category_code\", \n",
    "    value_name=\"data\"\n",
    ")\n",
    "\n",
    "df_bank = pd.concat([df_bank, new_rows], ignore_index=True)\n",
    "# df_bank.to_parquet('../csv/bank_financial_report_v2_2.parquet', index=False)"
   ]
  },
  {
   "cell_type": "code",
   "execution_count": 35,
   "metadata": {},
   "outputs": [],
   "source": [
    "pivot_df = df_sec[df_sec['category_code'].isin(['IS_040.1', 'IS_050', 'IS_060', 'IS_061', 'IS_062'])].pivot_table(\n",
    "    index=[\"stock_code\", \"year\", \"quarter\", \"date_added\"], \n",
    "    columns=\"category_code\", \n",
    "    values=\"data\"\n",
    ").reset_index()\n",
    "\n",
    "pivot_df['IS_070'] = pivot_df['IS_040.1'] + pivot_df['IS_050'] - pivot_df['IS_060'] - pivot_df['IS_061'] - pivot_df['IS_062']\n",
    "\n",
    "new_rows = pivot_df.melt(\n",
    "    id_vars=[\"stock_code\", \"year\", \"quarter\", \"date_added\"], \n",
    "    value_vars=[\"IS_040.1\"], \n",
    "    var_name=\"category_code\", \n",
    "    value_name=\"data\"\n",
    ")\n",
    "df_sec = pd.concat([df_sec, new_rows], ignore_index=True)"
   ]
  },
  {
   "cell_type": "markdown",
   "metadata": {},
   "source": [
    "## Total Operating Cost"
   ]
  },
  {
   "cell_type": "code",
   "execution_count": 36,
   "metadata": {},
   "outputs": [],
   "source": [
    "pivot_df = df_sec[df_sec['category_code'].isin(['IS_050', 'IS_060', 'IS_061', 'IS_062'])].pivot_table(\n",
    "    index=[\"stock_code\", \"year\", \"quarter\", \"date_added\"], \n",
    "    columns=\"category_code\", \n",
    "    values=\"data\"\n",
    ").reset_index()\n",
    "\n",
    "pivot_df['IS_095'] =  pivot_df['IS_060'] - pivot_df['IS_050'] + pivot_df['IS_061'] + pivot_df['IS_062']\n",
    "\n",
    "new_rows = pivot_df.melt(\n",
    "    id_vars=[\"stock_code\", \"year\", \"quarter\", \"date_added\"], \n",
    "    value_vars=[\"IS_095\"], \n",
    "    var_name=\"category_code\", \n",
    "    value_name=\"data\"\n",
    ")\n",
    "df_sec = pd.concat([df_sec, new_rows], ignore_index=True)"
   ]
  },
  {
   "cell_type": "code",
   "execution_count": 37,
   "metadata": {},
   "outputs": [],
   "source": [
    "pivot_df = df_corp[df_corp['category_code'].isin(['IS_021', 'IS_022', 'IS_024', 'IS_025', 'IS_026'])].pivot_table(\n",
    "    index=[\"stock_code\", \"year\", \"quarter\", \"date_added\"], \n",
    "    columns=\"category_code\", \n",
    "    values=\"data\"\n",
    ").reset_index()\n",
    "\n",
    "pivot_df['IS_027'] =  pivot_df['IS_022'] - pivot_df['IS_021'] + pivot_df['IS_024'] + pivot_df['IS_025'] + pivot_df['IS_026']\n",
    "\n",
    "new_rows = pivot_df.melt(\n",
    "    id_vars=[\"stock_code\", \"year\", \"quarter\", \"date_added\"], \n",
    "    value_vars=[\"IS_027\"], \n",
    "    var_name=\"category_code\", \n",
    "    value_name=\"data\"\n",
    ")\n",
    "df_corp = pd.concat([df_corp, new_rows], ignore_index=True)"
   ]
  },
  {
   "cell_type": "markdown",
   "metadata": {},
   "source": [
    "## Fix Revenue here"
   ]
  },
  {
   "cell_type": "code",
   "execution_count": 38,
   "metadata": {},
   "outputs": [],
   "source": [
    "df_sec = df_sec[df_sec['year']>=2015]\n",
    "df_bank = df_bank[df_bank['year']>=2015]\n",
    "df_corp = df_corp[df_corp['year']>=2015]\n"
   ]
  },
  {
   "cell_type": "code",
   "execution_count": 39,
   "metadata": {},
   "outputs": [],
   "source": [
    "df_sec.fillna(0, inplace=True)\n",
    "df_bank.fillna(0, inplace=True)\n",
    "df_corp.fillna(0, inplace=True)"
   ]
  },
  {
   "cell_type": "code",
   "execution_count": 40,
   "metadata": {},
   "outputs": [],
   "source": [
    "df_sec.to_parquet('../csv/new/v3/securities_financial_report.parquet', index=False)\n",
    "df_bank.to_parquet('../csv/new/v3/bank_financial_report.parquet', index=False)\n",
    "df_corp.to_parquet('../csv/new/v3/corp_financial_report.parquet', index=False)"
   ]
  },
  {
   "cell_type": "code",
   "execution_count": 31,
   "metadata": {},
   "outputs": [],
   "source": [
    "# df_ratio = pd.read_parquet('../csv/financial_ratio_v3.parquet')"
   ]
  },
  {
   "cell_type": "code",
   "execution_count": null,
   "metadata": {},
   "outputs": [],
   "source": [
    "df_sec = pd.read_parquet('../csv/new/v3/securities_financial_report.parquet')\n",
    "df_bank = pd.read_parquet('../csv/new/v3/bank_financial_report.parquet')\n",
    "df_corp = pd.read_parquet('../csv/new/v3/corp_financial_report.parquet')"
   ]
  },
  {
   "cell_type": "code",
   "execution_count": 33,
   "metadata": {},
   "outputs": [],
   "source": [
    "df_bank.rename(columns={'category_code': 'bank_code'}, inplace=True)\n",
    "df_sec.rename(columns={'category_code': 'sec_code'}, inplace=True)\n",
    "df_corp.rename(columns={'category_code': 'corp_code'}, inplace=True)"
   ]
  },
  {
   "cell_type": "code",
   "execution_count": 34,
   "metadata": {},
   "outputs": [],
   "source": [
    "df_sec = pd.merge(df_sec, df[['sec_code', 'universal_code']], how='left', on='sec_code')\n",
    "df_corp = pd.merge(df_corp, df[['corp_code', 'universal_code']], how='left', on='corp_code')\n",
    "df_bank = pd.merge(df_bank, df[['bank_code', 'universal_code']], how='left', on='bank_code')\n",
    "\n",
    "df_bank.drop(columns=['bank_code'], inplace=True)\n",
    "df_sec.drop(columns=['sec_code'], inplace=True)\n",
    "df_corp.drop(columns=['corp_code'], inplace=True)\n",
    "# df_bank.rename(columns={'bank_code': 'category_code'}, inplace=True)\n",
    "# df_sec.rename(columns={'sec_code': 'category_code'}, inplace=True)\n",
    "# df_corp.rename(columns={'corp_code': 'category_code'}, inplace=True)"
   ]
  },
  {
   "cell_type": "code",
   "execution_count": 35,
   "metadata": {},
   "outputs": [],
   "source": [
    "df_fs = pd.concat([df_bank, df_sec, df_corp], ignore_index=True)\n",
    "df_fs.rename(columns={'universal_code': 'category_code'}, inplace=True)"
   ]
  },
  {
   "cell_type": "code",
   "execution_count": 36,
   "metadata": {},
   "outputs": [
    {
     "data": {
      "text/html": [
       "<div>\n",
       "<style scoped>\n",
       "    .dataframe tbody tr th:only-of-type {\n",
       "        vertical-align: middle;\n",
       "    }\n",
       "\n",
       "    .dataframe tbody tr th {\n",
       "        vertical-align: top;\n",
       "    }\n",
       "\n",
       "    .dataframe thead th {\n",
       "        text-align: right;\n",
       "    }\n",
       "</style>\n",
       "<table border=\"1\" class=\"dataframe\">\n",
       "  <thead>\n",
       "    <tr style=\"text-align: right;\">\n",
       "      <th></th>\n",
       "      <th>data</th>\n",
       "      <th>stock_code</th>\n",
       "      <th>quarter</th>\n",
       "      <th>year</th>\n",
       "      <th>date_added</th>\n",
       "      <th>category_code</th>\n",
       "    </tr>\n",
       "  </thead>\n",
       "  <tbody>\n",
       "    <tr>\n",
       "      <th>0</th>\n",
       "      <td>1.931497e+07</td>\n",
       "      <td>BID</td>\n",
       "      <td>0</td>\n",
       "      <td>2015</td>\n",
       "      <td>2015-12-30</td>\n",
       "      <td>IS_150</td>\n",
       "    </tr>\n",
       "    <tr>\n",
       "      <th>1</th>\n",
       "      <td>2.339361e+07</td>\n",
       "      <td>BID</td>\n",
       "      <td>0</td>\n",
       "      <td>2016</td>\n",
       "      <td>2016-12-30</td>\n",
       "      <td>IS_150</td>\n",
       "    </tr>\n",
       "    <tr>\n",
       "      <th>2</th>\n",
       "      <td>3.095533e+07</td>\n",
       "      <td>BID</td>\n",
       "      <td>0</td>\n",
       "      <td>2017</td>\n",
       "      <td>2017-12-30</td>\n",
       "      <td>IS_150</td>\n",
       "    </tr>\n",
       "    <tr>\n",
       "      <th>3</th>\n",
       "      <td>3.472085e+07</td>\n",
       "      <td>BID</td>\n",
       "      <td>0</td>\n",
       "      <td>2018</td>\n",
       "      <td>2018-12-30</td>\n",
       "      <td>IS_150</td>\n",
       "    </tr>\n",
       "    <tr>\n",
       "      <th>4</th>\n",
       "      <td>3.597781e+07</td>\n",
       "      <td>BID</td>\n",
       "      <td>0</td>\n",
       "      <td>2019</td>\n",
       "      <td>2019-12-30</td>\n",
       "      <td>IS_150</td>\n",
       "    </tr>\n",
       "    <tr>\n",
       "      <th>...</th>\n",
       "      <td>...</td>\n",
       "      <td>...</td>\n",
       "      <td>...</td>\n",
       "      <td>...</td>\n",
       "      <td>...</td>\n",
       "      <td>...</td>\n",
       "    </tr>\n",
       "    <tr>\n",
       "      <th>829034</th>\n",
       "      <td>-4.082407e+04</td>\n",
       "      <td>YEG</td>\n",
       "      <td>3</td>\n",
       "      <td>2023</td>\n",
       "      <td>2023-09-30</td>\n",
       "      <td>IS_057</td>\n",
       "    </tr>\n",
       "    <tr>\n",
       "      <th>829035</th>\n",
       "      <td>-8.856448e+04</td>\n",
       "      <td>YEG</td>\n",
       "      <td>4</td>\n",
       "      <td>2023</td>\n",
       "      <td>2023-12-30</td>\n",
       "      <td>IS_057</td>\n",
       "    </tr>\n",
       "    <tr>\n",
       "      <th>829036</th>\n",
       "      <td>-7.546336e+04</td>\n",
       "      <td>YEG</td>\n",
       "      <td>1</td>\n",
       "      <td>2024</td>\n",
       "      <td>2024-03-30</td>\n",
       "      <td>IS_057</td>\n",
       "    </tr>\n",
       "    <tr>\n",
       "      <th>829037</th>\n",
       "      <td>-8.250625e+04</td>\n",
       "      <td>YEG</td>\n",
       "      <td>2</td>\n",
       "      <td>2024</td>\n",
       "      <td>2024-06-30</td>\n",
       "      <td>IS_057</td>\n",
       "    </tr>\n",
       "    <tr>\n",
       "      <th>829038</th>\n",
       "      <td>-9.208664e+04</td>\n",
       "      <td>YEG</td>\n",
       "      <td>3</td>\n",
       "      <td>2024</td>\n",
       "      <td>2024-09-30</td>\n",
       "      <td>IS_057</td>\n",
       "    </tr>\n",
       "  </tbody>\n",
       "</table>\n",
       "<p>829039 rows × 6 columns</p>\n",
       "</div>"
      ],
      "text/plain": [
       "                data stock_code  quarter  year date_added category_code\n",
       "0       1.931497e+07        BID        0  2015 2015-12-30        IS_150\n",
       "1       2.339361e+07        BID        0  2016 2016-12-30        IS_150\n",
       "2       3.095533e+07        BID        0  2017 2017-12-30        IS_150\n",
       "3       3.472085e+07        BID        0  2018 2018-12-30        IS_150\n",
       "4       3.597781e+07        BID        0  2019 2019-12-30        IS_150\n",
       "...              ...        ...      ...   ...        ...           ...\n",
       "829034 -4.082407e+04        YEG        3  2023 2023-09-30        IS_057\n",
       "829035 -8.856448e+04        YEG        4  2023 2023-12-30        IS_057\n",
       "829036 -7.546336e+04        YEG        1  2024 2024-03-30        IS_057\n",
       "829037 -8.250625e+04        YEG        2  2024 2024-06-30        IS_057\n",
       "829038 -9.208664e+04        YEG        3  2024 2024-09-30        IS_057\n",
       "\n",
       "[829039 rows x 6 columns]"
      ]
     },
     "execution_count": 36,
     "metadata": {},
     "output_type": "execute_result"
    }
   ],
   "source": [
    "df_fs"
   ]
  },
  {
   "cell_type": "code",
   "execution_count": 37,
   "metadata": {},
   "outputs": [
    {
     "data": {
      "text/plain": [
       "data               0\n",
       "stock_code         0\n",
       "quarter            0\n",
       "year               0\n",
       "date_added         0\n",
       "category_code    239\n",
       "dtype: int64"
      ]
     },
     "execution_count": 37,
     "metadata": {},
     "output_type": "execute_result"
    }
   ],
   "source": [
    "df_fs.isna().sum()"
   ]
  },
  {
   "cell_type": "code",
   "execution_count": 38,
   "metadata": {},
   "outputs": [
    {
     "data": {
      "text/html": [
       "<div>\n",
       "<style scoped>\n",
       "    .dataframe tbody tr th:only-of-type {\n",
       "        vertical-align: middle;\n",
       "    }\n",
       "\n",
       "    .dataframe tbody tr th {\n",
       "        vertical-align: top;\n",
       "    }\n",
       "\n",
       "    .dataframe thead th {\n",
       "        text-align: right;\n",
       "    }\n",
       "</style>\n",
       "<table border=\"1\" class=\"dataframe\">\n",
       "  <thead>\n",
       "    <tr style=\"text-align: right;\">\n",
       "      <th></th>\n",
       "      <th>Corp</th>\n",
       "      <th>corp_code</th>\n",
       "      <th>Securities</th>\n",
       "      <th>sec_code</th>\n",
       "      <th>Bank</th>\n",
       "      <th>bank_code</th>\n",
       "      <th>en_caption</th>\n",
       "      <th>universal_code</th>\n",
       "      <th>parent_code</th>\n",
       "    </tr>\n",
       "  </thead>\n",
       "  <tbody>\n",
       "    <tr>\n",
       "      <th>0</th>\n",
       "      <td>A. CURRENT ASSETS</td>\n",
       "      <td>BS_100</td>\n",
       "      <td>A. CURRENT ASSETS</td>\n",
       "      <td>BS_100</td>\n",
       "      <td>NaN</td>\n",
       "      <td>NaN</td>\n",
       "      <td>(Balance sheet) A. CURRENT ASSETS</td>\n",
       "      <td>BS_100</td>\n",
       "      <td>BS_100</td>\n",
       "    </tr>\n",
       "    <tr>\n",
       "      <th>1</th>\n",
       "      <td>NaN</td>\n",
       "      <td>NaN</td>\n",
       "      <td>I. Financial Assets</td>\n",
       "      <td>BS_110</td>\n",
       "      <td>NaN</td>\n",
       "      <td>NaN</td>\n",
       "      <td>(Balance sheet) (Securities) Financial Assets</td>\n",
       "      <td>BS_101</td>\n",
       "      <td>BS_101</td>\n",
       "    </tr>\n",
       "    <tr>\n",
       "      <th>2</th>\n",
       "      <td>I. Cash and cash equivalents</td>\n",
       "      <td>BS_110</td>\n",
       "      <td>1. Cash and cash equivalents</td>\n",
       "      <td>BS_111</td>\n",
       "      <td>NaN</td>\n",
       "      <td>NaN</td>\n",
       "      <td>(Balance sheet) Cash and cash equivalents</td>\n",
       "      <td>BS_110</td>\n",
       "      <td>BS_110</td>\n",
       "    </tr>\n",
       "    <tr>\n",
       "      <th>3</th>\n",
       "      <td>Cash</td>\n",
       "      <td>BS_111</td>\n",
       "      <td>1.1. Cash</td>\n",
       "      <td>BS_111.1</td>\n",
       "      <td>Cash, precious metals, gemstones</td>\n",
       "      <td>BS_110</td>\n",
       "      <td>(Balance sheet) Cash</td>\n",
       "      <td>BS_111</td>\n",
       "      <td>BS_110</td>\n",
       "    </tr>\n",
       "    <tr>\n",
       "      <th>4</th>\n",
       "      <td>NaN</td>\n",
       "      <td>NaN</td>\n",
       "      <td>NaN</td>\n",
       "      <td>NaN</td>\n",
       "      <td>Deposits at the Central Bank</td>\n",
       "      <td>BS_120</td>\n",
       "      <td>(Balance sheet) (Bank) Deposits at the Central...</td>\n",
       "      <td>BS_112</td>\n",
       "      <td>BS_110</td>\n",
       "    </tr>\n",
       "    <tr>\n",
       "      <th>...</th>\n",
       "      <td>...</td>\n",
       "      <td>...</td>\n",
       "      <td>...</td>\n",
       "      <td>...</td>\n",
       "      <td>...</td>\n",
       "      <td>...</td>\n",
       "      <td>...</td>\n",
       "      <td>...</td>\n",
       "      <td>...</td>\n",
       "    </tr>\n",
       "    <tr>\n",
       "      <th>340</th>\n",
       "      <td>Lưu chuyển tiền thuần từ hoạt động tài chính</td>\n",
       "      <td>CF_040</td>\n",
       "      <td>Lưu chuyển tiền tệ từ hoạt động tài chính</td>\n",
       "      <td>CF_080</td>\n",
       "      <td>III.Lưu chuyển tiền thuần từ hoạt động tài chính</td>\n",
       "      <td>CF_041</td>\n",
       "      <td>(Cash flow) Net cash flow from financing activ...</td>\n",
       "      <td>CF_090</td>\n",
       "      <td>CF_090</td>\n",
       "    </tr>\n",
       "    <tr>\n",
       "      <th>341</th>\n",
       "      <td>Lưu chuyển tiền thuần trong kỳ (50 = 20+30+40)</td>\n",
       "      <td>CF_050</td>\n",
       "      <td>LƯU CHUYỂN TIỀN THUẦN TRONG KỲ</td>\n",
       "      <td>CF_090</td>\n",
       "      <td>IV.Lưu chuyển tiền thuần trong kỳ</td>\n",
       "      <td>CF_042</td>\n",
       "      <td>(Cash flow) Net cash flow during the period</td>\n",
       "      <td>CF_100</td>\n",
       "      <td>CF_100</td>\n",
       "    </tr>\n",
       "    <tr>\n",
       "      <th>342</th>\n",
       "      <td>Tiền và tương đương tiền đầu kỳ</td>\n",
       "      <td>CF_060</td>\n",
       "      <td>TIỀN VÀ TƯƠNG ĐƯƠNG TIỀN ĐẦU KỲ</td>\n",
       "      <td>CF_101</td>\n",
       "      <td>V. Tiền và các khoản tương đương tiền tại thời...</td>\n",
       "      <td>CF_043</td>\n",
       "      <td>(Cash flow) Cash and cash equivalents at the b...</td>\n",
       "      <td>CF_110</td>\n",
       "      <td>CF_110</td>\n",
       "    </tr>\n",
       "    <tr>\n",
       "      <th>343</th>\n",
       "      <td>Ảnh hưởng của thay đổi tỷ giá hối đoái quy đổi...</td>\n",
       "      <td>CF_061</td>\n",
       "      <td>NaN</td>\n",
       "      <td>NaN</td>\n",
       "      <td>VI. Điều chỉnh ảnh hưởng của thay đổi tỷ giá</td>\n",
       "      <td>CF_044</td>\n",
       "      <td>(Cash flow) Effects of exchange rate changes o...</td>\n",
       "      <td>CF_120</td>\n",
       "      <td>CF_120</td>\n",
       "    </tr>\n",
       "    <tr>\n",
       "      <th>344</th>\n",
       "      <td>Tiền và tương đương tiền cuối kỳ (70 = 50+60+61)</td>\n",
       "      <td>CF_070</td>\n",
       "      <td>TIỀN VÀ TƯƠNG ĐƯƠNG TIỀN CUỐI KỲ</td>\n",
       "      <td>CF_103</td>\n",
       "      <td>VII. Tiền và các khoản tương đương tiền tại th...</td>\n",
       "      <td>CF_045</td>\n",
       "      <td>(Cash flow) Cash and cash equivalents at the e...</td>\n",
       "      <td>CF_130</td>\n",
       "      <td>CF_130</td>\n",
       "    </tr>\n",
       "  </tbody>\n",
       "</table>\n",
       "<p>345 rows × 9 columns</p>\n",
       "</div>"
      ],
      "text/plain": [
       "                                                  Corp corp_code  \\\n",
       "0                                    A. CURRENT ASSETS    BS_100   \n",
       "1                                                  NaN       NaN   \n",
       "2                         I. Cash and cash equivalents    BS_110   \n",
       "3                                                 Cash    BS_111   \n",
       "4                                                  NaN       NaN   \n",
       "..                                                 ...       ...   \n",
       "340       Lưu chuyển tiền thuần từ hoạt động tài chính    CF_040   \n",
       "341     Lưu chuyển tiền thuần trong kỳ (50 = 20+30+40)    CF_050   \n",
       "342                    Tiền và tương đương tiền đầu kỳ    CF_060   \n",
       "343  Ảnh hưởng của thay đổi tỷ giá hối đoái quy đổi...    CF_061   \n",
       "344   Tiền và tương đương tiền cuối kỳ (70 = 50+60+61)    CF_070   \n",
       "\n",
       "                                    Securities  sec_code  \\\n",
       "0                            A. CURRENT ASSETS    BS_100   \n",
       "1                          I. Financial Assets    BS_110   \n",
       "2                 1. Cash and cash equivalents    BS_111   \n",
       "3                                    1.1. Cash  BS_111.1   \n",
       "4                                          NaN       NaN   \n",
       "..                                         ...       ...   \n",
       "340  Lưu chuyển tiền tệ từ hoạt động tài chính    CF_080   \n",
       "341             LƯU CHUYỂN TIỀN THUẦN TRONG KỲ    CF_090   \n",
       "342            TIỀN VÀ TƯƠNG ĐƯƠNG TIỀN ĐẦU KỲ    CF_101   \n",
       "343                                        NaN       NaN   \n",
       "344           TIỀN VÀ TƯƠNG ĐƯƠNG TIỀN CUỐI KỲ    CF_103   \n",
       "\n",
       "                                                  Bank bank_code  \\\n",
       "0                                                  NaN       NaN   \n",
       "1                                                  NaN       NaN   \n",
       "2                                                  NaN       NaN   \n",
       "3                     Cash, precious metals, gemstones    BS_110   \n",
       "4                         Deposits at the Central Bank    BS_120   \n",
       "..                                                 ...       ...   \n",
       "340   III.Lưu chuyển tiền thuần từ hoạt động tài chính    CF_041   \n",
       "341                  IV.Lưu chuyển tiền thuần trong kỳ    CF_042   \n",
       "342  V. Tiền và các khoản tương đương tiền tại thời...    CF_043   \n",
       "343       VI. Điều chỉnh ảnh hưởng của thay đổi tỷ giá    CF_044   \n",
       "344  VII. Tiền và các khoản tương đương tiền tại th...    CF_045   \n",
       "\n",
       "                                            en_caption universal_code  \\\n",
       "0                    (Balance sheet) A. CURRENT ASSETS         BS_100   \n",
       "1        (Balance sheet) (Securities) Financial Assets         BS_101   \n",
       "2            (Balance sheet) Cash and cash equivalents         BS_110   \n",
       "3                                 (Balance sheet) Cash         BS_111   \n",
       "4    (Balance sheet) (Bank) Deposits at the Central...         BS_112   \n",
       "..                                                 ...            ...   \n",
       "340  (Cash flow) Net cash flow from financing activ...         CF_090   \n",
       "341        (Cash flow) Net cash flow during the period         CF_100   \n",
       "342  (Cash flow) Cash and cash equivalents at the b...         CF_110   \n",
       "343  (Cash flow) Effects of exchange rate changes o...         CF_120   \n",
       "344  (Cash flow) Cash and cash equivalents at the e...         CF_130   \n",
       "\n",
       "    parent_code  \n",
       "0        BS_100  \n",
       "1        BS_101  \n",
       "2        BS_110  \n",
       "3        BS_110  \n",
       "4        BS_110  \n",
       "..          ...  \n",
       "340      CF_090  \n",
       "341      CF_100  \n",
       "342      CF_110  \n",
       "343      CF_120  \n",
       "344      CF_130  \n",
       "\n",
       "[345 rows x 9 columns]"
      ]
     },
     "execution_count": 38,
     "metadata": {},
     "output_type": "execute_result"
    }
   ],
   "source": [
    "df"
   ]
  },
  {
   "cell_type": "code",
   "execution_count": 39,
   "metadata": {},
   "outputs": [
    {
     "data": {
      "text/plain": [
       "(345, 336)"
      ]
     },
     "execution_count": 39,
     "metadata": {},
     "output_type": "execute_result"
    }
   ],
   "source": [
    "all_categories = df['universal_code'].unique()\n",
    "categories = df_fs['category_code'].unique()\n",
    "\n",
    "len(all_categories), len(categories)"
   ]
  },
  {
   "cell_type": "code",
   "execution_count": 40,
   "metadata": {},
   "outputs": [
    {
     "data": {
      "text/plain": [
       "['BS_910',\n",
       " 'BS_911',\n",
       " 'BS_912',\n",
       " 'BS_913',\n",
       " 'BS_920',\n",
       " 'BS_921',\n",
       " 'BS_922',\n",
       " 'IS_007',\n",
       " 'IS_025',\n",
       " 'IS_112']"
      ]
     },
     "execution_count": 40,
     "metadata": {},
     "output_type": "execute_result"
    }
   ],
   "source": [
    "categories = set(categories)\n",
    "missing_categories = []\n",
    "for cate in all_categories:\n",
    "    if cate not in categories:\n",
    "        missing_categories.append(cate)\n",
    "        \n",
    "missing_categories"
   ]
  },
  {
   "cell_type": "code",
   "execution_count": 41,
   "metadata": {},
   "outputs": [
    {
     "data": {
      "text/html": [
       "<div>\n",
       "<style scoped>\n",
       "    .dataframe tbody tr th:only-of-type {\n",
       "        vertical-align: middle;\n",
       "    }\n",
       "\n",
       "    .dataframe tbody tr th {\n",
       "        vertical-align: top;\n",
       "    }\n",
       "\n",
       "    .dataframe thead th {\n",
       "        text-align: right;\n",
       "    }\n",
       "</style>\n",
       "<table border=\"1\" class=\"dataframe\">\n",
       "  <thead>\n",
       "    <tr style=\"text-align: right;\">\n",
       "      <th></th>\n",
       "      <th>data</th>\n",
       "      <th>stock_code</th>\n",
       "      <th>quarter</th>\n",
       "      <th>year</th>\n",
       "      <th>date_added</th>\n",
       "      <th>category_code</th>\n",
       "    </tr>\n",
       "  </thead>\n",
       "  <tbody>\n",
       "    <tr>\n",
       "      <th>121190</th>\n",
       "      <td>52547.157092</td>\n",
       "      <td>MBS</td>\n",
       "      <td>0</td>\n",
       "      <td>2015</td>\n",
       "      <td>2015-12-30</td>\n",
       "      <td>NaN</td>\n",
       "    </tr>\n",
       "    <tr>\n",
       "      <th>121191</th>\n",
       "      <td>72135.105403</td>\n",
       "      <td>MBS</td>\n",
       "      <td>0</td>\n",
       "      <td>2016</td>\n",
       "      <td>2016-12-30</td>\n",
       "      <td>NaN</td>\n",
       "    </tr>\n",
       "    <tr>\n",
       "      <th>121192</th>\n",
       "      <td>291083.138880</td>\n",
       "      <td>MBS</td>\n",
       "      <td>0</td>\n",
       "      <td>2017</td>\n",
       "      <td>2017-12-30</td>\n",
       "      <td>NaN</td>\n",
       "    </tr>\n",
       "    <tr>\n",
       "      <th>121193</th>\n",
       "      <td>267197.150144</td>\n",
       "      <td>MBS</td>\n",
       "      <td>0</td>\n",
       "      <td>2018</td>\n",
       "      <td>2018-12-30</td>\n",
       "      <td>NaN</td>\n",
       "    </tr>\n",
       "    <tr>\n",
       "      <th>121194</th>\n",
       "      <td>102138.983852</td>\n",
       "      <td>MBS</td>\n",
       "      <td>0</td>\n",
       "      <td>2019</td>\n",
       "      <td>2019-12-30</td>\n",
       "      <td>NaN</td>\n",
       "    </tr>\n",
       "    <tr>\n",
       "      <th>...</th>\n",
       "      <td>...</td>\n",
       "      <td>...</td>\n",
       "      <td>...</td>\n",
       "      <td>...</td>\n",
       "      <td>...</td>\n",
       "      <td>...</td>\n",
       "    </tr>\n",
       "    <tr>\n",
       "      <th>171972</th>\n",
       "      <td>112484.132802</td>\n",
       "      <td>ORS</td>\n",
       "      <td>3</td>\n",
       "      <td>2023</td>\n",
       "      <td>2023-09-30</td>\n",
       "      <td>NaN</td>\n",
       "    </tr>\n",
       "    <tr>\n",
       "      <th>171973</th>\n",
       "      <td>126391.229291</td>\n",
       "      <td>ORS</td>\n",
       "      <td>4</td>\n",
       "      <td>2023</td>\n",
       "      <td>2023-12-30</td>\n",
       "      <td>NaN</td>\n",
       "    </tr>\n",
       "    <tr>\n",
       "      <th>171974</th>\n",
       "      <td>84385.968936</td>\n",
       "      <td>ORS</td>\n",
       "      <td>1</td>\n",
       "      <td>2024</td>\n",
       "      <td>2024-03-30</td>\n",
       "      <td>NaN</td>\n",
       "    </tr>\n",
       "    <tr>\n",
       "      <th>171975</th>\n",
       "      <td>128185.117730</td>\n",
       "      <td>ORS</td>\n",
       "      <td>2</td>\n",
       "      <td>2024</td>\n",
       "      <td>2024-06-30</td>\n",
       "      <td>NaN</td>\n",
       "    </tr>\n",
       "    <tr>\n",
       "      <th>171976</th>\n",
       "      <td>144886.398491</td>\n",
       "      <td>ORS</td>\n",
       "      <td>3</td>\n",
       "      <td>2024</td>\n",
       "      <td>2024-09-30</td>\n",
       "      <td>NaN</td>\n",
       "    </tr>\n",
       "  </tbody>\n",
       "</table>\n",
       "<p>239 rows × 6 columns</p>\n",
       "</div>"
      ],
      "text/plain": [
       "                 data stock_code  quarter  year date_added category_code\n",
       "121190   52547.157092        MBS        0  2015 2015-12-30           NaN\n",
       "121191   72135.105403        MBS        0  2016 2016-12-30           NaN\n",
       "121192  291083.138880        MBS        0  2017 2017-12-30           NaN\n",
       "121193  267197.150144        MBS        0  2018 2018-12-30           NaN\n",
       "121194  102138.983852        MBS        0  2019 2019-12-30           NaN\n",
       "...               ...        ...      ...   ...        ...           ...\n",
       "171972  112484.132802        ORS        3  2023 2023-09-30           NaN\n",
       "171973  126391.229291        ORS        4  2023 2023-12-30           NaN\n",
       "171974   84385.968936        ORS        1  2024 2024-03-30           NaN\n",
       "171975  128185.117730        ORS        2  2024 2024-06-30           NaN\n",
       "171976  144886.398491        ORS        3  2024 2024-09-30           NaN\n",
       "\n",
       "[239 rows x 6 columns]"
      ]
     },
     "execution_count": 41,
     "metadata": {},
     "output_type": "execute_result"
    }
   ],
   "source": [
    "df_fs[df_fs['category_code'].isnull()]"
   ]
  },
  {
   "cell_type": "code",
   "execution_count": 42,
   "metadata": {},
   "outputs": [],
   "source": [
    "df_fs.dropna(subset=['category_code'], inplace=True)"
   ]
  },
  {
   "cell_type": "code",
   "execution_count": 43,
   "metadata": {},
   "outputs": [],
   "source": [
    "df_fs.to_parquet('../data/financial_statement_v3.parquet', index=False)"
   ]
  },
  {
   "cell_type": "markdown",
   "metadata": {},
   "source": [
    "# Explaination"
   ]
  },
  {
   "cell_type": "code",
   "execution_count": 41,
   "metadata": {},
   "outputs": [],
   "source": [
    "import pandas as pd\n",
    "import numpy as np\n",
    "mapping_file = pd.ExcelFile('vietnames_to_fiin.xlsx')"
   ]
  },
  {
   "cell_type": "code",
   "execution_count": 42,
   "metadata": {},
   "outputs": [],
   "source": [
    "df_map_tm_bank = mapping_file.parse('fiin_TM_bank')\n",
    "df_map_tm_sec = mapping_file.parse('fiin_TM_sec')\n",
    "df_map_tm_corp = mapping_file.parse('fiin_TM_corp')"
   ]
  },
  {
   "cell_type": "code",
   "execution_count": 43,
   "metadata": {},
   "outputs": [
    {
     "data": {
      "application/vnd.microsoft.datawrangler.viewer.v0+json": {
       "columns": [
        {
         "name": "index",
         "rawType": "int64",
         "type": "integer"
        },
        {
         "name": "fiin_caption",
         "rawType": "object",
         "type": "string"
        },
        {
         "name": "keep",
         "rawType": "int64",
         "type": "integer"
        },
        {
         "name": "code",
         "rawType": "int64",
         "type": "integer"
        },
        {
         "name": "category_code",
         "rawType": "object",
         "type": "string"
        },
        {
         "name": "parent_code",
         "rawType": "object",
         "type": "unknown"
        },
        {
         "name": "share_code",
         "rawType": "object",
         "type": "unknown"
        },
        {
         "name": "vi_caption",
         "rawType": "object",
         "type": "string"
        },
        {
         "name": "en_caption",
         "rawType": "object",
         "type": "unknown"
        }
       ],
       "conversionMethod": "pd.DataFrame",
       "ref": "5325e8a1-ab83-48cd-b1c3-271b85964e91",
       "rows": [
        [
         "0",
         "CHỨNG KHOÁN LƯU KÝ NIÊM YẾT",
         "0",
         "1",
         "TM_1",
         null,
         null,
         "CHỨNG KHOÁN LƯU KÝ NIÊM YẾT",
         null
        ],
        [
         "1",
         "     Chứng khoán giao dịch",
         "0",
         "2",
         "TM_2",
         null,
         null,
         "     Chứng khoán giao dịch",
         null
        ],
        [
         "2",
         "          Chứng khoán giao dịch của thành viên lưu ký",
         "0",
         "3",
         "TM_3",
         null,
         null,
         "          Chứng khoán giao dịch của thành viên lưu ký",
         null
        ],
        [
         "3",
         "          Chứng khoán giao dịch của khách hàng trong nước",
         "0",
         "4",
         "TM_4",
         null,
         null,
         "          Chứng khoán giao dịch của khách hàng trong nước",
         null
        ],
        [
         "4",
         "          Chứng khoán giao dịch của khách hàng nước ngoài",
         "0",
         "5",
         "TM_5",
         null,
         null,
         "          Chứng khoán giao dịch của khách hàng nước ngoài",
         null
        ],
        [
         "5",
         "          Chứng khoán giao dịch của tổ chức khác",
         "0",
         "6",
         "TM_6",
         null,
         null,
         "          Chứng khoán giao dịch của tổ chức khác",
         null
        ],
        [
         "6",
         "     Chứng khoán tạm ngừng giao dịch",
         "0",
         "7",
         "TM_7",
         null,
         null,
         "     Chứng khoán tạm ngừng giao dịch",
         null
        ],
        [
         "7",
         "          Chứng khoán tạm ngừng giao dịch của thành viên lưu ký",
         "0",
         "8",
         "TM_8",
         null,
         null,
         "          Chứng khoán tạm ngừng giao dịch của thành viên lưu ký",
         null
        ],
        [
         "8",
         "          Chứng khoán tạm ngừng giao dịch của khách hàng trong nước",
         "0",
         "9",
         "TM_9",
         null,
         null,
         "          Chứng khoán tạm ngừng giao dịch của khách hàng trong nước",
         null
        ],
        [
         "9",
         "          Chứng khoán tạm ngừng giao dịch của khách hàng nước ngoài",
         "0",
         "10",
         "TM_10",
         null,
         null,
         "          Chứng khoán tạm ngừng giao dịch của khách hàng nước ngoài",
         null
        ],
        [
         "10",
         "          Chứng khoán tạm ngừng giao dịch của tổ chức khác",
         "0",
         "11",
         "TM_11",
         null,
         null,
         "          Chứng khoán tạm ngừng giao dịch của tổ chức khác",
         null
        ],
        [
         "11",
         "     Chứng khoán cầm cố",
         "0",
         "12",
         "TM_12",
         null,
         null,
         "     Chứng khoán cầm cố",
         null
        ],
        [
         "12",
         "          Chứng khoán cầm cố của thành viên lưu ký",
         "0",
         "13",
         "TM_13",
         null,
         null,
         "          Chứng khoán cầm cố của thành viên lưu ký",
         null
        ],
        [
         "13",
         "          Chứng khoán cầm cố của khách hàng trong nước",
         "0",
         "14",
         "TM_14",
         null,
         null,
         "          Chứng khoán cầm cố của khách hàng trong nước",
         null
        ],
        [
         "14",
         "          Chứng khoán cầm cố của khách hàng nước ngoài",
         "0",
         "15",
         "TM_15",
         null,
         null,
         "          Chứng khoán cầm cố của khách hàng nước ngoài",
         null
        ],
        [
         "15",
         "          Chứng khoán cầm cố của tổ chức khác",
         "0",
         "16",
         "TM_16",
         null,
         null,
         "          Chứng khoán cầm cố của tổ chức khác",
         null
        ],
        [
         "16",
         "     Chứng khoán tạm giữ",
         "0",
         "17",
         "TM_17",
         null,
         null,
         "     Chứng khoán tạm giữ",
         null
        ],
        [
         "17",
         "          Chứng khoán tạm giữ của thành viên lưu ký",
         "0",
         "18",
         "TM_18",
         null,
         null,
         "          Chứng khoán tạm giữ của thành viên lưu ký",
         null
        ],
        [
         "18",
         "          Chứng khoán tạm giữ của khách hàng trong nước",
         "0",
         "19",
         "TM_19",
         null,
         null,
         "          Chứng khoán tạm giữ của khách hàng trong nước",
         null
        ],
        [
         "19",
         "          Chứng khoán tạm giữ của khách hàng nước ngoài",
         "0",
         "20",
         "TM_20",
         null,
         null,
         "          Chứng khoán tạm giữ của khách hàng nước ngoài",
         null
        ],
        [
         "20",
         "          Chứng khoán tạm giữ của tổ chức khác",
         "0",
         "21",
         "TM_21",
         null,
         null,
         "          Chứng khoán tạm giữ của tổ chức khác",
         null
        ],
        [
         "21",
         "     Chứng khoán chờ thanh toán",
         "0",
         "22",
         "TM_22",
         null,
         null,
         "     Chứng khoán chờ thanh toán",
         null
        ],
        [
         "22",
         "          Chứng khoán chờ thanh toán của thành viên lưu ký",
         "0",
         "23",
         "TM_23",
         null,
         null,
         "          Chứng khoán chờ thanh toán của thành viên lưu ký",
         null
        ],
        [
         "23",
         "          Chứng khoán chờ thanh toán của khách hàng trong nước",
         "0",
         "24",
         "TM_24",
         null,
         null,
         "          Chứng khoán chờ thanh toán của khách hàng trong nước",
         null
        ],
        [
         "24",
         "          Chứng khoán chờ thanh toán của khách hàng nước ngoài",
         "0",
         "25",
         "TM_25",
         null,
         null,
         "          Chứng khoán chờ thanh toán của khách hàng nước ngoài",
         null
        ],
        [
         "25",
         "          Chứng khoán chờ thanh toán của tổ chức khác",
         "0",
         "26",
         "TM_26",
         null,
         null,
         "          Chứng khoán chờ thanh toán của tổ chức khác",
         null
        ],
        [
         "26",
         "     Chứng khoán phong tỏa chờ rút",
         "0",
         "27",
         "TM_27",
         null,
         null,
         "     Chứng khoán phong tỏa chờ rút",
         null
        ],
        [
         "27",
         "          Chứng khoán phong tỏa chờ rút của thành viên lưu ký",
         "0",
         "28",
         "TM_28",
         null,
         null,
         "          Chứng khoán phong tỏa chờ rút của thành viên lưu ký",
         null
        ],
        [
         "28",
         "          Chứng khoán phong tỏa chờ rút của khách hàng trong nước",
         "0",
         "29",
         "TM_29",
         null,
         null,
         "          Chứng khoán phong tỏa chờ rút của khách hàng trong nước",
         null
        ],
        [
         "29",
         "          Chứng khoán phong tỏa chờ rút của khách hàng nước ngoài",
         "0",
         "30",
         "TM_30",
         null,
         null,
         "          Chứng khoán phong tỏa chờ rút của khách hàng nước ngoài",
         null
        ],
        [
         "30",
         "          Chứng khoán phong tỏa chờ rút của tổ chức khác",
         "0",
         "31",
         "TM_31",
         null,
         null,
         "          Chứng khoán phong tỏa chờ rút của tổ chức khác",
         null
        ],
        [
         "31",
         "     Chứng khoán chờ giao dịch",
         "0",
         "32",
         "TM_32",
         null,
         null,
         "     Chứng khoán chờ giao dịch",
         null
        ],
        [
         "32",
         "          Chứng khoán chờ giao dịch của thành viên lưu ký",
         "0",
         "33",
         "TM_33",
         null,
         null,
         "          Chứng khoán chờ giao dịch của thành viên lưu ký",
         null
        ],
        [
         "33",
         "          Chứng khoán chờ giao dịch của khách hàng trong nước",
         "0",
         "34",
         "TM_34",
         null,
         null,
         "          Chứng khoán chờ giao dịch của khách hàng trong nước",
         null
        ],
        [
         "34",
         "          Chứng khoán chờ giao dịch của khách hàng nước ngoài",
         "0",
         "35",
         "TM_35",
         null,
         null,
         "          Chứng khoán chờ giao dịch của khách hàng nước ngoài",
         null
        ],
        [
         "35",
         "          Chứng khoán chờ giao dịch của tổ chức khác",
         "0",
         "36",
         "TM_36",
         null,
         null,
         "          Chứng khoán chờ giao dịch của tổ chức khác",
         null
        ],
        [
         "36",
         "     Chứng khoán ký quỹ đảm bảo khoản vay",
         "0",
         "37",
         "TM_37",
         null,
         null,
         "     Chứng khoán ký quỹ đảm bảo khoản vay",
         null
        ],
        [
         "37",
         "          Chứng khoán ký quỹ đảm bảo khoản vay của thành viên lưu ký",
         "0",
         "38",
         "TM_38",
         null,
         null,
         "          Chứng khoán ký quỹ đảm bảo khoản vay của thành viên lưu ký",
         null
        ],
        [
         "38",
         "          Chứng khoán ký quỹ đảm bảo khoản vay của khách hàng trong nước",
         "0",
         "39",
         "TM_39",
         null,
         null,
         "          Chứng khoán ký quỹ đảm bảo khoản vay của khách hàng trong nước",
         null
        ],
        [
         "39",
         "          Chứng khoán ký quỹ đảm bảo khoản vay của khách hàng nước ngoài",
         "0",
         "40",
         "TM_40",
         null,
         null,
         "          Chứng khoán ký quỹ đảm bảo khoản vay của khách hàng nước ngoài",
         null
        ],
        [
         "40",
         "          Chứng khoán ký quỹ đảm bảo khoản vay của tổ chức khác",
         "0",
         "41",
         "TM_41",
         null,
         null,
         "          Chứng khoán ký quỹ đảm bảo khoản vay của tổ chức khác",
         null
        ],
        [
         "41",
         "     Chứng khoán sửa lỗi giao dịch",
         "0",
         "42",
         "TM_42",
         null,
         null,
         "     Chứng khoán sửa lỗi giao dịch",
         null
        ],
        [
         "42",
         "CHỨNG KHOÁN LƯU KÝ CHƯA NIÊM YẾT",
         "0",
         "43",
         "TM_43",
         null,
         null,
         "CHỨNG KHOÁN LƯU KÝ CHƯA NIÊM YẾT",
         null
        ],
        [
         "43",
         "     Chứng khoán giao dịch",
         "0",
         "44",
         "TM_44",
         null,
         null,
         "     Chứng khoán giao dịch",
         null
        ],
        [
         "44",
         "          Chứng khoán giao dịch của thành viên lưu ký",
         "0",
         "45",
         "TM_45",
         null,
         null,
         "          Chứng khoán giao dịch của thành viên lưu ký",
         null
        ],
        [
         "45",
         "          Chứng khoán giao dịch của khách hàng trong nước",
         "0",
         "46",
         "TM_46",
         null,
         null,
         "          Chứng khoán giao dịch của khách hàng trong nước",
         null
        ],
        [
         "46",
         "          Chứng khoán giao dịch của khách hàng nước ngoài",
         "0",
         "47",
         "TM_47",
         null,
         null,
         "          Chứng khoán giao dịch của khách hàng nước ngoài",
         null
        ],
        [
         "47",
         "          Chứng khoán giao dịch của tổ chức khác",
         "0",
         "48",
         "TM_48",
         null,
         null,
         "          Chứng khoán giao dịch của tổ chức khác",
         null
        ],
        [
         "48",
         "     Chứng khoán tạm ngừng giao dịch",
         "0",
         "49",
         "TM_49",
         null,
         null,
         "     Chứng khoán tạm ngừng giao dịch",
         null
        ],
        [
         "49",
         "          Chứng khoán tạm ngừng giao dịch của thành viên lưu ký",
         "0",
         "50",
         "TM_50",
         null,
         null,
         "          Chứng khoán tạm ngừng giao dịch của thành viên lưu ký",
         null
        ]
       ],
       "shape": {
        "columns": 8,
        "rows": 642
       }
      },
      "text/html": [
       "<div>\n",
       "<style scoped>\n",
       "    .dataframe tbody tr th:only-of-type {\n",
       "        vertical-align: middle;\n",
       "    }\n",
       "\n",
       "    .dataframe tbody tr th {\n",
       "        vertical-align: top;\n",
       "    }\n",
       "\n",
       "    .dataframe thead th {\n",
       "        text-align: right;\n",
       "    }\n",
       "</style>\n",
       "<table border=\"1\" class=\"dataframe\">\n",
       "  <thead>\n",
       "    <tr style=\"text-align: right;\">\n",
       "      <th></th>\n",
       "      <th>fiin_caption</th>\n",
       "      <th>keep</th>\n",
       "      <th>code</th>\n",
       "      <th>category_code</th>\n",
       "      <th>parent_code</th>\n",
       "      <th>share_code</th>\n",
       "      <th>vi_caption</th>\n",
       "      <th>en_caption</th>\n",
       "    </tr>\n",
       "  </thead>\n",
       "  <tbody>\n",
       "    <tr>\n",
       "      <th>0</th>\n",
       "      <td>CHỨNG KHOÁN LƯU KÝ NIÊM YẾT</td>\n",
       "      <td>0</td>\n",
       "      <td>1</td>\n",
       "      <td>TM_1</td>\n",
       "      <td>NaN</td>\n",
       "      <td>NaN</td>\n",
       "      <td>CHỨNG KHOÁN LƯU KÝ NIÊM YẾT</td>\n",
       "      <td>NaN</td>\n",
       "    </tr>\n",
       "    <tr>\n",
       "      <th>1</th>\n",
       "      <td>Chứng khoán giao dịch</td>\n",
       "      <td>0</td>\n",
       "      <td>2</td>\n",
       "      <td>TM_2</td>\n",
       "      <td>NaN</td>\n",
       "      <td>NaN</td>\n",
       "      <td>Chứng khoán giao dịch</td>\n",
       "      <td>NaN</td>\n",
       "    </tr>\n",
       "    <tr>\n",
       "      <th>2</th>\n",
       "      <td>Chứng khoán giao dịch của thành viên...</td>\n",
       "      <td>0</td>\n",
       "      <td>3</td>\n",
       "      <td>TM_3</td>\n",
       "      <td>NaN</td>\n",
       "      <td>NaN</td>\n",
       "      <td>Chứng khoán giao dịch của thành viên...</td>\n",
       "      <td>NaN</td>\n",
       "    </tr>\n",
       "    <tr>\n",
       "      <th>3</th>\n",
       "      <td>Chứng khoán giao dịch của khách hàng...</td>\n",
       "      <td>0</td>\n",
       "      <td>4</td>\n",
       "      <td>TM_4</td>\n",
       "      <td>NaN</td>\n",
       "      <td>NaN</td>\n",
       "      <td>Chứng khoán giao dịch của khách hàng...</td>\n",
       "      <td>NaN</td>\n",
       "    </tr>\n",
       "    <tr>\n",
       "      <th>4</th>\n",
       "      <td>Chứng khoán giao dịch của khách hàng...</td>\n",
       "      <td>0</td>\n",
       "      <td>5</td>\n",
       "      <td>TM_5</td>\n",
       "      <td>NaN</td>\n",
       "      <td>NaN</td>\n",
       "      <td>Chứng khoán giao dịch của khách hàng...</td>\n",
       "      <td>NaN</td>\n",
       "    </tr>\n",
       "    <tr>\n",
       "      <th>...</th>\n",
       "      <td>...</td>\n",
       "      <td>...</td>\n",
       "      <td>...</td>\n",
       "      <td>...</td>\n",
       "      <td>...</td>\n",
       "      <td>...</td>\n",
       "      <td>...</td>\n",
       "      <td>...</td>\n",
       "    </tr>\n",
       "    <tr>\n",
       "      <th>637</th>\n",
       "      <td>Chi phí nguyên liệu, vật liệu</td>\n",
       "      <td>0</td>\n",
       "      <td>638</td>\n",
       "      <td>TM_638</td>\n",
       "      <td>NaN</td>\n",
       "      <td>NaN</td>\n",
       "      <td>Chi phí nguyên liệu, vật liệu</td>\n",
       "      <td>NaN</td>\n",
       "    </tr>\n",
       "    <tr>\n",
       "      <th>638</th>\n",
       "      <td>Chi phí nhân công</td>\n",
       "      <td>0</td>\n",
       "      <td>639</td>\n",
       "      <td>TM_639</td>\n",
       "      <td>NaN</td>\n",
       "      <td>NaN</td>\n",
       "      <td>Chi phí nhân công</td>\n",
       "      <td>NaN</td>\n",
       "    </tr>\n",
       "    <tr>\n",
       "      <th>639</th>\n",
       "      <td>Chi phí khấu hao tài sản cố định</td>\n",
       "      <td>0</td>\n",
       "      <td>640</td>\n",
       "      <td>TM_640</td>\n",
       "      <td>NaN</td>\n",
       "      <td>NaN</td>\n",
       "      <td>Chi phí khấu hao tài sản cố định</td>\n",
       "      <td>NaN</td>\n",
       "    </tr>\n",
       "    <tr>\n",
       "      <th>640</th>\n",
       "      <td>Chi phí dịch vụ mua ngoài</td>\n",
       "      <td>0</td>\n",
       "      <td>641</td>\n",
       "      <td>TM_641</td>\n",
       "      <td>NaN</td>\n",
       "      <td>NaN</td>\n",
       "      <td>Chi phí dịch vụ mua ngoài</td>\n",
       "      <td>NaN</td>\n",
       "    </tr>\n",
       "    <tr>\n",
       "      <th>641</th>\n",
       "      <td>Chi phí khác bằng tiền</td>\n",
       "      <td>0</td>\n",
       "      <td>642</td>\n",
       "      <td>TM_642</td>\n",
       "      <td>NaN</td>\n",
       "      <td>NaN</td>\n",
       "      <td>Chi phí khác bằng tiền</td>\n",
       "      <td>NaN</td>\n",
       "    </tr>\n",
       "  </tbody>\n",
       "</table>\n",
       "<p>642 rows × 8 columns</p>\n",
       "</div>"
      ],
      "text/plain": [
       "                                          fiin_caption  keep  code  \\\n",
       "0                          CHỨNG KHOÁN LƯU KÝ NIÊM YẾT     0     1   \n",
       "1                                Chứng khoán giao dịch     0     2   \n",
       "2              Chứng khoán giao dịch của thành viên...     0     3   \n",
       "3              Chứng khoán giao dịch của khách hàng...     0     4   \n",
       "4              Chứng khoán giao dịch của khách hàng...     0     5   \n",
       "..                                                 ...   ...   ...   \n",
       "637                      Chi phí nguyên liệu, vật liệu     0   638   \n",
       "638                                  Chi phí nhân công     0   639   \n",
       "639                   Chi phí khấu hao tài sản cố định     0   640   \n",
       "640                          Chi phí dịch vụ mua ngoài     0   641   \n",
       "641                             Chi phí khác bằng tiền     0   642   \n",
       "\n",
       "    category_code parent_code share_code  \\\n",
       "0            TM_1         NaN        NaN   \n",
       "1            TM_2         NaN        NaN   \n",
       "2            TM_3         NaN        NaN   \n",
       "3            TM_4         NaN        NaN   \n",
       "4            TM_5         NaN        NaN   \n",
       "..            ...         ...        ...   \n",
       "637        TM_638         NaN        NaN   \n",
       "638        TM_639         NaN        NaN   \n",
       "639        TM_640         NaN        NaN   \n",
       "640        TM_641         NaN        NaN   \n",
       "641        TM_642         NaN        NaN   \n",
       "\n",
       "                                            vi_caption en_caption  \n",
       "0                          CHỨNG KHOÁN LƯU KÝ NIÊM YẾT        NaN  \n",
       "1                                Chứng khoán giao dịch        NaN  \n",
       "2              Chứng khoán giao dịch của thành viên...        NaN  \n",
       "3              Chứng khoán giao dịch của khách hàng...        NaN  \n",
       "4              Chứng khoán giao dịch của khách hàng...        NaN  \n",
       "..                                                 ...        ...  \n",
       "637                      Chi phí nguyên liệu, vật liệu        NaN  \n",
       "638                                  Chi phí nhân công        NaN  \n",
       "639                   Chi phí khấu hao tài sản cố định        NaN  \n",
       "640                          Chi phí dịch vụ mua ngoài        NaN  \n",
       "641                             Chi phí khác bằng tiền        NaN  \n",
       "\n",
       "[642 rows x 8 columns]"
      ]
     },
     "execution_count": 43,
     "metadata": {},
     "output_type": "execute_result"
    }
   ],
   "source": [
    "df_map_tm_sec"
   ]
  },
  {
   "cell_type": "code",
   "execution_count": 44,
   "metadata": {},
   "outputs": [],
   "source": [
    "df_map_tm_bank['category_code'] = df_map_tm_bank['category_code'].apply(lambda x: \"Bank_\" + x)\n",
    "df_map_tm_sec['category_code'] = df_map_tm_sec['category_code'].apply(lambda x: \"Sec_\" + x)\n",
    "df_map_tm_corp['category_code'] = df_map_tm_corp['category_code'].apply(lambda x: \"Corp_\" + x)"
   ]
  },
  {
   "cell_type": "code",
   "execution_count": 45,
   "metadata": {},
   "outputs": [
    {
     "data": {
      "application/vnd.microsoft.datawrangler.viewer.v0+json": {
       "columns": [
        {
         "name": "index",
         "rawType": "int64",
         "type": "integer"
        },
        {
         "name": "fiin_caption",
         "rawType": "object",
         "type": "string"
        },
        {
         "name": "keep",
         "rawType": "int64",
         "type": "integer"
        },
        {
         "name": "code",
         "rawType": "int64",
         "type": "integer"
        },
        {
         "name": "category_code",
         "rawType": "object",
         "type": "string"
        },
        {
         "name": "parent_code",
         "rawType": "object",
         "type": "unknown"
        },
        {
         "name": "en_caption",
         "rawType": "object",
         "type": "unknown"
        },
        {
         "name": "share_code",
         "rawType": "object",
         "type": "unknown"
        },
        {
         "name": "vi_caption",
         "rawType": "object",
         "type": "string"
        }
       ],
       "conversionMethod": "pd.DataFrame",
       "ref": "ec6eb47a-5a99-4927-b2f1-e7da400aa6f6",
       "rows": [
        [
         "0",
         "Tiền và tương đương tiền",
         "0",
         "1",
         "Corp_TM_1",
         null,
         null,
         null,
         "Tiền và tương đương tiền"
        ],
        [
         "1",
         "     Tiền mặt",
         "1",
         "2",
         "Share_TM_1",
         "BS_110",
         "Holding Cash",
         "Share_TM_1",
         "     Tiền mặt"
        ],
        [
         "2",
         "     Tiền gửi Ngân hàng",
         "1",
         "3",
         "Share_TM_2",
         "BS_110",
         "Bank deposits",
         "Share_TM_2",
         "     Tiền gửi Ngân hàng"
        ],
        [
         "3",
         "     Tiền đang chuyển",
         "0",
         "4",
         "Corp_TM_4",
         null,
         null,
         null,
         "     Tiền đang chuyển"
        ],
        [
         "4",
         "     Tiền và tương đương tiền",
         "0",
         "5",
         "Corp_TM_5",
         null,
         null,
         null,
         "     Tiền và tương đương tiền"
        ],
        [
         "5",
         "Đầu tư tài chính NH",
         "0",
         "6",
         "Corp_TM_6",
         null,
         null,
         null,
         "Đầu tư tài chính NH"
        ],
        [
         "6",
         "     Chứng khoán đầu tư ngắn hạn",
         "1",
         "7",
         "Corp_TM_7",
         "BS_121",
         "Short-term investments",
         null,
         "     Chứng khoán đầu tư ngắn hạn"
        ],
        [
         "7",
         "     Đầu tư nắm giữ đến ngày đáo hạn",
         "0",
         "8",
         "Corp_TM_8",
         null,
         null,
         null,
         "     Đầu tư nắm giữ đến ngày đáo hạn"
        ],
        [
         "8",
         "     Đầu tư ngắn hạn",
         "0",
         "9",
         "Corp_TM_9",
         null,
         null,
         null,
         "     Đầu tư ngắn hạn"
        ],
        [
         "9",
         "     Đầu tư dài hạn",
         "0",
         "10",
         "Corp_TM_10",
         null,
         null,
         null,
         "     Đầu tư dài hạn"
        ],
        [
         "10",
         "     Đầu tư NH khác",
         "0",
         "11",
         "Corp_TM_11",
         null,
         null,
         null,
         "     Đầu tư NH khác"
        ],
        [
         "11",
         "     Dự phòng giảm giá ĐTNH",
         "0",
         "12",
         "Corp_TM_12",
         null,
         null,
         null,
         "     Dự phòng giảm giá ĐTNH"
        ],
        [
         "12",
         "Phải thu ngắn hạn khác",
         "0",
         "13",
         "Corp_TM_13",
         null,
         null,
         null,
         "Phải thu ngắn hạn khác"
        ],
        [
         "13",
         "     Phải thu về cổ phần hóa",
         "0",
         "14",
         "Corp_TM_14",
         null,
         null,
         null,
         "     Phải thu về cổ phần hóa"
        ],
        [
         "14",
         "     Phải thu về cổ tức và lợi nhuận được chia",
         "0",
         "15",
         "Corp_TM_15",
         null,
         null,
         null,
         "     Phải thu về cổ tức và lợi nhuận được chia"
        ],
        [
         "15",
         "     Phải thu người lao động",
         "0",
         "16",
         "Corp_TM_16",
         null,
         null,
         null,
         "     Phải thu người lao động"
        ],
        [
         "16",
         "     Phải thu khác",
         "0",
         "17",
         "Corp_TM_17",
         null,
         null,
         null,
         "     Phải thu khác"
        ],
        [
         "17",
         "Hàng tồn kho",
         "0",
         "18",
         "Corp_TM_18",
         null,
         null,
         null,
         "Hàng tồn kho"
        ],
        [
         "18",
         "     Hàng mua đang đi đường",
         "0",
         "19",
         "Corp_TM_19",
         null,
         null,
         null,
         "     Hàng mua đang đi đường"
        ],
        [
         "19",
         "     Nguyên liệu, vật liệu",
         "1",
         "20",
         "Corp_TM_20",
         "BS_160",
         "Raw materials, supplies",
         null,
         "     Nguyên liệu, vật liệu"
        ],
        [
         "20",
         "     Công cụ, dụng cụ",
         "0",
         "21",
         "Corp_TM_21",
         null,
         null,
         null,
         "     Công cụ, dụng cụ"
        ],
        [
         "21",
         "     Chi phí SX, KD dở dang",
         "0",
         "22",
         "Corp_TM_22",
         null,
         null,
         null,
         "     Chi phí SX, KD dở dang"
        ],
        [
         "22",
         "     Thành phẩm",
         "1",
         "23",
         "Corp_TM_23",
         "BS_160",
         "Finished goods",
         null,
         "     Thành phẩm"
        ],
        [
         "23",
         "     Hàng hóa",
         "1",
         "24",
         "Corp_TM_24",
         "BS_160",
         "Merchandise",
         null,
         "     Hàng hóa"
        ],
        [
         "24",
         "     Hàng gửi đi bán",
         "1",
         "25",
         "Corp_TM_25",
         "BS_160",
         "Goods on consignment",
         null,
         "     Hàng gửi đi bán"
        ],
        [
         "25",
         "     Hàng hoá kho bảo thuế",
         "1",
         "26",
         "Corp_TM_26",
         "BS_160",
         "Goods in bonded warehouses",
         null,
         "     Hàng hoá kho bảo thuế"
        ],
        [
         "26",
         "     Hàng hoá bất động sản",
         "1",
         "27",
         "Corp_TM_27",
         "BS_160",
         "Real estate goods",
         null,
         "     Hàng hoá bất động sản"
        ],
        [
         "27",
         "Tài sản ngắn hạn khác",
         "0",
         "28",
         "Corp_TM_28",
         null,
         null,
         null,
         "Tài sản ngắn hạn khác"
        ],
        [
         "28",
         "     Tạm ứng",
         "0",
         "29",
         "Corp_TM_29",
         null,
         null,
         null,
         "     Tạm ứng"
        ],
        [
         "29",
         "     Tài sản thiếu chờ xử lý",
         "0",
         "30",
         "Corp_TM_30",
         null,
         null,
         null,
         "     Tài sản thiếu chờ xử lý"
        ],
        [
         "30",
         "     Cầm cố, ký quỹ, ký cược NH",
         "0",
         "31",
         "Corp_TM_31",
         null,
         null,
         null,
         "     Cầm cố, ký quỹ, ký cược NH"
        ],
        [
         "31",
         "     Khác",
         "0",
         "32",
         "Corp_TM_32",
         null,
         null,
         null,
         "     Khác"
        ],
        [
         "32",
         "Phải thu dài hạn khác",
         "0",
         "33",
         "Corp_TM_33",
         null,
         null,
         null,
         "Phải thu dài hạn khác"
        ],
        [
         "33",
         "     Ký quỹ, ký cược dài hạn",
         "0",
         "34",
         "Corp_TM_34",
         null,
         null,
         null,
         "     Ký quỹ, ký cược dài hạn"
        ],
        [
         "34",
         "     Các khoản tiền nhận ủy thác",
         "0",
         "35",
         "Corp_TM_35",
         null,
         null,
         null,
         "     Các khoản tiền nhận ủy thác"
        ],
        [
         "35",
         "     Cho vay không có lãi",
         "0",
         "36",
         "Corp_TM_36",
         null,
         null,
         null,
         "     Cho vay không có lãi"
        ],
        [
         "36",
         "     Phải thu dài hạn khác",
         "0",
         "37",
         "Corp_TM_37",
         null,
         null,
         null,
         "     Phải thu dài hạn khác"
        ],
        [
         "37",
         "Nguyên giá TSCĐHH",
         "0",
         "38",
         "Corp_TM_38",
         null,
         null,
         null,
         "Nguyên giá TSCĐHH"
        ],
        [
         "38",
         "     Nguyên giá đầu kỳ",
         "0",
         "39",
         "Corp_TM_39",
         null,
         null,
         null,
         "     Nguyên giá đầu kỳ"
        ],
        [
         "39",
         "     Tăng trong kỳ",
         "0",
         "40",
         "Corp_TM_40",
         null,
         null,
         null,
         "     Tăng trong kỳ"
        ],
        [
         "40",
         "     Giảm trong kỳ",
         "0",
         "41",
         "Corp_TM_41",
         null,
         null,
         null,
         "     Giảm trong kỳ"
        ],
        [
         "41",
         "Hao mòn TSCĐHH",
         "0",
         "42",
         "Corp_TM_42",
         null,
         null,
         null,
         "Hao mòn TSCĐHH"
        ],
        [
         "42",
         "     Đầu kỳ",
         "0",
         "43",
         "Corp_TM_43",
         null,
         null,
         null,
         "     Đầu kỳ"
        ],
        [
         "43",
         "     Tăng trong kỳ",
         "0",
         "44",
         "Corp_TM_44",
         null,
         null,
         null,
         "     Tăng trong kỳ"
        ],
        [
         "44",
         "     Giảm trong kỳ",
         "0",
         "45",
         "Corp_TM_45",
         null,
         null,
         null,
         "     Giảm trong kỳ"
        ],
        [
         "45",
         "Nguyên giá TSCĐ TTC",
         "0",
         "46",
         "Corp_TM_46",
         null,
         null,
         null,
         "Nguyên giá TSCĐ TTC"
        ],
        [
         "46",
         "     Nguyên giá đầu kỳ",
         "0",
         "47",
         "Corp_TM_47",
         null,
         null,
         null,
         "     Nguyên giá đầu kỳ"
        ],
        [
         "47",
         "     Tăng trong kỳ",
         "0",
         "48",
         "Corp_TM_48",
         null,
         null,
         null,
         "     Tăng trong kỳ"
        ],
        [
         "48",
         "     Giảm trong kỳ",
         "0",
         "49",
         "Corp_TM_49",
         null,
         null,
         null,
         "     Giảm trong kỳ"
        ],
        [
         "49",
         "Hao mòn TSCĐ TTC",
         "0",
         "50",
         "Corp_TM_50",
         null,
         null,
         null,
         "Hao mòn TSCĐ TTC"
        ]
       ],
       "shape": {
        "columns": 8,
        "rows": 157
       }
      },
      "text/html": [
       "<div>\n",
       "<style scoped>\n",
       "    .dataframe tbody tr th:only-of-type {\n",
       "        vertical-align: middle;\n",
       "    }\n",
       "\n",
       "    .dataframe tbody tr th {\n",
       "        vertical-align: top;\n",
       "    }\n",
       "\n",
       "    .dataframe thead th {\n",
       "        text-align: right;\n",
       "    }\n",
       "</style>\n",
       "<table border=\"1\" class=\"dataframe\">\n",
       "  <thead>\n",
       "    <tr style=\"text-align: right;\">\n",
       "      <th></th>\n",
       "      <th>fiin_caption</th>\n",
       "      <th>keep</th>\n",
       "      <th>code</th>\n",
       "      <th>category_code</th>\n",
       "      <th>parent_code</th>\n",
       "      <th>en_caption</th>\n",
       "      <th>share_code</th>\n",
       "      <th>vi_caption</th>\n",
       "    </tr>\n",
       "  </thead>\n",
       "  <tbody>\n",
       "    <tr>\n",
       "      <th>0</th>\n",
       "      <td>Tiền và tương đương tiền</td>\n",
       "      <td>0</td>\n",
       "      <td>1</td>\n",
       "      <td>Corp_TM_1</td>\n",
       "      <td>NaN</td>\n",
       "      <td>NaN</td>\n",
       "      <td>NaN</td>\n",
       "      <td>Tiền và tương đương tiền</td>\n",
       "    </tr>\n",
       "    <tr>\n",
       "      <th>1</th>\n",
       "      <td>Tiền mặt</td>\n",
       "      <td>1</td>\n",
       "      <td>2</td>\n",
       "      <td>Share_TM_1</td>\n",
       "      <td>BS_110</td>\n",
       "      <td>Holding Cash</td>\n",
       "      <td>Share_TM_1</td>\n",
       "      <td>Tiền mặt</td>\n",
       "    </tr>\n",
       "    <tr>\n",
       "      <th>2</th>\n",
       "      <td>Tiền gửi Ngân hàng</td>\n",
       "      <td>1</td>\n",
       "      <td>3</td>\n",
       "      <td>Share_TM_2</td>\n",
       "      <td>BS_110</td>\n",
       "      <td>Bank deposits</td>\n",
       "      <td>Share_TM_2</td>\n",
       "      <td>Tiền gửi Ngân hàng</td>\n",
       "    </tr>\n",
       "    <tr>\n",
       "      <th>3</th>\n",
       "      <td>Tiền đang chuyển</td>\n",
       "      <td>0</td>\n",
       "      <td>4</td>\n",
       "      <td>Corp_TM_4</td>\n",
       "      <td>NaN</td>\n",
       "      <td>NaN</td>\n",
       "      <td>NaN</td>\n",
       "      <td>Tiền đang chuyển</td>\n",
       "    </tr>\n",
       "    <tr>\n",
       "      <th>4</th>\n",
       "      <td>Tiền và tương đương tiền</td>\n",
       "      <td>0</td>\n",
       "      <td>5</td>\n",
       "      <td>Corp_TM_5</td>\n",
       "      <td>NaN</td>\n",
       "      <td>NaN</td>\n",
       "      <td>NaN</td>\n",
       "      <td>Tiền và tương đương tiền</td>\n",
       "    </tr>\n",
       "    <tr>\n",
       "      <th>...</th>\n",
       "      <td>...</td>\n",
       "      <td>...</td>\n",
       "      <td>...</td>\n",
       "      <td>...</td>\n",
       "      <td>...</td>\n",
       "      <td>...</td>\n",
       "      <td>...</td>\n",
       "      <td>...</td>\n",
       "    </tr>\n",
       "    <tr>\n",
       "      <th>152</th>\n",
       "      <td>Chi phí nguyên liệu, vật liệu</td>\n",
       "      <td>0</td>\n",
       "      <td>153</td>\n",
       "      <td>Corp_TM_153</td>\n",
       "      <td>NaN</td>\n",
       "      <td>NaN</td>\n",
       "      <td>NaN</td>\n",
       "      <td>Chi phí nguyên liệu, vật liệu</td>\n",
       "    </tr>\n",
       "    <tr>\n",
       "      <th>153</th>\n",
       "      <td>Chi phí nhân công</td>\n",
       "      <td>0</td>\n",
       "      <td>154</td>\n",
       "      <td>Corp_TM_154</td>\n",
       "      <td>NaN</td>\n",
       "      <td>NaN</td>\n",
       "      <td>NaN</td>\n",
       "      <td>Chi phí nhân công</td>\n",
       "    </tr>\n",
       "    <tr>\n",
       "      <th>154</th>\n",
       "      <td>Chi phí khấu hao tài sản cố định</td>\n",
       "      <td>0</td>\n",
       "      <td>155</td>\n",
       "      <td>Corp_TM_155</td>\n",
       "      <td>NaN</td>\n",
       "      <td>NaN</td>\n",
       "      <td>NaN</td>\n",
       "      <td>Chi phí khấu hao tài sản cố định</td>\n",
       "    </tr>\n",
       "    <tr>\n",
       "      <th>155</th>\n",
       "      <td>Chi phí dịch vụ mua ngoài</td>\n",
       "      <td>0</td>\n",
       "      <td>156</td>\n",
       "      <td>Corp_TM_156</td>\n",
       "      <td>NaN</td>\n",
       "      <td>NaN</td>\n",
       "      <td>NaN</td>\n",
       "      <td>Chi phí dịch vụ mua ngoài</td>\n",
       "    </tr>\n",
       "    <tr>\n",
       "      <th>156</th>\n",
       "      <td>Chi phí khác bằng tiền</td>\n",
       "      <td>0</td>\n",
       "      <td>157</td>\n",
       "      <td>Corp_TM_157</td>\n",
       "      <td>NaN</td>\n",
       "      <td>NaN</td>\n",
       "      <td>NaN</td>\n",
       "      <td>Chi phí khác bằng tiền</td>\n",
       "    </tr>\n",
       "  </tbody>\n",
       "</table>\n",
       "<p>157 rows × 8 columns</p>\n",
       "</div>"
      ],
      "text/plain": [
       "                              fiin_caption  keep  code category_code  \\\n",
       "0                 Tiền và tương đương tiền     0     1     Corp_TM_1   \n",
       "1                                 Tiền mặt     1     2    Share_TM_1   \n",
       "2                       Tiền gửi Ngân hàng     1     3    Share_TM_2   \n",
       "3                         Tiền đang chuyển     0     4     Corp_TM_4   \n",
       "4                 Tiền và tương đương tiền     0     5     Corp_TM_5   \n",
       "..                                     ...   ...   ...           ...   \n",
       "152          Chi phí nguyên liệu, vật liệu     0   153   Corp_TM_153   \n",
       "153                      Chi phí nhân công     0   154   Corp_TM_154   \n",
       "154       Chi phí khấu hao tài sản cố định     0   155   Corp_TM_155   \n",
       "155              Chi phí dịch vụ mua ngoài     0   156   Corp_TM_156   \n",
       "156                 Chi phí khác bằng tiền     0   157   Corp_TM_157   \n",
       "\n",
       "    parent_code     en_caption  share_code  \\\n",
       "0           NaN            NaN         NaN   \n",
       "1        BS_110   Holding Cash  Share_TM_1   \n",
       "2        BS_110  Bank deposits  Share_TM_2   \n",
       "3           NaN            NaN         NaN   \n",
       "4           NaN            NaN         NaN   \n",
       "..          ...            ...         ...   \n",
       "152         NaN            NaN         NaN   \n",
       "153         NaN            NaN         NaN   \n",
       "154         NaN            NaN         NaN   \n",
       "155         NaN            NaN         NaN   \n",
       "156         NaN            NaN         NaN   \n",
       "\n",
       "                                vi_caption  \n",
       "0                 Tiền và tương đương tiền  \n",
       "1                                 Tiền mặt  \n",
       "2                       Tiền gửi Ngân hàng  \n",
       "3                         Tiền đang chuyển  \n",
       "4                 Tiền và tương đương tiền  \n",
       "..                                     ...  \n",
       "152          Chi phí nguyên liệu, vật liệu  \n",
       "153                      Chi phí nhân công  \n",
       "154       Chi phí khấu hao tài sản cố định  \n",
       "155              Chi phí dịch vụ mua ngoài  \n",
       "156                 Chi phí khác bằng tiền  \n",
       "\n",
       "[157 rows x 8 columns]"
      ]
     },
     "execution_count": 45,
     "metadata": {},
     "output_type": "execute_result"
    }
   ],
   "source": [
    "map_share_sec = ~df_map_tm_sec['share_code'].isna()\n",
    "map_share_corp = ~df_map_tm_corp['share_code'].isna()\n",
    "\n",
    "df_map_tm_sec.loc[map_share_sec, 'category_code'] = df_map_tm_sec.loc[map_share_sec, 'share_code']\n",
    "df_map_tm_corp.loc[map_share_corp, 'category_code'] = df_map_tm_corp.loc[map_share_corp, 'share_code']\n",
    "\n",
    "df_map_tm_corp"
   ]
  },
  {
   "cell_type": "code",
   "execution_count": 46,
   "metadata": {},
   "outputs": [],
   "source": [
    "df_map_tm_bank = df_map_tm_bank[['category_code', 'vi_caption', 'en_caption', 'parent_code']]\n",
    "df_map_tm_sec = df_map_tm_sec[['category_code', 'vi_caption', 'en_caption', 'parent_code']]\n",
    "df_map_tm_corp = df_map_tm_corp[['category_code', 'vi_caption', 'en_caption', 'parent_code']]"
   ]
  },
  {
   "cell_type": "code",
   "execution_count": 47,
   "metadata": {},
   "outputs": [
    {
     "name": "stderr",
     "output_type": "stream",
     "text": [
      "/var/folders/y0/d5yxmby14p1b51jsfj3ml2vr0000gn/T/ipykernel_45577/650795268.py:1: SettingWithCopyWarning: \n",
      "A value is trying to be set on a copy of a slice from a DataFrame\n",
      "\n",
      "See the caveats in the documentation: https://pandas.pydata.org/pandas-docs/stable/user_guide/indexing.html#returning-a-view-versus-a-copy\n",
      "  df_map_tm_sec.dropna(subset=['en_caption'], inplace=True)\n",
      "/var/folders/y0/d5yxmby14p1b51jsfj3ml2vr0000gn/T/ipykernel_45577/650795268.py:3: SettingWithCopyWarning: \n",
      "A value is trying to be set on a copy of a slice from a DataFrame\n",
      "\n",
      "See the caveats in the documentation: https://pandas.pydata.org/pandas-docs/stable/user_guide/indexing.html#returning-a-view-versus-a-copy\n",
      "  df_map_tm_corp.dropna(subset=['en_caption'], inplace=True)\n"
     ]
    }
   ],
   "source": [
    "df_map_tm_sec.dropna(subset=['en_caption'], inplace=True)\n",
    "df_map_tm_bank.dropna(subset=['en_caption'], inplace=True)\n",
    "df_map_tm_corp.dropna(subset=['en_caption'], inplace=True)"
   ]
  },
  {
   "cell_type": "code",
   "execution_count": 48,
   "metadata": {},
   "outputs": [],
   "source": [
    "df_map = pd.concat([df_map_tm_bank, df_map_tm_sec, df_map_tm_corp], ignore_index=True)\n",
    "df_map.drop_duplicates(subset=['category_code'], inplace=True)\n",
    "df_map['en_caption'] = df_map['en_caption'].apply(lambda x: \"(Explaination) \" + x)"
   ]
  },
  {
   "cell_type": "code",
   "execution_count": 49,
   "metadata": {},
   "outputs": [
    {
     "data": {
      "application/vnd.microsoft.datawrangler.viewer.v0+json": {
       "columns": [
        {
         "name": "index",
         "rawType": "int64",
         "type": "integer"
        },
        {
         "name": "category_code",
         "rawType": "object",
         "type": "string"
        },
        {
         "name": "vi_caption",
         "rawType": "object",
         "type": "string"
        },
        {
         "name": "en_caption",
         "rawType": "object",
         "type": "string"
        },
        {
         "name": "parent_code",
         "rawType": "object",
         "type": "string"
        }
       ],
       "conversionMethod": "pd.DataFrame",
       "ref": "602fdcb7-5ca3-4598-b94f-6e8e4cdbd0d7",
       "rows": [
        [
         "0",
         "Bank_TM_2",
         "     Chứng khoán nợ",
         "(Explaination) Debt securities",
         "BS_121"
        ],
        [
         "1",
         "Bank_TM_8",
         "     Chứng khoán vốn",
         "(Explaination) Equity securities",
         "BS_121"
        ],
        [
         "2",
         "Bank_TM_12",
         "     Chứng khoán kinh doanh khác",
         "(Explaination) Other trading securities",
         "BS_121"
        ],
        [
         "3",
         "Bank_TM_13",
         "     Dự phòng rủi ro chứng khoán kinh doanh",
         "(Explaination) Provision for trading securities risk",
         "BS_121"
        ],
        [
         "4",
         "Bank_TM_17",
         "     Tình trạng niêm yết của các chứng khoán kinh doanh",
         "(Explaination) Listing status of trading securities",
         "BS_121"
        ],
        [
         "5",
         "Bank_TM_28",
         "     Cho vay các tổ chức kinh tế, cá nhân trong nước",
         "(Explaination) Loans to domestic economic organizations and individuals",
         "BS_125"
        ],
        [
         "6",
         "Bank_TM_29",
         "     Chiết khấu thương phiếu và giấy tờ có giá",
         "(Explaination) Discount of commercial papers and valuable papers",
         "BS_125"
        ],
        [
         "7",
         "Bank_TM_30",
         "     Cho thuê tài chính",
         "(Explaination) Financial leasing",
         "BS_125"
        ],
        [
         "8",
         "Bank_TM_31",
         "     Các khoản trả thay khách hàng",
         "(Explaination) Payments on behalf of customers",
         "BS_125"
        ],
        [
         "9",
         "Bank_TM_32",
         "     Cho vay bằng vốn tài trợ, uỷ thác đầu tư",
         "(Explaination) Loans funded by investment trust",
         "BS_125"
        ],
        [
         "10",
         "Bank_TM_33",
         "     Cho vay đối với các tổ chức, cá nhân nước ngoài",
         "(Explaination) Loans to foreign organizations and individuals",
         "BS_125"
        ],
        [
         "11",
         "Bank_TM_34",
         "     Cho vay theo chỉ định của Chính phủ",
         "(Explaination) Loans designated by the Government",
         "BS_125"
        ],
        [
         "12",
         "Bank_TM_35",
         "     Nợ cho vay được khoanh và nợ chờ xử lý",
         "(Explaination) Frozen loans and loans pending resolution",
         "BS_125"
        ],
        [
         "13",
         "Bank_TM_36",
         "     Các khoản cho vay khác",
         "(Explaination) Other loans",
         "BS_125"
        ],
        [
         "14",
         "Bank_TM_38",
         "Cho vay ngành thương mại",
         "(Explaination) Loans to the trade industry",
         "BS_125"
        ],
        [
         "15",
         "Bank_TM_39",
         "Cho vay ngành nông nghiệp và lâm nghiệp",
         "(Explaination) Loans to agriculture and forestry",
         "BS_125"
        ],
        [
         "16",
         "Bank_TM_40",
         "Cho vay ngành sản xuất",
         "(Explaination) Loans to the manufacturing industry",
         "BS_125"
        ],
        [
         "17",
         "Bank_TM_45",
         "Cho vay ngành xây dựng",
         "(Explaination) Loans to the construction industry",
         "BS_125"
        ],
        [
         "18",
         "Bank_TM_46",
         "Cho vay ngành dịch vụ cộng đồng và cá nhân",
         "(Explaination) Loans to community and personal services",
         "BS_125"
        ],
        [
         "19",
         "Bank_TM_55",
         "Cho vay ngành kho bãi, vận tải và viễn thông",
         "(Explaination) Loans to warehousing, transportation, and telecommunications",
         "BS_125"
        ],
        [
         "20",
         "Bank_TM_58",
         "Cho vay ngành dịch vụ và đào tạo",
         "(Explaination) Loans to service and training",
         "BS_125"
        ],
        [
         "21",
         "Bank_TM_61",
         "Cho vay bất động sản và tư vấn",
         "(Explaination) Loans to real estate and consulting",
         "BS_125"
        ],
        [
         "22",
         "Bank_TM_62",
         "Cho vay ngành khách sạn và nhà hàng",
         "(Explaination) Loans to hotels and restaurants",
         "BS_125"
        ],
        [
         "23",
         "Bank_TM_63",
         "Cho vay ngành dịch vụ tài chính",
         "(Explaination) Loans to financial services",
         "BS_125"
        ],
        [
         "24",
         "Bank_TM_64",
         "Cho vay ngành khác",
         "(Explaination) Loans to other industries",
         "BS_125"
        ],
        [
         "25",
         "Bank_TM_66",
         "Nợ đủ tiêu chuẩn (Nợ nhóm 1)",
         "(Explaination) Standard debts (Group 1 debts)",
         "BS_125"
        ],
        [
         "26",
         "Bank_TM_67",
         "Nợ cần chú ý (Nợ nhóm 2)",
         "(Explaination) Debts needing attention (Group 2 debts)",
         "BS_125"
        ],
        [
         "27",
         "Bank_TM_68",
         "Nợ dưới tiêu chuẩn (Nợ nhóm 3)",
         "(Explaination) Substandard debts (Group 3 debts)",
         "BS_125"
        ],
        [
         "28",
         "Bank_TM_69",
         "Nợ nghi ngờ (Nợ nhóm 4)",
         "(Explaination) Doubtful debts (Group 4 debts)",
         "BS_125"
        ],
        [
         "29",
         "Bank_TM_70",
         "Nợ xấu có khả năng mất vốn (Nợ nhóm 5)",
         "(Explaination) Bad debts with potential loss of capital (Group 5 debts)",
         "BS_125"
        ],
        [
         "30",
         "Bank_TM_72",
         "     Cho vay ngắn hạn",
         "(Explaination) Short-term loans",
         "BS_125"
        ],
        [
         "31",
         "Bank_TM_73",
         "     Cho vay trung hạn",
         "(Explaination) Medium-term loans",
         "BS_125"
        ],
        [
         "32",
         "Bank_TM_74",
         "     Cho vay dài hạn",
         "(Explaination) Long-term loans",
         "BS_125"
        ],
        [
         "33",
         "Bank_TM_85",
         "cho vay     Doanh nghiệp nhà nước",
         "(Explaination) Loans to State-owned enterprises",
         "BS_125"
        ],
        [
         "34",
         "Bank_TM_86",
         "cho vay     Công ty TNHH và cổ phần",
         "(Explaination) Loans to Limited liability and joint-stock companies",
         "BS_125"
        ],
        [
         "35",
         "Bank_TM_87",
         "cho vay     Doanh nghiệp nước ngoài",
         "(Explaination) Loans to Foreign enterprises",
         "BS_125"
        ],
        [
         "36",
         "Bank_TM_88",
         "cho vay     Hợp tác xã và công ty tư nhân",
         "(Explaination) Loans to Cooperatives and private companies",
         "BS_125"
        ],
        [
         "37",
         "Bank_TM_89",
         "cho vay     Cá nhân",
         "(Explaination) Loans to Individuals",
         "BS_125"
        ],
        [
         "38",
         "Bank_TM_90",
         "cho vay     Khác",
         "(Explaination) Loans - Other",
         "BS_125"
        ],
        [
         "39",
         "Bank_TM_121",
         "     Tiền gửi không kỳ hạn",
         "(Explaination) Demand deposits",
         "BS_305"
        ],
        [
         "40",
         "Bank_TM_122",
         "     Tiền gửi có kỳ hạn",
         "(Explaination) Term deposits",
         "BS_305"
        ],
        [
         "41",
         "Bank_TM_123",
         "     Tiền gửi tiết kiệm",
         "(Explaination) Savings deposits",
         "BS_305"
        ],
        [
         "42",
         "Bank_TM_124",
         "     Tiền gửi ký quỹ",
         "(Explaination) Margin deposits",
         "BS_305"
        ],
        [
         "43",
         "Bank_TM_125",
         "     Tiền gửi cho những mục đích riêng biệt",
         "(Explaination) Deposits for specific purposes",
         "BS_305"
        ],
        [
         "44",
         "Bank_TM_130",
         "Tiền gửi     Doanh nghiệp nhà nước",
         "(Explaination) Deposits from State-owned enterprises",
         "BS_305"
        ],
        [
         "45",
         "Bank_TM_131",
         "Tiền gửi     Doanh nghiệp tư nhân",
         "(Explaination) Deposits from Private enterprises",
         "BS_305"
        ],
        [
         "46",
         "Bank_TM_132",
         "Tiền gửi     Doanh nghiệp nước ngoài",
         "(Explaination) Deposits from Foreign enterprises",
         "BS_305"
        ],
        [
         "47",
         "Bank_TM_133",
         "Tiền gửi     Cá nhân",
         "(Explaination) Deposits from Individuals",
         "BS_305"
        ],
        [
         "48",
         "Bank_TM_134",
         "Tiền gửi     Thu nhập lãi và các khoản Thu nhập tương tự",
         "(Explaination) Interest income and similar income",
         "BS_305"
        ],
        [
         "49",
         "Share_TM_1",
         "     Tiền mặt",
         "(Explaination) Holding Cash",
         "BS_110"
        ]
       ],
       "shape": {
        "columns": 4,
        "rows": 79
       }
      },
      "text/html": [
       "<div>\n",
       "<style scoped>\n",
       "    .dataframe tbody tr th:only-of-type {\n",
       "        vertical-align: middle;\n",
       "    }\n",
       "\n",
       "    .dataframe tbody tr th {\n",
       "        vertical-align: top;\n",
       "    }\n",
       "\n",
       "    .dataframe thead th {\n",
       "        text-align: right;\n",
       "    }\n",
       "</style>\n",
       "<table border=\"1\" class=\"dataframe\">\n",
       "  <thead>\n",
       "    <tr style=\"text-align: right;\">\n",
       "      <th></th>\n",
       "      <th>category_code</th>\n",
       "      <th>vi_caption</th>\n",
       "      <th>en_caption</th>\n",
       "      <th>parent_code</th>\n",
       "    </tr>\n",
       "  </thead>\n",
       "  <tbody>\n",
       "    <tr>\n",
       "      <th>0</th>\n",
       "      <td>Bank_TM_2</td>\n",
       "      <td>Chứng khoán nợ</td>\n",
       "      <td>(Explaination) Debt securities</td>\n",
       "      <td>BS_121</td>\n",
       "    </tr>\n",
       "    <tr>\n",
       "      <th>1</th>\n",
       "      <td>Bank_TM_8</td>\n",
       "      <td>Chứng khoán vốn</td>\n",
       "      <td>(Explaination) Equity securities</td>\n",
       "      <td>BS_121</td>\n",
       "    </tr>\n",
       "    <tr>\n",
       "      <th>2</th>\n",
       "      <td>Bank_TM_12</td>\n",
       "      <td>Chứng khoán kinh doanh khác</td>\n",
       "      <td>(Explaination) Other trading securities</td>\n",
       "      <td>BS_121</td>\n",
       "    </tr>\n",
       "    <tr>\n",
       "      <th>3</th>\n",
       "      <td>Bank_TM_13</td>\n",
       "      <td>Dự phòng rủi ro chứng khoán kinh doanh</td>\n",
       "      <td>(Explaination) Provision for trading securitie...</td>\n",
       "      <td>BS_121</td>\n",
       "    </tr>\n",
       "    <tr>\n",
       "      <th>4</th>\n",
       "      <td>Bank_TM_17</td>\n",
       "      <td>Tình trạng niêm yết của các chứng khoán k...</td>\n",
       "      <td>(Explaination) Listing status of trading secur...</td>\n",
       "      <td>BS_121</td>\n",
       "    </tr>\n",
       "    <tr>\n",
       "      <th>...</th>\n",
       "      <td>...</td>\n",
       "      <td>...</td>\n",
       "      <td>...</td>\n",
       "      <td>...</td>\n",
       "    </tr>\n",
       "    <tr>\n",
       "      <th>80</th>\n",
       "      <td>Corp_TM_134</td>\n",
       "      <td>Lãi tiền gửi, tiền cho vay</td>\n",
       "      <td>(Explaination) Interest income from deposits a...</td>\n",
       "      <td>IS_021</td>\n",
       "    </tr>\n",
       "    <tr>\n",
       "      <th>81</th>\n",
       "      <td>Corp_TM_135</td>\n",
       "      <td>Lãi đầu tư trái phiếu, kỳ phiếu, tín phiếu</td>\n",
       "      <td>(Explaination) Interest income from bonds, pro...</td>\n",
       "      <td>IS_021</td>\n",
       "    </tr>\n",
       "    <tr>\n",
       "      <th>82</th>\n",
       "      <td>Corp_TM_136</td>\n",
       "      <td>Cổ tức, lợi nhuận được chia</td>\n",
       "      <td>(Explaination) Dividends, profit share received</td>\n",
       "      <td>IS_021</td>\n",
       "    </tr>\n",
       "    <tr>\n",
       "      <th>83</th>\n",
       "      <td>Corp_TM_137</td>\n",
       "      <td>Lãi từ bán, thanh lý các khoản đầu tư</td>\n",
       "      <td>(Explaination) Gain from sale, liquidation of ...</td>\n",
       "      <td>IS_021</td>\n",
       "    </tr>\n",
       "    <tr>\n",
       "      <th>84</th>\n",
       "      <td>Corp_TM_144</td>\n",
       "      <td>Lãi tiền vay</td>\n",
       "      <td>(Explaination) Loan interest</td>\n",
       "      <td>IS_022</td>\n",
       "    </tr>\n",
       "  </tbody>\n",
       "</table>\n",
       "<p>79 rows × 4 columns</p>\n",
       "</div>"
      ],
      "text/plain": [
       "   category_code                                         vi_caption  \\\n",
       "0      Bank_TM_2                                     Chứng khoán nợ   \n",
       "1      Bank_TM_8                                    Chứng khoán vốn   \n",
       "2     Bank_TM_12                        Chứng khoán kinh doanh khác   \n",
       "3     Bank_TM_13             Dự phòng rủi ro chứng khoán kinh doanh   \n",
       "4     Bank_TM_17       Tình trạng niêm yết của các chứng khoán k...   \n",
       "..           ...                                                ...   \n",
       "80   Corp_TM_134                         Lãi tiền gửi, tiền cho vay   \n",
       "81   Corp_TM_135         Lãi đầu tư trái phiếu, kỳ phiếu, tín phiếu   \n",
       "82   Corp_TM_136                        Cổ tức, lợi nhuận được chia   \n",
       "83   Corp_TM_137              Lãi từ bán, thanh lý các khoản đầu tư   \n",
       "84   Corp_TM_144                                       Lãi tiền vay   \n",
       "\n",
       "                                           en_caption parent_code  \n",
       "0                      (Explaination) Debt securities      BS_121  \n",
       "1                    (Explaination) Equity securities      BS_121  \n",
       "2             (Explaination) Other trading securities      BS_121  \n",
       "3   (Explaination) Provision for trading securitie...      BS_121  \n",
       "4   (Explaination) Listing status of trading secur...      BS_121  \n",
       "..                                                ...         ...  \n",
       "80  (Explaination) Interest income from deposits a...      IS_021  \n",
       "81  (Explaination) Interest income from bonds, pro...      IS_021  \n",
       "82    (Explaination) Dividends, profit share received      IS_021  \n",
       "83  (Explaination) Gain from sale, liquidation of ...      IS_021  \n",
       "84                       (Explaination) Loan interest      IS_022  \n",
       "\n",
       "[79 rows x 4 columns]"
      ]
     },
     "execution_count": 49,
     "metadata": {},
     "output_type": "execute_result"
    }
   ],
   "source": [
    "df_map"
   ]
  },
  {
   "cell_type": "code",
   "execution_count": null,
   "metadata": {},
   "outputs": [],
   "source": [
    "# df_map.to_csv('../csv/map_category_code_explaination_v3.csv', index=False)"
   ]
  },
  {
   "cell_type": "code",
   "execution_count": 50,
   "metadata": {},
   "outputs": [],
   "source": [
    "df_map_tm_bank = df_map_tm_bank[['category_code', 'vi_caption', 'en_caption']]\n",
    "df_map_tm_sec = df_map_tm_sec[['category_code', 'vi_caption', 'en_caption']]\n",
    "df_map_tm_corp = df_map_tm_corp[['category_code', 'vi_caption', 'en_caption']]"
   ]
  },
  {
   "cell_type": "code",
   "execution_count": 51,
   "metadata": {},
   "outputs": [],
   "source": [
    "bank_args = {\n",
    "    \n",
    "        'nrows': 223,\n",
    "        'mapping': df_map_tm_bank\n",
    "    \n",
    "}\n",
    "\n",
    "corp_args = {\n",
    "        'nrows': 161,\n",
    "        'mapping': df_map_tm_corp\n",
    "    \n",
    "    \n",
    "}\n",
    "\n",
    "sec_args = {\n",
    "        'nrows': 646,\n",
    "        'mapping': df_map_tm_sec\n",
    "    \n",
    "}"
   ]
  },
  {
   "cell_type": "code",
   "execution_count": 52,
   "metadata": {},
   "outputs": [],
   "source": [
    "def get_tm(excel_file, type_):\n",
    "    if type_ == 'bank':\n",
    "        args = bank_args\n",
    "    elif type_ == 'corp':\n",
    "        args = corp_args\n",
    "    else:\n",
    "        args = sec_args\n",
    "       \n",
    "    df = excel_file.parse(\n",
    "        sheet_name = 'Thuyết minh',\n",
    "        skiprows=10,\n",
    "        nrows=args['nrows'],\n",
    "    )\n",
    "    \n",
    "    df = df.iloc[3:]\n",
    "    df.reset_index(drop=True, inplace=True)\n",
    "    columns = df.columns.tolist()\n",
    "    columns += args['mapping'].columns.tolist()\n",
    "    \n",
    "    df = pd.concat([df, args['mapping']], ignore_index=True, axis=1)\n",
    "    df.columns = columns\n",
    "    df.dropna(subset=['vi_caption'], inplace=True)\n",
    "    df.drop(columns=['Chỉ tiêuTriệu VND'], inplace=True)\n",
    "    df.reset_index(drop=True, inplace=True)\n",
    "    \n",
    "    # df_mapping = args['mapping']\n",
    "    # df.rename(columns={'Chỉ tiêuTriệu VND': 'vi_caption'}, inplace=True)\n",
    "    \n",
    "    columns = df.columns\n",
    "    get_column = []\n",
    "    for col in columns:\n",
    "\n",
    "        if col.isnumeric() or col.split('/')[-1].isnumeric():\n",
    "            get_column.append(col)\n",
    "    \n",
    "    # # df = pd.merge(df, df_mapping, how='left', on='vi_caption')\n",
    "    # # df.dropna(subset=['category_code'], inplace=True)\n",
    "    \n",
    "    \n",
    "    # # df= df[get_column + ['category_code']]\n",
    "    \n",
    "    data = []\n",
    "    for index, row in df.iterrows():\n",
    "        for col in get_column:\n",
    "            data.append([row['category_code'], col, row[col]])\n",
    "            \n",
    "            \n",
    "            \n",
    "    df = pd.DataFrame(data, columns=['category_code', 'time', 'data'])\n",
    "    \n",
    "    \n",
    "    return df"
   ]
  },
  {
   "cell_type": "code",
   "execution_count": 53,
   "metadata": {},
   "outputs": [],
   "source": [
    "from tqdm import tqdm\n",
    "# non_bank_stock_code = [\"HSG\", \"ELC\", \"VSC\", \"ACV\", \"REE\", \"SZC\", \"CSV\", \"PAN\", \"BSR\", \"SGP\", \"GMD\", \"ITD\",\"FOX\", \"KDC\", \"SBT\", \"VGC\", \"HBC\", \"CTD\", \"DIG\", \"SCR\", \"KBC\",\"MWG\", \"NHA\", \"VNM\", \"HPG\", \"VHM\", \"PNJ\", \"YEG\", \"FPT\",\"MSN\", \"GAS\", \"VRE\", \"VJC\", \"VIC\", \"PLX\", \"SAB\", \"POW\", \"GVR\", \"BCM\", \"VPI\", \"DVM\", \"KDH\", \"HDC\", \"TCH\", \"CEO\", \"HUT\", \"NVL\", \"DBC\", \"SAF\", \"DHT\", \"VTP\", \"PVT\", \"FRT\", \"DGC\", \"DCM\", \"NKG\", \"CMG\", \"VGI\", \"PVC\", \"CAP\", \"DTD\", \"HLD\", \"L14\", \"L18\", \"LAS\", \"LHC\", \"NTP\", \"PLC\", \"PSD\", \"PVG\", \"PVS\", \"SLS\", \"TIG\", \"TMB\", \"TNG\", \"TVD\", \"VC3\", \"VCS\", \"DXG\"]\n",
    "# bank_stock_code = [\"BID\", \"EIB\", \"OCB\", \"CTG\", \"VCB\", \"ACB\", \"MBB\", \"HDB\", \"TPB\", \"VPB\",  \"STB\", \"TCB\",  \"SHB\", \"VIB\", \"ABB\", \"LPB\", \"NVB\"]\n",
    "# securities_stock_code = [\"MBS\", \"VND\", \"SSI\", \"VIX\", \"ORS\"]\n",
    "# file_dir = \"../../fiin/year/FiinProX_DuLieuTaiChinh_BaoCaoTaiChinh_Yearly_{code}_20241218.xlsx\""
   ]
  },
  {
   "cell_type": "code",
   "execution_count": 54,
   "metadata": {},
   "outputs": [],
   "source": [
    "temp_path = file_dir.format(code='MSB')\n",
    "excel_file = pd.ExcelFile(temp_path, engine=\"openpyxl\")\n"
   ]
  },
  {
   "cell_type": "code",
   "execution_count": 55,
   "metadata": {},
   "outputs": [
    {
     "data": {
      "application/vnd.microsoft.datawrangler.viewer.v0+json": {
       "columns": [
        {
         "name": "index",
         "rawType": "int64",
         "type": "integer"
        },
        {
         "name": "category_code",
         "rawType": "object",
         "type": "string"
        },
        {
         "name": "time",
         "rawType": "object",
         "type": "string"
        },
        {
         "name": "data",
         "rawType": "float64",
         "type": "float"
        }
       ],
       "conversionMethod": "pd.DataFrame",
       "ref": "08662ab7-76f1-4dcb-929b-3c2742063011",
       "rows": [
        [
         "0",
         "Bank_TM_2",
         "2006",
         null
        ],
        [
         "1",
         "Bank_TM_2",
         "2007",
         null
        ],
        [
         "2",
         "Bank_TM_2",
         "2010",
         null
        ],
        [
         "3",
         "Bank_TM_2",
         "2011",
         null
        ],
        [
         "4",
         "Bank_TM_2",
         "2012",
         null
        ],
        [
         "5",
         "Bank_TM_2",
         "2013",
         "0.0"
        ],
        [
         "6",
         "Bank_TM_2",
         "2014",
         "0.0"
        ],
        [
         "7",
         "Bank_TM_2",
         "2015",
         "0.0"
        ],
        [
         "8",
         "Bank_TM_2",
         "2016",
         "0.0"
        ],
        [
         "9",
         "Bank_TM_2",
         "2017",
         "0.0"
        ],
        [
         "10",
         "Bank_TM_2",
         "2018",
         "0.0"
        ],
        [
         "11",
         "Bank_TM_2",
         "2019",
         "0.0"
        ],
        [
         "12",
         "Bank_TM_2",
         "2020",
         "0.0"
        ],
        [
         "13",
         "Bank_TM_2",
         "2021",
         "0.0"
        ],
        [
         "14",
         "Bank_TM_2",
         "2022",
         "0.0"
        ],
        [
         "15",
         "Bank_TM_2",
         "2023",
         "0.0"
        ],
        [
         "16",
         "Bank_TM_2",
         "2024",
         "0.0"
        ],
        [
         "17",
         "Bank_TM_8",
         "2006",
         null
        ],
        [
         "18",
         "Bank_TM_8",
         "2007",
         null
        ],
        [
         "19",
         "Bank_TM_8",
         "2010",
         null
        ],
        [
         "20",
         "Bank_TM_8",
         "2011",
         null
        ],
        [
         "21",
         "Bank_TM_8",
         "2012",
         null
        ],
        [
         "22",
         "Bank_TM_8",
         "2013",
         "191543.0"
        ],
        [
         "23",
         "Bank_TM_8",
         "2014",
         "200896.0"
        ],
        [
         "24",
         "Bank_TM_8",
         "2015",
         "196922.0"
        ],
        [
         "25",
         "Bank_TM_8",
         "2016",
         "164014.0"
        ],
        [
         "26",
         "Bank_TM_8",
         "2017",
         "127927.0"
        ],
        [
         "27",
         "Bank_TM_8",
         "2018",
         "127927.0"
        ],
        [
         "28",
         "Bank_TM_8",
         "2019",
         "127927.0"
        ],
        [
         "29",
         "Bank_TM_8",
         "2020",
         "39287.0"
        ],
        [
         "30",
         "Bank_TM_8",
         "2021",
         "39287.0"
        ],
        [
         "31",
         "Bank_TM_8",
         "2022",
         "39287.0"
        ],
        [
         "32",
         "Bank_TM_8",
         "2023",
         "0.0"
        ],
        [
         "33",
         "Bank_TM_8",
         "2024",
         "0.0"
        ],
        [
         "34",
         "Bank_TM_12",
         "2006",
         null
        ],
        [
         "35",
         "Bank_TM_12",
         "2007",
         null
        ],
        [
         "36",
         "Bank_TM_12",
         "2010",
         null
        ],
        [
         "37",
         "Bank_TM_12",
         "2011",
         null
        ],
        [
         "38",
         "Bank_TM_12",
         "2012",
         null
        ],
        [
         "39",
         "Bank_TM_12",
         "2013",
         "0.0"
        ],
        [
         "40",
         "Bank_TM_12",
         "2014",
         "0.0"
        ],
        [
         "41",
         "Bank_TM_12",
         "2015",
         "0.0"
        ],
        [
         "42",
         "Bank_TM_12",
         "2016",
         "0.0"
        ],
        [
         "43",
         "Bank_TM_12",
         "2017",
         "0.0"
        ],
        [
         "44",
         "Bank_TM_12",
         "2018",
         "0.0"
        ],
        [
         "45",
         "Bank_TM_12",
         "2019",
         "0.0"
        ],
        [
         "46",
         "Bank_TM_12",
         "2020",
         "0.0"
        ],
        [
         "47",
         "Bank_TM_12",
         "2021",
         "0.0"
        ],
        [
         "48",
         "Bank_TM_12",
         "2022",
         "0.0"
        ],
        [
         "49",
         "Bank_TM_12",
         "2023",
         "0.0"
        ]
       ],
       "shape": {
        "columns": 3,
        "rows": 833
       }
      },
      "text/html": [
       "<div>\n",
       "<style scoped>\n",
       "    .dataframe tbody tr th:only-of-type {\n",
       "        vertical-align: middle;\n",
       "    }\n",
       "\n",
       "    .dataframe tbody tr th {\n",
       "        vertical-align: top;\n",
       "    }\n",
       "\n",
       "    .dataframe thead th {\n",
       "        text-align: right;\n",
       "    }\n",
       "</style>\n",
       "<table border=\"1\" class=\"dataframe\">\n",
       "  <thead>\n",
       "    <tr style=\"text-align: right;\">\n",
       "      <th></th>\n",
       "      <th>category_code</th>\n",
       "      <th>time</th>\n",
       "      <th>data</th>\n",
       "    </tr>\n",
       "  </thead>\n",
       "  <tbody>\n",
       "    <tr>\n",
       "      <th>0</th>\n",
       "      <td>Bank_TM_2</td>\n",
       "      <td>2006</td>\n",
       "      <td>NaN</td>\n",
       "    </tr>\n",
       "    <tr>\n",
       "      <th>1</th>\n",
       "      <td>Bank_TM_2</td>\n",
       "      <td>2007</td>\n",
       "      <td>NaN</td>\n",
       "    </tr>\n",
       "    <tr>\n",
       "      <th>2</th>\n",
       "      <td>Bank_TM_2</td>\n",
       "      <td>2010</td>\n",
       "      <td>NaN</td>\n",
       "    </tr>\n",
       "    <tr>\n",
       "      <th>3</th>\n",
       "      <td>Bank_TM_2</td>\n",
       "      <td>2011</td>\n",
       "      <td>NaN</td>\n",
       "    </tr>\n",
       "    <tr>\n",
       "      <th>4</th>\n",
       "      <td>Bank_TM_2</td>\n",
       "      <td>2012</td>\n",
       "      <td>NaN</td>\n",
       "    </tr>\n",
       "    <tr>\n",
       "      <th>...</th>\n",
       "      <td>...</td>\n",
       "      <td>...</td>\n",
       "      <td>...</td>\n",
       "    </tr>\n",
       "    <tr>\n",
       "      <th>828</th>\n",
       "      <td>Bank_TM_134</td>\n",
       "      <td>2020</td>\n",
       "      <td>35115263.0</td>\n",
       "    </tr>\n",
       "    <tr>\n",
       "      <th>829</th>\n",
       "      <td>Bank_TM_134</td>\n",
       "      <td>2021</td>\n",
       "      <td>38426601.0</td>\n",
       "    </tr>\n",
       "    <tr>\n",
       "      <th>830</th>\n",
       "      <td>Bank_TM_134</td>\n",
       "      <td>2022</td>\n",
       "      <td>57175663.0</td>\n",
       "    </tr>\n",
       "    <tr>\n",
       "      <th>831</th>\n",
       "      <td>Bank_TM_134</td>\n",
       "      <td>2023</td>\n",
       "      <td>56762543.0</td>\n",
       "    </tr>\n",
       "    <tr>\n",
       "      <th>832</th>\n",
       "      <td>Bank_TM_134</td>\n",
       "      <td>2024</td>\n",
       "      <td>75407762.0</td>\n",
       "    </tr>\n",
       "  </tbody>\n",
       "</table>\n",
       "<p>833 rows × 3 columns</p>\n",
       "</div>"
      ],
      "text/plain": [
       "    category_code  time        data\n",
       "0       Bank_TM_2  2006         NaN\n",
       "1       Bank_TM_2  2007         NaN\n",
       "2       Bank_TM_2  2010         NaN\n",
       "3       Bank_TM_2  2011         NaN\n",
       "4       Bank_TM_2  2012         NaN\n",
       "..            ...   ...         ...\n",
       "828   Bank_TM_134  2020  35115263.0\n",
       "829   Bank_TM_134  2021  38426601.0\n",
       "830   Bank_TM_134  2022  57175663.0\n",
       "831   Bank_TM_134  2023  56762543.0\n",
       "832   Bank_TM_134  2024  75407762.0\n",
       "\n",
       "[833 rows x 3 columns]"
      ]
     },
     "execution_count": 55,
     "metadata": {},
     "output_type": "execute_result"
    }
   ],
   "source": [
    "df = get_tm(excel_file, 'bank')\n",
    "df "
   ]
  },
  {
   "cell_type": "code",
   "execution_count": 56,
   "metadata": {},
   "outputs": [
    {
     "name": "stderr",
     "output_type": "stream",
     "text": [
      "100%|██████████| 9/9 [00:00<00:00, 42.74it/s]\n",
      "100%|██████████| 80/80 [00:01<00:00, 71.11it/s]\n",
      "100%|██████████| 9/9 [00:00<00:00, 28.60it/s]\n"
     ]
    }
   ],
   "source": [
    "dfs_bank = []\n",
    "for code in tqdm(bank_stock_code):\n",
    "    excel_file = pd.ExcelFile(file_dir.format(code=code), engine=\"openpyxl\")\n",
    "    df_bank_tm = get_tm(excel_file, 'bank')\n",
    "    df_bank_tm['stock_code'] = code\n",
    "    dfs_bank.append(df_bank_tm)\n",
    "df_bank_tm_y = pd.concat(dfs_bank)\n",
    "\n",
    "\n",
    "dfs_corp = []\n",
    "for code in tqdm(non_bank_stock_code):\n",
    "    excel_file = pd.ExcelFile(file_dir.format(code=code), engine=\"openpyxl\")\n",
    "    df_corp_tm = get_tm(excel_file, 'corp')\n",
    "    df_corp_tm['stock_code'] = code\n",
    "    dfs_corp.append(df_corp_tm)\n",
    "df_corp_tm_y = pd.concat(dfs_corp)\n",
    "\n",
    "dfs_sec = []\n",
    "for code in tqdm(securities_stock_code):\n",
    "    excel_file = pd.ExcelFile(file_dir.format(code=code), engine=\"openpyxl\")\n",
    "    df_sec_tm = get_tm(excel_file, 'sec')\n",
    "    df_sec_tm['stock_code'] = code\n",
    "    dfs_sec.append(df_sec_tm)\n",
    "df_sec_tm_y = pd.concat(dfs_sec)"
   ]
  },
  {
   "cell_type": "code",
   "execution_count": 57,
   "metadata": {},
   "outputs": [
    {
     "data": {
      "application/vnd.microsoft.datawrangler.viewer.v0+json": {
       "columns": [
        {
         "name": "index",
         "rawType": "int64",
         "type": "integer"
        },
        {
         "name": "category_code",
         "rawType": "object",
         "type": "string"
        },
        {
         "name": "time",
         "rawType": "object",
         "type": "string"
        },
        {
         "name": "data",
         "rawType": "float64",
         "type": "float"
        },
        {
         "name": "stock_code",
         "rawType": "object",
         "type": "string"
        }
       ],
       "conversionMethod": "pd.DataFrame",
       "ref": "68cab47e-3e76-4f62-8e38-b43ef6208090",
       "rows": [
        [
         "0",
         "Share_TM_1",
         "2008",
         "930.63",
         "VCI"
        ],
        [
         "1",
         "Share_TM_1",
         "2011",
         "327.885867",
         "VCI"
        ],
        [
         "2",
         "Share_TM_1",
         "2012",
         "611.331816",
         "VCI"
        ],
        [
         "3",
         "Share_TM_1",
         "2013",
         "413.530098",
         "VCI"
        ],
        [
         "4",
         "Share_TM_1",
         "2014",
         "677.599956",
         "VCI"
        ],
        [
         "5",
         "Share_TM_1",
         "2015",
         "430.278937",
         "VCI"
        ],
        [
         "6",
         "Share_TM_1",
         "2016",
         "602.780389",
         "VCI"
        ],
        [
         "7",
         "Share_TM_1",
         "2017",
         "374.256985",
         "VCI"
        ],
        [
         "8",
         "Share_TM_1",
         "2018",
         "404.829749",
         "VCI"
        ],
        [
         "9",
         "Share_TM_1",
         "2019",
         "575.239526",
         "VCI"
        ],
        [
         "10",
         "Share_TM_1",
         "2020",
         "960.09629",
         "VCI"
        ],
        [
         "11",
         "Share_TM_1",
         "2021",
         "577.800477",
         "VCI"
        ],
        [
         "12",
         "Share_TM_1",
         "2022",
         "209.635507",
         "VCI"
        ],
        [
         "13",
         "Share_TM_1",
         "2023",
         "476.310684",
         "VCI"
        ],
        [
         "14",
         "Share_TM_1",
         "2024",
         "1142.836137",
         "VCI"
        ],
        [
         "15",
         "Share_TM_2",
         "2008",
         "8347.991",
         "VCI"
        ],
        [
         "16",
         "Share_TM_2",
         "2011",
         "40888.832884",
         "VCI"
        ],
        [
         "17",
         "Share_TM_2",
         "2012",
         "358743.612599",
         "VCI"
        ],
        [
         "18",
         "Share_TM_2",
         "2013",
         "312231.771366",
         "VCI"
        ],
        [
         "19",
         "Share_TM_2",
         "2014",
         "603100.257798",
         "VCI"
        ],
        [
         "20",
         "Share_TM_2",
         "2015",
         "97617.062255",
         "VCI"
        ],
        [
         "21",
         "Share_TM_2",
         "2016",
         "529933.604144",
         "VCI"
        ],
        [
         "22",
         "Share_TM_2",
         "2017",
         "486328.945818",
         "VCI"
        ],
        [
         "23",
         "Share_TM_2",
         "2018",
         "1143956.739141",
         "VCI"
        ],
        [
         "24",
         "Share_TM_2",
         "2019",
         "788936.523076",
         "VCI"
        ],
        [
         "25",
         "Share_TM_2",
         "2020",
         "641552.8873",
         "VCI"
        ],
        [
         "26",
         "Share_TM_2",
         "2021",
         "1131170.799056",
         "VCI"
        ],
        [
         "27",
         "Share_TM_2",
         "2022",
         "2313291.979296",
         "VCI"
        ],
        [
         "28",
         "Share_TM_2",
         "2023",
         "537421.508556",
         "VCI"
        ],
        [
         "29",
         "Share_TM_2",
         "2024",
         "4742629.096608",
         "VCI"
        ],
        [
         "30",
         "Sec_TM_100",
         "2008",
         "0.0",
         "VCI"
        ],
        [
         "31",
         "Sec_TM_100",
         "2011",
         "0.0",
         "VCI"
        ],
        [
         "32",
         "Sec_TM_100",
         "2012",
         "1990653.683942",
         "VCI"
        ],
        [
         "33",
         "Sec_TM_100",
         "2013",
         "246822.5753",
         "VCI"
        ],
        [
         "34",
         "Sec_TM_100",
         "2014",
         "771086.4554",
         "VCI"
        ],
        [
         "35",
         "Sec_TM_100",
         "2015",
         "1216341.61421",
         "VCI"
        ],
        [
         "36",
         "Sec_TM_100",
         "2016",
         "1798442.936896",
         "VCI"
        ],
        [
         "37",
         "Sec_TM_100",
         "2017",
         "2075962.09618",
         "VCI"
        ],
        [
         "38",
         "Sec_TM_100",
         "2018",
         "1366539.41036",
         "VCI"
        ],
        [
         "39",
         "Sec_TM_100",
         "2019",
         "15424136.510093",
         "VCI"
        ],
        [
         "40",
         "Sec_TM_100",
         "2020",
         "35333475.52445",
         "VCI"
        ],
        [
         "41",
         "Sec_TM_100",
         "2021",
         "70613134.489247",
         "VCI"
        ],
        [
         "42",
         "Sec_TM_100",
         "2022",
         "123145967.989018",
         "VCI"
        ],
        [
         "43",
         "Sec_TM_100",
         "2023",
         "78552967.226749",
         "VCI"
        ],
        [
         "44",
         "Sec_TM_100",
         "2024",
         "0.0",
         "VCI"
        ],
        [
         "45",
         "Sec_TM_101",
         "2008",
         "0.0",
         "VCI"
        ],
        [
         "46",
         "Sec_TM_101",
         "2011",
         "0.0",
         "VCI"
        ],
        [
         "47",
         "Sec_TM_101",
         "2012",
         "1990653.683942",
         "VCI"
        ],
        [
         "48",
         "Sec_TM_101",
         "2013",
         "246822.5753",
         "VCI"
        ],
        [
         "49",
         "Sec_TM_101",
         "2014",
         "771086.4554",
         "VCI"
        ]
       ],
       "shape": {
        "columns": 4,
        "rows": 2250
       }
      },
      "text/html": [
       "<div>\n",
       "<style scoped>\n",
       "    .dataframe tbody tr th:only-of-type {\n",
       "        vertical-align: middle;\n",
       "    }\n",
       "\n",
       "    .dataframe tbody tr th {\n",
       "        vertical-align: top;\n",
       "    }\n",
       "\n",
       "    .dataframe thead th {\n",
       "        text-align: right;\n",
       "    }\n",
       "</style>\n",
       "<table border=\"1\" class=\"dataframe\">\n",
       "  <thead>\n",
       "    <tr style=\"text-align: right;\">\n",
       "      <th></th>\n",
       "      <th>category_code</th>\n",
       "      <th>time</th>\n",
       "      <th>data</th>\n",
       "      <th>stock_code</th>\n",
       "    </tr>\n",
       "  </thead>\n",
       "  <tbody>\n",
       "    <tr>\n",
       "      <th>0</th>\n",
       "      <td>Share_TM_1</td>\n",
       "      <td>2008</td>\n",
       "      <td>930.630000</td>\n",
       "      <td>VCI</td>\n",
       "    </tr>\n",
       "    <tr>\n",
       "      <th>1</th>\n",
       "      <td>Share_TM_1</td>\n",
       "      <td>2011</td>\n",
       "      <td>327.885867</td>\n",
       "      <td>VCI</td>\n",
       "    </tr>\n",
       "    <tr>\n",
       "      <th>2</th>\n",
       "      <td>Share_TM_1</td>\n",
       "      <td>2012</td>\n",
       "      <td>611.331816</td>\n",
       "      <td>VCI</td>\n",
       "    </tr>\n",
       "    <tr>\n",
       "      <th>3</th>\n",
       "      <td>Share_TM_1</td>\n",
       "      <td>2013</td>\n",
       "      <td>413.530098</td>\n",
       "      <td>VCI</td>\n",
       "    </tr>\n",
       "    <tr>\n",
       "      <th>4</th>\n",
       "      <td>Share_TM_1</td>\n",
       "      <td>2014</td>\n",
       "      <td>677.599956</td>\n",
       "      <td>VCI</td>\n",
       "    </tr>\n",
       "    <tr>\n",
       "      <th>...</th>\n",
       "      <td>...</td>\n",
       "      <td>...</td>\n",
       "      <td>...</td>\n",
       "      <td>...</td>\n",
       "    </tr>\n",
       "    <tr>\n",
       "      <th>250</th>\n",
       "      <td>Sec_TM_413</td>\n",
       "      <td>2020</td>\n",
       "      <td>0.000000</td>\n",
       "      <td>AGR</td>\n",
       "    </tr>\n",
       "    <tr>\n",
       "      <th>251</th>\n",
       "      <td>Sec_TM_413</td>\n",
       "      <td>2021</td>\n",
       "      <td>0.000000</td>\n",
       "      <td>AGR</td>\n",
       "    </tr>\n",
       "    <tr>\n",
       "      <th>252</th>\n",
       "      <td>Sec_TM_413</td>\n",
       "      <td>2022</td>\n",
       "      <td>0.000000</td>\n",
       "      <td>AGR</td>\n",
       "    </tr>\n",
       "    <tr>\n",
       "      <th>253</th>\n",
       "      <td>Sec_TM_413</td>\n",
       "      <td>2023</td>\n",
       "      <td>0.000000</td>\n",
       "      <td>AGR</td>\n",
       "    </tr>\n",
       "    <tr>\n",
       "      <th>254</th>\n",
       "      <td>Sec_TM_413</td>\n",
       "      <td>2024</td>\n",
       "      <td>0.000000</td>\n",
       "      <td>AGR</td>\n",
       "    </tr>\n",
       "  </tbody>\n",
       "</table>\n",
       "<p>2250 rows × 4 columns</p>\n",
       "</div>"
      ],
      "text/plain": [
       "    category_code  time        data stock_code\n",
       "0      Share_TM_1  2008  930.630000        VCI\n",
       "1      Share_TM_1  2011  327.885867        VCI\n",
       "2      Share_TM_1  2012  611.331816        VCI\n",
       "3      Share_TM_1  2013  413.530098        VCI\n",
       "4      Share_TM_1  2014  677.599956        VCI\n",
       "..            ...   ...         ...        ...\n",
       "250    Sec_TM_413  2020    0.000000        AGR\n",
       "251    Sec_TM_413  2021    0.000000        AGR\n",
       "252    Sec_TM_413  2022    0.000000        AGR\n",
       "253    Sec_TM_413  2023    0.000000        AGR\n",
       "254    Sec_TM_413  2024    0.000000        AGR\n",
       "\n",
       "[2250 rows x 4 columns]"
      ]
     },
     "execution_count": 57,
     "metadata": {},
     "output_type": "execute_result"
    }
   ],
   "source": [
    "df_sec_tm_y"
   ]
  },
  {
   "cell_type": "code",
   "execution_count": 58,
   "metadata": {},
   "outputs": [
    {
     "data": {
      "application/vnd.microsoft.datawrangler.viewer.v0+json": {
       "columns": [
        {
         "name": "index",
         "rawType": "int64",
         "type": "integer"
        },
        {
         "name": "category_code",
         "rawType": "object",
         "type": "string"
        },
        {
         "name": "time",
         "rawType": "object",
         "type": "string"
        },
        {
         "name": "data",
         "rawType": "float64",
         "type": "float"
        },
        {
         "name": "stock_code",
         "rawType": "object",
         "type": "string"
        }
       ],
       "conversionMethod": "pd.DataFrame",
       "ref": "c9157a98-a7ac-46bd-aba7-c49bdf067b8f",
       "rows": [
        [
         "162",
         "Share_TM_3",
         "2007",
         "5925095.743333",
         "VCG"
        ],
        [
         "163",
         "Share_TM_3",
         "2008",
         "6314442.131578",
         "VCG"
        ],
        [
         "164",
         "Share_TM_3",
         "2009",
         "0.0",
         "VCG"
        ],
        [
         "165",
         "Share_TM_3",
         "2010",
         "0.0",
         "VCG"
        ],
        [
         "166",
         "Share_TM_3",
         "2011",
         "7502687.226236",
         "VCG"
        ],
        [
         "167",
         "Share_TM_3",
         "2012",
         "5258862.82564",
         "VCG"
        ],
        [
         "168",
         "Share_TM_3",
         "2013",
         "3595444.278251",
         "VCG"
        ],
        [
         "169",
         "Share_TM_3",
         "2014",
         "2526911.828006",
         "VCG"
        ],
        [
         "170",
         "Share_TM_3",
         "2015",
         "2071347.029993",
         "VCG"
        ],
        [
         "171",
         "Share_TM_3",
         "2016",
         "2106851.639756",
         "VCG"
        ],
        [
         "172",
         "Share_TM_3",
         "2017",
         "1694559.849147",
         "VCG"
        ],
        [
         "173",
         "Share_TM_3",
         "2018",
         "1653704.442252",
         "VCG"
        ],
        [
         "174",
         "Share_TM_3",
         "2019",
         "2442077.557776",
         "VCG"
        ],
        [
         "175",
         "Share_TM_3",
         "2020",
         "2442077.557776",
         "VCG"
        ],
        [
         "176",
         "Share_TM_3",
         "2021",
         "1887036.257723",
         "VCG"
        ],
        [
         "177",
         "Share_TM_3",
         "2022",
         "4472054.773909",
         "VCG"
        ],
        [
         "178",
         "Share_TM_3",
         "2023",
         "4839887.974571",
         "VCG"
        ],
        [
         "179",
         "Share_TM_3",
         "2024",
         "4548748.680069",
         "VCG"
        ],
        [
         "153",
         "Share_TM_3",
         "2007",
         "0.0",
         "LCG"
        ],
        [
         "154",
         "Share_TM_3",
         "2008",
         "115593.373416",
         "LCG"
        ],
        [
         "155",
         "Share_TM_3",
         "2009",
         "155017.228349",
         "LCG"
        ],
        [
         "156",
         "Share_TM_3",
         "2010",
         "224860.638953",
         "LCG"
        ],
        [
         "157",
         "Share_TM_3",
         "2011",
         "17270.500212",
         "LCG"
        ],
        [
         "158",
         "Share_TM_3",
         "2012",
         "0.0",
         "LCG"
        ],
        [
         "159",
         "Share_TM_3",
         "2013",
         "166062.610442",
         "LCG"
        ],
        [
         "160",
         "Share_TM_3",
         "2014",
         "36898.66667",
         "LCG"
        ],
        [
         "161",
         "Share_TM_3",
         "2015",
         "9887.222229",
         "LCG"
        ],
        [
         "162",
         "Share_TM_3",
         "2016",
         "44528.799833",
         "LCG"
        ],
        [
         "163",
         "Share_TM_3",
         "2017",
         "115576.091869",
         "LCG"
        ],
        [
         "164",
         "Share_TM_3",
         "2018",
         "134787.469336",
         "LCG"
        ],
        [
         "165",
         "Share_TM_3",
         "2019",
         "57895.540349",
         "LCG"
        ],
        [
         "166",
         "Share_TM_3",
         "2020",
         "732920.937796",
         "LCG"
        ],
        [
         "167",
         "Share_TM_3",
         "2021",
         "671595.436747",
         "LCG"
        ],
        [
         "168",
         "Share_TM_3",
         "2022",
         "3103.643852",
         "LCG"
        ],
        [
         "169",
         "Share_TM_3",
         "2023",
         "1240.438374",
         "LCG"
        ],
        [
         "108",
         "Share_TM_3",
         "2010",
         "33841.728341",
         "DPG"
        ],
        [
         "109",
         "Share_TM_3",
         "2011",
         "30018.998341",
         "DPG"
        ],
        [
         "110",
         "Share_TM_3",
         "2015",
         "506383.304351",
         "DPG"
        ],
        [
         "111",
         "Share_TM_3",
         "2016",
         "836571.188869",
         "DPG"
        ],
        [
         "112",
         "Share_TM_3",
         "2017",
         "1508279.230926",
         "DPG"
        ],
        [
         "113",
         "Share_TM_3",
         "2018",
         "1923371.474773",
         "DPG"
        ],
        [
         "114",
         "Share_TM_3",
         "2019",
         "1637116.909262",
         "DPG"
        ],
        [
         "115",
         "Share_TM_3",
         "2020",
         "1532948.122272",
         "DPG"
        ],
        [
         "116",
         "Share_TM_3",
         "2021",
         "1389332.221461",
         "DPG"
        ],
        [
         "117",
         "Share_TM_3",
         "2022",
         "1417118.096614",
         "DPG"
        ],
        [
         "118",
         "Share_TM_3",
         "2023",
         "1458192.015626",
         "DPG"
        ],
        [
         "119",
         "Share_TM_3",
         "2024",
         "1323836.227593",
         "DPG"
        ],
        [
         "153",
         "Share_TM_3",
         "2007",
         "70820.687852",
         "CTI"
        ],
        [
         "154",
         "Share_TM_3",
         "2008",
         "77548.027593",
         "CTI"
        ],
        [
         "155",
         "Share_TM_3",
         "2009",
         "67833.459381",
         "CTI"
        ]
       ],
       "shape": {
        "columns": 4,
        "rows": 1231
       }
      },
      "text/html": [
       "<div>\n",
       "<style scoped>\n",
       "    .dataframe tbody tr th:only-of-type {\n",
       "        vertical-align: middle;\n",
       "    }\n",
       "\n",
       "    .dataframe tbody tr th {\n",
       "        vertical-align: top;\n",
       "    }\n",
       "\n",
       "    .dataframe thead th {\n",
       "        text-align: right;\n",
       "    }\n",
       "</style>\n",
       "<table border=\"1\" class=\"dataframe\">\n",
       "  <thead>\n",
       "    <tr style=\"text-align: right;\">\n",
       "      <th></th>\n",
       "      <th>category_code</th>\n",
       "      <th>time</th>\n",
       "      <th>data</th>\n",
       "      <th>stock_code</th>\n",
       "    </tr>\n",
       "  </thead>\n",
       "  <tbody>\n",
       "    <tr>\n",
       "      <th>162</th>\n",
       "      <td>Share_TM_3</td>\n",
       "      <td>2007</td>\n",
       "      <td>5.925096e+06</td>\n",
       "      <td>VCG</td>\n",
       "    </tr>\n",
       "    <tr>\n",
       "      <th>163</th>\n",
       "      <td>Share_TM_3</td>\n",
       "      <td>2008</td>\n",
       "      <td>6.314442e+06</td>\n",
       "      <td>VCG</td>\n",
       "    </tr>\n",
       "    <tr>\n",
       "      <th>164</th>\n",
       "      <td>Share_TM_3</td>\n",
       "      <td>2009</td>\n",
       "      <td>0.000000e+00</td>\n",
       "      <td>VCG</td>\n",
       "    </tr>\n",
       "    <tr>\n",
       "      <th>165</th>\n",
       "      <td>Share_TM_3</td>\n",
       "      <td>2010</td>\n",
       "      <td>0.000000e+00</td>\n",
       "      <td>VCG</td>\n",
       "    </tr>\n",
       "    <tr>\n",
       "      <th>166</th>\n",
       "      <td>Share_TM_3</td>\n",
       "      <td>2011</td>\n",
       "      <td>7.502687e+06</td>\n",
       "      <td>VCG</td>\n",
       "    </tr>\n",
       "    <tr>\n",
       "      <th>...</th>\n",
       "      <td>...</td>\n",
       "      <td>...</td>\n",
       "      <td>...</td>\n",
       "      <td>...</td>\n",
       "    </tr>\n",
       "    <tr>\n",
       "      <th>155</th>\n",
       "      <td>Share_TM_3</td>\n",
       "      <td>2018</td>\n",
       "      <td>1.821853e+04</td>\n",
       "      <td>MAS</td>\n",
       "    </tr>\n",
       "    <tr>\n",
       "      <th>156</th>\n",
       "      <td>Share_TM_3</td>\n",
       "      <td>2019</td>\n",
       "      <td>1.006779e+04</td>\n",
       "      <td>MAS</td>\n",
       "    </tr>\n",
       "    <tr>\n",
       "      <th>157</th>\n",
       "      <td>Share_TM_3</td>\n",
       "      <td>2020</td>\n",
       "      <td>5.280919e+03</td>\n",
       "      <td>MAS</td>\n",
       "    </tr>\n",
       "    <tr>\n",
       "      <th>158</th>\n",
       "      <td>Share_TM_3</td>\n",
       "      <td>2022</td>\n",
       "      <td>0.000000e+00</td>\n",
       "      <td>MAS</td>\n",
       "    </tr>\n",
       "    <tr>\n",
       "      <th>159</th>\n",
       "      <td>Share_TM_3</td>\n",
       "      <td>2023</td>\n",
       "      <td>1.907986e+03</td>\n",
       "      <td>MAS</td>\n",
       "    </tr>\n",
       "  </tbody>\n",
       "</table>\n",
       "<p>1231 rows × 4 columns</p>\n",
       "</div>"
      ],
      "text/plain": [
       "    category_code  time          data stock_code\n",
       "162    Share_TM_3  2007  5.925096e+06        VCG\n",
       "163    Share_TM_3  2008  6.314442e+06        VCG\n",
       "164    Share_TM_3  2009  0.000000e+00        VCG\n",
       "165    Share_TM_3  2010  0.000000e+00        VCG\n",
       "166    Share_TM_3  2011  7.502687e+06        VCG\n",
       "..            ...   ...           ...        ...\n",
       "155    Share_TM_3  2018  1.821853e+04        MAS\n",
       "156    Share_TM_3  2019  1.006779e+04        MAS\n",
       "157    Share_TM_3  2020  5.280919e+03        MAS\n",
       "158    Share_TM_3  2022  0.000000e+00        MAS\n",
       "159    Share_TM_3  2023  1.907986e+03        MAS\n",
       "\n",
       "[1231 rows x 4 columns]"
      ]
     },
     "execution_count": 58,
     "metadata": {},
     "output_type": "execute_result"
    }
   ],
   "source": [
    "df_corp_tm_y[df_corp_tm_y['category_code'] == 'Share_TM_3']"
   ]
  },
  {
   "cell_type": "code",
   "execution_count": null,
   "metadata": {},
   "outputs": [],
   "source": [
    "# file_dir = \"../../fiin/quarter/FiinProX_DuLieuTaiChinh_BaoCaoTaiChinh_Quarterly_{code}_20241218.xlsx\""
   ]
  },
  {
   "cell_type": "code",
   "execution_count": 59,
   "metadata": {},
   "outputs": [
    {
     "name": "stderr",
     "output_type": "stream",
     "text": [
      "100%|██████████| 9/9 [00:00<00:00, 39.13it/s]\n",
      "100%|██████████| 80/80 [00:01<00:00, 72.89it/s]\n",
      "100%|██████████| 9/9 [00:00<00:00, 28.46it/s]\n"
     ]
    }
   ],
   "source": [
    "dfs_bank_q = []\n",
    "for code in tqdm(bank_stock_code):\n",
    "    excel_file = pd.ExcelFile(file_dir.format(code=code), engine=\"openpyxl\")\n",
    "    df_bank_tm = get_tm(excel_file, 'bank')\n",
    "    df_bank_tm['stock_code'] = code\n",
    "    dfs_bank_q.append(df_bank_tm)\n",
    "df_bank_tm_q = pd.concat(dfs_bank_q)\n",
    "\n",
    "\n",
    "dfs_corp_q = []\n",
    "for code in tqdm(non_bank_stock_code):\n",
    "    excel_file = pd.ExcelFile(file_dir.format(code=code), engine=\"openpyxl\")\n",
    "    df_corp_tm = get_tm(excel_file, 'corp')\n",
    "    df_corp_tm['stock_code'] = code\n",
    "    dfs_corp_q.append(df_corp_tm)\n",
    "df_corp_tm_q = pd.concat(dfs_corp_q)\n",
    "\n",
    "dfs_sec_q = []\n",
    "for code in tqdm(securities_stock_code):\n",
    "    excel_file = pd.ExcelFile(file_dir.format(code=code), engine=\"openpyxl\")\n",
    "    df_sec_tm = get_tm(excel_file, 'sec')\n",
    "    df_sec_tm['stock_code'] = code\n",
    "    dfs_sec_q.append(df_sec_tm)\n",
    "df_sec_tm_q = pd.concat(dfs_sec_q)"
   ]
  },
  {
   "cell_type": "code",
   "execution_count": 60,
   "metadata": {},
   "outputs": [
    {
     "data": {
      "application/vnd.microsoft.datawrangler.viewer.v0+json": {
       "columns": [
        {
         "name": "index",
         "rawType": "int64",
         "type": "integer"
        },
        {
         "name": "category_code",
         "rawType": "object",
         "type": "string"
        },
        {
         "name": "time",
         "rawType": "object",
         "type": "string"
        },
        {
         "name": "data",
         "rawType": "float64",
         "type": "float"
        },
        {
         "name": "stock_code",
         "rawType": "object",
         "type": "string"
        }
       ],
       "conversionMethod": "pd.DataFrame",
       "ref": "f7eaf140-3075-4c3f-bbd1-4d49aaf9026f",
       "rows": [
        [
         "0",
         "Share_TM_1",
         "2008",
         "930.63",
         "VCI"
        ],
        [
         "1",
         "Share_TM_1",
         "2011",
         "327.885867",
         "VCI"
        ],
        [
         "2",
         "Share_TM_1",
         "2012",
         "611.331816",
         "VCI"
        ],
        [
         "3",
         "Share_TM_1",
         "2013",
         "413.530098",
         "VCI"
        ],
        [
         "4",
         "Share_TM_1",
         "2014",
         "677.599956",
         "VCI"
        ],
        [
         "5",
         "Share_TM_1",
         "2015",
         "430.278937",
         "VCI"
        ],
        [
         "6",
         "Share_TM_1",
         "2016",
         "602.780389",
         "VCI"
        ],
        [
         "7",
         "Share_TM_1",
         "2017",
         "374.256985",
         "VCI"
        ],
        [
         "8",
         "Share_TM_1",
         "2018",
         "404.829749",
         "VCI"
        ],
        [
         "9",
         "Share_TM_1",
         "2019",
         "575.239526",
         "VCI"
        ],
        [
         "10",
         "Share_TM_1",
         "2020",
         "960.09629",
         "VCI"
        ],
        [
         "11",
         "Share_TM_1",
         "2021",
         "577.800477",
         "VCI"
        ],
        [
         "12",
         "Share_TM_1",
         "2022",
         "209.635507",
         "VCI"
        ],
        [
         "13",
         "Share_TM_1",
         "2023",
         "476.310684",
         "VCI"
        ],
        [
         "14",
         "Share_TM_1",
         "2024",
         "1142.836137",
         "VCI"
        ],
        [
         "15",
         "Share_TM_2",
         "2008",
         "8347.991",
         "VCI"
        ],
        [
         "16",
         "Share_TM_2",
         "2011",
         "40888.832884",
         "VCI"
        ],
        [
         "17",
         "Share_TM_2",
         "2012",
         "358743.612599",
         "VCI"
        ],
        [
         "18",
         "Share_TM_2",
         "2013",
         "312231.771366",
         "VCI"
        ],
        [
         "19",
         "Share_TM_2",
         "2014",
         "603100.257798",
         "VCI"
        ],
        [
         "20",
         "Share_TM_2",
         "2015",
         "97617.062255",
         "VCI"
        ],
        [
         "21",
         "Share_TM_2",
         "2016",
         "529933.604144",
         "VCI"
        ],
        [
         "22",
         "Share_TM_2",
         "2017",
         "486328.945818",
         "VCI"
        ],
        [
         "23",
         "Share_TM_2",
         "2018",
         "1143956.739141",
         "VCI"
        ],
        [
         "24",
         "Share_TM_2",
         "2019",
         "788936.523076",
         "VCI"
        ],
        [
         "25",
         "Share_TM_2",
         "2020",
         "641552.8873",
         "VCI"
        ],
        [
         "26",
         "Share_TM_2",
         "2021",
         "1131170.799056",
         "VCI"
        ],
        [
         "27",
         "Share_TM_2",
         "2022",
         "2313291.979296",
         "VCI"
        ],
        [
         "28",
         "Share_TM_2",
         "2023",
         "537421.508556",
         "VCI"
        ],
        [
         "29",
         "Share_TM_2",
         "2024",
         "4742629.096608",
         "VCI"
        ],
        [
         "30",
         "Sec_TM_100",
         "2008",
         "0.0",
         "VCI"
        ],
        [
         "31",
         "Sec_TM_100",
         "2011",
         "0.0",
         "VCI"
        ],
        [
         "32",
         "Sec_TM_100",
         "2012",
         "1990653.683942",
         "VCI"
        ],
        [
         "33",
         "Sec_TM_100",
         "2013",
         "246822.5753",
         "VCI"
        ],
        [
         "34",
         "Sec_TM_100",
         "2014",
         "771086.4554",
         "VCI"
        ],
        [
         "35",
         "Sec_TM_100",
         "2015",
         "1216341.61421",
         "VCI"
        ],
        [
         "36",
         "Sec_TM_100",
         "2016",
         "1798442.936896",
         "VCI"
        ],
        [
         "37",
         "Sec_TM_100",
         "2017",
         "2075962.09618",
         "VCI"
        ],
        [
         "38",
         "Sec_TM_100",
         "2018",
         "1366539.41036",
         "VCI"
        ],
        [
         "39",
         "Sec_TM_100",
         "2019",
         "15424136.510093",
         "VCI"
        ],
        [
         "40",
         "Sec_TM_100",
         "2020",
         "35333475.52445",
         "VCI"
        ],
        [
         "41",
         "Sec_TM_100",
         "2021",
         "70613134.489247",
         "VCI"
        ],
        [
         "42",
         "Sec_TM_100",
         "2022",
         "123145967.989018",
         "VCI"
        ],
        [
         "43",
         "Sec_TM_100",
         "2023",
         "78552967.226749",
         "VCI"
        ],
        [
         "44",
         "Sec_TM_100",
         "2024",
         "0.0",
         "VCI"
        ],
        [
         "45",
         "Sec_TM_101",
         "2008",
         "0.0",
         "VCI"
        ],
        [
         "46",
         "Sec_TM_101",
         "2011",
         "0.0",
         "VCI"
        ],
        [
         "47",
         "Sec_TM_101",
         "2012",
         "1990653.683942",
         "VCI"
        ],
        [
         "48",
         "Sec_TM_101",
         "2013",
         "246822.5753",
         "VCI"
        ],
        [
         "49",
         "Sec_TM_101",
         "2014",
         "771086.4554",
         "VCI"
        ]
       ],
       "shape": {
        "columns": 4,
        "rows": 2250
       }
      },
      "text/html": [
       "<div>\n",
       "<style scoped>\n",
       "    .dataframe tbody tr th:only-of-type {\n",
       "        vertical-align: middle;\n",
       "    }\n",
       "\n",
       "    .dataframe tbody tr th {\n",
       "        vertical-align: top;\n",
       "    }\n",
       "\n",
       "    .dataframe thead th {\n",
       "        text-align: right;\n",
       "    }\n",
       "</style>\n",
       "<table border=\"1\" class=\"dataframe\">\n",
       "  <thead>\n",
       "    <tr style=\"text-align: right;\">\n",
       "      <th></th>\n",
       "      <th>category_code</th>\n",
       "      <th>time</th>\n",
       "      <th>data</th>\n",
       "      <th>stock_code</th>\n",
       "    </tr>\n",
       "  </thead>\n",
       "  <tbody>\n",
       "    <tr>\n",
       "      <th>0</th>\n",
       "      <td>Share_TM_1</td>\n",
       "      <td>2008</td>\n",
       "      <td>930.630000</td>\n",
       "      <td>VCI</td>\n",
       "    </tr>\n",
       "    <tr>\n",
       "      <th>1</th>\n",
       "      <td>Share_TM_1</td>\n",
       "      <td>2011</td>\n",
       "      <td>327.885867</td>\n",
       "      <td>VCI</td>\n",
       "    </tr>\n",
       "    <tr>\n",
       "      <th>2</th>\n",
       "      <td>Share_TM_1</td>\n",
       "      <td>2012</td>\n",
       "      <td>611.331816</td>\n",
       "      <td>VCI</td>\n",
       "    </tr>\n",
       "    <tr>\n",
       "      <th>3</th>\n",
       "      <td>Share_TM_1</td>\n",
       "      <td>2013</td>\n",
       "      <td>413.530098</td>\n",
       "      <td>VCI</td>\n",
       "    </tr>\n",
       "    <tr>\n",
       "      <th>4</th>\n",
       "      <td>Share_TM_1</td>\n",
       "      <td>2014</td>\n",
       "      <td>677.599956</td>\n",
       "      <td>VCI</td>\n",
       "    </tr>\n",
       "    <tr>\n",
       "      <th>...</th>\n",
       "      <td>...</td>\n",
       "      <td>...</td>\n",
       "      <td>...</td>\n",
       "      <td>...</td>\n",
       "    </tr>\n",
       "    <tr>\n",
       "      <th>250</th>\n",
       "      <td>Sec_TM_413</td>\n",
       "      <td>2020</td>\n",
       "      <td>0.000000</td>\n",
       "      <td>AGR</td>\n",
       "    </tr>\n",
       "    <tr>\n",
       "      <th>251</th>\n",
       "      <td>Sec_TM_413</td>\n",
       "      <td>2021</td>\n",
       "      <td>0.000000</td>\n",
       "      <td>AGR</td>\n",
       "    </tr>\n",
       "    <tr>\n",
       "      <th>252</th>\n",
       "      <td>Sec_TM_413</td>\n",
       "      <td>2022</td>\n",
       "      <td>0.000000</td>\n",
       "      <td>AGR</td>\n",
       "    </tr>\n",
       "    <tr>\n",
       "      <th>253</th>\n",
       "      <td>Sec_TM_413</td>\n",
       "      <td>2023</td>\n",
       "      <td>0.000000</td>\n",
       "      <td>AGR</td>\n",
       "    </tr>\n",
       "    <tr>\n",
       "      <th>254</th>\n",
       "      <td>Sec_TM_413</td>\n",
       "      <td>2024</td>\n",
       "      <td>0.000000</td>\n",
       "      <td>AGR</td>\n",
       "    </tr>\n",
       "  </tbody>\n",
       "</table>\n",
       "<p>2250 rows × 4 columns</p>\n",
       "</div>"
      ],
      "text/plain": [
       "    category_code  time        data stock_code\n",
       "0      Share_TM_1  2008  930.630000        VCI\n",
       "1      Share_TM_1  2011  327.885867        VCI\n",
       "2      Share_TM_1  2012  611.331816        VCI\n",
       "3      Share_TM_1  2013  413.530098        VCI\n",
       "4      Share_TM_1  2014  677.599956        VCI\n",
       "..            ...   ...         ...        ...\n",
       "250    Sec_TM_413  2020    0.000000        AGR\n",
       "251    Sec_TM_413  2021    0.000000        AGR\n",
       "252    Sec_TM_413  2022    0.000000        AGR\n",
       "253    Sec_TM_413  2023    0.000000        AGR\n",
       "254    Sec_TM_413  2024    0.000000        AGR\n",
       "\n",
       "[2250 rows x 4 columns]"
      ]
     },
     "execution_count": 60,
     "metadata": {},
     "output_type": "execute_result"
    }
   ],
   "source": [
    "df_sec_tm_q"
   ]
  },
  {
   "cell_type": "code",
   "execution_count": 61,
   "metadata": {},
   "outputs": [],
   "source": [
    "df_sec_tm = pd.concat([df_sec_tm_y, df_sec_tm_q], ignore_index=True)\n",
    "df_bank_tm = pd.concat([df_bank_tm_y, df_bank_tm_q], ignore_index=True)\n",
    "df_corp_tm = pd.concat([df_corp_tm_y, df_corp_tm_q], ignore_index=True)"
   ]
  },
  {
   "cell_type": "code",
   "execution_count": 62,
   "metadata": {},
   "outputs": [
    {
     "data": {
      "application/vnd.microsoft.datawrangler.viewer.v0+json": {
       "columns": [
        {
         "name": "index",
         "rawType": "int64",
         "type": "integer"
        },
        {
         "name": "category_code",
         "rawType": "object",
         "type": "string"
        },
        {
         "name": "time",
         "rawType": "object",
         "type": "string"
        },
        {
         "name": "data",
         "rawType": "float64",
         "type": "float"
        },
        {
         "name": "stock_code",
         "rawType": "object",
         "type": "string"
        }
       ],
       "conversionMethod": "pd.DataFrame",
       "ref": "15898bea-1dd6-48f6-af47-4a07b9c4bc12",
       "rows": [
        [
         "0",
         "Share_TM_1",
         "2008",
         "930.63",
         "VCI"
        ],
        [
         "1",
         "Share_TM_1",
         "2011",
         "327.885867",
         "VCI"
        ],
        [
         "2",
         "Share_TM_1",
         "2012",
         "611.331816",
         "VCI"
        ],
        [
         "3",
         "Share_TM_1",
         "2013",
         "413.530098",
         "VCI"
        ],
        [
         "4",
         "Share_TM_1",
         "2014",
         "677.599956",
         "VCI"
        ],
        [
         "5",
         "Share_TM_1",
         "2015",
         "430.278937",
         "VCI"
        ],
        [
         "6",
         "Share_TM_1",
         "2016",
         "602.780389",
         "VCI"
        ],
        [
         "7",
         "Share_TM_1",
         "2017",
         "374.256985",
         "VCI"
        ],
        [
         "8",
         "Share_TM_1",
         "2018",
         "404.829749",
         "VCI"
        ],
        [
         "9",
         "Share_TM_1",
         "2019",
         "575.239526",
         "VCI"
        ],
        [
         "10",
         "Share_TM_1",
         "2020",
         "960.09629",
         "VCI"
        ],
        [
         "11",
         "Share_TM_1",
         "2021",
         "577.800477",
         "VCI"
        ],
        [
         "12",
         "Share_TM_1",
         "2022",
         "209.635507",
         "VCI"
        ],
        [
         "13",
         "Share_TM_1",
         "2023",
         "476.310684",
         "VCI"
        ],
        [
         "14",
         "Share_TM_1",
         "2024",
         "1142.836137",
         "VCI"
        ],
        [
         "15",
         "Share_TM_2",
         "2008",
         "8347.991",
         "VCI"
        ],
        [
         "16",
         "Share_TM_2",
         "2011",
         "40888.832884",
         "VCI"
        ],
        [
         "17",
         "Share_TM_2",
         "2012",
         "358743.612599",
         "VCI"
        ],
        [
         "18",
         "Share_TM_2",
         "2013",
         "312231.771366",
         "VCI"
        ],
        [
         "19",
         "Share_TM_2",
         "2014",
         "603100.257798",
         "VCI"
        ],
        [
         "20",
         "Share_TM_2",
         "2015",
         "97617.062255",
         "VCI"
        ],
        [
         "21",
         "Share_TM_2",
         "2016",
         "529933.604144",
         "VCI"
        ],
        [
         "22",
         "Share_TM_2",
         "2017",
         "486328.945818",
         "VCI"
        ],
        [
         "23",
         "Share_TM_2",
         "2018",
         "1143956.739141",
         "VCI"
        ],
        [
         "24",
         "Share_TM_2",
         "2019",
         "788936.523076",
         "VCI"
        ],
        [
         "25",
         "Share_TM_2",
         "2020",
         "641552.8873",
         "VCI"
        ],
        [
         "26",
         "Share_TM_2",
         "2021",
         "1131170.799056",
         "VCI"
        ],
        [
         "27",
         "Share_TM_2",
         "2022",
         "2313291.979296",
         "VCI"
        ],
        [
         "28",
         "Share_TM_2",
         "2023",
         "537421.508556",
         "VCI"
        ],
        [
         "29",
         "Share_TM_2",
         "2024",
         "4742629.096608",
         "VCI"
        ],
        [
         "30",
         "Sec_TM_100",
         "2008",
         "0.0",
         "VCI"
        ],
        [
         "31",
         "Sec_TM_100",
         "2011",
         "0.0",
         "VCI"
        ],
        [
         "32",
         "Sec_TM_100",
         "2012",
         "1990653.683942",
         "VCI"
        ],
        [
         "33",
         "Sec_TM_100",
         "2013",
         "246822.5753",
         "VCI"
        ],
        [
         "34",
         "Sec_TM_100",
         "2014",
         "771086.4554",
         "VCI"
        ],
        [
         "35",
         "Sec_TM_100",
         "2015",
         "1216341.61421",
         "VCI"
        ],
        [
         "36",
         "Sec_TM_100",
         "2016",
         "1798442.936896",
         "VCI"
        ],
        [
         "37",
         "Sec_TM_100",
         "2017",
         "2075962.09618",
         "VCI"
        ],
        [
         "38",
         "Sec_TM_100",
         "2018",
         "1366539.41036",
         "VCI"
        ],
        [
         "39",
         "Sec_TM_100",
         "2019",
         "15424136.510093",
         "VCI"
        ],
        [
         "40",
         "Sec_TM_100",
         "2020",
         "35333475.52445",
         "VCI"
        ],
        [
         "41",
         "Sec_TM_100",
         "2021",
         "70613134.489247",
         "VCI"
        ],
        [
         "42",
         "Sec_TM_100",
         "2022",
         "123145967.989018",
         "VCI"
        ],
        [
         "43",
         "Sec_TM_100",
         "2023",
         "78552967.226749",
         "VCI"
        ],
        [
         "44",
         "Sec_TM_100",
         "2024",
         "0.0",
         "VCI"
        ],
        [
         "45",
         "Sec_TM_101",
         "2008",
         "0.0",
         "VCI"
        ],
        [
         "46",
         "Sec_TM_101",
         "2011",
         "0.0",
         "VCI"
        ],
        [
         "47",
         "Sec_TM_101",
         "2012",
         "1990653.683942",
         "VCI"
        ],
        [
         "48",
         "Sec_TM_101",
         "2013",
         "246822.5753",
         "VCI"
        ],
        [
         "49",
         "Sec_TM_101",
         "2014",
         "771086.4554",
         "VCI"
        ]
       ],
       "shape": {
        "columns": 4,
        "rows": 4500
       }
      },
      "text/html": [
       "<div>\n",
       "<style scoped>\n",
       "    .dataframe tbody tr th:only-of-type {\n",
       "        vertical-align: middle;\n",
       "    }\n",
       "\n",
       "    .dataframe tbody tr th {\n",
       "        vertical-align: top;\n",
       "    }\n",
       "\n",
       "    .dataframe thead th {\n",
       "        text-align: right;\n",
       "    }\n",
       "</style>\n",
       "<table border=\"1\" class=\"dataframe\">\n",
       "  <thead>\n",
       "    <tr style=\"text-align: right;\">\n",
       "      <th></th>\n",
       "      <th>category_code</th>\n",
       "      <th>time</th>\n",
       "      <th>data</th>\n",
       "      <th>stock_code</th>\n",
       "    </tr>\n",
       "  </thead>\n",
       "  <tbody>\n",
       "    <tr>\n",
       "      <th>0</th>\n",
       "      <td>Share_TM_1</td>\n",
       "      <td>2008</td>\n",
       "      <td>930.630000</td>\n",
       "      <td>VCI</td>\n",
       "    </tr>\n",
       "    <tr>\n",
       "      <th>1</th>\n",
       "      <td>Share_TM_1</td>\n",
       "      <td>2011</td>\n",
       "      <td>327.885867</td>\n",
       "      <td>VCI</td>\n",
       "    </tr>\n",
       "    <tr>\n",
       "      <th>2</th>\n",
       "      <td>Share_TM_1</td>\n",
       "      <td>2012</td>\n",
       "      <td>611.331816</td>\n",
       "      <td>VCI</td>\n",
       "    </tr>\n",
       "    <tr>\n",
       "      <th>3</th>\n",
       "      <td>Share_TM_1</td>\n",
       "      <td>2013</td>\n",
       "      <td>413.530098</td>\n",
       "      <td>VCI</td>\n",
       "    </tr>\n",
       "    <tr>\n",
       "      <th>4</th>\n",
       "      <td>Share_TM_1</td>\n",
       "      <td>2014</td>\n",
       "      <td>677.599956</td>\n",
       "      <td>VCI</td>\n",
       "    </tr>\n",
       "    <tr>\n",
       "      <th>...</th>\n",
       "      <td>...</td>\n",
       "      <td>...</td>\n",
       "      <td>...</td>\n",
       "      <td>...</td>\n",
       "    </tr>\n",
       "    <tr>\n",
       "      <th>4495</th>\n",
       "      <td>Sec_TM_413</td>\n",
       "      <td>2020</td>\n",
       "      <td>0.000000</td>\n",
       "      <td>AGR</td>\n",
       "    </tr>\n",
       "    <tr>\n",
       "      <th>4496</th>\n",
       "      <td>Sec_TM_413</td>\n",
       "      <td>2021</td>\n",
       "      <td>0.000000</td>\n",
       "      <td>AGR</td>\n",
       "    </tr>\n",
       "    <tr>\n",
       "      <th>4497</th>\n",
       "      <td>Sec_TM_413</td>\n",
       "      <td>2022</td>\n",
       "      <td>0.000000</td>\n",
       "      <td>AGR</td>\n",
       "    </tr>\n",
       "    <tr>\n",
       "      <th>4498</th>\n",
       "      <td>Sec_TM_413</td>\n",
       "      <td>2023</td>\n",
       "      <td>0.000000</td>\n",
       "      <td>AGR</td>\n",
       "    </tr>\n",
       "    <tr>\n",
       "      <th>4499</th>\n",
       "      <td>Sec_TM_413</td>\n",
       "      <td>2024</td>\n",
       "      <td>0.000000</td>\n",
       "      <td>AGR</td>\n",
       "    </tr>\n",
       "  </tbody>\n",
       "</table>\n",
       "<p>4500 rows × 4 columns</p>\n",
       "</div>"
      ],
      "text/plain": [
       "     category_code  time        data stock_code\n",
       "0       Share_TM_1  2008  930.630000        VCI\n",
       "1       Share_TM_1  2011  327.885867        VCI\n",
       "2       Share_TM_1  2012  611.331816        VCI\n",
       "3       Share_TM_1  2013  413.530098        VCI\n",
       "4       Share_TM_1  2014  677.599956        VCI\n",
       "...            ...   ...         ...        ...\n",
       "4495    Sec_TM_413  2020    0.000000        AGR\n",
       "4496    Sec_TM_413  2021    0.000000        AGR\n",
       "4497    Sec_TM_413  2022    0.000000        AGR\n",
       "4498    Sec_TM_413  2023    0.000000        AGR\n",
       "4499    Sec_TM_413  2024    0.000000        AGR\n",
       "\n",
       "[4500 rows x 4 columns]"
      ]
     },
     "execution_count": 62,
     "metadata": {},
     "output_type": "execute_result"
    }
   ],
   "source": [
    "df_sec_tm"
   ]
  },
  {
   "cell_type": "code",
   "execution_count": 63,
   "metadata": {},
   "outputs": [
    {
     "data": {
      "text/plain": [
       "array([], dtype=object)"
      ]
     },
     "execution_count": 63,
     "metadata": {},
     "output_type": "execute_result"
    }
   ],
   "source": [
    "df_bank_tm[df_bank_tm['time']=='category_code']['stock_code'].unique()"
   ]
  },
  {
   "cell_type": "code",
   "execution_count": 64,
   "metadata": {},
   "outputs": [],
   "source": [
    "def get_quarter_time(text):\n",
    "    if '/' not in text:\n",
    "        return 0, int(text)\n",
    "    \n",
    "    quarter, year = text.split('/')\n",
    "    return int(quarter[1]), int(year)"
   ]
  },
  {
   "cell_type": "code",
   "execution_count": 65,
   "metadata": {},
   "outputs": [],
   "source": [
    "df_sec_tm['quarter'], df_sec_tm['year'] = zip(*df_sec_tm['time'].apply(get_quarter_time))\n",
    "df_bank_tm['quarter'], df_bank_tm['year'] = zip(*df_bank_tm['time'].apply(get_quarter_time))\n",
    "df_corp_tm['quarter'], df_corp_tm['year'] = zip(*df_corp_tm['time'].apply(get_quarter_time))"
   ]
  },
  {
   "cell_type": "code",
   "execution_count": 66,
   "metadata": {},
   "outputs": [
    {
     "data": {
      "application/vnd.microsoft.datawrangler.viewer.v0+json": {
       "columns": [
        {
         "name": "index",
         "rawType": "int64",
         "type": "integer"
        },
        {
         "name": "category_code",
         "rawType": "object",
         "type": "string"
        },
        {
         "name": "time",
         "rawType": "object",
         "type": "string"
        },
        {
         "name": "data",
         "rawType": "float64",
         "type": "float"
        },
        {
         "name": "stock_code",
         "rawType": "object",
         "type": "string"
        },
        {
         "name": "quarter",
         "rawType": "int64",
         "type": "integer"
        },
        {
         "name": "year",
         "rawType": "int64",
         "type": "integer"
        }
       ],
       "conversionMethod": "pd.DataFrame",
       "ref": "a902af00-b7ab-4a7d-97be-6a0ae5a1252c",
       "rows": [
        [
         "0",
         "Bank_TM_2",
         "2009",
         "0.0",
         "EVF",
         "0",
         "2009"
        ],
        [
         "1",
         "Bank_TM_2",
         "2010",
         "0.0",
         "EVF",
         "0",
         "2010"
        ],
        [
         "2",
         "Bank_TM_2",
         "2011",
         "0.0",
         "EVF",
         "0",
         "2011"
        ],
        [
         "3",
         "Bank_TM_2",
         "2016",
         null,
         "EVF",
         "0",
         "2016"
        ],
        [
         "4",
         "Bank_TM_2",
         "2017",
         "0.0",
         "EVF",
         "0",
         "2017"
        ],
        [
         "5",
         "Bank_TM_2",
         "2018",
         null,
         "EVF",
         "0",
         "2018"
        ],
        [
         "6",
         "Bank_TM_2",
         "2019",
         "0.0",
         "EVF",
         "0",
         "2019"
        ],
        [
         "7",
         "Bank_TM_2",
         "2020",
         "0.0",
         "EVF",
         "0",
         "2020"
        ],
        [
         "8",
         "Bank_TM_2",
         "2021",
         "0.0",
         "EVF",
         "0",
         "2021"
        ],
        [
         "9",
         "Bank_TM_2",
         "2022",
         "0.0",
         "EVF",
         "0",
         "2022"
        ],
        [
         "10",
         "Bank_TM_2",
         "2023",
         "0.0",
         "EVF",
         "0",
         "2023"
        ],
        [
         "11",
         "Bank_TM_2",
         "2024",
         "408523.0",
         "EVF",
         "0",
         "2024"
        ],
        [
         "12",
         "Bank_TM_8",
         "2009",
         "13039.483636",
         "EVF",
         "0",
         "2009"
        ],
        [
         "13",
         "Bank_TM_8",
         "2010",
         "553883.360893",
         "EVF",
         "0",
         "2010"
        ],
        [
         "14",
         "Bank_TM_8",
         "2011",
         "138836.474467",
         "EVF",
         "0",
         "2011"
        ],
        [
         "15",
         "Bank_TM_8",
         "2016",
         null,
         "EVF",
         "0",
         "2016"
        ],
        [
         "16",
         "Bank_TM_8",
         "2017",
         "58926.0",
         "EVF",
         "0",
         "2017"
        ],
        [
         "17",
         "Bank_TM_8",
         "2018",
         null,
         "EVF",
         "0",
         "2018"
        ],
        [
         "18",
         "Bank_TM_8",
         "2019",
         "0.0",
         "EVF",
         "0",
         "2019"
        ],
        [
         "19",
         "Bank_TM_8",
         "2020",
         "0.0",
         "EVF",
         "0",
         "2020"
        ],
        [
         "20",
         "Bank_TM_8",
         "2021",
         "0.0",
         "EVF",
         "0",
         "2021"
        ],
        [
         "21",
         "Bank_TM_8",
         "2022",
         "0.0",
         "EVF",
         "0",
         "2022"
        ],
        [
         "22",
         "Bank_TM_8",
         "2023",
         "0.0",
         "EVF",
         "0",
         "2023"
        ],
        [
         "23",
         "Bank_TM_8",
         "2024",
         "0.0",
         "EVF",
         "0",
         "2024"
        ],
        [
         "24",
         "Bank_TM_12",
         "2009",
         "0.0",
         "EVF",
         "0",
         "2009"
        ],
        [
         "25",
         "Bank_TM_12",
         "2010",
         "0.0",
         "EVF",
         "0",
         "2010"
        ],
        [
         "26",
         "Bank_TM_12",
         "2011",
         "0.0",
         "EVF",
         "0",
         "2011"
        ],
        [
         "27",
         "Bank_TM_12",
         "2016",
         null,
         "EVF",
         "0",
         "2016"
        ],
        [
         "28",
         "Bank_TM_12",
         "2017",
         "0.0",
         "EVF",
         "0",
         "2017"
        ],
        [
         "29",
         "Bank_TM_12",
         "2018",
         null,
         "EVF",
         "0",
         "2018"
        ],
        [
         "30",
         "Bank_TM_12",
         "2019",
         "0.0",
         "EVF",
         "0",
         "2019"
        ],
        [
         "31",
         "Bank_TM_12",
         "2020",
         "0.0",
         "EVF",
         "0",
         "2020"
        ],
        [
         "32",
         "Bank_TM_12",
         "2021",
         "0.0",
         "EVF",
         "0",
         "2021"
        ],
        [
         "33",
         "Bank_TM_12",
         "2022",
         "0.0",
         "EVF",
         "0",
         "2022"
        ],
        [
         "34",
         "Bank_TM_12",
         "2023",
         "0.0",
         "EVF",
         "0",
         "2023"
        ],
        [
         "35",
         "Bank_TM_12",
         "2024",
         "305682.0",
         "EVF",
         "0",
         "2024"
        ],
        [
         "36",
         "Bank_TM_13",
         "2009",
         "0.0",
         "EVF",
         "0",
         "2009"
        ],
        [
         "37",
         "Bank_TM_13",
         "2010",
         "-29036.72235",
         "EVF",
         "0",
         "2010"
        ],
        [
         "38",
         "Bank_TM_13",
         "2011",
         "-60326.223048",
         "EVF",
         "0",
         "2011"
        ],
        [
         "39",
         "Bank_TM_13",
         "2016",
         null,
         "EVF",
         "0",
         "2016"
        ],
        [
         "40",
         "Bank_TM_13",
         "2017",
         "-17725.0",
         "EVF",
         "0",
         "2017"
        ],
        [
         "41",
         "Bank_TM_13",
         "2018",
         null,
         "EVF",
         "0",
         "2018"
        ],
        [
         "42",
         "Bank_TM_13",
         "2019",
         "0.0",
         "EVF",
         "0",
         "2019"
        ],
        [
         "43",
         "Bank_TM_13",
         "2020",
         "0.0",
         "EVF",
         "0",
         "2020"
        ],
        [
         "44",
         "Bank_TM_13",
         "2021",
         "0.0",
         "EVF",
         "0",
         "2021"
        ],
        [
         "45",
         "Bank_TM_13",
         "2022",
         "0.0",
         "EVF",
         "0",
         "2022"
        ],
        [
         "46",
         "Bank_TM_13",
         "2023",
         "0.0",
         "EVF",
         "0",
         "2023"
        ],
        [
         "47",
         "Bank_TM_13",
         "2024",
         "0.0",
         "EVF",
         "0",
         "2024"
        ],
        [
         "48",
         "Bank_TM_17",
         "2009",
         "13039.483636",
         "EVF",
         "0",
         "2009"
        ],
        [
         "49",
         "Bank_TM_17",
         "2010",
         "524846.638543",
         "EVF",
         "0",
         "2010"
        ]
       ],
       "shape": {
        "columns": 6,
        "rows": 13720
       }
      },
      "text/html": [
       "<div>\n",
       "<style scoped>\n",
       "    .dataframe tbody tr th:only-of-type {\n",
       "        vertical-align: middle;\n",
       "    }\n",
       "\n",
       "    .dataframe tbody tr th {\n",
       "        vertical-align: top;\n",
       "    }\n",
       "\n",
       "    .dataframe thead th {\n",
       "        text-align: right;\n",
       "    }\n",
       "</style>\n",
       "<table border=\"1\" class=\"dataframe\">\n",
       "  <thead>\n",
       "    <tr style=\"text-align: right;\">\n",
       "      <th></th>\n",
       "      <th>category_code</th>\n",
       "      <th>time</th>\n",
       "      <th>data</th>\n",
       "      <th>stock_code</th>\n",
       "      <th>quarter</th>\n",
       "      <th>year</th>\n",
       "    </tr>\n",
       "  </thead>\n",
       "  <tbody>\n",
       "    <tr>\n",
       "      <th>0</th>\n",
       "      <td>Bank_TM_2</td>\n",
       "      <td>2009</td>\n",
       "      <td>0.0</td>\n",
       "      <td>EVF</td>\n",
       "      <td>0</td>\n",
       "      <td>2009</td>\n",
       "    </tr>\n",
       "    <tr>\n",
       "      <th>1</th>\n",
       "      <td>Bank_TM_2</td>\n",
       "      <td>2010</td>\n",
       "      <td>0.0</td>\n",
       "      <td>EVF</td>\n",
       "      <td>0</td>\n",
       "      <td>2010</td>\n",
       "    </tr>\n",
       "    <tr>\n",
       "      <th>2</th>\n",
       "      <td>Bank_TM_2</td>\n",
       "      <td>2011</td>\n",
       "      <td>0.0</td>\n",
       "      <td>EVF</td>\n",
       "      <td>0</td>\n",
       "      <td>2011</td>\n",
       "    </tr>\n",
       "    <tr>\n",
       "      <th>3</th>\n",
       "      <td>Bank_TM_2</td>\n",
       "      <td>2016</td>\n",
       "      <td>NaN</td>\n",
       "      <td>EVF</td>\n",
       "      <td>0</td>\n",
       "      <td>2016</td>\n",
       "    </tr>\n",
       "    <tr>\n",
       "      <th>4</th>\n",
       "      <td>Bank_TM_2</td>\n",
       "      <td>2017</td>\n",
       "      <td>0.0</td>\n",
       "      <td>EVF</td>\n",
       "      <td>0</td>\n",
       "      <td>2017</td>\n",
       "    </tr>\n",
       "    <tr>\n",
       "      <th>...</th>\n",
       "      <td>...</td>\n",
       "      <td>...</td>\n",
       "      <td>...</td>\n",
       "      <td>...</td>\n",
       "      <td>...</td>\n",
       "      <td>...</td>\n",
       "    </tr>\n",
       "    <tr>\n",
       "      <th>13715</th>\n",
       "      <td>Bank_TM_134</td>\n",
       "      <td>2020</td>\n",
       "      <td>7266680.0</td>\n",
       "      <td>NVB</td>\n",
       "      <td>0</td>\n",
       "      <td>2020</td>\n",
       "    </tr>\n",
       "    <tr>\n",
       "      <th>13716</th>\n",
       "      <td>Bank_TM_134</td>\n",
       "      <td>2021</td>\n",
       "      <td>6180429.0</td>\n",
       "      <td>NVB</td>\n",
       "      <td>0</td>\n",
       "      <td>2021</td>\n",
       "    </tr>\n",
       "    <tr>\n",
       "      <th>13717</th>\n",
       "      <td>Bank_TM_134</td>\n",
       "      <td>2022</td>\n",
       "      <td>7181103.0</td>\n",
       "      <td>NVB</td>\n",
       "      <td>0</td>\n",
       "      <td>2022</td>\n",
       "    </tr>\n",
       "    <tr>\n",
       "      <th>13718</th>\n",
       "      <td>Bank_TM_134</td>\n",
       "      <td>2023</td>\n",
       "      <td>4438471.0</td>\n",
       "      <td>NVB</td>\n",
       "      <td>0</td>\n",
       "      <td>2023</td>\n",
       "    </tr>\n",
       "    <tr>\n",
       "      <th>13719</th>\n",
       "      <td>Bank_TM_134</td>\n",
       "      <td>2024</td>\n",
       "      <td>0.0</td>\n",
       "      <td>NVB</td>\n",
       "      <td>0</td>\n",
       "      <td>2024</td>\n",
       "    </tr>\n",
       "  </tbody>\n",
       "</table>\n",
       "<p>13720 rows × 6 columns</p>\n",
       "</div>"
      ],
      "text/plain": [
       "      category_code  time       data stock_code  quarter  year\n",
       "0         Bank_TM_2  2009        0.0        EVF        0  2009\n",
       "1         Bank_TM_2  2010        0.0        EVF        0  2010\n",
       "2         Bank_TM_2  2011        0.0        EVF        0  2011\n",
       "3         Bank_TM_2  2016        NaN        EVF        0  2016\n",
       "4         Bank_TM_2  2017        0.0        EVF        0  2017\n",
       "...             ...   ...        ...        ...      ...   ...\n",
       "13715   Bank_TM_134  2020  7266680.0        NVB        0  2020\n",
       "13716   Bank_TM_134  2021  6180429.0        NVB        0  2021\n",
       "13717   Bank_TM_134  2022  7181103.0        NVB        0  2022\n",
       "13718   Bank_TM_134  2023  4438471.0        NVB        0  2023\n",
       "13719   Bank_TM_134  2024        0.0        NVB        0  2024\n",
       "\n",
       "[13720 rows x 6 columns]"
      ]
     },
     "execution_count": 66,
     "metadata": {},
     "output_type": "execute_result"
    }
   ],
   "source": [
    "df_bank_tm"
   ]
  },
  {
   "cell_type": "code",
   "execution_count": 68,
   "metadata": {},
   "outputs": [],
   "source": [
    "pivot_df = df_bank_tm[df_bank_tm['category_code'].isin(['Bank_TM_68', 'Bank_TM_69', 'Bank_TM_70'])].pivot_table(\n",
    "    index=[\"stock_code\", \"year\", \"quarter\"], \n",
    "    columns=\"category_code\", \n",
    "    values=\"data\"\n",
    ").reset_index()\n",
    "\n",
    "pivot_df['Bank_TM_65'] =  pivot_df['Bank_TM_68'] + pivot_df['Bank_TM_69'] + pivot_df['Bank_TM_70']\n",
    "\n",
    "new_rows = pivot_df.melt(\n",
    "    id_vars=[\"stock_code\", \"year\", \"quarter\"], \n",
    "    value_vars=[\"Bank_TM_65\"], \n",
    "    var_name=\"category_code\", \n",
    "    value_name=\"data\"\n",
    ")\n",
    "df_bank_tm = pd.concat([df_bank_tm, new_rows], ignore_index=True)"
   ]
  },
  {
   "cell_type": "code",
   "execution_count": 69,
   "metadata": {},
   "outputs": [
    {
     "data": {
      "text/plain": [
       "9"
      ]
     },
     "execution_count": 69,
     "metadata": {},
     "output_type": "execute_result"
    }
   ],
   "source": [
    "df_sec_tm['stock_code'].nunique()"
   ]
  },
  {
   "cell_type": "code",
   "execution_count": 70,
   "metadata": {},
   "outputs": [],
   "source": [
    "df_sec_tm = df_sec_tm[df_sec_tm['year']>=2015]\n",
    "df_bank_tm = df_bank_tm[df_bank_tm['year']>=2015]\n",
    "df_corp_tm = df_corp_tm[df_corp_tm['year']>=2015]"
   ]
  },
  {
   "cell_type": "code",
   "execution_count": 71,
   "metadata": {},
   "outputs": [
    {
     "name": "stderr",
     "output_type": "stream",
     "text": [
      "/var/folders/y0/d5yxmby14p1b51jsfj3ml2vr0000gn/T/ipykernel_45577/2778378414.py:8: SettingWithCopyWarning: \n",
      "A value is trying to be set on a copy of a slice from a DataFrame.\n",
      "Try using .loc[row_indexer,col_indexer] = value instead\n",
      "\n",
      "See the caveats in the documentation: https://pandas.pydata.org/pandas-docs/stable/user_guide/indexing.html#returning-a-view-versus-a-copy\n",
      "  df_sec_tm['date_added'] = pd.to_datetime(df_sec_tm.apply(lambda row: f\"{row['year']}-{quarter_to_month[row['quarter']]}-30\", axis=1))\n"
     ]
    }
   ],
   "source": [
    "quarter_to_month = {\n",
    "    0: 12,  # Quarter 0 is December of the same year\n",
    "    1: 3,\n",
    "    2: 6,\n",
    "    3: 9,\n",
    "    4: 12\n",
    "}\n",
    "df_sec_tm['date_added'] = pd.to_datetime(df_sec_tm.apply(lambda row: f\"{row['year']}-{quarter_to_month[row['quarter']]}-30\", axis=1))\n",
    "df_bank_tm['date_added'] = pd.to_datetime(df_bank_tm.apply(lambda row: f\"{row['year']}-{quarter_to_month[row['quarter']]}-30\", axis=1))\n",
    "df_corp_tm['date_added'] = pd.to_datetime(df_corp_tm.apply(lambda row: f\"{row['year']}-{quarter_to_month[row['quarter']]}-30\", axis=1))\n"
   ]
  },
  {
   "cell_type": "code",
   "execution_count": 72,
   "metadata": {},
   "outputs": [
    {
     "name": "stderr",
     "output_type": "stream",
     "text": [
      "/var/folders/y0/d5yxmby14p1b51jsfj3ml2vr0000gn/T/ipykernel_45577/1677153949.py:1: SettingWithCopyWarning: \n",
      "A value is trying to be set on a copy of a slice from a DataFrame\n",
      "\n",
      "See the caveats in the documentation: https://pandas.pydata.org/pandas-docs/stable/user_guide/indexing.html#returning-a-view-versus-a-copy\n",
      "  df_sec_tm.drop(columns=['time'], inplace=True)\n"
     ]
    }
   ],
   "source": [
    "df_sec_tm.drop(columns=['time'], inplace=True)\n",
    "df_bank_tm.drop(columns=['time'], inplace=True)\n",
    "df_corp_tm.drop(columns=['time'], inplace=True)"
   ]
  },
  {
   "cell_type": "code",
   "execution_count": 73,
   "metadata": {},
   "outputs": [
    {
     "data": {
      "application/vnd.microsoft.datawrangler.viewer.v0+json": {
       "columns": [
        {
         "name": "index",
         "rawType": "int64",
         "type": "integer"
        },
        {
         "name": "category_code",
         "rawType": "object",
         "type": "string"
        },
        {
         "name": "data",
         "rawType": "float64",
         "type": "float"
        },
        {
         "name": "stock_code",
         "rawType": "object",
         "type": "string"
        },
        {
         "name": "quarter",
         "rawType": "int64",
         "type": "integer"
        },
        {
         "name": "year",
         "rawType": "int64",
         "type": "integer"
        },
        {
         "name": "date_added",
         "rawType": "datetime64[ns]",
         "type": "datetime"
        }
       ],
       "conversionMethod": "pd.DataFrame",
       "ref": "70e9d942-a14e-4c89-ba13-d132576d49ad",
       "rows": [
        [
         "170",
         "Share_TM_3",
         "2071347.029993",
         "VCG",
         "0",
         "2015",
         "2015-12-30 00:00:00"
        ],
        [
         "171",
         "Share_TM_3",
         "2106851.639756",
         "VCG",
         "0",
         "2016",
         "2016-12-30 00:00:00"
        ],
        [
         "172",
         "Share_TM_3",
         "1694559.849147",
         "VCG",
         "0",
         "2017",
         "2017-12-30 00:00:00"
        ],
        [
         "173",
         "Share_TM_3",
         "1653704.442252",
         "VCG",
         "0",
         "2018",
         "2018-12-30 00:00:00"
        ],
        [
         "174",
         "Share_TM_3",
         "2442077.557776",
         "VCG",
         "0",
         "2019",
         "2019-12-30 00:00:00"
        ],
        [
         "175",
         "Share_TM_3",
         "2442077.557776",
         "VCG",
         "0",
         "2020",
         "2020-12-30 00:00:00"
        ],
        [
         "176",
         "Share_TM_3",
         "1887036.257723",
         "VCG",
         "0",
         "2021",
         "2021-12-30 00:00:00"
        ],
        [
         "177",
         "Share_TM_3",
         "4472054.773909",
         "VCG",
         "0",
         "2022",
         "2022-12-30 00:00:00"
        ],
        [
         "178",
         "Share_TM_3",
         "4839887.974571",
         "VCG",
         "0",
         "2023",
         "2023-12-30 00:00:00"
        ],
        [
         "179",
         "Share_TM_3",
         "4548748.680069",
         "VCG",
         "0",
         "2024",
         "2024-12-30 00:00:00"
        ],
        [
         "539",
         "Share_TM_3",
         "9887.222229",
         "LCG",
         "0",
         "2015",
         "2015-12-30 00:00:00"
        ],
        [
         "540",
         "Share_TM_3",
         "44528.799833",
         "LCG",
         "0",
         "2016",
         "2016-12-30 00:00:00"
        ],
        [
         "541",
         "Share_TM_3",
         "115576.091869",
         "LCG",
         "0",
         "2017",
         "2017-12-30 00:00:00"
        ],
        [
         "542",
         "Share_TM_3",
         "134787.469336",
         "LCG",
         "0",
         "2018",
         "2018-12-30 00:00:00"
        ],
        [
         "543",
         "Share_TM_3",
         "57895.540349",
         "LCG",
         "0",
         "2019",
         "2019-12-30 00:00:00"
        ],
        [
         "544",
         "Share_TM_3",
         "732920.937796",
         "LCG",
         "0",
         "2020",
         "2020-12-30 00:00:00"
        ],
        [
         "545",
         "Share_TM_3",
         "671595.436747",
         "LCG",
         "0",
         "2021",
         "2021-12-30 00:00:00"
        ],
        [
         "546",
         "Share_TM_3",
         "3103.643852",
         "LCG",
         "0",
         "2022",
         "2022-12-30 00:00:00"
        ],
        [
         "547",
         "Share_TM_3",
         "1240.438374",
         "LCG",
         "0",
         "2023",
         "2023-12-30 00:00:00"
        ],
        [
         "845",
         "Share_TM_3",
         "506383.304351",
         "DPG",
         "0",
         "2015",
         "2015-12-30 00:00:00"
        ],
        [
         "846",
         "Share_TM_3",
         "836571.188869",
         "DPG",
         "0",
         "2016",
         "2016-12-30 00:00:00"
        ],
        [
         "847",
         "Share_TM_3",
         "1508279.230926",
         "DPG",
         "0",
         "2017",
         "2017-12-30 00:00:00"
        ],
        [
         "848",
         "Share_TM_3",
         "1923371.474773",
         "DPG",
         "0",
         "2018",
         "2018-12-30 00:00:00"
        ],
        [
         "849",
         "Share_TM_3",
         "1637116.909262",
         "DPG",
         "0",
         "2019",
         "2019-12-30 00:00:00"
        ],
        [
         "850",
         "Share_TM_3",
         "1532948.122272",
         "DPG",
         "0",
         "2020",
         "2020-12-30 00:00:00"
        ],
        [
         "851",
         "Share_TM_3",
         "1389332.221461",
         "DPG",
         "0",
         "2021",
         "2021-12-30 00:00:00"
        ],
        [
         "852",
         "Share_TM_3",
         "1417118.096614",
         "DPG",
         "0",
         "2022",
         "2022-12-30 00:00:00"
        ],
        [
         "853",
         "Share_TM_3",
         "1458192.015626",
         "DPG",
         "0",
         "2023",
         "2023-12-30 00:00:00"
        ],
        [
         "854",
         "Share_TM_3",
         "1323836.227593",
         "DPG",
         "0",
         "2024",
         "2024-12-30 00:00:00"
        ],
        [
         "1148",
         "Share_TM_3",
         "1918581.345598",
         "CTI",
         "0",
         "2015",
         "2015-12-30 00:00:00"
        ],
        [
         "1149",
         "Share_TM_3",
         "2326699.724115",
         "CTI",
         "0",
         "2016",
         "2016-12-30 00:00:00"
        ],
        [
         "1150",
         "Share_TM_3",
         "2173586.539008",
         "CTI",
         "0",
         "2017",
         "2017-12-30 00:00:00"
        ],
        [
         "1151",
         "Share_TM_3",
         "2245704.419951",
         "CTI",
         "0",
         "2018",
         "2018-12-30 00:00:00"
        ],
        [
         "1152",
         "Share_TM_3",
         "1945449.276055",
         "CTI",
         "0",
         "2019",
         "2019-12-30 00:00:00"
        ],
        [
         "1153",
         "Share_TM_3",
         "2193901.485097",
         "CTI",
         "0",
         "2020",
         "2020-12-30 00:00:00"
        ],
        [
         "1154",
         "Share_TM_3",
         "2370247.35631",
         "CTI",
         "0",
         "2021",
         "2021-12-30 00:00:00"
        ],
        [
         "1155",
         "Share_TM_3",
         "2197186.31361",
         "CTI",
         "0",
         "2022",
         "2022-12-30 00:00:00"
        ],
        [
         "1156",
         "Share_TM_3",
         "1988858.179623",
         "CTI",
         "0",
         "2023",
         "2023-12-30 00:00:00"
        ],
        [
         "1484",
         "Share_TM_3",
         "3805329.635062",
         "TIS",
         "0",
         "2015",
         "2015-12-30 00:00:00"
        ],
        [
         "1485",
         "Share_TM_3",
         "3825912.241915",
         "TIS",
         "0",
         "2016",
         "2016-12-30 00:00:00"
        ],
        [
         "1486",
         "Share_TM_3",
         "3264614.844048",
         "TIS",
         "0",
         "2017",
         "2017-12-30 00:00:00"
        ],
        [
         "1487",
         "Share_TM_3",
         "2802726.3219",
         "TIS",
         "0",
         "2018",
         "2018-12-30 00:00:00"
        ],
        [
         "1488",
         "Share_TM_3",
         "2300424.352987",
         "TIS",
         "0",
         "2019",
         "2019-12-30 00:00:00"
        ],
        [
         "1489",
         "Share_TM_3",
         "1990673.37757",
         "TIS",
         "0",
         "2020",
         "2020-12-30 00:00:00"
        ],
        [
         "1490",
         "Share_TM_3",
         "1789834.556428",
         "TIS",
         "0",
         "2021",
         "2021-12-30 00:00:00"
        ],
        [
         "1491",
         "Share_TM_3",
         "1703002.273299",
         "TIS",
         "0",
         "2022",
         "2022-12-30 00:00:00"
        ],
        [
         "1492",
         "Share_TM_3",
         "1701077.526912",
         "TIS",
         "0",
         "2023",
         "2023-12-30 00:00:00"
        ],
        [
         "1493",
         "Share_TM_3",
         "0.0",
         "TIS",
         "0",
         "2024",
         "2024-12-30 00:00:00"
        ],
        [
         "1722",
         "Share_TM_3",
         "894749.225462",
         "PSH",
         "0",
         "2018",
         "2018-12-30 00:00:00"
        ],
        [
         "1723",
         "Share_TM_3",
         "714749.225462",
         "PSH",
         "0",
         "2019",
         "2019-12-30 00:00:00"
        ]
       ],
       "shape": {
        "columns": 6,
        "rows": 1502
       }
      },
      "text/html": [
       "<div>\n",
       "<style scoped>\n",
       "    .dataframe tbody tr th:only-of-type {\n",
       "        vertical-align: middle;\n",
       "    }\n",
       "\n",
       "    .dataframe tbody tr th {\n",
       "        vertical-align: top;\n",
       "    }\n",
       "\n",
       "    .dataframe thead th {\n",
       "        text-align: right;\n",
       "    }\n",
       "</style>\n",
       "<table border=\"1\" class=\"dataframe\">\n",
       "  <thead>\n",
       "    <tr style=\"text-align: right;\">\n",
       "      <th></th>\n",
       "      <th>category_code</th>\n",
       "      <th>data</th>\n",
       "      <th>stock_code</th>\n",
       "      <th>quarter</th>\n",
       "      <th>year</th>\n",
       "      <th>date_added</th>\n",
       "    </tr>\n",
       "  </thead>\n",
       "  <tbody>\n",
       "    <tr>\n",
       "      <th>170</th>\n",
       "      <td>Share_TM_3</td>\n",
       "      <td>2.071347e+06</td>\n",
       "      <td>VCG</td>\n",
       "      <td>0</td>\n",
       "      <td>2015</td>\n",
       "      <td>2015-12-30</td>\n",
       "    </tr>\n",
       "    <tr>\n",
       "      <th>171</th>\n",
       "      <td>Share_TM_3</td>\n",
       "      <td>2.106852e+06</td>\n",
       "      <td>VCG</td>\n",
       "      <td>0</td>\n",
       "      <td>2016</td>\n",
       "      <td>2016-12-30</td>\n",
       "    </tr>\n",
       "    <tr>\n",
       "      <th>172</th>\n",
       "      <td>Share_TM_3</td>\n",
       "      <td>1.694560e+06</td>\n",
       "      <td>VCG</td>\n",
       "      <td>0</td>\n",
       "      <td>2017</td>\n",
       "      <td>2017-12-30</td>\n",
       "    </tr>\n",
       "    <tr>\n",
       "      <th>173</th>\n",
       "      <td>Share_TM_3</td>\n",
       "      <td>1.653704e+06</td>\n",
       "      <td>VCG</td>\n",
       "      <td>0</td>\n",
       "      <td>2018</td>\n",
       "      <td>2018-12-30</td>\n",
       "    </tr>\n",
       "    <tr>\n",
       "      <th>174</th>\n",
       "      <td>Share_TM_3</td>\n",
       "      <td>2.442078e+06</td>\n",
       "      <td>VCG</td>\n",
       "      <td>0</td>\n",
       "      <td>2019</td>\n",
       "      <td>2019-12-30</td>\n",
       "    </tr>\n",
       "    <tr>\n",
       "      <th>...</th>\n",
       "      <td>...</td>\n",
       "      <td>...</td>\n",
       "      <td>...</td>\n",
       "      <td>...</td>\n",
       "      <td>...</td>\n",
       "      <td>...</td>\n",
       "    </tr>\n",
       "    <tr>\n",
       "      <th>51521</th>\n",
       "      <td>Share_TM_3</td>\n",
       "      <td>1.821853e+04</td>\n",
       "      <td>MAS</td>\n",
       "      <td>0</td>\n",
       "      <td>2018</td>\n",
       "      <td>2018-12-30</td>\n",
       "    </tr>\n",
       "    <tr>\n",
       "      <th>51522</th>\n",
       "      <td>Share_TM_3</td>\n",
       "      <td>1.006779e+04</td>\n",
       "      <td>MAS</td>\n",
       "      <td>0</td>\n",
       "      <td>2019</td>\n",
       "      <td>2019-12-30</td>\n",
       "    </tr>\n",
       "    <tr>\n",
       "      <th>51523</th>\n",
       "      <td>Share_TM_3</td>\n",
       "      <td>5.280919e+03</td>\n",
       "      <td>MAS</td>\n",
       "      <td>0</td>\n",
       "      <td>2020</td>\n",
       "      <td>2020-12-30</td>\n",
       "    </tr>\n",
       "    <tr>\n",
       "      <th>51524</th>\n",
       "      <td>Share_TM_3</td>\n",
       "      <td>0.000000e+00</td>\n",
       "      <td>MAS</td>\n",
       "      <td>0</td>\n",
       "      <td>2022</td>\n",
       "      <td>2022-12-30</td>\n",
       "    </tr>\n",
       "    <tr>\n",
       "      <th>51525</th>\n",
       "      <td>Share_TM_3</td>\n",
       "      <td>1.907986e+03</td>\n",
       "      <td>MAS</td>\n",
       "      <td>0</td>\n",
       "      <td>2023</td>\n",
       "      <td>2023-12-30</td>\n",
       "    </tr>\n",
       "  </tbody>\n",
       "</table>\n",
       "<p>1502 rows × 6 columns</p>\n",
       "</div>"
      ],
      "text/plain": [
       "      category_code          data stock_code  quarter  year date_added\n",
       "170      Share_TM_3  2.071347e+06        VCG        0  2015 2015-12-30\n",
       "171      Share_TM_3  2.106852e+06        VCG        0  2016 2016-12-30\n",
       "172      Share_TM_3  1.694560e+06        VCG        0  2017 2017-12-30\n",
       "173      Share_TM_3  1.653704e+06        VCG        0  2018 2018-12-30\n",
       "174      Share_TM_3  2.442078e+06        VCG        0  2019 2019-12-30\n",
       "...             ...           ...        ...      ...   ...        ...\n",
       "51521    Share_TM_3  1.821853e+04        MAS        0  2018 2018-12-30\n",
       "51522    Share_TM_3  1.006779e+04        MAS        0  2019 2019-12-30\n",
       "51523    Share_TM_3  5.280919e+03        MAS        0  2020 2020-12-30\n",
       "51524    Share_TM_3  0.000000e+00        MAS        0  2022 2022-12-30\n",
       "51525    Share_TM_3  1.907986e+03        MAS        0  2023 2023-12-30\n",
       "\n",
       "[1502 rows x 6 columns]"
      ]
     },
     "execution_count": 73,
     "metadata": {},
     "output_type": "execute_result"
    }
   ],
   "source": [
    "df_corp_tm[df_corp_tm['category_code'] == 'Share_TM_3']"
   ]
  },
  {
   "cell_type": "code",
   "execution_count": 74,
   "metadata": {},
   "outputs": [
    {
     "name": "stderr",
     "output_type": "stream",
     "text": [
      "/var/folders/y0/d5yxmby14p1b51jsfj3ml2vr0000gn/T/ipykernel_45577/2735295843.py:1: SettingWithCopyWarning: \n",
      "A value is trying to be set on a copy of a slice from a DataFrame\n",
      "\n",
      "See the caveats in the documentation: https://pandas.pydata.org/pandas-docs/stable/user_guide/indexing.html#returning-a-view-versus-a-copy\n",
      "  df_sec_tm.fillna(0, inplace=True)\n"
     ]
    }
   ],
   "source": [
    "df_sec_tm.fillna(0, inplace=True)\n",
    "df_bank_tm.fillna(0, inplace=True)\n",
    "df_corp_tm.fillna(0, inplace=True)"
   ]
  },
  {
   "cell_type": "code",
   "execution_count": 75,
   "metadata": {},
   "outputs": [],
   "source": [
    "df_sec_tm.to_parquet('../csv/new/v3/securities_explaination.parquet', index=False)\n",
    "df_bank_tm.to_parquet('../csv/new/v3/bank_explaination.parquet', index=False)\n",
    "df_corp_tm.to_parquet('../csv/new/v3/corp_explaination.parquet', index=False)"
   ]
  },
  {
   "cell_type": "code",
   "execution_count": null,
   "metadata": {},
   "outputs": [],
   "source": [
    "df_tm = pd.concat([df_sec_tm, df_bank_tm, df_corp_tm], ignore_index=True)\n",
    "df_tm.to_parquet('../data/financial_statement_explaination_v3.parquet', index=False)"
   ]
  },
  {
   "cell_type": "code",
   "execution_count": null,
   "metadata": {},
   "outputs": [],
   "source": []
  }
 ],
 "metadata": {
  "kernelspec": {
   "display_name": "text2sql",
   "language": "python",
   "name": "python3"
  },
  "language_info": {
   "codemirror_mode": {
    "name": "ipython",
    "version": 3
   },
   "file_extension": ".py",
   "mimetype": "text/x-python",
   "name": "python",
   "nbconvert_exporter": "python",
   "pygments_lexer": "ipython3",
   "version": "3.12.8"
  }
 },
 "nbformat": 4,
 "nbformat_minor": 2
}
