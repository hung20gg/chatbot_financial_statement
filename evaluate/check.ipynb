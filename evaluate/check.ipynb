{
 "cells": [
  {
   "cell_type": "code",
   "execution_count": 1,
   "metadata": {},
   "outputs": [],
   "source": [
    "import json\n",
    "import re"
   ]
  },
  {
   "cell_type": "code",
   "execution_count": 2,
   "metadata": {},
   "outputs": [
    {
     "data": {
      "text/plain": [
       "1915"
      ]
     },
     "execution_count": 2,
     "metadata": {},
     "output_type": "execute_result"
    }
   ],
   "source": [
    "questions = dict()\n",
    "cal_reasoning = 0\n",
    "with open('../data/qwen2.5-coder-3b-sft__hard_v0_4.jsonl') as f:\n",
    "    for line in f:\n",
    "        data = json.loads(line)\n",
    "        ids = data['ids']\n",
    "        questions[ids] = data\n",
    "        if 'reasoning' in data:\n",
    "            cal_reasoning += 1\n",
    "cal_reasoning"
   ]
  },
  {
   "cell_type": "code",
   "execution_count": 3,
   "metadata": {},
   "outputs": [
    {
     "data": {
      "text/plain": [
       "1915"
      ]
     },
     "execution_count": 3,
     "metadata": {},
     "output_type": "execute_result"
    }
   ],
   "source": [
    "len(questions)"
   ]
  },
  {
   "cell_type": "code",
   "execution_count": 4,
   "metadata": {},
   "outputs": [
    {
     "name": "stdout",
     "output_type": "stream",
     "text": [
      "1239\n",
      "981\n"
     ]
    }
   ],
   "source": [
    "# with open('../data/Qwen__Qwen2.5-32B-Instruct-GPTQ-Int4-scored-gpt-4o-mini__v5_good.jsonl') as f:\n",
    "#     for line in f:\n",
    "#         data = json.loads(line)\n",
    "#         ids = data['ids']\n",
    "#         if 'score' not in questions[ids]:\n",
    "#             questions[ids]['score'] = []\n",
    "#         questions[ids]['score'].append(data['score'])\n",
    "\n",
    "with open('../data/gemini-2.0-flash-scored-qwen2.5-coder-3b-sft__hard_v0_4.jsonl') as f:\n",
    "    score = 0\n",
    "    for line in f:\n",
    "        data = json.loads(line)\n",
    "        ids = data['ids']\n",
    "        if 'score' not in questions[ids]:\n",
    "            questions[ids]['score'] = []\n",
    "        questions[ids]['score'].append(data['score'])\n",
    "        score += data['score']\n",
    "    print(score)\n",
    "\n",
    "with open('../data/gpt-4o-mini-scored-qwen2.5-coder-3b-sft__hard_v0_4.jsonl') as f:\n",
    "    score = 0\n",
    "    for line in f:\n",
    "        data = json.loads(line)\n",
    "        ids = data['ids']\n",
    "        if 'score' not in questions[ids]:\n",
    "            questions[ids]['score'] = []\n",
    "        questions[ids]['score'].append(data['score'])\n",
    "        score += data['score']\n",
    "    print(score)"
   ]
  },
  {
   "cell_type": "code",
   "execution_count": 5,
   "metadata": {},
   "outputs": [
    {
     "data": {
      "text/plain": [
       "0.0"
      ]
     },
     "execution_count": 5,
     "metadata": {},
     "output_type": "execute_result"
    }
   ],
   "source": [
    "len_sql = 0\n",
    "for ids, data in questions.items():\n",
    "    if 'score' in data:\n",
    "        data['avg'] = sum(data['score']) / 2 # len(data['score'])\n",
    "    # len_sql += len(data['sql'])\n",
    "len_sql /= len(questions)\n",
    "len_sql\n"
   ]
  },
  {
   "cell_type": "code",
   "execution_count": 6,
   "metadata": {},
   "outputs": [],
   "source": [
    "good_ids = set()\n",
    "for ids, data in questions.items():\n",
    "    if 'score' in data and data['avg'] == 1:\n",
    "        good_ids.add(ids)\n",
    "        # if len(data['sql']) > 1:\n",
    "        #     print(ids, data)"
   ]
  },
  {
   "cell_type": "code",
   "execution_count": 7,
   "metadata": {},
   "outputs": [
    {
     "data": {
      "text/plain": [
       "917"
      ]
     },
     "execution_count": 7,
     "metadata": {},
     "output_type": "execute_result"
    }
   ],
   "source": [
    "len(good_ids)"
   ]
  },
  {
   "cell_type": "code",
   "execution_count": 38,
   "metadata": {},
   "outputs": [
    {
     "name": "stdout",
     "output_type": "stream",
     "text": [
      "4429b8ac-ce3d-43e6-b8e3-13e7e47f37b5 {'date': '2025-08-02 23:54:01', 'ids': '4429b8ac-ce3d-43e6-b8e3-13e7e47f37b5', 'message': [{'role': 'system', 'content': \"You are an expert in financial statement and database management. You will be asked to convert a natural language query into a SQL query. \\nYou will have the following database description:\\n\\n### Database Description\\nYou're given database about the financial statments of top Vietnamese companies, either bank, cooperates and securities.\\n\\n<overall_description>\\n\\nAll the data in the financial statments are followed by the regulation of Vietnamese Accounting Standard (VAS). The English translations are followed by the International Financial Reporting Standards (IFRS).\\n\\nThere are 3 type of financial statments, based on VAS regulation: bank, non-bank corporation and securities firm (firms that provide stock options and financial instruments).\\nAll 3 type of reports are stored in one single table, and there will be a sight different between them.\\n\\nThe database includes two reporting periods for financial statements: quarterly and annually. Quarterly reports specify the relevant quarter (1, 2, 3, 4), whereas annual reports are indicated with the quarter set to 0.\\n\\n</overall_description>\\n\\nYou are given 10 tables in the database. Here are the detailed descriptions of them in PostgreSQL format:\\n\\n### PostgreSQL tables, with their properties\\n```sql \\n-- Table: company_info\\nCREATE TABLE company_info(\\n    stock_code VARCHAR(255) primary key, --The trading symbol.\\n    industry VARCHAR(255), --Current industry of company. \\n    exchange VARCHAR(255), -- The exchange where the stock is listed (e.g., HOSE, HNX)\\n    stock_indices VARCHAR(255), -- The stock index it belongs to (e.g., VN30, HNX30)\\n    is_bank BOOLEAN, --Bool checking whether the company is a bank or not.\\n    is_securities BOOLEAN, --Bool checking whether the company is a securities firm or not.\\n);\\n\\n-- Table: sub_and_shareholder\\nCREATE TABLE sub_and_shareholder(\\n    stock_code VARCHAR(255) NOT NULL, \\n    invest_on VARCHAR(255) NOT NULL, -- The company invested on (can be subsidiary)\\n    FOREIGN KEY (stock_code) REFERENCES company_info(stock_code),\\n    FOREIGN KEY (invest_on) REFERENCES company_info(stock_code),\\n    PRIMARY KEY (stock_code, invest_on) \\n);\\n\\n-- Table: map_category_code_universal: Mapping account table for Financial Statement\\nCREATE TABLE map_category_code_universal(\\n    category_code VARCHAR(255) primary key, --The unique code for accounts recorded.\\n    en_caption VARCHAR(255), --The Accounts (Caption) for the `category_code`.\\n);\\n\\n-- Table: financial_statement: Financial Statement data for each `stock_code`\\nCREATE TABLE financial_statement(\\n    stock_code VARCHAR(255) references company_info(stock_code),\\n    year int, -- The reported financial year\\n    quarter int, --  The quarter reported (contain value either 0, 1, 2, 3, 4). If the value is 0, that mean the report is for annual report.\\n    category_code VARCHAR(255) references map_category_code_universal(category_code),\\n    data float, -- The value of the recorded category (in Million VND)\\n    date_added timestamp -- The datetime when the data was published\\n);\\n\\n-- Table: industry_financial_statement: General report for each industry sector\\n\\nCREATE TABLE industry_financial_statement(\\n    industry VARCHAR(255), -- Same with industry in table `company_info`\\n    year int, \\n    quarter int,\\n    category_code VARCHAR(255) references map_category_code_universal(category_code),\\n    data_mean float, -- Mean value of every firm in that industry\\n    data_sun float, -- Total value of every firm in that industry\\n    date_added timestamp \\n);\\n\\n\\n-- Table map_category_code_ratio: Mapping ratio name for Financial Ratio\\nCREATE TABLE map_category_code_ratio(\\n    ratio_code VARCHAR(255) primary key,\\n    ratio_name VARCHAR(255)\\n);\\n\\n-- Table financial_ratio: This table will have pre-calculated common Ratio such as ROA, ROE, FCF, etc\\n-- Same structure as `financial_statement`\\nCREATE TABLE financial_ratio(\\n    ratio_code VARCHAR(255) references map_category_code_ratio(ratio_code),\\n    stock_code VARCHAR(255) references company_info(stock_code),\\n    year int,\\n    quarter int,\\n    data float, -- Either in Million VND if the ratio_code related to money, or ratio otherwise\\n    date_added timestamp\\n);\\n\\n-- Table: industry_financial_ratio: General ratio for each industry sector\\nCREATE TABLE industry_financial_ratio(\\n    industry VARCHAR(255),\\n    ratio_code VARCHAR(255) references map_category_code_ratio(ratio_code),\\n    year int,\\n    quarter int,\\n    data_mean float, \\n    date_added timestamp\\n);\\n\\n-- Table map_category_code_explaination\\nCREATE TABLE map_category_code_explaination(\\n    category_code VARCHAR(255) primary key, --The unique code for accounts recorded in the financial statements explaination part.\\n    en_caption VARCHAR(255), --The Accounts (Caption) for the `category_code`.\\n);\\n\\n-- Table financial_statement_explaination: This table will have detailed information which is not covered in 3 main reports of financial statment. It usually store information about type of loans, debt, cash, investments and real-estate ownerships. \\n-- Same structure as `financial_statement`\\nCREATE TABLE financial_statement_explaination(\\n    category_code VARCHAR(255) references map_category_code_explaination(category_code),\\n    stock_code VARCHAR(255) references company_info(stock_code),\\n    year int,\\n    quarter int,\\n    data float, \\n    date_added timestamp \\n);\\n```\\n\\n### Note on schema description: \\n- Each value in `category_code` includes a prefix indicating the report it pertains to: *BS* is Balance sheet, *IS* is for Income statement, *CF* is Cash flow and *TM* is for Explaination.\\n- For `category_code` in `map_category_code_explaination`, there are 4 additional prefix: *Crop*, *Bank* and *Sec* for specific account related to each type of organization (e.g: Bank_TM_66 for Standard Debt), and *Share* if the account type is similar across organizations (e.g: Share_TM_5 for Share Issued).\\n- The numerical parts in `category_code` share some account code from VAS standard. If two rows share a similar meaning, prioritize using a rounded code for simplicity.\\n- Some accounts (`en_caption`) are specific to either corporation, banks or securities firms, resulting in variations in the number of accounts across companies. Specialized account captions often include a prefix, such as *(Bank) Deposits at the Central Bank* (BS_112).\\n- The YoY ratio in `financial_ratio` only cover the rate related to the previous year (Q3-2023 to Q3-2022 or 2019 to 2020). You should recalculate the ratio if the time window is not 1 year.\\n\\n### Peek view of the schema\\n - `company_info`\\n\\n| stock_code | industry |  is_bank | is_securities | exchange | stock_indices |\\n|:----|:----|:----|:----|:----|:----|\\n| VIC | Real Estate | false | false | HOSE | VN30 |\\n\\n- `sub_and_shareholder`\\n\\n| stock_code | invest_on |\\n|:---|:---|\\n| MSN | TCB |\\n\\nExplain:\\nThis mean MSN is a shareholder of TCB. \\n\\n- `financial_statement`\\n\\n| stock_code | year | quarter | category_code | data | date_added |\\n|:----|:----|:----|:----|:----|:----|\\n| VCB | 2023 |  0 | BS_300 | 1839613.198 | 2023-12-30 |\\n| LPB | 2024 |  2 | CF_045 | 68522.835| 2024-06-30 |\\n| BID | 2024 |  1 | IS_014 | 5392.606 | 2024-03-30 |\\n\\n- `map_category_code_universal`\\n\\n|category_code|universal_caption|\\n|:----|:----|\\n|BS_100| (Balance sheet) A. CURRENT ASSETS |\\n\\n### Note on creating query:\\n- You can access the database by using\\n```sql\\nSELECT * FROM financial_statement\\n\\nLIMIT 10;\\n```\\n- For any financial ratio, it must be selected from the database rather than being calculated manually.\\n- Always include a `quarter` condition in your query.\\n- If not specified, assume the data pertains to annual reports, with the query defaulting to `quarter` = 0.\\n- When selecting data by quarter, ensure the `quarter` is not 0, and when selecting data by year, the `quarter` must be 0.\\n- Do not directly compare data between quarterly and annual financial reports.\\n- Always include a LIMIT clause in your query.\"}, {'role': 'user', 'content': \"Here is a natural language query that you need to convert into a SQL query:\\n\\n<task>\\n\\nProvide a breakdown of the current assets and current liabilities of HPG, VHM, and MSN as of the end of Q2 2022 and Q2 2023. Calculate their current and quick ratios for both periods and explain any notable changes.\\n\\n</task>\\n\\n### Company details\\n\\n<data>\\n\\n**Company Info**\\n\\n| stock_code | en_company_name | industry | is_bank | is_securities |\\n| --- | --- | --- | --- | --- |\\n| HSG | Hoa Sen Group | Basic Resources | False | False |\\n| VNM | Vietnam Dairy Products Joint Stock Company | Food and Beverages | False | False |\\n| HPG | Hoa Phat Group Joint Stock Company | Basic Resources | False | False |\\n| VHM | Vinhomes Joint Stock Company | Real Estate | False | False |\\n| MSN | Masan Group Corporation | Food and Beverages | False | False |\\n| MBS | MB Securities Joint Stock Company | Financial Services | False | True |\\n\\n</data>\\n\\n### Snapshot of the mapping table:\\n<data>\\n\\n**category_code_mapping**\\n\\nList of category_code with corresponding en_caption\\n- BS_100: (Balance sheet) A. CURRENT ASSETS\\n- BS_161: (Balance sheet) Current Inventories\\n- BS_170: (Balance sheet) Other current assets\\n- BS_200: (Balance sheet) B. NON-CURRENT ASSETS\\n- BS_260: (Balance sheet) Other non-current assets\\n- BS_268: (Balance sheet) (Other) Other non-current assets \\n- BS_300: (Balance sheet) C. LIABILITIES\\n- BS_310: (Balance sheet) Current liabilities\\n- BS_340: (Balance sheet) Non-current liabilities\\n- BS_140: (Balance sheet) Short-term receivables\\n- BS_142.1: (Balance sheet) (Securities) Accrued dividends and interest due\\n- BS_173: (Balance sheet) Short-term deposits and collateral\\n- BS_311: (Balance sheet) (Securities) Short-term borrowings\\n- BS_313: (Balance sheet) (Securities) Short-term financial borrowings\\n- BS_326: (Balance sheet) Deferred revenue (short-term)\\n- BS_330: (Balance sheet) Short-term provisions\\n\\n\\n**ratio_code_mapping**\\n\\nList of ratio_code with corresponding ratio_name\\n- CurrentR: Current Ratio\\n- ROA: Return On Assets\\n- ROFA: Return On Fixed Assets\\n- CASA: Current Account Saving Account Ratio\\n- QR: Quick Ratio\\n- CashR: Cash Ratio\\n\\n\\n</data>\\n\\n### Here are some examples of a query that you can refer to:\\n\\n<example>\\n\\n**Comparing the financial statements of Vinamilk and Masan Group for Q2 2024 and Q2 2020: What are the total assets, total liabilities, and net income for each company? How do these figures reflect the financial health of each company, considering the influence of any subsidiaries or investments they hold?** \\n\\n```sql\\nSELECT\\n    stock_code,\\n    year,\\n    quarter,\\n    data,\\n    category_code\\nFROM\\n    financial_statement\\nWHERE\\n    stock_code IN ('VNM', 'MSN')\\n    AND year IN (2020, 2024)\\n    AND quarter = 2\\n    AND category_code IN ('BS_270', 'BS_300', 'IS_100')```\\n\\n**Get the total asset growth YoY of VIC, VHM and VRE in 2021** \\n\\n```sql\\nselect \\n\\tstock_code,\\n\\tquarter,\\n\\tyear,\\n\\tratio_code,\\n\\tdata\\n\\nfrom financial_ratio\\n\\nwhere\\n\\tratio_code = 'TAGYoY'  -- Total Asset Growth YoY\\n\\tand year = 2021\\n\\tand quarter = 0\\n\\tand stock_code IN ('VIC', 'VRE', 'VHM');```\\n\\n</example>\\n \\n<instruction>\\n\\nAnalyze the task step-by-step then return SQL query that match with the database schema.\\n\\nIf possible, the table result should have the following columns:\\n\\n- stock_code / industry\\n- year\\n- quarter\\n- category_code / stock_code\\n- data / data_mean / data_sum\\n\\nHowever, feel free to modify the table if needed.\\n\\n</instruction>\\n\\n### Note: \\n- Include the detailed suitable name (including datetime, industry, ...) for the table in the query in the following format:\\n\\n```sql\\n-- ### detailed_table_name\\n```\\n\\n- The `category_code` mapping table contain value of both `financial_statment` and `explaination` tables\\n- The user can only see the query results, so your name should be as informative as possible\\n- If the time is not mentioned, assume getting the current time (Q3 2024)\\n- Do not make any assumption about the account name. You can refer to the mapping table above to find the suitable account.\\n- The query must not contain column `ratio_name` or `en_caption`.\\n- If the question requires data within the quarter time range (from 2020 to Q3 2024), you should use the `date_added` instead of `year` and `quarter`, in the following format:\\n\\n```sql\\nWHERE date_added BETWEEN '2020-01-01' AND '2024-09-30' \\nAND quarter !=0\\n\\n-- Date added for each quarter:\\n-- - Q1: YYYY-03-30\\n-- - Q2: YYYY-06-30\\n-- - Q3: YYYY-09-30\\n-- - Q4: YYYY-12-30\\n-- - Q0: YYYY-12-30 (Annual data is add at the end of the year)\\n```\\n\\n- If the question requires data within annual data, you can use `year` column directly\"}, {'role': 'assistant', 'content': \"To fulfill the requirements of the task, we must compile the current assets and current liabilities of the companies HPG, VHM, and MSN for the specified quarters (Q2 2022 and Q2 2023). We'll also need to prepare to calculate their current and quick ratios from the gathered data.\\n\\n### Steps to Build the SQL Query:\\n1. **Identify Relevant Category Codes**:\\n   - Current Assets: `BS_100`\\n   - Current Liabilities: `BS_310`\\n   - For Quick Ratio calculation, we also need Short-term Receivables: `BS_140` and Current Inventories: `BS_161`.\\n\\n2. **Filter for Specific Companies and Quarters**:\\n   - We'll target HPG, VHM, and MSN.\\n   - We will select data for Q2 2022 (year 2022, quarter 2) and Q2 2023 (year 2023, quarter 2).\\n\\n3. **Select Relevant Data**:\\n   - Gather data including stock_code, year, quarter, category_code, and data.\\n   - We will also need to compute the summary for ratio calculations later.\\n\\n4. **Naming Convention for Query**:\\n   - We will add a detailed comment above the query to specify the information being retrieved.\\n\\n### SQL Query:\\nHere is the SQL query that achieves the above goals:\\n\\n```sql\\n-- ### Current Assets and Current Liabilities of HPG, VHM, and MSN for Q2 2022 and Q2 2023\\nSELECT\\n    stock_code,\\n    year,\\n    quarter,\\n    category_code,\\n    data\\nFROM\\n    financial_statement\\nWHERE\\n    stock_code IN ('HPG', 'VHM', 'MSN')\\n    AND ((year = 2022 AND quarter = 2) OR (year = 2023 AND quarter = 2))\\n    AND category_code IN ('BS_100', 'BS_310', 'BS_140', 'BS_161')\\nORDER BY\\n    stock_code, year, quarter, category_code\\nLIMIT 100;\\n\\n```\\n\\n### Explanation:\\n- The query selects current assets and liabilities along with short-term receivables and inventories, which are essential for calculating ratios.\\n- It filters only for Q2 of 2022 and Q2 of 2023 and includes relevant companies.\\n- The result is ordered for better clarity in the output and is limited to 100 entries to avoid returning overly large result sets, as requested.\\n\\nThis query can then be executed to retrieve the required financial data for the specified companies and periods. Subsequent calculations for the current and quick ratios and any notable changes can be performed based on this retrieved data.\"}], 'reasoning': \"To fulfill the requirements of the task, we must compile the current assets and current liabilities of the companies HPG, VHM, and MSN for the specified quarters (Q2 2022 and Q2 2023). We'll also need to prepare to calculate their current and quick ratios from the gathered data.\\n\\n### Steps to Build the SQL Query:\\n1. **Identify Relevant Category Codes**:\\n   - Current Assets: `BS_100`\\n   - Current Liabilities: `BS_310`\\n   - For Quick Ratio calculation, we also need Short-term Receivables: `BS_140` and Current Inventories: `BS_161`.\\n\\n2. **Filter for Specific Companies and Quarters**:\\n   - We'll target HPG, VHM, and MSN.\\n   - We will select data for Q2 2022 (year 2022, quarter 2) and Q2 2023 (year 2023, quarter 2).\\n\\n3. **Select Relevant Data**:\\n   - Gather data including stock_code, year, quarter, category_code, and data.\\n   - We will also need to compute the summary for ratio calculations later.\\n\\n4. **Naming Convention for Query**:\\n   - We will add a detailed comment above the query to specify the information being retrieved.\\n\\n### SQL Query:\\nHere is the SQL query that achieves the above goals:\\n\\n```sql\\n-- ### Current Assets and Current Liabilities of HPG, VHM, and MSN for Q2 2022 and Q2 2023\\nSELECT\\n    stock_code,\\n    year,\\n    quarter,\\n    category_code,\\n    data\\nFROM\\n    financial_statement\\nWHERE\\n    stock_code IN ('HPG', 'VHM', 'MSN')\\n    AND ((year = 2022 AND quarter = 2) OR (year = 2023 AND quarter = 2))\\n    AND category_code IN ('BS_100', 'BS_310', 'BS_140', 'BS_161')\\nORDER BY\\n    stock_code, year, quarter, category_code\\nLIMIT 100;\\n\\n```\\n\\n### Explanation:\\n- The query selects current assets and liabilities along with short-term receivables and inventories, which are essential for calculating ratios.\\n- It filters only for Q2 of 2022 and Q2 of 2023 and includes relevant companies.\\n- The result is ordered for better clarity in the output and is limited to 100 entries to avoid returning overly large result sets, as requested.\\n\\nThis query can then be executed to retrieve the required financial data for the specified companies and periods. Subsequent calculations for the current and quick ratios and any notable changes can be performed based on this retrieved data.\", 'table': '**Company Information**\\n\\n| stock_code | en_company_name | industry | is_bank | is_securities |\\n| --- | --- | --- | --- | --- |\\n| HPG | Hoa Phat Group Joint Stock Company | Basic Resources | False | False | \\n| VHM | Vinhomes Joint Stock Company | Real Estate | False | False | \\n| MSN | Masan Group Corporation | Food and Beverages | False | False | \\n\\n**Category Mapping**\\n\\nList of category_code with corresponding en_caption\\n- BS_100: (Balance sheet) A. CURRENT ASSETS\\n- BS_140: (Balance sheet) Short-term receivables\\n- BS_161: (Balance sheet) Current Inventories\\n- BS_310: (Balance sheet) Current liabilities\\n\\n**SQL 1 Result: Current Assets and Current Liabilities of HPG, VHM, and MSN for Q2 2022 and Q2 2023**\\n\\n| stock_code | year | quarter | category_code | data |\\n| --- | --- | --- | --- | --- |\\n| HPG | 2022 | 2 | BS_100 | 120220561.631693 | \\n| HPG | 2022 | 2 | BS_140 | 14321534.634657 | \\n| HPG | 2022 | 2 | BS_161 | 58316585.193362996 | \\n| HPG | 2022 | 2 | BS_310 | 93614175.92724401 | \\n| HPG | 2023 | 2 | BS_100 | 84903568.227057 | \\n| HPG | 2023 | 2 | BS_140 | 14298660.2978 | \\n| HPG | 2023 | 2 | BS_161 | 32260969.330532 | \\n| HPG | 2023 | 2 | BS_310 | 68684638.36680399 | \\n| MSN | 2022 | 2 | BS_100 | 36815333.0 | \\n| MSN | 2022 | 2 | BS_140 | 10830674.0 | \\n| MSN | 2022 | 2 | BS_161 | 13871725.0 | \\n| MSN | 2022 | 2 | BS_310 | 52344059.0 | \\n| MSN | 2023 | 2 | BS_100 | 45883821.0 | \\n| MSN | 2023 | 2 | BS_140 | 16745392.0 | \\n| MSN | 2023 | 2 | BS_161 | 14298203.0 | \\n| MSN | 2023 | 2 | BS_310 | 57503618.0 | \\n| VHM | 2022 | 2 | BS_100 | 181594498.0 | \\n| VHM | 2022 | 2 | BS_140 | 59954849.0 | \\n| VHM | 2022 | 2 | BS_161 | 57273200.0 | \\n| VHM | 2022 | 2 | BS_310 | 173121096.0 | \\n| VHM | 2023 | 2 | BS_100 | 190310276.0 | \\n| VHM | 2023 | 2 | BS_140 | 107914098.0 | \\n| VHM | 2023 | 2 | BS_161 | 55782923.0 | \\n| VHM | 2023 | 2 | BS_310 | 185305307.0 | \\n\\n', 'question': 'Provide a breakdown of the current assets and current liabilities of HPG, VHM, and MSN as of the end of Q2 2022 and Q2 2023. Calculate their current and quick ratios for both periods and explain any notable changes.', 'score': [1, 1], 'avg': 1.0}\n"
     ]
    }
   ],
   "source": [
    "for ids, data in questions.items():\n",
    "    if ids in good_ids:\n",
    "        print(ids, data)\n",
    "        break"
   ]
  },
  {
   "cell_type": "code",
   "execution_count": 8,
   "metadata": {},
   "outputs": [],
   "source": [
    "output_path = '../data/qwen2.5-coder-3b-sft__hard_v0_4_good.jsonl'\n",
    "with open(output_path, 'w') as f:\n",
    "    for ids, data in questions.items():\n",
    "        if ids in good_ids:\n",
    "            f.write(json.dumps(data) + '\\n')"
   ]
  },
  {
   "cell_type": "code",
   "execution_count": 39,
   "metadata": {},
   "outputs": [],
   "source": [
    "with open('../data/message-gpt-4o-mini__v5_2_good.jsonl', 'w') as f:\n",
    "    for ids, data in questions.items():\n",
    "        if ids in good_ids:\n",
    "            \n",
    "            f.write(json.dumps(data['message']) + '\\n')"
   ]
  },
  {
   "cell_type": "code",
   "execution_count": 13,
   "metadata": {},
   "outputs": [
    {
     "data": {
      "text/plain": [
       "(0, 0)"
      ]
     },
     "execution_count": 13,
     "metadata": {},
     "output_type": "execute_result"
    }
   ],
   "source": [
    "count_result_format = 0\n",
    "good_result_format = 0\n",
    "for ids, data in questions.items():\n",
    "    if 'result format' in data['reasoning'].lower():\n",
    "        count_result_format += 1\n",
    "        if '### Result Format' in data['reasoning']:\n",
    "            good_result_format += 1\n",
    "            print(ids, data['reasoning'])\n",
    "            break\n",
    "count_result_format, good_result_format"
   ]
  },
  {
   "cell_type": "code",
   "execution_count": null,
   "metadata": {},
   "outputs": [],
   "source": [
    "for ids, data in questions.items():\n",
    "  if ids == '74710a9c-1b03-4821-b306-61057c8200cf':\n",
    "    print('QUESTION ===========')\n",
    "    print(data['question'])  \n",
    "    print('TABLES ===========')\n",
    "    print(data['table'])\n",
    "    print('ANSWERS ===========')\n",
    "    print(data['reasoning'])\n",
    "    print('AVG ===========')\n",
    "    print(data['avg'])\n",
    "    break"
   ]
  },
  {
   "cell_type": "code",
   "execution_count": 1,
   "metadata": {},
   "outputs": [],
   "source": [
    "import random\n",
    "import json"
   ]
  },
  {
   "cell_type": "code",
   "execution_count": 2,
   "metadata": {},
   "outputs": [
    {
     "data": {
      "text/plain": [
       "1"
      ]
     },
     "execution_count": 2,
     "metadata": {},
     "output_type": "execute_result"
    }
   ],
   "source": [
    "random.randint(0, 1)"
   ]
  },
  {
   "cell_type": "code",
   "execution_count": 13,
   "metadata": {},
   "outputs": [
    {
     "data": {
      "text/plain": [
       "(420490, 0, 307367, 0, 113123)"
      ]
     },
     "execution_count": 13,
     "metadata": {},
     "output_type": "execute_result"
    }
   ],
   "source": [
    "import tiktoken\n",
    "\n",
    "def count_tokens(text: str, model: str = \"gpt-4\") -> int:\n",
    "    # Select the tokenizer for the model\n",
    "    encoding = tiktoken.encoding_for_model(model)\n",
    "    tokens = encoding.encode(text)\n",
    "    return len(tokens)\n",
    "\n",
    "err = 0\n",
    "total_tokens = 0\n",
    "num = 1\n",
    "s = 0\n",
    "u = 0\n",
    "a = 0\n",
    "with open('../data/message_ner_gemini-2.0-flash__v5.jsonl') as f:\n",
    "    for line in f:\n",
    "        try:\n",
    "            data = json.loads(line)\n",
    "\n",
    "            # with open('../data/message_gpt-4o-mini__v4_good_good.jsonl', 'a') as f:\n",
    "            #     json.dump(data, f)\n",
    "            #     f.write('\\n')\n",
    "\n",
    "            for message in data:\n",
    "                text = message['content']\n",
    "                total_tokens += count_tokens(text)\n",
    "                if message['role'] == 'system':\n",
    "                    s += count_tokens(text)\n",
    "                elif message['role'] == 'user':\n",
    "                    u += count_tokens(text)\n",
    "                else:\n",
    "                    a += count_tokens(text)\n",
    "        except Exception as e:\n",
    "            err += 1\n",
    "        num += 1\n",
    "total_tokens, err, u, s, a"
   ]
  },
  {
   "cell_type": "code",
   "execution_count": 6,
   "metadata": {},
   "outputs": [],
   "source": [
    "with open('../data/message_gpt-4o-mini__v3_good.jsonl') as f:\n",
    "    for line in f:\n",
    "        try:\n",
    "            data = json.loads(line)\n",
    "            new_data = []\n",
    "            for message in data:\n",
    "                role = message['role']\n",
    "                content = message['content'].strip()\n",
    "                new_data.append({'role': role, 'content': content})\n",
    "            with open('../data/message_gpt-4o-mini__v3_good_good.jsonl', 'a') as f:\n",
    "                json.dump(new_data, f)\n",
    "                f.write('\\n')\n",
    "                \n",
    "\n",
    "        except Exception as e:\n",
    "            print(e)"
   ]
  },
  {
   "cell_type": "markdown",
   "metadata": {},
   "source": [
    "## Grade Cell"
   ]
  },
  {
   "cell_type": "code",
   "execution_count": 3,
   "metadata": {},
   "outputs": [
    {
     "data": {
      "text/plain": [
       "(423, 423, 91, 299, 0.706855791962175, 0.706855791962175)"
      ]
     },
     "execution_count": 3,
     "metadata": {},
     "output_type": "execute_result"
    }
   ],
   "source": [
    "import json\n",
    "\n",
    "evaluate_path = '../data/gemini-2.0-flash-evaluate-qwen2.5-coder-3b-kto__sql_v0.jsonl'\n",
    "mcq_path = '../data/mcq_v0.jsonl'\n",
    "\n",
    "evaluate = dict()\n",
    "cant_ansewer = 0\n",
    "score = 0\n",
    "\n",
    "total_questions = 0\n",
    "with open(mcq_path) as f:\n",
    "    for line in f:\n",
    "        data = json.loads(line)\n",
    "        total_questions += 1\n",
    "\n",
    "return_question = 0\n",
    "with open(evaluate_path) as f:\n",
    "    for line in f:\n",
    "        data = json.loads(line)\n",
    "        evaluate[data['ids']] = data\n",
    "        if 'score' in data:\n",
    "            score += data['score']\n",
    "        if 'cant_answer' in data and data['cant_answer']:\n",
    "            cant_ansewer += 1\n",
    "        return_question += 1\n",
    "\n",
    "total_questions, return_question, cant_ansewer, score, score/len(evaluate), score/total_questions"
   ]
  },
  {
   "cell_type": "markdown",
   "metadata": {},
   "source": [
    "### Qwen 2.5 Coder 3B\n",
    "SFT 3B: 0.7115\n",
    "\n",
    "DPO 3B: 0.6761\n",
    "\n",
    "KTO 3B: 0.7069\n",
    "\n",
    "Original: 0.2553\n",
    "\n",
    "### Qwen 2.5 Coder 1.5B\n",
    "SFT 1.5B: 0.6525\n",
    "\n",
    "DPO 1.5B (failed) 1.5B: 0.6288\n",
    "\n",
    "KTO 1.5B: 0.6643 (Loss 13 questions during saving process. 0.6835 for 410 ques) \n",
    "\n",
    "SFT Extended 1.5B: \n",
    "\n",
    "\n",
    "### Other\n",
    "GPT 4o mini: 0.64775"
   ]
  },
  {
   "cell_type": "code",
   "execution_count": null,
   "metadata": {},
   "outputs": [],
   "source": []
  },
  {
   "cell_type": "markdown",
   "metadata": {},
   "source": [
    "## Check bad Generation"
   ]
  },
  {
   "cell_type": "code",
   "execution_count": 15,
   "metadata": {},
   "outputs": [],
   "source": [
    "sql_path = '../data/deepseek-chat__v0_good.jsonl'\n",
    "new_sql_path = '../data/sql_v0.jsonl'\n",
    "\n",
    "with open(sql_path) as f:\n",
    "    for line in f:\n",
    "        data = json.loads(line)\n",
    "        ids = data['ids']\n",
    "        if evaluate.get(ids, dict()).get('score', 0) == 1:\n",
    "            with open(new_sql_path, 'a') as f:\n",
    "                json.dump(data, f)\n",
    "                f.write('\\n')"
   ]
  },
  {
   "cell_type": "code",
   "execution_count": 14,
   "metadata": {},
   "outputs": [],
   "source": [
    "new_mcq_path = '../data/mcq_v0.jsonl'\n",
    "with open(mcq_path) as f:\n",
    "    for line in f:\n",
    "        data = json.loads(line)\n",
    "        ids = data['ids']\n",
    "        if evaluate.get(ids, dict()).get('score', 0) == 1:\n",
    "            with open(new_mcq_path, 'a') as f:\n",
    "                json.dump(data, f)\n",
    "                f.write('\\n')\n"
   ]
  },
  {
   "cell_type": "code",
   "execution_count": 8,
   "metadata": {},
   "outputs": [],
   "source": [
    "def is_npl(question: dict):\n",
    "    if 'non-per' in question['question'].lower() and 'bdr' not in question['reasoning'].lower():\n",
    "        return True\n",
    "    return False\n",
    "\n",
    "\n",
    "def contain_en_company(question: dict):\n",
    "    if 'yoy' in question['reasoning'].lower() and 'quarter = 0' not in question['reasoning'].lower():\n",
    "        return True\n",
    "    return False\n",
    "\n",
    "def contain_data(question, data):\n",
    "    if data in question['reasoning'].lower():\n",
    "        return True\n",
    "    return False"
   ]
  },
  {
   "cell_type": "code",
   "execution_count": 11,
   "metadata": {},
   "outputs": [],
   "source": [
    "file_path = '../data/gpt-4o-mini__v5.jsonl'\n",
    "new_file_path = '../data/gpt-4o-mini__v5_2.jsonl'"
   ]
  },
  {
   "cell_type": "code",
   "execution_count": null,
   "metadata": {},
   "outputs": [],
   "source": [
    "import json\n",
    "err = 0\n",
    "\n",
    "err_id = ''\n",
    "\n",
    "\n",
    "with open(file_path) as f:\n",
    "    for line in f:\n",
    "        data = json.loads(line)\n",
    "        if contain_data(data, 'average'):\n",
    "            err += 1\n",
    "            err_id = data['ids']\n",
    "        else:\n",
    "            print('======== QUESTION ===========')\n",
    "            print(data['question'])  \n",
    "            print('======== TABLES ===========')\n",
    "            print(data['table'])\n",
    "            print('======== ANSWERS ===========')\n",
    "            print(data['reasoning'])\n",
    "            # print('AVG ===========')\n",
    "            # print(data['avg'])\n",
    "        #     break\n",
    "        # else:\n",
    "        #     with open(new_file_path, 'a') as f:\n",
    "        #         json.dump(data, f)\n",
    "        #         f.write('\\n')"
   ]
  },
  {
   "cell_type": "code",
   "execution_count": 15,
   "metadata": {},
   "outputs": [
    {
     "data": {
      "text/plain": [
       "17"
      ]
     },
     "execution_count": 15,
     "metadata": {},
     "output_type": "execute_result"
    }
   ],
   "source": [
    "err"
   ]
  },
  {
   "cell_type": "code",
   "execution_count": 14,
   "metadata": {},
   "outputs": [
    {
     "data": {
      "text/plain": [
       "'69ecf8be-f65c-484c-87d6-069ff8fa530d'"
      ]
     },
     "execution_count": 14,
     "metadata": {},
     "output_type": "execute_result"
    }
   ],
   "source": [
    "err_id"
   ]
  },
  {
   "cell_type": "markdown",
   "metadata": {},
   "source": [
    "## BATCH LLM"
   ]
  },
  {
   "cell_type": "code",
   "execution_count": 89,
   "metadata": {},
   "outputs": [],
   "source": [
    "import sys \n",
    "sys.path.append('../')\n",
    "from llm import ChatGPT"
   ]
  },
  {
   "cell_type": "code",
   "execution_count": 90,
   "metadata": {},
   "outputs": [],
   "source": [
    "llm = ChatGPT()"
   ]
  },
  {
   "cell_type": "code",
   "execution_count": 91,
   "metadata": {},
   "outputs": [],
   "source": [
    "import json"
   ]
  },
  {
   "cell_type": "code",
   "execution_count": 92,
   "metadata": {},
   "outputs": [
    {
     "name": "stdout",
     "output_type": "stream",
     "text": [
      "Expecting ',' delimiter: line 1 column 8573 (char 8572)\n",
      "Expecting ',' delimiter: line 1 column 8490 (char 8489)\n",
      "Expecting ',' delimiter: line 1 column 10147 (char 10146)\n",
      "Expecting ',' delimiter: line 1 column 9712 (char 9711)\n",
      "Expecting value: line 1 column 1 (char 0)\n",
      "Expecting ',' delimiter: line 1 column 8921 (char 8920)\n",
      "Expecting value: line 1 column 1 (char 0)\n",
      "Expecting ',' delimiter: line 1 column 9650 (char 9649)\n",
      "Expecting value: line 1 column 1 (char 0)\n"
     ]
    }
   ],
   "source": [
    "msg_path = '../data/template_gemini-2.0-flash-lite-preview-02-05__v5.jsonl'\n",
    "questions = []\n",
    "messages = []\n",
    "with open(msg_path) as f:\n",
    "    for line in f:\n",
    "        try:\n",
    "            data = json.loads(line)\n",
    "            questions.append(data)\n",
    "            messages.append(data['message'])\n",
    "        except Exception as e:\n",
    "            print(e)"
   ]
  },
  {
   "cell_type": "code",
   "execution_count": 93,
   "metadata": {},
   "outputs": [],
   "source": [
    "def list_of_messages_to_batch_chatgpt(questions, example_per_batch = 200, model_type = 'gpt-4o-mini', max_tokens = 4096):\n",
    "    list_of_batches = []\n",
    "    for i in range(0, len(questions), example_per_batch):\n",
    "        \n",
    "        begin_index = i\n",
    "        end_index = i + example_per_batch\n",
    "        print(f'Processing from {begin_index} to {end_index}')\n",
    "\n",
    "        batch = questions[begin_index:end_index].copy()\n",
    "        batch_json = []\n",
    "        for j, question in enumerate(batch):\n",
    "            json_obj = {\n",
    "                \"custom_id\": question['ids'],\n",
    "                \"method\": \"POST\",\n",
    "                \"url\": '/v1/chat/completions',\n",
    "                \"body\": {\n",
    "                    \"model\": model_type,\n",
    "                    \"messages\": question['message'],\n",
    "                    \"max_tokens\":max_tokens\n",
    "                },\n",
    "                \n",
    "            }\n",
    "            batch_json.append(json_obj)\n",
    "        list_of_batches.append(batch_json)\n",
    "    return list_of_batches"
   ]
  },
  {
   "cell_type": "code",
   "execution_count": 6,
   "metadata": {},
   "outputs": [],
   "source": [
    "# list_messages = list_of_messages_to_batch_chatgpt(questions)"
   ]
  },
  {
   "cell_type": "code",
   "execution_count": 7,
   "metadata": {},
   "outputs": [],
   "source": [
    "# llm.batch_call(list_messages, transform=False)"
   ]
  },
  {
   "cell_type": "code",
   "execution_count": null,
   "metadata": {},
   "outputs": [],
   "source": [
    "local_batch = llm.recall_local_batch()"
   ]
  },
  {
   "cell_type": "code",
   "execution_count": null,
   "metadata": {},
   "outputs": [],
   "source": [
    "responses = llm.get_successful_messages(local_batch)"
   ]
  },
  {
   "cell_type": "code",
   "execution_count": 96,
   "metadata": {},
   "outputs": [],
   "source": [
    "questions = dict()\n",
    "with open('../data/generated_questions.json', 'r') as f:\n",
    "\n",
    "    lines = json.load(f)\n",
    "    for data in lines:\n",
    "        ids = data['ids']\n",
    "        questions[ids] = dict()\n",
    "        questions[ids]['question'] = data['question']\n",
    "\n",
    "\n",
    "def merge_responses(questions, responses):\n",
    "    inner_join_questions = []\n",
    "    for response in responses:\n",
    "        questions[response['ids']]['response'] = response['response']\n",
    "        inner_join_questions.append({\n",
    "            'ids': response['ids'],\n",
    "            'question': questions[response['ids']]['question'],\n",
    "            'reasoning': response['response']\n",
    "        })\n",
    "    return inner_join_questions\n",
    "    \n",
    "inner_join_questions =merge_responses(questions, responses)"
   ]
  },
  {
   "cell_type": "code",
   "execution_count": 97,
   "metadata": {},
   "outputs": [
    {
     "data": {
      "text/plain": [
       "4173"
      ]
     },
     "execution_count": 97,
     "metadata": {},
     "output_type": "execute_result"
    }
   ],
   "source": [
    "len(inner_join_questions)"
   ]
  },
  {
   "cell_type": "code",
   "execution_count": 98,
   "metadata": {},
   "outputs": [],
   "source": [
    "with open('../data/batch-response-gpt-4o-mini__v5.jsonl', 'w') as f:\n",
    "    for data in inner_join_questions:\n",
    "        f.write(json.dumps(data) + '\\n')"
   ]
  },
  {
   "cell_type": "code",
   "execution_count": 9,
   "metadata": {},
   "outputs": [
    {
     "data": {
      "text/plain": [
       "[{'ids': '5413b90f-85c4-41c2-a7c5-47324bfd44d9',\n",
       "  'response': \"To fulfill the request for the debt-to-equity ratio of VCB, BID, and CTG in 2023, broken down by quarter, and also compare this data to their respective industry averages, I'll create a query that fetches the following necessary information:\\n\\n1. **Debt-to-Equity Ratio** for each company.\\n2. **Industry Average Debt-to-Equity Ratio** for 2023.\\n3. Provide detailed output with relevant columns for clarity.\\n\\nThe steps to construct the SQL query are as follows:\\n\\n- First, we will select the debt-to-equity ratio (`DTER`) for VCB, BID, and CTG in the specified year and quarter.\\n- Next, to find the industry averages, we'll need to aggregate the quarterly debt-to-equity ratios for all banks in 2023.\\n- Finally, I'll combine both sets of data, ensuring that we are only including the relevant columns.\\n\\nHere’s how the SQL query is structured based on the database schema and the task requirements:\\n\\n```sql\\n-- ### Debt-to-Equity Ratio for VCB, BID, CTG in 2023 and their Industry Averages\\nWITH company_ratios AS (\\n    SELECT \\n        stock_code,\\n        year,\\n        quarter,\\n        ratio_code,\\n        data AS debt_to_equity_ratio\\n    FROM \\n        financial_ratio\\n    WHERE \\n        ratio_code = 'DTER'  -- Debt To Equity Ratio\\n        AND stock_code IN ('VCB', 'BID', 'CTG')  -- Selected companies\\n        AND date_added BETWEEN '2023-01-01' AND '2023-12-31'  -- Year 2023\\n        AND quarter != 0  -- Exclude annual data\\n),\\nindustry_average AS (\\n    SELECT \\n        industry,\\n        year,\\n        quarter,\\n        ratio_code,\\n        AVG(data) AS industry_avg_debt_to_equity_ratio\\n    FROM \\n        financial_ratio\\n    JOIN \\n        company_info ON financial_ratio.stock_code = company_info.stock_code\\n    WHERE \\n        ratio_code = 'DTER'  -- Debt To Equity Ratio\\n        AND year = 2023\\n        AND quarter != 0  -- Exclude annual data\\n    GROUP BY \\n        industry, year, quarter, ratio_code\\n)\\nSELECT \\n    c.stock_code,\\n    ci.industry,\\n    c.year,\\n    c.quarter,\\n    c.debt_to_equity_ratio,\\n    ia.industry_avg_debt_to_equity_ratio\\nFROM \\n    company_ratios c\\nJOIN \\n    company_info ci ON c.stock_code = ci.stock_code\\nLEFT JOIN \\n    industry_average ia ON ci.industry = ia.industry AND c.year = ia.year AND c.quarter = ia.quarter\\nORDER BY \\n    c.stock_code, c.quarter;\\n```\\n\\n### Explanation of the Query Structure:\\n- Two Common Table Expressions (CTEs) are used:\\n  - `company_ratios`: Retrieves the debt-to-equity ratio for the companies of interest in 2023.\\n  - `industry_average`: Computes the average debt-to-equity ratio for the banking industry in 2023.\\n- The final SELECT combines the data from these CTEs, providing the stock code, industry, year, quarter, the specific company's debt-to-equity ratio, and the corresponding industry average ratio.\\n- Order the results for better readability by company and quarter.\\n\\nThis structured approach ensures that we are complying with the database schema while providing the requested financial data in a clear and informative manner.\"},\n",
       " {'ids': '39f2d4b7-8996-44e5-98ae-3c9f9f8cc618',\n",
       "  'response': \"To compare the year-over-year growth in operating income and net income for FPT, MWG, and PNJ from 2020 to Q3 2024, we will create a query that retrieves the relevant financial data. \\n\\nWe'll need to gather data for operating income and net income using the mapping for `category_code` relevant to these metrics. Operating income corresponds to `IS_060` (Net profit from operating activities) and net income corresponds to `IS_100` (Profit after corporate income tax). \\n\\nOur SQL query will look like this:\\n\\n```sql\\n-- ### Year-over-Year Growth Comparison for Operating Income and Net Income for FPT, MWG, and PNJ from 2020 to Q3 2024\\nWITH operating_income_2020 AS (\\n    SELECT \\n        stock_code,\\n        data AS operating_income_2020\\n    FROM \\n        financial_statement\\n    WHERE \\n    \\tcategory_code = 'IS_060'  -- Net profit from operating activities\\n        AND date_added BETWEEN '2020-01-01' AND '2020-12-31'  -- Annual data for 2020\\n),\\nnet_income_2020 AS (\\n    SELECT \\n        stock_code,\\n        data AS net_income_2020\\n    FROM \\n        financial_statement\\n    WHERE \\n    \\tcategory_code = 'IS_100'  -- Profit after corporate income tax\\n        AND date_added BETWEEN '2020-01-01' AND '2020-12-31'  -- Annual data for 2020\\n),\\noperating_income_2024_q3 AS (\\n    SELECT \\n        stock_code,\\n        data AS operating_income_2024_q3\\n    FROM \\n        financial_statement\\n    WHERE \\n    \\tcategory_code = 'IS_060'  -- Net profit from operating activities\\n        AND date_added BETWEEN '2024-07-01' AND '2024-09-30'  -- Q3 data for 2024\\n),\\nnet_income_2024_q3 AS (\\n    SELECT \\n        stock_code,\\n        data AS net_income_2024_q3\\n    FROM \\n        financial_statement\\n    WHERE \\n    \\tcategory_code = 'IS_100'  -- Profit after corporate income tax\\n        AND date_added BETWEEN '2024-07-01' AND '2024-09-30'  -- Q3 data for 2024\\n)\\nSELECT \\n    o20.stock_code,\\n    'N/A' AS industry,\\n    CAST( ((o24.operating_income_2024_q3 - o20.operating_income_2020) / NULLIF(o20.operating_income_2020, 0)) * 100 AS numeric) AS operating_income_growth_rate,\\n    CAST( ((n24.net_income_2024_q3 - n20.net_income_2020) / NULLIF(n20.net_income_2020, 0)) * 100 AS numeric) AS net_income_growth_rate\\nFROM \\n    operating_income_2020 o20\\nJOIN \\n    operating_income_2024_q3 o24 ON o20.stock_code = o24.stock_code\\nJOIN \\n    net_income_2020 n20 ON o20.stock_code = n20.stock_code\\nJOIN \\n    net_income_2024_q3 n24 ON n20.stock_code = n24.stock_code\\nWHERE \\n    o20.stock_code IN ('FPT', 'MWG', 'PNJ');\\n\\n```\\n\\n### Explanation of the SQL Query:\\n- We create common table expressions (CTEs) to select the operating and net income for the specified years and stock codes.\\n- The `operating_income_2020` and `net_income_2020` CTEs select annual data for 2020.\\n- The `operating_income_2024_q3` and `net_income_2024_q3` CTEs select quarter data for Q3 2024.\\n- In the final select statement, we compute the growth rates by comparing the income values from 2020 to Q3 2024.\\n- The condition includes only the specified companies: FPT, MWG, and PNJ.\\n\\n### Result Columns\\n- `stock_code`: The trading symbol of the companies.\\n- `industry`: Currently set as ‘N/A’ since we didn't retrieve that data.\\n- `operating_income_growth_rate`: The percentage growth rate for operating income.\\n- `net_income_growth_rate`: The percentage growth rate for net income.\\n\\nThis will provide a clear view in comparing the growth rates between the two time periods for the companies specified.\"},\n",
       " {'ids': '4429b8ac-ce3d-43e6-b8e3-13e7e47f37b5',\n",
       "  'response': \"To retrieve the breakdown of current assets and current liabilities for HPG, VHM, and MSN as of the end of Q2 2022 and Q2 2023, and to compute their current and quick ratios for both periods, we can construct the following SQL queries. \\n\\n### SQL Query Step-by-Step\\n1. **Select from financial_statement**: We'll be fetching data from the `financial_statement` table for specific category codes that relate to current assets and current liabilities.\\n  \\n2. **Specify stock codes**: The stock codes will be filtered to include only HPG, VHM, and MSN.\\n\\n3. **Quarterly Data**: We're interested in Q2 of both 2022 and 2023, which corresponds to quarter = 2.\\n\\n4. **Current Assets and Liabilities**: The relevant category codes for our needs based on the mapping:\\n   - Current Assets: `BS_100`, `BS_161`, `BS_170`, `BS_140`, `BS_173`\\n   - Current Liabilities: `BS_310`, `BS_330`\\n\\n5. **Current and Quick Ratios**: We need to programatically calculate current and quick ratios but for this specific task, we will fetch relevant data since we will cite defined ratios for current and quick ratio in financial_ratio table:\\n   - Current Ratio (CR) and Quick Ratio (QR).\\n  \\n6. **Date Filter**: We filter records for Q2 2022 (`2022-06-30`) and Q2 2023 (`2023-06-30`).\\n\\n7. **Table to structure our queries**: We'll create a structured and informative query with results labeled and categorized properly for clarity.\\n\\n### Here is the complete SQL query:\\n\\n```sql\\n-- ### Breakdown of Current Assets and Current Liabilities for HPG, VHM, and MSN for Q2 2022 and Q2 2023\\nSELECT\\n    stock_code,\\n    year,\\n    quarter,\\n    category_code,\\n    data\\nFROM\\n    financial_statement\\nWHERE\\n    stock_code IN ('HPG', 'VHM', 'MSN')\\n    AND (\\n        (year = 2022 AND quarter = 2)\\n        OR (year = 2023 AND quarter = 2)\\n    )\\n    AND category_code IN ('BS_100', 'BS_161', 'BS_170', 'BS_140', 'BS_173', 'BS_310', 'BS_330')\\nORDER BY\\n    stock_code, year, quarter, category_code\\nLIMIT 100; -- Adjust limit as needed for more rows\\n```\\n\\n### Additional Query for Ratios:\\nAfter gathering the asset and liability data, we also need to extract the current and quick ratios recorded in `financial_ratio` for the same periods:\\n\\n```sql\\n-- ### Current and Quick Ratios for HPG, VHM, and MSN for Q2 2022 and Q2 2023\\nSELECT\\n    stock_code,\\n    year,\\n    quarter,\\n    ratio_code,\\n    data\\nFROM\\n    financial_ratio\\nWHERE\\n    stock_code IN ('HPG', 'VHM', 'MSN')\\n    AND (\\n        (year = 2022 AND quarter = 2)\\n        OR (year = 2023 AND quarter = 2)\\n    )\\n    AND ratio_code IN ('CurrentR', 'QR')\\nORDER BY\\n    stock_code, year, quarter, ratio_code\\nLIMIT 100; -- Adjust limit as needed for more rows\\n```\\n\\n### Explanation of Notable Changes:\\nTo analyze notable changes, one can compare the values retrieved from both queries, focusing on differences in assets, liabilities, and ratios over the specified periods (Q2 2022 vs Q2 2023). \\n\\nSuch analysis would typically be done outside SQL after retrieving specified data, particularly to facilitate interpretation and drawing insights based on changes observed in financial health indicators, such as current and quick ratios.\"},\n",
       " {'ids': '97b3bdf8-0221-4a40-91c6-bffd3c5e1bf2',\n",
       "  'response': \"To analyze the trend in return on assets (ROA) and return on equity (ROE) for VJC, GAS, and VRE from 2020 through Q3 2024, we need to gather both the ROA and ROE data for those specific companies over the specified time period. We'll use the `financial_ratio` table to extract the relevant data using their stock codes and the desired ratio codes.\\n\\nHere is how we can construct the SQL query step-by-step:\\n\\n1. **Select Required Columns:** We need stock_code, year, quarter, ratio_code, and data.\\n\\n2. **Filter by Stock Codes:** Only include data for VJC, GAS, and VRE.\\n\\n3. **Filter by Ratio Codes:** Ensure we are selecting both ROA and ROE.\\n\\n4. **Date Range Filtering:** We will filter the data to be between January 1, 2020, and September 30, 2024, and ensure we are selecting only quarterly data (quarter != 0).\\n\\n5. **Organize the Output:** Ensure the output is well-structured for the analysis.\\n\\nConsidering all the above points, here is the final SQL query:\\n\\n```sql\\n-- ### ROA and ROE Trends for VJC, GAS, and VRE from 2020 to Q3 2024\\nSELECT \\n    stock_code,\\n    year,\\n    quarter,\\n    ratio_code,\\n    data\\nFROM \\n    financial_ratio\\nWHERE \\n    stock_code IN ('VJC', 'GAS', 'VRE')\\n    AND ratio_code IN ('ROA', 'ROE')\\n    AND date_added BETWEEN '2020-01-01' AND '2024-09-30'\\n    AND quarter != 0\\nORDER BY \\n    stock_code, \\n    year, \\n    quarter\\nLIMIT 100;\\n```\\n\\nThis query will return the desired data for the specified companies and ratios, allowing for a trend analysis on their profitability and efficiency.\"},\n",
       " {'ids': '59c5b993-b487-4636-89e8-e6ab3f9cc640',\n",
       "  'response': \"To address the task of analyzing the composition of long-term debt for the companies NVL, DXG, and KDH in 2021 and 2022, we need to focus on the relevant category codes that pertain to long-term debt, which include:\\n\\n- BS_125: (Bank) Loans to customers \\n- BS_341: (Securities) Long-term issued bonds\\n- BS_354: Long-term provisions\\n- Bank_TM_74: Long-term loans \\n- Share_TM_5: Bonds issued\\n\\n### SQL Query\\nConsidering the data should be fetched for the years 2021 and 2022, and ensuring to include data related to long-term debts for the specified companies, the SQL query would be as follows:\\n\\n```sql\\n-- ### Financial Statement and Explanation of Long-Term Debt for NVL, DXG, and KDH in 2021 and 2022\\nSELECT \\n    stock_code,\\n    year,\\n    quarter,\\n    category_code,\\n    data\\nFROM \\n    financial_statement\\nWHERE \\n    stock_code IN ('NVL', 'DXG', 'KDH') -- Focusing on the specified companies\\n    AND year IN (2021, 2022) -- For the years 2021 and 2022\\n    AND quarter != 0 -- Avoiding annual data\\n    AND category_code IN ('BS_125', 'BS_341', 'BS_354', 'Bank_TM_74', 'Share_TM_5') -- Specified long-term debt category codes\\nORDER BY \\n    year, stock_code\\nLIMIT 100; -- Limiting the result to the first 100 entries\\n```\\n\\nThis query fetches the necessary data about long-term debts for NVL, DXG, and KDH in 2021 and 2022, ensuring we gather only relevant quarter information while focusing on specific long-term debt accounts, which are crucial for analyzing how the reliance on these financing sources has changed over this stated period.\"},\n",
       " {'ids': '13c51405-62e6-464d-b7df-26149455e2f6',\n",
       "  'response': \"To address the query regarding the evolution of the asset turnover ratio (TAT) of REE, VPI, and BCM from 2020 to Q3 2024, I will formulate a SQL query that retrieves the relevant data. \\n\\n### Analyzing the Query:\\n1. **Stock Codes**: The companies we are interested in are REE, VPI, and BCM.\\n2. **Ratio**: The specific financial ratio we are retrieving is the Total Asset Turnover (TAT).\\n3. **Date Range**: The analysis spans from the beginning of 2020 to the end of Q3 2024 (i.e., until September 30, 2024).\\n4. **Quarter Clause**: Since TAT is a quarterly ratio, we need to ensure that the quarter in the result is not 0.\\n5. **Columns to Retrieve**: We will include stock_code, year, quarter, ratio_code (TAT), and data (the TAT value).\\n\\n### SQL Query Construction:\\nLet's now create the SQL query that meets the requirements specified.\\n\\n```sql\\n-- ### Total Asset Turnover Ratio for REE, VPI, and BCM from 2020 to Q3 2024\\nSELECT \\n    stock_code,\\n    year,\\n    quarter,\\n    ratio_code,\\n    data\\nFROM \\n    financial_ratio\\nWHERE \\n    stock_code IN ('REE', 'VPI', 'BCM') \\n    AND ratio_code = 'TAT' \\n    AND date_added BETWEEN '2020-01-01' AND '2024-09-30'\\n    AND quarter != 0\\nORDER BY \\n    stock_code, year, quarter\\nLIMIT 100;  -- Limit can be adjusted as needed\\n```\\n\\n### Explanation of the Query:\\n- The query selects relevant columns from the `financial_ratio` table to analyze the Total Asset Turnover ratio for the specified companies.\\n- It filters by the `stock_code` to include only REE, VPI, and BCM.\\n- It filters by `ratio_code` to ensure only the Total Asset Turnover ratio is selected.\\n- It uses a date range that covers all relevant quarters between January 1, 2020, and September 30, 2024, and ensures that the quarter is not 0 to avoid annual reports.\\n- The results are ordered by `stock_code`, `year`, and `quarter` for structured representation.\\n\\nThis SQL query aligns with your requirements and the schema of the database provided.\"},\n",
       " {'ids': 'f8f0ec4a-ac8f-43d5-87da-1993299dacaa',\n",
       "  'response': \"```sql\\n-- ### detailed_cash_flow_analysis_sab_pow_gvr_2021_2023\\nSELECT\\n    stock_code,\\n    year,\\n    quarter,\\n    category_code,\\n    data\\nFROM\\n    financial_statement\\nWHERE\\n    stock_code IN ('SAB', 'POW', 'GVR')\\n    AND year IN (2021, 2023)\\n    AND quarter != 0\\n    AND category_code IN ('CF_050', 'CF_070', 'CF_090')\\nLIMIT 100;\\n```\"},\n",
       " {'ids': '031fc32d-036f-4359-800a-01a8733c892c',\n",
       "  'response': \"To analyze the quick ratio for the specified banks (BID, CTG, VCB, MBB, and ACB) from 2020 to Q3 2024, we will focus on retrieving data from the `financial_ratio` table. The quick ratio, identified by the code 'QR', will be evaluated across the specified time frame. \\n\\nHere's the SQL query based on the provided requirements:\\n\\n```sql\\n-- ### quick_ratio_analysis_for_banks_from_2020_to_Q3_2024\\nSELECT \\n    fr.stock_code,\\n    EXTRACT(YEAR FROM fr.date_added) AS year,\\n    fr.quarter,\\n    fr.ratio_code,\\n    fr.data\\nFROM \\n    financial_ratio fr\\nWHERE \\n    fr.ratio_code = 'QR' -- Quick Ratio\\n    AND fr.stock_code IN ('BID', 'CTG', 'VCB', 'MBB', 'ACB')\\n    AND fr.date_added BETWEEN '2020-01-01' AND '2024-09-30'\\n    AND fr.quarter != 0\\nORDER BY \\n    fr.stock_code, year, fr.quarter\\nLIMIT 100;  -- Assuming we want to limit to the first 100 results\\n```\\n\\n### Explanation\\n- **Select Clause**: We retrieve the stock code, year's extracted value from `date_added`, quarter, ratio code, and ratio data for each of the specified banks.\\n- **From Clause**: We're pulling this information from the `financial_ratio` table.\\n- **Where Clause**: We filter for the quick ratio (QR), only include the specified stock codes, ensure the date falls within the desired range of January 1, 2020, to September 30, 2024, and exclude annual reports (by checking that `quarter` is not 0).\\n- **Ordering and Limiting**: The results are ordered by stock code, year, and quarter, and limited to 100 rows for efficiency.\\n  \\nThis query should yield the quick ratio for each specified bank over the desired period, which reflects their short-term liquidity and ability to meet immediate obligations.\"},\n",
       " {'ids': '72c1d1b0-7802-43fb-bf3c-95bc148ca930',\n",
       "  'response': \"To calculate the debt-to-equity ratio for HPG, VHM, and GAS over the period from 2020 to Q3 2024, we will perform the following steps based on the provided instructions:\\n\\n1. **Identify the stock codes of the companies**: We know HPG, VHM, and GAS based on information provided.\\n   \\n2. **Identify the debt and equity category codes**: According to the mappings:\\n   - For TOTAL LIABILITIES AND EQUITY, we can use `BS_440`.\\n   - For DEBT, we will consider `BS_133` corresponding to Debt Purchases or similar accounts which refer to total liabilities.\\n   - For EQUITY, we can use `BS_400`.\\n\\n3. **Retrieve data from the `financial_statement` table** for the specified companies and time period while ensuring that we are filtering out the annual reports (quarter should not be 0).\\n\\n4. **Join the relevant data** to calculate the debt-to-equity ratio.\\n\\nBelow is the SQL query that matches these requirements:\\n\\n```sql\\n-- ### debt_to_equity_ratio_hpg_vhm_gas_2020_to_Q3_2024\\nWITH financial_data AS (\\n    SELECT \\n        stock_code,\\n        category_code,\\n        data \\n    FROM \\n        financial_statement \\n    WHERE \\n        (category_code = 'BS_133' OR category_code = 'BS_400' OR category_code = 'BS_440')\\n        AND stock_code IN ('HPG', 'VHM', 'GAS')\\n        AND date_added BETWEEN '2020-01-01' AND '2024-09-30'\\n        AND quarter != 0\\n)\\n\\n-- Calculating the Debt-to-Equity Ratio by summing up the liabilities and equity\\nSELECT \\n    fd.stock_code,\\n    SUM(CASE WHEN fd.category_code = 'BS_133' THEN fd.data ELSE 0 END) AS total_debt,\\n    SUM(CASE WHEN fd.category_code = 'BS_400' THEN fd.data ELSE 0 END) AS total_equity,\\n    (SUM(CASE WHEN fd.category_code = 'BS_133' THEN fd.data ELSE 0 END) / \\n     NULLIF(SUM(CASE WHEN fd.category_code = 'BS_400' THEN fd.data ELSE 0 END), 0)) AS debt_to_equity_ratio\\nFROM \\n    financial_data fd\\nGROUP BY \\n    fd.stock_code\\nORDER BY \\n    fd.stock_code\\nLIMIT 100;\\n```\\n\\n### Explanation:\\n- **CTE (Common Table Expression)**: `financial_data` pulls the required data for debts and equity for the specified stock codes within the required date range.\\n- **Aggregation**: The main query aggregates the total debt and total equity for each stock and calculates the debt-to-equity ratio. \\n- **NULLIF**: It ensures we do not divide by zero if equity sums to zero.\\n- **Ordering**: We order the results based on `stock_code` to keep the results organized.\\n\\nThis query will yield a dataset containing the stock codes, total debt, total equity, and the calculated debt-to-equity ratio for HPG, VHM, and GAS from 2020 to Q3 2024.\"}]"
      ]
     },
     "execution_count": 9,
     "metadata": {},
     "output_type": "execute_result"
    }
   ],
   "source": [
    "responses"
   ]
  },
  {
   "cell_type": "code",
   "execution_count": 32,
   "metadata": {},
   "outputs": [
    {
     "name": "stderr",
     "output_type": "stream",
     "text": [
      "2025-02-09 01:38:56,667 - INFO - HTTP Request: POST https://api.openai.com/v1/batches/batch_67a7a453927481908a9307d1e21bfaa3/cancel \"HTTP/1.1 200 OK\"\n"
     ]
    },
    {
     "data": {
      "text/plain": [
       "Batch(id='batch_67a7a453927481908a9307d1e21bfaa3', completion_window='24h', created_at=1739039827, endpoint='/v1/chat/completions', input_file_id='file-YTW1mToDxsUXjA5GE3xobt', object='batch', status='cancelling', cancelled_at=None, cancelling_at=1739039936, completed_at=None, error_file_id=None, errors=None, expired_at=None, expires_at=1739126227, failed_at=None, finalizing_at=None, in_progress_at=1739039828, metadata={'description': 'batch_2'}, output_file_id=None, request_counts=BatchRequestCounts(completed=0, failed=0, total=200))"
      ]
     },
     "execution_count": 32,
     "metadata": {},
     "output_type": "execute_result"
    }
   ],
   "source": [
    "from openai import OpenAI\n",
    "client = OpenAI()\n",
    "\n",
    "client.batches.cancel(\"batch_67a7a453927481908a9307d1e21bfaa3\")"
   ]
  },
  {
   "cell_type": "code",
   "execution_count": 27,
   "metadata": {},
   "outputs": [
    {
     "name": "stderr",
     "output_type": "stream",
     "text": [
      "2025-02-09 00:50:46,381 - INFO - HTTP Request: GET https://api.openai.com/v1/batches?limit=10 \"HTTP/1.1 200 OK\"\n"
     ]
    },
    {
     "name": "stdout",
     "output_type": "stream",
     "text": [
      "Batch(id='batch_67a794b246fc8190b36631ce32ee1601', completion_window='24h', created_at=1739035826, endpoint='/v1/chat/completions', input_file_id='file-EWrYdg6gRk9bR7sdVbWGLP', object='batch', status='completed', cancelled_at=None, cancelling_at=None, completed_at=1739036539, error_file_id=None, errors=None, expired_at=None, expires_at=1739122226, failed_at=None, finalizing_at=1739036538, in_progress_at=1739035827, metadata={'description': 'batch_0'}, output_file_id='file-Sv62sjjz9HMzCEcsYQ6dxf', request_counts=BatchRequestCounts(completed=9, failed=0, total=9))\n",
      "Batch(id='batch_67a790f58a6081909155d01f8addb8e6', completion_window='24h', created_at=1739034869, endpoint='/v1/chat/completions', input_file_id='file-HAgvxerLKFxX8MW3Q1qkj8', object='batch', status='completed', cancelled_at=None, cancelling_at=None, completed_at=1739035576, error_file_id='file-XL6Lmnqy8UpqevZo9rFP8h', errors=None, expired_at=None, expires_at=1739121269, failed_at=None, finalizing_at=1739035575, in_progress_at=1739034870, metadata={'description': 'batch_0'}, output_file_id=None, request_counts=BatchRequestCounts(completed=0, failed=9, total=9))\n",
      "Batch(id='batch_67a7908541ac8190829731f485e461c6', completion_window='24h', created_at=1739034757, endpoint='/v1/chat/completions', input_file_id='file-MQ3iMhcG37t6GYQLKxaWkM', object='batch', status='completed', cancelled_at=None, cancelling_at=None, completed_at=1739035393, error_file_id='file-BEa9eyUybmGcaA7ZEL1mTA', errors=None, expired_at=None, expires_at=1739121157, failed_at=None, finalizing_at=1739035383, in_progress_at=1739034757, metadata={'description': 'batch_0'}, output_file_id=None, request_counts=BatchRequestCounts(completed=0, failed=9, total=9))\n",
      "Batch(id='batch_67a79044cb50819098590e0a667ade0e', completion_window='24h', created_at=1739034692, endpoint='/v1/chat/completions', input_file_id='file-XT2VUEZ51SyRYwfqqyVVXW', object='batch', status='completed', cancelled_at=None, cancelling_at=None, completed_at=1739034701, error_file_id='file-M9P39VqRdEhnDMXiCyWCi7', errors=None, expired_at=None, expires_at=1739121092, failed_at=None, finalizing_at=1739034700, in_progress_at=1739034693, metadata={'description': 'batch_0'}, output_file_id=None, request_counts=BatchRequestCounts(completed=0, failed=1, total=1))\n"
     ]
    },
    {
     "name": "stderr",
     "output_type": "stream",
     "text": [
      "2025-02-09 00:50:46,749 - INFO - HTTP Request: GET https://api.openai.com/v1/batches?limit=10&after=batch_67a79044cb50819098590e0a667ade0e \"HTTP/1.1 200 OK\"\n"
     ]
    }
   ],
   "source": [
    "for batch in client.batches.list(limit=10):\n",
    "    print(batch)"
   ]
  },
  {
   "cell_type": "code",
   "execution_count": 8,
   "metadata": {},
   "outputs": [
    {
     "name": "stderr",
     "output_type": "stream",
     "text": [
      "2025-02-09 01:09:46,095 - INFO - HTTP Request: GET https://api.openai.com/v1/files/file-Sv62sjjz9HMzCEcsYQ6dxf/content \"HTTP/1.1 200 OK\"\n"
     ]
    },
    {
     "name": "stdout",
     "output_type": "stream",
     "text": [
      "{\"id\": \"batch_req_67a7977a843481909962a9482a02aae7\", \"custom_id\": \"5413b90f-85c4-41c2-a7c5-47324bfd44d9\", \"response\": {\"status_code\": 200, \"request_id\": \"b6782603ceefd1c7168ff094360b254b\", \"body\": {\"id\": \"chatcmpl-Ayj3jSFcjIJywAGxLRB7ZjkC2t49P\", \"object\": \"chat.completion\", \"created\": 1739036251, \"model\": \"gpt-4o-mini-2024-07-18\", \"choices\": [{\"index\": 0, \"message\": {\"role\": \"assistant\", \"content\": \"To fulfill the request for the debt-to-equity ratio of VCB, BID, and CTG in 2023, broken down by quarter, and also compare this data to their respective industry averages, I'll create a query that fetches the following necessary information:\\n\\n1. **Debt-to-Equity Ratio** for each company.\\n2. **Industry Average Debt-to-Equity Ratio** for 2023.\\n3. Provide detailed output with relevant columns for clarity.\\n\\nThe steps to construct the SQL query are as follows:\\n\\n- First, we will select the debt-to-equity ratio (`DTER`) for VCB, BID, and CTG in the specified year and quarter.\\n- Next, to find the industry averages, we'll need to aggregate the quarterly debt-to-equity ratios for all banks in 2023.\\n- Finally, I'll combine both sets of data, ensuring that we are only including the relevant columns.\\n\\nHere\\u2019s how the SQL query is structured based on the database schema and the task requirements:\\n\\n```sql\\n-- ### Debt-to-Equity Ratio for VCB, BID, CTG in 2023 and their Industry Averages\\nWITH company_ratios AS (\\n    SELECT \\n        stock_code,\\n        year,\\n        quarter,\\n        ratio_code,\\n        data AS debt_to_equity_ratio\\n    FROM \\n        financial_ratio\\n    WHERE \\n        ratio_code = 'DTER'  -- Debt To Equity Ratio\\n        AND stock_code IN ('VCB', 'BID', 'CTG')  -- Selected companies\\n        AND date_added BETWEEN '2023-01-01' AND '2023-12-31'  -- Year 2023\\n        AND quarter != 0  -- Exclude annual data\\n),\\nindustry_average AS (\\n    SELECT \\n        industry,\\n        year,\\n        quarter,\\n        ratio_code,\\n        AVG(data) AS industry_avg_debt_to_equity_ratio\\n    FROM \\n        financial_ratio\\n    JOIN \\n        company_info ON financial_ratio.stock_code = company_info.stock_code\\n    WHERE \\n        ratio_code = 'DTER'  -- Debt To Equity Ratio\\n        AND year = 2023\\n        AND quarter != 0  -- Exclude annual data\\n    GROUP BY \\n        industry, year, quarter, ratio_code\\n)\\nSELECT \\n    c.stock_code,\\n    ci.industry,\\n    c.year,\\n    c.quarter,\\n    c.debt_to_equity_ratio,\\n    ia.industry_avg_debt_to_equity_ratio\\nFROM \\n    company_ratios c\\nJOIN \\n    company_info ci ON c.stock_code = ci.stock_code\\nLEFT JOIN \\n    industry_average ia ON ci.industry = ia.industry AND c.year = ia.year AND c.quarter = ia.quarter\\nORDER BY \\n    c.stock_code, c.quarter;\\n```\\n\\n### Explanation of the Query Structure:\\n- Two Common Table Expressions (CTEs) are used:\\n  - `company_ratios`: Retrieves the debt-to-equity ratio for the companies of interest in 2023.\\n  - `industry_average`: Computes the average debt-to-equity ratio for the banking industry in 2023.\\n- The final SELECT combines the data from these CTEs, providing the stock code, industry, year, quarter, the specific company's debt-to-equity ratio, and the corresponding industry average ratio.\\n- Order the results for better readability by company and quarter.\\n\\nThis structured approach ensures that we are complying with the database schema while providing the requested financial data in a clear and informative manner.\", \"refusal\": null}, \"logprobs\": null, \"finish_reason\": \"stop\"}], \"usage\": {\"prompt_tokens\": 2976, \"completion_tokens\": 720, \"total_tokens\": 3696, \"prompt_tokens_details\": {\"cached_tokens\": 0, \"audio_tokens\": 0}, \"completion_tokens_details\": {\"reasoning_tokens\": 0, \"audio_tokens\": 0, \"accepted_prediction_tokens\": 0, \"rejected_prediction_tokens\": 0}}, \"service_tier\": \"default\", \"system_fingerprint\": \"fp_72ed7ab54c\"}}, \"error\": null}\n",
      "{\"id\": \"batch_req_67a7977a94308190adac279074e013cb\", \"custom_id\": \"39f2d4b7-8996-44e5-98ae-3c9f9f8cc618\", \"response\": {\"status_code\": 200, \"request_id\": \"4612bf071f093de6d4188081ae8d1679\", \"body\": {\"id\": \"chatcmpl-Ayj3L5Y4Spx7vHuU3mLWra3HJaBCa\", \"object\": \"chat.completion\", \"created\": 1739036227, \"model\": \"gpt-4o-mini-2024-07-18\", \"choices\": [{\"index\": 0, \"message\": {\"role\": \"assistant\", \"content\": \"To compare the year-over-year growth in operating income and net income for FPT, MWG, and PNJ from 2020 to Q3 2024, we will create a query that retrieves the relevant financial data. \\n\\nWe'll need to gather data for operating income and net income using the mapping for `category_code` relevant to these metrics. Operating income corresponds to `IS_060` (Net profit from operating activities) and net income corresponds to `IS_100` (Profit after corporate income tax). \\n\\nOur SQL query will look like this:\\n\\n```sql\\n-- ### Year-over-Year Growth Comparison for Operating Income and Net Income for FPT, MWG, and PNJ from 2020 to Q3 2024\\nWITH operating_income_2020 AS (\\n    SELECT \\n        stock_code,\\n        data AS operating_income_2020\\n    FROM \\n        financial_statement\\n    WHERE \\n    \\tcategory_code = 'IS_060'  -- Net profit from operating activities\\n        AND date_added BETWEEN '2020-01-01' AND '2020-12-31'  -- Annual data for 2020\\n),\\nnet_income_2020 AS (\\n    SELECT \\n        stock_code,\\n        data AS net_income_2020\\n    FROM \\n        financial_statement\\n    WHERE \\n    \\tcategory_code = 'IS_100'  -- Profit after corporate income tax\\n        AND date_added BETWEEN '2020-01-01' AND '2020-12-31'  -- Annual data for 2020\\n),\\noperating_income_2024_q3 AS (\\n    SELECT \\n        stock_code,\\n        data AS operating_income_2024_q3\\n    FROM \\n        financial_statement\\n    WHERE \\n    \\tcategory_code = 'IS_060'  -- Net profit from operating activities\\n        AND date_added BETWEEN '2024-07-01' AND '2024-09-30'  -- Q3 data for 2024\\n),\\nnet_income_2024_q3 AS (\\n    SELECT \\n        stock_code,\\n        data AS net_income_2024_q3\\n    FROM \\n        financial_statement\\n    WHERE \\n    \\tcategory_code = 'IS_100'  -- Profit after corporate income tax\\n        AND date_added BETWEEN '2024-07-01' AND '2024-09-30'  -- Q3 data for 2024\\n)\\nSELECT \\n    o20.stock_code,\\n    'N/A' AS industry,\\n    CAST( ((o24.operating_income_2024_q3 - o20.operating_income_2020) / NULLIF(o20.operating_income_2020, 0)) * 100 AS numeric) AS operating_income_growth_rate,\\n    CAST( ((n24.net_income_2024_q3 - n20.net_income_2020) / NULLIF(n20.net_income_2020, 0)) * 100 AS numeric) AS net_income_growth_rate\\nFROM \\n    operating_income_2020 o20\\nJOIN \\n    operating_income_2024_q3 o24 ON o20.stock_code = o24.stock_code\\nJOIN \\n    net_income_2020 n20 ON o20.stock_code = n20.stock_code\\nJOIN \\n    net_income_2024_q3 n24 ON n20.stock_code = n24.stock_code\\nWHERE \\n    o20.stock_code IN ('FPT', 'MWG', 'PNJ');\\n\\n```\\n\\n### Explanation of the SQL Query:\\n- We create common table expressions (CTEs) to select the operating and net income for the specified years and stock codes.\\n- The `operating_income_2020` and `net_income_2020` CTEs select annual data for 2020.\\n- The `operating_income_2024_q3` and `net_income_2024_q3` CTEs select quarter data for Q3 2024.\\n- In the final select statement, we compute the growth rates by comparing the income values from 2020 to Q3 2024.\\n- The condition includes only the specified companies: FPT, MWG, and PNJ.\\n\\n### Result Columns\\n- `stock_code`: The trading symbol of the companies.\\n- `industry`: Currently set as \\u2018N/A\\u2019 since we didn't retrieve that data.\\n- `operating_income_growth_rate`: The percentage growth rate for operating income.\\n- `net_income_growth_rate`: The percentage growth rate for net income.\\n\\nThis will provide a clear view in comparing the growth rates between the two time periods for the companies specified.\", \"refusal\": null}, \"logprobs\": null, \"finish_reason\": \"stop\"}], \"usage\": {\"prompt_tokens\": 3095, \"completion_tokens\": 935, \"total_tokens\": 4030, \"prompt_tokens_details\": {\"cached_tokens\": 0, \"audio_tokens\": 0}, \"completion_tokens_details\": {\"reasoning_tokens\": 0, \"audio_tokens\": 0, \"accepted_prediction_tokens\": 0, \"rejected_prediction_tokens\": 0}}, \"service_tier\": \"default\", \"system_fingerprint\": \"fp_72ed7ab54c\"}}, \"error\": null}\n",
      "{\"id\": \"batch_req_67a7977aa5f08190be03bc138cea47ab\", \"custom_id\": \"4429b8ac-ce3d-43e6-b8e3-13e7e47f37b5\", \"response\": {\"status_code\": 200, \"request_id\": \"734ec10cec7f7ecff989ddbb42d6b2f8\", \"body\": {\"id\": \"chatcmpl-Ayj3Pr14aHVtNepxJbexM4C1y2nev\", \"object\": \"chat.completion\", \"created\": 1739036231, \"model\": \"gpt-4o-mini-2024-07-18\", \"choices\": [{\"index\": 0, \"message\": {\"role\": \"assistant\", \"content\": \"To retrieve the breakdown of current assets and current liabilities for HPG, VHM, and MSN as of the end of Q2 2022 and Q2 2023, and to compute their current and quick ratios for both periods, we can construct the following SQL queries. \\n\\n### SQL Query Step-by-Step\\n1. **Select from financial_statement**: We'll be fetching data from the `financial_statement` table for specific category codes that relate to current assets and current liabilities.\\n  \\n2. **Specify stock codes**: The stock codes will be filtered to include only HPG, VHM, and MSN.\\n\\n3. **Quarterly Data**: We're interested in Q2 of both 2022 and 2023, which corresponds to quarter = 2.\\n\\n4. **Current Assets and Liabilities**: The relevant category codes for our needs based on the mapping:\\n   - Current Assets: `BS_100`, `BS_161`, `BS_170`, `BS_140`, `BS_173`\\n   - Current Liabilities: `BS_310`, `BS_330`\\n\\n5. **Current and Quick Ratios**: We need to programatically calculate current and quick ratios but for this specific task, we will fetch relevant data since we will cite defined ratios for current and quick ratio in financial_ratio table:\\n   - Current Ratio (CR) and Quick Ratio (QR).\\n  \\n6. **Date Filter**: We filter records for Q2 2022 (`2022-06-30`) and Q2 2023 (`2023-06-30`).\\n\\n7. **Table to structure our queries**: We'll create a structured and informative query with results labeled and categorized properly for clarity.\\n\\n### Here is the complete SQL query:\\n\\n```sql\\n-- ### Breakdown of Current Assets and Current Liabilities for HPG, VHM, and MSN for Q2 2022 and Q2 2023\\nSELECT\\n    stock_code,\\n    year,\\n    quarter,\\n    category_code,\\n    data\\nFROM\\n    financial_statement\\nWHERE\\n    stock_code IN ('HPG', 'VHM', 'MSN')\\n    AND (\\n        (year = 2022 AND quarter = 2)\\n        OR (year = 2023 AND quarter = 2)\\n    )\\n    AND category_code IN ('BS_100', 'BS_161', 'BS_170', 'BS_140', 'BS_173', 'BS_310', 'BS_330')\\nORDER BY\\n    stock_code, year, quarter, category_code\\nLIMIT 100; -- Adjust limit as needed for more rows\\n```\\n\\n### Additional Query for Ratios:\\nAfter gathering the asset and liability data, we also need to extract the current and quick ratios recorded in `financial_ratio` for the same periods:\\n\\n```sql\\n-- ### Current and Quick Ratios for HPG, VHM, and MSN for Q2 2022 and Q2 2023\\nSELECT\\n    stock_code,\\n    year,\\n    quarter,\\n    ratio_code,\\n    data\\nFROM\\n    financial_ratio\\nWHERE\\n    stock_code IN ('HPG', 'VHM', 'MSN')\\n    AND (\\n        (year = 2022 AND quarter = 2)\\n        OR (year = 2023 AND quarter = 2)\\n    )\\n    AND ratio_code IN ('CurrentR', 'QR')\\nORDER BY\\n    stock_code, year, quarter, ratio_code\\nLIMIT 100; -- Adjust limit as needed for more rows\\n```\\n\\n### Explanation of Notable Changes:\\nTo analyze notable changes, one can compare the values retrieved from both queries, focusing on differences in assets, liabilities, and ratios over the specified periods (Q2 2022 vs Q2 2023). \\n\\nSuch analysis would typically be done outside SQL after retrieving specified data, particularly to facilitate interpretation and drawing insights based on changes observed in financial health indicators, such as current and quick ratios.\", \"refusal\": null}, \"logprobs\": null, \"finish_reason\": \"stop\"}], \"usage\": {\"prompt_tokens\": 3047, \"completion_tokens\": 807, \"total_tokens\": 3854, \"prompt_tokens_details\": {\"cached_tokens\": 0, \"audio_tokens\": 0}, \"completion_tokens_details\": {\"reasoning_tokens\": 0, \"audio_tokens\": 0, \"accepted_prediction_tokens\": 0, \"rejected_prediction_tokens\": 0}}, \"service_tier\": \"default\", \"system_fingerprint\": \"fp_72ed7ab54c\"}}, \"error\": null}\n",
      "{\"id\": \"batch_req_67a7977ab9b08190a438aebe184ce34b\", \"custom_id\": \"97b3bdf8-0221-4a40-91c6-bffd3c5e1bf2\", \"response\": {\"status_code\": 200, \"request_id\": \"f9279a128f88e9afb2c50ebc06d29000\", \"body\": {\"id\": \"chatcmpl-Ayj39LxfX6rkTBIiNo5yoG6RVa1QT\", \"object\": \"chat.completion\", \"created\": 1739036215, \"model\": \"gpt-4o-mini-2024-07-18\", \"choices\": [{\"index\": 0, \"message\": {\"role\": \"assistant\", \"content\": \"To analyze the trend in return on assets (ROA) and return on equity (ROE) for VJC, GAS, and VRE from 2020 through Q3 2024, we need to gather both the ROA and ROE data for those specific companies over the specified time period. We'll use the `financial_ratio` table to extract the relevant data using their stock codes and the desired ratio codes.\\n\\nHere is how we can construct the SQL query step-by-step:\\n\\n1. **Select Required Columns:** We need stock_code, year, quarter, ratio_code, and data.\\n\\n2. **Filter by Stock Codes:** Only include data for VJC, GAS, and VRE.\\n\\n3. **Filter by Ratio Codes:** Ensure we are selecting both ROA and ROE.\\n\\n4. **Date Range Filtering:** We will filter the data to be between January 1, 2020, and September 30, 2024, and ensure we are selecting only quarterly data (quarter != 0).\\n\\n5. **Organize the Output:** Ensure the output is well-structured for the analysis.\\n\\nConsidering all the above points, here is the final SQL query:\\n\\n```sql\\n-- ### ROA and ROE Trends for VJC, GAS, and VRE from 2020 to Q3 2024\\nSELECT \\n    stock_code,\\n    year,\\n    quarter,\\n    ratio_code,\\n    data\\nFROM \\n    financial_ratio\\nWHERE \\n    stock_code IN ('VJC', 'GAS', 'VRE')\\n    AND ratio_code IN ('ROA', 'ROE')\\n    AND date_added BETWEEN '2020-01-01' AND '2024-09-30'\\n    AND quarter != 0\\nORDER BY \\n    stock_code, \\n    year, \\n    quarter\\nLIMIT 100;\\n```\\n\\nThis query will return the desired data for the specified companies and ratios, allowing for a trend analysis on their profitability and efficiency.\", \"refusal\": null}, \"logprobs\": null, \"finish_reason\": \"stop\"}], \"usage\": {\"prompt_tokens\": 3098, \"completion_tokens\": 401, \"total_tokens\": 3499, \"prompt_tokens_details\": {\"cached_tokens\": 0, \"audio_tokens\": 0}, \"completion_tokens_details\": {\"reasoning_tokens\": 0, \"audio_tokens\": 0, \"accepted_prediction_tokens\": 0, \"rejected_prediction_tokens\": 0}}, \"service_tier\": \"default\", \"system_fingerprint\": \"fp_72ed7ab54c\"}}, \"error\": null}\n",
      "{\"id\": \"batch_req_67a7977ad4fc8190aa666a912db7a6f1\", \"custom_id\": \"59c5b993-b487-4636-89e8-e6ab3f9cc640\", \"response\": {\"status_code\": 200, \"request_id\": \"ae0078238c6a47cd2a8cf5388140b4f8\", \"body\": {\"id\": \"chatcmpl-Ayj3lFRPKOc2gywW0uOqp7wkc7vLF\", \"object\": \"chat.completion\", \"created\": 1739036253, \"model\": \"gpt-4o-mini-2024-07-18\", \"choices\": [{\"index\": 0, \"message\": {\"role\": \"assistant\", \"content\": \"To address the task of analyzing the composition of long-term debt for the companies NVL, DXG, and KDH in 2021 and 2022, we need to focus on the relevant category codes that pertain to long-term debt, which include:\\n\\n- BS_125: (Bank) Loans to customers \\n- BS_341: (Securities) Long-term issued bonds\\n- BS_354: Long-term provisions\\n- Bank_TM_74: Long-term loans \\n- Share_TM_5: Bonds issued\\n\\n### SQL Query\\nConsidering the data should be fetched for the years 2021 and 2022, and ensuring to include data related to long-term debts for the specified companies, the SQL query would be as follows:\\n\\n```sql\\n-- ### Financial Statement and Explanation of Long-Term Debt for NVL, DXG, and KDH in 2021 and 2022\\nSELECT \\n    stock_code,\\n    year,\\n    quarter,\\n    category_code,\\n    data\\nFROM \\n    financial_statement\\nWHERE \\n    stock_code IN ('NVL', 'DXG', 'KDH') -- Focusing on the specified companies\\n    AND year IN (2021, 2022) -- For the years 2021 and 2022\\n    AND quarter != 0 -- Avoiding annual data\\n    AND category_code IN ('BS_125', 'BS_341', 'BS_354', 'Bank_TM_74', 'Share_TM_5') -- Specified long-term debt category codes\\nORDER BY \\n    year, stock_code\\nLIMIT 100; -- Limiting the result to the first 100 entries\\n```\\n\\nThis query fetches the necessary data about long-term debts for NVL, DXG, and KDH in 2021 and 2022, ensuring we gather only relevant quarter information while focusing on specific long-term debt accounts, which are crucial for analyzing how the reliance on these financing sources has changed over this stated period.\", \"refusal\": null}, \"logprobs\": null, \"finish_reason\": \"stop\"}], \"usage\": {\"prompt_tokens\": 2977, \"completion_tokens\": 404, \"total_tokens\": 3381, \"prompt_tokens_details\": {\"cached_tokens\": 0, \"audio_tokens\": 0}, \"completion_tokens_details\": {\"reasoning_tokens\": 0, \"audio_tokens\": 0, \"accepted_prediction_tokens\": 0, \"rejected_prediction_tokens\": 0}}, \"service_tier\": \"default\", \"system_fingerprint\": \"fp_72ed7ab54c\"}}, \"error\": null}\n",
      "{\"id\": \"batch_req_67a7977ae9dc8190b289099a3f34387a\", \"custom_id\": \"13c51405-62e6-464d-b7df-26149455e2f6\", \"response\": {\"status_code\": 200, \"request_id\": \"e622b1fcc4e6ef3567b0a4fe63eec3da\", \"body\": {\"id\": \"chatcmpl-Ayj3fvIeruipNiLminZubsRG3v8GX\", \"object\": \"chat.completion\", \"created\": 1739036247, \"model\": \"gpt-4o-mini-2024-07-18\", \"choices\": [{\"index\": 0, \"message\": {\"role\": \"assistant\", \"content\": \"To address the query regarding the evolution of the asset turnover ratio (TAT) of REE, VPI, and BCM from 2020 to Q3 2024, I will formulate a SQL query that retrieves the relevant data. \\n\\n### Analyzing the Query:\\n1. **Stock Codes**: The companies we are interested in are REE, VPI, and BCM.\\n2. **Ratio**: The specific financial ratio we are retrieving is the Total Asset Turnover (TAT).\\n3. **Date Range**: The analysis spans from the beginning of 2020 to the end of Q3 2024 (i.e., until September 30, 2024).\\n4. **Quarter Clause**: Since TAT is a quarterly ratio, we need to ensure that the quarter in the result is not 0.\\n5. **Columns to Retrieve**: We will include stock_code, year, quarter, ratio_code (TAT), and data (the TAT value).\\n\\n### SQL Query Construction:\\nLet's now create the SQL query that meets the requirements specified.\\n\\n```sql\\n-- ### Total Asset Turnover Ratio for REE, VPI, and BCM from 2020 to Q3 2024\\nSELECT \\n    stock_code,\\n    year,\\n    quarter,\\n    ratio_code,\\n    data\\nFROM \\n    financial_ratio\\nWHERE \\n    stock_code IN ('REE', 'VPI', 'BCM') \\n    AND ratio_code = 'TAT' \\n    AND date_added BETWEEN '2020-01-01' AND '2024-09-30'\\n    AND quarter != 0\\nORDER BY \\n    stock_code, year, quarter\\nLIMIT 100;  -- Limit can be adjusted as needed\\n```\\n\\n### Explanation of the Query:\\n- The query selects relevant columns from the `financial_ratio` table to analyze the Total Asset Turnover ratio for the specified companies.\\n- It filters by the `stock_code` to include only REE, VPI, and BCM.\\n- It filters by `ratio_code` to ensure only the Total Asset Turnover ratio is selected.\\n- It uses a date range that covers all relevant quarters between January 1, 2020, and September 30, 2024, and ensures that the quarter is not 0 to avoid annual reports.\\n- The results are ordered by `stock_code`, `year`, and `quarter` for structured representation.\\n\\nThis SQL query aligns with your requirements and the schema of the database provided.\", \"refusal\": null}, \"logprobs\": null, \"finish_reason\": \"stop\"}], \"usage\": {\"prompt_tokens\": 3622, \"completion_tokens\": 511, \"total_tokens\": 4133, \"prompt_tokens_details\": {\"cached_tokens\": 0, \"audio_tokens\": 0}, \"completion_tokens_details\": {\"reasoning_tokens\": 0, \"audio_tokens\": 0, \"accepted_prediction_tokens\": 0, \"rejected_prediction_tokens\": 0}}, \"service_tier\": \"default\", \"system_fingerprint\": \"fp_72ed7ab54c\"}}, \"error\": null}\n",
      "{\"id\": \"batch_req_67a7977afd20819094d2ec4c8ffc092d\", \"custom_id\": \"f8f0ec4a-ac8f-43d5-87da-1993299dacaa\", \"response\": {\"status_code\": 200, \"request_id\": \"f99854d648e224ac5c43b9457032378c\", \"body\": {\"id\": \"chatcmpl-Ayj39OhZkW5wfZjXRaJQVv5H1l1GD\", \"object\": \"chat.completion\", \"created\": 1739036215, \"model\": \"gpt-4o-mini-2024-07-18\", \"choices\": [{\"index\": 0, \"message\": {\"role\": \"assistant\", \"content\": \"```sql\\n-- ### detailed_cash_flow_analysis_sab_pow_gvr_2021_2023\\nSELECT\\n    stock_code,\\n    year,\\n    quarter,\\n    category_code,\\n    data\\nFROM\\n    financial_statement\\nWHERE\\n    stock_code IN ('SAB', 'POW', 'GVR')\\n    AND year IN (2021, 2023)\\n    AND quarter != 0\\n    AND category_code IN ('CF_050', 'CF_070', 'CF_090')\\nLIMIT 100;\\n```\", \"refusal\": null}, \"logprobs\": null, \"finish_reason\": \"stop\"}], \"usage\": {\"prompt_tokens\": 3104, \"completion_tokens\": 109, \"total_tokens\": 3213, \"prompt_tokens_details\": {\"cached_tokens\": 0, \"audio_tokens\": 0}, \"completion_tokens_details\": {\"reasoning_tokens\": 0, \"audio_tokens\": 0, \"accepted_prediction_tokens\": 0, \"rejected_prediction_tokens\": 0}}, \"service_tier\": \"default\", \"system_fingerprint\": \"fp_72ed7ab54c\"}}, \"error\": null}\n",
      "{\"id\": \"batch_req_67a7977b0f20819087241662cdd36da2\", \"custom_id\": \"031fc32d-036f-4359-800a-01a8733c892c\", \"response\": {\"status_code\": 200, \"request_id\": \"ee023291a0289a3e9f2b5699265cd240\", \"body\": {\"id\": \"chatcmpl-Ayj3VoTRV7WJqqLj8m7zTWE216Ub0\", \"object\": \"chat.completion\", \"created\": 1739036237, \"model\": \"gpt-4o-mini-2024-07-18\", \"choices\": [{\"index\": 0, \"message\": {\"role\": \"assistant\", \"content\": \"To analyze the quick ratio for the specified banks (BID, CTG, VCB, MBB, and ACB) from 2020 to Q3 2024, we will focus on retrieving data from the `financial_ratio` table. The quick ratio, identified by the code 'QR', will be evaluated across the specified time frame. \\n\\nHere's the SQL query based on the provided requirements:\\n\\n```sql\\n-- ### quick_ratio_analysis_for_banks_from_2020_to_Q3_2024\\nSELECT \\n    fr.stock_code,\\n    EXTRACT(YEAR FROM fr.date_added) AS year,\\n    fr.quarter,\\n    fr.ratio_code,\\n    fr.data\\nFROM \\n    financial_ratio fr\\nWHERE \\n    fr.ratio_code = 'QR' -- Quick Ratio\\n    AND fr.stock_code IN ('BID', 'CTG', 'VCB', 'MBB', 'ACB')\\n    AND fr.date_added BETWEEN '2020-01-01' AND '2024-09-30'\\n    AND fr.quarter != 0\\nORDER BY \\n    fr.stock_code, year, fr.quarter\\nLIMIT 100;  -- Assuming we want to limit to the first 100 results\\n```\\n\\n### Explanation\\n- **Select Clause**: We retrieve the stock code, year's extracted value from `date_added`, quarter, ratio code, and ratio data for each of the specified banks.\\n- **From Clause**: We're pulling this information from the `financial_ratio` table.\\n- **Where Clause**: We filter for the quick ratio (QR), only include the specified stock codes, ensure the date falls within the desired range of January 1, 2020, to September 30, 2024, and exclude annual reports (by checking that `quarter` is not 0).\\n- **Ordering and Limiting**: The results are ordered by stock code, year, and quarter, and limited to 100 rows for efficiency.\\n  \\nThis query should yield the quick ratio for each specified bank over the desired period, which reflects their short-term liquidity and ability to meet immediate obligations.\", \"refusal\": null}, \"logprobs\": null, \"finish_reason\": \"stop\"}], \"usage\": {\"prompt_tokens\": 3034, \"completion_tokens\": 434, \"total_tokens\": 3468, \"prompt_tokens_details\": {\"cached_tokens\": 0, \"audio_tokens\": 0}, \"completion_tokens_details\": {\"reasoning_tokens\": 0, \"audio_tokens\": 0, \"accepted_prediction_tokens\": 0, \"rejected_prediction_tokens\": 0}}, \"service_tier\": \"default\", \"system_fingerprint\": \"fp_72ed7ab54c\"}}, \"error\": null}\n",
      "{\"id\": \"batch_req_67a7977b22448190abc99251920eb9ad\", \"custom_id\": \"72c1d1b0-7802-43fb-bf3c-95bc148ca930\", \"response\": {\"status_code\": 200, \"request_id\": \"38319d48390e54b88816f7e526c54885\", \"body\": {\"id\": \"chatcmpl-Ayj3clCapGDVot3JiDMMVrqmgJp6q\", \"object\": \"chat.completion\", \"created\": 1739036244, \"model\": \"gpt-4o-mini-2024-07-18\", \"choices\": [{\"index\": 0, \"message\": {\"role\": \"assistant\", \"content\": \"To calculate the debt-to-equity ratio for HPG, VHM, and GAS over the period from 2020 to Q3 2024, we will perform the following steps based on the provided instructions:\\n\\n1. **Identify the stock codes of the companies**: We know HPG, VHM, and GAS based on information provided.\\n   \\n2. **Identify the debt and equity category codes**: According to the mappings:\\n   - For TOTAL LIABILITIES AND EQUITY, we can use `BS_440`.\\n   - For DEBT, we will consider `BS_133` corresponding to Debt Purchases or similar accounts which refer to total liabilities.\\n   - For EQUITY, we can use `BS_400`.\\n\\n3. **Retrieve data from the `financial_statement` table** for the specified companies and time period while ensuring that we are filtering out the annual reports (quarter should not be 0).\\n\\n4. **Join the relevant data** to calculate the debt-to-equity ratio.\\n\\nBelow is the SQL query that matches these requirements:\\n\\n```sql\\n-- ### debt_to_equity_ratio_hpg_vhm_gas_2020_to_Q3_2024\\nWITH financial_data AS (\\n    SELECT \\n        stock_code,\\n        category_code,\\n        data \\n    FROM \\n        financial_statement \\n    WHERE \\n        (category_code = 'BS_133' OR category_code = 'BS_400' OR category_code = 'BS_440')\\n        AND stock_code IN ('HPG', 'VHM', 'GAS')\\n        AND date_added BETWEEN '2020-01-01' AND '2024-09-30'\\n        AND quarter != 0\\n)\\n\\n-- Calculating the Debt-to-Equity Ratio by summing up the liabilities and equity\\nSELECT \\n    fd.stock_code,\\n    SUM(CASE WHEN fd.category_code = 'BS_133' THEN fd.data ELSE 0 END) AS total_debt,\\n    SUM(CASE WHEN fd.category_code = 'BS_400' THEN fd.data ELSE 0 END) AS total_equity,\\n    (SUM(CASE WHEN fd.category_code = 'BS_133' THEN fd.data ELSE 0 END) / \\n     NULLIF(SUM(CASE WHEN fd.category_code = 'BS_400' THEN fd.data ELSE 0 END), 0)) AS debt_to_equity_ratio\\nFROM \\n    financial_data fd\\nGROUP BY \\n    fd.stock_code\\nORDER BY \\n    fd.stock_code\\nLIMIT 100;\\n```\\n\\n### Explanation:\\n- **CTE (Common Table Expression)**: `financial_data` pulls the required data for debts and equity for the specified stock codes within the required date range.\\n- **Aggregation**: The main query aggregates the total debt and total equity for each stock and calculates the debt-to-equity ratio. \\n- **NULLIF**: It ensures we do not divide by zero if equity sums to zero.\\n- **Ordering**: We order the results based on `stock_code` to keep the results organized.\\n\\nThis query will yield a dataset containing the stock codes, total debt, total equity, and the calculated debt-to-equity ratio for HPG, VHM, and GAS from 2020 to Q3 2024.\", \"refusal\": null}, \"logprobs\": null, \"finish_reason\": \"stop\"}], \"usage\": {\"prompt_tokens\": 3189, \"completion_tokens\": 664, \"total_tokens\": 3853, \"prompt_tokens_details\": {\"cached_tokens\": 0, \"audio_tokens\": 0}, \"completion_tokens_details\": {\"reasoning_tokens\": 0, \"audio_tokens\": 0, \"accepted_prediction_tokens\": 0, \"rejected_prediction_tokens\": 0}}, \"service_tier\": \"default\", \"system_fingerprint\": \"fp_72ed7ab54c\"}}, \"error\": null}\n",
      "\n"
     ]
    }
   ],
   "source": [
    "client = OpenAI()\n",
    "\n",
    "file_response = client.files.content(\"file-Sv62sjjz9HMzCEcsYQ6dxf\")\n",
    "print(file_response.text)"
   ]
  },
  {
   "cell_type": "code",
   "execution_count": 13,
   "metadata": {},
   "outputs": [],
   "source": [
    "with open('../data/gpt-4o-mini-test.jsonl', 'w') as f:\n",
    "    f.write(file_response.text)"
   ]
  },
  {
   "cell_type": "code",
   "execution_count": 14,
   "metadata": {},
   "outputs": [],
   "source": [
    "data = []\n",
    "with open('../data/gpt-4o-mini-test.jsonl') as f:\n",
    "    for line in f:\n",
    "        data.append(json.loads(line))"
   ]
  },
  {
   "cell_type": "markdown",
   "metadata": {},
   "source": [
    "## Check Reasoning chain"
   ]
  },
  {
   "cell_type": "code",
   "execution_count": 2,
   "metadata": {},
   "outputs": [],
   "source": [
    "import json\n",
    "import re"
   ]
  },
  {
   "cell_type": "code",
   "execution_count": 109,
   "metadata": {},
   "outputs": [],
   "source": [
    "data = []\n",
    "with open('../data/gemini-2.0-flash-thinking-exp-01-21__v3.jsonl') as f:\n",
    "    for line in f:\n",
    "        try:\n",
    "            data.append(json.loads(line))\n",
    "        except Exception as e:\n",
    "            print(e)\n"
   ]
  },
  {
   "cell_type": "code",
   "execution_count": 110,
   "metadata": {},
   "outputs": [],
   "source": [
    "old_data = []\n",
    "new_data = []\n",
    "\n",
    "for line in data:\n",
    "    if 'messages' in line and len(line['messages']) > 0:\n",
    "        new_data.append(line)\n",
    "    else:\n",
    "        old_data.append(line)"
   ]
  },
  {
   "cell_type": "code",
   "execution_count": 111,
   "metadata": {},
   "outputs": [
    {
     "data": {
      "text/plain": [
       "(0, 1765)"
      ]
     },
     "execution_count": 111,
     "metadata": {},
     "output_type": "execute_result"
    }
   ],
   "source": [
    "len(old_data), len(new_data)"
   ]
  },
  {
   "cell_type": "code",
   "execution_count": 112,
   "metadata": {},
   "outputs": [
    {
     "data": {
      "text/plain": [
       "1740"
      ]
     },
     "execution_count": 112,
     "metadata": {},
     "output_type": "execute_result"
    }
   ],
   "source": [
    "new_non_empty_data = []\n",
    "for line in new_data:\n",
    "    flag_error = False\n",
    "    for msg in line['messages']:\n",
    "        content = msg['content']\n",
    "        role = msg['role']\n",
    "        if role == 'assistant' and content == '':\n",
    "            flag_error = True\n",
    "            break\n",
    "    if not flag_error:\n",
    "        new_non_empty_data.append(line)\n",
    "\n",
    "len(new_non_empty_data)"
   ]
  },
  {
   "cell_type": "code",
   "execution_count": 113,
   "metadata": {},
   "outputs": [
    {
     "data": {
      "text/plain": [
       "{'ids': '979b5f06-a16a-4a93-80d4-14f03d2942a5',\n",
       " 'date': '2025-02-12 09:43:34',\n",
       " 'question': 'What was the interest coverage ratio for VietinBank and Asia Commercial Bank in 2023?',\n",
       " 'table': '**Company Info**\\n\\n| stock_code | en_company_name | industry |\\n| --- | --- | --- |\\n| CTG | Vietnam Joint Stock Commercial Bank For Industry and Trade | Banking | \\n| ACB | Asia Commercial Joint Stock Bank | Banking | \\n\\n**ratio_code_mapping**\\n\\n| ratio_code | ratio_name |\\n| --- | --- |\\n| ICR | Interest Coverage Ratio | **SQL 1 Result: Get Interest Coverage Ratio for VietinBank and Asia Commercial Bank in 2023**\\n\\n| stock_code | year | quarter | ratio_code | data |\\n| --- | --- | --- | --- | --- |\\n| ACB | 2023 | 0 | ICR | 0.26724966595740657 | \\n| CTG | 2023 | 0 | ICR | 0.6865112300673836 | ',\n",
       " 'reasoning': \"### Decision: \\nYes\\n\\n### Reasoning:\\nThe previous SQL query successfully retrieved the Interest Coverage Ratio (ICR) for both VietinBank (CTG) and Asia Commercial Bank (ACB) for the year 2023, as shown in the SQL result table. The data returned includes the stock codes, year, quarter, ratio code, and the corresponding ICR data values for both banks. This aligns perfectly with the original task of finding the interest coverage ratio for these two banks in 2023. Therefore, the previous SQL query is correct and fully answers the user's request.\",\n",
       " 'sql': [],\n",
       " 'messages': [{'role': 'system',\n",
       "   'content': \"You are an expert in financial statement and database management. You will be asked to convert a natural language query into a SQL query. \\n### Database Description\\nYou're given database about the financial statments of top Vietnamese companies, either bank, cooperates and securities.\\n\\n<overall_description>\\n\\nAll the data in the financial statments are followed by the regulation of Vietnamese Accounting Standard (VAS). The English translations are followed by the International Financial Reporting Standards (IFRS).\\n\\nThere are 3 type of financial statments, based on VAS regulation: bank, non-bank corporation and securities firm (firms that provide stock options and financial instruments).\\nAll 3 type of reports are stored in one single table, and there will be a sight different between them.\\n\\nThe database includes two reporting periods for financial statements: quarterly and annually. Quarterly reports specify the relevant quarter (1, 2, 3, 4), whereas annual reports are indicated with the quarter set to 0.\\n\\n</overall_description>\\n\\nYou are given 10 tables in the database. Here are the detailed descriptions of them in PostgreSQL format:\\n\\n### PostgreSQL tables, with their properties\\n```sql \\n-- Table: company_info\\nCREATE TABLE company_info(\\n    stock_code VARCHAR(255) primary key, --The trading symbol.\\n    industry VARCHAR(255), --Current industry of company. \\n    exchange VARCHAR(255), -- The exchange where the stock is listed (e.g., HOSE, HNX)\\n    stock_indices VARCHAR(255), -- The stock index it belongs to (e.g., VN30, HNX30)\\n    is_bank BOOLEAN, --Bool checking whether the company is a bank or not.\\n    is_securities BOOLEAN, --Bool checking whether the company is a securities firm or not.\\n);\\n\\n-- Table: sub_and_shareholder\\nCREATE TABLE sub_and_shareholder(\\n    stock_code VARCHAR(255) NOT NULL, \\n    invest_on VARCHAR(255) NOT NULL, -- The company invested on (can be subsidiary)\\n    FOREIGN KEY (stock_code) REFERENCES company_info(stock_code),\\n    FOREIGN KEY (invest_on) REFERENCES company_info(stock_code),\\n    PRIMARY KEY (stock_code, invest_on) \\n);\\n\\n-- Table: map_category_code_universal: Mapping account table for Financial Statement\\nCREATE TABLE map_category_code_universal(\\n    category_code VARCHAR(255) primary key, --The unique code for accounts recorded.\\n    en_caption VARCHAR(255), --The Accounts (Caption) for the `category_code`.\\n);\\n\\n-- Table: financial_statement: Financial Statement data for each `stock_code`\\nCREATE TABLE financial_statement(\\n    stock_code VARCHAR(255) references company_info(stock_code),\\n    year int, -- The reported financial year\\n    quarter int, --  The quarter reported (contain value either 0, 1, 2, 3, 4). If the value is 0, that mean the report is for annual report.\\n    category_code VARCHAR(255) references map_category_code_universal(category_code),\\n    data float, -- The value of the recorded category (in Million VND)\\n    date_added timestamp -- The datetime when the data was published\\n);\\n\\n-- Table: industry_financial_statement: General report for each industry sector\\n\\nCREATE TABLE industry_financial_statement(\\n    industry VARCHAR(255), -- Same with industry in table `company_info`\\n    year int, \\n    quarter int,\\n    category_code VARCHAR(255) references map_category_code_universal(category_code),\\n    data_mean float, -- Mean value of every firm in that industry\\n    data_sun float, -- Total value of every firm in that industry\\n    date_added timestamp \\n);\\n\\n\\n-- Table map_category_code_ratio: Mapping ratio name for Financial Ratio\\nCREATE TABLE map_category_code_ratio(\\n    ratio_code VARCHAR(255) primary key,\\n    ratio_name VARCHAR(255)\\n);\\n\\n-- Table financial_ratio: This table will have pre-calculated common Ratio such as ROA, ROE, FCF, etc\\n-- Same structure as `financial_statement`\\nCREATE TABLE financial_ratio(\\n    ratio_code VARCHAR(255) references map_category_code_ratio(ratio_code),\\n    stock_code VARCHAR(255) references company_info(stock_code),\\n    year int,\\n    quarter int,\\n    data float, -- Either in Million VND if the ratio_code related to money, or ratio otherwise\\n    date_added timestamp\\n);\\n\\n-- Table: industry_financial_ratio: General ratio for each industry sector\\nCREATE TABLE industry_financial_ratio(\\n    industry VARCHAR(255),\\n    ratio_code VARCHAR(255) references map_category_code_ratio(ratio_code),\\n    year int,\\n    quarter int,\\n    data_mean float, \\n    date_added timestamp\\n);\\n\\n-- Table map_category_code_explaination\\nCREATE TABLE map_category_code_explaination(\\n    category_code VARCHAR(255) primary key, --The unique code for accounts recorded in the financial statements explaination part.\\n    en_caption VARCHAR(255), --The Accounts (Caption) for the `category_code`.\\n);\\n\\n-- Table financial_statement_explaination: This table will have detailed information which is not covered in 3 main reports of financial statment. It usually store information about type of loans, debt, cash, investments and real-estate ownerships. \\n-- Same structure as `financial_statement`\\nCREATE TABLE financial_statement_explaination(\\n    category_code VARCHAR(255) references map_category_code_explaination(category_code),\\n    stock_code VARCHAR(255) references company_info(stock_code),\\n    year int,\\n    quarter int,\\n    data float, \\n    date_added timestamp \\n);\\n```\\n\\n### Note on schema description: \\n- Each value in `category_code` includes a prefix indicating the report it pertains to: *BS* is Balance sheet, *IS* is for Income statement, *CF* is Cash flow and *TM* is for Explaination.\\n- For `category_code` in `map_category_code_explaination`, there are 4 additional prefix: *Crop*, *Bank* and *Sec* for specific account related to each type of organization (e.g: Bank_TM_66 for Standard Debt), and *Share* if the account type is similar across organizations (e.g: Share_TM_5 for Share Issued).\\n- The numerical parts in `category_code` share some account code from VAS standard. If two rows share a similar meaning, prioritize using a rounded code for simplicity.\\n- Some accounts (`en_caption`) are specific to either corporation, banks or securities firms, resulting in variations in the number of accounts across companies. Specialized account captions often include a prefix, such as *(Bank) Deposits at the Central Bank* (BS_112).\\n- The YoY ratio in `financial_ratio` only cover the rate related to the previous year (Q3-2023 to Q3-2022 or 2019 to 2020). You should recalculate the ratio if the time window is not 1 year.\\n\\n### Peek view of the schema\\n - `company_info`\\n\\n| stock_code | industry |  is_bank | is_securities | exchange | stock_indices |\\n|:----|:----|:----|:----|:----|:----|\\n| VIC | Real Estate | false | false | HOSE | VN30 |\\n\\n- `sub_and_shareholder`\\n\\n| stock_code | invest_on |\\n|:---|:---|\\n| MSN | TCB |\\n\\nExplain:\\nThis mean MSN is a shareholder of TCB. \\n\\n- `financial_statement`\\n\\n| stock_code | year | quarter | category_code | data | date_added |\\n|:----|:----|:----|:----|:----|:----|\\n| VCB | 2023 |  0 | BS_300 | 1839613.198 | 2023-12-30 |\\n| LPB | 2024 |  2 | CF_045 | 68522.835| 2024-06-30 |\\n| BID | 2024 |  1 | IS_014 | 5392.606 | 2024-03-30 |\\n\\n- `map_category_code_universal`\\n\\n|category_code|universal_caption|\\n|:----|:----|\\n|BS_100| (Balance sheet) A. CURRENT ASSETS |\\n\\n### Note on creating query:\\n- You can access the database by using\\n```sql\\nSELECT * FROM financial_statement\\n\\nLIMIT 10;\\n```\\n- For any financial ratio, it must be selected from the database rather than being calculated manually.\\n- Always include a `quarter` condition in your query.\\n- If not specified, assume the data pertains to annual reports, with the query defaulting to `quarter` = 0.\\n- When selecting data by quarter, ensure the `quarter` is not 0, and when selecting data by year, the `quarter` must be 0.\\n- Do not directly compare data between quarterly and annual financial reports.\\n- Always include a LIMIT clause in your query.\\n\\n### Regulation:   \\n- The result of the SQL query will be displayed in the <data> tag.\\n- Your should reasoning and provide the SQL query with explaination for the task in <task> and <instruction> tag.\\n- For <correction> tag, you only need to provide the SQL query if the previous SQL query is incorrect.\\n- For <reflection> tag, you dont need to provide the SQL query.\\n- Always return SQL query in the following format:\\n    ```sql\\n    {SQL query}\\n    ```\"},\n",
       "  {'role': 'user',\n",
       "   'content': \"Here is a natural language query that you need to convert into a SQL query:\\n\\n<task>\\n\\nWhat was the interest coverage ratio for VietinBank and Asia Commercial Bank in 2023?\\n\\n</task>\\n\\n### Company details\\n\\n<data>\\n\\n**Company Info**\\n\\n| stock_code | en_company_name | industry | is_bank | is_securities |\\n| --- | --- | --- | --- | --- |\\n| CTG | Vietnam Joint Stock Commercial Bank For Industry and Trade | Banking | True | False | \\n| ACB | Asia Commercial Joint Stock Bank | Banking | True | False | \\n| VIB | Viet Nam International Commercial Joint Stock Bank | Banking | True | False |\\n\\n</data>\\n\\n### Snapshot of the mapping table:\\n<data>\\n\\n**category_code_mapping**\\n\\n| category_code | en_caption |\\n| --- | --- |\\n| CF_001 | (Cash flow) Profit before tax | \\n| CF_007 | (Cash flow) Interest expenses | \\n| CF_020 | (Cash flow) Profit from business activities before changes in working capital | \\n| CF_039 | (Cash flow) Interest paid | \\n| IS_049 | (Income statement) Of which: Interest expenses | \\n| IS_050 | (Income statement) Financial expenses | \\n| IS_080 | (Income statement) Total profit before tax (Gross Income) | \\n| IS_150 | (Income statement) (Bank) Net Interest Income | \\n| Bank_TM_134 | (Explaination) Interest income and similar income | \\n| Corp_TM_134 | (Explaination) Interest income from deposits and loans | \\n| Corp_TM_144 | (Explaination) Loan interest | \\n| BS_142.1 | (Balance sheet) (Securities) Accrued dividends and interest due | \\n| BS_415 | (Balance sheet) Share premium |\\n\\n**ratio_code_mapping**\\n\\n| ratio_code | ratio_name |\\n| --- | --- |\\n| TIE | Time Interest Earned | \\n| EBIT | EBIT | \\n| CIC | Cash Interest Coverage | \\n| IBPGYoY | Income Before Provision Growth YoY | \\n| ICR | Interest Coverage Ratio |\\n\\n**industry**\\n\\n| industry |\\n| --- |\\n| Banking |\\n\\n</data>\\n\\n### Here are some examples of a query that you can refer to:\\n\\n<example>\\n\\n**Percentage of Customer Deposits in TCB Relative to Total Customer Deposits in All Banks for Q3 2024**\\n\\n```sql\\nWITH total_customer_deposits AS (\\n    SELECT \\n        data_sum,\\n        quarter,\\n        year,\\n        category_code\\n    FROM \\n        industry_financial_statement\\n    WHERE \\n        industry = 'Banking' \\n        AND year = 2024\\n        AND quarter = 3 -- Annual report\\n        AND category_code = 'BS_305' -- Customer deposits\\n),\\n\\ntcb_customer_deposits AS (\\n    SELECT \\n    \\tstock_code,\\n        data\\n    FROM \\n        financial_statement\\n    WHERE \\n        stock_code = 'TCB' -- TCB stock code\\n        AND year = 2024\\n        AND quarter = 3 -- Q3 2024\\n        AND category_code = 'BS_305' -- Customer deposits\\n)\\n\\nSELECT \\n\\ttcb.stock_code as stock_code,\\n    (tcb.data / total.data_sum) * 100 AS customer_deposits_percentage,\\n    total.year as year,\\n    total.quarter as quarter,\\n    total.category_code as category_code\\nFROM \\n    tcb_customer_deposits tcb,\\n    total_customer_deposits total;```\\n\\n**Total Equity of Bank in 2023**\\n\\n```sql\\nselect \\n\\tindustry,\\n\\tquarter,\\n\\tyear,\\n\\tcategory_code,\\n\\tdata_sum\\n\\nfrom industry_financial_statement\\n\\nwhere\\n\\tcategory_code = 'BS_400' -- Total Equity\\n\\tand year = 2023\\n\\tand quarter = 0\\n\\tand industry = 'Banking'```\\n\\n**ROA of MBBank in Q1 2023**\\n\\n```sql\\nSELECT\\n    stock_code,\\n    year,\\n    quarter,\\n    ratio_code,\\n    data\\nFROM financial_ratio\\nWHERE ratio_code = 'ROA'\\n  AND year = 2023\\n  AND quarter = 1\\n  AND stock_code = 'MBB'\\nLIMIT 100;```\\n\\n</example>\\n \\n<instruction>\\n\\nAnalyze the task step-by-step then return SQL query that match with the database schema.\\n\\nIf possible, the table result should have the following columns:\\n\\n- stock_code / industry\\n- year\\n- quarter\\n- category_code / stock_code\\n- data / data_mean / data_sum\\n\\nHowever, feel free to modify the table if needed.\\n\\n</instruction>\\n\\n### Note: \\n- Include the detailed suitable name (including datetime, industry, ...) for the table in the query in the following format:\\n\\n```sql\\n-- ### detailed_table_name\\n```\\n\\n- The `category_code` mapping table contain value of both `financial_statment` and `explaination` tables\\n- The user can only see the query results, so your name should be as informative as possible\\n- If the time is not mentioned, assume getting the current time (Q3 2024)\\n- Do not make any assumption about the account name. You can refer to the mapping table above to find the suitable account.\\n- The query must not contain column `ratio_name` or `en_caption`.\\n- If the question requires data within the quarter time range (from 2020 to Q3 2024), you should use the `date_added` instead of `year` and `quarter`, in the following format:\\n\\n```sql\\nWHERE date_added BETWEEN '2020-01-01' AND '2024-09-30' \\nAND quarter !=0\\n\\n-- Date added for each quarter:\\n-- - Q1: YYYY-03-30\\n-- - Q2: YYYY-06-30\\n-- - Q3: YYYY-09-30\\n-- - Q4: YYYY-12-30\\n-- - Q0: YYYY-12-30 (Annual data is add at the end of the year)\\n```\\n\\n- If the question requires data within annual data, you can use `year` column directly\\n\\nAnswer in the following format:\\n### Reasoning:\\n{Your reasoning}\\n### SQL Query:\\n{SQL query}\"},\n",
       "  {'role': 'assistant',\n",
       "   'content': '### Reasoning:\\nThe user is asking for the Interest Coverage Ratio for VietinBank (CTG) and Asia Commercial Bank (ACB) in 2023.\\nTo answer this question, we need to query the `financial_ratio` table.\\n- We know the `ratio_code` for \"Interest Coverage Ratio\" is \\'ICR\\' from the `map_category_code_ratio` table.\\n- We know the stock codes for VietinBank and Asia Commercial Bank are \\'CTG\\' and \\'ACB\\' respectively from the provided company details.\\n- The year is specified as 2023, and since no quarter is mentioned, we assume it\\'s for the annual report (quarter = 0).\\n\\nTherefore, we need to select data from the `financial_ratio` table where `ratio_code` is \\'ICR\\', `year` is 2023, `quarter` is 0, and `stock_code` is either \\'CTG\\' or \\'ACB\\'.\\n\\n### SQL Query:\\n```sql\\n-- ### Get Interest Coverage Ratio for VietinBank and Asia Commercial Bank in 2023\\nSELECT\\n    stock_code,\\n    year,\\n    quarter,\\n    ratio_code,\\n    data\\nFROM financial_ratio\\nWHERE ratio_code = \\'ICR\\'\\n  AND year = 2023\\n  AND quarter = 0\\n  AND stock_code IN (\\'CTG\\', \\'ACB\\')\\nLIMIT 10;\\n```'},\n",
       "  {'role': 'user',\n",
       "   'content': '<result>\\n\\n### SQL Result from previous query:\\n\\n**SQL 1 Result: Get Interest Coverage Ratio for VietinBank and Asia Commercial Bank in 2023**\\n\\n| stock_code | year | quarter | ratio_code | data |\\n| --- | --- | --- | --- | --- |\\n| ACB | 2023 | 0 | ICR | 0.26724966595740657 | \\n| CTG | 2023 | 0 | ICR | 0.6865112300673836 | \\n\\n\\n\\n</result>\\n\\n<correction>\\n\\nBased on the SQL table result in <result> tag, do you think the SQL queries is correct and can fully answer the original task? If there is no content on <result> tag, it means the preivous queries return nothing, which is incorrect.\\n\\nIf the previous SQL is not correct, return No under *Decision* heading, think step-by-step under *Reasoning* heading again and generate the correct SQL query under *SQL Query*.\\nOtherwise, you only need to return Yes under *Decision* heading. You must not provide the SQL query again.\\n\\nReturn in the following format (### SQL Query is optional):\\n\\n### Decision: \\n{Your decision}\\n\\n### Reasoning:\\n{Your reasoning}\\n\\n### SQL Query:\\n{Corrected SQL query}\\n\\n</correction>'},\n",
       "  {'role': 'assistant',\n",
       "   'content': \"### Decision: \\nYes\\n\\n### Reasoning:\\nThe previous SQL query successfully retrieved the Interest Coverage Ratio (ICR) for both VietinBank (CTG) and Asia Commercial Bank (ACB) for the year 2023, as shown in the SQL result table. The data returned includes the stock codes, year, quarter, ratio code, and the corresponding ICR data values for both banks. This aligns perfectly with the original task of finding the interest coverage ratio for these two banks in 2023. Therefore, the previous SQL query is correct and fully answers the user's request.\"}],\n",
       " 'duration': 8.001497507095337}"
      ]
     },
     "execution_count": 113,
     "metadata": {},
     "output_type": "execute_result"
    }
   ],
   "source": [
    "new_non_empty_data[4]"
   ]
  },
  {
   "cell_type": "code",
   "execution_count": 114,
   "metadata": {},
   "outputs": [],
   "source": [
    "perfect_reasoning = 0\n",
    "perfect_data = []\n",
    "for line in new_non_empty_data:\n",
    "    if len(line['messages']) == 5:\n",
    "        perfect_reasoning += 1\n",
    "        line['table'] = ''\n",
    "        line['messages'] = line['messages']\n",
    "        perfect_data.append(line)"
   ]
  },
  {
   "cell_type": "code",
   "execution_count": 115,
   "metadata": {},
   "outputs": [
    {
     "data": {
      "text/plain": [
       "1469"
      ]
     },
     "execution_count": 115,
     "metadata": {},
     "output_type": "execute_result"
    }
   ],
   "source": [
    "perfect_reasoning"
   ]
  },
  {
   "cell_type": "code",
   "execution_count": 116,
   "metadata": {},
   "outputs": [
    {
     "data": {
      "text/plain": [
       "''"
      ]
     },
     "execution_count": 116,
     "metadata": {},
     "output_type": "execute_result"
    }
   ],
   "source": [
    "perfect_data[345]['table']"
   ]
  },
  {
   "cell_type": "code",
   "execution_count": 117,
   "metadata": {},
   "outputs": [
    {
     "data": {
      "text/plain": [
       "[{'role': 'system',\n",
       "  'content': 'You are an expert in financial statement and database management. You will be asked to convert a natural language query into a SQL query. \\n### Database Description\\n<overall_description>\\n\\nThe database conatains financial statments of top Vietnamese firms, followed by the regulation of Vietnamese Accounting Standard (VAS). Based on VAS regulation, there are 3 type of financial statments: bank, corporation and securities firm, and there will be sight differences between them.\\n\\nThe database includes two reporting periods: quarterly and annually. Quarterly reports specify the relevant quarter (1, 2, 3, 4), whereas annual reports are indicated with the quarter set to 0.\\n\\n</overall_description>\\n\\n### PostgreSQL tables, with their properties\\n```sql \\n-- Table: company_info\\nCREATE TABLE company_info(\\n    stock_code VARCHAR(255) primary key, --The trading symbol.\\n    industry VARCHAR(255), \\n    exchange VARCHAR(255), -- The listed exchange of stock\\n    stock_indices VARCHAR(255), -- The stock index it belongs to (e.g., VN30, HNX30)\\n    is_bank BOOLEAN,\\n    is_securities BOOLEAN,\\n);\\n\\n--  /* Snapshot \\n\\n--  stock_code  industry  is_bank  is_securities  exchange  stock_indices \\n--   VIC  Real Estate  false  false  HOSE  VN30  \\n-- */\\n\\n-- Table: sub_and_shareholder\\nCREATE TABLE sub_and_shareholder(\\n    stock_code VARCHAR(255) NOT NULL, \\n    invest_on VARCHAR(255) NOT NULL, -- The company invested on (can be subsidiary)\\n    FOREIGN KEY (stock_code) REFERENCES company_info(stock_code),\\n    FOREIGN KEY (invest_on) REFERENCES company_info(stock_code),\\n    PRIMARY KEY (stock_code, invest_on) \\n);\\n\\n-- /*  MSN is a shareholder of TCB.\\n\\n-- stock_code  invest_on\\n-- MSN  TCB\\n-- */\\n\\n\\n-- Table: financial_statement: Financial Statement data for each `stock_code`\\nCREATE TABLE financial_statement(\\n    stock_code VARCHAR(255) references company_info(stock_code),\\n    year int, -- The reported financial year\\n    quarter int, --  The quarter reported (either 0, 1, 2, 3, 4). \\n    category_code VARCHAR(255),\\n    data float, -- in Million VND except ratio\\n    date_added timestamp\\n);\\n\\n-- /*\\n-- stock_code  year  quarter  category_code  data  date_added \\n--  VCB  2023   0  BS_300  1839613.198  2023-12-30 \\n--  LPB  2024   2  CF_045  68522.835  2024-06-30 \\n-- */\\n\\n-- Table: industry_financial_statement: General report for each industry sector\\n\\nCREATE TABLE industry_financial_statement(\\n    industry VARCHAR(255),\\n    year int, \\n    quarter int,\\n    category_code VARCHAR(255),\\n    data_mean float, -- Mean value of every firm in that industry\\n    data_sun float, -- Total value of every firm in that industry\\n    date_added timestamp \\n);\\n\\n-- Table financial_ratio: This table will have pre-calculated common Financial Ratio such as ROA, ROE, FCF, etc\\n-- Same structure as `financial_statement`\\nCREATE TABLE financial_ratio(\\n    ratio_code VARCHAR(255),\\n    stock_code VARCHAR(255) references company_info(stock_code),\\n    year int,\\n    quarter int,\\n    data float, -- Either in Million VND if money, or ratio otherwise\\n    date_added timestamp\\n)\\n\\n-- Table: industry_financial_ratio\\nCREATE TABLE industry_financial_ratio(\\n    industry VARCHAR(255),\\n    ratio_code VARCHAR(255),\\n    year int,\\n    quarter int,\\n    data_mean float, \\n    date_added timestamp\\n)\\n\\n-- Table financial_statement_explaination: Contain information which is not covered in 3 main reports. It usually stores information about type of loans, debt, cash, investments and real-estate ownerships. \\n\\n-- Same structure as `financial_statement`\\nCREATE TABLE financial_statement_explaination(\\n    category_code VARCHAR(255),\\n    stock_code VARCHAR(255) references company_info(stock_code),\\n    year int,\\n    quarter int,\\n    data float, \\n    date_added timestamp \\n)\\n```\\n\\n### Note on schema description: \\n- Each value in `category_code` includes a prefix indicating the report it pertains to: *BS* is Balance sheet, *IS* is for Income statement, *CF* is Cash flow and *TM* is for Explaination.\\n- For `category_code` in `financial_statement_explaination`, there are 4 additional prefix: *Crop*, *Bank*, *Sec* and *Share* for specific type of organization.\\n- With YoY ratio in `financial_ratio`, you should recalculate the ratio if the time window is not 1 year.\\n\\n### Note on creating query:\\n- You will be provided a mapping table with caption for `category_code` and `ratio_code`, and you are only allow to use that reference to select suitable code.\\n- For any financial ratio, it must be selected from the database rather than being calculated manually.\\n- If two rows share a similar meaning, using a rounded code.\\n- Always include a `quarter` condition in your query. If not specified, assume using annual reports, with the query defaulting to `quarter` = 0.\\n- Always include a LIMIT clause in your query.\\n\\n### Regulation:   \\n- The result of the SQL query will be displayed in the <data> tag.\\n- Your should reasoning and provide the SQL query with explaination for the task in <task> and <instruction> tag.\\n- For <correction> tag, you only need to provide the SQL query if the previous SQL query is incorrect.\\n- For <reflection> tag, you dont need to provide the SQL query.\\n- Always return SQL query in the following format:\\n    ```sql\\n    {SQL query}\\n    ```'},\n",
       " {'role': 'user',\n",
       "  'content': \"Here is a natural language query that you need to convert into a SQL query:\\n\\n<task>\\n\\nWhat is the current ratio for ACB for the year 2022, and how does it compare to the banking industry's average current ratio?\\n\\n</task>\\n\\n### Company details and Snapshot of the mapping table:\\n<data>\\n\\n**Company Info**\\n\\n| stock_code | en_company_name | industry | is_bank | is_securities |\\n| --- | --- | --- | --- | --- |\\n| ACB | Asia Commercial Joint Stock Bank | Banking | True | False | \\n| ABB | An Binh Commercial Joint Stock Bank | Banking | True | False |\\n\\n**category_code_mapping**\\n\\n| category_code | en_caption |\\n| --- | --- |\\n| BS_100 | (Balance sheet) A. CURRENT ASSETS | \\n| BS_161 | (Balance sheet) Current Inventories | \\n| BS_178 | (Balance sheet) Other current assets | \\n| BS_200 | (Balance sheet) B. NON-CURRENT ASSETS | \\n| BS_260 | (Balance sheet) Other non-current assets | \\n| BS_268 | (Balance sheet) (Other) Other non-current assets  | \\n| BS_300 | (Balance sheet) C. LIABILITIES | \\n| BS_310 | (Balance sheet) Current liabilities | \\n| BS_340 | (Balance sheet) Non-current liabilities | \\n| BS_142.1 | (Balance sheet) (Securities) Accrued dividends and interest due |\\n\\n**ratio_code_mapping**\\n\\n| ratio_code | ratio_name |\\n| --- | --- |\\n| CurrentR | Current Ratio | \\n| ROA | Return On Assets | \\n| ROFA | Return On Fixed Assets | \\n| CASA | Current Account Saving Account Ratio |\\n\\n**industry**\\n\\n| industry |\\n| --- |\\n| Banking |\\n\\n</data>\\n\\n### Example:\\n\\n<example>\\n\\n**Compare Return on Asset (ROA) of BIDV in 2019 with the average ROA of all banks in 2019**\\n\\n```sql\\n-- Get ROA of BIDV in 2019\\nWITH bidv_roa AS (\\n    SELECT \\n        fr.stock_code,\\n        fr.data AS roa_percentage\\n    FROM \\n        financial_ratio fr\\n    WHERE \\n        fr.stock_code = 'BID'\\n        AND fr.year = 2019\\n        AND fr.quarter = 0\\n        AND fr.ratio_code = 'ROA'\\n),\\n\\n-- Get average ROA of all banks in 2019\\naverage_roa AS (\\n    SELECT \\n        data_mean AS average_roa_percentage\\n    FROM \\n        industry_financial_ratio ifr\\n    WHERE \\n        ifr.year = 2019\\n        AND ifr.quarter = 0\\n        AND ifr.ratio_code = 'ROA'\\n        AND ifr.industry = 'Banking'\\n)\\n\\nSELECT \\n    b.stock_code,\\n    b.roa_percentage,\\n    a.average_roa_percentage\\nFROM \\n    bidv_roa b,\\n    average_roa a\\nLIMIT 1;```\\n\\n**Bad Debt ratio of banking industry from 2016 to 2023**\\n\\n```sql\\nselect \\n\\t\\tindustry,\\n\\t\\tratio_code,\\n\\t\\tyear,\\n\\t\\tquarter,\\n\\t\\tdata_mean\\n\\tfrom industry_financial_ratio\\n\\twhere \\n\\t\\tratio_code = 'BDR'  -- Bad Debt Ratio\\n\\t\\tand year between 2016 and 2023\\n\\t\\tand quarter = 0\\n\\t\\tand industry = 'Banking'```\\n\\n**Percentage of Customer Deposits in TCB Relative to Total Customer Deposits in All Banks for Q3 2024**\\n\\n```sql\\nWITH total_customer_deposits AS (\\n    SELECT \\n        data_sum,\\n        quarter,\\n        year,\\n        category_code\\n    FROM \\n        industry_financial_statement\\n    WHERE \\n        industry = 'Banking' \\n        AND year = 2024\\n        AND quarter = 3 -- Annual report\\n        AND category_code = 'BS_305' -- Customer deposits\\n),\\n\\ntcb_customer_deposits AS (\\n    SELECT \\n    \\tstock_code,\\n        data\\n    FROM \\n        financial_statement\\n    WHERE \\n        stock_code = 'TCB' -- TCB stock code\\n        AND year = 2024\\n        AND quarter = 3 -- Q3 2024\\n        AND category_code = 'BS_305' -- Customer deposits\\n)\\n\\nSELECT \\n\\ttcb.stock_code as stock_code,\\n    (tcb.data / total.data_sum) * 100 AS customer_deposits_percentage,\\n    total.year as year,\\n    total.quarter as quarter,\\n    total.category_code as category_code\\nFROM \\n    tcb_customer_deposits tcb,\\n    total_customer_deposits total;```\\n\\n</example>\\n \\n<instruction>\\n\\nAnalyze the task step-by-step and return suitable SQL query.\\n\\nIf possible, the table result should have the following columns:\\n\\n- stock_code / industry\\n- year\\n- quarter\\n- category_code / ratio_code\\n- data / data_mean / data_sum\\n\\nHowever, feel free to modify the table if needed.\\n\\n</instruction>\\n\\n### Note: \\n- Include the detailed name of the table in the query in the following format:\\n\\n```sql\\n-- ### detailed_table_name\\n```\\n- The query must not contain column `ratio_name` or `en_caption`.\\n- If the time is not mentioned, assume getting the current time (Q3 2024)\\n- Do not make any assumption about the account name. You must refer to the mapping table.\\n- If the question requires data within the quarter time range (from 2020 to Q3 2024), you should use the `date_added` in the following format:\\n\\n```sql\\nWHERE date_added BETWEEN '2020-01-01' AND '2024-09-30' \\nAND quarter !=0\\n\\n-- - Q1: YYYY-03-30\\n-- - Q2: YYYY-06-30\\n-- - Q3: YYYY-09-30\\n-- - Q4: YYYY-12-30\\n-- - Q0: YYYY-12-30 (Annual data)\\n```\\n\\nAnswer in the following format:\\n### Reasoning:\\n{Your reasoning}\\n### SQL Query:\\n{SQL query}\"},\n",
       " {'role': 'assistant',\n",
       "  'content': '### Reasoning:\\nThe user is asking for the current ratio of ACB bank for the year 2022 and wants to compare it with the average current ratio of the banking industry for the same year. To answer this question, we need to perform the following steps:\\n\\n1. **Find the `ratio_code` for \"Current Ratio\"**: Based on the `ratio_code_mapping` table, the `ratio_code` for \"Current Ratio\" is \\'CurrentR\\'.\\n2. **Retrieve the current ratio of ACB for 2022**: We need to query the `financial_ratio` table, filtering by `stock_code` as \\'ACB\\', `year` as 2022, `quarter` as 0 (for annual report), and `ratio_code` as \\'CurrentR\\'.\\n3. **Retrieve the average current ratio for the Banking industry in 2022**: We need to query the `industry_financial_ratio` table, filtering by `industry` as \\'Banking\\', `year` as 2022, `quarter` as 0, and `ratio_code` as \\'CurrentR\\'.\\n4. **Combine the results**: We will use two Common Table Expressions (CTEs) to get the current ratio for ACB and the average current ratio for the banking industry separately, and then join these CTEs to display the comparison.\\n\\n### SQL Query:\\n```sql\\n-- ### financial_ratio\\nWITH acb_current_ratio AS (\\n    SELECT \\n        fr.stock_code,\\n        fr.data AS acb_ratio\\n    FROM \\n        financial_ratio fr\\n    WHERE \\n        fr.stock_code = \\'ACB\\'\\n        AND fr.year = 2022\\n        AND fr.quarter = 0\\n        AND fr.ratio_code = \\'CurrentR\\'\\n),\\n-- ### industry_financial_ratio\\nindustry_avg_current_ratio AS (\\n    SELECT \\n        ifr.data_mean AS industry_ratio\\n    FROM \\n        industry_financial_ratio ifr\\n    WHERE \\n        ifr.industry = \\'Banking\\'\\n        AND ifr.year = 2022\\n        AND ifr.quarter = 0\\n        AND ifr.ratio_code = \\'CurrentR\\'\\n)\\nSELECT \\n    acr.stock_code,\\n    acr.acb_ratio,\\n    iacr.industry_ratio\\nFROM \\n    acb_current_ratio acr,\\n    industry_avg_current_ratio iacr\\nLIMIT 1;\\n```'},\n",
       " {'role': 'user',\n",
       "  'content': '<result>\\n\\n### SQL Result from previous query:\\n\\n**SQL 1 Result: financial_ratio**\\n\\n| stock_code | acb_ratio | industry_ratio |\\n| --- | --- | --- |\\n| ACB | 2.3743531990524347 | 2.749700617512528 | \\n\\n</result>\\n\\n<correction>\\n\\nBased on the SQL table result in <result> tag, do you think the SQL queries is correct and can fully answer the original task? If there is no content on <result> tag, it means the preivous queries return nothing, which is incorrect.\\n\\nIf the previous SQL is not correct, return No under *Decision* heading, think step-by-step under *Reasoning* heading again and generate the correct SQL query under *SQL Query*.\\nOtherwise, you only need to return Yes under *Decision* heading. You must not provide the SQL query again.\\n\\nReturn in the following format (### SQL Query is optional):\\n\\n### Decision: \\n{Your decision}\\n\\n### Reasoning:\\n{Your reasoning}\\n\\n### SQL Query:\\n{Corrected SQL query}\\n\\n</correction>'},\n",
       " {'role': 'assistant',\n",
       "  'content': \"### Decision: \\nYes\\n\\n### Reasoning:\\nThe previous SQL query successfully retrieved the current ratio for ACB in 2022 and the average current ratio for the banking industry in 2022, as shown in the SQL result. The result table includes 'stock_code', 'acb_ratio', and 'industry_ratio', which directly answers the user's request to find and compare these two values. Therefore, the previous SQL query is correct and fully answers the original task.\"}]"
      ]
     },
     "execution_count": 117,
     "metadata": {},
     "output_type": "execute_result"
    }
   ],
   "source": [
    "perfect_data[345]['messages']"
   ]
  },
  {
   "cell_type": "code",
   "execution_count": 118,
   "metadata": {},
   "outputs": [],
   "source": [
    "output_path = '../data/gemini-2.0-flash-thinking-exp-01-21__hard_v0_4_good.jsonl'\n",
    "with open(output_path, 'w') as f:\n",
    "    for line in perfect_data:\n",
    "        f.write(json.dumps(line) + '\\n')"
   ]
  },
  {
   "cell_type": "code",
   "execution_count": 119,
   "metadata": {},
   "outputs": [
    {
     "data": {
      "text/plain": [
       "{'ids': '1aa81eff-03fc-4ca0-a1da-7617d77c7165',\n",
       " 'date': '2025-02-12 18:13:32',\n",
       " 'question': 'Can you provide the Gross Profit Margin for VPBank and Techcombank for the year 2021?',\n",
       " 'table': '',\n",
       " 'reasoning': \"### Decision: \\nYes\\n\\n### Reasoning:\\nThe previous SQL query successfully retrieved the Gross Profit Margin (GPM) for both VPBank (VPB) and Techcombank (TCB) for the year 2021, as requested in the original task. The SQL result table confirms that data for 'GPM' is available for both stock codes ('TCB', 'VPB') in the year 2021 and quarter 0 (annual report). Thus, the query is correct and provides the answer to the user's request.\",\n",
       " 'sql': [],\n",
       " 'messages': [{'role': 'system',\n",
       "   'content': 'You are an expert in financial statement and database management. You will be asked to convert a natural language query into a SQL query. \\n### Database Description\\n<overall_description>\\n\\nThe database conatains financial statments of top Vietnamese firms, followed by the regulation of Vietnamese Accounting Standard (VAS). Based on VAS regulation, there are 3 type of financial statments: bank, corporation and securities firm, and there will be sight differences between them.\\n\\nThe database includes two reporting periods: quarterly and annually. Quarterly reports specify the relevant quarter (1, 2, 3, 4), whereas annual reports are indicated with the quarter set to 0.\\n\\n</overall_description>\\n\\n### PostgreSQL tables, with their properties\\n```sql \\n-- Table: company_info\\nCREATE TABLE company_info(\\n    stock_code VARCHAR(255) primary key, --The trading symbol.\\n    industry VARCHAR(255), \\n    exchange VARCHAR(255), -- The listed exchange of stock\\n    stock_indices VARCHAR(255), -- The stock index it belongs to (e.g., VN30, HNX30)\\n    is_bank BOOLEAN,\\n    is_securities BOOLEAN,\\n);\\n\\n--  /* Snapshot \\n\\n--  stock_code  industry  is_bank  is_securities  exchange  stock_indices \\n--   VIC  Real Estate  false  false  HOSE  VN30  \\n-- */\\n\\n-- Table: sub_and_shareholder\\nCREATE TABLE sub_and_shareholder(\\n    stock_code VARCHAR(255) NOT NULL, \\n    invest_on VARCHAR(255) NOT NULL, -- The company invested on (can be subsidiary)\\n    FOREIGN KEY (stock_code) REFERENCES company_info(stock_code),\\n    FOREIGN KEY (invest_on) REFERENCES company_info(stock_code),\\n    PRIMARY KEY (stock_code, invest_on) \\n);\\n\\n-- /*  MSN is a shareholder of TCB.\\n\\n-- stock_code  invest_on\\n-- MSN  TCB\\n-- */\\n\\n\\n-- Table: financial_statement: Financial Statement data for each `stock_code`\\nCREATE TABLE financial_statement(\\n    stock_code VARCHAR(255) references company_info(stock_code),\\n    year int, -- The reported financial year\\n    quarter int, --  The quarter reported (either 0, 1, 2, 3, 4). \\n    category_code VARCHAR(255),\\n    data float, -- in Million VND except ratio\\n    date_added timestamp\\n);\\n\\n-- /*\\n-- stock_code  year  quarter  category_code  data  date_added \\n--  VCB  2023   0  BS_300  1839613.198  2023-12-30 \\n--  LPB  2024   2  CF_045  68522.835  2024-06-30 \\n-- */\\n\\n-- Table: industry_financial_statement: General report for each industry sector\\n\\nCREATE TABLE industry_financial_statement(\\n    industry VARCHAR(255),\\n    year int, \\n    quarter int,\\n    category_code VARCHAR(255),\\n    data_mean float, -- Mean value of every firm in that industry\\n    data_sun float, -- Total value of every firm in that industry\\n    date_added timestamp \\n);\\n\\n-- Table financial_ratio: This table will have pre-calculated common Financial Ratio such as ROA, ROE, FCF, etc\\n-- Same structure as `financial_statement`\\nCREATE TABLE financial_ratio(\\n    ratio_code VARCHAR(255),\\n    stock_code VARCHAR(255) references company_info(stock_code),\\n    year int,\\n    quarter int,\\n    data float, -- Either in Million VND if money, or ratio otherwise\\n    date_added timestamp\\n)\\n\\n-- Table: industry_financial_ratio\\nCREATE TABLE industry_financial_ratio(\\n    industry VARCHAR(255),\\n    ratio_code VARCHAR(255),\\n    year int,\\n    quarter int,\\n    data_mean float, \\n    date_added timestamp\\n)\\n\\n-- Table financial_statement_explaination: Contain information which is not covered in 3 main reports. It usually stores information about type of loans, debt, cash, investments and real-estate ownerships. \\n\\n-- Same structure as `financial_statement`\\nCREATE TABLE financial_statement_explaination(\\n    category_code VARCHAR(255),\\n    stock_code VARCHAR(255) references company_info(stock_code),\\n    year int,\\n    quarter int,\\n    data float, \\n    date_added timestamp \\n)\\n```\\n\\n### Note on schema description: \\n- Each value in `category_code` includes a prefix indicating the report it pertains to: *BS* is Balance sheet, *IS* is for Income statement, *CF* is Cash flow and *TM* is for Explaination.\\n- For `category_code` in `financial_statement_explaination`, there are 4 additional prefix: *Crop*, *Bank*, *Sec* and *Share* for specific type of organization.\\n- With YoY ratio in `financial_ratio`, you should recalculate the ratio if the time window is not 1 year.\\n\\n### Note on creating query:\\n- You will be provided a mapping table with caption for `category_code` and `ratio_code`, and you are only allow to use that reference to select suitable code.\\n- For any financial ratio, it must be selected from the database rather than being calculated manually.\\n- If two rows share a similar meaning, using a rounded code.\\n- Always include a `quarter` condition in your query. If not specified, assume using annual reports, with the query defaulting to `quarter` = 0.\\n- Always include a LIMIT clause in your query.\\n\\n### Regulation:   \\n- The result of the SQL query will be displayed in the <data> tag.\\n- Your should reasoning and provide the SQL query with explaination for the task in <task> and <instruction> tag.\\n- For <correction> tag, you only need to provide the SQL query if the previous SQL query is incorrect.\\n- For <reflection> tag, you dont need to provide the SQL query.\\n- Always return SQL query in the following format:\\n    ```sql\\n    {SQL query}\\n    ```'},\n",
       "  {'role': 'user',\n",
       "   'content': \"Here is a natural language query that you need to convert into a SQL query:\\n\\n<task>\\n\\nCan you provide the Gross Profit Margin for VPBank and Techcombank for the year 2021?\\n\\n</task>\\n\\n### Company details and Snapshot of the mapping table:\\n<data>\\n\\n**Company Info**\\n\\n| stock_code | en_company_name | industry | is_bank | is_securities |\\n| --- | --- | --- | --- | --- |\\n| VCB | Joint Stock Commercial Bank For Foreign Trade Of Vietnam | Banking | True | False | \\n| VPB | Vietnam Prosperity Joint Stock Commercial Bank | Banking | True | False | \\n| TCB | Vietnam Technological And Commercial Joint Stock Bank | Banking | True | False | \\n| LPB | Fortune Vietnam Joint Stock Commercial Bank | Banking | True | False |\\n\\n**category_code_mapping**\\n\\n| category_code | en_caption |\\n| --- | --- |\\n| IS_001 | (Income statement) Revenue from sales and services rendered | \\n| IS_002 | (Income statement) Deductions from revenue | \\n| IS_020 | (Income statement) Net Revenue | \\n| IS_036 | (Income statement) Cost of goods sold | \\n| IS_040 | (Income statement) Gross profit from sales and services rendered | \\n| IS_052 | (Income statement) Selling expenses | \\n| IS_060 | (Income statement) Net profit from operating activities | \\n| IS_070 | (Income statement) Other profit/(loss) | \\n| IS_080 | (Income statement) Total profit before tax (Gross Income) | \\n| IS_081 | (Income statement) (Securities) Realized profit | \\n| IS_100 | (Income statement) Profit after corporate income tax (Net Income) | \\n| Corp_TM_23 | (Explaination) Finished goods | \\n| Corp_TM_25 | (Explaination) Goods on consignment | \\n| Corp_TM_27 | (Explaination) Real estate goods | \\n| Corp_TM_114 | (Explaination) Sales revenue | \\n| Corp_TM_115 | (Explaination) Revenue from service provision | \\n| Corp_TM_116 | (Explaination) Revenue from construction contracts | \\n| IS_153 | (Income statement) (Bank) Net Profit/Loss from Service Activities |\\n\\n**ratio_code_mapping**\\n\\n| ratio_code | ratio_name |\\n| --- | --- |\\n| FITNRR | Financial Income To Net Revenue Ratio | \\n| POCOGS | Profitability Of Cost Of Goods Sold | \\n| GPM | Gross Profit Margin | \\n| CFFSTS | Cash Flow From Sales To Sales | \\n| NRGYoY | Net Revenue Growth YoY | \\n| GPGYoY | Gross Profit Growth YoY |\\n\\n**industry**\\n\\n| industry |\\n| --- |\\n| Banking |\\n\\n</data>\\n\\n### Example:\\n\\n<example>\\n\\n**Return On Fixed Assets of Techcombank in financial year 2019.**\\n\\n```sql\\nSELECT \\n    stock_code,\\n    year,\\n    quarter,\\n    ratio_code,\\n    data\\nFROM \\n    financial_ratio\\nWHERE \\n    stock_code = 'TCB'\\n    AND year = 2019\\n    AND quarter = 0\\n    AND ratio_code = 'ROFA' -- Return on fixed assets\\nLIMIT 1;```\\n\\n**For Vietcombank and Techcombank, please provide the quarterly data for the Debt-to-Equity ratio from 2020 to 2023.**\\n\\n```sql\\nSELECT \\n    stock_code,\\n    year,\\n    quarter,\\n    ratio_code,\\n    data\\nFROM financial_ratio\\nWHERE ratio_code = 'DTER' -- Assuming 'DTER' is the code for Debt-to-Equity Ratio\\n  AND stock_code IN ('VCB', 'TCB')\\n  AND year BETWEEN 2018 AND 2023\\n  and quarter = 0\\nORDER BY stock_code, year, quarter;```\\n\\n**Get the total asset growth YoY of VIC, VHM and VRE in 2021**\\n\\n```sql\\nselect \\n\\tstock_code,\\n\\tquarter,\\n\\tyear,\\n\\tratio_code,\\n\\tdata\\n\\nfrom financial_ratio\\n\\nwhere\\n\\tratio_code = 'TAGYoY'  -- Total Asset Growth YoY\\n\\tand year = 2021\\n\\tand quarter = 0\\n\\tand stock_code IN ('VIC', 'VRE', 'VHM');```\\n\\n</example>\\n \\n<instruction>\\n\\nAnalyze the task step-by-step and return suitable SQL query.\\n\\nIf possible, the table result should have the following columns:\\n\\n- stock_code / industry\\n- year\\n- quarter\\n- category_code / ratio_code\\n- data / data_mean / data_sum\\n\\nHowever, feel free to modify the table if needed.\\n\\n</instruction>\\n\\n### Note: \\n- Include the detailed name of the table in the query in the following format:\\n\\n```sql\\n-- ### detailed_table_name\\n```\\n- The query must not contain column `ratio_name` or `en_caption`.\\n- If the time is not mentioned, assume getting the current time (Q3 2024)\\n- Do not make any assumption about the account name. You must refer to the mapping table.\\n- If the question requires data within the quarter time range (from 2020 to Q3 2024), you should use the `date_added` in the following format:\\n\\n```sql\\nWHERE date_added BETWEEN '2020-01-01' AND '2024-09-30' \\nAND quarter !=0\\n\\n-- - Q1: YYYY-03-30\\n-- - Q2: YYYY-06-30\\n-- - Q3: YYYY-09-30\\n-- - Q4: YYYY-12-30\\n-- - Q0: YYYY-12-30 (Annual data)\\n```\\n\\nAnswer in the following format:\\n### Reasoning:\\n{Your reasoning}\\n### SQL Query:\\n{SQL query}\"},\n",
       "  {'role': 'assistant',\n",
       "   'content': '### Reasoning:\\nThe user is asking for the Gross Profit Margin for VPBank (VPB) and Techcombank (TCB) for the year 2021. To answer this question, we need to retrieve data from the `financial_ratio` table.\\n1. **Identify the ratio code**: Based on the `ratio_code_mapping` table, the `ratio_code` for \"Gross Profit Margin\" is \\'GPM\\'.\\n2. **Identify the companies**: The companies are VPBank (stock code \\'VPB\\') and Techcombank (stock code \\'TCB\\').\\n3. **Identify the year**: The year is 2021.\\n4. **Determine the report type**: The query specifies \"year 2021\", which implies annual report, so `quarter` should be 0.\\n5. **Construct the SQL query**: We will select `stock_code`, `year`, `quarter`, `ratio_code`, and `data` from the `financial_ratio` table, filtering by `stock_code` (\\'VPB\\', \\'TCB\\'), `year` (2021), `quarter` (0), and `ratio_code` (\\'GPM\\').\\n\\n### SQL Query:\\n```sql\\n-- ### financial_ratio\\nSELECT\\n    stock_code,\\n    year,\\n    quarter,\\n    ratio_code,\\n    data\\nFROM\\n    financial_ratio\\nWHERE\\n    ratio_code = \\'GPM\\'\\n    AND year = 2021\\n    AND quarter = 0\\n    AND stock_code IN (\\'VPB\\', \\'TCB\\')\\nLIMIT 5;\\n```'},\n",
       "  {'role': 'user',\n",
       "   'content': '<result>\\n\\n### SQL Result from previous query:\\n\\n**SQL 1 Result: financial_ratio**\\n\\n| stock_code | year | quarter | ratio_code | data |\\n| --- | --- | --- | --- | --- |\\n| TCB | 2021 | 0 | GPM | 0.752004738946301 | \\n| VPB | 2021 | 0 | GPM | 0.6757975637326372 | \\n\\n\\n\\n</result>\\n\\n<correction>\\n\\nBased on the SQL table result in <result> tag, do you think the SQL queries is correct and can fully answer the original task? If there is no content on <result> tag, it means the preivous queries return nothing, which is incorrect.\\n\\nIf the previous SQL is not correct, return No under *Decision* heading, think step-by-step under *Reasoning* heading again and generate the correct SQL query under *SQL Query*.\\nOtherwise, you only need to return Yes under *Decision* heading. You must not provide the SQL query again.\\n\\nReturn in the following format (### SQL Query is optional):\\n\\n### Decision: \\n{Your decision}\\n\\n### Reasoning:\\n{Your reasoning}\\n\\n### SQL Query:\\n{Corrected SQL query}\\n\\n</correction>'},\n",
       "  {'role': 'assistant',\n",
       "   'content': \"### Decision: \\nYes\\n\\n### Reasoning:\\nThe previous SQL query successfully retrieved the Gross Profit Margin (GPM) for both VPBank (VPB) and Techcombank (TCB) for the year 2021, as requested in the original task. The SQL result table confirms that data for 'GPM' is available for both stock codes ('TCB', 'VPB') in the year 2021 and quarter 0 (annual report). Thus, the query is correct and provides the answer to the user's request.\"}],\n",
       " 'duration': 16.0318341255188,\n",
       " 'ner': [{'role': 'user',\n",
       "   'content': '<task>\\n\\nBased on given question, analyze and suggest the suitable accounts in the financial statement and/or financial ratios that can be used to answer the question.\\nExtract the company name and/or the industry that positively mentioned based on the given question.\\n\\n</task>\\n \\n<question>\\n\\nCan you provide the Gross Profit Margin for VPBank and Techcombank for the year 2021?\\n\\n</question>\\n\\nAnalyze and return the accounts and entities that useful to answer the question.\\nReturn in JSON format, followed by this schema. \\n\\n```\\n{\\n    \"industry\": list[str],\\n    \"company_name\": list[str],\\n    \"financial_statement_account\": list[str],\\n    \"financial_ratio\": list[str]\\n}\\n```\\nReturn an empty list if no related data is found.'},\n",
       "  {'role': 'assistant',\n",
       "   'content': '```json\\n{\\n    \"industry\": [\\n        \"Banking\"\\n    ],\\n    \"company_name\": [\\n        \"VPBank\",\\n        \"Techcombank\"\\n    ],\\n    \"financial_statement_account\": [\\n        \"Revenue\",\\n        \"Cost of Goods Sold\",\\n        \"Gross Profit\"\\n    ],\\n    \"financial_ratio\": [\\n        \"Gross Profit Margin\"\\n    ]\\n}\\n```'}]}"
      ]
     },
     "execution_count": 119,
     "metadata": {},
     "output_type": "execute_result"
    }
   ],
   "source": [
    "perfect_data[-100]"
   ]
  },
  {
   "cell_type": "code",
   "execution_count": null,
   "metadata": {},
   "outputs": [],
   "source": []
  },
  {
   "cell_type": "code",
   "execution_count": 120,
   "metadata": {},
   "outputs": [
    {
     "data": {
      "text/plain": [
       "1625"
      ]
     },
     "execution_count": 120,
     "metadata": {},
     "output_type": "execute_result"
    }
   ],
   "source": [
    "correct_reasoning = 0\n",
    "correct_data = []\n",
    "not_perfect_noNo = []\n",
    "yes_no_data = []\n",
    "\n",
    "for line in new_non_empty_data:\n",
    "    is_no = False\n",
    "    is_yes = False\n",
    "    for ms in line['messages']:\n",
    "        if '###decision:\\nyes' in ms['content'].lower().replace(' ', ''):\n",
    "            is_yes = True\n",
    "        if '###decision:\\nno' in ms['content'].lower().replace(' ', ''):\n",
    "            is_no = True\n",
    "    if not is_no and is_yes:\n",
    "        correct_reasoning += 1\n",
    "        correct_data.append(line)\n",
    "        \n",
    "        if len(line['messages']) != 5:\n",
    "            not_perfect_noNo.append(line)\n",
    "    if is_no and is_yes:\n",
    "        yes_no_data.append(line)\n",
    "\n",
    "        correct_reasoning += 1\n",
    "\n",
    "correct_reasoning"
   ]
  },
  {
   "cell_type": "code",
   "execution_count": 121,
   "metadata": {},
   "outputs": [
    {
     "data": {
      "text/plain": [
       "122"
      ]
     },
     "execution_count": 121,
     "metadata": {},
     "output_type": "execute_result"
    }
   ],
   "source": [
    "len(yes_no_data)"
   ]
  },
  {
   "cell_type": "code",
   "execution_count": 122,
   "metadata": {},
   "outputs": [
    {
     "data": {
      "text/plain": [
       "34"
      ]
     },
     "execution_count": 122,
     "metadata": {},
     "output_type": "execute_result"
    }
   ],
   "source": [
    "len(not_perfect_noNo)"
   ]
  },
  {
   "cell_type": "code",
   "execution_count": 123,
   "metadata": {},
   "outputs": [
    {
     "data": {
      "text/plain": [
       "{'ids': 'f909eb41-17c9-4041-9a0c-fdc065e7db50',\n",
       " 'date': '2025-02-12 14:26:59',\n",
       " 'question': 'What is the Debt-to-Equity ratio of BIDV for the year 2022 compared to the industry average?',\n",
       " 'table': '**Company Info**\\n\\n| stock_code | en_company_name | industry |\\n| --- | --- | --- |\\n| BID | Joint Stock Commercial Bank for Investment and Development of Vietnam | Banking | **ratio_code_mapping**\\n\\n| ratio_code | ratio_name |\\n| --- | --- |\\n| DTER | Debt To Equity Ratio | **Debug Round 1 SQL 1 Result: financial_ratio**\\n\\n| stock_code | year | quarter | ratio_code | data |\\n| --- | --- | --- | --- | --- |\\n| BIDV | 2022 | 0 | DTER | 19.367913571175464 | ',\n",
       " 'reasoning': \"### Decision: \\nYes\\n\\n### Reasoning:\\nThe previous SQL query was almost correct, but it had a syntax error due to a semicolon placed before `UNION ALL`.  The semicolon prematurely terminated the first `SELECT` statement, causing the SQL parser to not recognize `UNION ALL` in the expected context. Removing the semicolon between the first `LIMIT 1` clause and `UNION ALL` should fix the syntax error and allow the query to execute correctly, retrieving both the Debt-to-Equity ratio for BIDV and the industry average. The debug result already shows that the first part of the query to get BIDV's ratio worked, so after fixing the syntax, the combined query should fully answer the original task.\",\n",
       " 'sql': [],\n",
       " 'messages': [{'role': 'system',\n",
       "   'content': 'You are an expert in financial statement and database management. You will be asked to convert a natural language query into a SQL query. \\n### Database Description\\n<overall_description>\\n\\nThe database conatains financial statments of top Vietnamese firms, followed by the regulation of Vietnamese Accounting Standard (VAS). Based on VAS regulation, there are 3 type of financial statments: bank, corporation and securities firm, and there will be sight differences between them.\\n\\nThe database includes two reporting periods: quarterly and annually. Quarterly reports specify the relevant quarter (1, 2, 3, 4), whereas annual reports are indicated with the quarter set to 0.\\n\\n</overall_description>\\n\\n### PostgreSQL tables, with their properties\\n```sql \\n-- Table: company_info\\nCREATE TABLE company_info(\\n    stock_code VARCHAR(255) primary key, --The trading symbol.\\n    industry VARCHAR(255), \\n    exchange VARCHAR(255), -- The listed exchange of stock\\n    stock_indices VARCHAR(255), -- The stock index it belongs to (e.g., VN30, HNX30)\\n    is_bank BOOLEAN,\\n    is_securities BOOLEAN,\\n);\\n\\n--  /* Snapshot \\n\\n--  stock_code  industry  is_bank  is_securities  exchange  stock_indices \\n--   VIC  Real Estate  false  false  HOSE  VN30  \\n-- */\\n\\n-- Table: sub_and_shareholder\\nCREATE TABLE sub_and_shareholder(\\n    stock_code VARCHAR(255) NOT NULL, \\n    invest_on VARCHAR(255) NOT NULL, -- The company invested on (can be subsidiary)\\n    FOREIGN KEY (stock_code) REFERENCES company_info(stock_code),\\n    FOREIGN KEY (invest_on) REFERENCES company_info(stock_code),\\n    PRIMARY KEY (stock_code, invest_on) \\n);\\n\\n-- /*  MSN is a shareholder of TCB.\\n\\n-- stock_code  invest_on\\n-- MSN  TCB\\n-- */\\n\\n\\n-- Table: financial_statement: Financial Statement data for each `stock_code`\\nCREATE TABLE financial_statement(\\n    stock_code VARCHAR(255) references company_info(stock_code),\\n    year int, -- The reported financial year\\n    quarter int, --  The quarter reported (either 0, 1, 2, 3, 4). \\n    category_code VARCHAR(255),\\n    data float, -- in Million VND except ratio\\n    date_added timestamp\\n);\\n\\n-- /*\\n-- stock_code  year  quarter  category_code  data  date_added \\n--  VCB  2023   0  BS_300  1839613.198  2023-12-30 \\n--  LPB  2024   2  CF_045  68522.835  2024-06-30 \\n-- */\\n\\n-- Table: industry_financial_statement: General report for each industry sector\\n\\nCREATE TABLE industry_financial_statement(\\n    industry VARCHAR(255),\\n    year int, \\n    quarter int,\\n    category_code VARCHAR(255),\\n    data_mean float, -- Mean value of every firm in that industry\\n    data_sun float, -- Total value of every firm in that industry\\n    date_added timestamp \\n);\\n\\n-- Table financial_ratio: This table will have pre-calculated common Financial Ratio such as ROA, ROE, FCF, etc\\n-- Same structure as `financial_statement`\\nCREATE TABLE financial_ratio(\\n    ratio_code VARCHAR(255),\\n    stock_code VARCHAR(255) references company_info(stock_code),\\n    year int,\\n    quarter int,\\n    data float, -- Either in Million VND if money, or ratio otherwise\\n    date_added timestamp\\n)\\n\\n-- Table: industry_financial_ratio\\nCREATE TABLE industry_financial_ratio(\\n    industry VARCHAR(255),\\n    ratio_code VARCHAR(255),\\n    year int,\\n    quarter int,\\n    data_mean float, \\n    date_added timestamp\\n)\\n\\n-- Table financial_statement_explaination: Contain information which is not covered in 3 main reports. It usually stores information about type of loans, debt, cash, investments and real-estate ownerships. \\n\\n-- Same structure as `financial_statement`\\nCREATE TABLE financial_statement_explaination(\\n    category_code VARCHAR(255),\\n    stock_code VARCHAR(255) references company_info(stock_code),\\n    year int,\\n    quarter int,\\n    data float, \\n    date_added timestamp \\n)\\n```\\n\\n### Note on schema description: \\n- Each value in `category_code` includes a prefix indicating the report it pertains to: *BS* is Balance sheet, *IS* is for Income statement, *CF* is Cash flow and *TM* is for Explaination.\\n- For `category_code` in `financial_statement_explaination`, there are 4 additional prefix: *Crop*, *Bank*, *Sec* and *Share* for specific type of organization.\\n- With YoY ratio in `financial_ratio`, you should recalculate the ratio if the time window is not 1 year.\\n\\n### Note on creating query:\\n- You will be provided a mapping table with caption for `category_code` and `ratio_code`, and you are only allow to use that reference to select suitable code.\\n- For any financial ratio, it must be selected from the database rather than being calculated manually.\\n- If two rows share a similar meaning, using a rounded code.\\n- Always include a `quarter` condition in your query. If not specified, assume using annual reports, with the query defaulting to `quarter` = 0.\\n- Always include a LIMIT clause in your query.\\n\\n### Regulation:   \\n- The result of the SQL query will be displayed in the <data> tag.\\n- Your should reasoning and provide the SQL query with explaination for the task in <task> and <instruction> tag.\\n- For <correction> tag, you only need to provide the SQL query if the previous SQL query is incorrect.\\n- For <reflection> tag, you dont need to provide the SQL query.\\n- Always return SQL query in the following format:\\n    ```sql\\n    {SQL query}\\n    ```'},\n",
       "  {'role': 'user',\n",
       "   'content': \"Here is a natural language query that you need to convert into a SQL query:\\n\\n<task>\\n\\nWhat is the Debt-to-Equity ratio of BIDV for the year 2022 compared to the industry average?\\n\\n</task>\\n\\n### Company details and Snapshot of the mapping table:\\n<data>\\n\\n**Company Info**\\n\\n| stock_code | en_company_name | industry | is_bank | is_securities |\\n| --- | --- | --- | --- | --- |\\n| BID | Joint Stock Commercial Bank for Investment and Development of Vietnam | Banking | True | False |\\n\\n**category_code_mapping**\\n\\n| category_code | en_caption |\\n| --- | --- |\\n| BS_133 | (Balance sheet) (Bank) Debt purchases | \\n| BS_301 | (Balance sheet) (Bank) Government and central bank debts | \\n| BS_400 | (Balance sheet) D. EQUITY | \\n| BS_410 | (Balance sheet) I. Owner's Equity | \\n| BS_413 | (Balance sheet) Common shares with voting rights | \\n| BS_425 | (Balance sheet) Other funds under owner’s equity | \\n| BS_440 | (Balance sheet) TOTAL LIABILITIES AND EQUITY | \\n| Bank_TM_2 | (Explaination) Debt securities | \\n| Bank_TM_8 | (Explaination) Equity securities | \\n| Bank_TM_67 | (Explaination) Debts needing attention (Group 2 debts) | \\n| Bank_TM_69 | (Explaination) Doubtful debts (Group 4 debts) | \\n| Bank_TM_70 | (Explaination) Bad debts with potential loss of capital (Group 5 debts) | \\n| CF_075 | (Cash flow) Cash inflows from borrowing | \\n| CF_076 | (Cash flow) Cash outflows for principal debt repayment |\\n\\n**ratio_code_mapping**\\n\\n| ratio_code | ratio_name |\\n| --- | --- |\\n| ER | Equity Ratio | \\n| DTTCR | Debt To Total Capital Ratio | \\n| ROE | Return On Equity | \\n| BDR | Bad Debt Ratio | \\n| DTER | Debt To Equity Ratio |\\n\\n</data>\\n\\n### Example:\\n\\n<example>\\n\\n**Get the total money 2th debt group of BIDV in 2021.**\\n\\n```sql\\nselect \\n\\tcategory_code,\\n\\tstock_code,\\n\\tyear,\\n\\tquarter,\\n\\tdata\\n\\nfrom financial_statement_explaination\\nwhere \\n\\tstock_code = 'BID'\\n\\tand year = 2021\\n\\tand quarter = 0\\n\\tand category_code = 'Bank_TM_67'  -- Second Bad Debt Group```\\n\\n**Bad debt/ Nonperforming Loans of BIDV in 2023**\\n\\n```sql\\nselect\\n    stock_code,\\n\\tquarter,\\n\\tyear,\\n\\tcategory_code,\\n\\tdata\\n\\nfrom financial_statement_explaination\\n\\nwhere\\n\\tcategory_code = 'Bank_TM_65' -- Price-Earning Ratio\\n\\tand year = 2022\\n\\tand quarter = 0\\n\\tand stock_code = 'VIC'```\\n\\n**Bad debt ratio for BIDV in Q3 2023**\\n\\n```sql\\nSELECT \\n    stock_code,\\n    quarter,\\n    year,\\n    ratio_code,\\n    data\\nFROM financial_ratio\\nWHERE ratio_code = 'BDR' -- Bad Debt Ratio\\n  AND stock_code = 'BID' -- BIDV stock code\\n  AND year = 2023\\n  AND quarter = 3 -- Q3 2023\\nLIMIT 100;```\\n\\n</example>\\n \\n<instruction>\\n\\nAnalyze the task step-by-step and return suitable SQL query.\\n\\nIf possible, the table result should have the following columns:\\n\\n- stock_code / industry\\n- year\\n- quarter\\n- category_code / ratio_code\\n- data / data_mean / data_sum\\n\\nHowever, feel free to modify the table if needed.\\n\\n</instruction>\\n\\n### Note: \\n- Include the detailed name of the table in the query in the following format:\\n\\n```sql\\n-- ### detailed_table_name\\n```\\n- The query must not contain column `ratio_name` or `en_caption`.\\n- If the time is not mentioned, assume getting the current time (Q3 2024)\\n- Do not make any assumption about the account name. You must refer to the mapping table.\\n- If the question requires data within the quarter time range (from 2020 to Q3 2024), you should use the `date_added` in the following format:\\n\\n```sql\\nWHERE date_added BETWEEN '2020-01-01' AND '2024-09-30' \\nAND quarter !=0\\n\\n-- - Q1: YYYY-03-30\\n-- - Q2: YYYY-06-30\\n-- - Q3: YYYY-09-30\\n-- - Q4: YYYY-12-30\\n-- - Q0: YYYY-12-30 (Annual data)\\n```\\n\\nAnswer in the following format:\\n### Reasoning:\\n{Your reasoning}\\n### SQL Query:\\n{SQL query}\"},\n",
       "  {'role': 'assistant',\n",
       "   'content': \"### Reasoning:\\nThe user is asking for the Debt-to-Equity ratio (DTER) for BIDV in 2022 and the industry average for the same ratio and year. To answer this question, we need to perform two queries:\\n\\n1. **Query 1: Get Debt-to-Equity Ratio for BIDV:**\\n    - We need to select data from the `financial_ratio` table.\\n    - Filter by `ratio_code = 'DTER'` (Debt To Equity Ratio).\\n    - Filter by `stock_code = 'BID'` (for BIDV).\\n    - Filter by `year = 2022`.\\n    - Filter by `quarter = 0` (for annual report).\\n\\n2. **Query 2: Get Industry Average Debt-to-Equity Ratio for Banking Industry:**\\n    - We need to select data from the `industry_financial_ratio` table.\\n    - Filter by `ratio_code = 'DTER'` (Debt To Equity Ratio).\\n    - Filter by `industry = 'Banking'` (industry of BIDV).\\n    - Filter by `year = 2022`.\\n    - Filter by `quarter = 0` (for annual report).\\n\\nWe will combine these two queries using `UNION ALL` to present both results in a single table for easy comparison.\\n\\n### SQL Query:\\n```sql\\n-- ### financial_ratio\\nSELECT\\n    'BIDV' AS stock_code,\\n    year,\\n    quarter,\\n    ratio_code,\\n    data\\nFROM\\n    financial_ratio\\nWHERE\\n    ratio_code = 'DTER'\\n    AND stock_code = 'BID'\\n    AND year = 2022\\n    AND quarter = 0\\nLIMIT 1\\n\\nUNION ALL\\n\\n-- ### industry_financial_ratio\\nSELECT\\n    industry,\\n    year,\\n    quarter,\\n    ratio_code,\\n    data_mean\\nFROM\\n    industry_financial_ratio\\nWHERE\\n    ratio_code = 'DTER'\\n    AND industry = 'Banking'\\n    AND year = 2022\\n    AND quarter = 0\\nLIMIT 1\\n```\"},\n",
       "  {'role': 'user',\n",
       "   'content': 'You have some error in the previous SQL query:\\n\\n <log>\\n\\nError 1:  SQL 1 Error: syntax error at or near \"UNION\"\\nLINE 17: UNION ALL\\n         ^\\n\\n\\n\\n\\n</log>\\n\\nPlease analyze to fix the error and try again.'},\n",
       "  {'role': 'assistant',\n",
       "   'content': \"<correction>\\n```sql\\n-- ### financial_ratio\\nSELECT\\n    'BIDV' AS stock_code,\\n    year,\\n    quarter,\\n    ratio_code,\\n    data\\nFROM\\n    financial_ratio\\nWHERE\\n    ratio_code = 'DTER'\\n    AND stock_code = 'BID'\\n    AND year = 2022\\n    AND quarter = 0\\nLIMIT 1\\n;\\n\\nUNION ALL\\n\\n-- ### industry_financial_ratio\\nSELECT\\n    industry,\\n    year,\\n    quarter,\\n    ratio_code,\\n    data_mean\\nFROM\\n    industry_financial_ratio\\nWHERE\\n    ratio_code = 'DTER'\\n    AND industry = 'Banking'\\n    AND year = 2022\\n    AND quarter = 0\\nLIMIT 1\\n;\\n```\\n</correction>\"},\n",
       "  {'role': 'user',\n",
       "   'content': '<result>\\n\\n### SQL Result from previous query:\\n\\n**Debug Round 1 SQL 1 Result: financial_ratio**\\n\\n| stock_code | year | quarter | ratio_code | data |\\n| --- | --- | --- | --- | --- |\\n| BIDV | 2022 | 0 | DTER | 19.367913571175464 | ### Error Messages from previous query:\\n\\nDebug Round 1 SQL 2 Error: syntax error at or near \"UNION\"\\nLINE 3: UNION ALL\\n        ^\\n\\n\\n\\n\\n</result>\\n\\n<correction>\\n\\nBased on the SQL table result in <result> tag, do you think the SQL queries is correct and can fully answer the original task? If there is no content on <result> tag, it means the preivous queries return nothing, which is incorrect.\\n\\nIf the previous SQL is not correct, return No under *Decision* heading, think step-by-step under *Reasoning* heading again and generate the correct SQL query under *SQL Query*.\\nOtherwise, you only need to return Yes under *Decision* heading. You must not provide the SQL query again.\\n\\nReturn in the following format (### SQL Query is optional):\\n\\n### Decision: \\n{Your decision}\\n\\n### Reasoning:\\n{Your reasoning}\\n\\n### SQL Query:\\n{Corrected SQL query}\\n\\n</correction>'},\n",
       "  {'role': 'assistant',\n",
       "   'content': \"### Decision: \\nYes\\n\\n### Reasoning:\\nThe previous SQL query was almost correct, but it had a syntax error due to a semicolon placed before `UNION ALL`.  The semicolon prematurely terminated the first `SELECT` statement, causing the SQL parser to not recognize `UNION ALL` in the expected context. Removing the semicolon between the first `LIMIT 1` clause and `UNION ALL` should fix the syntax error and allow the query to execute correctly, retrieving both the Debt-to-Equity ratio for BIDV and the industry average. The debug result already shows that the first part of the query to get BIDV's ratio worked, so after fixing the syntax, the combined query should fully answer the original task.\"}],\n",
       " 'duration': 16.264894723892212}"
      ]
     },
     "execution_count": 123,
     "metadata": {},
     "output_type": "execute_result"
    }
   ],
   "source": [
    "not_perfect_noNo[20]"
   ]
  },
  {
   "cell_type": "code",
   "execution_count": 124,
   "metadata": {},
   "outputs": [
    {
     "data": {
      "text/plain": [
       "{'ids': '331a5526-88a5-4cca-bd40-caa0e6cc20b1',\n",
       " 'date': '2025-02-12 13:43:31',\n",
       " 'question': \"Please share the accounts payable turnover ratio for Eximbank in 2021, and discuss its significance in assessing the bank's payment efficiency.\",\n",
       " 'table': '**Company Info**\\n\\n| stock_code | en_company_name | industry |\\n| --- | --- | --- |\\n| EIB | Vietnam Export Import Commercial Joint Stock Bank | Banking | **ratio_code_mapping**\\n\\n| ratio_code | ratio_name |\\n| --- | --- |\\n| DPO | Days Payable Outstanding | | RTPR | Receivables To Payables Ratio | \\n**SQL 1 Result: financial_ratio**\\n\\n| stock_code | year | quarter | ratio_code | data |\\n| --- | --- | --- | --- | --- |\\n**Correction SQL 1 Result: financial_ratio**\\n\\n| stock_code | year | quarter | ratio_code | data |\\n| --- | --- | --- | --- | --- |\\n| EIB | 2021 | 0 | RTPR | 0.00918871163477393 | ',\n",
       " 'reasoning': '### Decision: \\nYes\\n\\n### Reasoning:\\nThe corrected SQL query successfully retrieved the \\'RTPR\\' (Receivables To Payables Ratio) for Eximbank in 2021. While \\'RTPR\\' is not exactly \"accounts payable turnover ratio\", it is a related financial ratio available in the database and can be used to discuss the bank\\'s payment efficiency in the context of its receivables and payables.  Given the constraints of the provided database schema and mapping tables, this is the closest and most relevant ratio we can retrieve to address the user\\'s request. The query is correctly formulated and returned a valid result.',\n",
       " 'sql': [],\n",
       " 'messages': [{'role': 'system',\n",
       "   'content': 'You are an expert in financial statement and database management. You will be asked to convert a natural language query into a SQL query. \\n### Database Description\\n<overall_description>\\n\\nThe database conatains financial statments of top Vietnamese firms, followed by the regulation of Vietnamese Accounting Standard (VAS). Based on VAS regulation, there are 3 type of financial statments: bank, corporation and securities firm, and there will be sight differences between them.\\n\\nThe database includes two reporting periods: quarterly and annually. Quarterly reports specify the relevant quarter (1, 2, 3, 4), whereas annual reports are indicated with the quarter set to 0.\\n\\n</overall_description>\\n\\n### PostgreSQL tables, with their properties\\n```sql \\n-- Table: company_info\\nCREATE TABLE company_info(\\n    stock_code VARCHAR(255) primary key, --The trading symbol.\\n    industry VARCHAR(255), \\n    exchange VARCHAR(255), -- The listed exchange of stock\\n    stock_indices VARCHAR(255), -- The stock index it belongs to (e.g., VN30, HNX30)\\n    is_bank BOOLEAN,\\n    is_securities BOOLEAN,\\n);\\n\\n--  /* Snapshot \\n\\n--  stock_code  industry  is_bank  is_securities  exchange  stock_indices \\n--   VIC  Real Estate  false  false  HOSE  VN30  \\n-- */\\n\\n-- Table: sub_and_shareholder\\nCREATE TABLE sub_and_shareholder(\\n    stock_code VARCHAR(255) NOT NULL, \\n    invest_on VARCHAR(255) NOT NULL, -- The company invested on (can be subsidiary)\\n    FOREIGN KEY (stock_code) REFERENCES company_info(stock_code),\\n    FOREIGN KEY (invest_on) REFERENCES company_info(stock_code),\\n    PRIMARY KEY (stock_code, invest_on) \\n);\\n\\n-- /*  MSN is a shareholder of TCB.\\n\\n-- stock_code  invest_on\\n-- MSN  TCB\\n-- */\\n\\n\\n-- Table: financial_statement: Financial Statement data for each `stock_code`\\nCREATE TABLE financial_statement(\\n    stock_code VARCHAR(255) references company_info(stock_code),\\n    year int, -- The reported financial year\\n    quarter int, --  The quarter reported (either 0, 1, 2, 3, 4). \\n    category_code VARCHAR(255),\\n    data float, -- in Million VND except ratio\\n    date_added timestamp\\n);\\n\\n-- /*\\n-- stock_code  year  quarter  category_code  data  date_added \\n--  VCB  2023   0  BS_300  1839613.198  2023-12-30 \\n--  LPB  2024   2  CF_045  68522.835  2024-06-30 \\n-- */\\n\\n-- Table: industry_financial_statement: General report for each industry sector\\n\\nCREATE TABLE industry_financial_statement(\\n    industry VARCHAR(255),\\n    year int, \\n    quarter int,\\n    category_code VARCHAR(255),\\n    data_mean float, -- Mean value of every firm in that industry\\n    data_sun float, -- Total value of every firm in that industry\\n    date_added timestamp \\n);\\n\\n-- Table financial_ratio: This table will have pre-calculated common Financial Ratio such as ROA, ROE, FCF, etc\\n-- Same structure as `financial_statement`\\nCREATE TABLE financial_ratio(\\n    ratio_code VARCHAR(255),\\n    stock_code VARCHAR(255) references company_info(stock_code),\\n    year int,\\n    quarter int,\\n    data float, -- Either in Million VND if money, or ratio otherwise\\n    date_added timestamp\\n)\\n\\n-- Table: industry_financial_ratio\\nCREATE TABLE industry_financial_ratio(\\n    industry VARCHAR(255),\\n    ratio_code VARCHAR(255),\\n    year int,\\n    quarter int,\\n    data_mean float, \\n    date_added timestamp\\n)\\n\\n-- Table financial_statement_explaination: Contain information which is not covered in 3 main reports. It usually stores information about type of loans, debt, cash, investments and real-estate ownerships. \\n\\n-- Same structure as `financial_statement`\\nCREATE TABLE financial_statement_explaination(\\n    category_code VARCHAR(255),\\n    stock_code VARCHAR(255) references company_info(stock_code),\\n    year int,\\n    quarter int,\\n    data float, \\n    date_added timestamp \\n)\\n```\\n\\n### Note on schema description: \\n- Each value in `category_code` includes a prefix indicating the report it pertains to: *BS* is Balance sheet, *IS* is for Income statement, *CF* is Cash flow and *TM* is for Explaination.\\n- For `category_code` in `financial_statement_explaination`, there are 4 additional prefix: *Crop*, *Bank*, *Sec* and *Share* for specific type of organization.\\n- With YoY ratio in `financial_ratio`, you should recalculate the ratio if the time window is not 1 year.\\n\\n### Note on creating query:\\n- You will be provided a mapping table with caption for `category_code` and `ratio_code`, and you are only allow to use that reference to select suitable code.\\n- For any financial ratio, it must be selected from the database rather than being calculated manually.\\n- If two rows share a similar meaning, using a rounded code.\\n- Always include a `quarter` condition in your query. If not specified, assume using annual reports, with the query defaulting to `quarter` = 0.\\n- Always include a LIMIT clause in your query.\\n\\n### Regulation:   \\n- The result of the SQL query will be displayed in the <data> tag.\\n- Your should reasoning and provide the SQL query with explaination for the task in <task> and <instruction> tag.\\n- For <correction> tag, you only need to provide the SQL query if the previous SQL query is incorrect.\\n- For <reflection> tag, you dont need to provide the SQL query.\\n- Always return SQL query in the following format:\\n    ```sql\\n    {SQL query}\\n    ```'},\n",
       "  {'role': 'user',\n",
       "   'content': \"Here is a natural language query that you need to convert into a SQL query:\\n\\n<task>\\n\\nPlease share the accounts payable turnover ratio for Eximbank in 2021, and discuss its significance in assessing the bank's payment efficiency.\\n\\n</task>\\n\\n### Company details and Snapshot of the mapping table:\\n<data>\\n\\n**Company Info**\\n\\n| stock_code | en_company_name | industry | is_bank | is_securities |\\n| --- | --- | --- | --- | --- |\\n| EIB | Vietnam Export Import Commercial Joint Stock Bank | Banking | True | False | \\n| MBB | Military Commercial Joint Stock Bank | Banking | True | False |\\n\\n**category_code_mapping**\\n\\n| category_code | en_caption |\\n| --- | --- |\\n| BS_317 | (Balance sheet) (Securities) Payables from securities transactions | \\n| BS_319 | (Balance sheet) Trade payables (short-term) | \\n| BS_322 | (Balance sheet) Payables to employees | \\n| BS_356 | (Balance sheet) (Bank) Interest and fees payable | \\n| BS_357 | (Balance sheet) (Bank) Payables and other liabilities | \\n| IS_036 | (Income statement) Cost of goods sold | \\n| IS_040 | (Income statement) Gross profit from sales and services rendered | \\n| IS_052 | (Income statement) Selling expenses | \\n| Corp_TM_25 | (Explaination) Goods on consignment | \\n| Corp_TM_27 | (Explaination) Real estate goods | \\n| BS_324 | (Balance sheet) Intra-group payables (short-term) | \\n| BS_325 | (Balance sheet) Payables under construction contract progress (short-term) |\\n\\n**ratio_code_mapping**\\n\\n| ratio_code | ratio_name |\\n| --- | --- |\\n| POCOGS | Profitability Of Cost Of Goods Sold | \\n| DPO | Days Payable Outstanding | \\n| RTPR | Receivables To Payables Ratio |\\n\\n**industry**\\n\\n| industry |\\n| --- |\\n| Banking |\\n\\n</data>\\n\\n### Example:\\n\\n<example>\\n\\n**ROA of MBBank in Q1 2023**\\n\\n```sql\\nSELECT\\n    stock_code,\\n    year,\\n    quarter,\\n    ratio_code,\\n    data\\nFROM financial_ratio\\nWHERE ratio_code = 'ROA'\\n  AND year = 2023\\n  AND quarter = 1\\n  AND stock_code = 'MBB'\\nLIMIT 100;```\\n\\n**Total Equity of Bank in 2023**\\n\\n```sql\\nselect \\n\\tindustry,\\n\\tquarter,\\n\\tyear,\\n\\tcategory_code,\\n\\tdata_sum\\n\\nfrom industry_financial_statement\\n\\nwhere\\n\\tcategory_code = 'BS_400' -- Total Equity\\n\\tand year = 2023\\n\\tand quarter = 0\\n\\tand industry = 'Banking'```\\n\\n</example>\\n \\n<instruction>\\n\\nAnalyze the task step-by-step and return suitable SQL query.\\n\\nIf possible, the table result should have the following columns:\\n\\n- stock_code / industry\\n- year\\n- quarter\\n- category_code / ratio_code\\n- data / data_mean / data_sum\\n\\nHowever, feel free to modify the table if needed.\\n\\n</instruction>\\n\\n### Note: \\n- Include the detailed name of the table in the query in the following format:\\n\\n```sql\\n-- ### detailed_table_name\\n```\\n- The query must not contain column `ratio_name` or `en_caption`.\\n- If the time is not mentioned, assume getting the current time (Q3 2024)\\n- Do not make any assumption about the account name. You must refer to the mapping table.\\n- If the question requires data within the quarter time range (from 2020 to Q3 2024), you should use the `date_added` in the following format:\\n\\n```sql\\nWHERE date_added BETWEEN '2020-01-01' AND '2024-09-30' \\nAND quarter !=0\\n\\n-- - Q1: YYYY-03-30\\n-- - Q2: YYYY-06-30\\n-- - Q3: YYYY-09-30\\n-- - Q4: YYYY-12-30\\n-- - Q0: YYYY-12-30 (Annual data)\\n```\\n\\nAnswer in the following format:\\n### Reasoning:\\n{Your reasoning}\\n### SQL Query:\\n{SQL query}\"},\n",
       "  {'role': 'assistant',\n",
       "   'content': '### Reasoning:\\nThe user is asking for the accounts payable turnover ratio for Eximbank (stock code \\'EIB\\') in 2021.\\nHowever, based on the `ratio_code_mapping` table, there is no direct \"accounts payable turnover ratio\".  Instead, there is \"Days Payable Outstanding (DPO)\", which is related to accounts payable turnover.  We will assume the user is asking for DPO as a proxy for accounts payable turnover ratio, or that DPO is the available metric in the database that relates to payment efficiency.\\n\\nWe need to query the `financial_ratio` table to retrieve the \\'DPO\\' ratio for the stock code \\'EIB\\' in the year 2021. Since the quarter is not specified, we will assume the user is asking for the annual report, which corresponds to `quarter = 0`.\\n\\nThe SQL query will select `stock_code`, `year`, `quarter`, `ratio_code`, and `data` from the `financial_ratio` table, filtering by `ratio_code = \\'DPO\\'`, `year = 2021`, `quarter = 0`, and `stock_code = \\'EIB\\'`. We also include a `LIMIT 100` clause as per the instructions.\\n\\n### SQL Query:\\n```sql\\n-- ### financial_ratio\\nSELECT\\n    stock_code,\\n    year,\\n    quarter,\\n    ratio_code,\\n    data\\nFROM financial_ratio\\nWHERE ratio_code = \\'DPO\\'\\n  AND year = 2021\\n  AND quarter = 0\\n  AND stock_code = \\'EIB\\'\\nLIMIT 100;\\n```'},\n",
       "  {'role': 'user',\n",
       "   'content': '<result>\\n\\n### SQL Result from previous query:\\n\\n**SQL 1 Result: financial_ratio**\\n\\n| stock_code | year | quarter | ratio_code | data |\\n| --- | --- | --- | --- | --- |\\n\\n\\n</result>\\n\\n<correction>\\n\\nBased on the SQL table result in <result> tag, do you think the SQL queries is correct and can fully answer the original task? If there is no content on <result> tag, it means the preivous queries return nothing, which is incorrect.\\n\\nIf the previous SQL is not correct, return No under *Decision* heading, think step-by-step under *Reasoning* heading again and generate the correct SQL query under *SQL Query*.\\nOtherwise, you only need to return Yes under *Decision* heading. You must not provide the SQL query again.\\n\\nReturn in the following format (### SQL Query is optional):\\n\\n### Decision: \\n{Your decision}\\n\\n### Reasoning:\\n{Your reasoning}\\n\\n### SQL Query:\\n{Corrected SQL query}\\n\\n</correction>'},\n",
       "  {'role': 'assistant',\n",
       "   'content': '### Decision: \\nNo\\n\\n### Reasoning:\\nThe previous SQL query for retrieving \\'DPO\\' (Days Payable Outstanding) for Eximbank (EIB) in 2021 returned no results. This indicates that the requested data might not be available in the `financial_ratio` table for the specified criteria. While the query itself is syntactically correct and logically sound for retrieving DPO, the lack of results suggests that we need to consider if there\\'s an alternative approach or if the data simply doesn\\'t exist.\\n\\nGiven that the user is asking for \"accounts payable turnover ratio\" and we interpreted it as DPO, and DPO is not available, we should check if there are other related ratios or if we have misinterpreted the user\\'s request.\\n\\nLooking at the `ratio_code_mapping`, \\'RTPR\\' (Receivables To Payables Ratio) is another ratio related to payables. While not directly \"accounts payable turnover ratio\", it is still relevant to assessing a company\\'s payment efficiency by comparing receivables to payables.\\n\\nLet\\'s try to retrieve \\'RTPR\\' for Eximbank in 2021 as an alternative. If this also returns no result, it would further suggest that there might be no pre-calculated payable-related ratios for EIB in 2021 in the `financial_ratio` table.\\n\\nTherefore, a \"corrected\" approach would be to try retrieving \\'RTPR\\' as an alternative, acknowledging that DPO was the initial and more direct interpretation of \"accounts payable turnover ratio\".\\n\\n### SQL Query:\\n```sql\\n-- ### financial_ratio\\nSELECT\\n    stock_code,\\n    year,\\n    quarter,\\n    ratio_code,\\n    data\\nFROM financial_ratio\\nWHERE ratio_code = \\'RTPR\\'\\n  AND year = 2021\\n  AND quarter = 0\\n  AND stock_code = \\'EIB\\'\\nLIMIT 100;\\n```'},\n",
       "  {'role': 'user',\n",
       "   'content': '<result>\\n\\n### SQL Result from previous query:\\n\\n**SQL 1 Result: financial_ratio**\\n\\n| stock_code | year | quarter | ratio_code | data |\\n| --- | --- | --- | --- | --- |\\n**Correction SQL 1 Result: financial_ratio**\\n\\n| stock_code | year | quarter | ratio_code | data |\\n| --- | --- | --- | --- | --- |\\n| EIB | 2021 | 0 | RTPR | 0.00918871163477393 | \\n\\n</result>\\n\\n<correction>\\n\\nBased on the SQL table result in <result> tag, do you think the SQL queries is correct and can fully answer the original task? If there is no content on <result> tag, it means the preivous queries return nothing, which is incorrect.\\n\\nIf the previous SQL is not correct, return No under *Decision* heading, think step-by-step under *Reasoning* heading again and generate the correct SQL query under *SQL Query*.\\nOtherwise, you only need to return Yes under *Decision* heading. You must not provide the SQL query again.\\n\\nReturn in the following format (### SQL Query is optional):\\n\\n### Decision: \\n{Your decision}\\n\\n### Reasoning:\\n{Your reasoning}\\n\\n### SQL Query:\\n{Corrected SQL query}\\n\\n</correction>'},\n",
       "  {'role': 'assistant',\n",
       "   'content': '### Decision: \\nYes\\n\\n### Reasoning:\\nThe corrected SQL query successfully retrieved the \\'RTPR\\' (Receivables To Payables Ratio) for Eximbank in 2021. While \\'RTPR\\' is not exactly \"accounts payable turnover ratio\", it is a related financial ratio available in the database and can be used to discuss the bank\\'s payment efficiency in the context of its receivables and payables.  Given the constraints of the provided database schema and mapping tables, this is the closest and most relevant ratio we can retrieve to address the user\\'s request. The query is correctly formulated and returned a valid result.'}],\n",
       " 'duration': 24.810138940811157}"
      ]
     },
     "execution_count": 124,
     "metadata": {},
     "output_type": "execute_result"
    }
   ],
   "source": [
    "yes_no_data[50]"
   ]
  },
  {
   "cell_type": "code",
   "execution_count": 125,
   "metadata": {},
   "outputs": [],
   "source": [
    "usable_yes_no = []\n",
    "for line in yes_no_data:\n",
    "    flag_error = False\n",
    "    for i, msg in enumerate(line['messages']):\n",
    "        content = msg['content']\n",
    "        role = msg['role']\n",
    "        if role == 'user' and 'Error Messages from previous query' in content:\n",
    "            if '###decision:\\nno' in line['messages'][i+1]['content'].lower().replace(' ', ''):\n",
    "                flag_error = True\n",
    "                break\n",
    "    if not flag_error:\n",
    "        usable_yes_no.append(line)"
   ]
  },
  {
   "cell_type": "code",
   "execution_count": 126,
   "metadata": {},
   "outputs": [
    {
     "data": {
      "text/plain": [
       "120"
      ]
     },
     "execution_count": 126,
     "metadata": {},
     "output_type": "execute_result"
    }
   ],
   "source": [
    "len(usable_yes_no)"
   ]
  },
  {
   "cell_type": "code",
   "execution_count": 127,
   "metadata": {},
   "outputs": [
    {
     "data": {
      "text/plain": [
       "34"
      ]
     },
     "execution_count": 127,
     "metadata": {},
     "output_type": "execute_result"
    }
   ],
   "source": [
    "len(not_perfect_noNo)"
   ]
  },
  {
   "cell_type": "code",
   "execution_count": 128,
   "metadata": {},
   "outputs": [],
   "source": [
    "usable_not_perfect_noNo = []\n",
    "for line in not_perfect_noNo:\n",
    "    flag_error = False\n",
    "    for msg in line['messages']:\n",
    "        content = msg['content']\n",
    "        role = msg['role']\n",
    "        if role == 'user' and 'Error Messages from previous query' in content:\n",
    "            flag_error = True\n",
    "            break\n",
    "    if not flag_error:\n",
    "        usable_not_perfect_noNo.append(line)"
   ]
  },
  {
   "cell_type": "code",
   "execution_count": 129,
   "metadata": {},
   "outputs": [
    {
     "data": {
      "text/plain": [
       "14"
      ]
     },
     "execution_count": 129,
     "metadata": {},
     "output_type": "execute_result"
    }
   ],
   "source": [
    "len(usable_not_perfect_noNo)"
   ]
  },
  {
   "cell_type": "code",
   "execution_count": 130,
   "metadata": {},
   "outputs": [],
   "source": [
    "re_thinking_data = usable_yes_no + usable_not_perfect_noNo"
   ]
  },
  {
   "cell_type": "code",
   "execution_count": 131,
   "metadata": {},
   "outputs": [
    {
     "name": "stdout",
     "output_type": "stream",
     "text": [
      "Found 4 API keys\n"
     ]
    }
   ],
   "source": [
    "import sys \n",
    "sys.path.append('../')\n",
    "from llm import Gemini, RotateGemini\n",
    "\n",
    "llm = RotateGemini(rpm=14)\n",
    "\n",
    "def summarize_reasoning_chain(llm, messages):\n",
    "    summarize_prompt = \"Summarize and Return the correct reasoning chain and the SQL query, under ### Reasoning: and ### SQL Query: respectively.\"\n",
    "\n",
    "    messages.append({\n",
    "        \"role\": \"user\",\n",
    "        \"content\": summarize_prompt\n",
    "    })\n",
    "\n",
    "    response = llm(messages)\n",
    "\n",
    "    return response"
   ]
  },
  {
   "cell_type": "code",
   "execution_count": 132,
   "metadata": {},
   "outputs": [
    {
     "data": {
      "text/plain": [
       "[{'role': 'system',\n",
       "  'content': \"You are an expert in financial statement and database management. You will be asked to convert a natural language query into a SQL query. \\n### Database Description\\nYou're given database about the financial statments of top Vietnamese companies, either bank, cooperates and securities.\\n\\n<overall_description>\\n\\nAll the data in the financial statments are followed by the regulation of Vietnamese Accounting Standard (VAS). The English translations are followed by the International Financial Reporting Standards (IFRS).\\n\\nThere are 3 type of financial statments, based on VAS regulation: bank, non-bank corporation and securities firm (firms that provide stock options and financial instruments).\\nAll 3 type of reports are stored in one single table, and there will be a sight different between them.\\n\\nThe database includes two reporting periods for financial statements: quarterly and annually. Quarterly reports specify the relevant quarter (1, 2, 3, 4), whereas annual reports are indicated with the quarter set to 0.\\n\\n</overall_description>\\n\\nYou are given 10 tables in the database. Here are the detailed descriptions of them in PostgreSQL format:\\n\\n### PostgreSQL tables, with their properties\\n```sql \\n-- Table: company_info\\nCREATE TABLE company_info(\\n    stock_code VARCHAR(255) primary key, --The trading symbol.\\n    industry VARCHAR(255), --Current industry of company. \\n    exchange VARCHAR(255), -- The exchange where the stock is listed (e.g., HOSE, HNX)\\n    stock_indices VARCHAR(255), -- The stock index it belongs to (e.g., VN30, HNX30)\\n    is_bank BOOLEAN, --Bool checking whether the company is a bank or not.\\n    is_securities BOOLEAN, --Bool checking whether the company is a securities firm or not.\\n);\\n\\n-- Table: sub_and_shareholder\\nCREATE TABLE sub_and_shareholder(\\n    stock_code VARCHAR(255) NOT NULL, \\n    invest_on VARCHAR(255) NOT NULL, -- The company invested on (can be subsidiary)\\n    FOREIGN KEY (stock_code) REFERENCES company_info(stock_code),\\n    FOREIGN KEY (invest_on) REFERENCES company_info(stock_code),\\n    PRIMARY KEY (stock_code, invest_on) \\n);\\n\\n-- Table: map_category_code_universal: Mapping account table for Financial Statement\\nCREATE TABLE map_category_code_universal(\\n    category_code VARCHAR(255) primary key, --The unique code for accounts recorded.\\n    en_caption VARCHAR(255), --The Accounts (Caption) for the `category_code`.\\n);\\n\\n-- Table: financial_statement: Financial Statement data for each `stock_code`\\nCREATE TABLE financial_statement(\\n    stock_code VARCHAR(255) references company_info(stock_code),\\n    year int, -- The reported financial year\\n    quarter int, --  The quarter reported (contain value either 0, 1, 2, 3, 4). If the value is 0, that mean the report is for annual report.\\n    category_code VARCHAR(255) references map_category_code_universal(category_code),\\n    data float, -- The value of the recorded category (in Million VND)\\n    date_added timestamp -- The datetime when the data was published\\n);\\n\\n-- Table: industry_financial_statement: General report for each industry sector\\n\\nCREATE TABLE industry_financial_statement(\\n    industry VARCHAR(255), -- Same with industry in table `company_info`\\n    year int, \\n    quarter int,\\n    category_code VARCHAR(255) references map_category_code_universal(category_code),\\n    data_mean float, -- Mean value of every firm in that industry\\n    data_sun float, -- Total value of every firm in that industry\\n    date_added timestamp \\n);\\n\\n\\n-- Table map_category_code_ratio: Mapping ratio name for Financial Ratio\\nCREATE TABLE map_category_code_ratio(\\n    ratio_code VARCHAR(255) primary key,\\n    ratio_name VARCHAR(255)\\n);\\n\\n-- Table financial_ratio: This table will have pre-calculated common Ratio such as ROA, ROE, FCF, etc\\n-- Same structure as `financial_statement`\\nCREATE TABLE financial_ratio(\\n    ratio_code VARCHAR(255) references map_category_code_ratio(ratio_code),\\n    stock_code VARCHAR(255) references company_info(stock_code),\\n    year int,\\n    quarter int,\\n    data float, -- Either in Million VND if the ratio_code related to money, or ratio otherwise\\n    date_added timestamp\\n);\\n\\n-- Table: industry_financial_ratio: General ratio for each industry sector\\nCREATE TABLE industry_financial_ratio(\\n    industry VARCHAR(255),\\n    ratio_code VARCHAR(255) references map_category_code_ratio(ratio_code),\\n    year int,\\n    quarter int,\\n    data_mean float, \\n    date_added timestamp\\n);\\n\\n-- Table map_category_code_explaination\\nCREATE TABLE map_category_code_explaination(\\n    category_code VARCHAR(255) primary key, --The unique code for accounts recorded in the financial statements explaination part.\\n    en_caption VARCHAR(255), --The Accounts (Caption) for the `category_code`.\\n);\\n\\n-- Table financial_statement_explaination: This table will have detailed information which is not covered in 3 main reports of financial statment. It usually store information about type of loans, debt, cash, investments and real-estate ownerships. \\n-- Same structure as `financial_statement`\\nCREATE TABLE financial_statement_explaination(\\n    category_code VARCHAR(255) references map_category_code_explaination(category_code),\\n    stock_code VARCHAR(255) references company_info(stock_code),\\n    year int,\\n    quarter int,\\n    data float, \\n    date_added timestamp \\n);\\n```\\n\\n### Note on schema description: \\n- Each value in `category_code` includes a prefix indicating the report it pertains to: *BS* is Balance sheet, *IS* is for Income statement, *CF* is Cash flow and *TM* is for Explaination.\\n- For `category_code` in `map_category_code_explaination`, there are 4 additional prefix: *Crop*, *Bank* and *Sec* for specific account related to each type of organization (e.g: Bank_TM_66 for Standard Debt), and *Share* if the account type is similar across organizations (e.g: Share_TM_5 for Share Issued).\\n- The numerical parts in `category_code` share some account code from VAS standard. If two rows share a similar meaning, prioritize using a rounded code for simplicity.\\n- Some accounts (`en_caption`) are specific to either corporation, banks or securities firms, resulting in variations in the number of accounts across companies. Specialized account captions often include a prefix, such as *(Bank) Deposits at the Central Bank* (BS_112).\\n- The YoY ratio in `financial_ratio` only cover the rate related to the previous year (Q3-2023 to Q3-2022 or 2019 to 2020). You should recalculate the ratio if the time window is not 1 year.\\n\\n### Peek view of the schema\\n - `company_info`\\n\\n| stock_code | industry |  is_bank | is_securities | exchange | stock_indices |\\n|:----|:----|:----|:----|:----|:----|\\n| VIC | Real Estate | false | false | HOSE | VN30 |\\n\\n- `sub_and_shareholder`\\n\\n| stock_code | invest_on |\\n|:---|:---|\\n| MSN | TCB |\\n\\nExplain:\\nThis mean MSN is a shareholder of TCB. \\n\\n- `financial_statement`\\n\\n| stock_code | year | quarter | category_code | data | date_added |\\n|:----|:----|:----|:----|:----|:----|\\n| VCB | 2023 |  0 | BS_300 | 1839613.198 | 2023-12-30 |\\n| LPB | 2024 |  2 | CF_045 | 68522.835| 2024-06-30 |\\n| BID | 2024 |  1 | IS_014 | 5392.606 | 2024-03-30 |\\n\\n- `map_category_code_universal`\\n\\n|category_code|universal_caption|\\n|:----|:----|\\n|BS_100| (Balance sheet) A. CURRENT ASSETS |\\n\\n### Note on creating query:\\n- You can access the database by using\\n```sql\\nSELECT * FROM financial_statement\\n\\nLIMIT 10;\\n```\\n- For any financial ratio, it must be selected from the database rather than being calculated manually.\\n- Always include a `quarter` condition in your query.\\n- If not specified, assume the data pertains to annual reports, with the query defaulting to `quarter` = 0.\\n- When selecting data by quarter, ensure the `quarter` is not 0, and when selecting data by year, the `quarter` must be 0.\\n- Do not directly compare data between quarterly and annual financial reports.\\n- Always include a LIMIT clause in your query.\\n\\n### Regulation:   \\n- The result of the SQL query will be displayed in the <data> tag.\\n- Your should reasoning and provide the SQL query with explaination for the task in <task> and <instruction> tag.\\n- For <correction> tag, you only need to provide the SQL query if the previous SQL query is incorrect.\\n- For <reflection> tag, you dont need to provide the SQL query.\\n- Always return SQL query in the following format:\\n    ```sql\\n    {SQL query}\\n    ```\"},\n",
       " {'role': 'user',\n",
       "  'content': \"Here is a natural language query that you need to convert into a SQL query:\\n\\n<task>\\n\\nWhat was the return on equity for VPBank and HDBank in 2021?\\n\\n</task>\\n\\n### Company details\\n\\n<data>\\n\\n**Company Info**\\n\\n| stock_code | en_company_name | industry | is_bank | is_securities |\\n| --- | --- | --- | --- | --- |\\n| HDB | Ho Chi Minh City Development Joint Stock Commercial Bank | Banking | True | False | \\n| VPB | Vietnam Prosperity Joint Stock Commercial Bank | Banking | True | False | \\n| LPB | Fortune Vietnam Joint Stock Commercial Bank | Banking | True | False |\\n\\n</data>\\n\\n### Snapshot of the mapping table:\\n<data>\\n\\n**category_code_mapping**\\n\\n| category_code | en_caption |\\n| --- | --- |\\n| BS_400 | (Balance sheet) D. EQUITY | \\n| BS_410 | (Balance sheet) I. Owner's Equity | \\n| BS_425 | (Balance sheet) Other funds under owner’s equity | \\n| BS_440 | (Balance sheet) TOTAL LIABILITIES AND EQUITY | \\n| CF_100 | (Cash flow) Net cash flow during the period | \\n| IS_020 | (Income statement) Net Revenue | \\n| IS_060 | (Income statement) Net profit from operating activities | \\n| IS_100 | (Income statement) Profit after corporate income tax (Net Income) | \\n| IS_150 | (Income statement) (Bank) Net Interest Income | \\n| Bank_TM_8 | (Explaination) Equity securities | \\n| CF_006 | (Cash flow) Gains/losses from investment activities |\\n\\n**ratio_code_mapping**\\n\\n| ratio_code | ratio_name |\\n| --- | --- |\\n| ER | Equity Ratio | \\n| NPM | Net profit margin | \\n| ROE | Return On Equity |\\n\\n**industry**\\n\\n| industry |\\n| --- |\\n| Banking |\\n\\n</data>\\n\\n### Here are some examples of a query that you can refer to:\\n\\n<example>\\n\\n**ROA of MBBank in Q1 2023**\\n\\n```sql\\nSELECT\\n    stock_code,\\n    year,\\n    quarter,\\n    ratio_code,\\n    data\\nFROM financial_ratio\\nWHERE ratio_code = 'ROA'\\n  AND year = 2023\\n  AND quarter = 1\\n  AND stock_code = 'MBB'\\nLIMIT 100;```\\n\\n**What is the Return on Equity (ROE) for all Banking companies in Q1 2024?**\\n\\n```sql\\nSELECT\\n    stock_code,\\n    year,\\n    quarter,\\n    ratio_code,\\n    data \\nFROM financial_ratio\\nWHERE ratio_code = 'ROE'\\n  AND year = 2024\\n  AND quarter = 1\\n  AND stock_code IN (SELECT stock_code FROM company_info WHERE is_bank = TRUE);```\\n\\n**Total Equity of Bank in 2023**\\n\\n```sql\\nselect \\n\\tindustry,\\n\\tquarter,\\n\\tyear,\\n\\tcategory_code,\\n\\tdata_sum\\n\\nfrom industry_financial_statement\\n\\nwhere\\n\\tcategory_code = 'BS_400' -- Total Equity\\n\\tand year = 2023\\n\\tand quarter = 0\\n\\tand industry = 'Banking'```\\n\\n</example>\\n \\n<instruction>\\n\\nAnalyze the task step-by-step then return SQL query that match with the database schema.\\n\\nIf possible, the table result should have the following columns:\\n\\n- stock_code / industry\\n- year\\n- quarter\\n- category_code / stock_code\\n- data / data_mean / data_sum\\n\\nHowever, feel free to modify the table if needed.\\n\\n</instruction>\\n\\n### Note: \\n- Include the detailed suitable name (including datetime, industry, ...) for the table in the query in the following format:\\n\\n```sql\\n-- ### detailed_table_name\\n```\\n\\n- The `category_code` mapping table contain value of both `financial_statment` and `explaination` tables\\n- The user can only see the query results, so your name should be as informative as possible\\n- If the time is not mentioned, assume getting the current time (Q3 2024)\\n- Do not make any assumption about the account name. You can refer to the mapping table above to find the suitable account.\\n- The query must not contain column `ratio_name` or `en_caption`.\\n- If the question requires data within the quarter time range (from 2020 to Q3 2024), you should use the `date_added` instead of `year` and `quarter`, in the following format:\\n\\n```sql\\nWHERE date_added BETWEEN '2020-01-01' AND '2024-09-30' \\nAND quarter !=0\\n\\n-- Date added for each quarter:\\n-- - Q1: YYYY-03-30\\n-- - Q2: YYYY-06-30\\n-- - Q3: YYYY-09-30\\n-- - Q4: YYYY-12-30\\n-- - Q0: YYYY-12-30 (Annual data is add at the end of the year)\\n```\\n\\n- If the question requires data within annual data, you can use `year` column directly\\n\\nAnswer in the following format:\\n### Reasoning:\\n{Your reasoning}\\n### SQL Query:\\n{SQL query}\"},\n",
       " {'role': 'assistant',\n",
       "  'content': \"### Reasoning:\\nThe user is asking for the Return on Equity (ROE) for VPBank (VPB) and HDBank (HDB) in 2021.\\nThis information can be found in the `financial_ratio` table.\\nWe need to filter the table by `ratio_code = 'ROE'`, `year = 2021`, and `stock_code` in ('VPB', 'HDB').\\nThe query will select `stock_code`, `year`, `quarter`, `ratio_code`, and `data` from the `financial_ratio` table based on these conditions.\\n\\n### SQL Query:\\n```sql\\n-- ### Return on Equity for VPBank and HDBank in 2021\\nSELECT\\n    stock_code,\\n    year,\\n    quarter,\\n    ratio_code,\\n    data\\nFROM financial_ratio\\nWHERE ratio_code = 'ROE'\\n  AND year = 2021\\n  AND stock_code IN ('VPB', 'HDB')\\nLIMIT 10;\\n```\"},\n",
       " {'role': 'user',\n",
       "  'content': '<result>\\n\\n### SQL Result from previous query:\\n\\n**SQL 1 Result: Return on Equity for VPBank and HDBank in 2021**\\n\\n| stock_code | year | quarter | ratio_code | data |\\n| --- | --- | --- | --- | --- |\\n| HDB | 2021 | 0 | ROE | 0.20959647013961916 | \\n| HDB | 2021 | 1 | ROE | 0.06361307692354293 | \\n| HDB | 2021 | 2 | ROE | 0.0602757848626795 | \\n| HDB | 2021 | 3 | ROE | 0.05169225771749273 | \\n| HDB | 2021 | 4 | ROE | 0.051603254967049164 | \\n| VPB | 2021 | 0 | ROE | 0.1330252259590137 | \\n| VPB | 2021 | 1 | ROE | 0.05717996535138513 | \\n| VPB | 2021 | 2 | ROE | 0.066926360579004 | \\n| VPB | 2021 | 3 | ROE | 0.03467159008958162 | \\n| VPB | 2021 | 4 | ROE | 0.02627518349913169 | \\n\\n\\n\\n</result>\\n\\n<correction>\\n\\nBased on the SQL table result in <result> tag, do you think the SQL queries is correct and can fully answer the original task? If there is no content on <result> tag, it means the preivous queries return nothing, which is incorrect.\\n\\nIf the previous SQL is not correct, return No under *Decision* heading, think step-by-step under *Reasoning* heading again and generate the correct SQL query under *SQL Query*.\\nOtherwise, you only need to return Yes under *Decision* heading. You must not provide the SQL query again.\\n\\nReturn in the following format (### SQL Query is optional):\\n\\n### Decision: \\n{Your decision}\\n\\n### Reasoning:\\n{Your reasoning}\\n\\n### SQL Query:\\n{Corrected SQL query}\\n\\n</correction>'},\n",
       " {'role': 'assistant',\n",
       "  'content': '### Decision: \\nNo\\n\\n### Reasoning:\\nThe previous SQL query returns both annual and quarterly ROE data for VPBank and HDBank in 2021. To specifically answer the question \"What was the return on equity for VPBank and HDBank in 2021?\", it is more appropriate to only show the annual ROE data (quarter = 0). The previous query, while providing relevant information, includes unnecessary quarterly data, making it not fully aligned with the likely user intent for annual performance.\\n\\n### SQL Query:\\n```sql\\n-- ### Annual Return on Equity for VPBank and HDBank in 2021\\nSELECT\\n    stock_code,\\n    year,\\n    quarter,\\n    ratio_code,\\n    data\\nFROM financial_ratio\\nWHERE ratio_code = \\'ROE\\'\\n  AND year = 2021\\n  AND quarter = 0\\n  AND stock_code IN (\\'VPB\\', \\'HDB\\')\\nLIMIT 10;\\n```'},\n",
       " {'role': 'user',\n",
       "  'content': '<result>\\n\\n### SQL Result from previous query:\\n\\n**SQL 1 Result: Return on Equity for VPBank and HDBank in 2021**\\n\\n| stock_code | year | quarter | ratio_code | data |\\n| --- | --- | --- | --- | --- |\\n| HDB | 2021 | 0 | ROE | 0.20959647013961916 | \\n| HDB | 2021 | 1 | ROE | 0.06361307692354293 | \\n| HDB | 2021 | 2 | ROE | 0.0602757848626795 | \\n| HDB | 2021 | 3 | ROE | 0.05169225771749273 | \\n| HDB | 2021 | 4 | ROE | 0.051603254967049164 | \\n| VPB | 2021 | 0 | ROE | 0.1330252259590137 | \\n| VPB | 2021 | 1 | ROE | 0.05717996535138513 | \\n| VPB | 2021 | 2 | ROE | 0.066926360579004 | \\n| VPB | 2021 | 3 | ROE | 0.03467159008958162 | \\n| VPB | 2021 | 4 | ROE | 0.02627518349913169 | \\n\\n**Correction SQL 1 Result: Annual Return on Equity for VPBank and HDBank in 2021**\\n\\n| stock_code | year | quarter | ratio_code | data |\\n| --- | --- | --- | --- | --- |\\n| HDB | 2021 | 0 | ROE | 0.20959647013961916 | \\n| VPB | 2021 | 0 | ROE | 0.1330252259590137 | \\n\\n</result>\\n\\n<correction>\\n\\nBased on the SQL table result in <result> tag, do you think the SQL queries is correct and can fully answer the original task? If there is no content on <result> tag, it means the preivous queries return nothing, which is incorrect.\\n\\nIf the previous SQL is not correct, return No under *Decision* heading, think step-by-step under *Reasoning* heading again and generate the correct SQL query under *SQL Query*.\\nOtherwise, you only need to return Yes under *Decision* heading. You must not provide the SQL query again.\\n\\nReturn in the following format (### SQL Query is optional):\\n\\n### Decision: \\n{Your decision}\\n\\n### Reasoning:\\n{Your reasoning}\\n\\n### SQL Query:\\n{Corrected SQL query}\\n\\n</correction>'},\n",
       " {'role': 'assistant',\n",
       "  'content': \"### Decision: \\nYes\\n\\n### Reasoning:\\nThe corrected SQL query successfully retrieves the annual Return on Equity (ROE) for VPBank (VPB) and HDBank (HDB) in 2021, as requested in the original task. The query filters for `ratio_code = 'ROE'`, `year = 2021`, `quarter = 0` (annual report), and the specified `stock_code`s. The SQL result accurately presents the annual ROE values for both banks, directly answering the user's question.\"}]"
      ]
     },
     "execution_count": 132,
     "metadata": {},
     "output_type": "execute_result"
    }
   ],
   "source": [
    "re_thinking_data[0]['messages']"
   ]
  },
  {
   "cell_type": "code",
   "execution_count": 89,
   "metadata": {},
   "outputs": [
    {
     "name": "stderr",
     "output_type": "stream",
     "text": [
      "2025-02-14 14:19:10,511 - INFO - AFC is enabled with max remote calls: 10.\n"
     ]
    },
    {
     "name": "stdout",
     "output_type": "stream",
     "text": [
      "<llm.llm.gemini.ClientGemini object at 0x7af9da70c680>\n",
      "gemini-2.0-flash\n"
     ]
    },
    {
     "name": "stderr",
     "output_type": "stream",
     "text": [
      "2025-02-14 14:19:16,704 - INFO - AFC remote call 1 is done.\n",
      "2025-02-14 14:19:16,705 - INFO - Completion time of gemini-2.0-flash: 6.193599462509155s\n"
     ]
    },
    {
     "name": "stdout",
     "output_type": "stream",
     "text": [
      "cached_content_token_count=None candidates_token_count=874 prompt_token_count=13210 total_token_count=14084\n"
     ]
    }
   ],
   "source": [
    "test = summarize_reasoning_chain(llm, re_thinking_data[0]['messages'])"
   ]
  },
  {
   "cell_type": "code",
   "execution_count": 90,
   "metadata": {},
   "outputs": [
    {
     "data": {
      "text/plain": [
       "\"### Reasoning:\\nThe user wants to retrieve and compare the Debt-to-Equity ratio (DTER) for specific Real Estate companies against the industry average. The data should be annual for the years 2020 to 2023 and for Q3 of 2024. We need to query the `financial_ratio` table for company-specific data and the `industry_financial_ratio` table for industry average data. Then, we will combine these results for comparison.\\n\\n**Steps:**\\n\\n1.  **Retrieve Company-Specific DTER:** Select `stock_code`, `year`, `quarter`, and `data` from the `financial_ratio` table where `ratio_code` is 'DTER' and `stock_code` is in the provided list of real estate companies (SZC, VHM, VRE, KBC, NVL, DXG, SCR, KDH, HDC, TCH, CEO, VC3, TIG, HLD, DTD). Filter for years 2020 to 2023 (annual reports, quarter=0) and Q3 2024 (quarter=3).\\n2.  **Retrieve Industry Average DTER:** Select `industry`, `year`, `quarter`, and `data_mean` from the `industry_financial_ratio` table where `ratio_code` is 'DTER' and `industry` is 'Real Estate'. Filter for years 2020 to 2023 (annual reports, quarter=0) and Q3 2024 (quarter=3).\\n3.  **Combine Results:** Use `LEFT JOIN` to combine the results from steps 1 and 2.\\n4.  **Order Results:** Order the final result by year and then by stock code.\\n\\n### SQL Query:\\n```sql\\n-- ### Company_Debt_to_Equity_Ratio_vs_Industry_Average_Combined\\nWITH CompanyDTER AS (\\n    SELECT \\n        fr.stock_code,\\n        ci.industry,\\n        fr.year,\\n        fr.quarter,\\n        fr.data AS company_dter\\n    FROM \\n        financial_ratio fr\\n    JOIN\\n        company_info ci ON fr.stock_code = ci.stock_code\\n    WHERE \\n        fr.ratio_code = 'DTER'\\n        AND ci.industry = 'Real Estate'\\n        AND fr.stock_code IN ('SZC', 'VHM', 'VRE', 'KBC', 'NVL', 'DXG', 'SCR', 'KDH', 'HDC', 'TCH', 'CEO', 'VC3', 'TIG', 'HLD', 'DTD')\\n        AND ((fr.year BETWEEN 2020 AND 2023 AND fr.quarter = 0) OR (fr.year = 2024 AND fr.quarter = 3))\\n),\\nIndustryAverageDTER AS (\\n    SELECT \\n        ifr.industry,\\n        ifr.year,\\n        ifr.quarter,\\n        ifr.data_mean AS industry_average_dter\\n    FROM \\n        industry_financial_ratio ifr\\n    WHERE \\n        ifr.ratio_code = 'DTER'\\n        AND ifr.industry = 'Real Estate'\\n        AND ((ifr.year BETWEEN 2020 AND 2023 AND ifr.quarter = 0) OR (ifr.year = 2024 AND ifr.quarter = 3))\\n)\\nSELECT \\n    cd.stock_code,\\n    cd.industry,\\n    cd.year,\\n    cd.quarter,\\n    cd.company_dter,\\n    iad.industry_average_dter\\nFROM \\n    CompanyDTER cd\\nLEFT JOIN \\n    IndustryAverageDTER iad ON cd.year = iad.year AND cd.quarter = iad.quarter\\nORDER BY \\n    cd.year, cd.stock_code\\nLIMIT 100;\\n```\""
      ]
     },
     "execution_count": 90,
     "metadata": {},
     "output_type": "execute_result"
    }
   ],
   "source": [
    "test"
   ]
  },
  {
   "cell_type": "code",
   "execution_count": null,
   "metadata": {},
   "outputs": [],
   "source": [
    "clean_reasoning = []\n",
    "for data in re_thinking_data:\n",
    "    data['table'] = ''\n",
    "    messages = data['messages'].copy()\n",
    "    summarize = summarize_reasoning_chain(llm, messages)\n",
    "\n",
    "    messages = messages[:2]\n",
    "    messages.append({\n",
    "        \"role\": \"assistant\",\n",
    "        \"content\": summarize\n",
    "    })\n",
    "    data2 = data.copy()\n",
    "    data2['messages'] = messages\n",
    "\n",
    "    clean_reasoning.append(data2)   \n",
    "    print(summarize)\n"
   ]
  },
  {
   "cell_type": "code",
   "execution_count": 92,
   "metadata": {},
   "outputs": [
    {
     "data": {
      "text/plain": [
       "{'ids': '586f7627-5929-4ad2-ab00-45dee24e0fdf',\n",
       " 'date': '2025-02-14 00:34:15',\n",
       " 'question': \"Calculate the Debt-to-Equity ratio for each of the Real Estate companies (SZC, VHM, VRE, KBC, NVL, DXG, SCR, KDH, HDC, TCH, CEO, VC3, TIG, HLD, DTD) annually from 2020 to Q3 2024.  Compare each company's ratio to the industry average for each year.\",\n",
       " 'table': '',\n",
       " 'reasoning': \"### Decision: \\nYES\\n\\n### Reasoning:\\nThe corrected SQL query successfully retrieves the Debt-to-Equity ratio for each specified Real Estate company and the industry average for each year from 2020 to 2023 and Q3 2024. The result table combines both company-specific DTER and industry average DTER in the same row, making it easy to compare each company's ratio to the industry average for the corresponding year and quarter, as requested in the original task. The table structure is suitable for the task.\",\n",
       " 'sql': [],\n",
       " 'messages': [{'role': 'system',\n",
       "   'content': \"You are an expert in financial statement and database management. You will be asked to convert a natural language query into a SQL query. \\n### Database Description\\nYou're given database about the financial statments of top Vietnamese companies, either bank, cooperates and securities.\\n\\n<overall_description>\\n\\nAll the data in the financial statments are followed by the regulation of Vietnamese Accounting Standard (VAS). The English translations are followed by the International Financial Reporting Standards (IFRS).\\n\\nThere are 3 type of financial statments, based on VAS regulation: bank, non-bank corporation and securities firm (firms that provide stock options and financial instruments).\\nAll 3 type of reports are stored in one single table, and there will be a sight different between them.\\n\\nThe database includes two reporting periods for financial statements: quarterly and annually. Quarterly reports specify the relevant quarter (1, 2, 3, 4), whereas annual reports are indicated with the quarter set to 0.\\n\\n</overall_description>\\n\\nYou are given 10 tables in the database. Here are the detailed descriptions of them in PostgreSQL format:\\n\\n### PostgreSQL tables, with their properties\\n```sql \\n-- Table: company_info\\nCREATE TABLE company_info(\\n    stock_code VARCHAR(255) primary key, --The trading symbol.\\n    industry VARCHAR(255), --Current industry of company. \\n    exchange VARCHAR(255), -- The exchange where the stock is listed (e.g., HOSE, HNX)\\n    stock_indices VARCHAR(255), -- The stock index it belongs to (e.g., VN30, HNX30)\\n    is_bank BOOLEAN, --Bool checking whether the company is a bank or not.\\n    is_securities BOOLEAN, --Bool checking whether the company is a securities firm or not.\\n);\\n\\n-- Table: sub_and_shareholder\\nCREATE TABLE sub_and_shareholder(\\n    stock_code VARCHAR(255) NOT NULL, \\n    invest_on VARCHAR(255) NOT NULL, -- The company invested on (can be subsidiary)\\n    FOREIGN KEY (stock_code) REFERENCES company_info(stock_code),\\n    FOREIGN KEY (invest_on) REFERENCES company_info(stock_code),\\n    PRIMARY KEY (stock_code, invest_on) \\n);\\n\\n-- Table: map_category_code_universal: Mapping account table for Financial Statement\\nCREATE TABLE map_category_code_universal(\\n    category_code VARCHAR(255) primary key, --The unique code for accounts recorded.\\n    en_caption VARCHAR(255), --The Accounts (Caption) for the `category_code`.\\n);\\n\\n-- Table: financial_statement: Financial Statement data for each `stock_code`\\nCREATE TABLE financial_statement(\\n    stock_code VARCHAR(255) references company_info(stock_code),\\n    year int, -- The reported financial year\\n    quarter int, --  The quarter reported (contain value either 0, 1, 2, 3, 4). If the value is 0, that mean the report is for annual report.\\n    category_code VARCHAR(255) references map_category_code_universal(category_code),\\n    data float, -- The value of the recorded category (in Million VND)\\n    date_added timestamp -- The datetime when the data was published\\n);\\n\\n-- Table: industry_financial_statement: General report for each industry sector\\n\\nCREATE TABLE industry_financial_statement(\\n    industry VARCHAR(255), -- Same with industry in table `company_info`\\n    year int, \\n    quarter int,\\n    category_code VARCHAR(255) references map_category_code_universal(category_code),\\n    data_mean float, -- Mean value of every firm in that industry\\n    data_sun float, -- Total value of every firm in that industry\\n    date_added timestamp \\n);\\n\\n\\n-- Table map_category_code_ratio: Mapping ratio name for Financial Ratio\\nCREATE TABLE map_category_code_ratio(\\n    ratio_code VARCHAR(255) primary key,\\n    ratio_name VARCHAR(255)\\n);\\n\\n-- Table financial_ratio: This table will have pre-calculated common Ratio such as ROA, ROE, FCF, etc\\n-- Same structure as `financial_statement`\\nCREATE TABLE financial_ratio(\\n    ratio_code VARCHAR(255) references map_category_code_ratio(ratio_code),\\n    stock_code VARCHAR(255) references company_info(stock_code),\\n    year int,\\n    quarter int,\\n    data float, -- Either in Million VND if the ratio_code related to money, or ratio otherwise\\n    date_added timestamp\\n);\\n\\n-- Table: industry_financial_ratio: General ratio for each industry sector\\nCREATE TABLE industry_financial_ratio(\\n    industry VARCHAR(255),\\n    ratio_code VARCHAR(255) references map_category_code_ratio(ratio_code),\\n    year int,\\n    quarter int,\\n    data_mean float, \\n    date_added timestamp\\n);\\n\\n-- Table map_category_code_explaination\\nCREATE TABLE map_category_code_explaination(\\n    category_code VARCHAR(255) primary key, --The unique code for accounts recorded in the financial statements explaination part.\\n    en_caption VARCHAR(255), --The Accounts (Caption) for the `category_code`.\\n);\\n\\n-- Table financial_statement_explaination: This table will have detailed information which is not covered in 3 main reports of financial statment. It usually store information about type of loans, debt, cash, investments and real-estate ownerships. \\n-- Same structure as `financial_statement`\\nCREATE TABLE financial_statement_explaination(\\n    category_code VARCHAR(255) references map_category_code_explaination(category_code),\\n    stock_code VARCHAR(255) references company_info(stock_code),\\n    year int,\\n    quarter int,\\n    data float, \\n    date_added timestamp \\n);\\n```\\n\\n### Note on schema description: \\n- Each value in `category_code` includes a prefix indicating the report it pertains to: *BS* is Balance sheet, *IS* is for Income statement, *CF* is Cash flow and *TM* is for Explaination.\\n- For `category_code` in `map_category_code_explaination`, there are 4 additional prefix: *Crop*, *Bank* and *Sec* for specific account related to each type of organization (e.g: Bank_TM_66 for Standard Debt), and *Share* if the account type is similar across organizations (e.g: Share_TM_5 for Share Issued).\\n- The numerical parts in `category_code` share some account code from VAS standard. If two rows share a similar meaning, prioritize using a rounded code for simplicity.\\n- Some accounts (`en_caption`) are specific to either corporation, banks or securities firms, resulting in variations in the number of accounts across companies. Specialized account captions often include a prefix, such as *(Bank) Deposits at the Central Bank* (BS_112).\\n- The YoY ratio in `financial_ratio` only cover the rate related to the previous year (Q3-2023 to Q3-2022 or 2019 to 2020). You should recalculate the ratio if the time window is not 1 year.\\n\\n### Peek view of the schema\\n - `company_info`\\n\\n| stock_code | industry |  is_bank | is_securities | exchange | stock_indices |\\n|:----|:----|:----|:----|:----|:----|\\n| VIC | Real Estate | false | false | HOSE | VN30 |\\n\\n- `sub_and_shareholder`\\n\\n| stock_code | invest_on |\\n|:---|:---|\\n| MSN | TCB |\\n\\nExplain:\\nThis mean MSN is a shareholder of TCB. \\n\\n- `financial_statement`\\n\\n| stock_code | year | quarter | category_code | data | date_added |\\n|:----|:----|:----|:----|:----|:----|\\n| VCB | 2023 |  0 | BS_300 | 1839613.198 | 2023-12-30 |\\n| LPB | 2024 |  2 | CF_045 | 68522.835| 2024-06-30 |\\n| BID | 2024 |  1 | IS_014 | 5392.606 | 2024-03-30 |\\n\\n- `map_category_code_universal`\\n\\n|category_code|universal_caption|\\n|:----|:----|\\n|BS_100| (Balance sheet) A. CURRENT ASSETS |\\n\\n### Note on creating query:\\n- You can access the database by using\\n```sql\\nSELECT * FROM financial_statement\\n\\nLIMIT 10;\\n```\\n- For any financial ratio, it must be selected from the database rather than being calculated manually.\\n- Always include a `quarter` condition in your query.\\n- If not specified, assume the data pertains to annual reports, with the query defaulting to `quarter` = 0.\\n- When selecting data by quarter, ensure the `quarter` is not 0, and when selecting data by year, the `quarter` must be 0.\\n- Do not directly compare data between quarterly and annual financial reports.\\n- Always include a LIMIT clause in your query.\\n\\n### Regulation:   \\n- The result of the SQL query will be displayed in the <data> tag.\\n- Your should reasoning and provide the SQL query with explaination for the task in <task> and <instruction> tag.\\n- For <correction> tag, you only need to provide the SQL query if the previous SQL query is incorrect.\\n- For <reflection> tag, you dont need to provide the SQL query.\\n- Always return SQL query in the following format:\\n    ```sql\\n    {SQL query}\\n    ```\"},\n",
       "  {'role': 'user',\n",
       "   'content': \"Here is a natural language query that you need to convert into a SQL query:\\n\\n<task>\\n\\nCalculate the Debt-to-Equity ratio for each of the Real Estate companies (SZC, VHM, VRE, KBC, NVL, DXG, SCR, KDH, HDC, TCH, CEO, VC3, TIG, HLD, DTD) annually from 2020 to Q3 2024.  Compare each company's ratio to the industry average for each year.\\n\\n</task>\\n\\n### Company details\\n\\n<data>\\n\\n**Company Info**\\n\\n| stock_code | en_company_name | industry | is_bank | is_securities |\\n| --- | --- | --- | --- | --- |\\n| CTG | Vietnam Joint Stock Commercial Bank For Industry and Trade | Banking | True | False | \\n| HDB | Ho Chi Minh City Development Joint Stock Commercial Bank | Banking | True | False | \\n| TCB | Vietnam Technological And Commercial Joint Stock Bank | Banking | True | False | \\n| REE | Refrigeration Electrical Engineering Corporation | Utilities (Electricity, Water & Gas) | False | False | \\n| SZC | Sonadezi Chau Duc Shareholding Company | Real Estate | False | False | \\n| BSR | Binh Son Refining and Petrochemical Joint Stock Company | Oil and Gas | False | False | \\n| ITD | Innovative Technology Development Corporation | Information Technology | False | False | \\n| KDC | KIDO Group Corporation | Food and Beverages | False | False | \\n| SCR | Sai Gon Thuong Tin Real Estate Joint Stock Company | Real Estate | False | False | \\n| KBC | Kinh Bac City Development Holding Corporation | Real Estate | False | False | \\n| VNM | Vietnam Dairy Products Joint Stock Company | Food and Beverages | False | False | \\n| VHM | Vinhomes Joint Stock Company | Real Estate | False | False | \\n| VRE | Vincom Retail Joint Stock Company | Real Estate | False | False | \\n| VJC | VietJet Aviation Joint Stock Company | Travel and Leisure | False | False | \\n| KDH | Khang Dien House Trading and Investment Joint Stock Company | Real Estate | False | False | \\n| HDC | Ba Ria - Vung Tau House Development Joint Stock Company | Real Estate | False | False | \\n| TCH | Hoang Huy Investment Financial Services Joint Stock Company | Real Estate | False | False | \\n| CEO | CEO Group Joint Stock Company | Real Estate | False | False | \\n| NVL | No Va Land Investment Group Corporation | Real Estate | False | False | \\n| DBC | DABACO Group | Food and Beverages | False | False | \\n| DGC | Ducgiang Chemicals Group Joint Stock Company | Chemicals | False | False | \\n| DTD | Thanh Dat Investment Development Joint Stock Company | Real Estate | False | False | \\n| HLD | HUDLAND Real Estate Investment and Development Joint | Real Estate | False | False | \\n| TIG | ThangLong Investment Group Joint Stock Company | Real Estate | False | False | \\n| VC3 | Nam MeKong Group Joint Stock Company | Real Estate | False | False | \\n| VCS | VICOSTONE Joint Stock Company | Construction and Materials | False | False | \\n| DXG | Dat Xanh Group Joint Stock Company | Real Estate | False | False |\\n\\n</data>\\n\\n### Snapshot of the mapping table:\\n<data>\\n\\n**category_code_mapping**\\n\\n| category_code | en_caption |\\n| --- | --- |\\n| BS_122 | (Balance sheet) (Bank) Total Trading securities | \\n| BS_126 | (Balance sheet) (Bank) Total Loans to customers | \\n| BS_270 | (Balance sheet) TOTAL ASSETS | \\n| BS_400 | (Balance sheet) D. EQUITY | \\n| BS_410 | (Balance sheet) I. Owner's Equity | \\n| BS_440 | (Balance sheet) TOTAL LIABILITIES AND EQUITY | \\n| Bank_TM_67 | (Explaination) Debts needing attention (Group 2 debts) | \\n| CF_075 | (Cash flow) Cash inflows from borrowing | \\n| CF_076 | (Cash flow) Cash outflows for principal debt repayment |\\n\\n**ratio_code_mapping**\\n\\n| ratio_code | ratio_name |\\n| --- | --- |\\n| DTTCR | Debt To Total Capital Ratio | \\n| CFOTTE | CFO To Total Equity | \\n| DTER | Debt To Equity Ratio |\\n\\n**industry**\\n\\n| industry |\\n| --- |\\n| Real Estate |\\n\\n</data>\\n\\n### Here are some examples of a query that you can refer to:\\n\\n<example>\\n\\n**Calculate the Debt-to-Equity ratio for Masan Group and its subsidiaries for the year 2021.**\\n\\n```sql\\n-- Step 1: Get the stock codes for Masan Group and its subsidiaries\\nWITH subsidiaries AS (\\n    SELECT invest_on AS stock_code\\n    FROM sub_and_shareholder\\n    WHERE stock_code = 'MSN'\\n    UNION ALL\\n    SELECT 'MSN' AS stock_code\\n)\\n\\n-- Step 2: Get the financial data for Debt-to-Equity Ratio for the year 2021\\nSELECT \\n    fr.stock_code,\\n    fr.year,\\n    fr.quarter,\\n    fr.ratio_code,\\n    fr.data\\nFROM \\n    financial_ratio fr \\nJOIN \\n    subsidiaries s ON fr.stock_code = s.stock_code\\nWHERE \\n    fr.year = 2021\\n    AND fr.quarter = 0 -- Annual report\\n    and fr.ratio_code = 'DTER' -- Debt-to-Equity Ratio\\nLIMIT 100;```\\n\\n**Calculate the Long Term Debt-to-Equity ratio for ABB in Q2 2023.**\\n\\n```sql\\nSELECT \\n    stock_code,\\n    year,\\n    quarter,\\n    ratio_code,\\n    data\\nFROM \\n    financial_ratio\\nWHERE \\n    ratio_code = 'LTDTER' -- Long Term Debt-to-Equity ratio code\\n    AND stock_code = 'ABB' -- Company stock code\\n    AND year = 2023\\n    AND quarter = 2; -- Q2 2023```\\n\\n**Calculate the Debt-to-Equity Ratio for Vinamilk, Masan Group, and Hoa Phat Group annually from 2020 to 2023**\\n\\n```sql\\nSELECT \\n    stock_code,\\n    industry,\\n    year,\\n    quarter,\\n    ratio_code,\\n    data\\nFROM \\n    financial_ratio\\n\\nWHERE \\n    ratio_code = 'DTER' -- Assuming 'DTER' represents the Debt-to-Equity ratio\\n    AND year IN (2020, 2021, 2022, 2023)\\n    AND stock_code IN ('VNM', 'MSN', 'HPG') -- Stock codes for Vinamilk, Masan Group, and Hoa Phat Group\\n    AND quarter = 0 -- Annual data\\nORDER BY \\n    year, stock_code;```\\n\\n</example>\\n \\n<instruction>\\n\\nAnalyze the task step-by-step then return SQL query that match with the database schema.\\n\\nIf possible, the table result should have the following columns:\\n\\n- stock_code / industry\\n- year\\n- quarter\\n- category_code / stock_code\\n- data / data_mean / data_sum\\n\\nHowever, feel free to modify the table if needed.\\n\\n</instruction>\\n\\n### Note: \\n- Include the detailed suitable name (including datetime, industry, ...) for the table in the query in the following format:\\n\\n```sql\\n-- ### detailed_table_name\\n```\\n\\n- The `category_code` mapping table contain value of both `financial_statment` and `explaination` tables\\n- The user can only see the query results, so your name should be as informative as possible\\n- If the time is not mentioned, assume getting the current time (Q3 2024)\\n- Do not make any assumption about the account name. You can refer to the mapping table above to find the suitable account.\\n- The query must not contain column `ratio_name` or `en_caption`.\\n- If the question requires data within the quarter time range (from 2020 to Q3 2024), you should use the `date_added` instead of `year` and `quarter`, in the following format:\\n\\n```sql\\nWHERE date_added BETWEEN '2020-01-01' AND '2024-09-30' \\nAND quarter !=0\\n\\n-- Date added for each quarter:\\n-- - Q1: YYYY-03-30\\n-- - Q2: YYYY-06-30\\n-- - Q3: YYYY-09-30\\n-- - Q4: YYYY-12-30\\n-- - Q0: YYYY-12-30 (Annual data is add at the end of the year)\\n```\\n\\n- If the question requires data within annual data, you can use `year` column directly\\n\\nAnswer in the following format:\\n### Reasoning:\\n{Your reasoning}\\n### SQL Query:\\n{SQL query}\"},\n",
       "  {'role': 'assisant',\n",
       "   'content': \"### Reasoning:\\nThe user wants to retrieve and compare the Debt-to-Equity ratio (DTER) for specific Real Estate companies against the industry average. The data should be annual for the years 2020 to 2023 and for Q3 of 2024. We need to query the `financial_ratio` table for company-specific data and the `industry_financial_ratio` table for industry average data. Then, we will combine these results for comparison.\\n\\n**Steps:**\\n\\n1.  **Retrieve Company-Specific DTER:** Select `stock_code`, `year`, `quarter`, and `data` from the `financial_ratio` table where `ratio_code` is 'DTER' and `stock_code` is in the provided list of real estate companies (SZC, VHM, VRE, KBC, NVL, DXG, SCR, KDH, HDC, TCH, CEO, VC3, TIG, HLD, DTD). Filter for years 2020 to 2023 (annual reports, quarter=0) and Q3 2024 (quarter=3).\\n2.  **Retrieve Industry Average DTER:** Select `industry`, `year`, `quarter`, and `data_mean` from the `industry_financial_ratio` table where `ratio_code` is 'DTER' and `industry` is 'Real Estate'. Filter for years 2020 to 2023 (annual reports, quarter=0) and Q3 2024 (quarter=3).\\n3.  **Combine Results:** Use `LEFT JOIN` to combine company-level data with industry-level data based on year and quarter.\\n\\n### SQL Query:\\n```sql\\n-- ### Company_Debt_to_Equity_Ratio_vs_Industry_Average_Combined\\nWITH CompanyDTER AS (\\n    SELECT \\n        fr.stock_code,\\n        ci.industry,\\n        fr.year,\\n        fr.quarter,\\n        fr.data AS company_dter\\n    FROM \\n        financial_ratio fr\\n    JOIN\\n        company_info ci ON fr.stock_code = ci.stock_code\\n    WHERE \\n        fr.ratio_code = 'DTER'\\n        AND ci.industry = 'Real Estate'\\n        AND fr.stock_code IN ('SZC', 'VHM', 'VRE', 'KBC', 'NVL', 'DXG', 'SCR', 'KDH', 'HDC', 'TCH', 'CEO', 'VC3', 'TIG', 'HLD', 'DTD')\\n        AND ((fr.year BETWEEN 2020 AND 2023 AND fr.quarter = 0) OR (fr.year = 2024 AND fr.quarter = 3))\\n),\\nIndustryAverageDTER AS (\\n    SELECT \\n        ifr.industry,\\n        ifr.year,\\n        ifr.quarter,\\n        ifr.data_mean AS industry_average_dter\\n    FROM \\n        industry_financial_ratio ifr\\n    WHERE \\n        ifr.ratio_code = 'DTER'\\n        AND ifr.industry = 'Real Estate'\\n        AND ((ifr.year BETWEEN 2020 AND 2023 AND ifr.quarter = 0) OR (ifr.year = 2024 AND ifr.quarter = 3))\\n)\\nSELECT \\n    cd.stock_code,\\n    cd.industry,\\n    cd.year,\\n    cd.quarter,\\n    cd.company_dter,\\n    iad.industry_average_dter\\nFROM \\n    CompanyDTER cd\\nLEFT JOIN \\n    IndustryAverageDTER iad ON cd.year = iad.year AND cd.quarter = iad.quarter\\nORDER BY \\n    cd.year, cd.stock_code\\nLIMIT 100;\\n```\"}],\n",
       " 'duration': 22.4616801738739,\n",
       " 'ner': [{'role': 'user',\n",
       "   'content': '<task>\\n\\nBased on given question, analyze and suggest the suitable accounts in the financial statement and/or financial ratios that can be used to answer the question.\\nExtract the company name and/or the industry that positively mentioned based on the given question.\\n\\n</task>\\n \\n<question>\\n\\nCalculate the Debt-to-Equity ratio for each of the Real Estate companies (SZC, VHM, VRE, KBC, NVL, DXG, SCR, KDH, HDC, TCH, CEO, VC3, TIG, HLD, DTD) annually from 2020 to Q3 2024.  Compare each company\\'s ratio to the industry average for each year.\\n\\n</question>\\n\\nAnalyze and return the accounts and entities that useful to answer the question.\\nReturn in JSON format, followed by this schema. \\n\\n```\\n{\\n    \"industry\": list[str],\\n    \"company_name\": list[str],\\n    \"financial_statement_account\": list[str],\\n    \"financial_ratio\": list[str]\\n}\\n```\\nReturn an empty list if no related data is found.'},\n",
       "  {'role': 'assistant',\n",
       "   'content': '```json\\n{\\n    \"industry\": [\\n        \"Real Estate\"\\n    ],\\n    \"company_name\": [\\n        \"SZC\",\\n        \"VHM\",\\n        \"VRE\",\\n        \"KBC\",\\n        \"NVL\",\\n        \"DXG\",\\n        \"SCR\",\\n        \"KDH\",\\n        \"HDC\",\\n        \"TCH\",\\n        \"CEO\",\\n        \"VC3\",\\n        \"TIG\",\\n        \"HLD\",\\n        \"DTD\"\\n    ],\\n    \"financial_statement_account\": [\\n        \"Total Debt\",\\n        \"Total Equity\"\\n    ],\\n    \"financial_ratio\": [\\n        \"Debt-to-Equity ratio\"\\n    ]\\n}\\n```'}]}"
      ]
     },
     "execution_count": 92,
     "metadata": {},
     "output_type": "execute_result"
    }
   ],
   "source": [
    "clean_reasoning[0]\n"
   ]
  },
  {
   "cell_type": "code",
   "execution_count": 93,
   "metadata": {},
   "outputs": [],
   "source": [
    "# select_data = perfect_data + usable_yes_no + usable_not_perfect_noNo\n",
    "\n",
    "select_data = perfect_data + clean_reasoning"
   ]
  },
  {
   "cell_type": "code",
   "execution_count": 94,
   "metadata": {},
   "outputs": [
    {
     "data": {
      "text/plain": [
       "1656"
      ]
     },
     "execution_count": 94,
     "metadata": {},
     "output_type": "execute_result"
    }
   ],
   "source": [
    "len(select_data)\n"
   ]
  },
  {
   "cell_type": "code",
   "execution_count": 95,
   "metadata": {},
   "outputs": [
    {
     "data": {
      "text/plain": [
       "{'ids': '67644a21-6c8d-4f43-99cd-e23e5f6bb60b',\n",
       " 'date': '2025-02-14 00:27:30',\n",
       " 'question': 'What were the total revenues of Vinamilk and Masan Group in 2022?',\n",
       " 'table': '',\n",
       " 'reasoning': \"### Decision: \\nYES\\n\\n### Reasoning:\\nThe SQL query successfully retrieved the total revenues for Vinamilk (VNM) and Masan Group (MSN) in 2022, as requested in the original task. The result table clearly displays the stock codes, year, quarter, category code (Revenue from sales and services rendered), and the corresponding revenue data for both companies. This directly answers the user's question, and the table format is appropriate for presenting this information.\",\n",
       " 'sql': [],\n",
       " 'messages': [{'role': 'system',\n",
       "   'content': \"You are an expert in financial statement and database management. You will be asked to convert a natural language query into a SQL query. \\n### Database Description\\nYou're given database about the financial statments of top Vietnamese companies, either bank, cooperates and securities.\\n\\n<overall_description>\\n\\nAll the data in the financial statments are followed by the regulation of Vietnamese Accounting Standard (VAS). The English translations are followed by the International Financial Reporting Standards (IFRS).\\n\\nThere are 3 type of financial statments, based on VAS regulation: bank, non-bank corporation and securities firm (firms that provide stock options and financial instruments).\\nAll 3 type of reports are stored in one single table, and there will be a sight different between them.\\n\\nThe database includes two reporting periods for financial statements: quarterly and annually. Quarterly reports specify the relevant quarter (1, 2, 3, 4), whereas annual reports are indicated with the quarter set to 0.\\n\\n</overall_description>\\n\\nYou are given 10 tables in the database. Here are the detailed descriptions of them in PostgreSQL format:\\n\\n### PostgreSQL tables, with their properties\\n```sql \\n-- Table: company_info\\nCREATE TABLE company_info(\\n    stock_code VARCHAR(255) primary key, --The trading symbol.\\n    industry VARCHAR(255), --Current industry of company. \\n    exchange VARCHAR(255), -- The exchange where the stock is listed (e.g., HOSE, HNX)\\n    stock_indices VARCHAR(255), -- The stock index it belongs to (e.g., VN30, HNX30)\\n    is_bank BOOLEAN, --Bool checking whether the company is a bank or not.\\n    is_securities BOOLEAN, --Bool checking whether the company is a securities firm or not.\\n);\\n\\n-- Table: sub_and_shareholder\\nCREATE TABLE sub_and_shareholder(\\n    stock_code VARCHAR(255) NOT NULL, \\n    invest_on VARCHAR(255) NOT NULL, -- The company invested on (can be subsidiary)\\n    FOREIGN KEY (stock_code) REFERENCES company_info(stock_code),\\n    FOREIGN KEY (invest_on) REFERENCES company_info(stock_code),\\n    PRIMARY KEY (stock_code, invest_on) \\n);\\n\\n-- Table: map_category_code_universal: Mapping account table for Financial Statement\\nCREATE TABLE map_category_code_universal(\\n    category_code VARCHAR(255) primary key, --The unique code for accounts recorded.\\n    en_caption VARCHAR(255), --The Accounts (Caption) for the `category_code`.\\n);\\n\\n-- Table: financial_statement: Financial Statement data for each `stock_code`\\nCREATE TABLE financial_statement(\\n    stock_code VARCHAR(255) references company_info(stock_code),\\n    year int, -- The reported financial year\\n    quarter int, --  The quarter reported (contain value either 0, 1, 2, 3, 4). If the value is 0, that mean the report is for annual report.\\n    category_code VARCHAR(255) references map_category_code_universal(category_code),\\n    data float, -- The value of the recorded category (in Million VND)\\n    date_added timestamp -- The datetime when the data was published\\n);\\n\\n-- Table: industry_financial_statement: General report for each industry sector\\n\\nCREATE TABLE industry_financial_statement(\\n    industry VARCHAR(255), -- Same with industry in table `company_info`\\n    year int, \\n    quarter int,\\n    category_code VARCHAR(255) references map_category_code_universal(category_code),\\n    data_mean float, -- Mean value of every firm in that industry\\n    data_sun float, -- Total value of every firm in that industry\\n    date_added timestamp \\n);\\n\\n\\n-- Table map_category_code_ratio: Mapping ratio name for Financial Ratio\\nCREATE TABLE map_category_code_ratio(\\n    ratio_code VARCHAR(255) primary key,\\n    ratio_name VARCHAR(255)\\n);\\n\\n-- Table financial_ratio: This table will have pre-calculated common Ratio such as ROA, ROE, FCF, etc\\n-- Same structure as `financial_statement`\\nCREATE TABLE financial_ratio(\\n    ratio_code VARCHAR(255) references map_category_code_ratio(ratio_code),\\n    stock_code VARCHAR(255) references company_info(stock_code),\\n    year int,\\n    quarter int,\\n    data float, -- Either in Million VND if the ratio_code related to money, or ratio otherwise\\n    date_added timestamp\\n);\\n\\n-- Table: industry_financial_ratio: General ratio for each industry sector\\nCREATE TABLE industry_financial_ratio(\\n    industry VARCHAR(255),\\n    ratio_code VARCHAR(255) references map_category_code_ratio(ratio_code),\\n    year int,\\n    quarter int,\\n    data_mean float, \\n    date_added timestamp\\n);\\n\\n-- Table map_category_code_explaination\\nCREATE TABLE map_category_code_explaination(\\n    category_code VARCHAR(255) primary key, --The unique code for accounts recorded in the financial statements explaination part.\\n    en_caption VARCHAR(255), --The Accounts (Caption) for the `category_code`.\\n);\\n\\n-- Table financial_statement_explaination: This table will have detailed information which is not covered in 3 main reports of financial statment. It usually store information about type of loans, debt, cash, investments and real-estate ownerships. \\n-- Same structure as `financial_statement`\\nCREATE TABLE financial_statement_explaination(\\n    category_code VARCHAR(255) references map_category_code_explaination(category_code),\\n    stock_code VARCHAR(255) references company_info(stock_code),\\n    year int,\\n    quarter int,\\n    data float, \\n    date_added timestamp \\n);\\n```\\n\\n### Note on schema description: \\n- Each value in `category_code` includes a prefix indicating the report it pertains to: *BS* is Balance sheet, *IS* is for Income statement, *CF* is Cash flow and *TM* is for Explaination.\\n- For `category_code` in `map_category_code_explaination`, there are 4 additional prefix: *Crop*, *Bank* and *Sec* for specific account related to each type of organization (e.g: Bank_TM_66 for Standard Debt), and *Share* if the account type is similar across organizations (e.g: Share_TM_5 for Share Issued).\\n- The numerical parts in `category_code` share some account code from VAS standard. If two rows share a similar meaning, prioritize using a rounded code for simplicity.\\n- Some accounts (`en_caption`) are specific to either corporation, banks or securities firms, resulting in variations in the number of accounts across companies. Specialized account captions often include a prefix, such as *(Bank) Deposits at the Central Bank* (BS_112).\\n- The YoY ratio in `financial_ratio` only cover the rate related to the previous year (Q3-2023 to Q3-2022 or 2019 to 2020). You should recalculate the ratio if the time window is not 1 year.\\n\\n### Peek view of the schema\\n - `company_info`\\n\\n| stock_code | industry |  is_bank | is_securities | exchange | stock_indices |\\n|:----|:----|:----|:----|:----|:----|\\n| VIC | Real Estate | false | false | HOSE | VN30 |\\n\\n- `sub_and_shareholder`\\n\\n| stock_code | invest_on |\\n|:---|:---|\\n| MSN | TCB |\\n\\nExplain:\\nThis mean MSN is a shareholder of TCB. \\n\\n- `financial_statement`\\n\\n| stock_code | year | quarter | category_code | data | date_added |\\n|:----|:----|:----|:----|:----|:----|\\n| VCB | 2023 |  0 | BS_300 | 1839613.198 | 2023-12-30 |\\n| LPB | 2024 |  2 | CF_045 | 68522.835| 2024-06-30 |\\n| BID | 2024 |  1 | IS_014 | 5392.606 | 2024-03-30 |\\n\\n- `map_category_code_universal`\\n\\n|category_code|universal_caption|\\n|:----|:----|\\n|BS_100| (Balance sheet) A. CURRENT ASSETS |\\n\\n### Note on creating query:\\n- You can access the database by using\\n```sql\\nSELECT * FROM financial_statement\\n\\nLIMIT 10;\\n```\\n- For any financial ratio, it must be selected from the database rather than being calculated manually.\\n- Always include a `quarter` condition in your query.\\n- If not specified, assume the data pertains to annual reports, with the query defaulting to `quarter` = 0.\\n- When selecting data by quarter, ensure the `quarter` is not 0, and when selecting data by year, the `quarter` must be 0.\\n- Do not directly compare data between quarterly and annual financial reports.\\n- Always include a LIMIT clause in your query.\\n\\n### Regulation:   \\n- The result of the SQL query will be displayed in the <data> tag.\\n- Your should reasoning and provide the SQL query with explaination for the task in <task> and <instruction> tag.\\n- For <correction> tag, you only need to provide the SQL query if the previous SQL query is incorrect.\\n- For <reflection> tag, you dont need to provide the SQL query.\\n- Always return SQL query in the following format:\\n    ```sql\\n    {SQL query}\\n    ```\"},\n",
       "  {'role': 'user',\n",
       "   'content': \"Here is a natural language query that you need to convert into a SQL query:\\n\\n<task>\\n\\nWhat were the total revenues of Vinamilk and Masan Group in 2022?\\n\\n</task>\\n\\n### Company details\\n\\n<data>\\n\\n**Company Info**\\n\\n| stock_code | en_company_name | industry | is_bank | is_securities |\\n| --- | --- | --- | --- | --- |\\n| VNM | Vietnam Dairy Products Joint Stock Company | Food and Beverages | False | False | \\n| MSN | Masan Group Corporation | Food and Beverages | False | False | \\n| VIC | VinGroup Joint Stock Company | Real Estate | False | False |\\n\\n</data>\\n\\n### Snapshot of the mapping table:\\n<data>\\n\\n**category_code_mapping**\\n\\n| category_code | en_caption |\\n| --- | --- |\\n| BS_126 | (Balance sheet) (Bank) Total Loans to customers | \\n| BS_270 | (Balance sheet) TOTAL ASSETS | \\n| IS_001 | (Income statement) Revenue from sales and services rendered | \\n| IS_020 | (Income statement) Net Revenue | \\n| IS_057 | (Income statement) Total Operating Costs | \\n| Corp_TM_114 | (Explaination) Sales revenue |\\n\\n**ratio_code_mapping**\\n\\n| ratio_code | ratio_name |\\n| --- | --- |\\n| NRGYoY | Net Revenue Growth YoY | \\n| TOIGYoY | Total Operating Income Growth |\\n\\n</data>\\n\\n### Here are some examples of a query that you can refer to:\\n\\n<example>\\n\\n**What were the current ratio and quick ratio for Vinamilk (VHM) and Masan Group (MSN) in 2023?**\\n\\n```sql\\nwith value as (SELECT \\n    stock_code,\\n    year,\\n    quarter,\\n    ratio_code,\\n    data \\nFROM \\n    financial_ratio\\nWHERE \\n    ratio_code in ('CashR', 'CurrentR')\\n    AND year = 2023\\n    AND quarter = 2\\n    AND stock_code = 'MSN')\\n    \\n select value.stock_code as stock_code,\\n \\t\\tvalue.year as year,\\n \\t\\tvalue.quarter as quarter,\\n \\t\\tvalue.data as data,\\n \\t\\tmccr.ratio_code as ratio_code\\nfrom value\\njoin map_category_code_ratio mccr \\non value.ratio_code = mccr.ratio_code;```\\n\\n**Comparing the financial statements of Vinamilk and Masan Group for Q2 2024 and Q2 2020: What are the total assets, total liabilities, and net income for each company? How do these figures reflect the financial health of each company, considering the influence of any subsidiaries or investments they hold?**\\n\\n```sql\\nSELECT\\n    stock_code,\\n    year,\\n    quarter,\\n    data,\\n    category_code\\nFROM\\n    financial_statement\\nWHERE\\n    stock_code IN ('VNM', 'MSN')\\n    AND year IN (2020, 2024)\\n    AND quarter = 2\\n    AND category_code IN ('BS_270', 'BS_300', 'IS_100')```\\n\\n</example>\\n \\n<instruction>\\n\\nAnalyze the task step-by-step then return SQL query that match with the database schema.\\n\\nIf possible, the table result should have the following columns:\\n\\n- stock_code / industry\\n- year\\n- quarter\\n- category_code / stock_code\\n- data / data_mean / data_sum\\n\\nHowever, feel free to modify the table if needed.\\n\\n</instruction>\\n\\n### Note: \\n- Include the detailed suitable name (including datetime, industry, ...) for the table in the query in the following format:\\n\\n```sql\\n-- ### detailed_table_name\\n```\\n\\n- The `category_code` mapping table contain value of both `financial_statment` and `explaination` tables\\n- The user can only see the query results, so your name should be as informative as possible\\n- If the time is not mentioned, assume getting the current time (Q3 2024)\\n- Do not make any assumption about the account name. You can refer to the mapping table above to find the suitable account.\\n- The query must not contain column `ratio_name` or `en_caption`.\\n- If the question requires data within the quarter time range (from 2020 to Q3 2024), you should use the `date_added` instead of `year` and `quarter`, in the following format:\\n\\n```sql\\nWHERE date_added BETWEEN '2020-01-01' AND '2024-09-30' \\nAND quarter !=0\\n\\n-- Date added for each quarter:\\n-- - Q1: YYYY-03-30\\n-- - Q2: YYYY-06-30\\n-- - Q3: YYYY-09-30\\n-- - Q4: YYYY-12-30\\n-- - Q0: YYYY-12-30 (Annual data is add at the end of the year)\\n```\\n\\n- If the question requires data within annual data, you can use `year` column directly\\n\\nAnswer in the following format:\\n### Reasoning:\\n{Your reasoning}\\n### SQL Query:\\n{SQL query}\"},\n",
       "  {'role': 'assistant',\n",
       "   'content': '### Reasoning:\\nThe user is asking for the total revenues of Vinamilk (VNM) and Masan Group (MSN) in 2022.\\nTo answer this question, we need to retrieve data from the `financial_statement` table.\\nWe need to filter the data for the year 2022, for the companies with `stock_code` VNM and MSN, and for the `category_code` representing \"Revenue from sales and services rendered\".\\nBased on the provided `category_code_mapping` table, `IS_001` corresponds to \"(Income statement) Revenue from sales and services rendered\", which is the appropriate category for total revenue.\\nWe will select `stock_code`, `year`, `quarter`, `category_code`, and `data` from the `financial_statement` table, filtering by `year = 2022`, `quarter = 0` (for annual reports), `stock_code IN (\\'VNM\\', \\'MSN\\')`, and `category_code = \\'IS_001\\'`.\\n\\n### SQL Query:\\n```sql\\n-- ### annual_revenue_vinamilk_masan_2022\\nSELECT\\n    stock_code,\\n    year,\\n    quarter,\\n    category_code,\\n    data\\nFROM\\n    financial_statement\\nWHERE\\n    stock_code IN (\\'VNM\\', \\'MSN\\')\\n    AND year = 2022\\n    AND quarter = 0\\n    AND category_code = \\'IS_001\\'\\nLIMIT 10;\\n```'},\n",
       "  {'role': 'user',\n",
       "   'content': '<result>\\n\\n### SQL Result from previous query:\\n\\n**SQL 1 Result: annual_revenue_vinamilk_masan_2022**\\n\\n| stock_code | year | quarter | category_code | data |\\n| --- | --- | --- | --- | --- |\\n| VNM | 2022 | 0 | IS_001 | 60074730.223299 | \\n| MSN | 2022 | 0 | IS_001 | 76380750.0 | \\n\\n\\n\\n</result>\\n\\n<correction>\\n\\nBased on the SQL table result in <result> tag, do you think the SQL queries is correct and can fully answer the original task? If there is no SQL Result table on <result> tag, it means the preivous queries return nothing, which is incorrect.\\n\\nIf the result of SQL query is correct and the table is suitable for <task> request, you only need to return YES under *Decision* heading. You must not provide the SQL query again.\\nOtherwise, return No under *Decision* heading, think step-by-step under *Reasoning* heading again and generate the correct SQL query under *SQL Query*.\\n\\n\\nReturn in the following format (### SQL Query is optional):\\n\\n### Decision: \\n{Your decision}\\n\\n### Reasoning:\\n{Your reasoning}\\n\\n### SQL Query:\\n{Corrected SQL query}\\n\\n</correction>'},\n",
       "  {'role': 'assistant',\n",
       "   'content': \"### Decision: \\nYES\\n\\n### Reasoning:\\nThe SQL query successfully retrieved the total revenues for Vinamilk (VNM) and Masan Group (MSN) in 2022, as requested in the original task. The result table clearly displays the stock codes, year, quarter, category code (Revenue from sales and services rendered), and the corresponding revenue data for both companies. This directly answers the user's question, and the table format is appropriate for presenting this information.\"}],\n",
       " 'duration': 9.844480991363525,\n",
       " 'ner': [{'role': 'user',\n",
       "   'content': '<task>\\n\\nBased on given question, analyze and suggest the suitable accounts in the financial statement and/or financial ratios that can be used to answer the question.\\nExtract the company name and/or the industry that positively mentioned based on the given question.\\n\\n</task>\\n \\n<question>\\n\\nWhat were the total revenues of Vinamilk and Masan Group in 2022?\\n\\n</question>\\n\\nAnalyze and return the accounts and entities that useful to answer the question.\\nReturn in JSON format, followed by this schema. \\n\\n```\\n{\\n    \"industry\": list[str],\\n    \"company_name\": list[str],\\n    \"financial_statement_account\": list[str],\\n    \"financial_ratio\": list[str]\\n}\\n```\\nReturn an empty list if no related data is found.'},\n",
       "  {'role': 'assistant',\n",
       "   'content': '```json\\n{\\n    \"industry\": [],\\n    \"company_name\": [\\n        \"Vinamilk\",\\n        \"Masan Group\"\\n    ],\\n    \"financial_statement_account\": [\\n        \"Total Revenues\"\\n    ],\\n    \"financial_ratio\": []\\n}\\n```'}]}"
      ]
     },
     "execution_count": 95,
     "metadata": {},
     "output_type": "execute_result"
    }
   ],
   "source": [
    "select_data[0]"
   ]
  },
  {
   "cell_type": "markdown",
   "metadata": {},
   "source": [
    "1427 Perfect Query\n",
    "1695 Correct Query"
   ]
  },
  {
   "cell_type": "markdown",
   "metadata": {},
   "source": [
    "### Correct Query with one Correction and msg > 5 (fixing bug perhaps)"
   ]
  },
  {
   "cell_type": "code",
   "execution_count": 52,
   "metadata": {},
   "outputs": [],
   "source": [
    "def print_messages(messages):\n",
    "    for msg in messages:\n",
    "        print(\"===========\",msg['role'],\"============\")\n",
    "        print(msg['content'])"
   ]
  },
  {
   "cell_type": "code",
   "execution_count": null,
   "metadata": {},
   "outputs": [],
   "source": [
    "count = 0\n",
    "for line in correct_data:\n",
    "    \n",
    "    if len(line['messages']) != 5:\n",
    "        count += 1\n",
    "        if count == 5:\n",
    "            print_messages(line['messages'])\n",
    "            break"
   ]
  },
  {
   "cell_type": "code",
   "execution_count": 14,
   "metadata": {},
   "outputs": [
    {
     "data": {
      "text/plain": [
       "{'ids': '34e71951-99ae-4693-8b7b-e00683d3b17b',\n",
       " 'question': \"For the period 2020-Q3 2024, calculate the equity multiplier (Total Assets / Total Equity) for each company in the Healthcare industry. Compare each company's trend to the industry average. What does this reveal about the use of financial leverage within the industry and how this has changed over time?\",\n",
       " 'table': '**SQL 1 Result: quarterly_equity_multiplier_healthcare_industry**\\n\\n| stock_code | industry | year | quarter | company_equity_multiplier | avg_industry_equity_multiplier |\\n| --- | --- | --- | --- | --- | --- |\\n| DVM | Healthcare | 2022 | 1 | 2.454875996056095 | 2.454875996056095 |\\n| DVM | Healthcare | 2022 | 2 | 2.056330834703408 | 2.056330834703408 |\\n| DVM | Healthcare | 2022 | 3 | 2.045280159369722 | 2.045280159369722 |\\n| DVM | Healthcare | 2022 | 4 | 2.0927981883630897 | 2.0927981883630897 |\\n| DVM | Healthcare | 2023 | 1 | 2.1096495790338303 | 2.1096495790338303 |\\n| DVM | Healthcare | 2023 | 2 | 2.1523409063412897 | 2.1523409063412897 |\\n| DVM | Healthcare | 2023 | 3 | 2.1848841617751065 | 2.1848841617751065 |\\n| DVM | Healthcare | 2023 | 4 | 2.2203851548655793 | 2.2203851548655793 |\\n| DVM | Healthcare | 2024 | 1 | 2.330561308930131 | 2.330561308930131 |\\n| DVM | Healthcare | 2024 | 2 | 2.2289368001945182 | 2.2289368001945182 |\\n| DVM | Healthcare | 2024 | 3 | 2.3364215734111546 | 2.3364215734111546 |\\n\\n**SQL 1 Result: quarterly_equity_multiplier_healthcare_industry**\\n\\n| stock_code | industry | year | quarter | company_equity_multiplier | avg_industry_equity_multiplier |\\n| --- | --- | --- | --- | --- | --- |\\n| DVM | Healthcare | 2022 | 1 | 2.454875996056095 | 2.454875996056095 |\\n| DVM | Healthcare | 2022 | 2 | 2.056330834703408 | 2.056330834703408 |\\n| DVM | Healthcare | 2022 | 3 | 2.045280159369722 | 2.045280159369722 |\\n| DVM | Healthcare | 2022 | 4 | 2.0927981883630897 | 2.0927981883630897 |\\n| DVM | Healthcare | 2023 | 1 | 2.1096495790338303 | 2.1096495790338303 |\\n| DVM | Healthcare | 2023 | 2 | 2.1523409063412897 | 2.1523409063412897 |\\n| DVM | Healthcare | 2023 | 3 | 2.1848841617751065 | 2.1848841617751065 |\\n| DVM | Healthcare | 2023 | 4 | 2.2203851548655793 | 2.2203851548655793 |\\n| DVM | Healthcare | 2024 | 1 | 2.330561308930131 | 2.330561308930131 |\\n| DVM | Healthcare | 2024 | 2 | 2.2289368001945182 | 2.2289368001945182 |\\n| DVM | Healthcare | 2024 | 3 | 2.3364215734111546 | 2.3364215734111546 |',\n",
       " 'reasoning': '### Decision: \\nYes\\n\\n### Reasoning:\\nThe SQL query is logically correct and accurately calculates the equity multiplier for companies within the Healthcare industry and the average equity multiplier for the industry over the specified time period (Q3 2020 - Q3 2024).\\n\\nThe result shows data for \\'DVM\\' in the Healthcare industry, and the `company_equity_multiplier` is identical to the `avg_industry_equity_multiplier`. This indicates that \\'DVM\\' might be the only company in the \\'Healthcare\\' industry present in the `financial_statement` table for the given time range, or at least the only one with available \\'TOTAL ASSETS\\' (BS_270) and \\'D. EQUITY\\' (BS_400) data.\\n\\nGiven the data presented in the SQL result, the query has performed as expected. If there were multiple companies in the Healthcare industry with data available, the `avg_industry_equity_multiplier` would represent the average across those companies, allowing for a comparison as requested in the initial task. However, with only one company\\'s data available in the result, the company\\'s equity multiplier naturally equals the \"industry average\".\\n\\nTherefore, based on the provided result and the query\\'s logic, the SQL query is deemed correct. The limitation in observing industry trends and comparisons arises from the data itself, not from an error in the SQL query.',\n",
       " 'sql': [],\n",
       " 'messages': [{'role': 'system',\n",
       "   'content': \"You are an expert in financial statement and database management. You will be asked to convert a natural language query into a SQL query. \\nYou will have the following database description:\\n\\n### Database Description\\nYou're given database about the financial statments of top Vietnamese companies, either bank, cooperates and securities.\\n\\n<overall_description>\\n\\nAll the data in the financial statments are followed by the regulation of Vietnamese Accounting Standard (VAS). The English translations are followed by the International Financial Reporting Standards (IFRS).\\n\\nThere are 3 type of financial statments, based on VAS regulation: bank, non-bank corporation and securities firm (firms that provide stock options and financial instruments).\\nAll 3 type of reports are stored in one single table, and there will be a sight different between them.\\n\\nThe database includes two reporting periods for financial statements: quarterly and annually. Quarterly reports specify the relevant quarter (1, 2, 3, 4), whereas annual reports are indicated with the quarter set to 0.\\n\\n</overall_description>\\n\\nYou are given 10 tables in the database. Here are the detailed descriptions of them in PostgreSQL format:\\n\\n### PostgreSQL tables, with their properties\\n```sql \\n-- Table: company_info\\nCREATE TABLE company_info(\\n    stock_code VARCHAR(255) primary key, --The trading symbol.\\n    industry VARCHAR(255), --Current industry of company. \\n    exchange VARCHAR(255), -- The exchange where the stock is listed (e.g., HOSE, HNX)\\n    stock_indices VARCHAR(255), -- The stock index it belongs to (e.g., VN30, HNX30)\\n    is_bank BOOLEAN, --Bool checking whether the company is a bank or not.\\n    is_securities BOOLEAN, --Bool checking whether the company is a securities firm or not.\\n);\\n\\n-- Table: sub_and_shareholder\\nCREATE TABLE sub_and_shareholder(\\n    stock_code VARCHAR(255) NOT NULL, \\n    invest_on VARCHAR(255) NOT NULL, -- The company invested on (can be subsidiary)\\n    FOREIGN KEY (stock_code) REFERENCES company_info(stock_code),\\n    FOREIGN KEY (invest_on) REFERENCES company_info(stock_code),\\n    PRIMARY KEY (stock_code, invest_on) \\n);\\n\\n-- Table: map_category_code_universal: Mapping account table for Financial Statement\\nCREATE TABLE map_category_code_universal(\\n    category_code VARCHAR(255) primary key, --The unique code for accounts recorded.\\n    en_caption VARCHAR(255), --The Accounts (Caption) for the `category_code`.\\n);\\n\\n-- Table: financial_statement: Financial Statement data for each `stock_code`\\nCREATE TABLE financial_statement(\\n    stock_code VARCHAR(255) references company_info(stock_code),\\n    year int, -- The reported financial year\\n    quarter int, --  The quarter reported (contain value either 0, 1, 2, 3, 4). If the value is 0, that mean the report is for annual report.\\n    category_code VARCHAR(255) references map_category_code_universal(category_code),\\n    data float, -- The value of the recorded category (in Million VND)\\n    date_added timestamp -- The datetime when the data was published\\n);\\n\\n-- Table: industry_financial_statement: General report for each industry sector\\n\\nCREATE TABLE industry_financial_statement(\\n    industry VARCHAR(255), -- Same with industry in table `company_info`\\n    year int, \\n    quarter int,\\n    category_code VARCHAR(255) references map_category_code_universal(category_code),\\n    data_mean float, -- Mean value of every firm in that industry\\n    data_sun float, -- Total value of every firm in that industry\\n    date_added timestamp \\n);\\n\\n\\n-- Table map_category_code_ratio: Mapping ratio name for Financial Ratio\\nCREATE TABLE map_category_code_ratio(\\n    ratio_code VARCHAR(255) primary key,\\n    ratio_name VARCHAR(255)\\n);\\n\\n-- Table financial_ratio: This table will have pre-calculated common Ratio such as ROA, ROE, FCF, etc\\n-- Same structure as `financial_statement`\\nCREATE TABLE financial_ratio(\\n    ratio_code VARCHAR(255) references map_category_code_ratio(ratio_code),\\n    stock_code VARCHAR(255) references company_info(stock_code),\\n    year int,\\n    quarter int,\\n    data float, -- Either in Million VND if the ratio_code related to money, or ratio otherwise\\n    date_added timestamp\\n);\\n\\n-- Table: industry_financial_ratio: General ratio for each industry sector\\nCREATE TABLE industry_financial_ratio(\\n    industry VARCHAR(255),\\n    ratio_code VARCHAR(255) references map_category_code_ratio(ratio_code),\\n    year int,\\n    quarter int,\\n    data_mean float, \\n    date_added timestamp\\n);\\n\\n-- Table map_category_code_explaination\\nCREATE TABLE map_category_code_explaination(\\n    category_code VARCHAR(255) primary key, --The unique code for accounts recorded in the financial statements explaination part.\\n    en_caption VARCHAR(255), --The Accounts (Caption) for the `category_code`.\\n);\\n\\n-- Table financial_statement_explaination: This table will have detailed information which is not covered in 3 main reports of financial statment. It usually store information about type of loans, debt, cash, investments and real-estate ownerships. \\n-- Same structure as `financial_statement`\\nCREATE TABLE financial_statement_explaination(\\n    category_code VARCHAR(255) references map_category_code_explaination(category_code),\\n    stock_code VARCHAR(255) references company_info(stock_code),\\n    year int,\\n    quarter int,\\n    data float, \\n    date_added timestamp \\n);\\n```\\n\\n### Note on schema description: \\n- Each value in `category_code` includes a prefix indicating the report it pertains to: *BS* is Balance sheet, *IS* is for Income statement, *CF* is Cash flow and *TM* is for Explaination.\\n- For `category_code` in `map_category_code_explaination`, there are 4 additional prefix: *Crop*, *Bank* and *Sec* for specific account related to each type of organization (e.g: Bank_TM_66 for Standard Debt), and *Share* if the account type is similar across organizations (e.g: Share_TM_5 for Share Issued).\\n- The numerical parts in `category_code` share some account code from VAS standard. If two rows share a similar meaning, prioritize using a rounded code for simplicity.\\n- Some accounts (`en_caption`) are specific to either corporation, banks or securities firms, resulting in variations in the number of accounts across companies. Specialized account captions often include a prefix, such as *(Bank) Deposits at the Central Bank* (BS_112).\\n- The YoY ratio in `financial_ratio` only cover the rate related to the previous year (Q3-2023 to Q3-2022 or 2019 to 2020). You should recalculate the ratio if the time window is not 1 year.\\n\\n### Peek view of the schema\\n - `company_info`\\n\\n| stock_code | industry |  is_bank | is_securities | exchange | stock_indices |\\n|:----|:----|:----|:----|:----|:----|\\n| VIC | Real Estate | false | false | HOSE | VN30 |\\n\\n- `sub_and_shareholder`\\n\\n| stock_code | invest_on |\\n|:---|:---|\\n| MSN | TCB |\\n\\nExplain:\\nThis mean MSN is a shareholder of TCB. \\n\\n- `financial_statement`\\n\\n| stock_code | year | quarter | category_code | data | date_added |\\n|:----|:----|:----|:----|:----|:----|\\n| VCB | 2023 |  0 | BS_300 | 1839613.198 | 2023-12-30 |\\n| LPB | 2024 |  2 | CF_045 | 68522.835| 2024-06-30 |\\n| BID | 2024 |  1 | IS_014 | 5392.606 | 2024-03-30 |\\n\\n- `map_category_code_universal`\\n\\n|category_code|universal_caption|\\n|:----|:----|\\n|BS_100| (Balance sheet) A. CURRENT ASSETS |\\n\\n### Note on creating query:\\n- You can access the database by using\\n```sql\\nSELECT * FROM financial_statement\\n\\nLIMIT 10;\\n```\\n- For any financial ratio, it must be selected from the database rather than being calculated manually.\\n- Always include a `quarter` condition in your query.\\n- If not specified, assume the data pertains to annual reports, with the query defaulting to `quarter` = 0.\\n- When selecting data by quarter, ensure the `quarter` is not 0, and when selecting data by year, the `quarter` must be 0.\\n- Do not directly compare data between quarterly and annual financial reports.\\n- Always include a LIMIT clause in your query.\\n\\n### Regulation:   \\n- Your should reasoning and provide the SQL query with explaination for the task in <task> and <instruction> tag.\\n- For <correction> tag, you only need to provide the SQL query if the previous SQL query is incorrect.\\n- For <reflection> tag, you dont need to provide the SQL query.\\n- Always return SQL query in the following format:\\n    ```sql\\n    {SQL query}\\n    ```\"},\n",
       "  {'role': 'user',\n",
       "   'content': \"Here is a natural language query that you need to convert into a SQL query:\\n\\n<task>\\n\\nFor the period 2020-Q3 2024, calculate the equity multiplier (Total Assets / Total Equity) for each company in the Healthcare industry. Compare each company's trend to the industry average. What does this reveal about the use of financial leverage within the industry and how this has changed over time?\\n\\n</task>\\n\\n### Company details\\n\\n<data>\\n\\n\\n\\n</data>\\n\\n### Snapshot of the mapping table:\\n<data>\\n\\n**category_code_mapping**\\n\\nList of category_code with corresponding en_caption\\n- BS_100: (Balance sheet) A. CURRENT ASSETS\\n- BS_122: (Balance sheet) (Bank) Total Trading securities\\n- BS_170: (Balance sheet) Other current assets\\n- BS_220: (Balance sheet) Fixed assets\\n- BS_270: (Balance sheet) TOTAL ASSETS\\n- BS_400: (Balance sheet) D. EQUITY\\n- BS_410: (Balance sheet) I. Owner's Equity\\n- BS_425: (Balance sheet) Other funds under owner’s equity\\n- BS_440: (Balance sheet) TOTAL LIABILITIES AND EQUITY\\n- CF_036: (Cash flow) Increase/decrease in payables (excluding interest payable, corporate income tax payable)\\n- CF_061: (Cash flow) Cash receipts from interest, dividends, and profit sharing\\n- CF_211: (Cash flow) (Securities) (+) Increase, (-) decrease in employee benefit contributions\\n- Bank_TM_8: (Explaination) Equity securities\\n\\n\\n**ratio_code_mapping**\\n\\nList of ratio_code with corresponding ratio_name\\n- ER: Equity Ratio\\n- CFOTTE: CFO To Total Equity\\n- TAGYoY: Total Asset Growth YoY\\n- TAT: Total Asset Turnover\\n- ROE: Return On Equity\\n- EGYoY: Equity Growth YoY\\n\\n\\n**industry**\\n\\nList of items *industry*\\n- Healthcare\\n\\n</data>\\n\\n### Here are some examples of a query that you can refer to:\\n\\n<example>\\n\\n**Calculate the Debt-to-Equity Ratio for Vinamilk, Masan Group, and Hoa Phat Group annually from 2020 to 2023** \\n\\n```sql\\nSELECT \\n    stock_code,\\n    industry,\\n    year,\\n    quarter,\\n    ratio_code,\\n    data\\nFROM \\n    financial_ratio\\n\\nWHERE \\n    ratio_code = 'DTER' -- Assuming 'DTER' represents the Debt-to-Equity ratio\\n    AND year IN (2020, 2021, 2022, 2023)\\n    AND stock_code IN ('VNM', 'MSN', 'HPG') -- Stock codes for Vinamilk, Masan Group, and Hoa Phat Group\\n    AND quarter = 0 -- Annual data\\nORDER BY \\n    year, stock_code;```\\n\\n**Return on Equity (ROE) and Return on Asset (ROA) of HPG in 2023** \\n\\n```sql\\nSELECT \\n    stock_code,\\n    year,\\n    quarter,\\n    ratio_code,\\n    data\\nFROM \\n    financial_ratio\\nWHERE \\n    stock_code = 'HPG'\\n    AND year = 2023\\n    AND quarter = 0\\n    AND ratio_code IN ('ROE', 'ROA');```\\n\\n</example>\\n \\n<instruction>\\n\\nAnalyze the task step-by-step then return SQL query that match with the database schema.\\n\\nIf possible, the table result should have the following columns:\\n\\n- stock_code / industry\\n- year\\n- quarter\\n- category_code / stock_code\\n- data / data_mean / data_sum\\n\\nHowever, feel free to modify the table if needed.\\n\\n</instruction>\\n\\n### Note: \\n- Include the detailed suitable name (including datetime, industry, ...) for the table in the query in the following format:\\n\\n```sql\\n-- ### detailed_table_name\\n```\\n\\n- The `category_code` mapping table contain value of both `financial_statment` and `explaination` tables\\n- The user can only see the query results, so your name should be as informative as possible\\n- If the time is not mentioned, assume getting the current time (Q3 2024)\\n- Do not make any assumption about the account name. You can refer to the mapping table above to find the suitable account.\\n- The query must not contain column `ratio_name` or `en_caption`.\\n- If the question requires data within the quarter time range (from 2020 to Q3 2024), you should use the `date_added` instead of `year` and `quarter`, in the following format:\\n\\n```sql\\nWHERE date_added BETWEEN '2020-01-01' AND '2024-09-30' \\nAND quarter !=0\\n\\n-- Date added for each quarter:\\n-- - Q1: YYYY-03-30\\n-- - Q2: YYYY-06-30\\n-- - Q3: YYYY-09-30\\n-- - Q4: YYYY-12-30\\n-- - Q0: YYYY-12-30 (Annual data is add at the end of the year)\\n```\\n\\n- If the question requires data within annual data, you can use `year` column directly\\n\\nAnswer in the following format:\\n### Reasoning:\\n{Your reasoning}\\n### SQL Query:\\n{SQL query}\"},\n",
       "  {'role': 'assistant',\n",
       "   'content': \"### Reasoning:\\nTo calculate the Equity Multiplier for each company in the Healthcare industry and compare it to the industry average from Q3 2020 to Q3 2024, we need to perform the following steps:\\n\\n1. **Identify Total Assets and Total Equity:** From the `map_category_code_universal` table, we know that 'BS_270' represents 'TOTAL ASSETS' and 'BS_400' represents 'D. EQUITY'. We will use these `category_code` values to retrieve the corresponding financial data.\\n\\n2. **Filter for Healthcare Industry:** We need to select companies belonging to the 'Healthcare' industry from the `company_info` table.\\n\\n3. **Filter for the Time Period:** The query needs to cover the period from Q3 2020 to Q3 2024. We should filter the `financial_statement` table based on `date_added` to include data within this timeframe and ensure `quarter` is not 0 for quarterly reports.\\n\\n4. **Calculate Equity Multiplier:** For each company and quarter, we need to calculate the Equity Multiplier by dividing 'TOTAL ASSETS' by 'TOTAL EQUITY'.\\n\\n5. **Calculate Industry Average Equity Multiplier:** For each quarter, we need to calculate the average Equity Multiplier across all companies in the Healthcare industry.\\n\\n6. **Combine and Present Results:** We should present the results in a table format showing the stock code, year, quarter, company's Equity Multiplier, and the industry average Equity Multiplier for comparison.\\n\\nBased on these steps, the SQL query is constructed to join `company_info` and `financial_statement` tables, filter for the 'Healthcare' industry and the specified time period, calculate the Equity Multiplier for each company, and then calculate the industry average Equity Multiplier for each quarter.\\n\\n### SQL Query:\\n```sql\\n-- ### quarterly_equity_multiplier_healthcare_industry\\nWITH CompanyEquityMultiplier AS (\\n    SELECT\\n        ci.stock_code,\\n        ci.industry,\\n        fs.year,\\n        fs.quarter,\\n        SUM(CASE WHEN fs.category_code = 'BS_270' THEN fs.data ELSE NULL END) AS total_assets,\\n        SUM(CASE WHEN fs.category_code = 'BS_400' THEN fs.data ELSE NULL END) AS total_equity\\n    FROM\\n        company_info ci\\n    JOIN\\n        financial_statement fs ON ci.stock_code = fs.stock_code\\n    WHERE\\n        ci.industry = 'Healthcare'\\n        AND fs.quarter != 0\\n        AND fs.date_added BETWEEN '2020-07-01' AND '2024-09-30' -- Q3 2020 to Q3 2024\\n        AND fs.category_code IN ('BS_270', 'BS_400')\\n    GROUP BY\\n        ci.stock_code, ci.industry, fs.year, fs.quarter\\n    HAVING\\n        SUM(CASE WHEN fs.category_code = 'BS_270' THEN fs.data ELSE NULL END) IS NOT NULL\\n        AND SUM(CASE WHEN fs.category_code = 'BS_400' THEN fs.data ELSE NULL END) IS NOT NULL\\n),\\nIndustryAverageEquityMultiplier AS (\\n    SELECT\\n        industry,\\n        year,\\n        quarter,\\n        AVG(total_assets / total_equity) AS avg_industry_equity_multiplier\\n    FROM\\n        CompanyEquityMultiplier\\n    GROUP BY\\n        industry, year, quarter\\n)\\nSELECT\\n    cem.stock_code,\\n    cem.industry,\\n    cem.year,\\n    cem.quarter,\\n    (cem.total_assets / cem.total_equity) AS company_equity_multiplier,\\n    iaem.avg_industry_equity_multiplier\\nFROM\\n    CompanyEquityMultiplier cem\\nJOIN\\n    IndustryAverageEquityMultiplier iaem ON cem.industry = iaem.industry AND cem.year = iaem.year AND cem.quarter = iaem.quarter\\nORDER BY\\n    cem.year, cem.quarter, cem.stock_code\\nLIMIT 100;\\n```\"},\n",
       "  {'role': 'user',\n",
       "   'content': '\\n### SQL Result from previous query:\\n\\n**SQL 1 Result: quarterly_equity_multiplier_healthcare_industry**\\n\\n| stock_code | industry | year | quarter | company_equity_multiplier | avg_industry_equity_multiplier |\\n| --- | --- | --- | --- | --- | --- |\\n| DVM | Healthcare | 2022 | 1 | 2.454875996056095 | 2.454875996056095 |\\n| DVM | Healthcare | 2022 | 2 | 2.056330834703408 | 2.056330834703408 |\\n| DVM | Healthcare | 2022 | 3 | 2.045280159369722 | 2.045280159369722 |\\n| DVM | Healthcare | 2022 | 4 | 2.0927981883630897 | 2.0927981883630897 |\\n| DVM | Healthcare | 2023 | 1 | 2.1096495790338303 | 2.1096495790338303 |\\n| DVM | Healthcare | 2023 | 2 | 2.1523409063412897 | 2.1523409063412897 |\\n| DVM | Healthcare | 2023 | 3 | 2.1848841617751065 | 2.1848841617751065 |\\n| DVM | Healthcare | 2023 | 4 | 2.2203851548655793 | 2.2203851548655793 |\\n| DVM | Healthcare | 2024 | 1 | 2.330561308930131 | 2.330561308930131 |\\n| DVM | Healthcare | 2024 | 2 | 2.2289368001945182 | 2.2289368001945182 |\\n| DVM | Healthcare | 2024 | 3 | 2.3364215734111546 | 2.3364215734111546 |\\n\\n<correction>\\n\\nBased on the result, do you think the SQL query is correct and can fully answer the question? \\n\\nIf the previous SQL not correct, return No under *Decision* heading, think step-by-step under *Reasoning* heading again and generate the correct SQL query under *SQL Query*.\\nOtherwise, you only need to return Yes under *Decision* heading. You must not provide the SQL query again.\\n\\nReturn in the following format (### SQL Query is optional):\\n\\n### Decision: \\n{Your decision}\\n\\n### Reasoning:\\n{Your reasoning}\\n\\n### SQL Query:\\n{Corrected SQL query}\\n\\n</correction>\\n'},\n",
       "  {'role': 'assistant',\n",
       "   'content': '### Decision: \\nYes\\n\\n### Reasoning:\\nThe SQL query is logically correct and accurately calculates the equity multiplier for companies within the Healthcare industry and the average equity multiplier for the industry over the specified time period (Q3 2020 - Q3 2024).\\n\\nThe result shows data for \\'DVM\\' in the Healthcare industry, and the `company_equity_multiplier` is identical to the `avg_industry_equity_multiplier`. This indicates that \\'DVM\\' might be the only company in the \\'Healthcare\\' industry present in the `financial_statement` table for the given time range, or at least the only one with available \\'TOTAL ASSETS\\' (BS_270) and \\'D. EQUITY\\' (BS_400) data.\\n\\nGiven the data presented in the SQL result, the query has performed as expected. If there were multiple companies in the Healthcare industry with data available, the `avg_industry_equity_multiplier` would represent the average across those companies, allowing for a comparison as requested in the initial task. However, with only one company\\'s data available in the result, the company\\'s equity multiplier naturally equals the \"industry average\".\\n\\nTherefore, based on the provided result and the query\\'s logic, the SQL query is deemed correct. The limitation in observing industry trends and comparisons arises from the data itself, not from an error in the SQL query.'}]}"
      ]
     },
     "execution_count": 14,
     "metadata": {},
     "output_type": "execute_result"
    }
   ],
   "source": [
    "data[100]"
   ]
  },
  {
   "cell_type": "markdown",
   "metadata": {},
   "source": [
    "## Rerun SQL -> get table"
   ]
  },
  {
   "cell_type": "code",
   "execution_count": 1,
   "metadata": {},
   "outputs": [
    {
     "name": "stderr",
     "output_type": "stream",
     "text": [
      "2025-02-16 22:40:08,019 - INFO - Checking embedding server at http://localhost:8080/embed\n",
      "2025-02-16 22:40:08,024 - INFO - Response embedding server: <Response [200]>\n",
      "2025-02-16 22:40:08,024 - INFO - Using remote embedding server\n",
      "2025-02-16 22:40:08,024 - INFO - Finish setup embedding\n",
      "2025-02-16 22:40:08,024 - INFO - Checking embedding server at http://localhost:8081\n",
      "2025-02-16 22:40:08,031 - INFO - Response embedding server: <Response [200]>\n",
      "2025-02-16 22:40:08,032 - INFO - Found reranking server at: http://localhost:8081\n",
      "2025-02-16 22:40:08,032 - INFO - Finish setup reranker, using reranker api\n",
      "2025-02-16 22:40:08,036 - INFO - Anonymized telemetry enabled. See                     https://docs.trychroma.com/telemetry for more information.\n",
      "2025-02-16 22:40:08,105 - INFO - Finish setup db\n",
      "2025-02-16 22:40:08,105 - INFO - Using ChatGPT with model gpt-4o-mini\n",
      "2025-02-16 22:40:08,119 - INFO - Using ChatGPT with model gpt-4o-mini\n",
      "2025-02-16 22:40:08,133 - INFO - Finish setup text2sql\n"
     ]
    },
    {
     "name": "stdout",
     "output_type": "stream",
     "text": [
      "fiin\n"
     ]
    }
   ],
   "source": [
    "import sys \n",
    "sys.path.append('../')\n",
    "from initialize import initialize_text2sql\n",
    "\n",
    "from agent.prompt.prompt_controller import (\n",
    "    FIIN_VERTICAL_PROMPT_UNIVERSAL,\n",
    "    FIIN_VERTICAL_PROMPT_UNIVERSAL_SIMPLIFY,\n",
    "    FIIN_VERTICAL_PROMPT_UNIVERSAL_OPENAI,\n",
    "    FIIN_VERTICAL_PROMPT_UNIVERSAL_SHORT\n",
    ")\n",
    "\n",
    "from agent.const import (\n",
    "    TEXT2SQL_FAST_OPENAI_CONFIG,\n",
    ")\n",
    "from agent.text2sql_utils import reconstruct_tables_from_sql, table_to_markdown\n",
    "from llm.llm_utils import get_code_from_text_response\n",
    "\n",
    "solver = initialize_text2sql(TEXT2SQL_FAST_OPENAI_CONFIG, FIIN_VERTICAL_PROMPT_UNIVERSAL_OPENAI)"
   ]
  },
  {
   "cell_type": "code",
   "execution_count": 2,
   "metadata": {},
   "outputs": [],
   "source": [
    "import json"
   ]
  },
  {
   "cell_type": "code",
   "execution_count": 3,
   "metadata": {},
   "outputs": [],
   "source": [
    "input_path = '../data/gemini-2.0-flash-thinking-exp-01-21__v1_good.jsonl'\n",
    "questions = []\n",
    "\n",
    "with open(input_path) as f:\n",
    "    for line in f:\n",
    "        data = json.loads(line)\n",
    "        questions.append(data)"
   ]
  },
  {
   "cell_type": "code",
   "execution_count": null,
   "metadata": {},
   "outputs": [],
   "source": [
    "runnable_questions = []\n",
    "\n",
    "for question in questions:\n",
    "    code = get_code_from_text_response(question['messages'][-1]['content'])\n",
    "    if code[0]['language'] == 'sql':\n",
    "        # print('========== Code ===========')\n",
    "        # print(code[0]['code'])\n",
    "        tables = reconstruct_tables_from_sql(solver.db, question['messages'][-1]['content'])\n",
    "        if len(tables) > 0:\n",
    "            tables = table_to_markdown(tables)\n",
    "            question['table'] = tables\n",
    "            runnable_questions.append(question)\n",
    "\n",
    "len(runnable_questions)\n"
   ]
  },
  {
   "cell_type": "code",
   "execution_count": 6,
   "metadata": {},
   "outputs": [],
   "source": [
    "output_path = '../data/gemini-2.0-flash-thinking-exp-01-21__v1_good_runnable.jsonl'\n",
    "with open(output_path, 'w') as f:\n",
    "    for line in runnable_questions:\n",
    "        f.write(json.dumps(line) + '\\n')"
   ]
  },
  {
   "cell_type": "markdown",
   "metadata": {},
   "source": [
    "## Batch"
   ]
  },
  {
   "cell_type": "code",
   "execution_count": 3,
   "metadata": {},
   "outputs": [],
   "source": [
    "template_path = '../data/template_gemini-2.0-flash-lite-preview-02-05__v5.jsonl'\n",
    "batch_path = '../data/batch-response-gpt-4o-mini__v5.jsonl'\n",
    "output_path = '../data/gpt-4o-mini__v5_2.jsonl'"
   ]
  },
  {
   "cell_type": "code",
   "execution_count": 14,
   "metadata": {},
   "outputs": [
    {
     "name": "stdout",
     "output_type": "stream",
     "text": [
      "Expecting ',' delimiter: line 1 column 8573 (char 8572)\n",
      "Expecting ',' delimiter: line 1 column 8490 (char 8489)\n",
      "Expecting ',' delimiter: line 1 column 10147 (char 10146)\n",
      "Expecting ',' delimiter: line 1 column 9712 (char 9711)\n",
      "Expecting value: line 1 column 1 (char 0)\n",
      "Expecting ',' delimiter: line 1 column 8921 (char 8920)\n",
      "Expecting value: line 1 column 1 (char 0)\n",
      "Expecting ',' delimiter: line 1 column 9650 (char 9649)\n",
      "Expecting value: line 1 column 1 (char 0)\n"
     ]
    }
   ],
   "source": [
    "template_data = []\n",
    "with open(template_path) as f:\n",
    "    for line in f:\n",
    "        try:\n",
    "            template_data.append(json.loads(line))\n",
    "            \n",
    "        except Exception as e:\n",
    "            print(e)\n",
    "\n",
    "reponses = dict()\n",
    "questions = dict()\n",
    "with open(batch_path) as f:\n",
    "    for line in f:\n",
    "        try:\n",
    "            data = json.loads(line)\n",
    "            reponses[data['ids']] = data['reasoning']\n",
    "            questions[data['ids']] = data['question']\n",
    "        except Exception as e:\n",
    "            print(e)"
   ]
  },
  {
   "cell_type": "code",
   "execution_count": 5,
   "metadata": {},
   "outputs": [
    {
     "data": {
      "text/plain": [
       "{'date': '2025-08-02 23:53:58',\n",
       " 'ids': '5413b90f-85c4-41c2-a7c5-47324bfd44d9',\n",
       " 'message': [{'role': 'system',\n",
       "   'content': \"You are an expert in financial statement and database management. You will be asked to convert a natural language query into a SQL query. \\nYou will have the following database description:\\n\\n### Database Description\\nYou're given database about the financial statments of top Vietnamese companies, either bank, cooperates and securities.\\n\\n<overall_description>\\n\\nAll the data in the financial statments are followed by the regulation of Vietnamese Accounting Standard (VAS). The English translations are followed by the International Financial Reporting Standards (IFRS).\\n\\nThere are 3 type of financial statments, based on VAS regulation: bank, non-bank corporation and securities firm (firms that provide stock options and financial instruments).\\nAll 3 type of reports are stored in one single table, and there will be a sight different between them.\\n\\nThe database includes two reporting periods for financial statements: quarterly and annually. Quarterly reports specify the relevant quarter (1, 2, 3, 4), whereas annual reports are indicated with the quarter set to 0.\\n\\n</overall_description>\\n\\nYou are given 10 tables in the database. Here are the detailed descriptions of them in PostgreSQL format:\\n\\n### PostgreSQL tables, with their properties\\n```sql \\n-- Table: company_info\\nCREATE TABLE company_info(\\n    stock_code VARCHAR(255) primary key, --The trading symbol.\\n    industry VARCHAR(255), --Current industry of company. \\n    exchange VARCHAR(255), -- The exchange where the stock is listed (e.g., HOSE, HNX)\\n    stock_indices VARCHAR(255), -- The stock index it belongs to (e.g., VN30, HNX30)\\n    is_bank BOOLEAN, --Bool checking whether the company is a bank or not.\\n    is_securities BOOLEAN, --Bool checking whether the company is a securities firm or not.\\n);\\n\\n-- Table: sub_and_shareholder\\nCREATE TABLE sub_and_shareholder(\\n    stock_code VARCHAR(255) NOT NULL, \\n    invest_on VARCHAR(255) NOT NULL, -- The company invested on (can be subsidiary)\\n    FOREIGN KEY (stock_code) REFERENCES company_info(stock_code),\\n    FOREIGN KEY (invest_on) REFERENCES company_info(stock_code),\\n    PRIMARY KEY (stock_code, invest_on) \\n);\\n\\n-- Table: map_category_code_universal: Mapping account table for Financial Statement\\nCREATE TABLE map_category_code_universal(\\n    category_code VARCHAR(255) primary key, --The unique code for accounts recorded.\\n    en_caption VARCHAR(255), --The Accounts (Caption) for the `category_code`.\\n);\\n\\n-- Table: financial_statement: Financial Statement data for each `stock_code`\\nCREATE TABLE financial_statement(\\n    stock_code VARCHAR(255) references company_info(stock_code),\\n    year int, -- The reported financial year\\n    quarter int, --  The quarter reported (contain value either 0, 1, 2, 3, 4). If the value is 0, that mean the report is for annual report.\\n    category_code VARCHAR(255) references map_category_code_universal(category_code),\\n    data float, -- The value of the recorded category (in Million VND)\\n    date_added timestamp -- The datetime when the data was published\\n);\\n\\n-- Table: industry_financial_statement: General report for each industry sector\\n\\nCREATE TABLE industry_financial_statement(\\n    industry VARCHAR(255), -- Same with industry in table `company_info`\\n    year int, \\n    quarter int,\\n    category_code VARCHAR(255) references map_category_code_universal(category_code),\\n    data_mean float, -- Mean value of every firm in that industry\\n    data_sun float, -- Total value of every firm in that industry\\n    date_added timestamp \\n);\\n\\n\\n-- Table map_category_code_ratio: Mapping ratio name for Financial Ratio\\nCREATE TABLE map_category_code_ratio(\\n    ratio_code VARCHAR(255) primary key,\\n    ratio_name VARCHAR(255)\\n);\\n\\n-- Table financial_ratio: This table will have pre-calculated common Ratio such as ROA, ROE, FCF, etc\\n-- Same structure as `financial_statement`\\nCREATE TABLE financial_ratio(\\n    ratio_code VARCHAR(255) references map_category_code_ratio(ratio_code),\\n    stock_code VARCHAR(255) references company_info(stock_code),\\n    year int,\\n    quarter int,\\n    data float, -- Either in Million VND if the ratio_code related to money, or ratio otherwise\\n    date_added timestamp\\n);\\n\\n-- Table: industry_financial_ratio: General ratio for each industry sector\\nCREATE TABLE industry_financial_ratio(\\n    industry VARCHAR(255),\\n    ratio_code VARCHAR(255) references map_category_code_ratio(ratio_code),\\n    year int,\\n    quarter int,\\n    data_mean float, \\n    date_added timestamp\\n);\\n\\n-- Table map_category_code_explaination\\nCREATE TABLE map_category_code_explaination(\\n    category_code VARCHAR(255) primary key, --The unique code for accounts recorded in the financial statements explaination part.\\n    en_caption VARCHAR(255), --The Accounts (Caption) for the `category_code`.\\n);\\n\\n-- Table financial_statement_explaination: This table will have detailed information which is not covered in 3 main reports of financial statment. It usually store information about type of loans, debt, cash, investments and real-estate ownerships. \\n-- Same structure as `financial_statement`\\nCREATE TABLE financial_statement_explaination(\\n    category_code VARCHAR(255) references map_category_code_explaination(category_code),\\n    stock_code VARCHAR(255) references company_info(stock_code),\\n    year int,\\n    quarter int,\\n    data float, \\n    date_added timestamp \\n);\\n```\\n\\n### Note on schema description: \\n- Each value in `category_code` includes a prefix indicating the report it pertains to: *BS* is Balance sheet, *IS* is for Income statement, *CF* is Cash flow and *TM* is for Explaination.\\n- For `category_code` in `map_category_code_explaination`, there are 4 additional prefix: *Crop*, *Bank* and *Sec* for specific account related to each type of organization (e.g: Bank_TM_66 for Standard Debt), and *Share* if the account type is similar across organizations (e.g: Share_TM_5 for Share Issued).\\n- The numerical parts in `category_code` share some account code from VAS standard. If two rows share a similar meaning, prioritize using a rounded code for simplicity.\\n- Some accounts (`en_caption`) are specific to either corporation, banks or securities firms, resulting in variations in the number of accounts across companies. Specialized account captions often include a prefix, such as *(Bank) Deposits at the Central Bank* (BS_112).\\n- The YoY ratio in `financial_ratio` only cover the rate related to the previous year (Q3-2023 to Q3-2022 or 2019 to 2020). You should recalculate the ratio if the time window is not 1 year.\\n\\n### Peek view of the schema\\n - `company_info`\\n\\n| stock_code | industry |  is_bank | is_securities | exchange | stock_indices |\\n|:----|:----|:----|:----|:----|:----|\\n| VIC | Real Estate | false | false | HOSE | VN30 |\\n\\n- `sub_and_shareholder`\\n\\n| stock_code | invest_on |\\n|:---|:---|\\n| MSN | TCB |\\n\\nExplain:\\nThis mean MSN is a shareholder of TCB. \\n\\n- `financial_statement`\\n\\n| stock_code | year | quarter | category_code | data | date_added |\\n|:----|:----|:----|:----|:----|:----|\\n| VCB | 2023 |  0 | BS_300 | 1839613.198 | 2023-12-30 |\\n| LPB | 2024 |  2 | CF_045 | 68522.835| 2024-06-30 |\\n| BID | 2024 |  1 | IS_014 | 5392.606 | 2024-03-30 |\\n\\n- `map_category_code_universal`\\n\\n|category_code|universal_caption|\\n|:----|:----|\\n|BS_100| (Balance sheet) A. CURRENT ASSETS |\\n\\n### Note on creating query:\\n- You can access the database by using\\n```sql\\nSELECT * FROM financial_statement\\n\\nLIMIT 10;\\n```\\n- For any financial ratio, it must be selected from the database rather than being calculated manually.\\n- Always include a `quarter` condition in your query.\\n- If not specified, assume the data pertains to annual reports, with the query defaulting to `quarter` = 0.\\n- When selecting data by quarter, ensure the `quarter` is not 0, and when selecting data by year, the `quarter` must be 0.\\n- Do not directly compare data between quarterly and annual financial reports.\\n- Always include a LIMIT clause in your query.\"},\n",
       "  {'role': 'user',\n",
       "   'content': \"Here is a natural language query that you need to convert into a SQL query:\\n\\n<task>\\n\\nWhat is the debt-to-equity ratio of VCB, BID, and CTG in 2023, broken down by quarter? How does this compare to their respective industry averages?\\n\\n</task>\\n\\n### Company details\\n\\n<data>\\n\\n**Company Info**\\n\\n| stock_code | en_company_name | industry | is_bank | is_securities |\\n| --- | --- | --- | --- | --- |\\n| BID | Joint Stock Commercial Bank for Investment and Development of Vietnam | Banking | True | False |\\n| CTG | Vietnam Joint Stock Commercial Bank For Industry and Trade | Banking | True | False |\\n| VCB | Joint Stock Commercial Bank For Foreign Trade Of Vietnam | Banking | True | False |\\n| VPB | Vietnam Prosperity Joint Stock Commercial Bank | Banking | True | False |\\n| CMG | CMC Corporation | Information Technology | False | False |\\n\\n</data>\\n\\n### Snapshot of the mapping table:\\n<data>\\n\\n**category_code_mapping**\\n\\nList of category_code with corresponding en_caption\\n- BS_133: (Balance sheet) (Bank) Debt purchases\\n- BS_301: (Balance sheet) (Bank) Government and central bank debts\\n- BS_400: (Balance sheet) D. EQUITY\\n- BS_410: (Balance sheet) I. Owner's Equity\\n- BS_440: (Balance sheet) TOTAL LIABILITIES AND EQUITY\\n- Bank_TM_2: (Explaination) Debt securities\\n- Bank_TM_8: (Explaination) Equity securities\\n- Bank_TM_67: (Explaination) Debts needing attention (Group 2 debts)\\n- CF_076: (Cash flow) Cash outflows for principal debt repayment\\n\\n\\n**ratio_code_mapping**\\n\\nList of ratio_code with corresponding ratio_name\\n- ER: Equity Ratio\\n- BDR: Bad Debt Ratio\\n- DTER: Debt To Equity Ratio\\n\\n\\n</data>\\n\\n### Here are some examples of a query that you can refer to:\\n\\n<example>\\n\\n**Calculate the Long Term Debt-to-Equity ratio for ABB in Q2 2023.** \\n\\n```sql\\nSELECT \\n    stock_code,\\n    year,\\n    quarter,\\n    ratio_code,\\n    data\\nFROM \\n    financial_ratio\\nWHERE \\n    ratio_code = 'LTDTER' -- Long Term Debt-to-Equity ratio code\\n    AND stock_code = 'ABB' -- Company stock code\\n    AND year = 2023\\n    AND quarter = 2; -- Q2 2023```\\n\\n**For Vietcombank and Techcombank, please provide the quarterly data for the Debt-to-Equity ratio from 2020 to 2023.** \\n\\n```sql\\nSELECT \\n    stock_code,\\n    year,\\n    quarter,\\n    ratio_code,\\n    data\\nFROM financial_ratio\\nWHERE ratio_code = 'DTER' -- Assuming 'DTER' is the code for Debt-to-Equity Ratio\\n  AND stock_code IN ('VCB', 'TCB')\\n  AND year BETWEEN 2018 AND 2023\\n  and quarter = 0\\nORDER BY stock_code, year, quarter;```\\n\\n**Bad debt ratio for BIDV in Q3 2023** \\n\\n```sql\\nSELECT \\n    stock_code,\\n    quarter,\\n    year,\\n    ratio_code,\\n    data\\nFROM financial_ratio\\nWHERE ratio_code = 'BDR' -- Bad Debt Ratio\\n  AND stock_code = 'BID' -- BIDV stock code\\n  AND year = 2023\\n  AND quarter = 3 -- Q3 2023\\nLIMIT 100;```\\n\\n</example>\\n \\n<instruction>\\n\\nAnalyze the task step-by-step then return SQL query that match with the database schema.\\n\\nIf possible, the table result should have the following columns:\\n\\n- stock_code / industry\\n- year\\n- quarter\\n- category_code / stock_code\\n- data / data_mean / data_sum\\n\\nHowever, feel free to modify the table if needed.\\n\\n</instruction>\\n\\n### Note: \\n- Include the detailed suitable name (including datetime, industry, ...) for the table in the query in the following format:\\n\\n```sql\\n-- ### detailed_table_name\\n```\\n\\n- The `category_code` mapping table contain value of both `financial_statment` and `explaination` tables\\n- The user can only see the query results, so your name should be as informative as possible\\n- If the time is not mentioned, assume getting the current time (Q3 2024)\\n- Do not make any assumption about the account name. You can refer to the mapping table above to find the suitable account.\\n- The query must not contain column `ratio_name` or `en_caption`.\\n- If the question requires data within the quarter time range (from 2020 to Q3 2024), you should use the `date_added` instead of `year` and `quarter`, in the following format:\\n\\n```sql\\nWHERE date_added BETWEEN '2020-01-01' AND '2024-09-30' \\nAND quarter !=0\\n\\n-- Date added for each quarter:\\n-- - Q1: YYYY-03-30\\n-- - Q2: YYYY-06-30\\n-- - Q3: YYYY-09-30\\n-- - Q4: YYYY-12-30\\n-- - Q0: YYYY-12-30 (Annual data is add at the end of the year)\\n```\\n\\n- If the question requires data within annual data, you can use `year` column directly\"}]}"
      ]
     },
     "execution_count": 5,
     "metadata": {},
     "output_type": "execute_result"
    }
   ],
   "source": [
    "template_data[0]"
   ]
  },
  {
   "cell_type": "code",
   "execution_count": 5,
   "metadata": {},
   "outputs": [
    {
     "data": {
      "text/plain": [
       "4173"
      ]
     },
     "execution_count": 5,
     "metadata": {},
     "output_type": "execute_result"
    }
   ],
   "source": [
    "len(template_data)"
   ]
  },
  {
   "cell_type": "code",
   "execution_count": 6,
   "metadata": {},
   "outputs": [],
   "source": [
    "import logging\n",
    "from tqdm import tqdm\n",
    "\n",
    "logging.disable(logging.CRITICAL)"
   ]
  },
  {
   "cell_type": "code",
   "execution_count": null,
   "metadata": {},
   "outputs": [],
   "source": [
    "selected_data = []\n",
    "for line in tqdm(template_data):\n",
    "    ids = line['ids']\n",
    "    if ids in reponses:\n",
    "        line['question'] = questions[ids]\n",
    "        line['reasoning'] = reponses[ids]\n",
    "        line['message'].append(\n",
    "            {\n",
    "                \"role\": \"assistant\",\n",
    "                \"content\": reponses[ids]\n",
    "            }\n",
    "        )\n",
    "        tables = reconstruct_tables_from_sql(solver.db, reponses[ids])\n",
    "        if len(tables) > 0:\n",
    "            tables = table_to_markdown(tables, adjust='text')\n",
    "            line['table'] = tables\n",
    "            selected_data.append(line)\n"
   ]
  },
  {
   "cell_type": "code",
   "execution_count": 15,
   "metadata": {},
   "outputs": [
    {
     "data": {
      "text/plain": [
       "3575"
      ]
     },
     "execution_count": 15,
     "metadata": {},
     "output_type": "execute_result"
    }
   ],
   "source": [
    "len(selected_data)"
   ]
  },
  {
   "cell_type": "code",
   "execution_count": 18,
   "metadata": {},
   "outputs": [
    {
     "data": {
      "text/plain": [
       "{'date': '2025-08-02 23:53:58',\n",
       " 'ids': '5413b90f-85c4-41c2-a7c5-47324bfd44d9',\n",
       " 'message': [{'role': 'system',\n",
       "   'content': \"You are an expert in financial statement and database management. You will be asked to convert a natural language query into a SQL query. \\nYou will have the following database description:\\n\\n### Database Description\\nYou're given database about the financial statments of top Vietnamese companies, either bank, cooperates and securities.\\n\\n<overall_description>\\n\\nAll the data in the financial statments are followed by the regulation of Vietnamese Accounting Standard (VAS). The English translations are followed by the International Financial Reporting Standards (IFRS).\\n\\nThere are 3 type of financial statments, based on VAS regulation: bank, non-bank corporation and securities firm (firms that provide stock options and financial instruments).\\nAll 3 type of reports are stored in one single table, and there will be a sight different between them.\\n\\nThe database includes two reporting periods for financial statements: quarterly and annually. Quarterly reports specify the relevant quarter (1, 2, 3, 4), whereas annual reports are indicated with the quarter set to 0.\\n\\n</overall_description>\\n\\nYou are given 10 tables in the database. Here are the detailed descriptions of them in PostgreSQL format:\\n\\n### PostgreSQL tables, with their properties\\n```sql \\n-- Table: company_info\\nCREATE TABLE company_info(\\n    stock_code VARCHAR(255) primary key, --The trading symbol.\\n    industry VARCHAR(255), --Current industry of company. \\n    exchange VARCHAR(255), -- The exchange where the stock is listed (e.g., HOSE, HNX)\\n    stock_indices VARCHAR(255), -- The stock index it belongs to (e.g., VN30, HNX30)\\n    is_bank BOOLEAN, --Bool checking whether the company is a bank or not.\\n    is_securities BOOLEAN, --Bool checking whether the company is a securities firm or not.\\n);\\n\\n-- Table: sub_and_shareholder\\nCREATE TABLE sub_and_shareholder(\\n    stock_code VARCHAR(255) NOT NULL, \\n    invest_on VARCHAR(255) NOT NULL, -- The company invested on (can be subsidiary)\\n    FOREIGN KEY (stock_code) REFERENCES company_info(stock_code),\\n    FOREIGN KEY (invest_on) REFERENCES company_info(stock_code),\\n    PRIMARY KEY (stock_code, invest_on) \\n);\\n\\n-- Table: map_category_code_universal: Mapping account table for Financial Statement\\nCREATE TABLE map_category_code_universal(\\n    category_code VARCHAR(255) primary key, --The unique code for accounts recorded.\\n    en_caption VARCHAR(255), --The Accounts (Caption) for the `category_code`.\\n);\\n\\n-- Table: financial_statement: Financial Statement data for each `stock_code`\\nCREATE TABLE financial_statement(\\n    stock_code VARCHAR(255) references company_info(stock_code),\\n    year int, -- The reported financial year\\n    quarter int, --  The quarter reported (contain value either 0, 1, 2, 3, 4). If the value is 0, that mean the report is for annual report.\\n    category_code VARCHAR(255) references map_category_code_universal(category_code),\\n    data float, -- The value of the recorded category (in Million VND)\\n    date_added timestamp -- The datetime when the data was published\\n);\\n\\n-- Table: industry_financial_statement: General report for each industry sector\\n\\nCREATE TABLE industry_financial_statement(\\n    industry VARCHAR(255), -- Same with industry in table `company_info`\\n    year int, \\n    quarter int,\\n    category_code VARCHAR(255) references map_category_code_universal(category_code),\\n    data_mean float, -- Mean value of every firm in that industry\\n    data_sun float, -- Total value of every firm in that industry\\n    date_added timestamp \\n);\\n\\n\\n-- Table map_category_code_ratio: Mapping ratio name for Financial Ratio\\nCREATE TABLE map_category_code_ratio(\\n    ratio_code VARCHAR(255) primary key,\\n    ratio_name VARCHAR(255)\\n);\\n\\n-- Table financial_ratio: This table will have pre-calculated common Ratio such as ROA, ROE, FCF, etc\\n-- Same structure as `financial_statement`\\nCREATE TABLE financial_ratio(\\n    ratio_code VARCHAR(255) references map_category_code_ratio(ratio_code),\\n    stock_code VARCHAR(255) references company_info(stock_code),\\n    year int,\\n    quarter int,\\n    data float, -- Either in Million VND if the ratio_code related to money, or ratio otherwise\\n    date_added timestamp\\n);\\n\\n-- Table: industry_financial_ratio: General ratio for each industry sector\\nCREATE TABLE industry_financial_ratio(\\n    industry VARCHAR(255),\\n    ratio_code VARCHAR(255) references map_category_code_ratio(ratio_code),\\n    year int,\\n    quarter int,\\n    data_mean float, \\n    date_added timestamp\\n);\\n\\n-- Table map_category_code_explaination\\nCREATE TABLE map_category_code_explaination(\\n    category_code VARCHAR(255) primary key, --The unique code for accounts recorded in the financial statements explaination part.\\n    en_caption VARCHAR(255), --The Accounts (Caption) for the `category_code`.\\n);\\n\\n-- Table financial_statement_explaination: This table will have detailed information which is not covered in 3 main reports of financial statment. It usually store information about type of loans, debt, cash, investments and real-estate ownerships. \\n-- Same structure as `financial_statement`\\nCREATE TABLE financial_statement_explaination(\\n    category_code VARCHAR(255) references map_category_code_explaination(category_code),\\n    stock_code VARCHAR(255) references company_info(stock_code),\\n    year int,\\n    quarter int,\\n    data float, \\n    date_added timestamp \\n);\\n```\\n\\n### Note on schema description: \\n- Each value in `category_code` includes a prefix indicating the report it pertains to: *BS* is Balance sheet, *IS* is for Income statement, *CF* is Cash flow and *TM* is for Explaination.\\n- For `category_code` in `map_category_code_explaination`, there are 4 additional prefix: *Crop*, *Bank* and *Sec* for specific account related to each type of organization (e.g: Bank_TM_66 for Standard Debt), and *Share* if the account type is similar across organizations (e.g: Share_TM_5 for Share Issued).\\n- The numerical parts in `category_code` share some account code from VAS standard. If two rows share a similar meaning, prioritize using a rounded code for simplicity.\\n- Some accounts (`en_caption`) are specific to either corporation, banks or securities firms, resulting in variations in the number of accounts across companies. Specialized account captions often include a prefix, such as *(Bank) Deposits at the Central Bank* (BS_112).\\n- The YoY ratio in `financial_ratio` only cover the rate related to the previous year (Q3-2023 to Q3-2022 or 2019 to 2020). You should recalculate the ratio if the time window is not 1 year.\\n\\n### Peek view of the schema\\n - `company_info`\\n\\n| stock_code | industry |  is_bank | is_securities | exchange | stock_indices |\\n|:----|:----|:----|:----|:----|:----|\\n| VIC | Real Estate | false | false | HOSE | VN30 |\\n\\n- `sub_and_shareholder`\\n\\n| stock_code | invest_on |\\n|:---|:---|\\n| MSN | TCB |\\n\\nExplain:\\nThis mean MSN is a shareholder of TCB. \\n\\n- `financial_statement`\\n\\n| stock_code | year | quarter | category_code | data | date_added |\\n|:----|:----|:----|:----|:----|:----|\\n| VCB | 2023 |  0 | BS_300 | 1839613.198 | 2023-12-30 |\\n| LPB | 2024 |  2 | CF_045 | 68522.835| 2024-06-30 |\\n| BID | 2024 |  1 | IS_014 | 5392.606 | 2024-03-30 |\\n\\n- `map_category_code_universal`\\n\\n|category_code|universal_caption|\\n|:----|:----|\\n|BS_100| (Balance sheet) A. CURRENT ASSETS |\\n\\n### Note on creating query:\\n- You can access the database by using\\n```sql\\nSELECT * FROM financial_statement\\n\\nLIMIT 10;\\n```\\n- For any financial ratio, it must be selected from the database rather than being calculated manually.\\n- Always include a `quarter` condition in your query.\\n- If not specified, assume the data pertains to annual reports, with the query defaulting to `quarter` = 0.\\n- When selecting data by quarter, ensure the `quarter` is not 0, and when selecting data by year, the `quarter` must be 0.\\n- Do not directly compare data between quarterly and annual financial reports.\\n- Always include a LIMIT clause in your query.\"},\n",
       "  {'role': 'user',\n",
       "   'content': \"Here is a natural language query that you need to convert into a SQL query:\\n\\n<task>\\n\\nWhat is the debt-to-equity ratio of VCB, BID, and CTG in 2023, broken down by quarter? How does this compare to their respective industry averages?\\n\\n</task>\\n\\n### Company details\\n\\n<data>\\n\\n**Company Info**\\n\\n| stock_code | en_company_name | industry | is_bank | is_securities |\\n| --- | --- | --- | --- | --- |\\n| BID | Joint Stock Commercial Bank for Investment and Development of Vietnam | Banking | True | False |\\n| CTG | Vietnam Joint Stock Commercial Bank For Industry and Trade | Banking | True | False |\\n| VCB | Joint Stock Commercial Bank For Foreign Trade Of Vietnam | Banking | True | False |\\n| VPB | Vietnam Prosperity Joint Stock Commercial Bank | Banking | True | False |\\n| CMG | CMC Corporation | Information Technology | False | False |\\n\\n</data>\\n\\n### Snapshot of the mapping table:\\n<data>\\n\\n**category_code_mapping**\\n\\nList of category_code with corresponding en_caption\\n- BS_133: (Balance sheet) (Bank) Debt purchases\\n- BS_301: (Balance sheet) (Bank) Government and central bank debts\\n- BS_400: (Balance sheet) D. EQUITY\\n- BS_410: (Balance sheet) I. Owner's Equity\\n- BS_440: (Balance sheet) TOTAL LIABILITIES AND EQUITY\\n- Bank_TM_2: (Explaination) Debt securities\\n- Bank_TM_8: (Explaination) Equity securities\\n- Bank_TM_67: (Explaination) Debts needing attention (Group 2 debts)\\n- CF_076: (Cash flow) Cash outflows for principal debt repayment\\n\\n\\n**ratio_code_mapping**\\n\\nList of ratio_code with corresponding ratio_name\\n- ER: Equity Ratio\\n- BDR: Bad Debt Ratio\\n- DTER: Debt To Equity Ratio\\n\\n\\n</data>\\n\\n### Here are some examples of a query that you can refer to:\\n\\n<example>\\n\\n**Calculate the Long Term Debt-to-Equity ratio for ABB in Q2 2023.** \\n\\n```sql\\nSELECT \\n    stock_code,\\n    year,\\n    quarter,\\n    ratio_code,\\n    data\\nFROM \\n    financial_ratio\\nWHERE \\n    ratio_code = 'LTDTER' -- Long Term Debt-to-Equity ratio code\\n    AND stock_code = 'ABB' -- Company stock code\\n    AND year = 2023\\n    AND quarter = 2; -- Q2 2023```\\n\\n**For Vietcombank and Techcombank, please provide the quarterly data for the Debt-to-Equity ratio from 2020 to 2023.** \\n\\n```sql\\nSELECT \\n    stock_code,\\n    year,\\n    quarter,\\n    ratio_code,\\n    data\\nFROM financial_ratio\\nWHERE ratio_code = 'DTER' -- Assuming 'DTER' is the code for Debt-to-Equity Ratio\\n  AND stock_code IN ('VCB', 'TCB')\\n  AND year BETWEEN 2018 AND 2023\\n  and quarter = 0\\nORDER BY stock_code, year, quarter;```\\n\\n**Bad debt ratio for BIDV in Q3 2023** \\n\\n```sql\\nSELECT \\n    stock_code,\\n    quarter,\\n    year,\\n    ratio_code,\\n    data\\nFROM financial_ratio\\nWHERE ratio_code = 'BDR' -- Bad Debt Ratio\\n  AND stock_code = 'BID' -- BIDV stock code\\n  AND year = 2023\\n  AND quarter = 3 -- Q3 2023\\nLIMIT 100;```\\n\\n</example>\\n \\n<instruction>\\n\\nAnalyze the task step-by-step then return SQL query that match with the database schema.\\n\\nIf possible, the table result should have the following columns:\\n\\n- stock_code / industry\\n- year\\n- quarter\\n- category_code / stock_code\\n- data / data_mean / data_sum\\n\\nHowever, feel free to modify the table if needed.\\n\\n</instruction>\\n\\n### Note: \\n- Include the detailed suitable name (including datetime, industry, ...) for the table in the query in the following format:\\n\\n```sql\\n-- ### detailed_table_name\\n```\\n\\n- The `category_code` mapping table contain value of both `financial_statment` and `explaination` tables\\n- The user can only see the query results, so your name should be as informative as possible\\n- If the time is not mentioned, assume getting the current time (Q3 2024)\\n- Do not make any assumption about the account name. You can refer to the mapping table above to find the suitable account.\\n- The query must not contain column `ratio_name` or `en_caption`.\\n- If the question requires data within the quarter time range (from 2020 to Q3 2024), you should use the `date_added` instead of `year` and `quarter`, in the following format:\\n\\n```sql\\nWHERE date_added BETWEEN '2020-01-01' AND '2024-09-30' \\nAND quarter !=0\\n\\n-- Date added for each quarter:\\n-- - Q1: YYYY-03-30\\n-- - Q2: YYYY-06-30\\n-- - Q3: YYYY-09-30\\n-- - Q4: YYYY-12-30\\n-- - Q0: YYYY-12-30 (Annual data is add at the end of the year)\\n```\\n\\n- If the question requires data within annual data, you can use `year` column directly\"},\n",
       "  {'role': 'assistant',\n",
       "   'content': \"To create a suitable SQL query for the natural language request, I'll break down the requirements step-by-step:\\n\\n**Task Breakdown:**\\n1. We need to retrieve the debt-to-equity ratio (DTER) for the companies VCB, BID, and CTG for the year 2023, broken down by quarter.\\n2. We need to compare this data against the industry averages for the banks in 2023, which means calculating the mean debt-to-equity ratio for that industry as well.\\n3. The query must retrieve specific columns and be well-documented.\\n\\n**SQL Query Construction:**\\n- I will select the DTER ratios for the specified companies.\\n- I will also calculate the industry average DTER for the banking sector in 2023.\\n- The quarter condition is relevant here, as we need to include all quarterly data.\\n\\nNow, I will proceed to formulate the SQL query based on this analysis.\\n\\n```sql\\n-- ### Debt-to-Equity Ratio for VCB, BID, CTG in 2023 by Quarter, compared to Industry Average\\nWITH debt_equity_ratios AS (\\n    SELECT \\n        stock_code,\\n        year,\\n        quarter,\\n        ratio_code,\\n        data\\n    FROM \\n        financial_ratio\\n    WHERE \\n        ratio_code = 'DTER' -- Debt to Equity Ratio\\n        AND stock_code IN ('VCB', 'BID', 'CTG') -- Company stock codes\\n        AND year = 2023\\n        AND quarter != 0 -- Exclude annual reports\\n),\\nindustry_average AS (\\n    SELECT \\n        'Banking' AS industry,\\n        year,\\n        quarter,\\n        AVG(data) AS data_mean\\n    FROM \\n        financial_ratio\\n    WHERE \\n        ratio_code = 'DTER' -- Debt to Equity Ratio\\n        AND year = 2023\\n        AND quarter != 0 -- Exclude annual reports\\n        AND stock_code IN (SELECT stock_code FROM company_info WHERE is_bank = TRUE)\\n    GROUP BY \\n        year,\\n        quarter\\n)\\n\\nSELECT \\n    d.stock_code,\\n    'Banking' AS industry, -- Fixed industry since we only query banks\\n    d.year,\\n    d.quarter,\\n    d.ratio_code,\\n    d.data AS debt_equity_ratio,\\n    i.data_mean AS industry_average\\nFROM \\n    debt_equity_ratios d\\nLEFT JOIN \\n    industry_average i ON d.quarter = i.quarter AND d.year = i.year\\nORDER BY \\n    d.stock_code, d.quarter\\nLIMIT 100;\\n```\\n\\n### Explanation of the Query:\\n- **Common Table Expressions (CTEs)** are used:\\n  - `debt_equity_ratios`: To select the DTER for the specified companies for the year 2023, excluding the annual data (quarter != 0).\\n  - `industry_average`: To calculate the average DTER of all banking companies for the same year and quarter.\\n- This setup allows us to join these two datasets and provide a clear comparison of each company's ratio against the industry average for each quarter. \\n- The columns chosen are aligned with the request, presenting both the company's debt-to-equity ratio and the average for the banking sector.\"}],\n",
       " 'reasoning': \"To create a suitable SQL query for the natural language request, I'll break down the requirements step-by-step:\\n\\n**Task Breakdown:**\\n1. We need to retrieve the debt-to-equity ratio (DTER) for the companies VCB, BID, and CTG for the year 2023, broken down by quarter.\\n2. We need to compare this data against the industry averages for the banks in 2023, which means calculating the mean debt-to-equity ratio for that industry as well.\\n3. The query must retrieve specific columns and be well-documented.\\n\\n**SQL Query Construction:**\\n- I will select the DTER ratios for the specified companies.\\n- I will also calculate the industry average DTER for the banking sector in 2023.\\n- The quarter condition is relevant here, as we need to include all quarterly data.\\n\\nNow, I will proceed to formulate the SQL query based on this analysis.\\n\\n```sql\\n-- ### Debt-to-Equity Ratio for VCB, BID, CTG in 2023 by Quarter, compared to Industry Average\\nWITH debt_equity_ratios AS (\\n    SELECT \\n        stock_code,\\n        year,\\n        quarter,\\n        ratio_code,\\n        data\\n    FROM \\n        financial_ratio\\n    WHERE \\n        ratio_code = 'DTER' -- Debt to Equity Ratio\\n        AND stock_code IN ('VCB', 'BID', 'CTG') -- Company stock codes\\n        AND year = 2023\\n        AND quarter != 0 -- Exclude annual reports\\n),\\nindustry_average AS (\\n    SELECT \\n        'Banking' AS industry,\\n        year,\\n        quarter,\\n        AVG(data) AS data_mean\\n    FROM \\n        financial_ratio\\n    WHERE \\n        ratio_code = 'DTER' -- Debt to Equity Ratio\\n        AND year = 2023\\n        AND quarter != 0 -- Exclude annual reports\\n        AND stock_code IN (SELECT stock_code FROM company_info WHERE is_bank = TRUE)\\n    GROUP BY \\n        year,\\n        quarter\\n)\\n\\nSELECT \\n    d.stock_code,\\n    'Banking' AS industry, -- Fixed industry since we only query banks\\n    d.year,\\n    d.quarter,\\n    d.ratio_code,\\n    d.data AS debt_equity_ratio,\\n    i.data_mean AS industry_average\\nFROM \\n    debt_equity_ratios d\\nLEFT JOIN \\n    industry_average i ON d.quarter = i.quarter AND d.year = i.year\\nORDER BY \\n    d.stock_code, d.quarter\\nLIMIT 100;\\n```\\n\\n### Explanation of the Query:\\n- **Common Table Expressions (CTEs)** are used:\\n  - `debt_equity_ratios`: To select the DTER for the specified companies for the year 2023, excluding the annual data (quarter != 0).\\n  - `industry_average`: To calculate the average DTER of all banking companies for the same year and quarter.\\n- This setup allows us to join these two datasets and provide a clear comparison of each company's ratio against the industry average for each quarter. \\n- The columns chosen are aligned with the request, presenting both the company's debt-to-equity ratio and the average for the banking sector.\",\n",
       " 'table': '**Company Information**\\n\\n| stock_code | en_company_name | industry | is_bank | is_securities |\\n| --- | --- | --- | --- | --- |\\n| BID | Joint Stock Commercial Bank for Investment and Development of Vietnam | Banking | True | False | \\n| CTG | Vietnam Joint Stock Commercial Bank For Industry and Trade | Banking | True | False | \\n| VCB | Joint Stock Commercial Bank For Foreign Trade Of Vietnam | Banking | True | False | \\n\\n**Ratio Mapping**\\n\\nList of ratio_code with corresponding ratio_name\\n- DTER: Debt To Equity Ratio**SQL 1 Result: Debt-to-Equity Ratio for VCB, BID, CTG in 2023 by Quarter, compared to Industry Average**\\n\\n| stock_code | industry | year | quarter | ratio_code | debt_equity_ratio | industry_average |\\n| --- | --- | --- | --- | --- | --- | --- |\\n| BID | Banking | 2023 | 1 | DTER | 18.179736435454146 | 10.353804725945741 | \\n| BID | Banking | 2023 | 2 | DTER | 17.613552617779206 | 10.52164679438443 | \\n| BID | Banking | 2023 | 3 | DTER | 16.909927771129745 | 10.396313897545625 | \\n| BID | Banking | 2023 | 4 | DTER | 17.718431871824055 | 10.710502033503095 | \\n| CTG | Banking | 2023 | 1 | DTER | 15.149093711158422 | 10.353804725945741 | \\n| CTG | Banking | 2023 | 2 | DTER | 14.755536550778135 | 10.52164679438443 | \\n| CTG | Banking | 2023 | 3 | DTER | 14.477532816388374 | 10.396313897545625 | \\n| CTG | Banking | 2023 | 4 | DTER | 14.933846072756806 | 10.710502033503095 | \\n| VCB | Banking | 2023 | 1 | DTER | 11.764083012749253 | 10.353804725945741 | \\n| VCB | Banking | 2023 | 2 | DTER | 10.212240036797622 | 10.52164679438443 | \\n| VCB | Banking | 2023 | 3 | DTER | 9.872063075119955 | 10.396313897545625 | \\n| VCB | Banking | 2023 | 4 | DTER | 9.912466274843375 | 10.710502033503095 | \\n\\n',\n",
       " 'question': 'What is the debt-to-equity ratio of VCB, BID, and CTG in 2023, broken down by quarter? How does this compare to their respective industry averages?'}"
      ]
     },
     "execution_count": 18,
     "metadata": {},
     "output_type": "execute_result"
    }
   ],
   "source": [
    "selected_data[0]"
   ]
  },
  {
   "cell_type": "code",
   "execution_count": 16,
   "metadata": {},
   "outputs": [],
   "source": [
    "for data in selected_data:\n",
    "    ids = data['ids']\n",
    "    data['question'] = questions[ids]"
   ]
  },
  {
   "cell_type": "code",
   "execution_count": 17,
   "metadata": {},
   "outputs": [],
   "source": [
    "with open(output_path, 'w') as f:\n",
    "    for line in selected_data:\n",
    "        f.write(json.dumps(line) + '\\n')"
   ]
  },
  {
   "cell_type": "code",
   "execution_count": 8,
   "metadata": {},
   "outputs": [
    {
     "data": {
      "text/plain": [
       "' \\na\\n smt\\n b\\n'"
      ]
     },
     "execution_count": 8,
     "metadata": {},
     "output_type": "execute_result"
    }
   ],
   "source": [
    "text = \"\"\" \n",
    "{a}\n",
    " smt\n",
    " {b}\n",
    "\"\"\"\n",
    "\n",
    "text.format(a='a', b='b', c= 'c')"
   ]
  },
  {
   "cell_type": "markdown",
   "metadata": {},
   "source": [
    "## Change system prompt"
   ]
  },
  {
   "cell_type": "code",
   "execution_count": 2,
   "metadata": {},
   "outputs": [],
   "source": [
    "import random\n",
    "\n",
    "def get_random_sys_prompt():\n",
    "    choices = {\n",
    "        'vertical': FIIN_VERTICAL_PROMPT_UNIVERSAL['OPENAI_SEEK_DATABASE_PROMPT'],\n",
    "        'openai': FIIN_VERTICAL_PROMPT_UNIVERSAL_OPENAI['OPENAI_SEEK_DATABASE_PROMPT'],\n",
    "        'short': FIIN_VERTICAL_PROMPT_UNIVERSAL_SHORT['OPENAI_SEEK_DATABASE_PROMPT'],\n",
    "        'simpify': FIIN_VERTICAL_PROMPT_UNIVERSAL_SIMPLIFY['OPENAI_SEEK_DATABASE_PROMPT']\n",
    "\n",
    "    }\n",
    "\n",
    "    choice = random.choice(['openai','openai','openai', 'short', 'simpify', 'simpify'])\n",
    "\n",
    "    prompt = \"\"\" \n",
    "You are an expert in financial statement and database management. You will be asked to convert a natural language query into a SQL query. \n",
    "### Database Description\n",
    "{database}\n",
    "\"\"\"\n",
    "    \n",
    "    return prompt.format(database=choices[choice])\n",
    "\n"
   ]
  },
  {
   "cell_type": "code",
   "execution_count": 133,
   "metadata": {},
   "outputs": [],
   "source": [
    "output_path = '../data/gemini-2.0-flash-thinking-exp-01-21__v3.jsonl'\n",
    "with open(output_path, 'w') as f:\n",
    "    for line in perfect_data:\n",
    "        line['messages'][0]['content'] = get_random_sys_prompt()\n",
    "        f.write(json.dumps(line) + '\\n')"
   ]
  },
  {
   "cell_type": "code",
   "execution_count": 55,
   "metadata": {},
   "outputs": [
    {
     "name": "stdout",
     "output_type": "stream",
     "text": [
      "Expecting ',' delimiter: line 1 column 12128 (char 12127)\n",
      "Expecting value: line 1 column 1 (char 0)\n",
      "Expecting ',' delimiter: line 1 column 12017 (char 12016)\n",
      "Expecting value: line 1 column 1 (char 0)\n",
      "Expecting ',' delimiter: line 1 column 11098 (char 11097)\n",
      "Expecting value: line 1 column 1 (char 0)\n",
      "Expecting ',' delimiter: line 1 column 8201 (char 8200)\n",
      "Expecting value: line 1 column 1 (char 0)\n",
      "Expecting ',' delimiter: line 1 column 8820 (char 8819)\n",
      "Expecting value: line 1 column 1 (char 0)\n",
      "Expecting ',' delimiter: line 1 column 11078 (char 11077)\n",
      "Expecting value: line 1 column 1 (char 0)\n"
     ]
    },
    {
     "data": {
      "text/plain": [
       "4883"
      ]
     },
     "execution_count": 55,
     "metadata": {},
     "output_type": "execute_result"
    }
   ],
   "source": [
    "msg_paths = [\n",
    "    '../data/message_gpt-4o-mini__v4_good.jsonl',\n",
    "    '../data/message_gpt-4o-mini__v5_2_good.jsonl',\n",
    "    '../data/message_gpt-4o-mini__v5_good.jsonl',\n",
    "]\n",
    "output_path = '../data/message_gpt-4o-mini.jsonl'\n",
    "\n",
    "count_msg = 0\n",
    "\n",
    "for msg_path in msg_paths:\n",
    "    with open(msg_path) as f:\n",
    "        for line in f:\n",
    "            try:\n",
    "                messages = json.loads(line)\n",
    "                if messages[0].get('role') == 'system':\n",
    "                    messages[0]['content'] = get_random_sys_prompt()\n",
    "\n",
    "                with open(output_path, 'a') as f:\n",
    "                    f.write(json.dumps(messages) + '\\n')\n",
    "                count_msg += 1\n",
    "            except Exception as e:\n",
    "                print(e)\n",
    "\n",
    "count_msg\n"
   ]
  },
  {
   "cell_type": "code",
   "execution_count": 82,
   "metadata": {},
   "outputs": [],
   "source": [
    "output_path = '../data/message_correction__v1.jsonl'\n",
    "with open(output_path, 'w') as f:\n",
    "    for line in perfect_data:\n",
    "        msg = line['messages']\n",
    "        system_prompt = get_random_sys_prompt()\n",
    "        system_prompt += \"\"\" \n",
    "### Regulation:   \n",
    "- The result of the SQL query will be displayed in the <data> tag.\n",
    "- Your should reasoning and provide the SQL query with explaination for the task in <task> and <instruction> tag.\n",
    "- For <correction> tag, you only need to provide the SQL query if the previous SQL query is incorrect.\n",
    "- For <reflection> tag, you dont need to provide the SQL query.\"\"\"\n",
    "        msg[0]['content'] = system_prompt\n",
    "        choice = random.choice([0,1,2,3])\n",
    "        if choice < 3:\n",
    "            msg = msg[:3]\n",
    "        \n",
    "        f.write(json.dumps(msg) + '\\n')"
   ]
  },
  {
   "cell_type": "code",
   "execution_count": 83,
   "metadata": {},
   "outputs": [],
   "source": [
    "long_query = usable_yes_no + usable_not_perfect_noNo\n",
    "\n",
    "with open(output_path, 'a') as f:\n",
    "    for line in long_query:\n",
    "        msg = line['messages']\n",
    "        system_prompt = get_random_sys_prompt()\n",
    "        system_prompt += \"\"\" \n",
    "### Regulation:   \n",
    "- The result of the SQL query will be displayed in the <data> tag.\n",
    "- Your should reasoning and provide the SQL query with explaination for the task in <task> and <instruction> tag.\n",
    "- For <correction> tag, you only need to provide the SQL query if the previous SQL query is incorrect.\n",
    "- For <reflection> tag, you dont need to provide the SQL query.\"\"\"\n",
    "        msg[0]['content'] = system_prompt\n",
    "        f.write(json.dumps(msg) + '\\n')"
   ]
  },
  {
   "cell_type": "code",
   "execution_count": 1,
   "metadata": {},
   "outputs": [
    {
     "name": "stdout",
     "output_type": "stream",
     "text": [
      "How did the return on equity of Asia Commercial Bank compare to TPBank in 2021?\n"
     ]
    }
   ],
   "source": [
    "import re\n",
    "\n",
    "def clean_text(text):\n",
    "    pattern = r'\\s\\([A-Z]{3,}\\)'\n",
    "    cleaned_text = re.sub(pattern, '', text)\n",
    "    return cleaned_text\n",
    "\n",
    "# Example usage\n",
    "text = \"How did the return on equity (ROE) of Asia Commercial Bank (ACB) compare to TPBank (TPB) in 2021?\"\n",
    "cleaned_text = clean_text(text)\n",
    "print(cleaned_text)\n"
   ]
  },
  {
   "cell_type": "code",
   "execution_count": 6,
   "metadata": {},
   "outputs": [],
   "source": [
    "import json \n",
    "import random\n",
    "\n",
    "hard_path = '../data/hard_questions_v0_4.jsonl'\n",
    "hard_data = []\n",
    "with open(hard_path) as f:\n",
    "    for line in f:\n",
    "        data = json.loads(line)\n",
    "        choice = random.choice([0,1,2,3, 4 ])\n",
    "\n",
    "        if choice < 4:\n",
    "            data['question'] = clean_text(data['question'])\n",
    "        hard_data.append(data)\n",
    "\n",
    "output_path = '../data/hard_questions_v0_4.jsonl'\n",
    "with open(output_path, 'w') as f:\n",
    "    for line in hard_data:\n",
    "        line2 = dict()\n",
    "        line2['question'] = line['question']\n",
    "        line2['ids'] = line['ids']\n",
    "        f.write(json.dumps(line2) + '\\n')"
   ]
  },
  {
   "cell_type": "code",
   "execution_count": 6,
   "metadata": {},
   "outputs": [],
   "source": [
    "import sys\n",
    "sys.path.append('../')\n",
    "from llm.llm_utils import get_json_from_text_response"
   ]
  },
  {
   "cell_type": "code",
   "execution_count": 9,
   "metadata": {},
   "outputs": [
    {
     "name": "stdout",
     "output_type": "stream",
     "text": [
      "No JSON response found in text response\n",
      "No JSON response found in text response\n"
     ]
    }
   ],
   "source": [
    "input_path = '../data/ner_gemini-2.0-flash__v5.jsonl'\n",
    "import random\n",
    "import json\n",
    "\n",
    "# 1/4 keep\n",
    "\n",
    "output_path = '../data/message_ner_gemini-2.0-flash__v5.jsonl'\n",
    "count = 0\n",
    "with open(input_path) as f:\n",
    "    for line in f:\n",
    "        ner_msg = json.loads(line)['ner']\n",
    "        if random.randint(0, 3) != 0:\n",
    "\n",
    "            for msg in ner_msg:\n",
    "                msg['content'] = clean_text(msg['content'])\n",
    "\n",
    "        flag_pass = True  \n",
    "        for msg in ner_msg:\n",
    "            if msg['role'] == 'assistant':\n",
    "                try:\n",
    "                    get_json_from_text_response(msg['content'])\n",
    "                except Exception as e:\n",
    "                    print(e)\n",
    "                    flag_pass = False\n",
    "                    print(msg['content'])\n",
    "                    break\n",
    "        if flag_pass:\n",
    "            with open(output_path, 'a') as f:\n",
    "                f.write(json.dumps(ner_msg) + '\\n')\n",
    "            count += 1\n",
    "        if count == 2000:\n",
    "            break\n",
    "    "
   ]
  },
  {
   "cell_type": "markdown",
   "metadata": {},
   "source": [
    "## Get DPO pair"
   ]
  },
  {
   "cell_type": "code",
   "execution_count": 3,
   "metadata": {},
   "outputs": [],
   "source": [
    "## Gemini Thinking\n",
    "import json\n",
    "choosen_data = dict()\n",
    "\n",
    "path_1 = '../data/gemini-2.0-flash-thinking-exp-01-21__v3.jsonl'\n",
    "path_2 = '../data/gemini-2.0-flash-thinking-exp-01-21__hard_v0_4.jsonl'"
   ]
  },
  {
   "cell_type": "code",
   "execution_count": 4,
   "metadata": {},
   "outputs": [],
   "source": [
    "with open(path_1) as f:\n",
    "    for line in f:\n",
    "        data = json.loads(line)\n",
    "        choosen_data[data['ids']] = data\n",
    "\n",
    "with open(path_2) as f:\n",
    "    for line in f:\n",
    "        data = json.loads(line)\n",
    "        choosen_data[data['ids']] = data"
   ]
  },
  {
   "cell_type": "code",
   "execution_count": 5,
   "metadata": {},
   "outputs": [],
   "source": [
    "rejected_data = dict()\n",
    "\n",
    "\n",
    "def get_rejected_data(data_path, good_path):\n",
    "\n",
    "    good_ids = set()\n",
    "    rejected_data = dict()\n",
    "\n",
    "    with open(good_path) as f:\n",
    "        for line in f:\n",
    "            data = json.loads(line)\n",
    "            good_ids.add(data['ids'])\n",
    "    \n",
    "    with open(data_path) as f:\n",
    "        for line in f:\n",
    "            data = json.loads(line)\n",
    "            if data['ids'] not in good_ids:\n",
    "                rejected_data[data['ids']] = data\n",
    "    return rejected_data\n",
    "\n",
    "\n",
    "data_path_1 = '../data/deepseek-chat__v0.jsonl'\n",
    "good_path_1 = '../data/deepseek-chat__v0_good.jsonl'\n",
    "\n",
    "data_path_2 = '../data/qwen2.5-coder-3b-sft__v3.jsonl'\n",
    "good_path_2 = '../data/qwen2.5-coder-3b-sft__v3_good.jsonl'\n",
    "\n",
    "data_path_3 = '../data/qwen2.5-coder-3b-sft__hard_v0_4.jsonl'\n",
    "good_path_3 = '../data/qwen2.5-coder-3b-sft__hard_v0_4_good.jsonl'\n",
    "\n",
    "data_path_4 = '../data/gpt-4o-mini__v3.jsonl'\n",
    "good_path_4 = '../data/gpt-4o-mini__v3_good.jsonl'\n",
    "\n",
    "rejected_data_1 = get_rejected_data(data_path_1, good_path_1)\n",
    "rejected_data_2 = get_rejected_data(data_path_2, good_path_2)\n",
    "rejected_data_3 = get_rejected_data(data_path_3, good_path_3)\n",
    "rejected_data_4 = get_rejected_data(data_path_4, good_path_4)\n",
    "\n",
    "\n",
    "\n",
    "for ids, data in rejected_data_2.items():\n",
    "    if ids not in rejected_data:\n",
    "        rejected_data[ids] = []\n",
    "    rejected_data[ids].append(data)\n",
    "\n",
    "for ids, data in rejected_data_3.items():\n",
    "    if ids not in rejected_data:\n",
    "        rejected_data[ids] = []\n",
    "    rejected_data[ids].append(data)\n",
    "\n",
    "for ids, data in rejected_data_4.items():\n",
    "    if ids not in rejected_data:\n",
    "        continue\n",
    "        rejected_data[ids] = []\n",
    "    \n",
    "    ref_data = rejected_data[ids]\n",
    "\n",
    "    data['messages'] = ref_data[0]['messages'][:2]\n",
    "    data['messages'].append(\n",
    "        {\n",
    "            \"role\": \"assistant\",\n",
    "            \"content\": data['reasoning']\n",
    "        }\n",
    "    )\n",
    "    rejected_data[ids].append(data)\n",
    "    \n",
    "\n",
    "for ids, data in rejected_data_1.items():\n",
    "    if ids not in rejected_data:\n",
    "        continue\n",
    "        rejected_data[ids] = []\n",
    "    \n",
    "    ref_data = rejected_data[ids]\n",
    "\n",
    "    data['messages'] = ref_data[0]['messages'][:2]\n",
    "    data['messages'].append(\n",
    "        {\n",
    "            \"role\": \"assistant\",\n",
    "            \"content\": data['reasoning']\n",
    "        }\n",
    "    )\n",
    "    rejected_data[ids].append(data)"
   ]
  },
  {
   "cell_type": "code",
   "execution_count": 6,
   "metadata": {},
   "outputs": [
    {
     "data": {
      "text/plain": [
       "1725"
      ]
     },
     "execution_count": 6,
     "metadata": {},
     "output_type": "execute_result"
    }
   ],
   "source": [
    "len(rejected_data)"
   ]
  },
  {
   "cell_type": "markdown",
   "metadata": {},
   "source": [
    "## SFT"
   ]
  },
  {
   "cell_type": "code",
   "execution_count": null,
   "metadata": {},
   "outputs": [],
   "source": []
  },
  {
   "cell_type": "code",
   "execution_count": 27,
   "metadata": {},
   "outputs": [],
   "source": [
    "sft_data = []\n",
    "for ids, data in choosen_data.items():\n",
    "    # if ids in rejected_data:\n",
    "    choice = random.choice([0,1])\n",
    "\n",
    "    if choice == 0:\n",
    "         if data['ids'] not in rejected_data:\n",
    "            continue\n",
    "\n",
    "    \n",
    "    messages = data['messages']\n",
    "    messages[0]['content'] = get_random_sys_prompt().strip()\n",
    "    messages[0]['content'] += \"\"\"\n",
    "### Regulation:   \n",
    "- The result of the SQL query will be displayed in the <data> tag.\n",
    "- Your should reasoning and provide the SQL query with explaination for the task in <task> and <instruction> tag.\n",
    "- For <correction> tag, you only need to provide the SQL query if the previous SQL query is incorrect.\n",
    "- For <reflection> tag, you dont need to provide the SQL query.\"\"\"\n",
    "\n",
    "    if len(messages) == 5:\n",
    "            choice = random.choice([0,1])\n",
    "            if choice == 0:\n",
    "                messages = messages[:3]\n",
    "\n",
    "    sft_data.append({\n",
    "        'messages': messages,\n",
    "    })\n"
   ]
  },
  {
   "cell_type": "code",
   "execution_count": 28,
   "metadata": {},
   "outputs": [
    {
     "data": {
      "text/plain": [
       "2212"
      ]
     },
     "execution_count": 28,
     "metadata": {},
     "output_type": "execute_result"
    }
   ],
   "source": [
    "len(sft_data)"
   ]
  },
  {
   "cell_type": "code",
   "execution_count": 29,
   "metadata": {},
   "outputs": [
    {
     "data": {
      "text/plain": [
       "{'messages': [{'role': 'system',\n",
       "   'content': 'You are an expert in financial statement and database management. You will be asked to convert a natural language query into a SQL query. \\n### Database Description\\n<overall_description>\\n\\nThe database conatains financial statments of top Vietnamese firms, followed by the regulation of Vietnamese Accounting Standard (VAS). Based on VAS regulation, there are 3 type of financial statments: bank, corporation and securities firm, and there will be sight differences between them.\\n\\nThe database includes two reporting periods: quarterly and annually. Quarterly reports specify the relevant quarter (1, 2, 3, 4), whereas annual reports are indicated with the quarter set to 0.\\n\\n</overall_description>\\n\\n### PostgreSQL tables, with their properties, in OpenAI Template\\n\\n<schema>\\n\\n- **company_info**(stock_code, industry, exchange, stock_indices, is_bank, is_securities)\\n- **sub_and_shareholder**(stock_code, invest_on)\\n- **financial_statement**(stock_code, year, quarter, category_code, data, date_added)\\n- **industry_financial_statement**(industry, year, quarter, category_code, data_mean, data_sun, date_added)\\n- **financial_ratio**(ratio_code, stock_code, year, quarter, data, date_added)\\n- **industry_financial_ratio**(industry, ratio_code, year, quarter, data_mean, date_added)\\n- **financial_statement_explaination**(category_code, stock_code, year, quarter, data, date_added)\\n\\n</schema>\\n\\n### Note on schema description: \\n- For `industry_` tables, column `data_mean` is average data of every firm in that industry, and `data_sum` is the sum of them.\\n- Table `financial_statement_explaination` contains information which is not covered in 3 main reports, usually about type of loans, debt, cash, investments and real-estate ownerships. \\n- Each value in `category_code` includes a prefix indicating the report it pertains to: *BS* is Balance sheet, *IS* is for Income statement, *CF* is Cash flow and *TM* is for Explaination. For `category_code` in `financial_statement_explaination`, there are 4 additional prefix: *Crop*, *Bank*, *Sec* and *Share* for specific type of organization.\\n- With YoY ratio in `financial_ratio`, you should recalculate the ratio if the time window is not 1 year.\\n\\n### Note on query:\\n- You will be provided a mapping table with caption for `category_code` and `ratio_code`, and you are only allow to use that reference to select suitable code.\\n- For any financial ratio, it must be selected from the database rather than being calculated manually.\\n- If two rows share a similar meaning, using a rounded code.\\n- Always include a `quarter` condition in your query. If not specified, assume using annual reports, with the query defaulting to `quarter` = 0.\\n- Always include a LIMIT clause in your query.\\n### Regulation:   \\n- The result of the SQL query will be displayed in the <data> tag.\\n- Your should reasoning and provide the SQL query with explaination for the task in <task> and <instruction> tag.\\n- For <correction> tag, you only need to provide the SQL query if the previous SQL query is incorrect.\\n- For <reflection> tag, you dont need to provide the SQL query.'},\n",
       "  {'role': 'user',\n",
       "   'content': \"Here is a natural language query that you need to convert into a SQL query:\\n\\n<task>\\n\\nWhat was the debt-to-equity ratio for BIDV and Vietcombank in 2022?\\n\\n</task>\\n\\n### Company details\\n\\n<data>\\n\\n**Company Info**\\n\\n| stock_code | en_company_name | industry | is_bank | is_securities |\\n| --- | --- | --- | --- | --- |\\n| BID | Joint Stock Commercial Bank for Investment and Development of Vietnam | Banking | True | False | \\n| VCB | Joint Stock Commercial Bank For Foreign Trade Of Vietnam | Banking | True | False | \\n| TCB | Vietnam Technological And Commercial Joint Stock Bank | Banking | True | False |\\n\\n</data>\\n\\n### Snapshot of the mapping table:\\n<data>\\n\\n**category_code_mapping**\\n\\n| category_code | en_caption |\\n| --- | --- |\\n| BS_122 | (Balance sheet) (Bank) Total Trading securities | \\n| BS_126 | (Balance sheet) (Bank) Total Loans to customers | \\n| BS_270 | (Balance sheet) TOTAL ASSETS | \\n| BS_400 | (Balance sheet) D. EQUITY | \\n| BS_410 | (Balance sheet) I. Owner's Equity | \\n| BS_440 | (Balance sheet) TOTAL LIABILITIES AND EQUITY | \\n| Bank_TM_67 | (Explaination) Debts needing attention (Group 2 debts) | \\n| CF_075 | (Cash flow) Cash inflows from borrowing | \\n| CF_076 | (Cash flow) Cash outflows for principal debt repayment |\\n\\n**ratio_code_mapping**\\n\\n| ratio_code | ratio_name |\\n| --- | --- |\\n| DTTCR | Debt To Total Capital Ratio | \\n| CFOTTE | CFO To Total Equity | \\n| DTER | Debt To Equity Ratio |\\n\\n**industry**\\n\\n| industry |\\n| --- |\\n| Banking |\\n\\n</data>\\n\\n### Here are some examples of a query that you can refer to:\\n\\n<example>\\n\\n**Bad debt ratio for BIDV in Q3 2023**\\n\\n```sql\\nSELECT \\n    stock_code,\\n    quarter,\\n    year,\\n    ratio_code,\\n    data\\nFROM financial_ratio\\nWHERE ratio_code = 'BDR' -- Bad Debt Ratio\\n  AND stock_code = 'BID' -- BIDV stock code\\n  AND year = 2023\\n  AND quarter = 3 -- Q3 2023\\nLIMIT 100;```\\n\\n**For Vietcombank and Techcombank, please provide the quarterly data for the Debt-to-Equity ratio from 2020 to 2023.**\\n\\n```sql\\nSELECT \\n    stock_code,\\n    year,\\n    quarter,\\n    ratio_code,\\n    data\\nFROM financial_ratio\\nWHERE ratio_code = 'DTER' -- Assuming 'DTER' is the code for Debt-to-Equity Ratio\\n  AND stock_code IN ('VCB', 'TCB')\\n  AND year BETWEEN 2018 AND 2023\\n  and quarter = 0\\nORDER BY stock_code, year, quarter;```\\n\\n</example>\\n \\n<instruction>\\n\\nAnalyze the task step-by-step then return SQL query that match with the database schema.\\n\\nIf possible, the table result should have the following columns:\\n\\n- stock_code / industry\\n- year\\n- quarter\\n- category_code / stock_code\\n- data / data_mean / data_sum\\n\\nHowever, feel free to modify the table if needed.\\n\\n</instruction>\\n\\n### Note: \\n- Include the detailed suitable name (including datetime, industry, ...) for the table in the query in the following format:\\n\\n```sql\\n-- ### detailed_table_name\\n```\\n\\n- The `category_code` mapping table contain value of both `financial_statment` and `explaination` tables\\n- The user can only see the query results, so your name should be as informative as possible\\n- If the time is not mentioned, assume getting the current time (Q3 2024)\\n- Do not make any assumption about the account name. You can refer to the mapping table above to find the suitable account.\\n- The query must not contain column `ratio_name` or `en_caption`.\\n- If the question requires data within the quarter time range (from 2020 to Q3 2024), you should use the `date_added` instead of `year` and `quarter`, in the following format:\\n\\n```sql\\nWHERE date_added BETWEEN '2020-01-01' AND '2024-09-30' \\nAND quarter !=0\\n\\n-- Date added for each quarter:\\n-- - Q1: YYYY-03-30\\n-- - Q2: YYYY-06-30\\n-- - Q3: YYYY-09-30\\n-- - Q4: YYYY-12-30\\n-- - Q0: YYYY-12-30 (Annual data is add at the end of the year)\\n```\\n\\n- If the question requires data within annual data, you can use `year` column directly\\n\\nAnswer in the following format:\\n### Reasoning:\\n{Your reasoning}\\n### SQL Query:\\n{SQL query}\"},\n",
       "  {'role': 'assistant',\n",
       "   'content': \"### Reasoning:\\nThe user is asking for the Debt-to-Equity Ratio for BIDV and Vietcombank in 2022. This ratio is available in the `financial_ratio` table with the `ratio_code` 'DTER'. We need to filter this table for the specified `stock_code` ('BID' and 'VCB') and `year` (2022) for annual reports (`quarter = 0`).\\n\\n### SQL Query:\\n```sql\\n-- ### Debt-to-equity ratio for BIDV and Vietcombank in 2022\\nSELECT \\n    stock_code,\\n    year,\\n    quarter,\\n    ratio_code,\\n    data\\nFROM financial_ratio\\nWHERE ratio_code = 'DTER'\\n  AND stock_code IN ('BID', 'VCB')\\n  AND year = 2022\\n  AND quarter = 0\\nLIMIT 10;\\n```\"},\n",
       "  {'role': 'user',\n",
       "   'content': '<result>\\n\\n### SQL Result from previous query:\\n\\n**SQL 1 Result: Debt-to-equity ratio for BIDV and Vietcombank in 2022**\\n\\n| stock_code | year | quarter | ratio_code | data |\\n| --- | --- | --- | --- | --- |\\n| VCB | 2022 | 0 | DTER | 12.371673572444056 | \\n| BID | 2022 | 0 | DTER | 19.367913571175464 | \\n\\n\\n\\n</result>\\n\\n<correction>\\n\\nBased on the SQL table result in <result> tag, do you think the SQL queries is correct and can fully answer the original task? If there is no content on <result> tag, it means the preivous queries return nothing, which is incorrect.\\n\\nIf the previous SQL is not correct, return No under *Decision* heading, think step-by-step under *Reasoning* heading again and generate the correct SQL query under *SQL Query*.\\nOtherwise, you only need to return Yes under *Decision* heading. You must not provide the SQL query again.\\n\\nReturn in the following format (### SQL Query is optional):\\n\\n### Decision: \\n{Your decision}\\n\\n### Reasoning:\\n{Your reasoning}\\n\\n### SQL Query:\\n{Corrected SQL query}\\n\\n</correction>'},\n",
       "  {'role': 'assistant',\n",
       "   'content': \"### Decision: \\nYes\\n\\n### Reasoning:\\nThe previous SQL query successfully retrieved the Debt-to-Equity ratio (DTER) for both BIDV and Vietcombank (VCB) for the year 2022, as requested in the original task. The SQL result table confirms that data for both stock codes is present for the specified year and ratio, indicating the query is correct and effectively answers the user's question.\"}]}"
      ]
     },
     "execution_count": 29,
     "metadata": {},
     "output_type": "execute_result"
    }
   ],
   "source": [
    "sft_data[0]"
   ]
  },
  {
   "cell_type": "markdown",
   "metadata": {},
   "source": [
    "## KTO"
   ]
  },
  {
   "cell_type": "code",
   "execution_count": 8,
   "metadata": {},
   "outputs": [
    {
     "data": {
      "text/plain": [
       "1325"
      ]
     },
     "execution_count": 8,
     "metadata": {},
     "output_type": "execute_result"
    }
   ],
   "source": [
    "pair_able  = 0\n",
    "\n",
    "absolute_true = []\n",
    "mixed_true = []\n",
    "mixed_false = []\n",
    "absolute_false = []\n",
    "\n",
    "for ids, data in choosen_data.items():\n",
    "    if ids in rejected_data:\n",
    "        pair_able += 1\n",
    "        mixed_true.append(data)\n",
    "        for value in rejected_data[ids]:\n",
    "            mixed_false.append(value)\n",
    "    else:\n",
    "        absolute_true.append(data)\n",
    "\n",
    "pair_able\n",
    "\n"
   ]
  },
  {
   "cell_type": "code",
   "execution_count": 23,
   "metadata": {},
   "outputs": [
    {
     "data": {
      "text/plain": [
       "(1800, 1325, 1808)"
      ]
     },
     "execution_count": 23,
     "metadata": {},
     "output_type": "execute_result"
    }
   ],
   "source": [
    "len(absolute_true), len(mixed_true), len(mixed_false)"
   ]
  },
  {
   "cell_type": "code",
   "execution_count": 24,
   "metadata": {},
   "outputs": [],
   "source": [
    "import random\n",
    "\n",
    "ran_abs_true = random.sample(absolute_true, 800)\n",
    "ran_mixed_true = random.sample(mixed_true, 1000)\n",
    "ran_mixed_false = random.sample(mixed_false, 1800)"
   ]
  },
  {
   "cell_type": "code",
   "execution_count": 32,
   "metadata": {},
   "outputs": [],
   "source": [
    "kto_data = []"
   ]
  },
  {
   "cell_type": "code",
   "execution_count": 33,
   "metadata": {},
   "outputs": [],
   "source": [
    "for data in ran_abs_true:\n",
    "    ids = data['ids']\n",
    "    message = data['messages'].copy()[:3]\n",
    "    message[0]['content'] = get_random_sys_prompt().strip()\n",
    "\n",
    "    kto_data.append({\n",
    "        'label': True,\n",
    "        'messages': message\n",
    "    })\n",
    "\n",
    "for data in ran_mixed_true:\n",
    "    ids = data['ids']\n",
    "    message = data['messages'].copy()[:3]\n",
    "    message[0]['content'] = get_random_sys_prompt()\n",
    "\n",
    "    kto_data.append({\n",
    "        'label': True,\n",
    "        'messages': message\n",
    "    })\n",
    "\n",
    "for data in ran_mixed_false:\n",
    "    ids = data['ids']\n",
    "    message = data['messages'].copy()[:3]\n",
    "    message[0]['content'] = get_random_sys_prompt()\n",
    "\n",
    "    kto_data.append({\n",
    "        'label': False,\n",
    "        'messages': message\n",
    "    })"
   ]
  },
  {
   "cell_type": "code",
   "execution_count": 34,
   "metadata": {},
   "outputs": [
    {
     "data": {
      "text/plain": [
       "3600"
      ]
     },
     "execution_count": 34,
     "metadata": {},
     "output_type": "execute_result"
    }
   ],
   "source": [
    "len(kto_data)"
   ]
  },
  {
   "cell_type": "code",
   "execution_count": 35,
   "metadata": {},
   "outputs": [],
   "source": [
    "kto_data = random.sample(kto_data, len(kto_data))"
   ]
  },
  {
   "cell_type": "code",
   "execution_count": 36,
   "metadata": {},
   "outputs": [],
   "source": [
    "output_path = '../data/message_kto.json'\n",
    "with open(output_path, 'w') as f:\n",
    "    json.dump(kto_data, f, indent=4)"
   ]
  },
  {
   "cell_type": "markdown",
   "metadata": {},
   "source": [
    "## DPO"
   ]
  },
  {
   "cell_type": "code",
   "execution_count": 37,
   "metadata": {},
   "outputs": [],
   "source": [
    "import random\n",
    "\n",
    "dpo_data = []\n",
    "\n",
    "for ids, data in choosen_data.items():\n",
    "    question = data['question']\n",
    "    ids = data['ids']\n",
    "    message = data['messages'].copy()\n",
    "    message[0]['content'] = get_random_sys_prompt()\n",
    "    choosen = message[2]\n",
    "    message = message[:2]\n",
    "\n",
    "    if ids in rejected_data:\n",
    "        num_sample = random.randint(1, len(rejected_data[ids]))\n",
    "        for i in range(num_sample):\n",
    "\n",
    "            if 'messages' in rejected_data[ids][i]:\n",
    "                rejected = rejected_data[ids][i]['messages'][2]\n",
    "            else:\n",
    "                rejected = {\n",
    "                    'role': 'assistant',\n",
    "                    'content': rejected_data[ids][i]['reasoning']\n",
    "                }\n",
    "            if rejected['content'] == '':\n",
    "                continue\n",
    "\n",
    "            dpo_data.append({\n",
    "                'question': question,\n",
    "                'choosen' : choosen,\n",
    "                'messages': message,\n",
    "                'rejected': rejected,\n",
    "                'ids': ids\n",
    "            })"
   ]
  },
  {
   "cell_type": "code",
   "execution_count": 38,
   "metadata": {},
   "outputs": [
    {
     "data": {
      "text/plain": [
       "2064"
      ]
     },
     "execution_count": 38,
     "metadata": {},
     "output_type": "execute_result"
    }
   ],
   "source": [
    "len(dpo_data)"
   ]
  },
  {
   "cell_type": "code",
   "execution_count": 39,
   "metadata": {},
   "outputs": [],
   "source": [
    "with open('../data/dpo_data.json', 'w') as f:\n",
    "    json.dump(dpo_data, f, indent=4)"
   ]
  },
  {
   "cell_type": "code",
   "execution_count": 34,
   "metadata": {},
   "outputs": [
    {
     "data": {
      "text/plain": [
       "(6053209, 7394, 545, 18)"
      ]
     },
     "execution_count": 34,
     "metadata": {},
     "output_type": "execute_result"
    }
   ],
   "source": [
    "import tiktoken\n",
    "\n",
    "def count_tokens(text: str, model: str = \"gpt-4\") -> int:\n",
    "    # Select the tokenizer for the model\n",
    "    encoding = tiktoken.encoding_for_model(model)\n",
    "    tokens = encoding.encode(text)\n",
    "    return len(tokens)\n",
    "\n",
    "total_tokens = 0\n",
    "max_tokens = 0\n",
    "moreThan2000 = 0\n",
    "moreThan3000 = 0\n",
    "moreThan4000 = 0\n",
    "\n",
    "for data in sft_data:\n",
    "    local_tokens = 0\n",
    "    for msg in data['messages']:\n",
    "        local_tokens += count_tokens(msg['content'])\n",
    "\n",
    "    # accepted_tokens = count_tokens(data['choosen']['content'])\n",
    "    # reject_token = count_tokens(data['rejected']['content'])\n",
    "\n",
    "    # max_local_tokens = max(local_tokens + accepted_tokens, accepted_tokens + reject_token)\n",
    "    # max_tokens = max(max_tokens, max_local_tokens)\n",
    "\n",
    "    # total_tokens += local_tokens + accepted_tokens + reject_token\n",
    "    max_tokens = max(max_tokens, local_tokens)\n",
    "    max_local_tokens = local_tokens\n",
    "\n",
    "    total_tokens += local_tokens\n",
    "\n",
    "    if max_local_tokens > 2000:\n",
    "        moreThan2000 += 1\n",
    "    if max_local_tokens > 3000:\n",
    "        moreThan3000 += 1\n",
    "    if max_local_tokens > 6000:\n",
    "        moreThan4000 += 1\n",
    "\n",
    "total_tokens, max_tokens, moreThan3000, moreThan4000    "
   ]
  },
  {
   "cell_type": "code",
   "execution_count": 35,
   "metadata": {},
   "outputs": [],
   "source": [
    "output_path = '../data/message_sft.json'\n",
    "with open(output_path, 'w') as f:\n",
    "    json.dump(sft_data, f, indent=4)"
   ]
  },
  {
   "cell_type": "code",
   "execution_count": 33,
   "metadata": {},
   "outputs": [
    {
     "data": {
      "text/plain": [
       "1951"
      ]
     },
     "execution_count": 33,
     "metadata": {},
     "output_type": "execute_result"
    }
   ],
   "source": [
    "moreThan2000"
   ]
  },
  {
   "cell_type": "code",
   "execution_count": null,
   "metadata": {},
   "outputs": [],
   "source": []
  }
 ],
 "metadata": {
  "kernelspec": {
   "display_name": "base",
   "language": "python",
   "name": "python3"
  },
  "language_info": {
   "codemirror_mode": {
    "name": "ipython",
    "version": 3
   },
   "file_extension": ".py",
   "mimetype": "text/x-python",
   "name": "python",
   "nbconvert_exporter": "python",
   "pygments_lexer": "ipython3",
   "version": "3.12.7"
  }
 },
 "nbformat": 4,
 "nbformat_minor": 2
}
