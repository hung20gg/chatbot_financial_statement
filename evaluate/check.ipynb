{
 "cells": [
  {
   "cell_type": "code",
   "execution_count": 3,
   "metadata": {},
   "outputs": [],
   "source": [
    "import json\n",
    "import re"
   ]
  },
  {
   "cell_type": "code",
   "execution_count": 14,
   "metadata": {},
   "outputs": [
    {
     "data": {
      "text/plain": [
       "1765"
      ]
     },
     "execution_count": 14,
     "metadata": {},
     "output_type": "execute_result"
    }
   ],
   "source": [
    "questions = dict()\n",
    "cal_reasoning = 0\n",
    "with open('../data/gpt-4o-mini__v3.jsonl') as f:\n",
    "    for line in f:\n",
    "        data = json.loads(line)\n",
    "        ids = data['ids']\n",
    "        questions[ids] = data\n",
    "        if 'reasoning' in data:\n",
    "            cal_reasoning += 1\n",
    "cal_reasoning"
   ]
  },
  {
   "cell_type": "code",
   "execution_count": 15,
   "metadata": {},
   "outputs": [
    {
     "data": {
      "text/plain": [
       "1765"
      ]
     },
     "execution_count": 15,
     "metadata": {},
     "output_type": "execute_result"
    }
   ],
   "source": [
    "len(questions)"
   ]
  },
  {
   "cell_type": "code",
   "execution_count": 16,
   "metadata": {},
   "outputs": [],
   "source": [
    "with open('../data/meta-llama__Llama-3.3-70B-Instruct-Turbo-scored-gpt-4o-mini__v3.jsonl') as f:\n",
    "    for line in f:\n",
    "        data = json.loads(line)\n",
    "        ids = data['ids']\n",
    "        if 'score' not in questions[ids]:\n",
    "            questions[ids]['score'] = []\n",
    "        questions[ids]['score'].append(data['score'])\n",
    "\n",
    "with open('../data/gemini-1.5-flash-scored-gpt-4o-mini__v3.jsonl') as f:\n",
    "    for line in f:\n",
    "        data = json.loads(line)\n",
    "        ids = data['ids']\n",
    "        if 'score' not in questions[ids]:\n",
    "            questions[ids]['score'] = []\n",
    "        questions[ids]['score'].append(data['score'])\n",
    "\n",
    "with open('../data/gpt-4o-mini-scored-gpt-4o-mini__v3.jsonl') as f:\n",
    "    for line in f:\n",
    "        data = json.loads(line)\n",
    "        ids = data['ids']\n",
    "        if 'score' not in questions[ids]:\n",
    "            questions[ids]['score'] = []\n",
    "        questions[ids]['score'].append(data['score'])"
   ]
  },
  {
   "cell_type": "code",
   "execution_count": 17,
   "metadata": {},
   "outputs": [
    {
     "data": {
      "text/plain": [
       "0.9949008498583569"
      ]
     },
     "execution_count": 17,
     "metadata": {},
     "output_type": "execute_result"
    }
   ],
   "source": [
    "len_sql = 0\n",
    "for ids, data in questions.items():\n",
    "    if 'score' in data:\n",
    "        data['avg'] = sum(data['score']) / 3 # len(data['score'])\n",
    "    len_sql += len(data['sql'])\n",
    "len_sql /= len(questions)\n",
    "len_sql\n"
   ]
  },
  {
   "cell_type": "code",
   "execution_count": 18,
   "metadata": {},
   "outputs": [],
   "source": [
    "good_ids = set()\n",
    "for ids, data in questions.items():\n",
    "    if 'score' in data and data['avg'] == 1:\n",
    "        good_ids.add(ids)\n",
    "        if len(data['sql']) > 1:\n",
    "            print(ids, data)"
   ]
  },
  {
   "cell_type": "code",
   "execution_count": 19,
   "metadata": {},
   "outputs": [
    {
     "data": {
      "text/plain": [
       "879"
      ]
     },
     "execution_count": 19,
     "metadata": {},
     "output_type": "execute_result"
    }
   ],
   "source": [
    "len(good_ids)"
   ]
  },
  {
   "cell_type": "code",
   "execution_count": 20,
   "metadata": {},
   "outputs": [],
   "source": [
    "with open('../data/gpt-4o-mini__v3_good.jsonl', 'w') as f:\n",
    "    for ids, data in questions.items():\n",
    "        if ids in good_ids:\n",
    "            f.write(json.dumps(data) + '\\n')"
   ]
  },
  {
   "cell_type": "code",
   "execution_count": 13,
   "metadata": {},
   "outputs": [
    {
     "data": {
      "text/plain": [
       "(0, 0)"
      ]
     },
     "execution_count": 13,
     "metadata": {},
     "output_type": "execute_result"
    }
   ],
   "source": [
    "count_result_format = 0\n",
    "good_result_format = 0\n",
    "for ids, data in questions.items():\n",
    "    if 'result format' in data['reasoning'].lower():\n",
    "        count_result_format += 1\n",
    "        if '### Result Format' in data['reasoning']:\n",
    "            good_result_format += 1\n",
    "            print(ids, data['reasoning'])\n",
    "            break\n",
    "count_result_format, good_result_format"
   ]
  },
  {
   "cell_type": "code",
   "execution_count": 10,
   "metadata": {},
   "outputs": [
    {
     "name": "stdout",
     "output_type": "stream",
     "text": [
      "QUESTION ===========\n",
      "In Q2 2024, analyze the accounts receivable turnover and days sales outstanding (DSO) for FPT, Vingroup (VIC), and Masan Group (MSN). How do these metrics reflect their collection efficiency, and how might their subsidiaries/investments affect these figures?\n",
      "TABLES ===========\n",
      "**Company Info**\n",
      "\n",
      "| stock_code   | company_name                   | en_company_name              | industry               |\n",
      "|:-------------|:-------------------------------|:-----------------------------|:-----------------------|\n",
      "| FPT          | Công ty Cổ phần FPT            | FPT Corporation              | Information Technology |\n",
      "| MSN          | Công ty Cổ phần Tập đoàn Masan | Masan Group Corporation      | Food and Beverages     |\n",
      "| VIC          | Tập đoàn Vingroup - Công ty CP | VinGroup Joint Stock Company | Real Estate            |\n",
      "\n",
      "**category_code_ratio**\n",
      "\n",
      "| ratio_code   | ratio_name                 |\n",
      "|:-------------|:---------------------------|\n",
      "| RTSR         | Receivables To Sales Ratio |\n",
      "\n",
      "** SQL 1 Result: Accounts Receivable Turnover and Days Sales Outstanding (DSO) for FPT, VIC, and MSN in Q2 2024**\n",
      "\n",
      "| stock_code   |   year |   quarter | ratio_code   |     data |\n",
      "|:-------------|-------:|----------:|:-------------|---------:|\n",
      "| FPT          |   2024 |         2 | RTSR         | 0.676228 |\n",
      "| MSN          |   2024 |         2 | RTSR         | 0.105802 |\n",
      "| VIC          |   2024 |         2 | RTSR         | 0.556141 |\n",
      "\n",
      "** SQL 2 Result: Subsidiaries and Investments of FPT, VIC, and MSN**\n",
      "\n",
      "| stock_code   | invest_on   |\n",
      "|:-------------|:------------|\n",
      "| VIC          | VHM         |\n",
      "| FPT          | FRT         |\n",
      "| FPT          | FOX         |\n",
      "| VIC          | VRE         |\n",
      "| MSN          | TCB         |\n",
      "| FPT          | TPB         |\n",
      "\n",
      "\n",
      "ANSWERS ===========\n",
      "### Step-by-step Analysis:\n",
      "\n",
      "1. **Identify the Metrics:**\n",
      "   - **Accounts Receivable Turnover**: This is typically calculated as Net Revenue / Average Accounts Receivable. However, since we are instructed to use pre-calculated ratios, we will look for a ratio that represents this metric.\n",
      "   - **Days Sales Outstanding (DSO)**: This is calculated as (Accounts Receivable / Net Revenue) * Number of Days. Again, we will look for a pre-calculated ratio.\n",
      "\n",
      "2. **Identify the Companies:**\n",
      "   - The companies of interest are FPT, Vingroup (VIC), and Masan Group (MSN).\n",
      "\n",
      "3. **Time Frame:**\n",
      "   - The query is specifically for Q2 2024.\n",
      "\n",
      "4. **Subsidiaries/Investments:**\n",
      "   - The subsidiaries or investments of these companies might affect their accounts receivable and DSO. However, the query does not require us to directly analyze the subsidiaries' financials, but rather to consider their influence.\n",
      "\n",
      "5. **Mapping the Metrics:**\n",
      "   - From the `map_category_code_ratio` table, we need to identify the ratio codes that correspond to Accounts Receivable Turnover and DSO. However, the provided mapping table does not explicitly list these ratios. Therefore, we will assume that the relevant ratios are available in the `financial_ratio` table.\n",
      "\n",
      "### SQL Query:\n",
      "\n",
      "```sql\n",
      "-- ### Accounts Receivable Turnover and Days Sales Outstanding (DSO) for FPT, VIC, and MSN in Q2 2024\n",
      "\n",
      "SELECT \n",
      "    fr.stock_code,\n",
      "    fr.year,\n",
      "    fr.quarter,\n",
      "    fr.ratio_code,\n",
      "    fr.data\n",
      "FROM \n",
      "    financial_ratio fr\n",
      "WHERE \n",
      "    fr.stock_code IN ('FPT', 'VIC', 'MSN')\n",
      "    AND fr.year = 2024\n",
      "    AND fr.quarter = 2\n",
      "    AND fr.ratio_code IN ('RTSR', 'ARTR') -- Assuming 'RTSR' is Receivables To Sales Ratio and 'ARTR' is Accounts Receivable Turnover Ratio\n",
      "ORDER BY \n",
      "    fr.stock_code, fr.year, fr.quarter;\n",
      "\n",
      "-- ### Subsidiaries and Investments of FPT, VIC, and MSN\n",
      "\n",
      "SELECT \n",
      "    sas.stock_code,\n",
      "    sas.invest_on\n",
      "FROM \n",
      "    sub_and_shareholder sas\n",
      "WHERE \n",
      "    sas.stock_code IN ('FPT', 'VIC', 'MSN');\n",
      "```\n",
      "\n",
      "### Explanation:\n",
      "\n",
      "1. **Accounts Receivable Turnover and DSO:**\n",
      "   - The first query retrieves the relevant financial ratios for the specified companies in Q2 2024. We assume that `RTSR` (Receivables To Sales Ratio) and `ARTR` (Accounts Receivable Turnover Ratio) are the relevant ratios. If these assumptions are incorrect, the actual ratio codes should be used.\n",
      "\n",
      "2. **Subsidiaries and Investments:**\n",
      "   - The second query retrieves the subsidiaries or investments of FPT, VIC, and MSN. This information can be used to understand how these subsidiaries might influence the accounts receivable and DSO metrics.\n",
      "\n",
      "### Result Format:\n",
      "\n",
      "The result will be in the following format:\n",
      "\n",
      "| stock_code | year | quarter | ratio_code | data |\n",
      "|:-----------|:-----|:--------|:-----------|:-----|\n",
      "| FPT        | 2024 | 2       | RTSR       | 0.15 |\n",
      "| VIC        | 2024 | 2       | ARTR       | 5.2  |\n",
      "| MSN        | 2024 | 2       | RTSR       | 0.12 |\n",
      "\n",
      "This format provides a clear view of the financial metrics for each company in Q2 2024, along with their subsidiaries or investments.\n",
      "AVG ===========\n",
      "0.0\n"
     ]
    }
   ],
   "source": [
    "for ids, data in questions.items():\n",
    "  if ids == '74710a9c-1b03-4821-b306-61057c8200cf':\n",
    "    print('QUESTION ===========')\n",
    "    print(data['question'])  \n",
    "    print('TABLES ===========')\n",
    "    print(data['table'])\n",
    "    print('ANSWERS ===========')\n",
    "    print(data['reasoning'])\n",
    "    print('AVG ===========')\n",
    "    print(data['avg'])\n",
    "    break"
   ]
  },
  {
   "cell_type": "code",
   "execution_count": 1,
   "metadata": {},
   "outputs": [],
   "source": [
    "import random\n",
    "import json"
   ]
  },
  {
   "cell_type": "code",
   "execution_count": 2,
   "metadata": {},
   "outputs": [
    {
     "data": {
      "text/plain": [
       "1"
      ]
     },
     "execution_count": 2,
     "metadata": {},
     "output_type": "execute_result"
    }
   ],
   "source": [
    "random.randint(0, 1)"
   ]
  },
  {
   "cell_type": "code",
   "execution_count": 4,
   "metadata": {},
   "outputs": [
    {
     "data": {
      "text/plain": [
       "(1900722, 24, 670171, 1120212, 110339)"
      ]
     },
     "execution_count": 4,
     "metadata": {},
     "output_type": "execute_result"
    }
   ],
   "source": [
    "import tiktoken\n",
    "\n",
    "def count_tokens(text: str, model: str = \"gpt-4\") -> int:\n",
    "    # Select the tokenizer for the model\n",
    "    encoding = tiktoken.encoding_for_model(model)\n",
    "    tokens = encoding.encode(text)\n",
    "    return len(tokens)\n",
    "\n",
    "err = 0\n",
    "total_tokens = 0\n",
    "num = 1\n",
    "s = 0\n",
    "u = 0\n",
    "a = 0\n",
    "with open('../data/message_gpt-4o-mini__v4_good.jsonl') as f:\n",
    "    for line in f:\n",
    "        try:\n",
    "            data = json.loads(line)\n",
    "\n",
    "            with open('../data/message_gpt-4o-mini__v4_good_good.jsonl', 'a') as f:\n",
    "                json.dump(data, f)\n",
    "                f.write('\\n')\n",
    "\n",
    "            for message in data:\n",
    "                text = message['content']\n",
    "                total_tokens += count_tokens(text)\n",
    "                if message['role'] == 'system':\n",
    "                    s += count_tokens(text)\n",
    "                elif message['role'] == 'user':\n",
    "                    u += count_tokens(text)\n",
    "                else:\n",
    "                    a += count_tokens(text)\n",
    "        except Exception as e:\n",
    "            err += 1\n",
    "        num += 1\n",
    "total_tokens, err, u, s, a"
   ]
  },
  {
   "cell_type": "code",
   "execution_count": 6,
   "metadata": {},
   "outputs": [],
   "source": [
    "with open('../data/message_gpt-4o-mini__v3_good.jsonl') as f:\n",
    "    for line in f:\n",
    "        try:\n",
    "            data = json.loads(line)\n",
    "            new_data = []\n",
    "            for message in data:\n",
    "                role = message['role']\n",
    "                content = message['content'].strip()\n",
    "                new_data.append({'role': role, 'content': content})\n",
    "            with open('../data/message_gpt-4o-mini__v3_good_good.jsonl', 'a') as f:\n",
    "                json.dump(new_data, f)\n",
    "                f.write('\\n')\n",
    "                \n",
    "\n",
    "        except Exception as e:\n",
    "            print(e)"
   ]
  },
  {
   "cell_type": "markdown",
   "metadata": {},
   "source": [
    "## Grade Cell"
   ]
  },
  {
   "cell_type": "code",
   "execution_count": 16,
   "metadata": {},
   "outputs": [
    {
     "data": {
      "text/plain": [
       "(423, 110, 274, 0.6539379474940334, 0.6477541371158393)"
      ]
     },
     "execution_count": 16,
     "metadata": {},
     "output_type": "execute_result"
    }
   ],
   "source": [
    "import json\n",
    "\n",
    "evaluate_path = '../data/gpt-4o-mini-evaluate-gpt-4o-mini__sql_v0.jsonl'\n",
    "mcq_path = '../data/mcq_v0.jsonl'\n",
    "\n",
    "evaluate = dict()\n",
    "cant_ansewer = 0\n",
    "score = 0\n",
    "\n",
    "total_questions = 0\n",
    "with open(mcq_path) as f:\n",
    "    for line in f:\n",
    "        data = json.loads(line)\n",
    "        total_questions += 1\n",
    "\n",
    "\n",
    "with open(evaluate_path) as f:\n",
    "    for line in f:\n",
    "        data = json.loads(line)\n",
    "        evaluate[data['ids']] = data\n",
    "        if 'score' in data:\n",
    "            score += data['score']\n",
    "        if 'cant_answer' in data and data['cant_answer']:\n",
    "            cant_ansewer += 1\n",
    "\n",
    "total_questions, cant_ansewer, score, score/len(evaluate), score/total_questions"
   ]
  },
  {
   "cell_type": "code",
   "execution_count": 15,
   "metadata": {},
   "outputs": [],
   "source": [
    "sql_path = '../data/deepseek-chat__v0_good.jsonl'\n",
    "new_sql_path = '../data/sql_v0.jsonl'\n",
    "\n",
    "with open(sql_path) as f:\n",
    "    for line in f:\n",
    "        data = json.loads(line)\n",
    "        ids = data['ids']\n",
    "        if evaluate.get(ids, dict()).get('score', 0) == 1:\n",
    "            with open(new_sql_path, 'a') as f:\n",
    "                json.dump(data, f)\n",
    "                f.write('\\n')"
   ]
  },
  {
   "cell_type": "code",
   "execution_count": 14,
   "metadata": {},
   "outputs": [],
   "source": [
    "new_mcq_path = '../data/mcq_v0.jsonl'\n",
    "with open(mcq_path) as f:\n",
    "    for line in f:\n",
    "        data = json.loads(line)\n",
    "        ids = data['ids']\n",
    "        if evaluate.get(ids, dict()).get('score', 0) == 1:\n",
    "            with open(new_mcq_path, 'a') as f:\n",
    "                json.dump(data, f)\n",
    "                f.write('\\n')\n"
   ]
  },
  {
   "cell_type": "code",
   "execution_count": 2,
   "metadata": {},
   "outputs": [],
   "source": [
    "def is_npl(question: dict):\n",
    "    if 'non-per' in question['question'].lower() and 'bdr' not in question['reasoning'].lower():\n",
    "        return True\n",
    "    return False"
   ]
  },
  {
   "cell_type": "code",
   "execution_count": 7,
   "metadata": {},
   "outputs": [],
   "source": [
    "file_path = '../data/gpt-4o-mini__v3.jsonl'\n",
    "new_file_path = '../data/gpt-4o-mini__v3_2.jsonl'"
   ]
  },
  {
   "cell_type": "code",
   "execution_count": 8,
   "metadata": {},
   "outputs": [],
   "source": [
    "with open(file_path) as f:\n",
    "    for line in f:\n",
    "        data = json.loads(line)\n",
    "        if not is_npl(data):\n",
    "            with open(new_file_path, 'a') as f:\n",
    "                json.dump(data, f)\n",
    "                f.write('\\n')"
   ]
  },
  {
   "cell_type": "code",
   "execution_count": null,
   "metadata": {},
   "outputs": [],
   "source": []
  }
 ],
 "metadata": {
  "kernelspec": {
   "display_name": "base",
   "language": "python",
   "name": "python3"
  },
  "language_info": {
   "codemirror_mode": {
    "name": "ipython",
    "version": 3
   },
   "file_extension": ".py",
   "mimetype": "text/x-python",
   "name": "python",
   "nbconvert_exporter": "python",
   "pygments_lexer": "ipython3",
   "version": "3.12.7"
  }
 },
 "nbformat": 4,
 "nbformat_minor": 2
}
