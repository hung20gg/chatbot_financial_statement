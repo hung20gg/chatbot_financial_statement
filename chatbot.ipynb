{
 "cells": [
  {
   "cell_type": "code",
   "execution_count": null,
   "metadata": {},
   "outputs": [],
   "source": [
    "from agent import Chatbot, Text2SQL\n",
    "from agent.const import (\n",
    "    ChatConfig,\n",
    "    Text2SQLConfig,\n",
    "    GEMINI_FAST_CONFIG,\n",
    "    GPT4O_MINI_CONFIG,\n",
    "    GPT4O_CONFIG,\n",
    "    TEXT2SQL_FASTEST_CONFIG,\n",
    "    TEXT2SQL_FAST_OPENAI_CONFIG,\n",
    "    TEXT2SQL_DEEPSEEK_V3_CONFIG,\n",
    "    TEXT2SQL_DEEPSEEK_V3_FAST_CONFIG\n",
    ")\n",
    "\n",
    "from agent.prompt.prompt_controller import (\n",
    "    PromptConfig, \n",
    "    VERTICAL_PROMPT_BASE, \n",
    "    VERTICAL_PROMPT_UNIVERSAL,\n",
    "    HORIZONTAL_PROMPT_BASE,\n",
    "    HORIZONTAL_PROMPT_UNIVERSAL,\n",
    "    FIIN_VERTICAL_PROMPT_UNIVERSAL,\n",
    ")\n",
    "\n",
    "from ETL.dbmanager.setup import (\n",
    "    DBConfig,\n",
    "    BGE_VERTICAL_BASE_CONFIG,\n",
    "    BGE_VERTICAL_UNIVERSAL_CONFIG,\n",
    "    BGE_HORIZONTAL_BASE_CONFIG,\n",
    "    TEI_VERTICAL_UNIVERSAL_CONFIG,\n",
    "    OPENAI_VERTICAL_UNIVERSAL_CONFIG,\n",
    "    setup_db\n",
    ")"
   ]
  },
  {
   "cell_type": "code",
   "execution_count": null,
   "metadata": {},
   "outputs": [],
   "source": [
    "from langchain_huggingface import HuggingFaceEmbeddings\n",
    "import os\n",
    "\n",
    "import logging\n",
    "logging.basicConfig(\n",
    "    level=logging.INFO,\n",
    "    format='%(asctime)s - %(levelname)s - %(message)s'\n",
    ")\n",
    "\n",
    "from ETL.connector import check_embedding_server\n",
    "from ETL.dbmanager import get_semantic_layer, BaseRerannk"
   ]
  },
  {
   "cell_type": "code",
   "execution_count": null,
   "metadata": {},
   "outputs": [],
   "source": [
    "chat_config = ChatConfig(**GPT4O_MINI_CONFIG)\n",
    "text2sql_config = Text2SQLConfig(**TEXT2SQL_DEEPSEEK_V3_FAST_CONFIG)\n",
    "prompt_config = PromptConfig(**FIIN_VERTICAL_PROMPT_UNIVERSAL)\n",
    "\n",
    "embedding_server = os.getenv('EMBEDDING_SERVER_URL')\n",
    "\n",
    "if check_embedding_server(embedding_server):\n",
    "    logging.info('Using remote embedding server')\n",
    "    db_config = DBConfig(**TEI_VERTICAL_UNIVERSAL_CONFIG)\n",
    "elif os.path.exists('data/vector_db_vertical_openai'):\n",
    "    logging.info('Using openai embedding')\n",
    "    db_config = DBConfig(**OPENAI_VERTICAL_UNIVERSAL_CONFIG)\n",
    "\n",
    "elif os.getenv('LOCAL_EMBEDDING'):\n",
    "    import torch\n",
    "\n",
    "    db_config = DBConfig(**BGE_VERTICAL_UNIVERSAL_CONFIG)\n",
    "    device = torch.device('cuda' if torch.cuda.is_available() else 'cpu')    \n",
    "    embedding_model = HuggingFaceEmbeddings(model_name='BAAI/bge-base-en-v1.5', model_kwargs = {'device': device})\n",
    "    db_config.embedding = embedding_model\n",
    "\n",
    "else:\n",
    "    raise ValueError('No Embedding Method Found')\n",
    "\n",
    "\n",
    "logging.info('Finish setup embedding')\n",
    "\n",
    "reranker = BaseRerannk(name=os.getenv('RERANKER_SERVER_URL'))\n",
    "\n",
    "logging.info(f'Finish setup reranker, using reranker {reranker.reranker_type}')\n"
   ]
  }
 ],
 "metadata": {
  "kernelspec": {
   "display_name": "text2sql",
   "language": "python",
   "name": "python3"
  },
  "language_info": {
   "name": "python",
   "version": "3.12.8"
  }
 },
 "nbformat": 4,
 "nbformat_minor": 2
}
