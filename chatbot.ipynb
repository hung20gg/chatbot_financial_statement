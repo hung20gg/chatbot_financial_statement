{
 "cells": [
  {
   "cell_type": "code",
   "execution_count": 1,
   "metadata": {},
   "outputs": [
    {
     "name": "stderr",
     "output_type": "stream",
     "text": [
      "/opt/miniconda3/envs/text2sql/lib/python3.12/site-packages/tqdm/auto.py:21: TqdmWarning: IProgress not found. Please update jupyter and ipywidgets. See https://ipywidgets.readthedocs.io/en/stable/user_install.html\n",
      "  from .autonotebook import tqdm as notebook_tqdm\n",
      "2025-01-26 21:06:00,404 - INFO - PyTorch version 2.5.1 available.\n"
     ]
    }
   ],
   "source": [
    "from agent.const import (\n",
    "    ChatConfig,\n",
    "    Text2SQLConfig,\n",
    "    GEMINI_FAST_CONFIG,\n",
    "    GPT4O_MINI_CONFIG,\n",
    "    GPT4O_CONFIG,\n",
    "    TEXT2SQL_FASTEST_CONFIG,\n",
    "    TEXT2SQL_FAST_OPENAI_CONFIG,\n",
    "    TEXT2SQL_DEEPSEEK_V3_CONFIG,\n",
    "    TEXT2SQL_DEEPSEEK_V3_FAST_CONFIG\n",
    ")\n",
    "\n",
    "from agent.prompt.prompt_controller import (\n",
    "    PromptConfig, \n",
    "    VERTICAL_PROMPT_BASE, \n",
    "    VERTICAL_PROMPT_UNIVERSAL,\n",
    "    HORIZONTAL_PROMPT_BASE,\n",
    "    HORIZONTAL_PROMPT_UNIVERSAL,\n",
    "    FIIN_VERTICAL_PROMPT_UNIVERSAL,\n",
    ")\n",
    "\n",
    "from initialize import initialize_text2sql\n"
   ]
  },
  {
   "cell_type": "code",
   "execution_count": 2,
   "metadata": {},
   "outputs": [],
   "source": [
    "import os\n",
    "\n",
    "import logging\n",
    "logging.basicConfig(\n",
    "    level=logging.INFO,\n",
    "    format='%(asctime)s - %(levelname)s - %(message)s'\n",
    ")\n"
   ]
  },
  {
   "cell_type": "code",
   "execution_count": 3,
   "metadata": {},
   "outputs": [],
   "source": [
    "text2sql_config = TEXT2SQL_DEEPSEEK_V3_CONFIG\n",
    "prompt_config = VERTICAL_PROMPT_UNIVERSAL"
   ]
  },
  {
   "cell_type": "code",
   "execution_count": 4,
   "metadata": {},
   "outputs": [
    {
     "name": "stderr",
     "output_type": "stream",
     "text": [
      "2025-01-26 21:06:02,105 - INFO - Checking embedding server at http://localhost:8080/embed\n",
      "2025-01-26 21:06:02,188 - INFO - Response embedding server: <Response [200]>\n",
      "2025-01-26 21:06:02,188 - INFO - Using remote embedding server\n",
      "2025-01-26 21:06:02,188 - INFO - Finish setup embedding\n",
      "2025-01-26 21:06:02,189 - INFO - Checking embedding server at http://localhost:8081\n",
      "2025-01-26 21:06:02,442 - INFO - Response embedding server: <Response [200]>\n",
      "2025-01-26 21:06:02,444 - INFO - Found reranking server at: http://localhost:8081\n",
      "2025-01-26 21:06:02,445 - INFO - Finish setup reranker, using reranker api\n",
      "2025-01-26 21:06:02,462 - INFO - Anonymized telemetry enabled. See                     https://docs.trychroma.com/telemetry for more information.\n",
      "2025-01-26 21:06:02,552 - INFO - Finish setup db\n",
      "2025-01-26 21:06:02,614 - INFO - Finish setup text2sql\n"
     ]
    },
    {
     "name": "stdout",
     "output_type": "stream",
     "text": [
      "postgres\n",
      "Using OpenAI Wrapper with host https://api.deepseek.com\n",
      "Using OpenAI Wrapper with host https://api.deepseek.com\n"
     ]
    }
   ],
   "source": [
    "text2sql = initialize_text2sql(text2sql_config, prompt_config)"
   ]
  },
  {
   "cell_type": "code",
   "execution_count": 13,
   "metadata": {},
   "outputs": [],
   "source": [
    "question = \"For the year 2022, what was the Return on Equity (ROE) for Vietcombank (VCB) and Techcombank (TCB)?\"\n"
   ]
  },
  {
   "cell_type": "code",
   "execution_count": 14,
   "metadata": {},
   "outputs": [
    {
     "name": "stderr",
     "output_type": "stream",
     "text": [
      "2025-01-26 21:11:41,713 - INFO - Get stock code based on company name response\n",
      "2025-01-26 21:11:42,094 - INFO - HTTP Request: POST https://api.deepseek.com/chat/completions \"HTTP/1.1 200 OK\"\n",
      "2025-01-26 21:11:44,835 - INFO - Completion time of deepseek-chat: 3.121119976043701s\n"
     ]
    },
    {
     "name": "stdout",
     "output_type": "stream",
     "text": [
      "CompletionUsage(completion_tokens=49, prompt_tokens=179, total_tokens=228, completion_tokens_details=None, prompt_tokens_details=PromptTokensDetails(audio_tokens=None, cached_tokens=64), prompt_cache_hit_tokens=64, prompt_cache_miss_tokens=115)\n"
     ]
    },
    {
     "name": "stderr",
     "output_type": "stream",
     "text": [
      "2025-01-26 21:11:45,642 - INFO - Time taken to find stock code similarity: 0.8059403896331787\n",
      "2025-01-26 21:11:45,643 - INFO - Connecting to database postgres, postgres...\n",
      "2025-01-26 21:11:46,474 - INFO - Connecting to database postgres, postgres...\n",
      "2025-01-26 21:11:46,487 - INFO - Time taken to return mapping table: 0.8181347846984863\n"
     ]
    },
    {
     "name": "stdout",
     "output_type": "stream",
     "text": [
      "['ROLTOA', 'ROE', 'ROI', 'ROIC']\n",
      "['ROLTOA', 'ROE', 'ROI', 'ROIC']\n",
      "[]\n"
     ]
    },
    {
     "name": "stderr",
     "output_type": "stream",
     "text": [
      "2025-01-26 21:11:47,626 - INFO - HTTP Request: POST https://api.deepseek.com/chat/completions \"HTTP/1.1 200 OK\"\n",
      "2025-01-26 21:12:00,289 - INFO - Completion time of deepseek-chat: 13.014074802398682s\n",
      "2025-01-26 21:12:00,291 - INFO - Connecting to database postgres, postgres...\n",
      "2025-01-26 21:12:00,336 - INFO - Time taken: 18.622678995132446s\n"
     ]
    },
    {
     "name": "stdout",
     "output_type": "stream",
     "text": [
      "CompletionUsage(completion_tokens=495, prompt_tokens=2860, total_tokens=3355, completion_tokens_details=None, prompt_tokens_details=PromptTokensDetails(audio_tokens=None, cached_tokens=2176), prompt_cache_hit_tokens=2176, prompt_cache_miss_tokens=684)\n",
      "stock_code\n",
      "company_name\n",
      "en_company_name\n",
      "industry\n",
      "is_bank\n",
      "is_securities\n",
      "ratio_code\n",
      "ratio_name\n"
     ]
    }
   ],
   "source": [
    "his, err, table = text2sql.solve(question)"
   ]
  },
  {
   "cell_type": "code",
   "execution_count": 15,
   "metadata": {},
   "outputs": [
    {
     "name": "stdout",
     "output_type": "stream",
     "text": [
      "Table(desc = Company Info)\n",
      "  stock_code                                       company_name  \\\n",
      "0        VCB  Ngân hàng Thương mại Cổ phần Ngoại thương Việt...   \n",
      "1        TCB    Ngân hàng Thương mại Cổ phần Kỹ thương Việt Nam   \n",
      "\n",
      "                                     en_company_name industry  \n",
      "0  Joint Stock Commercial Bank For Foreign Trade ...  Banking  \n",
      "1  Vietnam Technological And Commercial Joint Sto...  Banking  \n",
      "Table(desc = category_code_ratio)\n",
      "  ratio_code        ratio_name\n",
      "2        ROE  Return On Equity\n",
      "Table(desc =  SQL 1 Result: ROE for Vietcombank (VCB) and Techcombank (TCB) in 2022 (Annual Report))\n",
      "  stock_code  year  quarter category_code      data\n",
      "0        TCB  2022        0           ROE  0.180176\n",
      "1        VCB  2022        0           ROE  0.220567\n"
     ]
    }
   ],
   "source": [
    "for tab in table:\n",
    "    print(tab)\n",
    "    print(tab.table)"
   ]
  },
  {
   "cell_type": "code",
   "execution_count": 17,
   "metadata": {},
   "outputs": [
    {
     "name": "stdout",
     "output_type": "stream",
     "text": [
      "Role: system\n",
      "=============================\n",
      "\n",
      "    You are an expert in financial statement and database management. You will be asked to convert a natural language query into a SQL query. If time not mentioned, assume collecting data in Q3 2024.\n",
      "    You will have the following database description:\n",
      "\n",
      "    ### Database Description\n",
      "\n",
      "    You're given database about the financial statments of top Vietnamese companies, either bank, cooperates and securities.\n",
      "\n",
      "<overall_description>\n",
      "\n",
      "All the data in the financial statments are followed by the regulation of Vietnamese Accounting Standard (VAS). The English translation of the \n",
      "categories are followed by the International Financial Reporting Standards (IFRS).\n",
      "\n",
      "There are 3 type of financial statments, based on VAS regulation: bank, non-bank corporation and securities firm (firms that provide stock options and financial instruments).\n",
      "All 3 type of reports are stored in one single table, and there will be a sight different between them.\n",
      "\n",
      "The database includes two reporting periods for financial statements: quarterly and annually. Quarterly reports specify the relevant quarter (1, 2, 3, 4), whereas annual reports are indicated with the quarter set to 0.\n",
      "\n",
      "</overall_description>\n",
      "\n",
      "You are given 6 tables in the database. Here are the detailed descriptions of them in PostgreSQL format:\n",
      "\n",
      "### PostgreSQL tables, with their properties\n",
      "```sql \n",
      "-- Table: company_info\n",
      "CREATE TABLE company_info(\n",
      "    stock_code VARCHAR(255) primary key, --The trading symbol.\n",
      "    industry VARCHAR(255), --Current industry of company. \n",
      "    exchange VARCHAR(255), -- The market where the stock is listed (e.g., HOSE, HNX)\n",
      "    stock_indices VARCHAR(255), -- The stock index it belongs to (e.g., VN30, HNX30)\n",
      "    is_bank BOOLEAN, --Bool checking whether the company is a bank or not.\n",
      "    is_securities BOOLEAN, --Bool checking whether the company is a securities firm or not.\n",
      "    issue_share int --Number of share issued.\n",
      ");\n",
      "\n",
      "-- Table: sub_and_shareholder\n",
      "CREATE TABLE sub_and_shareholder(\n",
      "    stock_code VARCHAR(255) NOT NULL, \n",
      "    invest_on VARCHAR(255) NOT NULL, -- The company invested on (can be subsidiary)\n",
      "    FOREIGN KEY (stock_code) REFERENCES company_info(stock_code),\n",
      "    FOREIGN KEY (invest_on) REFERENCES company_info(stock_code),\n",
      "    PRIMARY KEY (stock_code, invest_on) \n",
      ");\n",
      "\n",
      "-- Table: map_category_code_universal: Mapping account table for Financial Statement\n",
      "CREATE TABLE map_category_code_universal(\n",
      "    category_code VARCHAR(255) primary key, --The unique code for accounts recorded in the financial statements.\n",
      "    en_caption VARCHAR(255), --The Accounts (Caption) for the `category_code`.\n",
      ");\n",
      "\n",
      "-- Table: financial_statement: Financial Statement data for each `stock_code`\n",
      "CREATE TABLE financial_statement(\n",
      "    stock_code VARCHAR(255) references company_info(stock_code),\n",
      "    year int, -- The reported financial year\n",
      "    quarter int, --  The quarter reported (contain value either 0, 1, 2, 3, 4). If the value is 0, that mean the report is for annual report.\n",
      "    category_code VARCHAR(255) references map_category_code_universal(category_code),\n",
      "    data float, -- The value of the recorded category (in Million VND)\n",
      "    date_added timestamp -- The datetime when the data was published\n",
      ");\n",
      "\n",
      "-- Table map_category_code_ratio: Mapping ratio name for Financial Ratio\n",
      "CREATE TABLE map_category_code_ratio(\n",
      "    ratio_code VARCHAR(255) primary key,\n",
      "    ratio_name VARCHAR(255)\n",
      ");\n",
      "\n",
      "-- Table financial_ratio: This table will have pre-calculated common Financial Ratio such as ROA, ROE, FCF, etc\n",
      "-- Same structure as `financial_statement`\n",
      "CREATE TABLE financial_ratio(\n",
      "    ratio_code VARCHAR(255) references map_category_code_ratio(ratio_code),\n",
      "    stock_code VARCHAR(255) references company_info(stock_code),\n",
      "    year int,\n",
      "    quarter int,\n",
      "    data float,\n",
      "    date_added timestamp -- The datetime when the data was published\n",
      ")\n",
      "\n",
      "```\n",
      "\n",
      "Note: \n",
      "- Each value in `category_code` includes a prefix indicating the report it pertains to: *BS* is Balance sheet, *IS* is for Income statement and *CF* is Cash flow.\n",
      "- The numerical part of `category_code` is based on the account code from VA standard. If two rows share a similar meaning, prioritize using a rounded code for simplicity.\n",
      "- Some accounts (`en_caption`) are specific to neither corporation, banks or securities firms, resulting in variations in the number of accounts across companies. Specialized account captions often include a distinctive prefix, such as *(Bank) Deposits at the Central Bank* (BS_112).\n",
      "\n",
      "### Peek view of the schema\n",
      " - `company_info`\n",
      "\n",
      "|stock_code|industry|issue_share|is_bank|is_securities|exchange|stock_indices\n",
      "|:----|:----|:----|:----|:----|:----|:----|\n",
      "|VIC|Real Estate|3823700000|false|false|HOSE|VN30|\n",
      "\n",
      "- `sub_and_shareholder`\n",
      "\n",
      "|stock_code|invest_on|\n",
      "|:---|:---|\n",
      "|MSN|TCB|\n",
      "\n",
      "Explain:\n",
      "This mean MSN is a shareholder of TCB. \n",
      "\n",
      "- `financial_statement`\n",
      "\n",
      "|stock_code|year|quarter|category_code|data|date_added|\n",
      "|:----|:----|:----|:----|:----|:----|\n",
      "|VCB|2023|  0 | BS_300 | 1839613.198 | 2023-12-30 |\n",
      "|LPB|2024|  2 | CF_045 | 68522.835| 2024-06-30 |\n",
      "|BID|2024|  1 | IS_014 | 5392.606 | 2024-03-30 |\n",
      "\n",
      "- `map_category_code_universal`\n",
      "\n",
      "|category_code|universal_caption|\n",
      "|:----|:----|\n",
      "|BS_100| (Balance sheet) A. CURRENT ASSETS |\n",
      "\n",
      "### Note\n",
      "- You can access the database by using\n",
      "```sql\n",
      "SELECT * FROM financial_statement\n",
      "\n",
      "LIMIT 100;\n",
      "```\n",
      "- For any financial ratio, it must be selected from the database rather than being calculated manually.\n",
      "- When selecting data from the financial data tables, always include a `quarter` condition.\n",
      "- If not specified, assume the data pertains to annual reports, with the query defaulting to `quarter` = 0.\n",
      "- When selecting data by quarter, ensure the `quarter` is not 0, and when selecting data by year, the `quarter` must be 0.\n",
      "- Do not directly compare data between quarterly and annual financial reports.\n",
      "- Always include a LIMIT clause in your query.\n",
      "    \n",
      "    \n",
      "=============================\n",
      "Role: user\n",
      "=============================\n",
      "Here is a natural language query that you need to convert into a SQL query:\n",
      "\n",
      "<task>\n",
      "For the year 2023, what was the Return on Equity (ROE) for Vietcombank (VCB) and Techcombank (TCB)?\n",
      "</task>\n",
      "\n",
      "### Company details\n",
      "\n",
      "<data>\n",
      "\n",
      "**Company Info**\n",
      "\n",
      "| stock_code   | company_name                                       | en_company_name                                          | industry   | is_bank   | is_securities   |\n",
      "|:-------------|:---------------------------------------------------|:---------------------------------------------------------|:-----------|:----------|:----------------|\n",
      "| VCB          | Ngân hàng Thương mại Cổ phần Ngoại thương Việt Nam | Joint Stock Commercial Bank For Foreign Trade Of Vietnam | Banking    | True      | False           |\n",
      "| TCB          | Ngân hàng Thương mại Cổ phần Kỹ thương Việt Nam    | Vietnam Technological And Commercial Joint Stock Bank    | Banking    | True      | False           |\n",
      "\n",
      "\n",
      "\n",
      "</data>\n",
      "\n",
      "### Snapshot of the mapping table:\n",
      "<data>\n",
      "\n",
      "**category_code_ratio**\n",
      "\n",
      "| ratio_code   | ratio_name                           |\n",
      "|:-------------|:-------------------------------------|\n",
      "| ROI          | Return On Investment                 |\n",
      "| ROLTOA       | Return On Long Term Operating Assets |\n",
      "| ROE          | Return On Equity                     |\n",
      "| ROIC         | Return on Invested Capital           |\n",
      "\n",
      "\n",
      "\n",
      "</data>\n",
      "\n",
      "### Here is an example of a query that you can refer to:\n",
      "\n",
      "<example>\n",
      "\n",
      "**What is the Return on Equity (ROE) for all Banking companies in Q1 2024?** \n",
      "\n",
      "```sql\n",
      "\n",
      "-- 8. What is the Return on Equity (ROE) for all Banking companies in Q1 2024?\n",
      "\n",
      "SELECT\n",
      "    stock_code,\n",
      "    year,\n",
      "    quarter,\n",
      "    ratio_code,\n",
      "    data \n",
      "FROM financial_ratio\n",
      "WHERE ratio_code = 'ROE'\n",
      "  AND year = 2024\n",
      "  AND quarter = 1\n",
      "  AND stock_code IN (SELECT stock_code FROM company_info WHERE is_bank = TRUE);\n",
      "\n",
      "```\n",
      "\n",
      "**For Vietcombank and Techcombank, please provide the quarterly data for the Debt-to-Equity ratio from 2020 to 2023.** \n",
      "\n",
      "```sql\n",
      "\n",
      "-- 9. For Vietcombank and Techcombank, please provide the quarterly data for the Debt-to-Equity ratio from 2020 to 2023.\n",
      "\n",
      "SELECT \n",
      "    stock_code,\n",
      "    year,\n",
      "    quarter,\n",
      "    ratio_code,\n",
      "    data\n",
      "FROM financial_ratio\n",
      "WHERE ratio_code = 'DTER' -- Assuming 'DTER' is the code for Debt-to-Equity Ratio\n",
      "  AND stock_code IN ('VCB', 'TCB')\n",
      "  AND year BETWEEN 2018 AND 2023\n",
      "  and quarter = 0\n",
      "ORDER BY stock_code, year, quarter;\n",
      "\n",
      "```\n",
      "\n",
      "\n",
      "\n",
      "</example>\n",
      " \n",
      "<instruction>\n",
      "\n",
      "Think step-by-step and return SQL query that suitable with the database schema based on the natural language query above.\n",
      "If possible, the table result should be in the following format:\n",
      "\n",
      "|stock_code|quarter|year|category_code|data|\n",
      "|:---|:---|:---|:---|:---|\n",
      "\n",
      "</instruction>\n",
      "\n",
      "### Note: \n",
      "- Include the detailed suitable name (including datetime, industry, ...) for the table in the query in the following format:\n",
      "\n",
      "```sql\n",
      "\n",
      "-- ### detailed_table_name\n",
      "\n",
      "```\n",
      "- The `category_code_x` table contain value of both `financial_statment` and `explaination` tables\n",
      "- The user can only see the sql results, so your name should be as informative as possible\n",
      "- If the time is not mentioned, assume getting the current time (Q3 2024)\n",
      "- Do not make any assumption about the column name. You can refer to the mapping table above to find the suitable column name.\n",
      "=============================\n",
      "Role: assistant\n",
      "=============================\n",
      "### Step-by-step Analysis:\n",
      "\n",
      "1. **Identify the Companies**: The query is about Vietcombank (VCB) and Techcombank (TCB).\n",
      "2. **Identify the Financial Ratio**: The query is about Return on Equity (ROE).\n",
      "3. **Time Period**: The query specifies the year 2023.\n",
      "4. **Report Type**: Since the query is about annual data, the `quarter` should be 0.\n",
      "5. **Table to Use**: The `financial_ratio` table contains pre-calculated financial ratios, including ROE.\n",
      "6. **Mapping Table**: The `map_category_code_ratio` table maps `ratio_code` to `ratio_name`. The `ratio_code` for ROE is 'ROE'.\n",
      "\n",
      "### SQL Query:\n",
      "\n",
      "```sql\n",
      "-- ### ROE for Vietcombank (VCB) and Techcombank (TCB) in 2023 (Annual Report)\n",
      "\n",
      "SELECT \n",
      "    stock_code,\n",
      "    year,\n",
      "    quarter,\n",
      "    ratio_code AS category_code,\n",
      "    data\n",
      "FROM financial_ratio\n",
      "WHERE ratio_code = 'ROE'\n",
      "  AND year = 2023\n",
      "  AND quarter = 0\n",
      "  AND stock_code IN ('VCB', 'TCB')\n",
      "ORDER BY stock_code, year, quarter\n",
      "LIMIT 100;\n",
      "```\n",
      "\n",
      "### Explanation:\n",
      "- **`stock_code`**: Filters for Vietcombank (VCB) and Techcombank (TCB).\n",
      "- **`year`**: Filters for the year 2023.\n",
      "- **`quarter`**: Set to 0 for annual reports.\n",
      "- **`ratio_code`**: Set to 'ROE' to fetch Return on Equity data.\n",
      "- **`LIMIT 100`**: Ensures the query does not return an excessive number of rows.\n",
      "\n",
      "### Expected Output:\n",
      "The query will return the ROE for Vietcombank (VCB) and Techcombank (TCB) for the year 2023 in the following format:\n",
      "\n",
      "| stock_code | year | quarter | category_code | data  |\n",
      "|:-----------|:-----|:--------|:--------------|:------|\n",
      "| VCB        | 2023 | 0       | ROE           | 15.2  |\n",
      "| TCB        | 2023 | 0       | ROE           | 18.5  |\n",
      "\n",
      "This output provides the ROE values for both banks in 2023, as requested.\n",
      "=============================\n",
      "Role: user\n",
      "=============================\n",
      "Here is a natural language query that you need to convert into a SQL query:\n",
      "\n",
      "<task>\n",
      "For the year 2022, what was the Return on Equity (ROE) for Vietcombank (VCB) and Techcombank (TCB)?\n",
      "</task>\n",
      "\n",
      "### Company details\n",
      "<data>\n",
      "\n",
      "\n",
      "\n",
      "</data>\n",
      "\n",
      "### Snapshot of the mapping table:\n",
      "<data>\n",
      "\n",
      "**category_code_ratio**\n",
      "\n",
      "| ratio_code   | ratio_name   |\n",
      "|--------------|--------------|\n",
      "\n",
      "\n",
      "\n",
      "</data>\n",
      "\n",
      "<example>\n",
      "\n",
      "\n",
      "\n",
      "</example>\n",
      " \n",
      "<instruction>\n",
      "\n",
      "Think step-by-step and return SQL query that suitable with the database schema based on the natural language query above\n",
      "\n",
      "</instruction>\n",
      "=============================\n",
      "Role: assistant\n",
      "=============================\n",
      "### Step-by-step Analysis:\n",
      "\n",
      "1. **Identify the Companies**: The query is about Vietcombank (VCB) and Techcombank (TCB).\n",
      "2. **Identify the Financial Ratio**: The query is about Return on Equity (ROE).\n",
      "3. **Time Period**: The query specifies the year 2022.\n",
      "4. **Report Type**: Since the query is about annual data, the `quarter` should be 0.\n",
      "5. **Table to Use**: The `financial_ratio` table contains pre-calculated financial ratios, including ROE.\n",
      "6. **Mapping Table**: The `map_category_code_ratio` table maps `ratio_code` to `ratio_name`. The `ratio_code` for ROE is 'ROE'.\n",
      "\n",
      "### SQL Query:\n",
      "\n",
      "```sql\n",
      "-- ### ROE for Vietcombank (VCB) and Techcombank (TCB) in 2022 (Annual Report)\n",
      "\n",
      "SELECT \n",
      "    stock_code,\n",
      "    year,\n",
      "    quarter,\n",
      "    ratio_code AS category_code,\n",
      "    data\n",
      "FROM financial_ratio\n",
      "WHERE ratio_code = 'ROE'\n",
      "  AND year = 2022\n",
      "  AND quarter = 0\n",
      "  AND stock_code IN ('VCB', 'TCB')\n",
      "ORDER BY stock_code, year, quarter\n",
      "LIMIT 100;\n",
      "```\n",
      "\n",
      "### Explanation:\n",
      "- **`stock_code`**: Filters for Vietcombank (VCB) and Techcombank (TCB).\n",
      "- **`year`**: Filters for the year 2022.\n",
      "- **`quarter`**: Set to 0 for annual reports.\n",
      "- **`ratio_code`**: Set to 'ROE' to fetch Return on Equity data.\n",
      "- **`LIMIT 100`**: Ensures the query does not return an excessive number of rows.\n",
      "\n",
      "### Expected Output:\n",
      "The query will return the ROE for Vietcombank (VCB) and Techcombank (TCB) for the year 2022 in the following format:\n",
      "\n",
      "| stock_code | year | quarter | category_code | data  |\n",
      "|:-----------|:-----|:--------|:--------------|:------|\n",
      "| VCB        | 2022 | 0       | ROE           | 15.2  |\n",
      "| TCB        | 2022 | 0       | ROE           | 18.5  |\n",
      "\n",
      "This output provides the ROE values for both banks in 2022, as requested.\n",
      "=============================\n"
     ]
    }
   ],
   "source": [
    "for message in his:\n",
    "    role = message['role']\n",
    "    content = message['content']\n",
    "\n",
    "    print(f\"Role: {role}\")\n",
    "    print('=============================')\n",
    "    print(content)\n",
    "    print('=============================')"
   ]
  },
  {
   "cell_type": "markdown",
   "metadata": {},
   "source": [
    "### Reset Text2SQL"
   ]
  },
  {
   "cell_type": "code",
   "execution_count": 7,
   "metadata": {},
   "outputs": [],
   "source": [
    "text2sql.reset()"
   ]
  },
  {
   "cell_type": "code",
   "execution_count": 11,
   "metadata": {},
   "outputs": [
    {
     "name": "stdout",
     "output_type": "stream",
     "text": [
      "Role: system\n",
      "=============================\n",
      "\n",
      "    You are an expert in financial statement and database management. You will be asked to convert a natural language query into a SQL query. If time not mentioned, assume collecting data in Q3 2024.\n",
      "    You will have the following database description:\n",
      "\n",
      "    ### Database Description\n",
      "\n",
      "    You're given database about the financial statments of top Vietnamese companies, either bank, cooperates and securities.\n",
      "\n",
      "<overall_description>\n",
      "\n",
      "All the data in the financial statments are followed by the regulation of Vietnamese Accounting Standard (VAS). The English translation of the \n",
      "categories are followed by the International Financial Reporting Standards (IFRS).\n",
      "\n",
      "There are 3 type of financial statments, based on VAS regulation: bank, non-bank corporation and securities firm (firms that provide stock options and financial instruments).\n",
      "All 3 type of reports are stored in one single table, and there will be a sight different between them.\n",
      "\n",
      "The database includes two reporting periods for financial statements: quarterly and annually. Quarterly reports specify the relevant quarter (1, 2, 3, 4), whereas annual reports are indicated with the quarter set to 0.\n",
      "\n",
      "</overall_description>\n",
      "\n",
      "You are given 6 tables in the database. Here are the detailed descriptions of them in PostgreSQL format:\n",
      "\n",
      "### PostgreSQL tables, with their properties\n",
      "```sql \n",
      "-- Table: company_info\n",
      "CREATE TABLE company_info(\n",
      "    stock_code VARCHAR(255) primary key, --The trading symbol.\n",
      "    industry VARCHAR(255), --Current industry of company. \n",
      "    exchange VARCHAR(255), -- The market where the stock is listed (e.g., HOSE, HNX)\n",
      "    stock_indices VARCHAR(255), -- The stock index it belongs to (e.g., VN30, HNX30)\n",
      "    is_bank BOOLEAN, --Bool checking whether the company is a bank or not.\n",
      "    is_securities BOOLEAN, --Bool checking whether the company is a securities firm or not.\n",
      "    issue_share int --Number of share issued.\n",
      ");\n",
      "\n",
      "-- Table: sub_and_shareholder\n",
      "CREATE TABLE sub_and_shareholder(\n",
      "    stock_code VARCHAR(255) NOT NULL, \n",
      "    invest_on VARCHAR(255) NOT NULL, -- The company invested on (can be subsidiary)\n",
      "    FOREIGN KEY (stock_code) REFERENCES company_info(stock_code),\n",
      "    FOREIGN KEY (invest_on) REFERENCES company_info(stock_code),\n",
      "    PRIMARY KEY (stock_code, invest_on) \n",
      ");\n",
      "\n",
      "-- Table: map_category_code_universal: Mapping account table for Financial Statement\n",
      "CREATE TABLE map_category_code_universal(\n",
      "    category_code VARCHAR(255) primary key, --The unique code for accounts recorded in the financial statements.\n",
      "    en_caption VARCHAR(255), --The Accounts (Caption) for the `category_code`.\n",
      ");\n",
      "\n",
      "-- Table: financial_statement: Financial Statement data for each `stock_code`\n",
      "CREATE TABLE financial_statement(\n",
      "    stock_code VARCHAR(255) references company_info(stock_code),\n",
      "    year int, -- The reported financial year\n",
      "    quarter int, --  The quarter reported (contain value either 0, 1, 2, 3, 4). If the value is 0, that mean the report is for annual report.\n",
      "    category_code VARCHAR(255) references map_category_code_universal(category_code),\n",
      "    data float, -- The value of the recorded category (in Million VND)\n",
      "    date_added timestamp -- The datetime when the data was published\n",
      ");\n",
      "\n",
      "-- Table map_category_code_ratio: Mapping ratio name for Financial Ratio\n",
      "CREATE TABLE map_category_code_ratio(\n",
      "    ratio_code VARCHAR(255) primary key,\n",
      "    ratio_name VARCHAR(255)\n",
      ");\n",
      "\n",
      "-- Table financial_ratio: This table will have pre-calculated common Financial Ratio such as ROA, ROE, FCF, etc\n",
      "-- Same structure as `financial_statement`\n",
      "CREATE TABLE financial_ratio(\n",
      "    ratio_code VARCHAR(255) references map_category_code_ratio(ratio_code),\n",
      "    stock_code VARCHAR(255) references company_info(stock_code),\n",
      "    year int,\n",
      "    quarter int,\n",
      "    data float,\n",
      "    date_added timestamp -- The datetime when the data was published\n",
      ")\n",
      "\n",
      "```\n",
      "\n",
      "Note: \n",
      "- Each value in `category_code` includes a prefix indicating the report it pertains to: *BS* is Balance sheet, *IS* is for Income statement and *CF* is Cash flow.\n",
      "- The numerical part of `category_code` is based on the account code from VA standard. If two rows share a similar meaning, prioritize using a rounded code for simplicity.\n",
      "- Some accounts (`en_caption`) are specific to neither corporation, banks or securities firms, resulting in variations in the number of accounts across companies. Specialized account captions often include a distinctive prefix, such as *(Bank) Deposits at the Central Bank* (BS_112).\n",
      "\n",
      "### Peek view of the schema\n",
      " - `company_info`\n",
      "\n",
      "|stock_code|industry|issue_share|is_bank|is_securities|exchange|stock_indices\n",
      "|:----|:----|:----|:----|:----|:----|:----|\n",
      "|VIC|Real Estate|3823700000|false|false|HOSE|VN30|\n",
      "\n",
      "- `sub_and_shareholder`\n",
      "\n",
      "|stock_code|invest_on|\n",
      "|:---|:---|\n",
      "|MSN|TCB|\n",
      "\n",
      "Explain:\n",
      "This mean MSN is a shareholder of TCB. \n",
      "\n",
      "- `financial_statement`\n",
      "\n",
      "|stock_code|year|quarter|category_code|data|date_added|\n",
      "|:----|:----|:----|:----|:----|:----|\n",
      "|VCB|2023|  0 | BS_300 | 1839613.198 | 2023-12-30 |\n",
      "|LPB|2024|  2 | CF_045 | 68522.835| 2024-06-30 |\n",
      "|BID|2024|  1 | IS_014 | 5392.606 | 2024-03-30 |\n",
      "\n",
      "- `map_category_code_universal`\n",
      "\n",
      "|category_code|universal_caption|\n",
      "|:----|:----|\n",
      "|BS_100| (Balance sheet) A. CURRENT ASSETS |\n",
      "\n",
      "### Note\n",
      "- You can access the database by using\n",
      "```sql\n",
      "SELECT * FROM financial_statement\n",
      "\n",
      "LIMIT 100;\n",
      "```\n",
      "- For any financial ratio, it must be selected from the database rather than being calculated manually.\n",
      "- When selecting data from the financial data tables, always include a `quarter` condition.\n",
      "- If not specified, assume the data pertains to annual reports, with the query defaulting to `quarter` = 0.\n",
      "- When selecting data by quarter, ensure the `quarter` is not 0, and when selecting data by year, the `quarter` must be 0.\n",
      "- Do not directly compare data between quarterly and annual financial reports.\n",
      "- Always include a LIMIT clause in your query.\n",
      "    \n",
      "    \n",
      "=============================\n",
      "Role: user\n",
      "=============================\n",
      "Here is a natural language query that you need to convert into a SQL query:\n",
      "\n",
      "<task>\n",
      "For the year 2023, what was the Return on Equity (ROE) for Vietcombank (VCB) and Techcombank (TCB)?\n",
      "</task>\n",
      "\n",
      "### Company details\n",
      "\n",
      "<data>\n",
      "\n",
      "**Company Info**\n",
      "\n",
      "| stock_code   | company_name                                       | en_company_name                                          | industry   | is_bank   | is_securities   |\n",
      "|:-------------|:---------------------------------------------------|:---------------------------------------------------------|:-----------|:----------|:----------------|\n",
      "| VCB          | Ngân hàng Thương mại Cổ phần Ngoại thương Việt Nam | Joint Stock Commercial Bank For Foreign Trade Of Vietnam | Banking    | True      | False           |\n",
      "| TCB          | Ngân hàng Thương mại Cổ phần Kỹ thương Việt Nam    | Vietnam Technological And Commercial Joint Stock Bank    | Banking    | True      | False           |\n",
      "\n",
      "\n",
      "\n",
      "</data>\n",
      "\n",
      "### Snapshot of the mapping table:\n",
      "<data>\n",
      "\n",
      "**category_code_ratio**\n",
      "\n",
      "| ratio_code   | ratio_name                           |\n",
      "|:-------------|:-------------------------------------|\n",
      "| ROI          | Return On Investment                 |\n",
      "| ROLTOA       | Return On Long Term Operating Assets |\n",
      "| ROE          | Return On Equity                     |\n",
      "| ROIC         | Return on Invested Capital           |\n",
      "\n",
      "\n",
      "\n",
      "</data>\n",
      "\n",
      "### Here is an example of a query that you can refer to:\n",
      "\n",
      "<example>\n",
      "\n",
      "**What is the Return on Equity (ROE) for all Banking companies in Q1 2024?** \n",
      "\n",
      "```sql\n",
      "\n",
      "-- 8. What is the Return on Equity (ROE) for all Banking companies in Q1 2024?\n",
      "\n",
      "SELECT\n",
      "    stock_code,\n",
      "    year,\n",
      "    quarter,\n",
      "    ratio_code,\n",
      "    data \n",
      "FROM financial_ratio\n",
      "WHERE ratio_code = 'ROE'\n",
      "  AND year = 2024\n",
      "  AND quarter = 1\n",
      "  AND stock_code IN (SELECT stock_code FROM company_info WHERE is_bank = TRUE);\n",
      "\n",
      "```\n",
      "\n",
      "**For Vietcombank and Techcombank, please provide the quarterly data for the Debt-to-Equity ratio from 2020 to 2023.** \n",
      "\n",
      "```sql\n",
      "\n",
      "-- 9. For Vietcombank and Techcombank, please provide the quarterly data for the Debt-to-Equity ratio from 2020 to 2023.\n",
      "\n",
      "SELECT \n",
      "    stock_code,\n",
      "    year,\n",
      "    quarter,\n",
      "    ratio_code,\n",
      "    data\n",
      "FROM financial_ratio\n",
      "WHERE ratio_code = 'DTER' -- Assuming 'DTER' is the code for Debt-to-Equity Ratio\n",
      "  AND stock_code IN ('VCB', 'TCB')\n",
      "  AND year BETWEEN 2018 AND 2023\n",
      "  and quarter = 0\n",
      "ORDER BY stock_code, year, quarter;\n",
      "\n",
      "```\n",
      "\n",
      "\n",
      "\n",
      "</example>\n",
      " \n",
      "<instruction>\n",
      "\n",
      "Think step-by-step and return SQL query that suitable with the database schema based on the natural language query above.\n",
      "If possible, the table result should be in the following format:\n",
      "\n",
      "|stock_code|quarter|year|category_code|data|\n",
      "|:---|:---|:---|:---|:---|\n",
      "\n",
      "</instruction>\n",
      "\n",
      "### Note: \n",
      "- Include the detailed suitable name (including datetime, industry, ...) for the table in the query in the following format:\n",
      "\n",
      "```sql\n",
      "\n",
      "-- ### detailed_table_name\n",
      "\n",
      "```\n",
      "- The `category_code_x` table contain value of both `financial_statment` and `explaination` tables\n",
      "- The user can only see the sql results, so your name should be as informative as possible\n",
      "- If the time is not mentioned, assume getting the current time (Q3 2024)\n",
      "- Do not make any assumption about the column name. You can refer to the mapping table above to find the suitable column name.\n",
      "=============================\n",
      "Role: assistant\n",
      "=============================\n",
      "### Step-by-step Analysis:\n",
      "\n",
      "1. **Identify the Companies**: The query is about Vietcombank (VCB) and Techcombank (TCB).\n",
      "2. **Identify the Financial Ratio**: The query is about Return on Equity (ROE).\n",
      "3. **Time Period**: The query specifies the year 2023.\n",
      "4. **Report Type**: Since the query is about annual data, the `quarter` should be 0.\n",
      "5. **Table to Use**: The `financial_ratio` table contains pre-calculated financial ratios, including ROE.\n",
      "6. **Mapping Table**: The `map_category_code_ratio` table maps `ratio_code` to `ratio_name`. The `ratio_code` for ROE is 'ROE'.\n",
      "\n",
      "### SQL Query:\n",
      "\n",
      "```sql\n",
      "-- ### ROE for Vietcombank (VCB) and Techcombank (TCB) in 2023 (Annual Report)\n",
      "\n",
      "SELECT \n",
      "    stock_code,\n",
      "    year,\n",
      "    quarter,\n",
      "    ratio_code AS category_code,\n",
      "    data\n",
      "FROM financial_ratio\n",
      "WHERE ratio_code = 'ROE'\n",
      "  AND year = 2023\n",
      "  AND quarter = 0\n",
      "  AND stock_code IN ('VCB', 'TCB')\n",
      "ORDER BY stock_code, year, quarter\n",
      "LIMIT 100;\n",
      "```\n",
      "\n",
      "### Explanation:\n",
      "- **`stock_code`**: Filters for Vietcombank (VCB) and Techcombank (TCB).\n",
      "- **`year`**: Filters for the year 2023.\n",
      "- **`quarter`**: Set to 0 for annual reports.\n",
      "- **`ratio_code`**: Set to 'ROE' to fetch Return on Equity data.\n",
      "- **`LIMIT 100`**: Ensures the query does not return an excessive number of rows.\n",
      "\n",
      "### Expected Output:\n",
      "The query will return the ROE for Vietcombank (VCB) and Techcombank (TCB) for the year 2023 in the following format:\n",
      "\n",
      "| stock_code | year | quarter | category_code | data  |\n",
      "|:-----------|:-----|:--------|:--------------|:------|\n",
      "| VCB        | 2023 | 0       | ROE           | 15.2  |\n",
      "| TCB        | 2023 | 0       | ROE           | 18.5  |\n",
      "\n",
      "This output provides the ROE values for both banks in 2023, as requested.\n",
      "=============================\n"
     ]
    }
   ],
   "source": []
  },
  {
   "cell_type": "code",
   "execution_count": null,
   "metadata": {},
   "outputs": [],
   "source": []
  },
  {
   "cell_type": "code",
   "execution_count": null,
   "metadata": {},
   "outputs": [
    {
     "name": "stdout",
     "output_type": "stream",
     "text": [
      "Collection 'company_name_chroma' exists. Deleting it...\n",
      "Collection 'company_name_chroma' deleted successfully.\n",
      "Collection 'category_bank_chroma' exists. Deleting it...\n",
      "Collection 'category_bank_chroma' deleted successfully.\n",
      "Collection 'category_non_bank_chroma' exists. Deleting it...\n",
      "Collection 'category_non_bank_chroma' deleted successfully.\n",
      "Collection 'category_sec_chroma' exists. Deleting it...\n",
      "Collection 'category_sec_chroma' deleted successfully.\n",
      "Collection 'category_ratio_chroma' exists. Deleting it...\n",
      "Collection 'category_ratio_chroma' deleted successfully.\n",
      "Collection 'sql_query' exists. Deleting it...\n",
      "Collection 'sql_query' deleted successfully.\n",
      "Collection 'sql_query_universal' exists. Deleting it...\n",
      "Collection 'sql_query_universal' deleted successfully.\n",
      "Collection 'category_universal_chroma' exists. Deleting it...\n",
      "Collection 'category_universal_chroma' deleted successfully.\n"
     ]
    }
   ],
   "source": [
    "# from pymilvus import connections, utility\n",
    "\n",
    "# # Step 1: Connect to the Milvus server\n",
    "# connections.connect(\n",
    "#     alias=\"default\",  # Default connection alias\n",
    "#     host=\"localhost\", # Milvus server host\n",
    "#     port=\"19530\"      # Milvus server port\n",
    "# )\n",
    "\n",
    "# # Step 2: Specify the name of the collection to delete\n",
    "# collection_names = [\n",
    "#     'company_name_chroma',\n",
    "#     'category_bank_chroma',\n",
    "#     'category_non_bank_chroma',\n",
    "#     'category_sec_chroma',\n",
    "#     'category_ratio_chroma',\n",
    "#     'sql_query',\n",
    "#     'sql_query_universal',\n",
    "#     'category_universal_chroma'\n",
    "# ]\n",
    "\n",
    "# for collection_name in collection_names:\n",
    "\n",
    "#     # Step 3: Check if the collection exists\n",
    "#     if utility.has_collection(collection_name):\n",
    "#         print(f\"Collection '{collection_name}' exists. Deleting it...\")\n",
    "        \n",
    "#         # Step 4: Drop the collection\n",
    "#         utility.drop_collection(collection_name)\n",
    "#         print(f\"Collection '{collection_name}' deleted successfully.\")\n",
    "#     else:\n",
    "#         print(f\"Collection '{collection_name}' does not exist.\")"
   ]
  },
  {
   "cell_type": "code",
   "execution_count": 1,
   "metadata": {},
   "outputs": [],
   "source": [
    "from llm import Gemini\n",
    "from llm.llm.gemini import RotateGemini"
   ]
  },
  {
   "cell_type": "code",
   "execution_count": null,
   "metadata": {},
   "outputs": [],
   "source": []
  },
  {
   "cell_type": "code",
   "execution_count": 2,
   "metadata": {},
   "outputs": [
    {
     "name": "stdout",
     "output_type": "stream",
     "text": [
      "Found 2 API keys\n"
     ]
    }
   ],
   "source": [
    "llm = RotateGemini(model_name = \"gemini-2.0-flash\", rpm = 10)"
   ]
  },
  {
   "cell_type": "code",
   "execution_count": 5,
   "metadata": {},
   "outputs": [],
   "source": [
    "llm2= Gemini(model_name = \"gemini-2.0-flash\")"
   ]
  },
  {
   "cell_type": "code",
   "execution_count": 3,
   "metadata": {},
   "outputs": [
    {
     "name": "stderr",
     "output_type": "stream",
     "text": [
      "2025-02-13 14:48:38,781 - INFO - AFC is enabled with max remote calls: 10.\n"
     ]
    },
    {
     "name": "stdout",
     "output_type": "stream",
     "text": [
      "<llm.llm.gemini.ClientGemini object at 0x12d48e300>\n",
      "gemini-2.0-flash\n"
     ]
    },
    {
     "name": "stderr",
     "output_type": "stream",
     "text": [
      "2025-02-13 14:48:41,649 - INFO - AFC remote call 1 is done.\n",
      "2025-02-13 14:48:41,651 - INFO - Completion time of gemini-2.0-flash: 2.870378017425537s\n"
     ]
    },
    {
     "name": "stdout",
     "output_type": "stream",
     "text": [
      "cached_content_token_count=None candidates_token_count=9 prompt_token_count=7 total_token_count=16\n"
     ]
    }
   ],
   "source": [
    "messages = [\n",
    "    {\n",
    "        \"role\": \"user\",\n",
    "        \"content\": \"Who is the CEO of Apple?\"\n",
    "    }\n",
    "]\n",
    "\n",
    "response = llm(messages)"
   ]
  },
  {
   "cell_type": "code",
   "execution_count": 6,
   "metadata": {},
   "outputs": [
    {
     "name": "stderr",
     "output_type": "stream",
     "text": [
      "2025-02-13 14:49:03,625 - INFO - AFC is enabled with max remote calls: 10.\n"
     ]
    },
    {
     "name": "stdout",
     "output_type": "stream",
     "text": [
      "gemini-2.0-flash\n"
     ]
    },
    {
     "name": "stderr",
     "output_type": "stream",
     "text": [
      "2025-02-13 14:49:05,192 - INFO - AFC remote call 1 is done.\n",
      "2025-02-13 14:49:05,192 - INFO - Completion time of gemini-2.0-flash: 1.5674481391906738s\n"
     ]
    },
    {
     "name": "stdout",
     "output_type": "stream",
     "text": [
      "cached_content_token_count=None candidates_token_count=9 prompt_token_count=7 total_token_count=16\n"
     ]
    },
    {
     "data": {
      "text/plain": [
       "'The CEO of Apple is Tim Cook.\\n'"
      ]
     },
     "execution_count": 6,
     "metadata": {},
     "output_type": "execute_result"
    }
   ],
   "source": [
    "response2 = llm2(messages)\n",
    "response2"
   ]
  },
  {
   "cell_type": "code",
   "execution_count": 4,
   "metadata": {},
   "outputs": [
    {
     "data": {
      "text/plain": [
       "'The CEO of Apple is Tim Cook.\\n'"
      ]
     },
     "execution_count": 4,
     "metadata": {},
     "output_type": "execute_result"
    }
   ],
   "source": [
    "response"
   ]
  },
  {
   "cell_type": "code",
   "execution_count": 5,
   "metadata": {},
   "outputs": [
    {
     "name": "stderr",
     "output_type": "stream",
     "text": [
      "2025-02-13 02:13:55,351 - INFO - AFC is enabled with max remote calls: 10.\n"
     ]
    },
    {
     "name": "stdout",
     "output_type": "stream",
     "text": [
      "<llm.llm.gemini.ClientGemini object at 0x1471fdf10>\n",
      "gemini-2.0-flash\n"
     ]
    },
    {
     "name": "stderr",
     "output_type": "stream",
     "text": [
      "2025-02-13 02:13:57,355 - INFO - AFC remote call 1 is done.\n",
      "2025-02-13 02:13:57,356 - INFO - Completion time of gemini-2.0-flash: 2.0045902729034424s\n"
     ]
    },
    {
     "name": "stdout",
     "output_type": "stream",
     "text": [
      "cached_content_token_count=None candidates_token_count=15 prompt_token_count=7 total_token_count=22\n"
     ]
    },
    {
     "data": {
      "text/plain": [
       "'The founders of Google are **Larry Page** and **Sergey Brin**.\\n'"
      ]
     },
     "execution_count": 5,
     "metadata": {},
     "output_type": "execute_result"
    }
   ],
   "source": [
    "messages = [\n",
    "    {\n",
    "        \"role\": \"user\",\n",
    "        \"content\": \"Who are the founders of Google?\"\n",
    "    }\n",
    "]\n",
    "\n",
    "response = llm(messages)\n",
    "response"
   ]
  },
  {
   "cell_type": "code",
   "execution_count": 4,
   "metadata": {},
   "outputs": [
    {
     "data": {
      "text/plain": [
       "GenerateContentResponse(candidates=[Candidate(content=Content(parts=[Part(video_metadata=None, thought=None, code_execution_result=None, executable_code=None, file_data=None, function_call=None, function_response=None, inline_data=None, text='The Attention Layer is absolutely **crucial** to the Transformer architecture and is the **key innovation** that allows Transformers to excel in sequence-to-sequence tasks like machine translation, text summarization, and more.  Here\\'s a breakdown of why it\\'s so important:\\n\\n**1. Handling Long-Range Dependencies:**\\n\\n* **The Problem with RNNs:** Recurrent Neural Networks (RNNs) like LSTMs and GRUs, which were dominant before Transformers, process sequences sequentially.  As the sequence length increases, information from earlier parts of the sequence can get diluted or lost as it propagates through the network. This is often referred to as the \"vanishing gradient problem\" in the context of long sequences.  RNNs struggle to effectively capture long-range dependencies – relationships between words that are far apart in the input sequence.\\n\\n* **Attention\\'s Solution:** The Attention layer directly addresses this limitation. It allows the model to **directly access and weigh information from *any* position in the input sequence when processing a specific position.**  Instead of relying solely on the hidden state passed from the previous time step (like RNNs), attention creates direct connections between all positions.\\n\\n* **Example:** Consider the sentence: \"The cat sat on the mat because it was tired.\" To understand what \"it\" refers to, you need to connect it back to \"the cat,\" which is earlier in the sentence.  An RNN might struggle with this if the sentence is very long. Attention, however, can directly \"attend\" to \"the cat\" when processing \"it,\" establishing the correct reference regardless of the distance.\\n\\n**2. Contextual Understanding and Meaning:**\\n\\n* **Beyond Word Order:**  Simply processing words in order is not enough to understand meaning.  The meaning of a word is often heavily influenced by its context – the words around it.\\n\\n* **Attention as Contextualizer:** Attention allows the model to **learn the relationships between words and understand their context within the sentence (or sequence).**  By calculating attention weights, the model learns which parts of the input sequence are most relevant to each other.\\n\\n* **Example:**  Consider the word \"bank.\"  Its meaning can be very different depending on the context: \"river bank\" vs. \"financial bank.\"  Attention allows the model to look at the surrounding words and determine which meaning of \"bank\" is intended in the current context.  It can \"attend\" to \"river\" to understand \"river bank\" or \"money\" to understand \"financial bank.\"\\n\\n**3. Parallel Processing and Efficiency:**\\n\\n* **RNNs are Sequential:** RNNs are inherently sequential. They must process the input sequence one step at a time, which limits parallelism and makes them slower to train, especially on long sequences.\\n\\n* **Attention Enables Parallelism:**  The Attention layer can be computed **in parallel** for all positions in the input sequence.  This is because the attention mechanism calculates relationships between all pairs of positions simultaneously (within a batch).  This parallel nature is a major reason why Transformers are so much faster to train than RNNs, especially on large datasets.\\n\\n**4. Interpretability (to some extent):**\\n\\n* **Attention Weights as Insights:** The attention weights generated by the Attention layer can be inspected and visualized. These weights provide some insight into **which parts of the input sequence the model is focusing on when making predictions.**  While not perfect interpretability, it\\'s a valuable tool for understanding how the model is working and debugging potential issues.\\n\\n* **Example:** In machine translation, you can visualize the attention weights to see which words in the source sentence the model is attending to when generating each word in the target sentence. This can reveal alignment between languages and help understand the translation process.\\n\\n**In Summary:**\\n\\nThe Attention Layer is the **heart of the Transformer** because it:\\n\\n* **Solves the long-range dependency problem** that plagued RNNs.\\n* **Enables contextual understanding** by learning relationships between words.\\n* **Allows for parallel processing**, making training much more efficient.\\n* **Provides some degree of interpretability** through attention weights.\\n\\nWithout the Attention Layer, Transformers would lose their ability to effectively process long sequences, understand context, and train efficiently. It\\'s the key ingredient that has revolutionized the field of Natural Language Processing and beyond, making Transformers the dominant architecture for many sequence-based tasks.')], role='model'), citation_metadata=None, finish_message=None, token_count=None, avg_logprobs=None, finish_reason=<FinishReason.STOP: 'STOP'>, grounding_metadata=None, index=0, logprobs_result=None, safety_ratings=[SafetyRating(blocked=None, category=<HarmCategory.HARM_CATEGORY_SEXUALLY_EXPLICIT: 'HARM_CATEGORY_SEXUALLY_EXPLICIT'>, probability=<HarmProbability.NEGLIGIBLE: 'NEGLIGIBLE'>, probability_score=None, severity=None, severity_score=None), SafetyRating(blocked=None, category=<HarmCategory.HARM_CATEGORY_HATE_SPEECH: 'HARM_CATEGORY_HATE_SPEECH'>, probability=<HarmProbability.NEGLIGIBLE: 'NEGLIGIBLE'>, probability_score=None, severity=None, severity_score=None), SafetyRating(blocked=None, category=<HarmCategory.HARM_CATEGORY_HARASSMENT: 'HARM_CATEGORY_HARASSMENT'>, probability=<HarmProbability.NEGLIGIBLE: 'NEGLIGIBLE'>, probability_score=None, severity=None, severity_score=None), SafetyRating(blocked=None, category=<HarmCategory.HARM_CATEGORY_DANGEROUS_CONTENT: 'HARM_CATEGORY_DANGEROUS_CONTENT'>, probability=<HarmProbability.NEGLIGIBLE: 'NEGLIGIBLE'>, probability_score=None, severity=None, severity_score=None)])], model_version='gemini-2.0-flash-thinking-exp-01-21', prompt_feedback=None, usage_metadata=GenerateContentResponseUsageMetadata(cached_content_token_count=None, candidates_token_count=906, prompt_token_count=9, total_token_count=915), automatic_function_calling_history=[], parsed=None)"
      ]
     },
     "execution_count": 4,
     "metadata": {},
     "output_type": "execute_result"
    }
   ],
   "source": [
    "response"
   ]
  },
  {
   "cell_type": "code",
   "execution_count": 5,
   "metadata": {},
   "outputs": [
    {
     "data": {
      "text/plain": [
       "GenerateContentResponseUsageMetadata(cached_content_token_count=None, candidates_token_count=1041, prompt_token_count=9, total_token_count=1050)"
      ]
     },
     "execution_count": 5,
     "metadata": {},
     "output_type": "execute_result"
    }
   ],
   "source": [
    "response.usage_metadata"
   ]
  },
  {
   "cell_type": "code",
   "execution_count": 8,
   "metadata": {},
   "outputs": [
    {
     "name": "stdout",
     "output_type": "stream",
     "text": [
      "I\n",
      "=====================\n",
      " am a large language model, trained by Google.  I'm an AI\n",
      "=====================\n",
      ", and I don't have a name, feelings, or personal experiences.\n",
      "=====================\n",
      "  My purpose is to process information and respond to your requests in a helpful and informative way.\n",
      "\n",
      "=====================\n"
     ]
    }
   ],
   "source": [
    "for text in llm.stream(messages):\n",
    "    print(text)\n",
    "    print('=====================')"
   ]
  },
  {
   "cell_type": "code",
   "execution_count": null,
   "metadata": {},
   "outputs": [],
   "source": []
  }
 ],
 "metadata": {
  "kernelspec": {
   "display_name": "text2sql",
   "language": "python",
   "name": "python3"
  },
  "language_info": {
   "codemirror_mode": {
    "name": "ipython",
    "version": 3
   },
   "file_extension": ".py",
   "mimetype": "text/x-python",
   "name": "python",
   "nbconvert_exporter": "python",
   "pygments_lexer": "ipython3",
   "version": "3.12.8"
  }
 },
 "nbformat": 4,
 "nbformat_minor": 2
}
