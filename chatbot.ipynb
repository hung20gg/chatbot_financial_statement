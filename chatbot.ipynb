{
 "cells": [
  {
   "cell_type": "code",
   "execution_count": 1,
   "metadata": {},
   "outputs": [
    {
     "name": "stderr",
     "output_type": "stream",
     "text": [
      "2025-01-25 16:30:17,503 - INFO - PyTorch version 2.5.1 available.\n"
     ]
    }
   ],
   "source": [
    "from agent.const import (\n",
    "    ChatConfig,\n",
    "    Text2SQLConfig,\n",
    "    GEMINI_FAST_CONFIG,\n",
    "    GPT4O_MINI_CONFIG,\n",
    "    GPT4O_CONFIG,\n",
    "    TEXT2SQL_FASTEST_CONFIG,\n",
    "    TEXT2SQL_FAST_OPENAI_CONFIG,\n",
    "    TEXT2SQL_DEEPSEEK_V3_CONFIG,\n",
    "    TEXT2SQL_DEEPSEEK_V3_FAST_CONFIG\n",
    ")\n",
    "\n",
    "from agent.prompt.prompt_controller import (\n",
    "    PromptConfig, \n",
    "    VERTICAL_PROMPT_BASE, \n",
    "    VERTICAL_PROMPT_UNIVERSAL,\n",
    "    HORIZONTAL_PROMPT_BASE,\n",
    "    HORIZONTAL_PROMPT_UNIVERSAL,\n",
    "    FIIN_VERTICAL_PROMPT_UNIVERSAL,\n",
    ")\n",
    "\n",
    "from initialize import initialize_text2sql\n"
   ]
  },
  {
   "cell_type": "code",
   "execution_count": 2,
   "metadata": {},
   "outputs": [],
   "source": [
    "import os\n",
    "\n",
    "import logging\n",
    "logging.basicConfig(\n",
    "    level=logging.INFO,\n",
    "    format='%(asctime)s - %(levelname)s - %(message)s'\n",
    ")\n"
   ]
  },
  {
   "cell_type": "code",
   "execution_count": 3,
   "metadata": {},
   "outputs": [],
   "source": [
    "text2sql_config = TEXT2SQL_DEEPSEEK_V3_CONFIG\n",
    "prompt_config = VERTICAL_PROMPT_UNIVERSAL"
   ]
  },
  {
   "cell_type": "code",
   "execution_count": 4,
   "metadata": {},
   "outputs": [
    {
     "name": "stderr",
     "output_type": "stream",
     "text": [
      "2025-01-25 16:30:18,159 - INFO - Checking embedding server at http://localhost:8080/embed\n",
      "2025-01-25 16:30:18,186 - INFO - Response embedding server: <Response [200]>\n",
      "2025-01-25 16:30:18,187 - INFO - Using remote embedding server\n",
      "2025-01-25 16:30:18,187 - INFO - Finish setup embedding\n",
      "2025-01-25 16:30:18,187 - INFO - Checking embedding server at http://localhost:8081\n",
      "2025-01-25 16:30:18,197 - INFO - Response embedding server: <Response [200]>\n",
      "2025-01-25 16:30:18,197 - INFO - Found reranking server at: http://localhost:8081\n",
      "2025-01-25 16:30:18,197 - INFO - Finish setup reranker, using reranker api\n",
      "2025-01-25 16:30:18,202 - INFO - Anonymized telemetry enabled. See                     https://docs.trychroma.com/telemetry for more information.\n",
      "2025-01-25 16:30:18,269 - INFO - Finish setup db\n",
      "2025-01-25 16:30:18,297 - INFO - Finish setup text2sql\n"
     ]
    },
    {
     "name": "stdout",
     "output_type": "stream",
     "text": [
      "fiin\n",
      "Using OpenAI Wrapper with host https://api.deepseek.com\n",
      "Using OpenAI Wrapper with host https://api.deepseek.com\n"
     ]
    }
   ],
   "source": [
    "text2sql = initialize_text2sql(text2sql_config, prompt_config)"
   ]
  },
  {
   "cell_type": "code",
   "execution_count": 5,
   "metadata": {},
   "outputs": [],
   "source": [
    "question = \"For the year 2023, what was the Return on Equity (ROE) for Vietcombank (VCB) and Techcombank (TCB)?\"\n"
   ]
  },
  {
   "cell_type": "code",
   "execution_count": 6,
   "metadata": {},
   "outputs": [
    {
     "name": "stderr",
     "output_type": "stream",
     "text": [
      "2025-01-25 16:30:18,314 - INFO - Get stock code based on company name response\n"
     ]
    },
    {
     "name": "stderr",
     "output_type": "stream",
     "text": [
      "2025-01-25 16:30:18,616 - INFO - HTTP Request: POST https://api.deepseek.com/chat/completions \"HTTP/1.1 200 OK\"\n",
      "2025-01-25 16:30:20,530 - INFO - Completion time of deepseek-chat: 2.2155563831329346s\n",
      "/home/quanghung20gg/Documents/new/fs_chatbot/chatbot_financial_statement/ETL/dbmanager/rerank.py:111: RuntimeWarning: coroutine 'BaseRerannk._rerank_api' was never awaited\n",
      "  result = asyncio.run(self._rerank_api(query, documents, top_k, **kwargs))\n",
      "RuntimeWarning: Enable tracemalloc to get the object allocation traceback\n",
      "2025-01-25 16:30:20,596 - INFO - Time taken to find stock code similarity: 0.06636643409729004\n",
      "2025-01-25 16:30:20,597 - INFO - Connecting to database fiin, postgres...\n",
      "2025-01-25 16:30:20,627 - INFO - Connecting to database fiin, postgres...\n",
      "2025-01-25 16:30:20,636 - INFO - Time taken to return mapping table: 0.03381800651550293\n"
     ]
    },
    {
     "name": "stdout",
     "output_type": "stream",
     "text": [
      "CompletionUsage(completion_tokens=56, prompt_tokens=197, total_tokens=253, completion_tokens_details=None, prompt_tokens_details=PromptTokensDetails(audio_tokens=None, cached_tokens=192), prompt_cache_hit_tokens=192, prompt_cache_miss_tokens=5)\n",
      "['ROLTOA', 'ROI', 'ROE', 'ROIC']\n",
      "['ROLTOA', 'ROI', 'ROE', 'ROIC']\n",
      "[]\n"
     ]
    },
    {
     "name": "stderr",
     "output_type": "stream",
     "text": [
      "2025-01-25 16:30:20,934 - INFO - HTTP Request: POST https://api.deepseek.com/chat/completions \"HTTP/1.1 200 OK\"\n",
      "2025-01-25 16:30:29,964 - INFO - Completion time of deepseek-chat: 9.281604290008545s\n",
      "2025-01-25 16:30:29,966 - INFO - Connecting to database fiin, postgres...\n",
      "2025-01-25 16:30:30,023 - INFO - Time taken: 11.709075450897217s\n"
     ]
    },
    {
     "name": "stdout",
     "output_type": "stream",
     "text": [
      "CompletionUsage(completion_tokens=414, prompt_tokens=2225, total_tokens=2639, completion_tokens_details=None, prompt_tokens_details=PromptTokensDetails(audio_tokens=None, cached_tokens=2176), prompt_cache_hit_tokens=2176, prompt_cache_miss_tokens=49)\n",
      "stock_code\n",
      "company_name\n",
      "en_company_name\n",
      "industry\n",
      "is_bank\n",
      "is_securities\n",
      "ratio_code\n",
      "ratio_name\n"
     ]
    }
   ],
   "source": [
    "his, err, table = text2sql.solve(question)"
   ]
  },
  {
   "cell_type": "code",
   "execution_count": 7,
   "metadata": {},
   "outputs": [
    {
     "name": "stdout",
     "output_type": "stream",
     "text": [
      "Table(desc = Company Info)\n",
      "Table(desc = category_code_ratio)\n",
      "Table(desc =  SQL 1 Result: 2023_annual_ROE_for_VCB_and_TCB)\n"
     ]
    }
   ],
   "source": [
    "for tab in table:\n",
    "    print(tab)"
   ]
  },
  {
   "cell_type": "code",
   "execution_count": null,
   "metadata": {},
   "outputs": [],
   "source": []
  },
  {
   "cell_type": "code",
   "execution_count": null,
   "metadata": {},
   "outputs": [],
   "source": []
  },
  {
   "cell_type": "code",
   "execution_count": null,
   "metadata": {},
   "outputs": [],
   "source": []
  },
  {
   "cell_type": "code",
   "execution_count": null,
   "metadata": {},
   "outputs": [
    {
     "name": "stdout",
     "output_type": "stream",
     "text": [
      "Collection 'company_name_chroma' exists. Deleting it...\n",
      "Collection 'company_name_chroma' deleted successfully.\n",
      "Collection 'category_bank_chroma' exists. Deleting it...\n",
      "Collection 'category_bank_chroma' deleted successfully.\n",
      "Collection 'category_non_bank_chroma' exists. Deleting it...\n",
      "Collection 'category_non_bank_chroma' deleted successfully.\n",
      "Collection 'category_sec_chroma' exists. Deleting it...\n",
      "Collection 'category_sec_chroma' deleted successfully.\n",
      "Collection 'category_ratio_chroma' exists. Deleting it...\n",
      "Collection 'category_ratio_chroma' deleted successfully.\n",
      "Collection 'sql_query' exists. Deleting it...\n",
      "Collection 'sql_query' deleted successfully.\n",
      "Collection 'sql_query_universal' exists. Deleting it...\n",
      "Collection 'sql_query_universal' deleted successfully.\n",
      "Collection 'category_universal_chroma' exists. Deleting it...\n",
      "Collection 'category_universal_chroma' deleted successfully.\n"
     ]
    }
   ],
   "source": [
    "# from pymilvus import connections, utility\n",
    "\n",
    "# # Step 1: Connect to the Milvus server\n",
    "# connections.connect(\n",
    "#     alias=\"default\",  # Default connection alias\n",
    "#     host=\"localhost\", # Milvus server host\n",
    "#     port=\"19530\"      # Milvus server port\n",
    "# )\n",
    "\n",
    "# # Step 2: Specify the name of the collection to delete\n",
    "# collection_names = [\n",
    "#     'company_name_chroma',\n",
    "#     'category_bank_chroma',\n",
    "#     'category_non_bank_chroma',\n",
    "#     'category_sec_chroma',\n",
    "#     'category_ratio_chroma',\n",
    "#     'sql_query',\n",
    "#     'sql_query_universal',\n",
    "#     'category_universal_chroma'\n",
    "# ]\n",
    "\n",
    "# for collection_name in collection_names:\n",
    "\n",
    "#     # Step 3: Check if the collection exists\n",
    "#     if utility.has_collection(collection_name):\n",
    "#         print(f\"Collection '{collection_name}' exists. Deleting it...\")\n",
    "        \n",
    "#         # Step 4: Drop the collection\n",
    "#         utility.drop_collection(collection_name)\n",
    "#         print(f\"Collection '{collection_name}' deleted successfully.\")\n",
    "#     else:\n",
    "#         print(f\"Collection '{collection_name}' does not exist.\")"
   ]
  },
  {
   "cell_type": "code",
   "execution_count": null,
   "metadata": {},
   "outputs": [],
   "source": []
  }
 ],
 "metadata": {
  "kernelspec": {
   "display_name": "base",
   "language": "python",
   "name": "python3"
  },
  "language_info": {
   "codemirror_mode": {
    "name": "ipython",
    "version": 3
   },
   "file_extension": ".py",
   "mimetype": "text/x-python",
   "name": "python",
   "nbconvert_exporter": "python",
   "pygments_lexer": "ipython3",
   "version": "3.12.7"
  }
 },
 "nbformat": 4,
 "nbformat_minor": 2
}
