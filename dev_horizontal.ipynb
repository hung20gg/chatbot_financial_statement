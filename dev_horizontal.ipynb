{
 "cells": [
  {
   "cell_type": "code",
   "execution_count": null,
   "metadata": {},
   "outputs": [
    {
     "name": "stderr",
     "output_type": "stream",
     "text": [
      "c:\\Users\\Admin\\go_pro\\finance_chatbot\\group_2_chatbot_financial_statement\\env\\lib\\site-packages\\tqdm\\auto.py:21: TqdmWarning: IProgress not found. Please update jupyter and ipywidgets. See https://ipywidgets.readthedocs.io/en/stable/user_install.html\n",
      "  from .autonotebook import tqdm as notebook_tqdm\n"
     ]
    }
   ],
   "source": [
    "from langchain_huggingface import HuggingFaceEmbeddings\n",
    "from langchain_openai import OpenAIEmbeddings\n",
    "import torch\n",
    "\n",
    "import os \n",
    "import dotenv\n",
    "dotenv.load_dotenv() \n",
    "\n",
    "device = torch.device('cuda' if torch.cuda.is_available() else 'cpu')\n",
    "# embedding_model = OpenAIEmbeddings(api_key=os.getenv('OPENAI_API_KEY'), model=\"text-embedding-3-small\")\n",
    "embedding_model = HuggingFaceEmbeddings(model_name='BAAI/bge-small-en-v1.5', model_kwargs = {'device': device})"
   ]
  },
  {
   "cell_type": "code",
   "execution_count": 6,
   "metadata": {},
   "outputs": [],
   "source": [
    "from langchain_chroma import Chroma"
   ]
  },
  {
   "cell_type": "markdown",
   "metadata": {},
   "source": [
    "## Requirement\n",
    "- Database \n",
    "- Vector DB for your own db"
   ]
  },
  {
   "cell_type": "code",
   "execution_count": 7,
   "metadata": {},
   "outputs": [
    {
     "name": "stderr",
     "output_type": "stream",
     "text": [
      "2024-12-13 22:21:35,837 - INFO - Anonymized telemetry enabled. See                     https://docs.trychroma.com/telemetry for more information.\n"
     ]
    }
   ],
   "source": [
    "from chromadb import Client, PersistentClient\n",
    "from chromadb.config import Settings\n",
    "\n",
    "client = PersistentClient(path = 'data/vector_db_vertical_local', settings = Settings())\n",
    "company_name_chroma = Chroma(client = client, embedding_function=embedding_model, collection_name='company_name_chroma')"
   ]
  },
  {
   "cell_type": "markdown",
   "metadata": {},
   "source": [
    "`company_name_chroma`: ChromaDB Client on langchain"
   ]
  },
  {
   "cell_type": "code",
   "execution_count": null,
   "metadata": {},
   "outputs": [],
   "source": []
  },
  {
   "cell_type": "code",
   "execution_count": 8,
   "metadata": {},
   "outputs": [],
   "source": [
    "from ETL.dbmanager import BaseDBHUB\n",
    "\n",
    "class NEWDBHUB(BaseDBHUB):\n",
    "    def __init__(self, db_config, chroma):\n",
    "        super().__init__(db_config)\n",
    "        self.chroma = chroma\n",
    "\n",
    "    def get_company_name_chroma(self, company_name):\n",
    "        return self.chroma.get_vector(company_name)"
   ]
  },
  {
   "cell_type": "code",
   "execution_count": 1,
   "metadata": {},
   "outputs": [],
   "source": [
    "text = \"\"\"\n",
    "-- ### financial_ratio\n",
    "\n",
    "SELECT \n",
    "    fr.stock_code,\n",
    "    fr.ratio_code,\n",
    "    ROUND(fr.data::numeric * 100, 2) AS ratio_percentage\n",
    "FROM \n",
    "    financial_ratio fr\n",
    "WHERE \n",
    "    fr.stock_code = 'BID'\n",
    "    AND fr.year = 2020\n",
    "    AND fr.quarter = 0\n",
    "    AND fr.ratio_code = 'ROA'\n",
    "LIMIT 1\n",
    "\n",
    "\"\"\""
   ]
  },
  {
   "cell_type": "code",
   "execution_count": 8,
   "metadata": {},
   "outputs": [],
   "source": [
    "import re\n",
    "def get_table_name_from_sql(sql_text):\n",
    "    pattern = r\"-- ###\\s*(.+)\"\n",
    "    matches = re.findall(pattern, sql_text)\n",
    "    if len(matches) > 0:\n",
    "        return matches[0]\n",
    "    return \"\""
   ]
  },
  {
   "cell_type": "code",
   "execution_count": 9,
   "metadata": {},
   "outputs": [
    {
     "data": {
      "text/plain": [
       "'financial_ratio'"
      ]
     },
     "execution_count": 9,
     "metadata": {},
     "output_type": "execute_result"
    }
   ],
   "source": [
    "get_table_name_from_sql(text)"
   ]
  }
 ],
 "metadata": {
  "kernelspec": {
   "display_name": "base",
   "language": "python",
   "name": "python3"
  },
  "language_info": {
   "codemirror_mode": {
    "name": "ipython",
    "version": 3
   },
   "file_extension": ".py",
   "mimetype": "text/x-python",
   "name": "python",
   "nbconvert_exporter": "python",
   "pygments_lexer": "ipython3",
   "version": "3.12.4"
  }
 },
 "nbformat": 4,
 "nbformat_minor": 2
}
