{
 "cells": [
  {
   "cell_type": "code",
   "execution_count": 1,
   "metadata": {},
   "outputs": [],
   "source": [
    "import pandas as pd \n",
    "import numpy as np \n",
    "import json\n",
    "import re\n"
   ]
  },
  {
   "cell_type": "code",
   "execution_count": 62,
   "metadata": {},
   "outputs": [],
   "source": [
    "data_path = '../data/train.jsonl'\n",
    "\n",
    "data = []\n",
    "with open(data_path, 'r') as f:\n",
    "    for line in f:\n",
    "        data.append(json.loads(line))"
   ]
  },
  {
   "cell_type": "code",
   "execution_count": 63,
   "metadata": {},
   "outputs": [
    {
     "data": {
      "text/plain": [
       "{'instruction': 'CREATE TABLE Comments (\\n    Id number,\\n    PostId number,\\n    Score number,\\n    Text text,\\n    CreationDate time,\\n    UserDisplayName text,\\n    UserId number,\\n    ContentLicense text\\n)\\n\\nCREATE TABLE ReviewRejectionReasons (\\n    Id number,\\n    Name text,\\n    Description text,\\n    PostTypeId number\\n)\\n\\nCREATE TABLE Badges (\\n    Id number,\\n    UserId number,\\n    Name text,\\n    Date time,\\n    Class number,\\n    TagBased boolean\\n)\\n\\nCREATE TABLE Users (\\n    Id number,\\n    Reputation number,\\n    CreationDate time,\\n    DisplayName text,\\n    LastAccessDate time,\\n    WebsiteUrl text,\\n    Location text,\\n    AboutMe text,\\n    Views number,\\n    UpVotes number,\\n    DownVotes number,\\n    ProfileImageUrl text,\\n    EmailHash text,\\n    AccountId number\\n)\\n\\nCREATE TABLE TagSynonyms (\\n    Id number,\\n    SourceTagName text,\\n    TargetTagName text,\\n    CreationDate time,\\n    OwnerUserId number,\\n    AutoRenameCount number,\\n    LastAutoRename time,\\n    Score number,\\n    ApprovedByUserId number,\\n    ApprovalDate time\\n)\\n\\nCREATE TABLE VoteTypes (\\n    Id number,\\n    Name text\\n)\\n\\nCREATE TABLE PostNotices (\\n    Id number,\\n    PostId number,\\n    PostNoticeTypeId number,\\n    CreationDate time,\\n    DeletionDate time,\\n    ExpiryDate time,\\n    Body text,\\n    OwnerUserId number,\\n    DeletionUserId number\\n)\\n\\nCREATE TABLE CloseAsOffTopicReasonTypes (\\n    Id number,\\n    IsUniversal boolean,\\n    InputTitle text,\\n    MarkdownInputGuidance text,\\n    MarkdownPostOwnerGuidance text,\\n    MarkdownPrivilegedUserGuidance text,\\n    MarkdownConcensusDescription text,\\n    CreationDate time,\\n    CreationModeratorId number,\\n    ApprovalDate time,\\n    ApprovalModeratorId number,\\n    DeactivationDate time,\\n    DeactivationModeratorId number\\n)\\n\\nCREATE TABLE SuggestedEditVotes (\\n    Id number,\\n    SuggestedEditId number,\\n    UserId number,\\n    VoteTypeId number,\\n    CreationDate time,\\n    TargetUserId number,\\n    TargetRepChange number\\n)\\n\\nCREATE TABLE ReviewTaskTypes (\\n    Id number,\\n    Name text,\\n    Description text\\n)\\n\\nCREATE TABLE PostHistoryTypes (\\n    Id number,\\n    Name text\\n)\\n\\nCREATE TABLE PostTags (\\n    PostId number,\\n    TagId number\\n)\\n\\nCREATE TABLE Votes (\\n    Id number,\\n    PostId number,\\n    VoteTypeId number,\\n    UserId number,\\n    CreationDate time,\\n    BountyAmount number\\n)\\n\\nCREATE TABLE Posts (\\n    Id number,\\n    PostTypeId number,\\n    AcceptedAnswerId number,\\n    ParentId number,\\n    CreationDate time,\\n    DeletionDate time,\\n    Score number,\\n    ViewCount number,\\n    Body text,\\n    OwnerUserId number,\\n    OwnerDisplayName text,\\n    LastEditorUserId number,\\n    LastEditorDisplayName text,\\n    LastEditDate time,\\n    LastActivityDate time,\\n    Title text,\\n    Tags text,\\n    AnswerCount number,\\n    CommentCount number,\\n    FavoriteCount number,\\n    ClosedDate time,\\n    CommunityOwnedDate time,\\n    ContentLicense text\\n)\\n\\nCREATE TABLE PostTypes (\\n    Id number,\\n    Name text\\n)\\n\\nCREATE TABLE ReviewTaskResultTypes (\\n    Id number,\\n    Name text,\\n    Description text\\n)\\n\\nCREATE TABLE PostNoticeTypes (\\n    Id number,\\n    ClassId number,\\n    Name text,\\n    Body text,\\n    IsHidden boolean,\\n    Predefined boolean,\\n    PostNoticeDurationId number\\n)\\n\\nCREATE TABLE FlagTypes (\\n    Id number,\\n    Name text,\\n    Description text\\n)\\n\\nCREATE TABLE Tags (\\n    Id number,\\n    TagName text,\\n    Count number,\\n    ExcerptPostId number,\\n    WikiPostId number\\n)\\n\\nCREATE TABLE ReviewTasks (\\n    Id number,\\n    ReviewTaskTypeId number,\\n    CreationDate time,\\n    DeletionDate time,\\n    ReviewTaskStateId number,\\n    PostId number,\\n    SuggestedEditId number,\\n    CompletedByReviewTaskId number\\n)\\n\\nCREATE TABLE PostsWithDeleted (\\n    Id number,\\n    PostTypeId number,\\n    AcceptedAnswerId number,\\n    ParentId number,\\n    CreationDate time,\\n    DeletionDate time,\\n    Score number,\\n    ViewCount number,\\n    Body text,\\n    OwnerUserId number,\\n    OwnerDisplayName text,\\n    LastEditorUserId number,\\n    LastEditorDisplayName text,\\n    LastEditDate time,\\n    LastActivityDate time,\\n    Title text,\\n    Tags text,\\n    AnswerCount number,\\n    CommentCount number,\\n    FavoriteCount number,\\n    ClosedDate time,\\n    CommunityOwnedDate time,\\n    ContentLicense text\\n)\\n\\nCREATE TABLE PostFeedback (\\n    Id number,\\n    PostId number,\\n    IsAnonymous boolean,\\n    VoteTypeId number,\\n    CreationDate time\\n)\\n\\nCREATE TABLE CloseReasonTypes (\\n    Id number,\\n    Name text,\\n    Description text\\n)\\n\\nCREATE TABLE ReviewTaskResults (\\n    Id number,\\n    ReviewTaskId number,\\n    ReviewTaskResultTypeId number,\\n    CreationDate time,\\n    RejectionReasonId number,\\n    Comment text\\n)\\n\\nCREATE TABLE ReviewTaskStates (\\n    Id number,\\n    Name text,\\n    Description text\\n)\\n\\nCREATE TABLE PostLinks (\\n    Id number,\\n    CreationDate time,\\n    PostId number,\\n    RelatedPostId number,\\n    LinkTypeId number\\n)\\n\\nCREATE TABLE PostHistory (\\n    Id number,\\n    PostHistoryTypeId number,\\n    PostId number,\\n    RevisionGUID other,\\n    CreationDate time,\\n    UserId number,\\n    UserDisplayName text,\\n    Comment text,\\n    Text text,\\n    ContentLicense text\\n)\\n\\nCREATE TABLE SuggestedEdits (\\n    Id number,\\n    PostId number,\\n    CreationDate time,\\n    ApprovalDate time,\\n    RejectionDate time,\\n    OwnerUserId number,\\n    Comment text,\\n    Text text,\\n    Title text,\\n    Tags text,\\n    RevisionGUID other\\n)\\n\\nCREATE TABLE PendingFlags (\\n    Id number,\\n    FlagTypeId number,\\n    PostId number,\\n    CreationDate time,\\n    CloseReasonTypeId number,\\n    CloseAsOffTopicReasonTypeId number,\\n    DuplicateOfQuestionId number,\\n    BelongsOnBaseHostAddress text\\n)\\n\\n\\n-- Using valid SQLite, answer the following questions for the tables provided above.\\n\\n-- JanitorTags: tag:Linux but focused on a distro (pacman).\\n',\n",
       " 'output': 'SELECT Id AS \"post_link\", * FROM Posts JOIN PostTags ON Posts.Id = PostTags.PostId WHERE PostTags.TagId = 4 AND Body LIKE \\'%pacman%\\' ORDER BY CreationDate DESC',\n",
       " 'source': 'sede'}"
      ]
     },
     "execution_count": 63,
     "metadata": {},
     "output_type": "execute_result"
    }
   ],
   "source": [
    "data[0]"
   ]
  },
  {
   "cell_type": "code",
   "execution_count": 64,
   "metadata": {},
   "outputs": [],
   "source": [
    "import re\n",
    "\n",
    "def analyze_sql_complexity(sql_query):\n",
    "    sql_query_cleaned = \"\\n\".join([line.strip() for line in sql_query.splitlines() if line.strip() and not line.strip().startswith(\"--\")])\n",
    "    \n",
    "    # print(\"SQL Query after removing comments and excess whitespace:\")\n",
    "    # print(sql_query_cleaned)\n",
    "    # print(\"\\n--- Breakdown of SQL Query Counting ---\")\n",
    "\n",
    "    keywords = r\"\\b(SELECT|FROM|WHERE|GROUP BY|ORDER BY|JOIN|INNER JOIN|LEFT JOIN|RIGHT JOIN|UNION|EXCEPT|INTERSECT|HAVING|WITH|LIMIT|OFFSET|BETWEEN|IN|IS NULL|IS NOT NULL|DISTINCT|AND|OR|NOT|LIKE|IS|NULL|COUNT|SUM|AVG|MAX|MIN|EXISTS|ANY|ALL|COALESCE|IFNULL|RANK\\(\\)|DENSE_RANK\\(\\)|ROW_NUMBER\\(\\))\\b\"\n",
    "    matches = re.findall(keywords, sql_query_cleaned)\n",
    "    total_lines = len(matches)\n",
    "\n",
    "    operations = {\n",
    "        \"JOIN\": len(re.findall(r\"\\bJOIN\\b\", sql_query_cleaned)),\n",
    "        \"INNER JOIN\": len(re.findall(r\"\\bINNER JOIN\\b\", sql_query_cleaned)),\n",
    "        \"LEFT JOIN\": len(re.findall(r\"\\bLEFT JOIN\\b\", sql_query_cleaned)),\n",
    "        \"RIGHT JOIN\": len(re.findall(r\"\\bRIGHT JOIN\\b\", sql_query_cleaned)),\n",
    "        \"CROSS JOIN\": len(re.findall(r\"\\bCROSS JOIN\\b\", sql_query_cleaned)),\n",
    "        \"SELF JOIN\": len(re.findall(r\"\\bSELF JOIN\\b\", sql_query_cleaned)),\n",
    "        \"LEFT OUTER JOIN\": len(re.findall(r\"\\bLEFT OUTER JOIN\\b\", sql_query_cleaned)),\n",
    "        \"RIGHT OUTER JOIN\": len(re.findall(r\"\\bRIGHT OUTER JOIN\\b\", sql_query_cleaned)),\n",
    "        \"OUTER JOIN\": len(re.findall(r\"\\bOUTER JOIN\\b\", sql_query_cleaned)),\n",
    "        \"UNION\": len(re.findall(r\"\\bUNION\\b\", sql_query_cleaned)),\n",
    "        \"UNION ALL\": len(re.findall(r\"\\bUNION ALL\\b\", sql_query_cleaned)),\n",
    "        \"EXCEPT\": len(re.findall(r\"\\bEXCEPT\\b\", sql_query_cleaned)),\n",
    "        \"EXCEPT ALL\": len(re.findall(r\"\\bEXCEPT ALL\\b\", sql_query_cleaned)),\n",
    "        \"INTERSECT\": len(re.findall(r\"\\bINTERSECT\\b\", sql_query_cleaned)),\n",
    "        \"INTERSECT ALL\": len(re.findall(r\"\\bINTERSECT ALL\\b\", sql_query_cleaned)),\n",
    "        \"ORDER BY\": len(re.findall(r\"\\bORDER BY\\b\", sql_query_cleaned)),\n",
    "        \"GROUP BY\": len(re.findall(r\"\\bGROUP BY\\b\", sql_query_cleaned)),\n",
    "        \"WITH\": len(re.findall(r\"\\bWITH\\b\", sql_query_cleaned)),  # CTEs\n",
    "        \"HAVING\": len(re.findall(r\"\\bHAVING\\b\", sql_query_cleaned)),\n",
    "        \"DISTINCT\": len(re.findall(r\"\\bDISTINCT\\b\", sql_query_cleaned)),\n",
    "        \"LIMIT\": len(re.findall(r\"\\bLIMIT\\b\", sql_query_cleaned)),\n",
    "        \"OFFSET\": len(re.findall(r\"\\bOFFSET\\b\", sql_query_cleaned)),\n",
    "        \"LIKE\": len(re.findall(r\"\\bLIKE\\b\", sql_query_cleaned)),\n",
    "        \"IN\": len(re.findall(r\"\\bIN\\b\", sql_query_cleaned)),\n",
    "        \"BETWEEN\": len(re.findall(r\"\\bBETWEEN\\b\", sql_query_cleaned)),\n",
    "        \"IS NULL\": len(re.findall(r\"\\bIS NULL\\b\", sql_query_cleaned)),\n",
    "        \"IS NOT NULL\": len(re.findall(r\"\\bIS NOT NULL\\b\", sql_query_cleaned)),\n",
    "        \"NULL\": len(re.findall(r\"\\bNULL\\b\", sql_query_cleaned)),\n",
    "        \"COUNT\": len(re.findall(r\"\\bCOUNT\\b\", sql_query_cleaned)),\n",
    "        \"SUM\": len(re.findall(r\"\\bSUM\\b\", sql_query_cleaned)),\n",
    "        \"AVG\": len(re.findall(r\"\\bAVG\\b\", sql_query_cleaned)),\n",
    "        \"MAX\": len(re.findall(r\"\\bMAX\\b\", sql_query_cleaned)),\n",
    "        \"MIN\": len(re.findall(r\"\\bMIN\\b\", sql_query_cleaned)),\n",
    "        \"EXISTS\": len(re.findall(r\"\\bEXISTS\\b\", sql_query_cleaned)),\n",
    "        \"ANY\": len(re.findall(r\"\\bANY\\b\", sql_query_cleaned)),\n",
    "        \"ALL\": len(re.findall(r\"\\bALL\\b\", sql_query_cleaned)),\n",
    "        \"COALESCE\": len(re.findall(r\"\\bCOALESCE\\b\", sql_query_cleaned)),\n",
    "        \"IFNULL\": len(re.findall(r\"\\bIFNULL\\b\", sql_query_cleaned)),\n",
    "        \"RANK()\": len(re.findall(r\"\\bRANK\\(\\)\", sql_query_cleaned)),\n",
    "        \"DENSE_RANK()\": len(re.findall(r\"\\bDENSE_RANK\\(\\)\", sql_query_cleaned)),\n",
    "        \"ROW_NUMBER()\": len(re.findall(r\"\\bROW_NUMBER\\(\\)\", sql_query_cleaned)),\n",
    "    }\n",
    "\n",
    "    # for operation, count in operations.items():\n",
    "    #     print(f\"{operation}: {count}\")\n",
    "\n",
    "    # print(f\"\\nTotal logical lines (including functions and keywords): {total_lines}\")\n",
    "\n",
    "    total_operations = sum(operations.values())\n",
    "    length = len(sql_query_cleaned.split())\n",
    "    complexity_score = total_operations / max(length, 30)\n",
    "\n",
    "    # print(\"\\n--- Operation Counts ---\")\n",
    "    # for operation, count in operations.items():\n",
    "    #     if count > 0:\n",
    "            # print(f\"Found '{operation}': {count} occurrence(s)\")\n",
    "\n",
    "    # print(f\"\\nTotal logical lines (functions/keywords in uppercase): {total_lines}\")\n",
    "    # print(f\"Total operations count: {total_operations}\")\n",
    "    # print(f\"Complexity score (operations per logical line): {complexity_score:.2f}\")\n",
    "    \n",
    "    return {\n",
    "        \"total_lines\": total_lines,\n",
    "        \"operations\": operations,\n",
    "        \"total_operations\": total_operations,\n",
    "        \"complexity_score\": complexity_score\n",
    "    }\n",
    "\n"
   ]
  },
  {
   "cell_type": "code",
   "execution_count": 65,
   "metadata": {},
   "outputs": [],
   "source": [
    "df_data = []\n",
    "for d in data:\n",
    "    analyze_output = analyze_sql_complexity(d[\"output\"])\n",
    "    df_data.append({\n",
    "        \"instruction\": d[\"instruction\"],\n",
    "        \"output\": f'```sql\\n{d[\"output\"]}\\n```',\n",
    "        \"source\": d[\"source\"],\n",
    "        \"complexity\": analyze_output[\"complexity_score\"],\n",
    "        \"total_lines\": analyze_output[\"total_lines\"],\n",
    "        \"total_operations\": analyze_output[\"total_operations\"],\n",
    "        \n",
    "    })"
   ]
  },
  {
   "cell_type": "code",
   "execution_count": 66,
   "metadata": {},
   "outputs": [],
   "source": [
    "df = pd.DataFrame(df_data)"
   ]
  },
  {
   "cell_type": "code",
   "execution_count": 67,
   "metadata": {},
   "outputs": [
    {
     "data": {
      "text/plain": [
       "<Axes: >"
      ]
     },
     "execution_count": 67,
     "metadata": {},
     "output_type": "execute_result"
    },
    {
     "data": {
      "image/png": "[encoded data removed]",
      "text/plain": [
       "<Figure size 640x480 with 1 Axes>"
      ]
     },
     "metadata": {},
     "output_type": "display_data"
    }
   ],
   "source": [
    "df[\"complexity\"].hist(bins=100)"
   ]
  },
  {
   "cell_type": "code",
   "execution_count": 68,
   "metadata": {},
   "outputs": [
    {
     "data": {
      "text/plain": [
       "98634"
      ]
     },
     "execution_count": 68,
     "metadata": {},
     "output_type": "execute_result"
    }
   ],
   "source": [
    "np.sum((df[\"complexity\"] >= 0.04)&(df[\"complexity\"] < 0.3))"
   ]
  },
  {
   "cell_type": "code",
   "execution_count": 69,
   "metadata": {},
   "outputs": [],
   "source": [
    "df_selected = df[(df[\"complexity\"] >= 0.04)&(df[\"complexity\"] < 0.3)]"
   ]
  },
  {
   "cell_type": "code",
   "execution_count": 70,
   "metadata": {},
   "outputs": [
    {
     "name": "stderr",
     "output_type": "stream",
     "text": [
      "/tmp/ipykernel_23493/3814342029.py:30: SettingWithCopyWarning: \n",
      "A value is trying to be set on a copy of a slice from a DataFrame.\n",
      "Try using .loc[row_indexer,col_indexer] = value instead\n",
      "\n",
      "See the caveats in the documentation: https://pandas.pydata.org/pandas-docs/stable/user_guide/indexing.html#returning-a-view-versus-a-copy\n",
      "  df_selected[\"template\"] = df_selected.apply(lambda x: return_template(x[\"instruction\"], x[\"output\"]), axis=1)\n"
     ]
    }
   ],
   "source": [
    "import random\n",
    "def return_template(instruction, output):\n",
    "    \n",
    "    prompt = f\"\"\"-- Database schema:\\n\\n{instruction}\"\"\"\n",
    "\n",
    "    messages = []\n",
    "    choices = random.randint(1, 4)\n",
    "    if choices == 2:\n",
    "        messages.append(\n",
    "            {\n",
    "                \"role\": \"system\",\n",
    "                \"content\": f\"You are an Text2SQL Agent. You need to return the SQL query based on user request.\"\n",
    "            }\n",
    "        )\n",
    "    messages.append(\n",
    "        {\n",
    "            \"role\": \"user\",\n",
    "            \"content\": prompt\n",
    "        }\n",
    "    )\n",
    "    messages.append(\n",
    "        {\n",
    "            \"role\": \"assistant\",\n",
    "            \"content\": output\n",
    "        }\n",
    "    )\n",
    "\n",
    "    return messages\n",
    "\n",
    "df_selected[\"template\"] = df_selected.apply(lambda x: return_template(x[\"instruction\"], x[\"output\"]), axis=1)"
   ]
  },
  {
   "cell_type": "code",
   "execution_count": 71,
   "metadata": {},
   "outputs": [],
   "source": [
    "output = df_selected[\"template\"].tolist()\n",
    "output_path = '../data/train_nstext2sql.json'\n",
    "\n",
    "result = []\n",
    "for obj in output:\n",
    "    result.append(\n",
    "        {\n",
    "            \"messages\": obj\n",
    "        }\n",
    "    )\n",
    "\n",
    "with open(output_path, 'w') as f:\n",
    "    f.write(json.dumps(result, indent=4))"
   ]
  },
  {
   "cell_type": "code",
   "execution_count": 38,
   "metadata": {},
   "outputs": [],
   "source": [
    "synthetic_path = '../data/synthetic_text_to_sql_train.snappy.parquet'\n",
    "\n",
    "df = pd.read_parquet(synthetic_path)"
   ]
  },
  {
   "cell_type": "code",
   "execution_count": 40,
   "metadata": {},
   "outputs": [],
   "source": [
    "def wrapper_analyze_sql_complexity(sql_query):\n",
    "    result = analyze_sql_complexity(sql_query)\n",
    "    \n",
    "    return result[\"complexity_score\"]"
   ]
  },
  {
   "cell_type": "code",
   "execution_count": 41,
   "metadata": {},
   "outputs": [
    {
     "data": {
      "text/html": [
       "<div>\n",
       "<style scoped>\n",
       "    .dataframe tbody tr th:only-of-type {\n",
       "        vertical-align: middle;\n",
       "    }\n",
       "\n",
       "    .dataframe tbody tr th {\n",
       "        vertical-align: top;\n",
       "    }\n",
       "\n",
       "    .dataframe thead th {\n",
       "        text-align: right;\n",
       "    }\n",
       "</style>\n",
       "<table border=\"1\" class=\"dataframe\">\n",
       "  <thead>\n",
       "    <tr style=\"text-align: right;\">\n",
       "      <th></th>\n",
       "      <th>id</th>\n",
       "      <th>domain</th>\n",
       "      <th>domain_description</th>\n",
       "      <th>sql_complexity</th>\n",
       "      <th>sql_complexity_description</th>\n",
       "      <th>sql_task_type</th>\n",
       "      <th>sql_task_type_description</th>\n",
       "      <th>sql_prompt</th>\n",
       "      <th>sql_context</th>\n",
       "      <th>sql</th>\n",
       "      <th>sql_explanation</th>\n",
       "    </tr>\n",
       "  </thead>\n",
       "  <tbody>\n",
       "    <tr>\n",
       "      <th>0</th>\n",
       "      <td>5097</td>\n",
       "      <td>forestry</td>\n",
       "      <td>Comprehensive data on sustainable forest manag...</td>\n",
       "      <td>single join</td>\n",
       "      <td>only one join (specify inner, outer, cross)</td>\n",
       "      <td>analytics and reporting</td>\n",
       "      <td>generating reports, dashboards, and analytical...</td>\n",
       "      <td>What is the total volume of timber sold by eac...</td>\n",
       "      <td>CREATE TABLE salesperson (salesperson_id INT, ...</td>\n",
       "      <td>SELECT salesperson_id, name, SUM(volume) as to...</td>\n",
       "      <td>Joins timber_sales and salesperson tables, gro...</td>\n",
       "    </tr>\n",
       "    <tr>\n",
       "      <th>1</th>\n",
       "      <td>5098</td>\n",
       "      <td>defense industry</td>\n",
       "      <td>Defense contract data, military equipment main...</td>\n",
       "      <td>aggregation</td>\n",
       "      <td>aggregation functions (COUNT, SUM, AVG, MIN, M...</td>\n",
       "      <td>analytics and reporting</td>\n",
       "      <td>generating reports, dashboards, and analytical...</td>\n",
       "      <td>List all the unique equipment types and their ...</td>\n",
       "      <td>CREATE TABLE equipment_maintenance (equipment_...</td>\n",
       "      <td>SELECT equipment_type, SUM(maintenance_frequen...</td>\n",
       "      <td>This query groups the equipment_maintenance ta...</td>\n",
       "    </tr>\n",
       "    <tr>\n",
       "      <th>2</th>\n",
       "      <td>5099</td>\n",
       "      <td>marine biology</td>\n",
       "      <td>Comprehensive data on marine species, oceanogr...</td>\n",
       "      <td>basic SQL</td>\n",
       "      <td>basic SQL with a simple select statement</td>\n",
       "      <td>analytics and reporting</td>\n",
       "      <td>generating reports, dashboards, and analytical...</td>\n",
       "      <td>How many marine species are found in the South...</td>\n",
       "      <td>CREATE TABLE marine_species (name VARCHAR(50),...</td>\n",
       "      <td>SELECT COUNT(*) FROM marine_species WHERE loca...</td>\n",
       "      <td>This query counts the number of marine species...</td>\n",
       "    </tr>\n",
       "    <tr>\n",
       "      <th>3</th>\n",
       "      <td>5100</td>\n",
       "      <td>financial services</td>\n",
       "      <td>Detailed financial data including investment s...</td>\n",
       "      <td>aggregation</td>\n",
       "      <td>aggregation functions (COUNT, SUM, AVG, MIN, M...</td>\n",
       "      <td>analytics and reporting</td>\n",
       "      <td>generating reports, dashboards, and analytical...</td>\n",
       "      <td>What is the total trade value and average pric...</td>\n",
       "      <td>CREATE TABLE trade_history (id INT, trader_id ...</td>\n",
       "      <td>SELECT trader_id, stock, SUM(price * quantity)...</td>\n",
       "      <td>This query calculates the total trade value an...</td>\n",
       "    </tr>\n",
       "    <tr>\n",
       "      <th>4</th>\n",
       "      <td>5101</td>\n",
       "      <td>energy</td>\n",
       "      <td>Energy market data covering renewable energy s...</td>\n",
       "      <td>window functions</td>\n",
       "      <td>window functions (e.g., ROW_NUMBER, LEAD, LAG,...</td>\n",
       "      <td>analytics and reporting</td>\n",
       "      <td>generating reports, dashboards, and analytical...</td>\n",
       "      <td>Find the energy efficiency upgrades with the h...</td>\n",
       "      <td>CREATE TABLE upgrades (id INT, cost FLOAT, typ...</td>\n",
       "      <td>SELECT type, cost FROM (SELECT type, cost, ROW...</td>\n",
       "      <td>The SQL query uses the ROW_NUMBER function to ...</td>\n",
       "    </tr>\n",
       "    <tr>\n",
       "      <th>...</th>\n",
       "      <td>...</td>\n",
       "      <td>...</td>\n",
       "      <td>...</td>\n",
       "      <td>...</td>\n",
       "      <td>...</td>\n",
       "      <td>...</td>\n",
       "      <td>...</td>\n",
       "      <td>...</td>\n",
       "      <td>...</td>\n",
       "      <td>...</td>\n",
       "      <td>...</td>\n",
       "    </tr>\n",
       "    <tr>\n",
       "      <th>99995</th>\n",
       "      <td>89651</td>\n",
       "      <td>nonprofit</td>\n",
       "      <td>Nonprofit data on charitable giving trends, so...</td>\n",
       "      <td>basic SQL</td>\n",
       "      <td>basic SQL with a simple select statement</td>\n",
       "      <td>analytics and reporting</td>\n",
       "      <td>generating reports, dashboards, and analytical...</td>\n",
       "      <td>Which programs had the highest volunteer parti...</td>\n",
       "      <td>CREATE TABLE programs (program_id INT, num_vol...</td>\n",
       "      <td>SELECT program_id, (num_volunteers / total_par...</td>\n",
       "      <td>This query calculates the participation rate f...</td>\n",
       "    </tr>\n",
       "    <tr>\n",
       "      <th>99996</th>\n",
       "      <td>89652</td>\n",
       "      <td>retail</td>\n",
       "      <td>Retail data on circular supply chains, ethical...</td>\n",
       "      <td>single join</td>\n",
       "      <td>only one join (specify inner, outer, cross)</td>\n",
       "      <td>analytics and reporting</td>\n",
       "      <td>generating reports, dashboards, and analytical...</td>\n",
       "      <td>What is the number of fair-trade certified acc...</td>\n",
       "      <td>CREATE TABLE products (product_id INT, product...</td>\n",
       "      <td>SELECT COUNT(*) FROM products WHERE is_fair_tr...</td>\n",
       "      <td>The query counts the number of fair-trade cert...</td>\n",
       "    </tr>\n",
       "    <tr>\n",
       "      <th>99997</th>\n",
       "      <td>89653</td>\n",
       "      <td>fitness industry</td>\n",
       "      <td>Workout data, membership demographics, wearabl...</td>\n",
       "      <td>single join</td>\n",
       "      <td>only one join (specify inner, outer, cross)</td>\n",
       "      <td>analytics and reporting</td>\n",
       "      <td>generating reports, dashboards, and analytical...</td>\n",
       "      <td>Find the user with the longest workout session...</td>\n",
       "      <td>CREATE TABLE workout_sessions (id INT, user_id...</td>\n",
       "      <td>SELECT u.name, MAX(session_duration) as max_du...</td>\n",
       "      <td>The query joins the workout_sessions and users...</td>\n",
       "    </tr>\n",
       "    <tr>\n",
       "      <th>99998</th>\n",
       "      <td>89654</td>\n",
       "      <td>space exploration</td>\n",
       "      <td>Spacecraft manufacturing data, space mission r...</td>\n",
       "      <td>single join</td>\n",
       "      <td>only one join (specify inner, outer, cross)</td>\n",
       "      <td>analytics and reporting</td>\n",
       "      <td>generating reports, dashboards, and analytical...</td>\n",
       "      <td>How many space missions were completed by each...</td>\n",
       "      <td>CREATE TABLE SpaceMissions (id INT, astronaut_...</td>\n",
       "      <td>SELECT a.name, COUNT(sm.id) FROM Astronauts a ...</td>\n",
       "      <td>This query calculates the number of space miss...</td>\n",
       "    </tr>\n",
       "    <tr>\n",
       "      <th>99999</th>\n",
       "      <td>89655</td>\n",
       "      <td>wildlife conservation</td>\n",
       "      <td>Animal population data, habitat preservation e...</td>\n",
       "      <td>basic SQL</td>\n",
       "      <td>basic SQL with a simple select statement</td>\n",
       "      <td>analytics and reporting</td>\n",
       "      <td>generating reports, dashboards, and analytical...</td>\n",
       "      <td>Determine the number of unique animal species ...</td>\n",
       "      <td>CREATE TABLE animal_population (id INT, animal...</td>\n",
       "      <td>SELECT COUNT(DISTINCT animal_species) AS uniqu...</td>\n",
       "      <td>This query calculates the number of unique ani...</td>\n",
       "    </tr>\n",
       "  </tbody>\n",
       "</table>\n",
       "<p>100000 rows × 11 columns</p>\n",
       "</div>"
      ],
      "text/plain": [
       "          id                 domain  \\\n",
       "0       5097               forestry   \n",
       "1       5098       defense industry   \n",
       "2       5099         marine biology   \n",
       "3       5100     financial services   \n",
       "4       5101                 energy   \n",
       "...      ...                    ...   \n",
       "99995  89651              nonprofit   \n",
       "99996  89652                 retail   \n",
       "99997  89653       fitness industry   \n",
       "99998  89654      space exploration   \n",
       "99999  89655  wildlife conservation   \n",
       "\n",
       "                                      domain_description    sql_complexity  \\\n",
       "0      Comprehensive data on sustainable forest manag...       single join   \n",
       "1      Defense contract data, military equipment main...       aggregation   \n",
       "2      Comprehensive data on marine species, oceanogr...         basic SQL   \n",
       "3      Detailed financial data including investment s...       aggregation   \n",
       "4      Energy market data covering renewable energy s...  window functions   \n",
       "...                                                  ...               ...   \n",
       "99995  Nonprofit data on charitable giving trends, so...         basic SQL   \n",
       "99996  Retail data on circular supply chains, ethical...       single join   \n",
       "99997  Workout data, membership demographics, wearabl...       single join   \n",
       "99998  Spacecraft manufacturing data, space mission r...       single join   \n",
       "99999  Animal population data, habitat preservation e...         basic SQL   \n",
       "\n",
       "                              sql_complexity_description  \\\n",
       "0            only one join (specify inner, outer, cross)   \n",
       "1      aggregation functions (COUNT, SUM, AVG, MIN, M...   \n",
       "2               basic SQL with a simple select statement   \n",
       "3      aggregation functions (COUNT, SUM, AVG, MIN, M...   \n",
       "4      window functions (e.g., ROW_NUMBER, LEAD, LAG,...   \n",
       "...                                                  ...   \n",
       "99995           basic SQL with a simple select statement   \n",
       "99996        only one join (specify inner, outer, cross)   \n",
       "99997        only one join (specify inner, outer, cross)   \n",
       "99998        only one join (specify inner, outer, cross)   \n",
       "99999           basic SQL with a simple select statement   \n",
       "\n",
       "                 sql_task_type  \\\n",
       "0      analytics and reporting   \n",
       "1      analytics and reporting   \n",
       "2      analytics and reporting   \n",
       "3      analytics and reporting   \n",
       "4      analytics and reporting   \n",
       "...                        ...   \n",
       "99995  analytics and reporting   \n",
       "99996  analytics and reporting   \n",
       "99997  analytics and reporting   \n",
       "99998  analytics and reporting   \n",
       "99999  analytics and reporting   \n",
       "\n",
       "                               sql_task_type_description  \\\n",
       "0      generating reports, dashboards, and analytical...   \n",
       "1      generating reports, dashboards, and analytical...   \n",
       "2      generating reports, dashboards, and analytical...   \n",
       "3      generating reports, dashboards, and analytical...   \n",
       "4      generating reports, dashboards, and analytical...   \n",
       "...                                                  ...   \n",
       "99995  generating reports, dashboards, and analytical...   \n",
       "99996  generating reports, dashboards, and analytical...   \n",
       "99997  generating reports, dashboards, and analytical...   \n",
       "99998  generating reports, dashboards, and analytical...   \n",
       "99999  generating reports, dashboards, and analytical...   \n",
       "\n",
       "                                              sql_prompt  \\\n",
       "0      What is the total volume of timber sold by eac...   \n",
       "1      List all the unique equipment types and their ...   \n",
       "2      How many marine species are found in the South...   \n",
       "3      What is the total trade value and average pric...   \n",
       "4      Find the energy efficiency upgrades with the h...   \n",
       "...                                                  ...   \n",
       "99995  Which programs had the highest volunteer parti...   \n",
       "99996  What is the number of fair-trade certified acc...   \n",
       "99997  Find the user with the longest workout session...   \n",
       "99998  How many space missions were completed by each...   \n",
       "99999  Determine the number of unique animal species ...   \n",
       "\n",
       "                                             sql_context  \\\n",
       "0      CREATE TABLE salesperson (salesperson_id INT, ...   \n",
       "1      CREATE TABLE equipment_maintenance (equipment_...   \n",
       "2      CREATE TABLE marine_species (name VARCHAR(50),...   \n",
       "3      CREATE TABLE trade_history (id INT, trader_id ...   \n",
       "4      CREATE TABLE upgrades (id INT, cost FLOAT, typ...   \n",
       "...                                                  ...   \n",
       "99995  CREATE TABLE programs (program_id INT, num_vol...   \n",
       "99996  CREATE TABLE products (product_id INT, product...   \n",
       "99997  CREATE TABLE workout_sessions (id INT, user_id...   \n",
       "99998  CREATE TABLE SpaceMissions (id INT, astronaut_...   \n",
       "99999  CREATE TABLE animal_population (id INT, animal...   \n",
       "\n",
       "                                                     sql  \\\n",
       "0      SELECT salesperson_id, name, SUM(volume) as to...   \n",
       "1      SELECT equipment_type, SUM(maintenance_frequen...   \n",
       "2      SELECT COUNT(*) FROM marine_species WHERE loca...   \n",
       "3      SELECT trader_id, stock, SUM(price * quantity)...   \n",
       "4      SELECT type, cost FROM (SELECT type, cost, ROW...   \n",
       "...                                                  ...   \n",
       "99995  SELECT program_id, (num_volunteers / total_par...   \n",
       "99996  SELECT COUNT(*) FROM products WHERE is_fair_tr...   \n",
       "99997  SELECT u.name, MAX(session_duration) as max_du...   \n",
       "99998  SELECT a.name, COUNT(sm.id) FROM Astronauts a ...   \n",
       "99999  SELECT COUNT(DISTINCT animal_species) AS uniqu...   \n",
       "\n",
       "                                         sql_explanation  \n",
       "0      Joins timber_sales and salesperson tables, gro...  \n",
       "1      This query groups the equipment_maintenance ta...  \n",
       "2      This query counts the number of marine species...  \n",
       "3      This query calculates the total trade value an...  \n",
       "4      The SQL query uses the ROW_NUMBER function to ...  \n",
       "...                                                  ...  \n",
       "99995  This query calculates the participation rate f...  \n",
       "99996  The query counts the number of fair-trade cert...  \n",
       "99997  The query joins the workout_sessions and users...  \n",
       "99998  This query calculates the number of space miss...  \n",
       "99999  This query calculates the number of unique ani...  \n",
       "\n",
       "[100000 rows x 11 columns]"
      ]
     },
     "execution_count": 41,
     "metadata": {},
     "output_type": "execute_result"
    }
   ],
   "source": [
    "df"
   ]
  },
  {
   "cell_type": "code",
   "execution_count": 43,
   "metadata": {},
   "outputs": [],
   "source": [
    "df[\"score\"] = df[\"sql\"].apply(wrapper_analyze_sql_complexity)"
   ]
  },
  {
   "cell_type": "code",
   "execution_count": 44,
   "metadata": {},
   "outputs": [
    {
     "data": {
      "text/plain": [
       "<Axes: >"
      ]
     },
     "execution_count": 44,
     "metadata": {},
     "output_type": "execute_result"
    },
    {
     "data": {
      "image/png": "[encoded data removed]",
      "text/plain": [
       "<Figure size 640x480 with 1 Axes>"
      ]
     },
     "metadata": {},
     "output_type": "display_data"
    }
   ],
   "source": [
    "df[\"score\"].hist(bins=100)"
   ]
  },
  {
   "cell_type": "code",
   "execution_count": 53,
   "metadata": {},
   "outputs": [
    {
     "data": {
      "text/plain": [
       "84286"
      ]
     },
     "execution_count": 53,
     "metadata": {},
     "output_type": "execute_result"
    }
   ],
   "source": [
    "np.sum((df[\"score\"] >= 0.03)&(df[\"score\"] < 0.3))"
   ]
  },
  {
   "cell_type": "code",
   "execution_count": 54,
   "metadata": {},
   "outputs": [],
   "source": [
    "df_selected = df[(df[\"score\"] >= 0.03)&(df[\"score\"] < 0.3)]"
   ]
  },
  {
   "cell_type": "code",
   "execution_count": 59,
   "metadata": {},
   "outputs": [],
   "source": [
    "def template_synthetic(sql_prompt, sql_context, sql, sql_explanation):\n",
    "        \n",
    "        prompt = (f\"\"\"### Database schema:\\n\\n```sql\\n{sql_context}\\n```\\n\"\"\",\n",
    "                    f\"\"\"### User query:\\n\\n{sql_prompt}\\n\\n\"\"\",\n",
    "                    \"Return the SQL query and give detailed explaination based on user request.\\n\\n\")\n",
    "\n",
    "        prompt = \"\".join(prompt)\n",
    "    \n",
    "        messages = []\n",
    "        choices = random.randint(1, 4)\n",
    "        if choices == 2:\n",
    "            messages.append(\n",
    "                {\n",
    "                    \"role\": \"system\",\n",
    "                    \"content\": f\"You are an Text2SQL Agent.\"\n",
    "                }\n",
    "            )\n",
    "        messages.append(\n",
    "            {\n",
    "                \"role\": \"user\",\n",
    "                \"content\": prompt\n",
    "            }\n",
    "        )\n",
    "        messages.append(\n",
    "            {\n",
    "                \"role\": \"assistant\",\n",
    "                \"content\": f'### SQL Query:\\n```sql\\n{sql}\\n```\\n\\n### Explanation:\\n{sql_explanation}'\n",
    "            }\n",
    "        )\n",
    "    \n",
    "        return messages"
   ]
  },
  {
   "cell_type": "code",
   "execution_count": 60,
   "metadata": {},
   "outputs": [
    {
     "name": "stderr",
     "output_type": "stream",
     "text": [
      "/tmp/ipykernel_23493/378388645.py:1: SettingWithCopyWarning: \n",
      "A value is trying to be set on a copy of a slice from a DataFrame.\n",
      "Try using .loc[row_indexer,col_indexer] = value instead\n",
      "\n",
      "See the caveats in the documentation: https://pandas.pydata.org/pandas-docs/stable/user_guide/indexing.html#returning-a-view-versus-a-copy\n",
      "  df_selected[\"template\"] = df_selected.apply(lambda x: template_synthetic(x[\"sql_prompt\"], x[\"sql_context\"], x[\"sql\"], x[\"sql_explanation\"]), axis=1)\n"
     ]
    }
   ],
   "source": [
    "df_selected[\"template\"] = df_selected.apply(lambda x: template_synthetic(x[\"sql_prompt\"], x[\"sql_context\"], x[\"sql\"], x[\"sql_explanation\"]), axis=1)"
   ]
  },
  {
   "cell_type": "code",
   "execution_count": 61,
   "metadata": {},
   "outputs": [],
   "source": [
    "output = df_selected[\"template\"].tolist()\n",
    "output_path = '../data/synthetic_text_to_sql_train_nstext2sql.json'\n",
    "\n",
    "return_json = []\n",
    "for line in output:\n",
    "    return_json.append({\n",
    "        \"messages\": line\n",
    "    })\n",
    "with open(output_path, 'w') as f:\n",
    "    f.write(json.dumps(return_json, indent=4))"
   ]
  },
  {
   "cell_type": "code",
   "execution_count": 1,
   "metadata": {},
   "outputs": [],
   "source": [
    "import tiktoken\n",
    "\n",
    "def count_tokens(text: str, model: str = \"gpt-4\") -> int:\n",
    "    # Select the tokenizer for the model\n",
    "    encoding = tiktoken.encoding_for_model(model)\n",
    "    tokens = encoding.encode(text)\n",
    "    return len(tokens)"
   ]
  },
  {
   "cell_type": "code",
   "execution_count": 14,
   "metadata": {},
   "outputs": [],
   "source": [
    "import json\n",
    "path = '../data/train_nstext2sql.json'\n",
    "with open(path, 'r') as f:\n",
    "    data = json.load(f)"
   ]
  },
  {
   "cell_type": "code",
   "execution_count": 15,
   "metadata": {},
   "outputs": [
    {
     "data": {
      "text/plain": [
       "{'messages': [{'role': 'user',\n",
       "   'content': '-- Database schema:\\n\\nCREATE TABLE Comments (\\n    Id number,\\n    PostId number,\\n    Score number,\\n    Text text,\\n    CreationDate time,\\n    UserDisplayName text,\\n    UserId number,\\n    ContentLicense text\\n)\\n\\nCREATE TABLE ReviewRejectionReasons (\\n    Id number,\\n    Name text,\\n    Description text,\\n    PostTypeId number\\n)\\n\\nCREATE TABLE Badges (\\n    Id number,\\n    UserId number,\\n    Name text,\\n    Date time,\\n    Class number,\\n    TagBased boolean\\n)\\n\\nCREATE TABLE Users (\\n    Id number,\\n    Reputation number,\\n    CreationDate time,\\n    DisplayName text,\\n    LastAccessDate time,\\n    WebsiteUrl text,\\n    Location text,\\n    AboutMe text,\\n    Views number,\\n    UpVotes number,\\n    DownVotes number,\\n    ProfileImageUrl text,\\n    EmailHash text,\\n    AccountId number\\n)\\n\\nCREATE TABLE TagSynonyms (\\n    Id number,\\n    SourceTagName text,\\n    TargetTagName text,\\n    CreationDate time,\\n    OwnerUserId number,\\n    AutoRenameCount number,\\n    LastAutoRename time,\\n    Score number,\\n    ApprovedByUserId number,\\n    ApprovalDate time\\n)\\n\\nCREATE TABLE VoteTypes (\\n    Id number,\\n    Name text\\n)\\n\\nCREATE TABLE PostNotices (\\n    Id number,\\n    PostId number,\\n    PostNoticeTypeId number,\\n    CreationDate time,\\n    DeletionDate time,\\n    ExpiryDate time,\\n    Body text,\\n    OwnerUserId number,\\n    DeletionUserId number\\n)\\n\\nCREATE TABLE CloseAsOffTopicReasonTypes (\\n    Id number,\\n    IsUniversal boolean,\\n    InputTitle text,\\n    MarkdownInputGuidance text,\\n    MarkdownPostOwnerGuidance text,\\n    MarkdownPrivilegedUserGuidance text,\\n    MarkdownConcensusDescription text,\\n    CreationDate time,\\n    CreationModeratorId number,\\n    ApprovalDate time,\\n    ApprovalModeratorId number,\\n    DeactivationDate time,\\n    DeactivationModeratorId number\\n)\\n\\nCREATE TABLE SuggestedEditVotes (\\n    Id number,\\n    SuggestedEditId number,\\n    UserId number,\\n    VoteTypeId number,\\n    CreationDate time,\\n    TargetUserId number,\\n    TargetRepChange number\\n)\\n\\nCREATE TABLE ReviewTaskTypes (\\n    Id number,\\n    Name text,\\n    Description text\\n)\\n\\nCREATE TABLE PostHistoryTypes (\\n    Id number,\\n    Name text\\n)\\n\\nCREATE TABLE PostTags (\\n    PostId number,\\n    TagId number\\n)\\n\\nCREATE TABLE Votes (\\n    Id number,\\n    PostId number,\\n    VoteTypeId number,\\n    UserId number,\\n    CreationDate time,\\n    BountyAmount number\\n)\\n\\nCREATE TABLE Posts (\\n    Id number,\\n    PostTypeId number,\\n    AcceptedAnswerId number,\\n    ParentId number,\\n    CreationDate time,\\n    DeletionDate time,\\n    Score number,\\n    ViewCount number,\\n    Body text,\\n    OwnerUserId number,\\n    OwnerDisplayName text,\\n    LastEditorUserId number,\\n    LastEditorDisplayName text,\\n    LastEditDate time,\\n    LastActivityDate time,\\n    Title text,\\n    Tags text,\\n    AnswerCount number,\\n    CommentCount number,\\n    FavoriteCount number,\\n    ClosedDate time,\\n    CommunityOwnedDate time,\\n    ContentLicense text\\n)\\n\\nCREATE TABLE PostTypes (\\n    Id number,\\n    Name text\\n)\\n\\nCREATE TABLE ReviewTaskResultTypes (\\n    Id number,\\n    Name text,\\n    Description text\\n)\\n\\nCREATE TABLE PostNoticeTypes (\\n    Id number,\\n    ClassId number,\\n    Name text,\\n    Body text,\\n    IsHidden boolean,\\n    Predefined boolean,\\n    PostNoticeDurationId number\\n)\\n\\nCREATE TABLE FlagTypes (\\n    Id number,\\n    Name text,\\n    Description text\\n)\\n\\nCREATE TABLE Tags (\\n    Id number,\\n    TagName text,\\n    Count number,\\n    ExcerptPostId number,\\n    WikiPostId number\\n)\\n\\nCREATE TABLE ReviewTasks (\\n    Id number,\\n    ReviewTaskTypeId number,\\n    CreationDate time,\\n    DeletionDate time,\\n    ReviewTaskStateId number,\\n    PostId number,\\n    SuggestedEditId number,\\n    CompletedByReviewTaskId number\\n)\\n\\nCREATE TABLE PostsWithDeleted (\\n    Id number,\\n    PostTypeId number,\\n    AcceptedAnswerId number,\\n    ParentId number,\\n    CreationDate time,\\n    DeletionDate time,\\n    Score number,\\n    ViewCount number,\\n    Body text,\\n    OwnerUserId number,\\n    OwnerDisplayName text,\\n    LastEditorUserId number,\\n    LastEditorDisplayName text,\\n    LastEditDate time,\\n    LastActivityDate time,\\n    Title text,\\n    Tags text,\\n    AnswerCount number,\\n    CommentCount number,\\n    FavoriteCount number,\\n    ClosedDate time,\\n    CommunityOwnedDate time,\\n    ContentLicense text\\n)\\n\\nCREATE TABLE PostFeedback (\\n    Id number,\\n    PostId number,\\n    IsAnonymous boolean,\\n    VoteTypeId number,\\n    CreationDate time\\n)\\n\\nCREATE TABLE CloseReasonTypes (\\n    Id number,\\n    Name text,\\n    Description text\\n)\\n\\nCREATE TABLE ReviewTaskResults (\\n    Id number,\\n    ReviewTaskId number,\\n    ReviewTaskResultTypeId number,\\n    CreationDate time,\\n    RejectionReasonId number,\\n    Comment text\\n)\\n\\nCREATE TABLE ReviewTaskStates (\\n    Id number,\\n    Name text,\\n    Description text\\n)\\n\\nCREATE TABLE PostLinks (\\n    Id number,\\n    CreationDate time,\\n    PostId number,\\n    RelatedPostId number,\\n    LinkTypeId number\\n)\\n\\nCREATE TABLE PostHistory (\\n    Id number,\\n    PostHistoryTypeId number,\\n    PostId number,\\n    RevisionGUID other,\\n    CreationDate time,\\n    UserId number,\\n    UserDisplayName text,\\n    Comment text,\\n    Text text,\\n    ContentLicense text\\n)\\n\\nCREATE TABLE SuggestedEdits (\\n    Id number,\\n    PostId number,\\n    CreationDate time,\\n    ApprovalDate time,\\n    RejectionDate time,\\n    OwnerUserId number,\\n    Comment text,\\n    Text text,\\n    Title text,\\n    Tags text,\\n    RevisionGUID other\\n)\\n\\nCREATE TABLE PendingFlags (\\n    Id number,\\n    FlagTypeId number,\\n    PostId number,\\n    CreationDate time,\\n    CloseReasonTypeId number,\\n    CloseAsOffTopicReasonTypeId number,\\n    DuplicateOfQuestionId number,\\n    BelongsOnBaseHostAddress text\\n)\\n\\n\\n-- Using valid SQLite, answer the following questions for the tables provided above.\\n\\n-- JanitorTags: tag:Linux but focused on a distro (pacman).\\n'},\n",
       "  {'role': 'assistant',\n",
       "   'content': '```sql\\nSELECT Id AS \"post_link\", * FROM Posts JOIN PostTags ON Posts.Id = PostTags.PostId WHERE PostTags.TagId = 4 AND Body LIKE \\'%pacman%\\' ORDER BY CreationDate DESC\\n```'}]}"
      ]
     },
     "execution_count": 15,
     "metadata": {},
     "output_type": "execute_result"
    }
   ],
   "source": [
    "data[0]"
   ]
  },
  {
   "cell_type": "code",
   "execution_count": 16,
   "metadata": {},
   "outputs": [
    {
     "data": {
      "text/plain": [
       "(74431940, 489280, 62952192, 10990468)"
      ]
     },
     "execution_count": 16,
     "metadata": {},
     "output_type": "execute_result"
    }
   ],
   "source": [
    "total_tokens = 0\n",
    "num = 1\n",
    "s = 0\n",
    "u = 0\n",
    "a = 0\n",
    "max_tokens = 0\n",
    "more_than_512 = 0\n",
    "more_than_1024 = 0\n",
    "more_than_2048 = 0\n",
    "more_than_4096 = 0\n",
    "\n",
    "for line in data:\n",
    "    messages = line[\"messages\"]\n",
    "    l_len = 0\n",
    "    for message in messages:\n",
    "        if message[\"role\"] == \"system\":\n",
    "            ls = count_tokens(message[\"content\"])\n",
    "            l_len += ls\n",
    "            s += ls\n",
    "        elif message[\"role\"] == \"user\":\n",
    "            lu = count_tokens(message[\"content\"])\n",
    "            l_len += lu\n",
    "            u += lu\n",
    "        elif message[\"role\"] == \"assistant\":\n",
    "            la = count_tokens(message[\"content\"])\n",
    "            l_len += la\n",
    "            a += la\n",
    "    if l_len > max_tokens:\n",
    "        max_tokens = l_len\n",
    "\n",
    "    if l_len > 512:\n",
    "        more_than_512 += 1\n",
    "    if l_len > 1024:\n",
    "        more_than_1024 += 1\n",
    "    if l_len > 2048:\n",
    "        more_than_2048 += 1\n",
    "    if l_len > 4096:\n",
    "        more_than_4096 += 1\n",
    "\n",
    "    num += 1\n",
    "\n",
    "total_tokens = s + u + a\n",
    "total_tokens, s, u, a\n",
    "    "
   ]
  },
  {
   "cell_type": "code",
   "execution_count": 17,
   "metadata": {},
   "outputs": [
    {
     "data": {
      "text/plain": [
       "(2589, 53798, 30222, 2218, 0)"
      ]
     },
     "execution_count": 17,
     "metadata": {},
     "output_type": "execute_result"
    }
   ],
   "source": [
    "max_tokens, more_than_512, more_than_1024, more_than_2048, more_than_4096"
   ]
  },
  {
   "cell_type": "code",
   "execution_count": 18,
   "metadata": {},
   "outputs": [
    {
     "data": {
      "text/plain": [
       "98635"
      ]
     },
     "execution_count": 18,
     "metadata": {},
     "output_type": "execute_result"
    }
   ],
   "source": [
    "num"
   ]
  },
  {
   "cell_type": "code",
   "execution_count": 20,
   "metadata": {},
   "outputs": [],
   "source": [
    "import random\n",
    "\n",
    "# Sample 80% of the data\n",
    "train_data = random.sample(data, int(0.8 * len(data)))\n"
   ]
  },
  {
   "cell_type": "code",
   "execution_count": 21,
   "metadata": {},
   "outputs": [],
   "source": [
    "output_path = '../data/train_nstext2sql_80.json'\n",
    "with open(output_path, 'w') as f:\n",
    "    f.write(json.dumps(train_data, indent=4))"
   ]
  },
  {
   "cell_type": "code",
   "execution_count": null,
   "metadata": {},
   "outputs": [],
   "source": []
  }
 ],
 "metadata": {
  "kernelspec": {
   "display_name": "Python 3",
   "language": "python",
   "name": "python3"
  },
  "language_info": {
   "codemirror_mode": {
    "name": "ipython",
    "version": 3
   },
   "file_extension": ".py",
   "mimetype": "text/x-python",
   "name": "python",
   "nbconvert_exporter": "python",
   "pygments_lexer": "ipython3",
   "version": "3.12.7"
  }
 },
 "nbformat": 4,
 "nbformat_minor": 2
}
