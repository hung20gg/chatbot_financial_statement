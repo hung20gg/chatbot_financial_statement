{
 "cells": [
  {
   "cell_type": "code",
   "execution_count": 1,
   "metadata": {},
   "outputs": [],
   "source": [
    "import pandas as pd \n",
    "import numpy as np"
   ]
  },
  {
   "cell_type": "code",
   "execution_count": 3,
   "metadata": {},
   "outputs": [
    {
     "data": {
      "text/plain": [
       "Index(['stock_code', 'company_name', 'short_name', 'en_company_name',\n",
       "       'en_short_name', 'combine_profile', 'industry', 'exchange',\n",
       "       'foreign_percent', 'issue_share', 'no_shareholders', 'stock_rating',\n",
       "       'website', 'stock_indices', 'is_bank', 'is_securities'],\n",
       "      dtype='object')"
      ]
     },
     "execution_count": 3,
     "metadata": {},
     "output_type": "execute_result"
    }
   ],
   "source": [
    "df_1 = pd.read_csv(r'D:\\python\\financial statement prj\\chatbot_financial_statement\\csv\\df_company_info.csv')\n",
    "df_1.columns"
   ]
  },
  {
   "cell_type": "code",
   "execution_count": 12,
   "metadata": {},
   "outputs": [],
   "source": [
    "eng_caption = df_1.industry.unique()"
   ]
  },
  {
   "cell_type": "code",
   "execution_count": 13,
   "metadata": {},
   "outputs": [],
   "source": [
    "eng_caption = [x for x in eng_caption if str(x) != 'nan']"
   ]
  },
  {
   "cell_type": "code",
   "execution_count": 14,
   "metadata": {},
   "outputs": [
    {
     "data": {
      "text/plain": [
       "['Banking',\n",
       " 'Basic Resources',\n",
       " 'Information Technology',\n",
       " 'Industrial Goods and Services',\n",
       " 'Utilities (Electricity, Water & Gas)',\n",
       " 'Real Estate',\n",
       " 'Chemicals',\n",
       " 'Food and Beverages',\n",
       " 'Oil and Gas',\n",
       " 'Telecommunications',\n",
       " 'Construction and Materials',\n",
       " 'Retail',\n",
       " 'Personal and Household Goods',\n",
       " 'Media',\n",
       " 'Travel and Leisure',\n",
       " 'Healthcare',\n",
       " 'Automobiles and Parts',\n",
       " 'Financial Services']"
      ]
     },
     "execution_count": 14,
     "metadata": {},
     "output_type": "execute_result"
    }
   ],
   "source": [
    "eng_caption "
   ]
  },
  {
   "cell_type": "code",
   "execution_count": 17,
   "metadata": {},
   "outputs": [
    {
     "data": {
      "text/plain": [
       "industry\n",
       "Automobiles and Parts                                                               [HUT]\n",
       "Banking                                 [BID, EIB, OCB, CTG, VCB, ACB, MBB, HDB, TPB, ...\n",
       "Basic Resources                                            [HSG, HPG, NKG, CAP, TMB, TVD]\n",
       "Chemicals                                                  [CSV, GVR, DGC, DCM, LAS, PLC]\n",
       "Construction and Materials                  [VGC, HBC, CTD, NHA, L14, L18, LHC, NTP, VCS]\n",
       "Financial Services                                              [MBS, VND, SSI, VIX, ORS]\n",
       "Food and Beverages                          [PAN, KDC, SBT, VNM, MSN, SAB, DBC, SAF, SLS]\n",
       "Healthcare                                                                          [DVM]\n",
       "Industrial Goods and Services                              [VSC, ACV, SGP, GMD, VTP, PVT]\n",
       "Information Technology                                               [ELC, ITD, FPT, CMG]\n",
       "Media                                                                               [YEG]\n",
       "Oil and Gas                                                          [BSR, PLX, PVC, PVS]\n",
       "Personal and Household Goods                                                   [PNJ, TNG]\n",
       "Real Estate                             [SZC, DIG, SCR, KBC, VHM, VRE, VIC, BCM, VPI, ...\n",
       "Retail                                                               [MWG, DHT, FRT, PSD]\n",
       "Telecommunications                                                             [FOX, VGI]\n",
       "Travel and Leisure                                                                  [VJC]\n",
       "Utilities (Electricity, Water & Gas)                                 [REE, GAS, POW, PVG]\n",
       "Name: stock_code, dtype: object"
      ]
     },
     "execution_count": 17,
     "metadata": {},
     "output_type": "execute_result"
    }
   ],
   "source": [
    "df_1.groupby('industry')['stock_code'].unique()"
   ]
  },
  {
   "cell_type": "code",
   "execution_count": 15,
   "metadata": {},
   "outputs": [],
   "source": [
    "map = {'Banking' : 'Ngân hàng',\n",
    " 'Basic Resources': 'Tài nguyên Cơ bản',\n",
    " 'Information Technology': 'Công nghệ Thông tin',\n",
    " 'Industrial Goods and Services':'Hàng & Dịch vụ Công nghiệp',\n",
    " 'Utilities (Electricity, Water & Gas)':'Điện, nước & xăng dầu khí đốt',\n",
    " 'Real Estate':'Bất động sản',\n",
    " 'Chemicals':'Hóa chất',\n",
    " 'Food and Beverages':'Thực phẩm và đồ uống',\n",
    " 'Oil and Gas':'Dầu khí',\n",
    " 'Telecommunications':'Viễn thông',\n",
    " 'Construction and Materials':'Xây dựng và Vật liệu',\n",
    " 'Retail':'Bán lẻ',\n",
    " 'Personal and Household Goods':'Hàng cá nhân & Gia dụng',\n",
    " 'Media': 'Truyền thông',\n",
    " 'Travel and Leisure':'Du lịch và Giải trí',\n",
    " 'Healthcare':'Y tế',\n",
    " 'Automobiles and Parts':'Ô tô và phụ tùng',\n",
    " 'Financial Services':'Dịch vụ tài chính'}"
   ]
  },
  {
   "cell_type": "code",
   "execution_count": 10,
   "metadata": {},
   "outputs": [
    {
     "data": {
      "text/html": [
       "<div>\n",
       "<style scoped>\n",
       "    .dataframe tbody tr th:only-of-type {\n",
       "        vertical-align: middle;\n",
       "    }\n",
       "\n",
       "    .dataframe tbody tr th {\n",
       "        vertical-align: top;\n",
       "    }\n",
       "\n",
       "    .dataframe thead th {\n",
       "        text-align: right;\n",
       "    }\n",
       "</style>\n",
       "<table border=\"1\" class=\"dataframe\">\n",
       "  <thead>\n",
       "    <tr style=\"text-align: right;\">\n",
       "      <th></th>\n",
       "      <th>stock_code</th>\n",
       "      <th>company_name</th>\n",
       "      <th>short_name</th>\n",
       "      <th>en_company_name</th>\n",
       "      <th>en_short_name</th>\n",
       "      <th>combine_profile</th>\n",
       "      <th>industry</th>\n",
       "      <th>exchange</th>\n",
       "      <th>foreign_percent</th>\n",
       "      <th>issue_share</th>\n",
       "      <th>no_shareholders</th>\n",
       "      <th>stock_rating</th>\n",
       "      <th>website</th>\n",
       "      <th>stock_indices</th>\n",
       "      <th>is_bank</th>\n",
       "      <th>is_securities</th>\n",
       "    </tr>\n",
       "  </thead>\n",
       "  <tbody>\n",
       "    <tr>\n",
       "      <th>101</th>\n",
       "      <td>SCIC</td>\n",
       "      <td>Tổng Công ty Đầu Tư Và Kinh Doanh Vốn Nhà Nước...</td>\n",
       "      <td>Đầu tư nhà nước</td>\n",
       "      <td>State Capital Investment and Trading Corporati...</td>\n",
       "      <td>State Fund</td>\n",
       "      <td>NaN</td>\n",
       "      <td>NaN</td>\n",
       "      <td>NaN</td>\n",
       "      <td>NaN</td>\n",
       "      <td>NaN</td>\n",
       "      <td>NaN</td>\n",
       "      <td>NaN</td>\n",
       "      <td>http://www.scic.vn/index.php/vi/</td>\n",
       "      <td>NaN</td>\n",
       "      <td>False</td>\n",
       "      <td>False</td>\n",
       "    </tr>\n",
       "    <tr>\n",
       "      <th>102</th>\n",
       "      <td>Viettel</td>\n",
       "      <td>Tập đoàn Công nghiệp - Viễn thông Quân đội</td>\n",
       "      <td>Viettel</td>\n",
       "      <td>Viettel Group</td>\n",
       "      <td>Viettel</td>\n",
       "      <td>NaN</td>\n",
       "      <td>NaN</td>\n",
       "      <td>NaN</td>\n",
       "      <td>NaN</td>\n",
       "      <td>NaN</td>\n",
       "      <td>NaN</td>\n",
       "      <td>NaN</td>\n",
       "      <td>https://viettel.vn</td>\n",
       "      <td>NaN</td>\n",
       "      <td>False</td>\n",
       "      <td>False</td>\n",
       "    </tr>\n",
       "    <tr>\n",
       "      <th>103</th>\n",
       "      <td>NHNN</td>\n",
       "      <td>Ngân hàng Nhà nước Việt Nam</td>\n",
       "      <td>NHNN</td>\n",
       "      <td>State Bank of Vietnam</td>\n",
       "      <td>Central Bank</td>\n",
       "      <td>NaN</td>\n",
       "      <td>NaN</td>\n",
       "      <td>NaN</td>\n",
       "      <td>NaN</td>\n",
       "      <td>NaN</td>\n",
       "      <td>NaN</td>\n",
       "      <td>NaN</td>\n",
       "      <td>https://sbv.gov.vn</td>\n",
       "      <td>NaN</td>\n",
       "      <td>True</td>\n",
       "      <td>False</td>\n",
       "    </tr>\n",
       "    <tr>\n",
       "      <th>104</th>\n",
       "      <td>PVN</td>\n",
       "      <td>Tập đoàn Dầu khí Việt Nam</td>\n",
       "      <td>Tập đoàn dầu khí</td>\n",
       "      <td>Vietnam Oil and Gas Group</td>\n",
       "      <td>Petrovietnam</td>\n",
       "      <td>NaN</td>\n",
       "      <td>NaN</td>\n",
       "      <td>NaN</td>\n",
       "      <td>NaN</td>\n",
       "      <td>NaN</td>\n",
       "      <td>NaN</td>\n",
       "      <td>NaN</td>\n",
       "      <td>https://sbv.gov.vn</td>\n",
       "      <td>NaN</td>\n",
       "      <td>False</td>\n",
       "      <td>False</td>\n",
       "    </tr>\n",
       "  </tbody>\n",
       "</table>\n",
       "</div>"
      ],
      "text/plain": [
       "    stock_code                                       company_name  \\\n",
       "101       SCIC  Tổng Công ty Đầu Tư Và Kinh Doanh Vốn Nhà Nước...   \n",
       "102    Viettel         Tập đoàn Công nghiệp - Viễn thông Quân đội   \n",
       "103       NHNN                        Ngân hàng Nhà nước Việt Nam   \n",
       "104        PVN                          Tập đoàn Dầu khí Việt Nam   \n",
       "\n",
       "           short_name                                    en_company_name  \\\n",
       "101   Đầu tư nhà nước  State Capital Investment and Trading Corporati...   \n",
       "102           Viettel                                      Viettel Group   \n",
       "103              NHNN                              State Bank of Vietnam   \n",
       "104  Tập đoàn dầu khí                          Vietnam Oil and Gas Group   \n",
       "\n",
       "    en_short_name combine_profile industry exchange  foreign_percent  \\\n",
       "101    State Fund             NaN      NaN      NaN              NaN   \n",
       "102       Viettel             NaN      NaN      NaN              NaN   \n",
       "103  Central Bank             NaN      NaN      NaN              NaN   \n",
       "104  Petrovietnam             NaN      NaN      NaN              NaN   \n",
       "\n",
       "     issue_share  no_shareholders  stock_rating  \\\n",
       "101          NaN              NaN           NaN   \n",
       "102          NaN              NaN           NaN   \n",
       "103          NaN              NaN           NaN   \n",
       "104          NaN              NaN           NaN   \n",
       "\n",
       "                              website stock_indices  is_bank  is_securities  \n",
       "101  http://www.scic.vn/index.php/vi/           NaN    False          False  \n",
       "102                https://viettel.vn           NaN    False          False  \n",
       "103                https://sbv.gov.vn           NaN     True          False  \n",
       "104                https://sbv.gov.vn           NaN    False          False  "
      ]
     },
     "execution_count": 10,
     "metadata": {},
     "output_type": "execute_result"
    }
   ],
   "source": [
    "df_1[df_1['industry'].isna()]"
   ]
  },
  {
   "cell_type": "code",
   "execution_count": null,
   "metadata": {},
   "outputs": [],
   "source": [
    "df1_bs = pd.read_parquet(r'')"
   ]
  },
  {
   "cell_type": "code",
   "execution_count": null,
   "metadata": {},
   "outputs": [],
   "source": []
  }
 ],
 "metadata": {
  "kernelspec": {
   "display_name": "Python 3",
   "language": "python",
   "name": "python3"
  },
  "language_info": {
   "codemirror_mode": {
    "name": "ipython",
    "version": 3
   },
   "file_extension": ".py",
   "mimetype": "text/x-python",
   "name": "python",
   "nbconvert_exporter": "python",
   "pygments_lexer": "ipython3",
   "version": "3.12.6"
  }
 },
 "nbformat": 4,
 "nbformat_minor": 2
}
