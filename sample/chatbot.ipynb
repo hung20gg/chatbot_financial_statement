{
 "cells": [
  {
   "cell_type": "code",
   "execution_count": 1,
   "metadata": {},
   "outputs": [],
   "source": [
    "from llm.llm.chatgpt import ChatGPT\n",
    "from setup_db import create_chroma_db, connect_to_db, execute_query"
   ]
  },
  {
   "cell_type": "code",
   "execution_count": 2,
   "metadata": {},
   "outputs": [],
   "source": [
    "llm = ChatGPT()"
   ]
  },
  {
   "cell_type": "code",
   "execution_count": 3,
   "metadata": {},
   "outputs": [],
   "source": [
    "collection_chromadb = 'test_chroma_db'\n",
    "persist_directory = 'data/test_chroma_db'\n",
    "vector_store = create_chroma_db(collection_chromadb, persist_directory)"
   ]
  },
  {
   "cell_type": "code",
   "execution_count": 4,
   "metadata": {},
   "outputs": [],
   "source": [
    "def similarity_search(query, k):\n",
    "    return [f\"'{document.page_content}'\" for document in vector_store.similarity_search(query, k)]"
   ]
  },
  {
   "cell_type": "code",
   "execution_count": 5,
   "metadata": {},
   "outputs": [],
   "source": [
    "from llm_test import text2sql, replace_category_query, CoT_reasoning"
   ]
  },
  {
   "cell_type": "code",
   "execution_count": 6,
   "metadata": {},
   "outputs": [
    {
     "data": {
      "text/plain": [
       "[{'language': 'sql',\n",
       "  'code': \"SELECT * \\nFROM financial_statement fs \\nWHERE ticker IN ('TCB', 'VCB') \\nAND yearReport = 2024 \\nAND lengthReport = 1 \\nAND (category = 'Revenue' OR category = 'Profit');\\n\"}]"
      ]
     },
     "execution_count": 6,
     "metadata": {},
     "output_type": "execute_result"
    }
   ],
   "source": [
    "prompt = \"What is the revenue and the profit of the companies with stock code TCB and VCB in first quarter of 2024\"\n",
    "code_generated = text2sql(llm, prompt)\n",
    "code_generated"
   ]
  },
  {
   "cell_type": "code",
   "execution_count": 7,
   "metadata": {},
   "outputs": [],
   "source": [
    "for code in code_generated:\n",
    "    if code['language'] == 'sql':\n",
    "        code['code'] = replace_category_query(code['code'], similarity_search, top_k=5)\n",
    "        # vector_store.execute_query(query)"
   ]
  },
  {
   "cell_type": "code",
   "execution_count": 12,
   "metadata": {},
   "outputs": [
    {
     "data": {
      "text/plain": [
       "\"category = 'HYY'\""
      ]
     },
     "execution_count": 12,
     "metadata": {},
     "output_type": "execute_result"
    }
   ],
   "source": [
    "test = \"category = 'HYY'\"\n",
    "replace_category_query(test, similarity_search, top_k=5)"
   ]
  },
  {
   "cell_type": "code",
   "execution_count": 18,
   "metadata": {},
   "outputs": [
    {
     "name": "stdout",
     "output_type": "stream",
     "text": [
      "category IN (top_k(xx))\n",
      "category IN (top_k('xx'), top_k(yy))\n"
     ]
    }
   ],
   "source": [
    "\n",
    "# import re\n",
    "\n",
    "# def top_k(text):\n",
    "#     # Placeholder for top_k function, replace this with the actual implementation\n",
    "#     return [f\"top_k({text})\"]\n",
    "\n",
    "# def replace_category_query(sql_query):\n",
    "#     # Pattern to match `category = xx`\n",
    "#     pattern_equal = re.compile(r\"category\\s*=\\s*'?(\\w+)'?\")\n",
    "#     # Pattern to match `category IN (xx, yy)` or `category IN ('xx', 'yy')`\n",
    "#     pattern_in = re.compile(r\"category\\s+IN\\s*\\(([^)]+)\\)\")\n",
    "    \n",
    "#     # Check for `category = xx`\n",
    "#     if pattern_equal.search(sql_query):\n",
    "#         sql_query = pattern_equal.sub(lambda match: f\"category IN ({', '.join(top_k(match.group(1)))})\", sql_query)\n",
    "    \n",
    "#     # Check for `category IN (xx, yy)`\n",
    "#     elif pattern_in.search(sql_query):\n",
    "#         sql_query = pattern_in.sub(lambda match: f\"category IN ({', '.join([item for x in match.group(1).split(',') for item in top_k(x.strip())])})\", sql_query)\n",
    "\n",
    "#     return sql_query\n",
    "\n",
    "# # Example usage:\n",
    "# sql_query_1 = \"category = 'xx'\"\n",
    "# sql_query_2 = \"category IN ('xx', yy)\"\n",
    "\n",
    "# print(replace_category_query(sql_query_1))  # Output for equal size\n",
    "# print(replace_category_query(sql_query_2))  # Output for IN condition"
   ]
  },
  {
   "cell_type": "code",
   "execution_count": 8,
   "metadata": {},
   "outputs": [],
   "source": [
    "db_name = 'test_db'\n",
    "user = 'postgres'\n",
    "password = '12345678'\n",
    "table_name = 'financial_statement'\n",
    "port = '5433'\n",
    "host = 'localhost'"
   ]
  },
  {
   "cell_type": "code",
   "execution_count": 9,
   "metadata": {},
   "outputs": [
    {
     "data": {
      "text/plain": [
       "[{'language': 'sql',\n",
       "  'code': \"SELECT * \\nFROM financial_statement fs \\nWHERE ticker IN ('TCB', 'VCB') \\nAND yearReport = 2024 \\nAND lengthReport = 1 \\nAND (category = 'Revenue' OR category = 'Profit');\\n\"}]"
      ]
     },
     "execution_count": 9,
     "metadata": {},
     "output_type": "execute_result"
    }
   ],
   "source": [
    "code_generated"
   ]
  },
  {
   "cell_type": "code",
   "execution_count": 10,
   "metadata": {},
   "outputs": [
    {
     "name": "stdout",
     "output_type": "stream",
     "text": [
      "Connecting to database test_db, postgres...\n"
     ]
    },
    {
     "data": {
      "text/plain": [
       "[]"
      ]
     },
     "execution_count": 10,
     "metadata": {},
     "output_type": "execute_result"
    }
   ],
   "source": [
    "conn = connect_to_db(db_name, user, password, host, port)\n",
    "result = execute_query(code_generated[0]['code'], conn=conn)\n",
    "result"
   ]
  },
  {
   "cell_type": "code",
   "execution_count": 11,
   "metadata": {},
   "outputs": [
    {
     "name": "stdout",
     "output_type": "stream",
     "text": [
      "To determine the revenue and the profit of the companies with stock codes TCB and VCB for the first quarter of 2024 based on the given financial statements, we will follow these systematic steps:\n",
      "\n",
      "### Step 1: Identify Available Data\n",
      "\n",
      "1. **Review the Financial Statements**: Since the provided financial statement data is empty (`[]`), we have no explicit information regarding the revenues or profits for TCB and VCB for the specified quarter.\n",
      "\n",
      "2. **Understand Financial Statement Components**: Typically, a financial statement includes:\n",
      "   - **Revenue**: This represents the total income generated from business operations before any expenses are deducted.\n",
      "   - **Net Profit**: This is the total earnings after all expenses, taxes, and costs have been deducted from revenue.\n",
      "\n",
      "### Step 2: Locate Relevant Financial Information\n",
      "\n",
      "1. **Source Data**: Since we do not have the data directly within the provided result, we need to obtain this information from reliable financial databases, company reports, or regulatory filings like quarterly earnings reports (Q1 2024).\n",
      "\n",
      "2. **Look for Company-Specific Details**: For TCB and VCB, we'd want to search for:\n",
      "   - Quarterly financial results\n",
      "   - Revenue and net profit specifically for Q1 2024\n",
      "\n",
      "### Step 3: Extract Data for TCB and VCB\n",
      "\n",
      "1. **Search for TCB and VCB Reports**: Use financial platforms (e.g., Bloomberg, Yahoo Finance, or company websites) to look up TCB’s and VCB’s quarterly financial results.\n",
      "\n",
      "2. **Extract Relevant Figures**:\n",
      "   - Find **Total Revenue** for each company in the Q1 2024 report.\n",
      "   - Find **Net Profit** for each company in the same report.\n",
      "\n",
      "### Step 4: Analyze the Financial Data\n",
      "\n",
      "1. **Calculate or Verify Figures**: Ensure that the figures for revenue and profit are accurately represented. For each company, confirm that:\n",
      "   - The revenue reflects gross income from operations.\n",
      "   - The profit reflects total income after expenses.\n",
      "\n",
      "### Step 5: Present the Results\n",
      "\n",
      "1. **Summarize the Findings**: Once you have the figures:\n",
      "   - State the revenue for TCB and VCB for Q1 2024.\n",
      "   - State the profit for TCB and VCB for Q1 2024.\n",
      "\n",
      "### Conclusion\n",
      "\n",
      "Since the initial input has no data, we must proceed to obtain required financial data from external sources. After acquiring the relevant reports, follow through the reasoning steps to ensure the correct extraction and understanding of revenue and profit figures.\n",
      "\n",
      "If you find the data, you can present the results succinctly like this:\n",
      "\n",
      "- **TCB Q1 2024**:\n",
      "  - Revenue: [Insert Amount]\n",
      "  - Profit: [Insert Amount]\n",
      "\n",
      "- **VCB Q1 2024**:\n",
      "  - Revenue: [Insert Amount]\n",
      "  - Profit: [Insert Amount]\n",
      "\n",
      "In summary, without any data initially provided, the key to answering the question lies in external research and data gathering on the companies TCB and VCB for the specified quarter.\n"
     ]
    }
   ],
   "source": [
    "answer = CoT_reasoning(llm, prompt, result)\n",
    "print(answer)"
   ]
  },
  {
   "cell_type": "markdown",
   "metadata": {},
   "source": [
    "category = xx\n",
    "\n",
    "category IN (xx, yy)"
   ]
  }
 ],
 "metadata": {
  "kernelspec": {
   "display_name": "Python 3",
   "language": "python",
   "name": "python3"
  },
  "language_info": {
   "codemirror_mode": {
    "name": "ipython",
    "version": 3
   },
   "file_extension": ".py",
   "mimetype": "text/x-python",
   "name": "python",
   "nbconvert_exporter": "python",
   "pygments_lexer": "ipython3",
   "version": "3.11.6"
  }
 },
 "nbformat": 4,
 "nbformat_minor": 2
}
