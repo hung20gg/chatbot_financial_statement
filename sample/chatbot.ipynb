{
 "cells": [
  {
   "cell_type": "code",
   "execution_count": 2,
   "metadata": {},
   "outputs": [],
   "source": [
    "from llm.llm.chatgpt import ChatGPT\n",
    "from setup_db import create_chroma_db, connect_to_db, execute_query"
   ]
  },
  {
   "cell_type": "code",
   "execution_count": 3,
   "metadata": {},
   "outputs": [],
   "source": [
    "llm = ChatGPT()"
   ]
  },
  {
   "cell_type": "code",
   "execution_count": 6,
   "metadata": {},
   "outputs": [],
   "source": [
    "collection_chromadb = 'test_chroma_db'\n",
    "persist_directory = 'data/test_chroma_db'\n",
    "vector_store = create_chroma_db(collection_chromadb, persist_directory)"
   ]
  },
  {
   "cell_type": "code",
   "execution_count": 2,
   "metadata": {},
   "outputs": [],
   "source": [
    "def similarity_search(query, k):\n",
    "    return [f\"'{document.page_content}'\" for document in vector_store.similarity_search(query.strip(\"'\"), k)]"
   ]
  },
  {
   "cell_type": "code",
   "execution_count": 5,
   "metadata": {},
   "outputs": [],
   "source": [
    "from llm_test import text2sql, replace_category_query, CoT_reasoning"
   ]
  },
  {
   "cell_type": "code",
   "execution_count": 6,
   "metadata": {},
   "outputs": [
    {
     "data": {
      "text/plain": [
       "[{'language': 'sql',\n",
       "  'code': \"SELECT * \\nFROM financial_statement fs \\nWHERE ticker IN ('TCB', 'VCB') \\nAND yearReport = 2024 \\nAND lengthReport = 1 \\nAND category IN ('Revenue', 'Profit');\\n\"}]"
      ]
     },
     "execution_count": 6,
     "metadata": {},
     "output_type": "execute_result"
    }
   ],
   "source": [
    "prompt = \"What is the revenue and the profit of the companies with stock code TCB and VCB in first quarter of 2024\"\n",
    "code_generated = text2sql(llm, prompt)\n",
    "code_generated"
   ]
  },
  {
   "cell_type": "code",
   "execution_count": 8,
   "metadata": {},
   "outputs": [],
   "source": [
    "for code in code_generated:\n",
    "    if code['language'] == 'sql':\n",
    "        code['code'] = replace_category_query(code['code'], similarity_search, top_k=5)\n",
    "        # vector_store.execute_query(query)"
   ]
  },
  {
   "cell_type": "code",
   "execution_count": 9,
   "metadata": {},
   "outputs": [
    {
     "data": {
      "text/plain": [
       "\"category IN ('Attribute to parent company YoY (%)', 'Revenue YoY (%)', 'Attributable to parent company', 'Attribute to parent company (Bn. VND)', 'Interest and Similar Income')\""
      ]
     },
     "execution_count": 9,
     "metadata": {},
     "output_type": "execute_result"
    }
   ],
   "source": [
    "test = \"category = 'HYY'\"\n",
    "replace_category_query(test, similarity_search, top_k=5)"
   ]
  },
  {
   "cell_type": "code",
   "execution_count": 18,
   "metadata": {},
   "outputs": [
    {
     "name": "stdout",
     "output_type": "stream",
     "text": [
      "category IN (top_k(xx))\n",
      "category IN (top_k('xx'), top_k(yy))\n"
     ]
    }
   ],
   "source": [
    "\n",
    "# import re\n",
    "\n",
    "# def top_k(text):\n",
    "#     # Placeholder for top_k function, replace this with the actual implementation\n",
    "#     return [f\"top_k({text})\"]\n",
    "\n",
    "# def replace_category_query(sql_query):\n",
    "#     # Pattern to match `category = xx`\n",
    "#     pattern_equal = re.compile(r\"category\\s*=\\s*'?(\\w+)'?\")\n",
    "#     # Pattern to match `category IN (xx, yy)` or `category IN ('xx', 'yy')`\n",
    "#     pattern_in = re.compile(r\"category\\s+IN\\s*\\(([^)]+)\\)\")\n",
    "    \n",
    "#     # Check for `category = xx`\n",
    "#     if pattern_equal.search(sql_query):\n",
    "#         sql_query = pattern_equal.sub(lambda match: f\"category IN ({', '.join(top_k(match.group(1)))})\", sql_query)\n",
    "    \n",
    "#     # Check for `category IN (xx, yy)`\n",
    "#     elif pattern_in.search(sql_query):\n",
    "#         sql_query = pattern_in.sub(lambda match: f\"category IN ({', '.join([item for x in match.group(1).split(',') for item in top_k(x.strip())])})\", sql_query)\n",
    "\n",
    "#     return sql_query\n",
    "\n",
    "# # Example usage:\n",
    "# sql_query_1 = \"category = 'xx'\"\n",
    "# sql_query_2 = \"category IN ('xx', yy)\"\n",
    "\n",
    "# print(replace_category_query(sql_query_1))  # Output for equal size\n",
    "# print(replace_category_query(sql_query_2))  # Output for IN condition"
   ]
  },
  {
   "cell_type": "code",
   "execution_count": 10,
   "metadata": {},
   "outputs": [],
   "source": [
    "db_name = 'test_db'\n",
    "user = 'postgres'\n",
    "password = '12345678'\n",
    "table_name = 'financial_statement'\n",
    "port = '5433'\n",
    "host = 'localhost'"
   ]
  },
  {
   "cell_type": "code",
   "execution_count": 11,
   "metadata": {},
   "outputs": [
    {
     "data": {
      "text/plain": [
       "[{'language': 'sql',\n",
       "  'code': \"SELECT * FROM financial_statement fs \\nWHERE ticker IN ('TCB', 'VCB') \\nAND yearReport = 2024 \\nAND lengthReport = 1 \\nAND (category IN ('Sales', 'Revenue (Bn. VND)', 'Total operating revenue', 'Revenue YoY (%)', 'Net Sales') OR category IN ('Profit before tax', 'Sales', 'Operating Profit/Loss', 'Gross Profit', 'Net Profit/Loss before tax'));\\n\"}]"
      ]
     },
     "execution_count": 11,
     "metadata": {},
     "output_type": "execute_result"
    }
   ],
   "source": [
    "code_generated"
   ]
  },
  {
   "cell_type": "code",
   "execution_count": 12,
   "metadata": {},
   "outputs": [
    {
     "name": "stdout",
     "output_type": "stream",
     "text": [
      "Connecting to database test_db, postgres...\n"
     ]
    },
    {
     "data": {
      "text/plain": [
       "[('TCB', 2024, 1, 'Revenue YoY (%)', 0.0564390787932455),\n",
       " ('TCB', 2024, 1, 'Revenue (Bn. VND)', 14507238000000.0),\n",
       " ('TCB', 2024, 1, 'Total operating revenue', 12261767000000.0),\n",
       " ('TCB', 2024, 1, 'Profit before tax', 7801659000000.0),\n",
       " ('VCB', 2024, 1, 'Revenue YoY (%)', -0.132547028931519),\n",
       " ('VCB', 2024, 1, 'Revenue (Bn. VND)', 24019660000000.0),\n",
       " ('VCB', 2024, 1, 'Total operating revenue', 17280398000000.0),\n",
       " ('VCB', 2024, 1, 'Profit before tax', 10718239000000.0)]"
      ]
     },
     "execution_count": 12,
     "metadata": {},
     "output_type": "execute_result"
    }
   ],
   "source": [
    "conn = connect_to_db(db_name, user, password, host, port)\n",
    "result = execute_query(code_generated[0]['code'], conn=conn)\n",
    "result"
   ]
  },
  {
   "cell_type": "code",
   "execution_count": 13,
   "metadata": {},
   "outputs": [
    {
     "name": "stdout",
     "output_type": "stream",
     "text": [
      "To answer the question of what is the revenue and profit of the companies with stock codes TCB and VCB for the first quarter of 2024, we can break down the available information systematically.\n",
      "\n",
      "1. **Extract Information for TCB:**\n",
      "   - Looking into the financial statement data provided:\n",
      "     - For TCB (stock code TCB) in the first quarter of 2024, we find the following figures:\n",
      "       - \"Revenue (Bn. VND)\": 14,507,238,000,000.0 VND\n",
      "       - \"Profit before tax\": 7,801,659,000,000.0 VND\n",
      "     \n",
      "   - **Calculating TCB Revenue and Profit:**\n",
      "     - Revenue: 14,507,238,000,000.0 VND\n",
      "     - Profit: 7,801,659,000,000.0 VND\n",
      "\n",
      "2. **Extract Information for VCB:**\n",
      "   - Again, looking into the financial data:\n",
      "     - For VCB (stock code VCB) in the first quarter of 2024, the relevant figures are:\n",
      "       - \"Revenue (Bn. VND)\": 24,019,660,000,000.0 VND\n",
      "       - \"Profit before tax\": 10,718,239,000,000.0 VND\n",
      "     \n",
      "   - **Calculating VCB Revenue and Profit:**\n",
      "     - Revenue: 24,019,660,000,000.0 VND\n",
      "     - Profit: 10,718,239,000,000.0 VND\n",
      "\n",
      "3. **Summary of Results:**\n",
      "   - **TCB Results:**\n",
      "     - Revenue: 14,507,238,000,000.0 VND\n",
      "     - Profit: 7,801,659,000,000.0 VND\n",
      "   - **VCB Results:**\n",
      "     - Revenue: 24,019,660,000,000.0 VND\n",
      "     - Profit: 10,718,239,000,000.0 VND\n",
      "\n",
      "4. **Final Answer:**\n",
      "   - So to summarize the response to the question:\n",
      "     - For TCB in Q1 2024:\n",
      "       - Revenue: 14,507,238,000,000 VND\n",
      "       - Profit before tax: 7,801,659,000,000 VND\n",
      "     - For VCB in Q1 2024:\n",
      "       - Revenue: 24,019,660,000,000 VND\n",
      "       - Profit before tax: 10,718,239,000,000 VND\n",
      "\n",
      "This step-by-step breakdown confirms that we have accurately extracted and calculated the necessary figures from the given financial data.\n"
     ]
    }
   ],
   "source": [
    "answer = CoT_reasoning(llm, prompt, result)\n",
    "print(answer)"
   ]
  },
  {
   "cell_type": "markdown",
   "metadata": {},
   "source": [
    "category = xx\n",
    "\n",
    "category IN (xx, yy)"
   ]
  }
 ],
 "metadata": {
  "kernelspec": {
   "display_name": "Python 3",
   "language": "python",
   "name": "python3"
  },
  "language_info": {
   "codemirror_mode": {
    "name": "ipython",
    "version": 3
   },
   "file_extension": ".py",
   "mimetype": "text/x-python",
   "name": "python",
   "nbconvert_exporter": "python",
   "pygments_lexer": "ipython3",
   "version": "3.11.6"
  }
 },
 "nbformat": 4,
 "nbformat_minor": 2
}
