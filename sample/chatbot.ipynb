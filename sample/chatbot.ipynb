{
 "cells": [
  {
   "cell_type": "code",
   "execution_count": 1,
   "metadata": {},
   "outputs": [],
   "source": [
    "from llm.llm.chatgpt import ChatGPT\n",
    "from setup_db import create_chroma_db, connect_to_db, execute_query"
   ]
  },
  {
   "cell_type": "code",
   "execution_count": 2,
   "metadata": {},
   "outputs": [],
   "source": [
    "llm = ChatGPT()"
   ]
  },
  {
   "cell_type": "markdown",
   "metadata": {},
   "source": []
  },
  {
   "cell_type": "code",
   "execution_count": 3,
   "metadata": {},
   "outputs": [],
   "source": [
    "collection_chromadb = 'test_chroma_db'\n",
    "persist_directory = 'data/test_chroma_db'\n",
    "vector_store = create_chroma_db(collection_chromadb, persist_directory)"
   ]
  },
  {
   "cell_type": "code",
   "execution_count": 4,
   "metadata": {},
   "outputs": [],
   "source": [
    "def similarity_search(query, k):\n",
    "    return [f\"'{document.page_content}'\" for document in vector_store.similarity_search(query.strip(\"'\"), k)]"
   ]
  },
  {
   "cell_type": "code",
   "execution_count": 5,
   "metadata": {},
   "outputs": [],
   "source": [
    "from llm_test import text2sql, replace_category_query, CoT_reasoning"
   ]
  },
  {
   "cell_type": "code",
   "execution_count": 6,
   "metadata": {},
   "outputs": [
    {
     "data": {
      "text/plain": [
       "[{'language': 'sql',\n",
       "  'code': \"SELECT * FROM financial_statement fs\\nWHERE ticker IN ('TCB', 'VCB') \\nAND yearReport = 2024 \\nAND lengthReport = 1 \\nAND category IN ('Revenue', 'Profit');\\n\"}]"
      ]
     },
     "execution_count": 6,
     "metadata": {},
     "output_type": "execute_result"
    }
   ],
   "source": [
    "prompt = \"What is the revenue and the profit of the companies with stock code TCB and VCB in first quarter of 2024\"\n",
    "code_generated = text2sql(llm, prompt)\n",
    "code_generated"
   ]
  },
  {
   "cell_type": "code",
   "execution_count": 7,
   "metadata": {},
   "outputs": [],
   "source": [
    "for code in code_generated:\n",
    "    if code['language'] == 'sql':\n",
    "        code['code'] = replace_category_query(code['code'], similarity_search, top_k=5)\n",
    "        # vector_store.execute_query(query)"
   ]
  },
  {
   "cell_type": "code",
   "execution_count": 8,
   "metadata": {},
   "outputs": [
    {
     "data": {
      "text/plain": [
       "\"category IN ('Attribute to parent company YoY (%)', 'Revenue YoY (%)', 'Attributable to parent company', 'Attribute to parent company (Bn. VND)', 'Interest and Similar Income')\""
      ]
     },
     "execution_count": 8,
     "metadata": {},
     "output_type": "execute_result"
    }
   ],
   "source": [
    "test = \"category = 'HYY'\"\n",
    "replace_category_query(test, similarity_search, top_k=5)"
   ]
  },
  {
   "cell_type": "code",
   "execution_count": 9,
   "metadata": {},
   "outputs": [],
   "source": [
    "db_name = 'test_db'\n",
    "user = 'postgres'\n",
    "password = '12345678'\n",
    "table_name = 'financial_statement'\n",
    "port = '5433'\n",
    "host = 'localhost'"
   ]
  },
  {
   "cell_type": "code",
   "execution_count": 10,
   "metadata": {},
   "outputs": [
    {
     "data": {
      "text/plain": [
       "[{'language': 'sql',\n",
       "  'code': \"SELECT * FROM financial_statement fs\\nWHERE ticker IN ('TCB', 'VCB') \\nAND yearReport = 2024 \\nAND lengthReport = 1 \\nAND category IN ('Profit before tax', 'Total operating revenue', 'Operating Profit/Loss', 'Revenue YoY (%)', 'Net Sales', 'Sales', 'Revenue (Bn. VND)', 'Net Profit/Loss before tax', 'Gross Profit');\\n\"}]"
      ]
     },
     "execution_count": 10,
     "metadata": {},
     "output_type": "execute_result"
    }
   ],
   "source": [
    "code_generated"
   ]
  },
  {
   "cell_type": "code",
   "execution_count": 12,
   "metadata": {},
   "outputs": [
    {
     "name": "stdout",
     "output_type": "stream",
     "text": [
      "Connecting to database test_db, postgres...\n"
     ]
    },
    {
     "data": {
      "text/html": [
       "<div>\n",
       "<style scoped>\n",
       "    .dataframe tbody tr th:only-of-type {\n",
       "        vertical-align: middle;\n",
       "    }\n",
       "\n",
       "    .dataframe tbody tr th {\n",
       "        vertical-align: top;\n",
       "    }\n",
       "\n",
       "    .dataframe thead th {\n",
       "        text-align: right;\n",
       "    }\n",
       "</style>\n",
       "<table border=\"1\" class=\"dataframe\">\n",
       "  <thead>\n",
       "    <tr style=\"text-align: right;\">\n",
       "      <th></th>\n",
       "      <th>ticker</th>\n",
       "      <th>yearreport</th>\n",
       "      <th>lengthreport</th>\n",
       "      <th>category</th>\n",
       "      <th>data</th>\n",
       "    </tr>\n",
       "  </thead>\n",
       "  <tbody>\n",
       "    <tr>\n",
       "      <th>0</th>\n",
       "      <td>TCB</td>\n",
       "      <td>2024</td>\n",
       "      <td>1</td>\n",
       "      <td>Revenue YoY (%)</td>\n",
       "      <td>5.643908e-02</td>\n",
       "    </tr>\n",
       "    <tr>\n",
       "      <th>1</th>\n",
       "      <td>TCB</td>\n",
       "      <td>2024</td>\n",
       "      <td>1</td>\n",
       "      <td>Revenue (Bn. VND)</td>\n",
       "      <td>1.450724e+13</td>\n",
       "    </tr>\n",
       "    <tr>\n",
       "      <th>2</th>\n",
       "      <td>TCB</td>\n",
       "      <td>2024</td>\n",
       "      <td>1</td>\n",
       "      <td>Total operating revenue</td>\n",
       "      <td>1.226177e+13</td>\n",
       "    </tr>\n",
       "    <tr>\n",
       "      <th>3</th>\n",
       "      <td>TCB</td>\n",
       "      <td>2024</td>\n",
       "      <td>1</td>\n",
       "      <td>Profit before tax</td>\n",
       "      <td>7.801659e+12</td>\n",
       "    </tr>\n",
       "    <tr>\n",
       "      <th>4</th>\n",
       "      <td>VCB</td>\n",
       "      <td>2024</td>\n",
       "      <td>1</td>\n",
       "      <td>Revenue YoY (%)</td>\n",
       "      <td>-1.325470e-01</td>\n",
       "    </tr>\n",
       "    <tr>\n",
       "      <th>5</th>\n",
       "      <td>VCB</td>\n",
       "      <td>2024</td>\n",
       "      <td>1</td>\n",
       "      <td>Revenue (Bn. VND)</td>\n",
       "      <td>2.401966e+13</td>\n",
       "    </tr>\n",
       "    <tr>\n",
       "      <th>6</th>\n",
       "      <td>VCB</td>\n",
       "      <td>2024</td>\n",
       "      <td>1</td>\n",
       "      <td>Total operating revenue</td>\n",
       "      <td>1.728040e+13</td>\n",
       "    </tr>\n",
       "    <tr>\n",
       "      <th>7</th>\n",
       "      <td>VCB</td>\n",
       "      <td>2024</td>\n",
       "      <td>1</td>\n",
       "      <td>Profit before tax</td>\n",
       "      <td>1.071824e+13</td>\n",
       "    </tr>\n",
       "  </tbody>\n",
       "</table>\n",
       "</div>"
      ],
      "text/plain": [
       "  ticker  yearreport  lengthreport                 category          data\n",
       "0    TCB        2024             1          Revenue YoY (%)  5.643908e-02\n",
       "1    TCB        2024             1        Revenue (Bn. VND)  1.450724e+13\n",
       "2    TCB        2024             1  Total operating revenue  1.226177e+13\n",
       "3    TCB        2024             1        Profit before tax  7.801659e+12\n",
       "4    VCB        2024             1          Revenue YoY (%) -1.325470e-01\n",
       "5    VCB        2024             1        Revenue (Bn. VND)  2.401966e+13\n",
       "6    VCB        2024             1  Total operating revenue  1.728040e+13\n",
       "7    VCB        2024             1        Profit before tax  1.071824e+13"
      ]
     },
     "execution_count": 12,
     "metadata": {},
     "output_type": "execute_result"
    }
   ],
   "source": [
    "conn = connect_to_db(db_name, user, password, host, port)\n",
    "result = execute_query(code_generated[0]['code'], conn=conn, return_type='dataframe')\n",
    "result"
   ]
  },
  {
   "cell_type": "code",
   "execution_count": 13,
   "metadata": {},
   "outputs": [
    {
     "name": "stdout",
     "output_type": "stream",
     "text": [
      "To answer the question of what is the revenue and profit of the companies with stock codes TCB and VCB for the first quarter of 2024, we can break down the available information systematically.\n",
      "\n",
      "1. **Extract Information for TCB:**\n",
      "   - Looking into the financial statement data provided:\n",
      "     - For TCB (stock code TCB) in the first quarter of 2024, we find the following figures:\n",
      "       - \"Revenue (Bn. VND)\": 14,507,238,000,000.0 VND\n",
      "       - \"Profit before tax\": 7,801,659,000,000.0 VND\n",
      "     \n",
      "   - **Calculating TCB Revenue and Profit:**\n",
      "     - Revenue: 14,507,238,000,000.0 VND\n",
      "     - Profit: 7,801,659,000,000.0 VND\n",
      "\n",
      "2. **Extract Information for VCB:**\n",
      "   - Again, looking into the financial data:\n",
      "     - For VCB (stock code VCB) in the first quarter of 2024, the relevant figures are:\n",
      "       - \"Revenue (Bn. VND)\": 24,019,660,000,000.0 VND\n",
      "       - \"Profit before tax\": 10,718,239,000,000.0 VND\n",
      "     \n",
      "   - **Calculating VCB Revenue and Profit:**\n",
      "     - Revenue: 24,019,660,000,000.0 VND\n",
      "     - Profit: 10,718,239,000,000.0 VND\n",
      "\n",
      "3. **Summary of Results:**\n",
      "   - **TCB Results:**\n",
      "     - Revenue: 14,507,238,000,000.0 VND\n",
      "     - Profit: 7,801,659,000,000.0 VND\n",
      "   - **VCB Results:**\n",
      "     - Revenue: 24,019,660,000,000.0 VND\n",
      "     - Profit: 10,718,239,000,000.0 VND\n",
      "\n",
      "4. **Final Answer:**\n",
      "   - So to summarize the response to the question:\n",
      "     - For TCB in Q1 2024:\n",
      "       - Revenue: 14,507,238,000,000 VND\n",
      "       - Profit before tax: 7,801,659,000,000 VND\n",
      "     - For VCB in Q1 2024:\n",
      "       - Revenue: 24,019,660,000,000 VND\n",
      "       - Profit before tax: 10,718,239,000,000 VND\n",
      "\n",
      "This step-by-step breakdown confirms that we have accurately extracted and calculated the necessary figures from the given financial data.\n"
     ]
    }
   ],
   "source": [
    "answer = CoT_reasoning(llm, prompt, result)\n",
    "print(answer)"
   ]
  },
  {
   "cell_type": "markdown",
   "metadata": {},
   "source": [
    "category = xx\n",
    "\n",
    "category IN (xx, yy)"
   ]
  }
 ],
 "metadata": {
  "kernelspec": {
   "display_name": "Python 3",
   "language": "python",
   "name": "python3"
  },
  "language_info": {
   "codemirror_mode": {
    "name": "ipython",
    "version": 3
   },
   "file_extension": ".py",
   "mimetype": "text/x-python",
   "name": "python",
   "nbconvert_exporter": "python",
   "pygments_lexer": "ipython3",
   "version": "3.11.6"
  }
 },
 "nbformat": 4,
 "nbformat_minor": 2
}
