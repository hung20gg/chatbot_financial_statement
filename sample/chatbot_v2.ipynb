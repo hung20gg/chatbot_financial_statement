{
 "cells": [
  {
   "cell_type": "code",
   "execution_count": 1,
   "metadata": {},
   "outputs": [],
   "source": [
    "from llm.llm.chatgpt import ChatGPT\n",
    "from setup_db import create_chroma_db, connect_to_db, execute_query, DB\n",
    "from llm_test import MappingTable, find_suitable_column, reasoning_text2SQL, CoT_reasoning"
   ]
  },
  {
   "cell_type": "code",
   "execution_count": 2,
   "metadata": {},
   "outputs": [],
   "source": [
    "llm = ChatGPT()"
   ]
  },
  {
   "cell_type": "code",
   "execution_count": 3,
   "metadata": {},
   "outputs": [],
   "source": [
    "db_name = 'test_db'\n",
    "user = 'postgres'\n",
    "password = '12345678'\n",
    "port = '5433'\n",
    "host = 'localhost'"
   ]
  },
  {
   "cell_type": "code",
   "execution_count": 4,
   "metadata": {},
   "outputs": [
    {
     "name": "stdout",
     "output_type": "stream",
     "text": [
      "Connecting to database test_db, postgres...\n"
     ]
    }
   ],
   "source": [
    "db = DB(db_name, user, password, host, port)\n"
   ]
  },
  {
   "cell_type": "code",
   "execution_count": 5,
   "metadata": {},
   "outputs": [],
   "source": [
    "collection_chromadb = 'category_bank_chroma'\n",
    "persist_directory = 'data/category_bank_chroma'\n",
    "bank_vector_store = create_chroma_db(collection_chromadb, persist_directory)\n",
    "\n",
    "collection_chromadb = 'category_non_bank_chroma'\n",
    "persist_directory = 'data/category_non_bank_chroma'\n",
    "none_bank_vector_store = create_chroma_db(collection_chromadb, persist_directory)"
   ]
  },
  {
   "cell_type": "code",
   "execution_count": 6,
   "metadata": {},
   "outputs": [],
   "source": [
    "mapping_table = MappingTable(vector_db_bank=bank_vector_store, vector_db_non_bank=none_bank_vector_store, db=db)"
   ]
  },
  {
   "cell_type": "code",
   "execution_count": 15,
   "metadata": {},
   "outputs": [],
   "source": [
    "prompt = \"Calculate ROA, ROE of the bank VIB in Q2 2024\""
   ]
  },
  {
   "cell_type": "code",
   "execution_count": 16,
   "metadata": {},
   "outputs": [
    {
     "name": "stdout",
     "output_type": "stream",
     "text": [
      "CompletionUsage(completion_tokens=240, prompt_tokens=154, total_tokens=394, completion_tokens_details=CompletionTokensDetails(reasoning_tokens=0))\n",
      "To calculate the Return on Assets (ROA) and Return on Equity (ROE) for a bank such as VIB, we need to focus on specific columns from the financial statement that pertain to the bank's assets and equity.\n",
      "\n",
      "1. **Return on Assets (ROA)** is calculated using the formula:\n",
      "   \\[\n",
      "   ROA = \\frac{Net \\ Income}{Total \\ Assets}\n",
      "   \\]\n",
      "   - For this, we need the \"Net Income\" and \"Total Assets\" columns.\n",
      "\n",
      "2. **Return on Equity (ROE)** is calculated using the formula:\n",
      "   \\[\n",
      "   ROE = \\frac{Net \\ Income}{Total \\ Equity}\n",
      "   \\]\n",
      "   - For this, we need the \"Net Income\" and \"Total Equity\" columns.\n",
      "\n",
      "In a bank's financial statement, the relevant columns would typically be labeled as follows:\n",
      "\n",
      "- \"Net Income\"\n",
      "- \"Total Assets\"\n",
      "- \"Total Equity\"\n",
      "\n",
      "Based on this analysis, the suitable columns for the bank's financial statements are:\n",
      "\n",
      "```json\n",
      "{\n",
      "    \"bank_column_name\": [\"Net Income\", \"Total Assets\", \"Total Equity\"],\n",
      "    \"non_bank_column_name\": []\n",
      "}\n",
      "```\n"
     ]
    },
    {
     "data": {
      "text/plain": [
       "{'bank_column_name': ['Net Income', 'Total Assets', 'Total Equity'],\n",
       " 'non_bank_column_name': []}"
      ]
     },
     "execution_count": 16,
     "metadata": {},
     "output_type": "execute_result"
    }
   ],
   "source": [
    "find_suitable_column(llm, prompt)"
   ]
  },
  {
   "cell_type": "code",
   "execution_count": 17,
   "metadata": {},
   "outputs": [
    {
     "name": "stdout",
     "output_type": "stream",
     "text": [
      "CompletionUsage(completion_tokens=189, prompt_tokens=154, total_tokens=343, completion_tokens_details=CompletionTokensDetails(reasoning_tokens=0))\n",
      "To calculate the Return on Assets (ROA) and Return on Equity (ROE) for a bank, the relevant columns in the financial statements are as follows:\n",
      "\n",
      "- For ROA, you would typically use:\n",
      "  - **Net Income**: This represents the profit of the bank after all expenses and taxes.\n",
      "  - **Average Total Assets**: This is the average value of all the assets owned by the bank during the period.\n",
      "\n",
      "- For ROE, you would typically use:\n",
      "  - **Net Income**: Same as above.\n",
      "  - **Average Shareholder’s Equity**: This is the average equity available to the shareholders during the period.\n",
      "\n",
      "Hence, the suggested column names for a bank's financial statements would be:\n",
      "\n",
      "```json\n",
      "{\n",
      "    \"bank_column_name\": [\n",
      "        \"Net Income\",\n",
      "        \"Average Total Assets\",\n",
      "        \"Average Shareholder’s Equity\"\n",
      "    ],\n",
      "    \"non_bank_column_name\": []\n",
      "}\n",
      "```\n",
      "CompletionUsage(completion_tokens=693, prompt_tokens=1623, total_tokens=2316, completion_tokens_details=CompletionTokensDetails(reasoning_tokens=0))\n"
     ]
    }
   ],
   "source": [
    "sql = reasoning_text2SQL(llm, prompt, mapping_table.search_return_df, 5)"
   ]
  },
  {
   "cell_type": "code",
   "execution_count": 18,
   "metadata": {},
   "outputs": [
    {
     "name": "stdout",
     "output_type": "stream",
     "text": [
      "WITH net_income AS (\n",
      "    SELECT bfs.data AS net_income, bfs.stock_code as stock_code, bfs.quarter as quarter, bfs.year as year\n",
      "    FROM bank_financial_report bfs\n",
      "    JOIN map_category_code_bank mc \n",
      "      ON bfs.category_code = mc.category_code\n",
      "    WHERE bfs.stock_code = 'VIB'\n",
      "      AND bfs.year = 2024\n",
      "      AND bfs.quarter = 2\n",
      "      AND mc.en_caption = 'Profit after Tax'\n",
      "),\n",
      "total_assets AS (\n",
      "    SELECT bfs.data AS total_assets, bfs.stock_code as stock_code, bfs.quarter as quarter, bfs.year as year\n",
      "    FROM bank_financial_report bfs\n",
      "    JOIN map_category_code_bank mc \n",
      "      ON bfs.category_code = mc.category_code\n",
      "    WHERE bfs.stock_code = 'VIB'\n",
      "      AND bfs.year = 2024\n",
      "      AND bfs.quarter = 2\n",
      "      AND mc.en_caption = 'Total Assets'\n",
      "),\n",
      "equity AS (\n",
      "    SELECT bfs.data AS equity, bfs.stock_code as stock_code, bfs.quarter as quarter, bfs.year as year\n",
      "    FROM bank_financial_report bfs\n",
      "    JOIN map_category_code_bank mc \n",
      "      ON bfs.category_code = mc.category_code\n",
      "    WHERE bfs.stock_code = 'VIB'\n",
      "      AND bfs.year = 2024\n",
      "      AND bfs.quarter = 2\n",
      "      AND mc.en_caption = 'Equity'\n",
      ")\n",
      "\n",
      "-- Select detailed information\n",
      "SELECT \n",
      "    net_income.stock_code,\n",
      "    net_income.year,\n",
      "    net_income.quarter,\n",
      "    net_income.net_income,\n",
      "    total_assets.total_assets,\n",
      "    equity.equity,\n",
      "    (net_income.net_income / total_assets.total_assets) AS ROA,\n",
      "    (net_income.net_income / equity.equity) AS ROE\n",
      "FROM net_income\n",
      "JOIN total_assets \n",
      "  ON net_income.stock_code = total_assets.stock_code\n",
      "  AND net_income.quarter = total_assets.quarter \n",
      "  AND net_income.year = total_assets.year\n",
      "JOIN equity \n",
      "  ON net_income.stock_code = equity.stock_code\n",
      "  AND net_income.quarter = equity.quarter \n",
      "  AND net_income.year = equity.year;\n",
      "\n"
     ]
    }
   ],
   "source": [
    "print(sql[0]['code'])"
   ]
  },
  {
   "cell_type": "code",
   "execution_count": 19,
   "metadata": {},
   "outputs": [
    {
     "data": {
      "text/html": [
       "<div>\n",
       "<style scoped>\n",
       "    .dataframe tbody tr th:only-of-type {\n",
       "        vertical-align: middle;\n",
       "    }\n",
       "\n",
       "    .dataframe tbody tr th {\n",
       "        vertical-align: top;\n",
       "    }\n",
       "\n",
       "    .dataframe thead th {\n",
       "        text-align: right;\n",
       "    }\n",
       "</style>\n",
       "<table border=\"1\" class=\"dataframe\">\n",
       "  <thead>\n",
       "    <tr style=\"text-align: right;\">\n",
       "      <th></th>\n",
       "      <th>stock_code</th>\n",
       "      <th>year</th>\n",
       "      <th>quarter</th>\n",
       "      <th>net_income</th>\n",
       "      <th>total_assets</th>\n",
       "      <th>equity</th>\n",
       "      <th>roa</th>\n",
       "      <th>roe</th>\n",
       "    </tr>\n",
       "  </thead>\n",
       "  <tbody>\n",
       "    <tr>\n",
       "      <th>0</th>\n",
       "      <td>VIB</td>\n",
       "      <td>2024</td>\n",
       "      <td>2</td>\n",
       "      <td>1682.962</td>\n",
       "      <td>430962.08</td>\n",
       "      <td>38350.429</td>\n",
       "      <td>0.003905</td>\n",
       "      <td>0.043884</td>\n",
       "    </tr>\n",
       "  </tbody>\n",
       "</table>\n",
       "</div>"
      ],
      "text/plain": [
       "  stock_code  year  quarter  net_income  total_assets     equity       roa  \\\n",
       "0        VIB  2024        2    1682.962     430962.08  38350.429  0.003905   \n",
       "\n",
       "        roe  \n",
       "0  0.043884  "
      ]
     },
     "execution_count": 19,
     "metadata": {},
     "output_type": "execute_result"
    }
   ],
   "source": [
    "db.query(sql[0]['code'], return_type='dataframe')"
   ]
  },
  {
   "cell_type": "code",
   "execution_count": 12,
   "metadata": {},
   "outputs": [
    {
     "data": {
      "text/plain": [
       "[Document(page_content='Other Assets', metadata={'code': 'BS_250', 'lang': 'en'}),\n",
       " Document(page_content='Fixed Assets', metadata={'code': 'BS_220', 'lang': 'en'}),\n",
       " Document(page_content='Total Assets', metadata={'code': 'BS_300', 'lang': 'en'}),\n",
       " Document(page_content='Asset Revaluation Differences', metadata={'code': 'BS_440', 'lang': 'en'}),\n",
       " Document(page_content='Equity', metadata={'code': 'BS_500', 'lang': 'en'})]"
      ]
     },
     "execution_count": 12,
     "metadata": {},
     "output_type": "execute_result"
    }
   ],
   "source": [
    "res = bank_vector_store.similarity_search('Asset', 5)\n",
    "res"
   ]
  }
 ],
 "metadata": {
  "kernelspec": {
   "display_name": "Python 3",
   "language": "python",
   "name": "python3"
  },
  "language_info": {
   "codemirror_mode": {
    "name": "ipython",
    "version": 3
   },
   "file_extension": ".py",
   "mimetype": "text/x-python",
   "name": "python",
   "nbconvert_exporter": "python",
   "pygments_lexer": "ipython3",
   "version": "3.11.6"
  }
 },
 "nbformat": 4,
 "nbformat_minor": 2
}
