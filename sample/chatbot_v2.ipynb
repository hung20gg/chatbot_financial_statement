{
 "cells": [
  {
   "cell_type": "code",
   "execution_count": 1,
   "metadata": {},
   "outputs": [],
   "source": [
    "from llm.llm.chatgpt import ChatGPT\n",
    "from setup_db import create_chroma_db, connect_to_db, execute_query, DBHUB\n",
    "from llm_test import reasoning_text2SQL, CoT_reasoning\n",
    "from llm_general import  find_suitable_row_v2"
   ]
  },
  {
   "cell_type": "code",
   "execution_count": 2,
   "metadata": {},
   "outputs": [],
   "source": [
    "llm = ChatGPT()"
   ]
  },
  {
   "cell_type": "code",
   "execution_count": 3,
   "metadata": {},
   "outputs": [],
   "source": [
    "question = \"What is the average total assets of bank in Q2 2024\""
   ]
  },
  {
   "cell_type": "code",
   "execution_count": 4,
   "metadata": {},
   "outputs": [
    {
     "name": "stdout",
     "output_type": "stream",
     "text": [
      "CompletionUsage(completion_tokens=31, prompt_tokens=165, total_tokens=196, prompt_tokens_details={'cached_tokens': 0}, completion_tokens_details={'reasoning_tokens': 0})\n",
      "Find suitable column response: \n",
      "```json\n",
      "{\n",
      "    \"industry\": [\"Banking\"],\n",
      "    \"financial_statement_row\": [\"Total Assets\"],\n",
      "    \"financial_ratio_row\": []\n",
      "}\n",
      "```\n",
      "====================================\n"
     ]
    },
    {
     "data": {
      "text/plain": [
       "{'industry': ['Banking'],\n",
       " 'financial_statement_row': ['Total Assets'],\n",
       " 'financial_ratio_row': []}"
      ]
     },
     "execution_count": 4,
     "metadata": {},
     "output_type": "execute_result"
    }
   ],
   "source": [
    "find_suitable_row_v2(llm, question, verbose=True)"
   ]
  },
  {
   "cell_type": "code",
   "execution_count": 15,
   "metadata": {},
   "outputs": [],
   "source": [
    "db_name = 'test_db'\n",
    "user = 'postgres'\n",
    "password = '12345678'\n",
    "port = '5433'\n",
    "host = 'localhost'"
   ]
  },
  {
   "cell_type": "code",
   "execution_count": 16,
   "metadata": {},
   "outputs": [
    {
     "name": "stdout",
     "output_type": "stream",
     "text": [
      "Connecting to database test_db, postgres...\n"
     ]
    }
   ],
   "source": [
    "conn = connect_to_db(db_name, user, password, host, port)\n"
   ]
  },
  {
   "cell_type": "code",
   "execution_count": 17,
   "metadata": {},
   "outputs": [],
   "source": [
    "collection_chromadb = 'category_bank_chroma'\n",
    "persist_directory = 'data/category_bank_chroma'\n",
    "bank_vector_store = create_chroma_db(collection_chromadb, persist_directory)\n",
    "\n",
    "collection_chromadb = 'category_non_bank_chroma'\n",
    "persist_directory = 'data/category_non_bank_chroma'\n",
    "none_bank_vector_store = create_chroma_db(collection_chromadb, persist_directory)\n",
    "\n",
    "collection_chromadb = 'company_name_chroma'\n",
    "persist_directory = 'data/company_name_chroma'\n",
    "vector_db_company = create_chroma_db(collection_chromadb, persist_directory)\n",
    "\n",
    "collection_chromadb = 'sql_query'\n",
    "persist_directory = 'data/sql_query'\n",
    "vector_db_sql = create_chroma_db(collection_chromadb, persist_directory)"
   ]
  },
  {
   "cell_type": "code",
   "execution_count": 18,
   "metadata": {},
   "outputs": [],
   "source": [
    "db = DBHUB(conn, bank_vector_store, none_bank_vector_store, vector_db_company, vector_db_sql)"
   ]
  },
  {
   "cell_type": "code",
   "execution_count": 19,
   "metadata": {},
   "outputs": [],
   "source": [
    "prompt = \"Calculate ROA, ROE of the bank VIB in financial year 2023\""
   ]
  },
  {
   "cell_type": "code",
   "execution_count": 20,
   "metadata": {},
   "outputs": [
    {
     "name": "stdout",
     "output_type": "stream",
     "text": [
      "CompletionUsage(completion_tokens=40, prompt_tokens=166, total_tokens=206, completion_tokens_details=CompletionTokensDetails(reasoning_tokens=0), prompt_tokens_details={'cached_tokens': 0})\n",
      "Find suitable column response: \n",
      "```json\n",
      "{\n",
      "    \"bank_column_name\": [\n",
      "        \"Net Income\",\n",
      "        \"Total Assets\",\n",
      "        \"Shareholders' Equity\"\n",
      "    ],\n",
      "    \"non_bank_column_name\": []\n",
      "}\n",
      "```\n",
      "====================================\n",
      "Bank column:    category_code                                         en_caption\n",
      "0         IS_003                                Net interest income\n",
      "1         IS_006          Net profit/(loss) from service activities\n",
      "2         IS_012            Net profit/(loss) from other activities\n",
      "3         IS_021                                   Profit after tax\n",
      "4         IS_023                           Basic earnings per share\n",
      "5         BS_220                                       Fixed assets\n",
      "6         BS_250                                       Other assets\n",
      "7         BS_254                                       Other assets\n",
      "8         BS_300                                       Total assets\n",
      "9         BS_400                                  Total liabilities\n",
      "10        BS_500                               Shareholders’ equity\n",
      "11        BS_415                                   Preferred shares\n",
      "12        BS_800         Total liabilities and shareholders’ equity\n",
      "13        CF_038  Dividends paid to shareholders, profits distri...\n",
      "14        CF_041            Net cash flow from financial activities\n",
      "Non-bank column: \n",
      "CompletionUsage(completion_tokens=554, prompt_tokens=1405, total_tokens=1959, completion_tokens_details=CompletionTokensDetails(reasoning_tokens=0), prompt_tokens_details={'cached_tokens': 0})\n",
      "To calculate the Return on Assets (ROA) and Return on Equity (ROE) for the bank VIB in the financial year 2023, we need to gather the necessary financial data from the `bank_financial_report` table. \n",
      "\n",
      "ROA is calculated as:\n",
      "\\[ \\text{ROA} = \\frac{\\text{Net Profit}}{\\text{Total Assets}} \\]\n",
      "\n",
      "ROE is calculated as:\n",
      "\\[ \\text{ROE} = \\frac{\\text{Net Profit}}{\\text{Shareholders' Equity}} \\]\n",
      "\n",
      "From the mapping table, we need the following category codes:\n",
      "- For Net Profit after tax, we will use `IS_021`.\n",
      "- For Total Assets, we will use `BS_300`.\n",
      "- For Shareholders' Equity, we will use `BS_500`.\n",
      "\n",
      "We will first create Common Table Expressions (CTEs) to extract the required values for Net Profit, Total Assets, and Shareholders' Equity. Then, we will calculate ROA and ROE based on these values.\n",
      "\n",
      "Here is the SQL query:\n",
      "\n",
      "```sql\n",
      "-- Calculate ROA and ROE for bank VIB in financial year 2023\n",
      "\n",
      "WITH net_profit AS (\n",
      "    SELECT data AS net_profit\n",
      "    FROM bank_financial_report\n",
      "    WHERE stock_code = 'VIB'\n",
      "      AND year = 2023\n",
      "      AND quarter = 0\n",
      "      AND category_code = 'IS_021'\n",
      "),\n",
      "\n",
      "total_assets AS (\n",
      "    SELECT data AS total_assets\n",
      "    FROM bank_financial_report\n",
      "    WHERE stock_code = 'VIB'\n",
      "      AND year = 2023\n",
      "      AND quarter = 0\n",
      "      AND category_code = 'BS_300'\n",
      "),\n",
      "\n",
      "shareholders_equity AS (\n",
      "    SELECT data AS shareholders_equity\n",
      "    FROM bank_financial_report\n",
      "    WHERE stock_code = 'VIB'\n",
      "      AND year = 2023\n",
      "      AND quarter = 0\n",
      "      AND category_code = 'BS_500'\n",
      ")\n",
      "\n",
      "SELECT \n",
      "    np.net_profit,\n",
      "    ta.total_assets,\n",
      "    se.shareholders_equity,\n",
      "    (np.net_profit / ta.total_assets) AS ROA,\n",
      "    (np.net_profit / se.shareholders_equity) AS ROE\n",
      "FROM net_profit np\n",
      "JOIN total_assets ta ON 1=1\n",
      "JOIN shareholders_equity se ON 1=1;\n",
      "```\n",
      "\n",
      "In this query:\n",
      "- We create CTEs to fetch the net profit, total assets, and shareholders' equity for VIB for the year 2023.\n",
      "- We then select these values and calculate ROA and ROE using the appropriate formulas. The `JOIN` conditions are set to `1=1` since we are combining single-row results from each CTE.\n",
      "SQL Code 1: \n",
      "-- Calculate ROA and ROE for bank VIB in financial year 2023\n",
      "\n",
      "WITH net_profit AS (\n",
      "    SELECT data AS net_profit\n",
      "    FROM bank_financial_report\n",
      "    WHERE stock_code = 'VIB'\n",
      "      AND year = 2023\n",
      "      AND quarter = 0\n",
      "      AND category_code = 'IS_021'\n",
      "),\n",
      "\n",
      "total_assets AS (\n",
      "    SELECT data AS total_assets\n",
      "    FROM bank_financial_report\n",
      "    WHERE stock_code = 'VIB'\n",
      "      AND year = 2023\n",
      "      AND quarter = 0\n",
      "      AND category_code = 'BS_300'\n",
      "),\n",
      "\n",
      "shareholders_equity AS (\n",
      "    SELECT data AS shareholders_equity\n",
      "    FROM bank_financial_report\n",
      "    WHERE stock_code = 'VIB'\n",
      "      AND year = 2023\n",
      "      AND quarter = 0\n",
      "      AND category_code = 'BS_500'\n",
      ")\n",
      "\n",
      "SELECT \n",
      "    np.net_profit,\n",
      "    ta.total_assets,\n",
      "    se.shareholders_equity,\n",
      "    (np.net_profit / ta.total_assets) AS ROA,\n",
      "    (np.net_profit / se.shareholders_equity) AS ROE\n",
      "FROM net_profit np\n",
      "JOIN total_assets ta ON 1=1\n",
      "JOIN shareholders_equity se ON 1=1;\n",
      "\n"
     ]
    }
   ],
   "source": [
    "sql = reasoning_text2SQL(llm, prompt, db, 5, verbose=True)"
   ]
  },
  {
   "cell_type": "code",
   "execution_count": 21,
   "metadata": {},
   "outputs": [
    {
     "data": {
      "text/plain": [
       "[{'language': 'sql',\n",
       "  'code': \"-- Calculate ROA and ROE for bank VIB in financial year 2023\\n\\nWITH net_profit AS (\\n    SELECT data AS net_profit\\n    FROM bank_financial_report\\n    WHERE stock_code = 'VIB'\\n      AND year = 2023\\n      AND quarter = 0\\n      AND category_code = 'IS_021'\\n),\\n\\ntotal_assets AS (\\n    SELECT data AS total_assets\\n    FROM bank_financial_report\\n    WHERE stock_code = 'VIB'\\n      AND year = 2023\\n      AND quarter = 0\\n      AND category_code = 'BS_300'\\n),\\n\\nshareholders_equity AS (\\n    SELECT data AS shareholders_equity\\n    FROM bank_financial_report\\n    WHERE stock_code = 'VIB'\\n      AND year = 2023\\n      AND quarter = 0\\n      AND category_code = 'BS_500'\\n)\\n\\nSELECT \\n    np.net_profit,\\n    ta.total_assets,\\n    se.shareholders_equity,\\n    (np.net_profit / ta.total_assets) AS ROA,\\n    (np.net_profit / se.shareholders_equity) AS ROE\\nFROM net_profit np\\nJOIN total_assets ta ON 1=1\\nJOIN shareholders_equity se ON 1=1;\\n\"}]"
      ]
     },
     "execution_count": 21,
     "metadata": {},
     "output_type": "execute_result"
    }
   ],
   "source": [
    "sql"
   ]
  },
  {
   "cell_type": "code",
   "execution_count": 22,
   "metadata": {},
   "outputs": [
    {
     "name": "stdout",
     "output_type": "stream",
     "text": [
      "-- Calculate ROA and ROE for bank VIB in financial year 2023\n",
      "\n",
      "WITH net_profit AS (\n",
      "    SELECT data AS net_profit\n",
      "    FROM bank_financial_report\n",
      "    WHERE stock_code = 'VIB'\n",
      "      AND year = 2023\n",
      "      AND quarter = 0\n",
      "      AND category_code = 'IS_021'\n",
      "),\n",
      "\n",
      "total_assets AS (\n",
      "    SELECT data AS total_assets\n",
      "    FROM bank_financial_report\n",
      "    WHERE stock_code = 'VIB'\n",
      "      AND year = 2023\n",
      "      AND quarter = 0\n",
      "      AND category_code = 'BS_300'\n",
      "),\n",
      "\n",
      "shareholders_equity AS (\n",
      "    SELECT data AS shareholders_equity\n",
      "    FROM bank_financial_report\n",
      "    WHERE stock_code = 'VIB'\n",
      "      AND year = 2023\n",
      "      AND quarter = 0\n",
      "      AND category_code = 'BS_500'\n",
      ")\n",
      "\n",
      "SELECT \n",
      "    np.net_profit,\n",
      "    ta.total_assets,\n",
      "    se.shareholders_equity,\n",
      "    (np.net_profit / ta.total_assets) AS ROA,\n",
      "    (np.net_profit / se.shareholders_equity) AS ROE\n",
      "FROM net_profit np\n",
      "JOIN total_assets ta ON 1=1\n",
      "JOIN shareholders_equity se ON 1=1;\n",
      "\n"
     ]
    }
   ],
   "source": [
    "print(sql[-1]['code'])"
   ]
  },
  {
   "cell_type": "code",
   "execution_count": 23,
   "metadata": {},
   "outputs": [
    {
     "data": {
      "text/html": [
       "<div>\n",
       "<style scoped>\n",
       "    .dataframe tbody tr th:only-of-type {\n",
       "        vertical-align: middle;\n",
       "    }\n",
       "\n",
       "    .dataframe tbody tr th {\n",
       "        vertical-align: top;\n",
       "    }\n",
       "\n",
       "    .dataframe thead th {\n",
       "        text-align: right;\n",
       "    }\n",
       "</style>\n",
       "<table border=\"1\" class=\"dataframe\">\n",
       "  <thead>\n",
       "    <tr style=\"text-align: right;\">\n",
       "      <th></th>\n",
       "      <th>net_profit</th>\n",
       "      <th>total_assets</th>\n",
       "      <th>shareholders_equity</th>\n",
       "      <th>roa</th>\n",
       "      <th>roe</th>\n",
       "    </tr>\n",
       "  </thead>\n",
       "  <tbody>\n",
       "    <tr>\n",
       "      <th>0</th>\n",
       "      <td>8563053</td>\n",
       "      <td>409881373</td>\n",
       "      <td>37939587</td>\n",
       "      <td>0.02089153975777279345</td>\n",
       "      <td>0.22570232512019701216</td>\n",
       "    </tr>\n",
       "  </tbody>\n",
       "</table>\n",
       "</div>"
      ],
      "text/plain": [
       "  net_profit total_assets shareholders_equity                     roa  \\\n",
       "0    8563053    409881373            37939587  0.02089153975777279345   \n",
       "\n",
       "                      roe  \n",
       "0  0.22570232512019701216  "
      ]
     },
     "execution_count": 23,
     "metadata": {},
     "output_type": "execute_result"
    }
   ],
   "source": [
    "db.query(sql[-1]['code'], return_type='dataframe')"
   ]
  },
  {
   "cell_type": "code",
   "execution_count": 24,
   "metadata": {},
   "outputs": [
    {
     "data": {
      "text/plain": [
       "[Document(page_content='Other assets', metadata={'code': 'BS_250', 'lang': 'en'}),\n",
       " Document(page_content='Other assets', metadata={'code': 'BS_254', 'lang': 'en'}),\n",
       " Document(page_content='Fixed assets', metadata={'code': 'BS_220', 'lang': 'en'}),\n",
       " Document(page_content='Asset revaluation difference', metadata={'code': 'BS_440', 'lang': 'en'}),\n",
       " Document(page_content='Other capital', metadata={'code': 'BS_416', 'lang': 'en'})]"
      ]
     },
     "execution_count": 24,
     "metadata": {},
     "output_type": "execute_result"
    },
    {
     "ename": "",
     "evalue": "",
     "output_type": "error",
     "traceback": [
      "\u001b[1;31mThe Kernel crashed while executing code in the current cell or a previous cell. \n",
      "\u001b[1;31mPlease review the code in the cell(s) to identify a possible cause of the failure. \n",
      "\u001b[1;31mClick <a href='https://aka.ms/vscodeJupyterKernelCrash'>here</a> for more info. \n",
      "\u001b[1;31mView Jupyter <a href='command:jupyter.viewOutput'>log</a> for further details."
     ]
    }
   ],
   "source": [
    "res = bank_vector_store.similarity_search('Asset', 5)\n",
    "res"
   ]
  }
 ],
 "metadata": {
  "kernelspec": {
   "display_name": "env",
   "language": "python",
   "name": "python3"
  },
  "language_info": {
   "codemirror_mode": {
    "name": "ipython",
    "version": 3
   },
   "file_extension": ".py",
   "mimetype": "text/x-python",
   "name": "python",
   "nbconvert_exporter": "python",
   "pygments_lexer": "ipython3",
   "version": "3.10.11"
  }
 },
 "nbformat": 4,
 "nbformat_minor": 2
}
