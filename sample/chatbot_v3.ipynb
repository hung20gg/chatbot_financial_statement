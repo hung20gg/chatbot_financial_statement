{
 "cells": [
  {
   "cell_type": "code",
   "execution_count": 19,
   "metadata": {},
   "outputs": [],
   "source": [
    "from llm.llm.chatgpt import ChatGPT\n",
    "from llm.llm.gemini import Gemini\n",
    "from setup_db import create_chroma_db, connect_to_db, execute_query, DBHUB\n",
    "from branch_reasoning import *"
   ]
  },
  {
   "cell_type": "code",
   "execution_count": 20,
   "metadata": {},
   "outputs": [],
   "source": [
    "llm = Gemini()"
   ]
  },
  {
   "cell_type": "code",
   "execution_count": 21,
   "metadata": {},
   "outputs": [],
   "source": [
    "db_name = 'test_db'\n",
    "user = 'postgres'\n",
    "password = '12345678'\n",
    "port = '5433'\n",
    "host = 'localhost'"
   ]
  },
  {
   "cell_type": "code",
   "execution_count": 22,
   "metadata": {},
   "outputs": [
    {
     "name": "stdout",
     "output_type": "stream",
     "text": [
      "Connecting to database test_db, postgres...\n"
     ]
    }
   ],
   "source": [
    "conn = connect_to_db(db_name, user, password, host, port)"
   ]
  },
  {
   "cell_type": "code",
   "execution_count": 23,
   "metadata": {},
   "outputs": [],
   "source": [
    "collection_chromadb = 'category_bank_chroma'\n",
    "persist_directory = 'data/category_bank_chroma'\n",
    "bank_vector_store = create_chroma_db(collection_chromadb, persist_directory)\n",
    "\n",
    "collection_chromadb = 'category_non_bank_chroma'\n",
    "persist_directory = 'data/category_non_bank_chroma'\n",
    "none_bank_vector_store = create_chroma_db(collection_chromadb, persist_directory)\n",
    "\n",
    "collection_chromadb = 'company_name_chroma'\n",
    "persist_directory = 'data/company_name_chroma'\n",
    "vector_db_company = create_chroma_db(collection_chromadb, persist_directory)\n",
    "\n",
    "collection_chromadb = 'sql_query'\n",
    "persist_directory = 'data/sql_query'\n",
    "vector_db_sql = create_chroma_db(collection_chromadb, persist_directory)"
   ]
  },
  {
   "cell_type": "code",
   "execution_count": 24,
   "metadata": {},
   "outputs": [
    {
     "data": {
      "text/plain": [
       "[Document(metadata={'lang': 'en', 'stock_code': 'SSI'}, page_content='SSI Securities Corporation'),\n",
       " Document(metadata={'lang': 'vi', 'stock_code': 'SSI'}, page_content='SSI'),\n",
       " Document(metadata={'lang': 'en', 'stock_code': 'MSN'}, page_content='Masan Group Corporation'),\n",
       " Document(metadata={'lang': 'vi', 'stock_code': 'VIC'}, page_content='VIC'),\n",
       " Document(metadata={'lang': 'en', 'stock_code': 'SSI'}, page_content='SSI Securities')]"
      ]
     },
     "execution_count": 24,
     "metadata": {},
     "output_type": "execute_result"
    }
   ],
   "source": [
    "vector_db_company.similarity_search('company', k=5)"
   ]
  },
  {
   "cell_type": "code",
   "execution_count": 25,
   "metadata": {},
   "outputs": [],
   "source": [
    "db = DBHUB(conn, bank_vector_store, none_bank_vector_store, vector_db_company, vector_db_sql)"
   ]
  },
  {
   "cell_type": "markdown",
   "metadata": {},
   "source": []
  },
  {
   "cell_type": "code",
   "execution_count": 26,
   "metadata": {},
   "outputs": [],
   "source": [
    "prompt =  \"Calculate ROA, ROE of all the company which are owned by VinGroup\""
   ]
  },
  {
   "cell_type": "code",
   "execution_count": 27,
   "metadata": {},
   "outputs": [
    {
     "name": "stdout",
     "output_type": "stream",
     "text": [
      "prompt_token_count: 379\n",
      "candidates_token_count: 206\n",
      "total_token_count: 585\n",
      "\n",
      "Branch reasoning response: \n",
      "```json\n",
      "{\n",
      "  \"steps\": [\n",
      "    \"Step 1: Identify all companies owned by VinGroup using the `company_info` and `sub_and_shareholder` databases. This involves joining the tables based on relevant identifiers (e.g., company IDs) to filter for companies where VinGroup holds ownership.\",\n",
      "    \"Step 2: Retrieve the necessary financial data (Net Income, Total Assets, Total Equity) for the identified VinGroup-owned companies from either the `bank_financial_report` or `non_bank_financial_report` database, depending on the company type.  Handle potential missing data appropriately (e.g., imputation or exclusion).\",\n",
      "    \"Step 3: Calculate ROA (Net Income / Total Assets) and ROE (Net Income / Total Equity) for each company identified in Step 1 using the financial data retrieved in Step 2.  Ensure consistent accounting standards are applied across all calculations.\"\n",
      "  ]\n",
      "}\n",
      "```\n",
      "\n",
      "====================================\n",
      "prompt_token_count: 387\n",
      "candidates_token_count: 45\n",
      "total_token_count: 432\n",
      "\n",
      "Find suitable column response: \n",
      "```json\n",
      "{\n",
      "  \"bank_column_name\": [],\n",
      "  \"non_bank_column_name\": [\"net_income\", \"total_assets\", \"total_equity\"]\n",
      "}\n",
      "```\n",
      "\n",
      "====================================\n",
      "Step 0: Extract company name\n",
      "prompt_token_count: 71\n",
      "candidates_token_count: 20\n",
      "total_token_count: 91\n",
      "\n",
      "Get stock code based on company name response: \n",
      "```json\n",
      "{\n",
      "  \"company_name\": [\"VinGroup\"]\n",
      "}\n",
      "```\n",
      "\n",
      "====================================\n",
      "Step 1: Step 1: Identify all companies owned by VinGroup using the `company_info` and `sub_and_shareholder` databases. This involves joining the tables based on relevant identifiers (e.g., company IDs) to filter for companies where VinGroup holds ownership.\n",
      "prompt_token_count: 2208\n",
      "candidates_token_count: 58\n",
      "total_token_count: 2266\n",
      "\n",
      "Step 1 response: \n",
      "```sql\n",
      "SELECT\n",
      "  ci.stock_code\n",
      "FROM company_info AS ci\n",
      "JOIN sub_and_shareholder AS ss\n",
      "  ON ci.stock_code = ss.invest_on\n",
      "WHERE\n",
      "  ss.stock_code = 'VIC';\n",
      "```\n",
      "\n",
      "====================================\n",
      "SQL Code 1: \n",
      "SELECT\n",
      "  ci.stock_code\n",
      "FROM company_info AS ci\n",
      "JOIN sub_and_shareholder AS ss\n",
      "  ON ci.stock_code = ss.invest_on\n",
      "WHERE\n",
      "  ss.stock_code = 'VIC';\n",
      "\n",
      "Step 2: Step 2: Retrieve the necessary financial data (Net Income, Total Assets, Total Equity) for the identified VinGroup-owned companies from either the `bank_financial_report` or `non_bank_financial_report` database, depending on the company type.  Handle potential missing data appropriately (e.g., imputation or exclusion).\n",
      "prompt_token_count: 2857\n",
      "candidates_token_count: 590\n",
      "total_token_count: 3447\n",
      "\n",
      "Step 2 response: \n",
      "```sql\n",
      "WITH vingroup_companies AS (\n",
      "  SELECT\n",
      "    ci.stock_code,\n",
      "    ci.is_bank\n",
      "  FROM company_info AS ci\n",
      "  JOIN sub_and_shareholder AS ss\n",
      "    ON ci.stock_code = ss.invest_on\n",
      "  WHERE\n",
      "    ss.stock_code = 'VIC'\n",
      "),\n",
      "financial_data AS (\n",
      "  SELECT\n",
      "    vgc.stock_code,\n",
      "    COALESCE(SUM(CASE WHEN mc.en_caption = 'Net profit from operating activities' THEN nbfr.data ELSE 0 END), 0) AS net_income,\n",
      "    COALESCE(SUM(CASE WHEN mc.en_caption = 'TOTAL ASSETS' THEN nbfr.data ELSE 0 END), 0) AS total_assets,\n",
      "    COALESCE(SUM(CASE WHEN mc.en_caption = 'Owner’s equity' THEN nbfr.data ELSE 0 END), 0) AS total_equity\n",
      "  FROM vingroup_companies AS vgc\n",
      "  LEFT JOIN non_bank_financial_report AS nbfr\n",
      "    ON vgc.stock_code = nbfr.stock_code\n",
      "  LEFT JOIN map_category_code_non_bank AS mc\n",
      "    ON nbfr.category_code = mc.category_code\n",
      "  WHERE\n",
      "    nbfr.quarter = 0 --Annual Report\n",
      "  GROUP BY\n",
      "    vgc.stock_code\n",
      "  UNION ALL\n",
      "  SELECT\n",
      "    vgc.stock_code,\n",
      "    COALESCE(SUM(CASE WHEN mc.en_caption = 'Net profit from operating activities' THEN bfr.data ELSE 0 END), 0) AS net_income,\n",
      "    COALESCE(SUM(CASE WHEN mc.en_caption = 'TOTAL ASSETS' THEN bfr.data ELSE 0 END), 0) AS total_assets,\n",
      "    COALESCE(SUM(CASE WHEN mc.en_caption = 'Owner’s equity' THEN bfr.data ELSE 0 END), 0) AS total_equity\n",
      "  FROM vingroup_companies AS vgc\n",
      "  LEFT JOIN bank_financial_report AS bfr\n",
      "    ON vgc.stock_code = bfr.stock_code\n",
      "  LEFT JOIN map_category_code_bank AS mc\n",
      "    ON bfr.category_code = mc.category_code\n",
      "  WHERE\n",
      "    bfr.quarter = 0 --Annual Report\n",
      "  GROUP BY\n",
      "    vgc.stock_code\n",
      ")\n",
      "SELECT\n",
      "  fd.stock_code,\n",
      "  fd.net_income,\n",
      "  fd.total_assets,\n",
      "  fd.total_equity\n",
      "FROM financial_data AS fd;\n",
      "```\n",
      "\n",
      "====================================\n",
      "SQL Code 1: \n",
      "WITH vingroup_companies AS (\n",
      "  SELECT\n",
      "    ci.stock_code,\n",
      "    ci.is_bank\n",
      "  FROM company_info AS ci\n",
      "  JOIN sub_and_shareholder AS ss\n",
      "    ON ci.stock_code = ss.invest_on\n",
      "  WHERE\n",
      "    ss.stock_code = 'VIC'\n",
      "),\n",
      "financial_data AS (\n",
      "  SELECT\n",
      "    vgc.stock_code,\n",
      "    COALESCE(SUM(CASE WHEN mc.en_caption = 'Net profit from operating activities' THEN nbfr.data ELSE 0 END), 0) AS net_income,\n",
      "    COALESCE(SUM(CASE WHEN mc.en_caption = 'TOTAL ASSETS' THEN nbfr.data ELSE 0 END), 0) AS total_assets,\n",
      "    COALESCE(SUM(CASE WHEN mc.en_caption = 'Owner’s equity' THEN nbfr.data ELSE 0 END), 0) AS total_equity\n",
      "  FROM vingroup_companies AS vgc\n",
      "  LEFT JOIN non_bank_financial_report AS nbfr\n",
      "    ON vgc.stock_code = nbfr.stock_code\n",
      "  LEFT JOIN map_category_code_non_bank AS mc\n",
      "    ON nbfr.category_code = mc.category_code\n",
      "  WHERE\n",
      "    nbfr.quarter = 0 --Annual Report\n",
      "  GROUP BY\n",
      "    vgc.stock_code\n",
      "  UNION ALL\n",
      "  SELECT\n",
      "    vgc.stock_code,\n",
      "    COALESCE(SUM(CASE WHEN mc.en_caption = 'Net profit from operating activities' THEN bfr.data ELSE 0 END), 0) AS net_income,\n",
      "    COALESCE(SUM(CASE WHEN mc.en_caption = 'TOTAL ASSETS' THEN bfr.data ELSE 0 END), 0) AS total_assets,\n",
      "    COALESCE(SUM(CASE WHEN mc.en_caption = 'Owner’s equity' THEN bfr.data ELSE 0 END), 0) AS total_equity\n",
      "  FROM vingroup_companies AS vgc\n",
      "  LEFT JOIN bank_financial_report AS bfr\n",
      "    ON vgc.stock_code = bfr.stock_code\n",
      "  LEFT JOIN map_category_code_bank AS mc\n",
      "    ON bfr.category_code = mc.category_code\n",
      "  WHERE\n",
      "    bfr.quarter = 0 --Annual Report\n",
      "  GROUP BY\n",
      "    vgc.stock_code\n",
      ")\n",
      "SELECT\n",
      "  fd.stock_code,\n",
      "  fd.net_income,\n",
      "  fd.total_assets,\n",
      "  fd.total_equity\n",
      "FROM financial_data AS fd;\n",
      "\n",
      "CASE types integer and character varying cannot be matched\n",
      "LINE 14: ...ion = 'Net profit from operating activities' THEN nbfr.data ...\n",
      "                                                              ^\n",
      "\n"
     ]
    },
    {
     "ename": "AttributeError",
     "evalue": "'NoneType' object has no attribute 'to_markdown'",
     "output_type": "error",
     "traceback": [
      "\u001b[1;31m---------------------------------------------------------------------------\u001b[0m",
      "\u001b[1;31mAttributeError\u001b[0m                            Traceback (most recent call last)",
      "Cell \u001b[1;32mIn[27], line 1\u001b[0m\n\u001b[1;32m----> 1\u001b[0m history \u001b[38;5;241m=\u001b[39m \u001b[43mllm_branch_reasoning\u001b[49m\u001b[43m(\u001b[49m\u001b[43mllm\u001b[49m\u001b[43m,\u001b[49m\u001b[43m \u001b[49m\u001b[43mprompt\u001b[49m\u001b[43m,\u001b[49m\u001b[43m \u001b[49m\u001b[43mdb\u001b[49m\u001b[43m,\u001b[49m\u001b[43m \u001b[49m\u001b[43mverbose\u001b[49m\u001b[38;5;241;43m=\u001b[39;49m\u001b[38;5;28;43;01mTrue\u001b[39;49;00m\u001b[43m)\u001b[49m\n",
      "File \u001b[1;32mc:\\Users\\Admin\\go_pro\\finance_chatbot\\group_2_chatbot_financial_statement\\sample\\branch_reasoning.py:212\u001b[0m, in \u001b[0;36mllm_branch_reasoning\u001b[1;34m(llm, task, db, verbose)\u001b[0m\n\u001b[0;32m    210\u001b[0m         \u001b[38;5;28mprint\u001b[39m(\u001b[38;5;124mf\u001b[39m\u001b[38;5;124m\"\u001b[39m\u001b[38;5;124mSQL Code \u001b[39m\u001b[38;5;132;01m{\u001b[39;00mj\u001b[38;5;241m+\u001b[39m\u001b[38;5;241m1\u001b[39m\u001b[38;5;132;01m}\u001b[39;00m\u001b[38;5;124m: \u001b[39m\u001b[38;5;130;01m\\n\u001b[39;00m\u001b[38;5;132;01m{\u001b[39;00mcode[\u001b[38;5;124m'\u001b[39m\u001b[38;5;124mcode\u001b[39m\u001b[38;5;124m'\u001b[39m]\u001b[38;5;132;01m}\u001b[39;00m\u001b[38;5;124m\"\u001b[39m)\n\u001b[0;32m    211\u001b[0m         table \u001b[38;5;241m=\u001b[39m db\u001b[38;5;241m.\u001b[39mquery(code[\u001b[38;5;124m'\u001b[39m\u001b[38;5;124mcode\u001b[39m\u001b[38;5;124m'\u001b[39m], return_type\u001b[38;5;241m=\u001b[39m\u001b[38;5;124m'\u001b[39m\u001b[38;5;124mdataframe\u001b[39m\u001b[38;5;124m'\u001b[39m)\n\u001b[1;32m--> 212\u001b[0m         table_markdown \u001b[38;5;241m=\u001b[39m \u001b[43mutils\u001b[49m\u001b[38;5;241;43m.\u001b[39;49m\u001b[43mdf_to_markdown\u001b[49m\u001b[43m(\u001b[49m\u001b[43mtable\u001b[49m\u001b[43m)\u001b[49m\n\u001b[0;32m    213\u001b[0m         TIR_response \u001b[38;5;241m+\u001b[39m\u001b[38;5;241m=\u001b[39m \u001b[38;5;124mf\u001b[39m\u001b[38;5;124m\"\u001b[39m\u001b[38;5;124mSQL result for \u001b[39m\u001b[38;5;132;01m{\u001b[39;00mj\u001b[38;5;241m+\u001b[39m\u001b[38;5;241m1\u001b[39m\u001b[38;5;132;01m}\u001b[39;00m\u001b[38;5;124m: \u001b[39m\u001b[38;5;130;01m\\n\u001b[39;00m\u001b[38;5;132;01m{\u001b[39;00mtable_markdown\u001b[38;5;132;01m}\u001b[39;00m\u001b[38;5;130;01m\\n\u001b[39;00m\u001b[38;5;130;01m\\n\u001b[39;00m\u001b[38;5;124m\"\u001b[39m\n\u001b[0;32m    215\u001b[0m response \u001b[38;5;241m+\u001b[39m\u001b[38;5;241m=\u001b[39m \u001b[38;5;124m\"\u001b[39m\u001b[38;5;130;01m\\n\u001b[39;00m\u001b[38;5;130;01m\\n\u001b[39;00m\u001b[38;5;124m### The result of the given SQL:\u001b[39m\u001b[38;5;130;01m\\n\u001b[39;00m\u001b[38;5;130;01m\\n\u001b[39;00m\u001b[38;5;124m\"\u001b[39m \u001b[38;5;241m+\u001b[39m TIR_response\n",
      "File \u001b[1;32mc:\\Users\\Admin\\go_pro\\finance_chatbot\\group_2_chatbot_financial_statement\\sample\\utils.py:48\u001b[0m, in \u001b[0;36mdf_to_markdown\u001b[1;34m(df)\u001b[0m\n\u001b[0;32m     47\u001b[0m \u001b[38;5;28;01mdef\u001b[39;00m \u001b[38;5;21mdf_to_markdown\u001b[39m(df):\n\u001b[1;32m---> 48\u001b[0m     markdown \u001b[38;5;241m=\u001b[39m \u001b[43mdf\u001b[49m\u001b[38;5;241;43m.\u001b[39;49m\u001b[43mto_markdown\u001b[49m(index\u001b[38;5;241m=\u001b[39m\u001b[38;5;28;01mFalse\u001b[39;00m)\n\u001b[0;32m     49\u001b[0m     \u001b[38;5;28;01mreturn\u001b[39;00m markdown\n",
      "\u001b[1;31mAttributeError\u001b[0m: 'NoneType' object has no attribute 'to_markdown'"
     ]
    }
   ],
   "source": [
    "history = llm_branch_reasoning(llm, prompt, db, verbose=True)"
   ]
  }
 ],
 "metadata": {
  "kernelspec": {
   "display_name": "env",
   "language": "python",
   "name": "python3"
  },
  "language_info": {
   "codemirror_mode": {
    "name": "ipython",
    "version": 3
   },
   "file_extension": ".py",
   "mimetype": "text/x-python",
   "name": "python",
   "nbconvert_exporter": "python",
   "pygments_lexer": "ipython3",
   "version": "3.10.11"
  }
 },
 "nbformat": 4,
 "nbformat_minor": 2
}
