{
 "cells": [
  {
   "cell_type": "code",
   "execution_count": 10,
   "metadata": {},
   "outputs": [],
   "source": [
    "from llm.llm.chatgpt import ChatGPT\n",
    "from llm.llm.gemini import Gemini\n",
    "from setup_db import create_chroma_db, connect_to_db, execute_query, DBHUB\n",
    "from branch_reasoning import *"
   ]
  },
  {
   "cell_type": "code",
   "execution_count": 11,
   "metadata": {},
   "outputs": [],
   "source": [
    "llm = ChatGPT()"
   ]
  },
  {
   "cell_type": "code",
   "execution_count": 12,
   "metadata": {},
   "outputs": [],
   "source": [
    "db_name = 'test_db'\n",
    "user = 'postgres'\n",
    "password = '12345678'\n",
    "port = '5433'\n",
    "host = 'localhost'"
   ]
  },
  {
   "cell_type": "code",
   "execution_count": 13,
   "metadata": {},
   "outputs": [
    {
     "name": "stdout",
     "output_type": "stream",
     "text": [
      "Connecting to database test_db, postgres...\n"
     ]
    }
   ],
   "source": [
    "conn = connect_to_db(db_name, user, password, host, port)"
   ]
  },
  {
   "cell_type": "code",
   "execution_count": 14,
   "metadata": {},
   "outputs": [],
   "source": [
    "collection_chromadb = 'category_bank_chroma'\n",
    "persist_directory = 'data/category_bank_chroma'\n",
    "bank_vector_store = create_chroma_db(collection_chromadb, persist_directory)\n",
    "\n",
    "collection_chromadb = 'category_non_bank_chroma'\n",
    "persist_directory = 'data/category_non_bank_chroma'\n",
    "none_bank_vector_store = create_chroma_db(collection_chromadb, persist_directory)\n",
    "\n",
    "collection_chromadb = 'company_name_chroma'\n",
    "persist_directory = 'data/company_name_chroma'\n",
    "vector_db_company = create_chroma_db(collection_chromadb, persist_directory)\n",
    "\n",
    "collection_chromadb = 'sql_query'\n",
    "persist_directory = 'data/sql_query'\n",
    "vector_db_sql = create_chroma_db(collection_chromadb, persist_directory)"
   ]
  },
  {
   "cell_type": "code",
   "execution_count": 15,
   "metadata": {},
   "outputs": [
    {
     "data": {
      "text/plain": [
       "[Document(page_content='SSI Securities Corporation', metadata={'lang': 'en', 'stock_code': 'SSI'}),\n",
       " Document(page_content='SSI', metadata={'lang': 'vi', 'stock_code': 'SSI'}),\n",
       " Document(page_content='Masan Group Corporation', metadata={'lang': 'en', 'stock_code': 'MSN'}),\n",
       " Document(page_content='VIC', metadata={'lang': 'vi', 'stock_code': 'VIC'}),\n",
       " Document(page_content='SSI Securities', metadata={'lang': 'en', 'stock_code': 'SSI'})]"
      ]
     },
     "execution_count": 15,
     "metadata": {},
     "output_type": "execute_result"
    }
   ],
   "source": [
    "vector_db_company.similarity_search('company', k=5)"
   ]
  },
  {
   "cell_type": "code",
   "execution_count": 16,
   "metadata": {},
   "outputs": [],
   "source": [
    "db = DBHUB(conn, bank_vector_store, none_bank_vector_store, vector_db_company, vector_db_sql)"
   ]
  },
  {
   "cell_type": "markdown",
   "metadata": {},
   "source": []
  },
  {
   "cell_type": "code",
   "execution_count": 17,
   "metadata": {},
   "outputs": [],
   "source": [
    "prompt =  \"Calculate ROA, ROE of all the company which are owned by VinGroup\""
   ]
  },
  {
   "cell_type": "code",
   "execution_count": 18,
   "metadata": {},
   "outputs": [
    {
     "name": "stdout",
     "output_type": "stream",
     "text": [
      "CompletionUsage(completion_tokens=106, prompt_tokens=381, total_tokens=487, completion_tokens_details=CompletionTokensDetails(reasoning_tokens=0), prompt_tokens_details={'cached_tokens': 0})\n",
      "Branch reasoning response: \n",
      "```json\n",
      "{\n",
      "    \"steps\": [\n",
      "        \"Step 1: Identify all companies owned by VinGroup by querying the `sub_and_shareholder` database to find relevant ownership information.\",\n",
      "        \"Step 2: Retrieve the financial data (net income and total assets) for each identified company from the appropriate financial report database (`bank_financial_report` or `non_bank_financial_report`).\",\n",
      "        \"Step 3: Calculate the ROA and ROE for each company using the retrieved financial data.\"\n",
      "    ]\n",

      "}\n",
      "```\n",
      "====================================\n",
      "CompletionUsage(completion_tokens=40, prompt_tokens=165, total_tokens=205, completion_tokens_details=CompletionTokensDetails(reasoning_tokens=0), prompt_tokens_details={'cached_tokens': 0})\n",
      "Find suitable column response: \n",
      "```json\n",
      "{\n",
      "    \"bank_column_name\": [],\n",
      "    \"non_bank_column_name\": [\n",
      "        \"Net Income\",\n",
      "        \"Total Assets\",\n",
      "        \"Shareholder's Equity\"\n",
      "    ]\n",
      "}\n",
      "```\n",
      "====================================\n",
      "Step 0: Extract company name\n",
      "CompletionUsage(completion_tokens=32, prompt_tokens=71, total_tokens=103, completion_tokens_details=CompletionTokensDetails(reasoning_tokens=0), prompt_tokens_details={'cached_tokens': 0})\n",
      "Get stock code based on company name response: \n",
      "```json\n",
      "{\n",
      "    \"company_name\": [\"VinFast\", \"VinHomes\", \"VinMart\", \"Vinpearl\", \"VinGroup\"]\n",
      "}\n",
      "```\n",
      "====================================\n",
      "type of company_info_df: <class 'pandas.core.frame.DataFrame'>\n",
      "Step 1: Step 1: Identify all companies owned by VinGroup by querying the `sub_and_shareholder` database to find relevant ownership information.\n",
      "RAG for step:  1 ```sql\n",
      "\n",
      "-- 1. Calculate ROE of VIC, VNM, and HPG for the first two quarters of 2024\n",
      "\n",
      "-- Calculate ROE of VIC, VRE and VHM in first 2 quarter of 2024\n",
      "\n",
      "-- Get Net income value\n",
      "WITH net_income AS (\n",
      "    SELECT nbfr.data AS net_income, nbfr.stock_code as stock_code, nbfr.quarter as quarter, nbfr.year as year\n",
      "    FROM non_bank_financial_report nbfr\n",
      "    JOIN map_category_code_non_bank mc \n",
      "      ON nbfr.category_code = mc.category_code\n",
      "    WHERE nbfr.stock_code in ('VIC', 'VNM', 'HPG')\n",
      "      AND nbfr.year = 2024\n",
      "      AND nbfr.quarter in (1,2)\n",
      "      AND mc.en_caption = 'Profit after Corporate Income Tax'),\n",
      "\n",
      "-- Get equity value\n",
      "equity AS (\n",
      "    SELECT nbfr.data AS equity, nbfr.stock_code as stock_code, nbfr.quarter as quarter, nbfr.year as year\n",
      "    FROM non_bank_financial_report nbfr\n",
      "    JOIN map_category_code_non_bank mc \n",
      "      ON nbfr.category_code = mc.category_code\n",
      "    WHERE nbfr.stock_code in ('VIC', 'VNM', 'HPG')\n",
      "      AND nbfr.year = 2024\n",
      "      AND nbfr.quarter in (1,2)\n",
      "      AND mc.en_caption = 'Equity'\n",
      ")\n",
      "-- Select detail information \n",
      "SELECT \n",
      "\tnet_income.stock_code,\n",
      "\tnet_income.year,\n",
      "\tnet_income.quarter,\n",
      "\tnet_income.net_income,\n",
      "    (net_income.net_income / equity.equity) AS ROE\n",
      "    \t\n",
      "FROM net_income\n",
      "JOIN equity \n",
      "ON net_income.stock_code = equity.stock_code\n",
      "AND net_income.quarter = equity.quarter \n",
      "AND net_income.year = equity.year;\n",
      "-- Join on both quarter and year to avoid duplication\n",
      "\n",
      "```\n",
      "CompletionUsage(completion_tokens=89, prompt_tokens=1835, total_tokens=1924, completion_tokens_details=CompletionTokensDetails(reasoning_tokens=0), prompt_tokens_details={'cached_tokens': 0})\n",
      "Step 1 response: \n",
      "To identify all companies owned by VinGroup, we will query the `sub_and_shareholder` table to find relevant ownership information. Here is the SQL query for Step 1:\n",
      "\n",
      "```sql\n",
      "SELECT invest_on \n",
      "FROM sub_and_shareholder \n",
      "WHERE stock_code = 'VIC';\n",
      "```\n",
      "\n",
      "This query retrieves the `invest_on` column, which indicates the companies that are owned by VinGroup (represented by the stock code 'VIC').\n",
      "====================================\n",
      "SQL Code 1: \n",
      "SELECT invest_on \n",
      "FROM sub_and_shareholder \n",
      "WHERE stock_code = 'VIC';\n",
      "\n",
      "type of company_info_df: <class 'pandas.core.frame.DataFrame'>\n",
      "type of company_info_df: <class 'pandas.core.frame.DataFrame'>\n",
      "Step 2: Step 2: Retrieve the financial data (net income and total assets) for each identified company from the appropriate financial report database (`bank_financial_report` or `non_bank_financial_report`).\n",
      "RAG for step:  2 ```sql\n",
      "\n",
      "-- 6. Top 5 companies by Total Assets in 2023\n",
      "\n",
      "SELECT nbfr.stock_code, nbfr.year, nbfr.data AS total_assets\n",
      "FROM non_bank_financial_report nbfr\n",
      "JOIN map_category_code_non_bank mc ON nbfr.category_code = mc.category_code\n",
      "WHERE nbfr.year = 2023 AND mc.en_caption = 'Total Assets' AND nbfr.quarter = 0\n",
      "ORDER BY total_assets DESC\n",
      "LIMIT 5;\n",
      "\n",
      "```\n",
      "CompletionUsage(completion_tokens=350, prompt_tokens=2399, total_tokens=2749, completion_tokens_details=CompletionTokensDetails(reasoning_tokens=0), prompt_tokens_details={'cached_tokens': 1152})\n",
      "Step 2 response: \n",
      "To retrieve the financial data (net income and total assets) for each identified company owned by VinGroup (VHM, VRE), we will query the `non_bank_financial_report` table for net income and total assets. Here is the SQL query for Step 2:\n",
      "\n",
      "```sql\n",
      "-- Retrieve financial data for VHM and VRE\n",
      "\n",
      "-- Get Net Income\n",
      "WITH net_income AS (\n",
      "    SELECT nbfr.stock_code, nbfr.data AS net_income\n",
      "    FROM non_bank_financial_report nbfr\n",
      "    JOIN map_category_code_non_bank mc ON nbfr.category_code = mc.category_code\n",
      "    WHERE nbfr.stock_code IN ('VHM', 'VRE')\n",
      "      AND mc.en_caption = 'Profit after Corporate Income Tax'\n",
      "      AND nbfr.year = 2023\n",
      "      AND nbfr.quarter = 0\n",
      "),\n",
      "\n",
      "-- Get Total Assets\n",
      "total_assets AS (\n",
      "    SELECT nbfr.stock_code, nbfr.data AS total_assets\n",
      "    FROM non_bank_financial_report nbfr\n",
      "    JOIN map_category_code_non_bank mc ON nbfr.category_code = mc.category_code\n",
      "    WHERE nbfr.stock_code IN ('VHM', 'VRE')\n",
      "      AND mc.en_caption = 'Total Assets'\n",
      "      AND nbfr.year = 2023\n",
      "      AND nbfr.quarter = 0\n",
      ")\n",
      "\n",
      "-- Select the financial data\n",
      "SELECT \n",
      "    ni.stock_code,\n",
      "    ni.net_income,\n",
      "    ta.total_assets\n",
      "FROM net_income ni\n",
      "JOIN total_assets ta ON ni.stock_code = ta.stock_code;\n",
      "```\n",
      "\n",
      "This query retrieves the net income and total assets for the companies VHM and VRE for the year 2023, ensuring that we are looking at the annual reports (quarter = 0).\n",
      "====================================\n",
      "SQL Code 1: \n",
      "-- Retrieve financial data for VHM and VRE\n",
      "\n",
      "-- Get Net Income\n",
      "WITH net_income AS (\n",
      "    SELECT nbfr.stock_code, nbfr.data AS net_income\n",
      "    FROM non_bank_financial_report nbfr\n",
      "    JOIN map_category_code_non_bank mc ON nbfr.category_code = mc.category_code\n",
      "    WHERE nbfr.stock_code IN ('VHM', 'VRE')\n",
      "      AND mc.en_caption = 'Profit after Corporate Income Tax'\n",
      "      AND nbfr.year = 2023\n",
      "      AND nbfr.quarter = 0\n",
      "),\n",
      "\n",
      "-- Get Total Assets\n",
      "total_assets AS (\n",
      "    SELECT nbfr.stock_code, nbfr.data AS total_assets\n",
      "    FROM non_bank_financial_report nbfr\n",
      "    JOIN map_category_code_non_bank mc ON nbfr.category_code = mc.category_code\n",
      "    WHERE nbfr.stock_code IN ('VHM', 'VRE')\n",
      "      AND mc.en_caption = 'Total Assets'\n",
      "      AND nbfr.year = 2023\n",
      "      AND nbfr.quarter = 0\n",
      ")\n",
      "\n",
      "-- Select the financial data\n",
      "SELECT \n",
      "    ni.stock_code,\n",
      "    ni.net_income,\n",
      "    ta.total_assets\n",
      "FROM net_income ni\n",
      "JOIN total_assets ta ON ni.stock_code = ta.stock_code;\n",
      "\n",
      "type of company_info_df: <class 'pandas.core.frame.DataFrame'>\n",
      "syntax error at or near \")\"\n",
      "LINE 1: ..., industry, is_bank FROM company_info WHERE stock_code IN ()\n",
      "                                                                      ^\n",
      "\n",
      "type of company_info_df: <class 'str'>\n"
     ]
    },
    {
     "ename": "TypeError",
     "evalue": "cannot concatenate object of type '<class 'str'>'; only Series and DataFrame objs are valid",
     "output_type": "error",
     "traceback": [
      "\u001b[1;31m---------------------------------------------------------------------------\u001b[0m",
      "\u001b[1;31mTypeError\u001b[0m                                 Traceback (most recent call last)",
      "Cell \u001b[1;32mIn[18], line 1\u001b[0m\n\u001b[1;32m----> 1\u001b[0m history \u001b[38;5;241m=\u001b[39m \u001b[43mllm_branch_reasoning\u001b[49m\u001b[43m(\u001b[49m\u001b[43mllm\u001b[49m\u001b[43m,\u001b[49m\u001b[43m \u001b[49m\u001b[43mprompt\u001b[49m\u001b[43m,\u001b[49m\u001b[43m \u001b[49m\u001b[43mdb\u001b[49m\u001b[43m,\u001b[49m\u001b[43m \u001b[49m\u001b[43mverbose\u001b[49m\u001b[38;5;241;43m=\u001b[39;49m\u001b[38;5;28;43;01mTrue\u001b[39;49;00m\u001b[43m)\u001b[49m\n",
      "File \u001b[1;32mc:\\Users\\Admin\\go_pro_asap\\bctc_chat\\group_2_chatbot_financial_statement\\sample\\branch_reasoning.py:232\u001b[0m, in \u001b[0;36mllm_branch_reasoning\u001b[1;34m(llm, task, db, self_debug, verbose, sql_llm)\u001b[0m\n\u001b[0;32m    230\u001b[0m new_company_info_df \u001b[38;5;241m=\u001b[39m utils\u001b[38;5;241m.\u001b[39mget_company_detail_from_df(execute_tables, db)\n\u001b[0;32m    231\u001b[0m \u001b[38;5;28mprint\u001b[39m(\u001b[38;5;124m'\u001b[39m\u001b[38;5;124mtype of company_info_df:\u001b[39m\u001b[38;5;124m'\u001b[39m, \u001b[38;5;28mtype\u001b[39m(new_company_info_df))\n\u001b[1;32m--> 232\u001b[0m company_info_df \u001b[38;5;241m=\u001b[39m \u001b[43mpd\u001b[49m\u001b[38;5;241;43m.\u001b[39;49m\u001b[43mconcat\u001b[49m\u001b[43m(\u001b[49m\u001b[43m[\u001b[49m\u001b[43mcompany_info_df\u001b[49m\u001b[43m,\u001b[49m\u001b[43m \u001b[49m\u001b[43mnew_company_info_df\u001b[49m\u001b[43m]\u001b[49m\u001b[43m)\u001b[49m\n\u001b[0;32m    233\u001b[0m stock_code_table \u001b[38;5;241m=\u001b[39m utils\u001b[38;5;241m.\u001b[39mdf_to_markdown(company_info_df)\n\u001b[0;32m    234\u001b[0m history[\u001b[38;5;241m1\u001b[39m][\u001b[38;5;124m\"\u001b[39m\u001b[38;5;124mcontent\u001b[39m\u001b[38;5;124m\"\u001b[39m] \u001b[38;5;241m=\u001b[39m original_content \u001b[38;5;241m+\u001b[39m \u001b[38;5;124mf\u001b[39m\u001b[38;5;124m\"\u001b[39m\u001b[38;5;130;01m\\n\u001b[39;00m\u001b[38;5;124mHere are the detail of the companies: \u001b[39m\u001b[38;5;130;01m\\n\u001b[39;00m\u001b[38;5;130;01m\\n\u001b[39;00m\u001b[38;5;132;01m{\u001b[39;00mstock_code_table\u001b[38;5;132;01m}\u001b[39;00m\u001b[38;5;124m\"\u001b[39m\n",
      "File \u001b[1;32mc:\\Users\\Admin\\AppData\\Local\\Programs\\Python\\Python311\\Lib\\site-packages\\pandas\\core\\reshape\\concat.py:380\u001b[0m, in \u001b[0;36mconcat\u001b[1;34m(objs, axis, join, ignore_index, keys, levels, names, verify_integrity, sort, copy)\u001b[0m\n\u001b[0;32m    377\u001b[0m \u001b[38;5;28;01melif\u001b[39;00m copy \u001b[38;5;129;01mand\u001b[39;00m using_copy_on_write():\n\u001b[0;32m    378\u001b[0m     copy \u001b[38;5;241m=\u001b[39m \u001b[38;5;28;01mFalse\u001b[39;00m\n\u001b[1;32m--> 380\u001b[0m op \u001b[38;5;241m=\u001b[39m \u001b[43m_Concatenator\u001b[49m\u001b[43m(\u001b[49m\n\u001b[0;32m    381\u001b[0m \u001b[43m    \u001b[49m\u001b[43mobjs\u001b[49m\u001b[43m,\u001b[49m\n\u001b[0;32m    382\u001b[0m \u001b[43m    \u001b[49m\u001b[43maxis\u001b[49m\u001b[38;5;241;43m=\u001b[39;49m\u001b[43maxis\u001b[49m\u001b[43m,\u001b[49m\n\u001b[0;32m    383\u001b[0m \u001b[43m    \u001b[49m\u001b[43mignore_index\u001b[49m\u001b[38;5;241;43m=\u001b[39;49m\u001b[43mignore_index\u001b[49m\u001b[43m,\u001b[49m\n\u001b[0;32m    384\u001b[0m \u001b[43m    \u001b[49m\u001b[43mjoin\u001b[49m\u001b[38;5;241;43m=\u001b[39;49m\u001b[43mjoin\u001b[49m\u001b[43m,\u001b[49m\n\u001b[0;32m    385\u001b[0m \u001b[43m    \u001b[49m\u001b[43mkeys\u001b[49m\u001b[38;5;241;43m=\u001b[39;49m\u001b[43mkeys\u001b[49m\u001b[43m,\u001b[49m\n\u001b[0;32m    386\u001b[0m \u001b[43m    \u001b[49m\u001b[43mlevels\u001b[49m\u001b[38;5;241;43m=\u001b[39;49m\u001b[43mlevels\u001b[49m\u001b[43m,\u001b[49m\n\u001b[0;32m    387\u001b[0m \u001b[43m    \u001b[49m\u001b[43mnames\u001b[49m\u001b[38;5;241;43m=\u001b[39;49m\u001b[43mnames\u001b[49m\u001b[43m,\u001b[49m\n\u001b[0;32m    388\u001b[0m \u001b[43m    \u001b[49m\u001b[43mverify_integrity\u001b[49m\u001b[38;5;241;43m=\u001b[39;49m\u001b[43mverify_integrity\u001b[49m\u001b[43m,\u001b[49m\n\u001b[0;32m    389\u001b[0m \u001b[43m    \u001b[49m\u001b[43mcopy\u001b[49m\u001b[38;5;241;43m=\u001b[39;49m\u001b[43mcopy\u001b[49m\u001b[43m,\u001b[49m\n\u001b[0;32m    390\u001b[0m \u001b[43m    \u001b[49m\u001b[43msort\u001b[49m\u001b[38;5;241;43m=\u001b[39;49m\u001b[43msort\u001b[49m\u001b[43m,\u001b[49m\n\u001b[0;32m    391\u001b[0m \u001b[43m\u001b[49m\u001b[43m)\u001b[49m\n\u001b[0;32m    393\u001b[0m \u001b[38;5;28;01mreturn\u001b[39;00m op\u001b[38;5;241m.\u001b[39mget_result()\n",
      "File \u001b[1;32mc:\\Users\\Admin\\AppData\\Local\\Programs\\Python\\Python311\\Lib\\site-packages\\pandas\\core\\reshape\\concat.py:446\u001b[0m, in \u001b[0;36m_Concatenator.__init__\u001b[1;34m(self, objs, axis, join, keys, levels, names, ignore_index, verify_integrity, copy, sort)\u001b[0m\n\u001b[0;32m    443\u001b[0m objs, keys \u001b[38;5;241m=\u001b[39m \u001b[38;5;28mself\u001b[39m\u001b[38;5;241m.\u001b[39m_clean_keys_and_objs(objs, keys)\n\u001b[0;32m    445\u001b[0m \u001b[38;5;66;03m# figure out what our result ndim is going to be\u001b[39;00m\n\u001b[1;32m--> 446\u001b[0m ndims \u001b[38;5;241m=\u001b[39m \u001b[38;5;28;43mself\u001b[39;49m\u001b[38;5;241;43m.\u001b[39;49m\u001b[43m_get_ndims\u001b[49m\u001b[43m(\u001b[49m\u001b[43mobjs\u001b[49m\u001b[43m)\u001b[49m\n\u001b[0;32m    447\u001b[0m sample, objs \u001b[38;5;241m=\u001b[39m \u001b[38;5;28mself\u001b[39m\u001b[38;5;241m.\u001b[39m_get_sample_object(objs, ndims, keys, names, levels)\n\u001b[0;32m    449\u001b[0m \u001b[38;5;66;03m# Standardize axis parameter to int\u001b[39;00m\n",
      "File \u001b[1;32mc:\\Users\\Admin\\AppData\\Local\\Programs\\Python\\Python311\\Lib\\site-packages\\pandas\\core\\reshape\\concat.py:487\u001b[0m, in \u001b[0;36m_Concatenator._get_ndims\u001b[1;34m(self, objs)\u001b[0m\n\u001b[0;32m    482\u001b[0m     \u001b[38;5;28;01mif\u001b[39;00m \u001b[38;5;129;01mnot\u001b[39;00m \u001b[38;5;28misinstance\u001b[39m(obj, (ABCSeries, ABCDataFrame)):\n\u001b[0;32m    483\u001b[0m         msg \u001b[38;5;241m=\u001b[39m (\n\u001b[0;32m    484\u001b[0m             \u001b[38;5;124mf\u001b[39m\u001b[38;5;124m\"\u001b[39m\u001b[38;5;124mcannot concatenate object of type \u001b[39m\u001b[38;5;124m'\u001b[39m\u001b[38;5;132;01m{\u001b[39;00m\u001b[38;5;28mtype\u001b[39m(obj)\u001b[38;5;132;01m}\u001b[39;00m\u001b[38;5;124m'\u001b[39m\u001b[38;5;124m; \u001b[39m\u001b[38;5;124m\"\u001b[39m\n\u001b[0;32m    485\u001b[0m             \u001b[38;5;124m\"\u001b[39m\u001b[38;5;124monly Series and DataFrame objs are valid\u001b[39m\u001b[38;5;124m\"\u001b[39m\n\u001b[0;32m    486\u001b[0m         )\n\u001b[1;32m--> 487\u001b[0m         \u001b[38;5;28;01mraise\u001b[39;00m \u001b[38;5;167;01mTypeError\u001b[39;00m(msg)\n\u001b[0;32m    489\u001b[0m     ndims\u001b[38;5;241m.\u001b[39madd(obj\u001b[38;5;241m.\u001b[39mndim)\n\u001b[0;32m    490\u001b[0m \u001b[38;5;28;01mreturn\u001b[39;00m ndims\n",
      "\u001b[1;31mTypeError\u001b[0m: cannot concatenate object of type '<class 'str'>'; only Series and DataFrame objs are valid"
     ]
    }
   ],
   "source": [
    "history = llm_branch_reasoning(llm, prompt, db, verbose=True)"
   ]
  }
 ],
 "metadata": {
  "kernelspec": {
   "display_name": "Python 3",
   "language": "python",
   "name": "python3"
  },
  "language_info": {
   "codemirror_mode": {
    "name": "ipython",
    "version": 3
   },
   "file_extension": ".py",
   "mimetype": "text/x-python",
   "name": "python",
   "nbconvert_exporter": "python",
   "pygments_lexer": "ipython3",
   "version": "3.11.6"
  }
 },
 "nbformat": 4,
 "nbformat_minor": 2
}
