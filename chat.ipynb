{
 "cells": [
  {
   "cell_type": "code",
   "execution_count": 1,
   "metadata": {},
   "outputs": [],
   "source": [
    "# !pip install langchain_chroma\n",
    "# !pip install langchain_huggingface\n",
    "# !pip install langchain_openai"
   ]
  },
  {
   "cell_type": "code",
   "execution_count": 2,
   "metadata": {},
   "outputs": [],
   "source": [
    "# !pip install protobuf==3.20.*"
   ]
  },
  {
   "cell_type": "code",
   "execution_count": 3,
   "metadata": {},
   "outputs": [],
   "source": [
    "from agent import Chatbot, Text2SQL"
   ]
  },
  {
   "cell_type": "code",
   "execution_count": 4,
   "metadata": {},
   "outputs": [],
   "source": [
    "from agent.const import (\n",
    "    ChatConfig,\n",
    "    Text2SQLConfig,\n",
    "    GEMINI_FAST_CONFIG,\n",
    "    INBETWEEN_CHAT_CONFIG,\n",
    "    GPT4O_MINI_CONFIG,\n",
    "    TEXT2SQL_MEDIUM_OPENAI_CONFIG,\n",
    "    TEXT2SQL_MEDIUM_GEMINI_CONFIG,\n",
    "    TEXT2SQL_FASTEST_CONFIG,\n",
    "    TEXT2SQL_SWEET_SPOT_CONFIG\n",
    ")\n",
    "\n",
    "from agent.prompt.prompt_controller import (\n",
    "    PromptConfig, \n",
    "    VERTICAL_PROMPT_BASE, \n",
    "    VERTICAL_PROMPT_UNIVERSAL,\n",
    "    HORIZONTAL_PROMPT_BASE,\n",
    "    HORIZONTAL_PROMPT_UNIVERSAL\n",
    ")"
   ]
  },
  {
   "cell_type": "code",
   "execution_count": 5,
   "metadata": {},
   "outputs": [],
   "source": [
    "from ETL.dbmanager.setup import (\n",
    "    DBConfig,\n",
    "    BGE_VERTICAL_BASE_CONFIG,\n",
    "    BGE_VERTICAL_UNIVERSAL_CONFIG,\n",
    "    BGE_HORIZONTAL_BASE_CONFIG,\n",
    "    OPENAI_VERTICAL_UNIVERSAL_CONFIG,\n",
    "    setup_db\n",
    ")\n",
    "\n",
    "from langchain_huggingface import HuggingFaceEmbeddings\n",
    "import json\n",
    "import torch\n",
    "\n",
    "import logging\n",
    "logging.basicConfig(\n",
    "    level=logging.INFO,\n",
    "    format='%(asctime)s - %(levelname)s - %(message)s'\n",
    ")"
   ]
  },
  {
   "cell_type": "code",
   "execution_count": 6,
   "metadata": {},
   "outputs": [],
   "source": [
    "db_config = DBConfig(**OPENAI_VERTICAL_UNIVERSAL_CONFIG)\n",
    "chat_config = ChatConfig(**GEMINI_FAST_CONFIG)\n",
    "text2sql_config = Text2SQLConfig(**TEXT2SQL_MEDIUM_OPENAI_CONFIG)\n",
    "prompt_config = PromptConfig(**VERTICAL_PROMPT_UNIVERSAL)"
   ]
  },
  {
   "cell_type": "code",
   "execution_count": 7,
   "metadata": {},
   "outputs": [
    {
     "name": "stderr",
     "output_type": "stream",
     "text": [
      "2024-12-18 22:48:10,727 - INFO - Anonymized telemetry enabled. See                     https://docs.trychroma.com/telemetry for more information.\n"
     ]
    },
    {
     "name": "stdout",
     "output_type": "stream",
     "text": [
      "test_db\n"
     ]
    },
    {
     "name": "stderr",
     "output_type": "stream",
     "text": [
      "2024-12-18 22:48:10,970 - INFO - Finish setup for Vertical Universal\n"
     ]
    }
   ],
   "source": [
    "# device = torch.device('cuda' if torch.cuda.is_available() else 'cpu')\n",
    "# embedding_model = HuggingFaceEmbeddings(model_name='BAAI/bge-small-en-v1.5', model_kwargs = {'device': device})\n",
    "# db_config.embedding = embedding_model\n",
    "\n",
    "db = setup_db(db_config)\n",
    "text2sql = Text2SQL(config = text2sql_config, prompt_config=prompt_config, db = db, max_steps=2)"
   ]
  },
  {
   "cell_type": "code",
   "execution_count": 8,
   "metadata": {},
   "outputs": [],
   "source": [
    "chatbot = Chatbot(config = chat_config, text2sql = text2sql)"
   ]
  },
  {
   "cell_type": "code",
   "execution_count": 9,
   "metadata": {},
   "outputs": [
    {
     "data": {
      "text/plain": [
       "[]"
      ]
     },
     "execution_count": 9,
     "metadata": {},
     "output_type": "execute_result"
    }
   ],
   "source": [
    "chatbot.display_history"
   ]
  },
  {
   "cell_type": "code",
   "execution_count": 14,
   "metadata": {},
   "outputs": [
    {
     "name": "stderr",
     "output_type": "stream",
     "text": [
      "2024-12-18 22:48:54,456 - INFO - Completion time of gemini-1.5-flash-002: 1.8591060638427734s\n",
      "2024-12-18 22:48:54,457 - INFO - Routing not triggered\n",
      "2024-12-18 22:48:54,458 - INFO - Reasoning time with streaming: 1.8596270084381104s\n"
     ]
    },
    {
     "name": "stdout",
     "output_type": "stream",
     "text": [
      "prompt_token_count: 168\n",
      "candidates_token_count: 15\n",
      "total_token_count: 183\n",
      "\n",
      "You\n",
      " are only allowed to ask questions related to finance and accounting.\n",
      "\n"
     ]
    }
   ],
   "source": [
    "for c in chatbot.stream(\"Hi how are you\"):\n",
    "    print(c)"
   ]
  },
  {
   "cell_type": "code",
   "execution_count": null,
   "metadata": {},
   "outputs": [],
   "source": []
  },
  {
   "cell_type": "code",
   "execution_count": 11,
   "metadata": {},
   "outputs": [
    {
     "name": "stderr",
     "output_type": "stream",
     "text": [
      "2024-12-18 22:48:12,597 - INFO - Completion time of gemini-1.5-flash-002: 1.453141450881958s\n",
      "2024-12-18 22:48:12,598 - INFO - Routing not triggered\n"
     ]
    },
    {
     "name": "stdout",
     "output_type": "stream",
     "text": [
      "prompt_token_count: 148\n",
      "candidates_token_count: 15\n",
      "total_token_count: 163\n",
      "\n"
     ]
    },
    {
     "name": "stderr",
     "output_type": "stream",
     "text": [
      "2024-12-18 22:48:13,937 - INFO - Completion time of gemini-1.5-flash-002: 1.3390069007873535s\n",
      "2024-12-18 22:48:13,937 - INFO - Reasoning time without streaming: 2.7931480407714844s\n"
     ]
    },
    {
     "name": "stdout",
     "output_type": "stream",
     "text": [
      "prompt_token_count: 73\n",
      "candidates_token_count: 14\n",
      "total_token_count: 87\n",
      "\n"
     ]
    },
    {
     "data": {
      "text/plain": [
       "'You are only allowed to ask questions related to finance and accounting.\\n'"
      ]
     },
     "execution_count": 11,
     "metadata": {},
     "output_type": "execute_result"
    }
   ],
   "source": [
    "chatbot.chat(\"Hi how are you\")"
   ]
  },
  {
   "cell_type": "code",
   "execution_count": 12,
   "metadata": {},
   "outputs": [
    {
     "data": {
      "text/plain": [
       "[{'role': 'system',\n",
       "  'content': '\\nYou are a financial analyst and you have access to a database of financial statements of companies from 2019 to 2024.\\nOnly answer questions related to finance and accounting.\\n\\nIf the question is not related to finance and accounting, say You are only allowed to ask questions related to finance and accounting.\\n'},\n",
       " {'role': 'user', 'content': 'Hi how are you'},\n",
       " {'role': 'assistant',\n",
       "  'content': 'You are only allowed to ask questions related to finance and accounting.\\n'}]"
      ]
     },
     "execution_count": 12,
     "metadata": {},
     "output_type": "execute_result"
    }
   ],
   "source": [
    "chatbot.history"
   ]
  },
  {
   "cell_type": "markdown",
   "metadata": {},
   "source": []
  },
  {
   "cell_type": "markdown",
   "metadata": {},
   "source": []
  },
  {
   "cell_type": "code",
   "execution_count": 13,
   "metadata": {},
   "outputs": [
    {
     "data": {
      "text/plain": [
       "[{'role': 'user', 'content': 'Hi how are you'},\n",
       " {'role': 'assistant',\n",
       "  'content': 'You are only allowed to ask questions related to finance and accounting.\\n'}]"
      ]
     },
     "execution_count": 13,
     "metadata": {},
     "output_type": "execute_result"
    }
   ],
   "source": [
    "chatbot.display_history"
   ]
  }
 ],
 "metadata": {
  "kernelspec": {
   "display_name": "Python 3",
   "language": "python",
   "name": "python3"
  },
  "language_info": {
   "codemirror_mode": {
    "name": "ipython",
    "version": 3
   },
   "file_extension": ".py",
   "mimetype": "text/x-python",
   "name": "python",
   "nbconvert_exporter": "python",
   "pygments_lexer": "ipython3",
   "version": "3.10.11"
  }
 },
 "nbformat": 4,
 "nbformat_minor": 2
}
