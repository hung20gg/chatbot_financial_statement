{
 "cells": [
  {
   "cell_type": "code",
   "execution_count": 1,
   "metadata": {},
   "outputs": [],
   "source": [
    "# !pip install langchain_chroma\n",
    "# !pip install langchain_huggingface\n",
    "# !pip install langchain_openai"
   ]
  },
  {
   "cell_type": "code",
   "execution_count": 2,
   "metadata": {},
   "outputs": [],
   "source": [
    "# !pip install protobuf==3.20.*"
   ]
  },
  {
   "cell_type": "code",
   "execution_count": 3,
   "metadata": {},
   "outputs": [],
   "source": [
    "from agent import Chatbot, Text2SQL"
   ]
  },
  {
   "cell_type": "code",
   "execution_count": 4,
   "metadata": {},
   "outputs": [],
   "source": [
    "from agent.const import (\n",
    "    ChatConfig,\n",
    "    Text2SQLConfig,\n",
    "    GEMINI_FAST_CONFIG,\n",
    "    TEXT2SQL_MEDIUM_OPENAI_CONFIG,\n",
    "    TEXT2SQL_MEDIUM_GEMINI_CONFIG,\n",
    "    TEXT2SQL_FASTEST_CONFIG,\n",
    "    TEXT2SQL_SWEET_SPOT_CONFIG\n",
    ")\n",
    "\n",
    "from agent.prompt.prompt_controller import (\n",
    "    PromptConfig, \n",
    "    VERTICAL_PROMPT_BASE, \n",
    "    VERTICAL_PROMPT_UNIVERSAL,\n",
    "    HORIZONTAL_PROMPT_BASE,\n",
    "    HORIZONTAL_PROMPT_UNIVERSAL\n",
    ")"
   ]
  },
  {
   "cell_type": "code",
   "execution_count": 5,
   "metadata": {},
   "outputs": [],
   "source": [
    "from ETL.dbmanager.setup import (\n",
    "    DBConfig,\n",
    "    BGE_VERTICAL_BASE_CONFIG,\n",
    "    BGE_VERTICAL_UNIVERSAL_CONFIG,\n",
    "    BGE_HORIZONTAL_BASE_CONFIG,\n",
    "    setup_db\n",
    ")\n",
    "\n",
    "from langchain_huggingface import HuggingFaceEmbeddings\n",
    "import json\n",
    "import torch\n",
    "\n",
    "import logging\n",
    "logging.basicConfig(\n",
    "    level=logging.INFO,\n",
    "    format='%(asctime)s - %(levelname)s - %(message)s'\n",
    ")"
   ]
  },
  {
   "cell_type": "code",
   "execution_count": 6,
   "metadata": {},
   "outputs": [],
   "source": [
    "db_config = DBConfig(**BGE_VERTICAL_UNIVERSAL_CONFIG)\n",
    "chat_config = ChatConfig(**GEMINI_FAST_CONFIG)\n",
    "text2sql_config = Text2SQLConfig(**TEXT2SQL_MEDIUM_OPENAI_CONFIG)\n",
    "prompt_config = PromptConfig(**VERTICAL_PROMPT_UNIVERSAL)"
   ]
  },
  {
   "cell_type": "code",
   "execution_count": 7,
   "metadata": {},
   "outputs": [
    {
     "name": "stderr",
     "output_type": "stream",
     "text": [
      "2024-12-18 13:33:41,979 - INFO - PyTorch version 2.2.0+cu121 available.\n",
      "2024-12-18 13:33:41,982 - INFO - TensorFlow version 2.10.1 available.\n",
      "2024-12-18 13:33:42,538 - INFO - Load pretrained SentenceTransformer: BAAI/bge-small-en-v1.5\n",
      "2024-12-18 13:33:47,071 - INFO - Anonymized telemetry enabled. See                     https://docs.trychroma.com/telemetry for more information.\n"
     ]
    },
    {
     "name": "stdout",
     "output_type": "stream",
     "text": [
      "test_db\n"
     ]
    },
    {
     "name": "stderr",
     "output_type": "stream",
     "text": [
      "2024-12-18 13:33:47,261 - INFO - Finish setup for Vertical Universal\n"
     ]
    }
   ],
   "source": [
    "device = torch.device('cuda' if torch.cuda.is_available() else 'cpu')\n",
    "embedding_model = HuggingFaceEmbeddings(model_name='BAAI/bge-small-en-v1.5', model_kwargs = {'device': device})\n",
    "db_config.embedding = embedding_model\n",
    "\n",
    "db = setup_db(db_config)\n",
    "text2sql = Text2SQL(config = text2sql_config, prompt_config=prompt_config, db = db, max_steps=2)"
   ]
  },
  {
   "cell_type": "code",
   "execution_count": 8,
   "metadata": {},
   "outputs": [],
   "source": [
    "chatbot = Chatbot(config = chat_config, text2sql = text2sql)"
   ]
  },
  {
   "cell_type": "code",
   "execution_count": null,
   "metadata": {},
   "outputs": [],
   "source": []
  }
 ],
 "metadata": {
  "kernelspec": {
   "display_name": "Python 3",
   "language": "python",
   "name": "python3"
  },
  "language_info": {
   "codemirror_mode": {
    "name": "ipython",
    "version": 3
   },
   "file_extension": ".py",
   "mimetype": "text/x-python",
   "name": "python",
   "nbconvert_exporter": "python",
   "pygments_lexer": "ipython3",
   "version": "3.10.11"
  }
 },
 "nbformat": 4,
 "nbformat_minor": 2
}
